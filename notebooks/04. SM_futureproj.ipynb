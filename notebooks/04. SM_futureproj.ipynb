{
 "cells": [
  {
   "cell_type": "code",
   "execution_count": 1,
   "metadata": {},
   "outputs": [],
   "source": [
    "import pandas as pd\n",
    "import os\n",
    "os.environ['USE_PYGEOS'] = '0'\n",
    "import geopandas as gpd\n",
    "import numpy as np\n",
    "import sys\n",
    "\n",
    "sys.path.append(r'P:\\1000545-054-globalbeaches\\15_GlobalCoastalAtlas\\global-coastal-atlas\\notebooks\\01. utils')\n",
    "\n",
    "from plot_funcs import future_shorelinepositions\n"
   ]
  },
  {
   "cell_type": "code",
   "execution_count": 2,
   "metadata": {},
   "outputs": [
    {
     "data": {
      "text/plain": [
       "Index(['transect_id', 'country_id', 'continent', 'country_name', 'changerate',\n",
       "       'changerate_unc', 'flag_sandy', 'no_shorelines', 'dt', 'dist', 'RMSE',\n",
       "       'outliers_1', 'outliers_2', 'Timespan', 'intercept', 'intercept_unc',\n",
       "       'Start_lon', 'Start_lat', 'Intersect_lon', 'Intersect_lat', 'End_lon',\n",
       "       'End_lat', 'coastline_idint', 'no_sedcomp', 'low_detect_shlines',\n",
       "       'err_changerate', 'err_timespan', 'geometry'],\n",
       "      dtype='object')"
      ]
     },
     "execution_count": 2,
     "metadata": {},
     "output_type": "execute_result"
    }
   ],
   "source": [
    "# load in and keep only sandy transects\n",
    "path_annual = r'P:\\1000545-054-globalbeaches\\03_Global_shorelines_update_2020\\Transect_Mapping\\Version_16102018\\CSV\\ShorelineMonitor_1984_2021_v1.5_set1.csv'\n",
    "df_annual = pd.read_csv(path_annual)\n",
    "df_annual = df_annual[df_annual['flag_sandy'] == True]\n",
    "\n",
    "df_annual = gpd.GeoDataFrame(df_annual, geometry= gpd.points_from_xy(df_annual.Intersect_lon, df_annual.Intersect_lat)).set_crs('epsg:3587')\n",
    "df_annual = df_annual.to_crs('+proj=wintri')\n",
    "\n",
    "df_annual.columns"
   ]
  },
  {
   "attachments": {},
   "cell_type": "markdown",
   "metadata": {},
   "source": [
    "#### GHG emmisions (Vousdoukas, 2021)"
   ]
  },
  {
   "cell_type": "code",
   "execution_count": 3,
   "metadata": {},
   "outputs": [
    {
     "data": {
      "text/html": [
       "<div>\n",
       "<style scoped>\n",
       "    .dataframe tbody tr th:only-of-type {\n",
       "        vertical-align: middle;\n",
       "    }\n",
       "\n",
       "    .dataframe tbody tr th {\n",
       "        vertical-align: top;\n",
       "    }\n",
       "\n",
       "    .dataframe thead th {\n",
       "        text-align: right;\n",
       "    }\n",
       "</style>\n",
       "<table border=\"1\" class=\"dataframe\">\n",
       "  <thead>\n",
       "    <tr style=\"text-align: right;\">\n",
       "      <th></th>\n",
       "      <th>latitude</th>\n",
       "      <th>longitude</th>\n",
       "      <th>p1_45_2050</th>\n",
       "      <th>p5_45_2050</th>\n",
       "      <th>p17_45_2050</th>\n",
       "      <th>p50_45_2050</th>\n",
       "      <th>p83_45_2050</th>\n",
       "      <th>p95_45_2050</th>\n",
       "      <th>p99_45_2050</th>\n",
       "    </tr>\n",
       "  </thead>\n",
       "  <tbody>\n",
       "    <tr>\n",
       "      <th>0</th>\n",
       "      <td>-50.378</td>\n",
       "      <td>-74.386</td>\n",
       "      <td>-2.0775</td>\n",
       "      <td>-1.6823</td>\n",
       "      <td>-1.2463</td>\n",
       "      <td>-0.744</td>\n",
       "      <td>-0.33039</td>\n",
       "      <td>-0.18465</td>\n",
       "      <td>-0.13225</td>\n",
       "    </tr>\n",
       "    <tr>\n",
       "      <th>1</th>\n",
       "      <td>-50.386</td>\n",
       "      <td>-74.303</td>\n",
       "      <td>-2.0773</td>\n",
       "      <td>-1.6899</td>\n",
       "      <td>-1.2751</td>\n",
       "      <td>-0.744</td>\n",
       "      <td>-0.34310</td>\n",
       "      <td>-0.18249</td>\n",
       "      <td>-0.12239</td>\n",
       "    </tr>\n",
       "  </tbody>\n",
       "</table>\n",
       "</div>"
      ],
      "text/plain": [
       "   latitude  longitude  p1_45_2050  p5_45_2050  p17_45_2050  p50_45_2050  \\\n",
       "0   -50.378    -74.386     -2.0775     -1.6823      -1.2463       -0.744   \n",
       "1   -50.386    -74.303     -2.0773     -1.6899      -1.2751       -0.744   \n",
       "\n",
       "   p83_45_2050  p95_45_2050  p99_45_2050  \n",
       "0     -0.33039     -0.18465     -0.13225  \n",
       "1     -0.34310     -0.18249     -0.12239  "
      ]
     },
     "execution_count": 3,
     "metadata": {},
     "output_type": "execute_result"
    }
   ],
   "source": [
    "basepath_vous = r'P:\\1000545-054-globalbeaches\\01_Global_Future_Shorelines\\globalErosionProjectionsDataset_linear'\n",
    "\n",
    "#RCP4.5 2050\n",
    "df_vous_45_2050 = pd.read_csv(os.path.join(basepath_vous, 'globalErosionProjections_SLR_Retreat_RCP45_2050.csv'), header= None)\n",
    "df_vous_45_2050 = df_vous_45_2050.rename(columns= {0: 'latitude', 1: 'longitude', 2: 'p1_45_2050', 3: 'p5_45_2050', \n",
    "                                                   4: 'p17_45_2050', 5: 'p50_45_2050', 6: 'p83_45_2050', 7: \n",
    "                                                   'p95_45_2050', 8: 'p99_45_2050'})\n",
    "df_vous_45_2050 = df_vous_45_2050.drop_duplicates(subset= ['latitude', 'longitude'], keep = 'first')\n",
    "\n",
    "#RCP4.5 2100\n",
    "df_vous_45_2100 = pd.read_csv(os.path.join(basepath_vous, 'globalErosionProjections_SLR_Retreat_RCP45_2100.csv'), header= None)\n",
    "df_vous_45_2100 = df_vous_45_2100.rename(columns= {0: 'latitude', 1: 'longitude', 2: 'p1_45_2100', 3: 'p5_45_2100', \n",
    "                                                   4: 'p17_45_2100', 5: 'p50_45_2100', 6: 'p83_45_2100', 7: \n",
    "                                                   'p95_45_2100', 8: 'p99_45_2100'})\n",
    "df_vous_45_2100 = df_vous_45_2100.drop_duplicates(subset= ['latitude', 'longitude'], keep = 'first')\n",
    "\n",
    "#RCP8.5 2050\n",
    "df_vous_85_2050 = pd.read_csv(os.path.join(basepath_vous, 'globalErosionProjections_SLR_Retreat_RCP85_2050.csv'), header= None)\n",
    "df_vous_85_2050 = df_vous_85_2050.rename(columns= {0: 'latitude', 1: 'longitude', 2: 'p1_85_2050', 3: 'p5_85_2050', \n",
    "                                                   4: 'p17_85_2050', 5: 'p50_85_2050', 6: 'p83_85_2050', 7: \n",
    "                                                   'p95_85_2050', 8: 'p99_85_2050'})\n",
    "df_vous_85_2050 = df_vous_85_2050.drop_duplicates(subset= ['latitude', 'longitude'], keep = 'first')\n",
    "\n",
    "#RCP8.5 2100\n",
    "df_vous_85_2100 = pd.read_csv(os.path.join(basepath_vous, 'globalErosionProjections_SLR_Retreat_RCP85_2100.csv'), header= None)\n",
    "df_vous_85_2100 = df_vous_85_2100.rename(columns= {0: 'latitude', 1: 'longitude', 2: 'p1_85_2100', 3: 'p5_85_2100', \n",
    "                                                   4: 'p17_85_2100', 5: 'p50_85_2100', 6: 'p83_85_2100', 7: \n",
    "                                                   'p95_85_2100', 8: 'p99_85_2100'})\n",
    "df_vous_85_2100 = df_vous_85_2100.drop_duplicates(subset= ['latitude', 'longitude'], keep = 'first')\n",
    "\n",
    "df_vous_45_2050.head(2)"
   ]
  },
  {
   "cell_type": "code",
   "execution_count": 4,
   "metadata": {},
   "outputs": [
    {
     "data": {
      "text/plain": [
       "[set(), set(), set()]"
      ]
     },
     "execution_count": 4,
     "metadata": {},
     "output_type": "execute_result"
    }
   ],
   "source": [
    "[set(df_vous_45_2050['latitude']).difference(x) for x in [set(df_vous_45_2100['latitude']), set(df_vous_85_2050['latitude']), set(df_vous_85_2100['latitude'])]]\n"
   ]
  },
  {
   "cell_type": "code",
   "execution_count": 5,
   "metadata": {},
   "outputs": [],
   "source": [
    "dfs_vous = [df_vous_45_2100, df_vous_85_2050, df_vous_85_2100]\n",
    "\n",
    "df_vous = df_vous_45_2050.copy()\n",
    "for dfv in dfs_vous:\n",
    "    df_vous = df_vous.merge(dfv, on = ['latitude', 'longitude'], how = 'left')\n",
    "\n",
    "assert len(df_vous_45_2050) == len(df_vous)"
   ]
  },
  {
   "cell_type": "code",
   "execution_count": 6,
   "metadata": {},
   "outputs": [],
   "source": [
    "gdf_vous = gpd.GeoDataFrame(df_vous, geometry= gpd.points_from_xy(df_vous.longitude, df_vous_85_2100.latitude)).set_crs('epsg:3587')\n",
    "gdf_vous = gdf_vous.to_crs('+proj=wintri')"
   ]
  },
  {
   "attachments": {},
   "cell_type": "markdown",
   "metadata": {},
   "source": [
    "##### Spatial Join on nearest transect"
   ]
  },
  {
   "cell_type": "code",
   "execution_count": 7,
   "metadata": {},
   "outputs": [
    {
     "data": {
      "text/html": [
       "<div>\n",
       "<style scoped>\n",
       "    .dataframe tbody tr th:only-of-type {\n",
       "        vertical-align: middle;\n",
       "    }\n",
       "\n",
       "    .dataframe tbody tr th {\n",
       "        vertical-align: top;\n",
       "    }\n",
       "\n",
       "    .dataframe thead th {\n",
       "        text-align: right;\n",
       "    }\n",
       "</style>\n",
       "<table border=\"1\" class=\"dataframe\">\n",
       "  <thead>\n",
       "    <tr style=\"text-align: right;\">\n",
       "      <th></th>\n",
       "      <th>transect_id</th>\n",
       "      <th>country_id</th>\n",
       "      <th>continent</th>\n",
       "      <th>country_name</th>\n",
       "      <th>changerate</th>\n",
       "      <th>changerate_unc</th>\n",
       "      <th>flag_sandy</th>\n",
       "      <th>no_shorelines</th>\n",
       "      <th>dt</th>\n",
       "      <th>dist</th>\n",
       "      <th>...</th>\n",
       "      <th>p83_85_2050</th>\n",
       "      <th>p95_85_2050</th>\n",
       "      <th>p99_85_2050</th>\n",
       "      <th>p1_85_2100</th>\n",
       "      <th>p5_85_2100</th>\n",
       "      <th>p17_85_2100</th>\n",
       "      <th>p50_85_2100</th>\n",
       "      <th>p83_85_2100</th>\n",
       "      <th>p95_85_2100</th>\n",
       "      <th>p99_85_2100</th>\n",
       "    </tr>\n",
       "  </thead>\n",
       "  <tbody>\n",
       "    <tr>\n",
       "      <th>0</th>\n",
       "      <td>BOX_028_183_0</td>\n",
       "      <td>CHL</td>\n",
       "      <td>South America</td>\n",
       "      <td>Chile</td>\n",
       "      <td>14.088576</td>\n",
       "      <td>1.503763</td>\n",
       "      <td>True</td>\n",
       "      <td>8.0</td>\n",
       "      <td>[14.0, 16.0, 19.0, 20.0, 22.0, 30.0, 32.0, 35.0]</td>\n",
       "      <td>[242.54210813082503, 300.2922429940901, 346.20...</td>\n",
       "      <td>...</td>\n",
       "      <td>-0.43175</td>\n",
       "      <td>-0.18851</td>\n",
       "      <td>-0.13284</td>\n",
       "      <td>-10.256</td>\n",
       "      <td>-7.5430</td>\n",
       "      <td>-5.0821</td>\n",
       "      <td>-3.0889</td>\n",
       "      <td>-1.3752</td>\n",
       "      <td>-0.5325</td>\n",
       "      <td>-0.33707</td>\n",
       "    </tr>\n",
       "    <tr>\n",
       "      <th>92</th>\n",
       "      <td>BOX_028_183_92</td>\n",
       "      <td>CHL</td>\n",
       "      <td>South America</td>\n",
       "      <td>Chile</td>\n",
       "      <td>0.268190</td>\n",
       "      <td>0.211186</td>\n",
       "      <td>True</td>\n",
       "      <td>23.0</td>\n",
       "      <td>[0.0, 2.0, 14.0, 15.0, 16.0, 17.0, 18.0, 19.0,...</td>\n",
       "      <td>[497.26072058508424, 515.0110199065714, 491.85...</td>\n",
       "      <td>...</td>\n",
       "      <td>-0.41085</td>\n",
       "      <td>-0.19593</td>\n",
       "      <td>-0.11579</td>\n",
       "      <td>-10.336</td>\n",
       "      <td>-7.6664</td>\n",
       "      <td>-5.1196</td>\n",
       "      <td>-3.0889</td>\n",
       "      <td>-1.2488</td>\n",
       "      <td>-0.5106</td>\n",
       "      <td>-0.25198</td>\n",
       "    </tr>\n",
       "  </tbody>\n",
       "</table>\n",
       "<p>2 rows × 59 columns</p>\n",
       "</div>"
      ],
      "text/plain": [
       "       transect_id country_id      continent country_name  changerate  \\\n",
       "0    BOX_028_183_0        CHL  South America        Chile   14.088576   \n",
       "92  BOX_028_183_92        CHL  South America        Chile    0.268190   \n",
       "\n",
       "    changerate_unc  flag_sandy  no_shorelines  \\\n",
       "0         1.503763        True            8.0   \n",
       "92        0.211186        True           23.0   \n",
       "\n",
       "                                                   dt  \\\n",
       "0    [14.0, 16.0, 19.0, 20.0, 22.0, 30.0, 32.0, 35.0]   \n",
       "92  [0.0, 2.0, 14.0, 15.0, 16.0, 17.0, 18.0, 19.0,...   \n",
       "\n",
       "                                                 dist  ...  p83_85_2050  \\\n",
       "0   [242.54210813082503, 300.2922429940901, 346.20...  ...     -0.43175   \n",
       "92  [497.26072058508424, 515.0110199065714, 491.85...  ...     -0.41085   \n",
       "\n",
       "   p95_85_2050 p99_85_2050  p1_85_2100  p5_85_2100  p17_85_2100  p50_85_2100  \\\n",
       "0     -0.18851    -0.13284     -10.256     -7.5430      -5.0821      -3.0889   \n",
       "92    -0.19593    -0.11579     -10.336     -7.6664      -5.1196      -3.0889   \n",
       "\n",
       "    p83_85_2100  p95_85_2100  p99_85_2100  \n",
       "0       -1.3752      -0.5325     -0.33707  \n",
       "92      -1.2488      -0.5106     -0.25198  \n",
       "\n",
       "[2 rows x 59 columns]"
      ]
     },
     "execution_count": 7,
     "metadata": {},
     "output_type": "execute_result"
    }
   ],
   "source": [
    "gdf_vous_join = df_annual.sjoin_nearest(gdf_vous, how = 'left', max_distance = 1000)\n",
    "gdf_vous_join.head(2)\n"
   ]
  },
  {
   "cell_type": "code",
   "execution_count": 8,
   "metadata": {},
   "outputs": [],
   "source": [
    "def future_timeseries(a, b, cor_2050, cor_2100):\n",
    "    a = 0\n",
    "    #dt = np.arange(1984, 2101, 1)\n",
    "\n",
    "    y2021 = a + (2021 - 1984) * b\n",
    "    y2050 = a + (2050 - 1984) * b + cor_2050\n",
    "    y2100 = a + (2100 - 1984) * b + cor_2100\n",
    "\n",
    "    #s = pd.Series(index = dt, dtype='float64')\n",
    "    # s.loc[1984] = a\n",
    "    # s.loc[2021] = y2021\n",
    "    # s.loc[2050] = y2050\n",
    "    # s.loc[2100] = y2100\n",
    "\n",
    "    y = [a, y2021, y2050, y2100]\n",
    "    #s = s.interpolate(method = 'index').values\n",
    "\n",
    "    return y"
   ]
  },
  {
   "cell_type": "code",
   "execution_count": 9,
   "metadata": {},
   "outputs": [],
   "source": [
    "# AMBIENT\n",
    "gdf_vous_join['Ambient'] = gdf_vous_join.apply(lambda row: future_timeseries(row.intercept, row.changerate, 0, 0), axis = 1)\n",
    "\n",
    "# RCP4.5\n",
    "gdf_vous_join['RCP4.5_p5'] = gdf_vous_join.apply(lambda row: future_timeseries(row.intercept, row.changerate, row.p5_45_2050, row.p5_45_2100), axis = 1)\n",
    "gdf_vous_join['RCP4.5_p50'] = gdf_vous_join.apply(lambda row: future_timeseries(row.intercept, row.changerate, row.p50_45_2050, row.p50_45_2100), axis = 1)\n",
    "gdf_vous_join['RCP4.5_p95'] = gdf_vous_join.apply(lambda row: future_timeseries(row.intercept, row.changerate, row.p95_45_2050, row.p95_45_2100), axis = 1)\n",
    "\n",
    "# RCP8.5\n",
    "gdf_vous_join['RCP8.5_p5'] = gdf_vous_join.apply(lambda row: future_timeseries(row.intercept, row.changerate, row.p5_85_2050, row.p5_85_2100), axis = 1)\n",
    "gdf_vous_join['RCP8.5_p50'] = gdf_vous_join.apply(lambda row: future_timeseries(row.intercept, row.changerate, row.p50_85_2050, row.p50_85_2100), axis = 1)\n",
    "gdf_vous_join['RCP8.5_p95'] = gdf_vous_join.apply(lambda row: future_timeseries(row.intercept, row.changerate, row.p95_85_2050, row.p95_85_2100), axis = 1)"
   ]
  },
  {
   "cell_type": "code",
   "execution_count": 10,
   "metadata": {},
   "outputs": [
    {
     "data": {
      "text/html": [
       "<div>\n",
       "<style scoped>\n",
       "    .dataframe tbody tr th:only-of-type {\n",
       "        vertical-align: middle;\n",
       "    }\n",
       "\n",
       "    .dataframe tbody tr th {\n",
       "        vertical-align: top;\n",
       "    }\n",
       "\n",
       "    .dataframe thead th {\n",
       "        text-align: right;\n",
       "    }\n",
       "</style>\n",
       "<table border=\"1\" class=\"dataframe\">\n",
       "  <thead>\n",
       "    <tr style=\"text-align: right;\">\n",
       "      <th></th>\n",
       "      <th>transect_id</th>\n",
       "      <th>country_id</th>\n",
       "      <th>continent</th>\n",
       "      <th>country_name</th>\n",
       "      <th>changerate</th>\n",
       "      <th>changerate_unc</th>\n",
       "      <th>flag_sandy</th>\n",
       "      <th>no_shorelines</th>\n",
       "      <th>dt</th>\n",
       "      <th>dist</th>\n",
       "      <th>...</th>\n",
       "      <th>p83_85_2100</th>\n",
       "      <th>p95_85_2100</th>\n",
       "      <th>p99_85_2100</th>\n",
       "      <th>Ambient</th>\n",
       "      <th>RCP4.5_p5</th>\n",
       "      <th>RCP4.5_p50</th>\n",
       "      <th>RCP4.5_p95</th>\n",
       "      <th>RCP8.5_p5</th>\n",
       "      <th>RCP8.5_p50</th>\n",
       "      <th>RCP8.5_p95</th>\n",
       "    </tr>\n",
       "  </thead>\n",
       "  <tbody>\n",
       "    <tr>\n",
       "      <th>0</th>\n",
       "      <td>BOX_028_183_0</td>\n",
       "      <td>CHL</td>\n",
       "      <td>South America</td>\n",
       "      <td>Chile</td>\n",
       "      <td>14.088576</td>\n",
       "      <td>1.503763</td>\n",
       "      <td>True</td>\n",
       "      <td>8.0</td>\n",
       "      <td>[14.0, 16.0, 19.0, 20.0, 22.0, 30.0, 32.0, 35.0]</td>\n",
       "      <td>[242.54210813082503, 300.2922429940901, 346.20...</td>\n",
       "      <td>...</td>\n",
       "      <td>-1.3752</td>\n",
       "      <td>-0.5325</td>\n",
       "      <td>-0.33707</td>\n",
       "      <td>[0, 521.2772969558748, 929.8459891645335, 1634...</td>\n",
       "      <td>[0, 521.2772969558748, 928.1636891645335, 1630...</td>\n",
       "      <td>[0, 521.2772969558748, 929.1019891645335, 1632...</td>\n",
       "      <td>[0, 521.2772969558748, 929.6613391645335, 1633...</td>\n",
       "      <td>[0, 521.2772969558748, 927.8591891645335, 1626...</td>\n",
       "      <td>[0, 521.2772969558748, 928.9111091645335, 1631...</td>\n",
       "      <td>[0, 521.2772969558748, 929.6574791645336, 1633...</td>\n",
       "    </tr>\n",
       "    <tr>\n",
       "      <th>92</th>\n",
       "      <td>BOX_028_183_92</td>\n",
       "      <td>CHL</td>\n",
       "      <td>South America</td>\n",
       "      <td>Chile</td>\n",
       "      <td>0.268190</td>\n",
       "      <td>0.211186</td>\n",
       "      <td>True</td>\n",
       "      <td>23.0</td>\n",
       "      <td>[0.0, 2.0, 14.0, 15.0, 16.0, 17.0, 18.0, 19.0,...</td>\n",
       "      <td>[497.26072058508424, 515.0110199065714, 491.85...</td>\n",
       "      <td>...</td>\n",
       "      <td>-1.2488</td>\n",
       "      <td>-0.5106</td>\n",
       "      <td>-0.25198</td>\n",
       "      <td>[0, 9.923013636010973, 17.700510810181736, 31....</td>\n",
       "      <td>[0, 9.923013636010973, 16.010610810181735, 26....</td>\n",
       "      <td>[0, 9.923013636010973, 16.956510810181737, 29....</td>\n",
       "      <td>[0, 9.923013636010973, 17.518020810181735, 30....</td>\n",
       "      <td>[0, 9.923013636010973, 15.752910810181737, 23....</td>\n",
       "      <td>[0, 9.923013636010973, 16.765630810181737, 28....</td>\n",
       "      <td>[0, 9.923013636010973, 17.504580810181736, 30....</td>\n",
       "    </tr>\n",
       "  </tbody>\n",
       "</table>\n",
       "<p>2 rows × 66 columns</p>\n",
       "</div>"
      ],
      "text/plain": [
       "       transect_id country_id      continent country_name  changerate  \\\n",
       "0    BOX_028_183_0        CHL  South America        Chile   14.088576   \n",
       "92  BOX_028_183_92        CHL  South America        Chile    0.268190   \n",
       "\n",
       "    changerate_unc  flag_sandy  no_shorelines  \\\n",
       "0         1.503763        True            8.0   \n",
       "92        0.211186        True           23.0   \n",
       "\n",
       "                                                   dt  \\\n",
       "0    [14.0, 16.0, 19.0, 20.0, 22.0, 30.0, 32.0, 35.0]   \n",
       "92  [0.0, 2.0, 14.0, 15.0, 16.0, 17.0, 18.0, 19.0,...   \n",
       "\n",
       "                                                 dist  ...  p83_85_2100  \\\n",
       "0   [242.54210813082503, 300.2922429940901, 346.20...  ...      -1.3752   \n",
       "92  [497.26072058508424, 515.0110199065714, 491.85...  ...      -1.2488   \n",
       "\n",
       "   p95_85_2100 p99_85_2100                                            Ambient  \\\n",
       "0      -0.5325    -0.33707  [0, 521.2772969558748, 929.8459891645335, 1634...   \n",
       "92     -0.5106    -0.25198  [0, 9.923013636010973, 17.700510810181736, 31....   \n",
       "\n",
       "                                            RCP4.5_p5  \\\n",
       "0   [0, 521.2772969558748, 928.1636891645335, 1630...   \n",
       "92  [0, 9.923013636010973, 16.010610810181735, 26....   \n",
       "\n",
       "                                           RCP4.5_p50  \\\n",
       "0   [0, 521.2772969558748, 929.1019891645335, 1632...   \n",
       "92  [0, 9.923013636010973, 16.956510810181737, 29....   \n",
       "\n",
       "                                           RCP4.5_p95  \\\n",
       "0   [0, 521.2772969558748, 929.6613391645335, 1633...   \n",
       "92  [0, 9.923013636010973, 17.518020810181735, 30....   \n",
       "\n",
       "                                            RCP8.5_p5  \\\n",
       "0   [0, 521.2772969558748, 927.8591891645335, 1626...   \n",
       "92  [0, 9.923013636010973, 15.752910810181737, 23....   \n",
       "\n",
       "                                           RCP8.5_p50  \\\n",
       "0   [0, 521.2772969558748, 928.9111091645335, 1631...   \n",
       "92  [0, 9.923013636010973, 16.765630810181737, 28....   \n",
       "\n",
       "                                           RCP8.5_p95  \n",
       "0   [0, 521.2772969558748, 929.6574791645336, 1633...  \n",
       "92  [0, 9.923013636010973, 17.504580810181736, 30....  \n",
       "\n",
       "[2 rows x 66 columns]"
      ]
     },
     "execution_count": 10,
     "metadata": {},
     "output_type": "execute_result"
    }
   ],
   "source": [
    "gdf_vous_join.head(2)"
   ]
  },
  {
   "cell_type": "code",
   "execution_count": 11,
   "metadata": {},
   "outputs": [
    {
     "data": {
      "text/plain": [
       "Index(['transect_id', 'country_id', 'continent', 'country_name', 'changerate',\n",
       "       'changerate_unc', 'flag_sandy', 'no_shorelines', 'dt', 'dist', 'RMSE',\n",
       "       'outliers_1', 'outliers_2', 'Timespan', 'intercept', 'intercept_unc',\n",
       "       'Start_lon', 'Start_lat', 'Intersect_lon', 'Intersect_lat', 'End_lon',\n",
       "       'End_lat', 'coastline_idint', 'no_sedcomp', 'low_detect_shlines',\n",
       "       'err_changerate', 'err_timespan', 'geometry', 'index_right', 'latitude',\n",
       "       'longitude', 'p1_45_2050', 'p5_45_2050', 'p17_45_2050', 'p50_45_2050',\n",
       "       'p83_45_2050', 'p95_45_2050', 'p99_45_2050', 'p1_45_2100', 'p5_45_2100',\n",
       "       'p17_45_2100', 'p50_45_2100', 'p83_45_2100', 'p95_45_2100',\n",
       "       'p99_45_2100', 'p1_85_2050', 'p5_85_2050', 'p17_85_2050', 'p50_85_2050',\n",
       "       'p83_85_2050', 'p95_85_2050', 'p99_85_2050', 'p1_85_2100', 'p5_85_2100',\n",
       "       'p17_85_2100', 'p50_85_2100', 'p83_85_2100', 'p95_85_2100',\n",
       "       'p99_85_2100', 'Ambient', 'RCP4.5_p5', 'RCP4.5_p50', 'RCP4.5_p95',\n",
       "       'RCP8.5_p5', 'RCP8.5_p50', 'RCP8.5_p95'],\n",
       "      dtype='object')"
      ]
     },
     "execution_count": 11,
     "metadata": {},
     "output_type": "execute_result"
    }
   ],
   "source": [
    "gdf_vous_join.columns"
   ]
  },
  {
   "cell_type": "code",
   "execution_count": 12,
   "metadata": {},
   "outputs": [],
   "source": [
    "# gdf_vous_join = gdf_vous_join[['transect_id', 'country_id', 'continent', 'country_name',\n",
    "#                                 'Ambient', 'RCP4.5_p5', 'RCP4.5_p50', 'RCP4.5_p95', 'RCP8.5_p5', \n",
    "#                                 'RCP8.5_p50', 'RCP8.5_p95']]"
   ]
  },
  {
   "cell_type": "code",
   "execution_count": 13,
   "metadata": {},
   "outputs": [
    {
     "data": {
      "text/html": [
       "<div>\n",
       "<style scoped>\n",
       "    .dataframe tbody tr th:only-of-type {\n",
       "        vertical-align: middle;\n",
       "    }\n",
       "\n",
       "    .dataframe tbody tr th {\n",
       "        vertical-align: top;\n",
       "    }\n",
       "\n",
       "    .dataframe thead th {\n",
       "        text-align: right;\n",
       "    }\n",
       "</style>\n",
       "<table border=\"1\" class=\"dataframe\">\n",
       "  <thead>\n",
       "    <tr style=\"text-align: right;\">\n",
       "      <th></th>\n",
       "      <th>transect_id</th>\n",
       "      <th>country_id</th>\n",
       "      <th>continent</th>\n",
       "      <th>country_name</th>\n",
       "      <th>changerate</th>\n",
       "      <th>changerate_unc</th>\n",
       "      <th>flag_sandy</th>\n",
       "      <th>no_shorelines</th>\n",
       "      <th>dt</th>\n",
       "      <th>dist</th>\n",
       "      <th>...</th>\n",
       "      <th>p83_85_2100</th>\n",
       "      <th>p95_85_2100</th>\n",
       "      <th>p99_85_2100</th>\n",
       "      <th>Ambient</th>\n",
       "      <th>RCP4.5_p5</th>\n",
       "      <th>RCP4.5_p50</th>\n",
       "      <th>RCP4.5_p95</th>\n",
       "      <th>RCP8.5_p5</th>\n",
       "      <th>RCP8.5_p50</th>\n",
       "      <th>RCP8.5_p95</th>\n",
       "    </tr>\n",
       "  </thead>\n",
       "  <tbody>\n",
       "    <tr>\n",
       "      <th>0</th>\n",
       "      <td>BOX_028_183_0</td>\n",
       "      <td>CHL</td>\n",
       "      <td>South America</td>\n",
       "      <td>Chile</td>\n",
       "      <td>14.088576</td>\n",
       "      <td>1.503763</td>\n",
       "      <td>True</td>\n",
       "      <td>8.0</td>\n",
       "      <td>[14.0, 16.0, 19.0, 20.0, 22.0, 30.0, 32.0, 35.0]</td>\n",
       "      <td>[242.54210813082503, 300.2922429940901, 346.20...</td>\n",
       "      <td>...</td>\n",
       "      <td>-1.3752</td>\n",
       "      <td>-0.53250</td>\n",
       "      <td>-0.33707</td>\n",
       "      <td>[0, 521.2772969558748, 929.8459891645335, 1634...</td>\n",
       "      <td>[0, 521.2772969558748, 928.1636891645335, 1630...</td>\n",
       "      <td>[0, 521.2772969558748, 929.1019891645335, 1632...</td>\n",
       "      <td>[0, 521.2772969558748, 929.6613391645335, 1633...</td>\n",
       "      <td>[0, 521.2772969558748, 927.8591891645335, 1626...</td>\n",
       "      <td>[0, 521.2772969558748, 928.9111091645335, 1631...</td>\n",
       "      <td>[0, 521.2772969558748, 929.6574791645336, 1633...</td>\n",
       "    </tr>\n",
       "    <tr>\n",
       "      <th>92</th>\n",
       "      <td>BOX_028_183_92</td>\n",
       "      <td>CHL</td>\n",
       "      <td>South America</td>\n",
       "      <td>Chile</td>\n",
       "      <td>0.268190</td>\n",
       "      <td>0.211186</td>\n",
       "      <td>True</td>\n",
       "      <td>23.0</td>\n",
       "      <td>[0.0, 2.0, 14.0, 15.0, 16.0, 17.0, 18.0, 19.0,...</td>\n",
       "      <td>[497.26072058508424, 515.0110199065714, 491.85...</td>\n",
       "      <td>...</td>\n",
       "      <td>-1.2488</td>\n",
       "      <td>-0.51060</td>\n",
       "      <td>-0.25198</td>\n",
       "      <td>[0, 9.923013636010973, 17.700510810181736, 31....</td>\n",
       "      <td>[0, 9.923013636010973, 16.010610810181735, 26....</td>\n",
       "      <td>[0, 9.923013636010973, 16.956510810181737, 29....</td>\n",
       "      <td>[0, 9.923013636010973, 17.518020810181735, 30....</td>\n",
       "      <td>[0, 9.923013636010973, 15.752910810181737, 23....</td>\n",
       "      <td>[0, 9.923013636010973, 16.765630810181737, 28....</td>\n",
       "      <td>[0, 9.923013636010973, 17.504580810181736, 30....</td>\n",
       "    </tr>\n",
       "    <tr>\n",
       "      <th>167</th>\n",
       "      <td>BOX_028_183_167</td>\n",
       "      <td>CHL</td>\n",
       "      <td>South America</td>\n",
       "      <td>Chile</td>\n",
       "      <td>0.174932</td>\n",
       "      <td>0.215829</td>\n",
       "      <td>True</td>\n",
       "      <td>26.0</td>\n",
       "      <td>[0.0, 2.0, 3.0, 13.0, 14.0, 16.0, 17.0, 18.0, ...</td>\n",
       "      <td>[1177.8557098851159, 1172.507897156761, 1145.0...</td>\n",
       "      <td>...</td>\n",
       "      <td>-1.3419</td>\n",
       "      <td>-0.55294</td>\n",
       "      <td>-0.32058</td>\n",
       "      <td>[0, 6.472476757604102, 11.54549908113164, 20.2...</td>\n",
       "      <td>[0, 6.472476757604102, 9.93959908113164, 16.28...</td>\n",
       "      <td>[0, 6.472476757604102, 10.80149908113164, 18.4...</td>\n",
       "      <td>[0, 6.472476757604102, 11.354499081131639, 19....</td>\n",
       "      <td>[0, 6.472476757604102, 9.546499081131639, 12.5...</td>\n",
       "      <td>[0, 6.472476757604102, 10.61062908113164, 17.2...</td>\n",
       "      <td>[0, 6.472476757604102, 11.336059081131639, 19....</td>\n",
       "    </tr>\n",
       "    <tr>\n",
       "      <th>227</th>\n",
       "      <td>BOX_028_183_227</td>\n",
       "      <td>CHL</td>\n",
       "      <td>South America</td>\n",
       "      <td>Chile</td>\n",
       "      <td>0.073707</td>\n",
       "      <td>0.137905</td>\n",
       "      <td>True</td>\n",
       "      <td>18.0</td>\n",
       "      <td>[0.0, 2.0, 14.0, 16.0, 17.0, 18.0, 21.0, 22.0,...</td>\n",
       "      <td>[663.5872380921787, 640.9231529697731, 636.764...</td>\n",
       "      <td>...</td>\n",
       "      <td>-99.4580</td>\n",
       "      <td>-59.76200</td>\n",
       "      <td>-44.52400</td>\n",
       "      <td>[0, 2.727145474595325, 4.864637873602471, 8.54...</td>\n",
       "      <td>[0, 2.727145474595325, -87.90436212639753, -22...</td>\n",
       "      <td>[0, 2.727145474595325, -39.77536212639753, -10...</td>\n",
       "      <td>[0, 2.727145474595325, -10.745362126397527, -2...</td>\n",
       "      <td>[0, 2.727145474595325, -103.60536212639752, -4...</td>\n",
       "      <td>[0, 2.727145474595325, -51.228362126397535, -1...</td>\n",
       "      <td>[0, 2.727145474595325, -14.36336212639753, -51...</td>\n",
       "    </tr>\n",
       "    <tr>\n",
       "      <th>228</th>\n",
       "      <td>BOX_028_183_228</td>\n",
       "      <td>CHL</td>\n",
       "      <td>South America</td>\n",
       "      <td>Chile</td>\n",
       "      <td>0.103907</td>\n",
       "      <td>0.198709</td>\n",
       "      <td>True</td>\n",
       "      <td>23.0</td>\n",
       "      <td>[0.0, 2.0, 14.0, 15.0, 16.0, 17.0, 18.0, 19.0,...</td>\n",
       "      <td>[617.288998904033, 608.8196241588425, 600.7101...</td>\n",
       "      <td>...</td>\n",
       "      <td>-99.4580</td>\n",
       "      <td>-59.76200</td>\n",
       "      <td>-44.52400</td>\n",
       "      <td>[0, 3.8445445286552458, 6.857836186249898, 12....</td>\n",
       "      <td>[0, 3.8445445286552458, -85.91116381375011, -2...</td>\n",
       "      <td>[0, 3.8445445286552458, -37.7821638137501, -99...</td>\n",
       "      <td>[0, 3.8445445286552458, -8.752163813750101, -2...</td>\n",
       "      <td>[0, 3.8445445286552458, -101.6121638137501, -4...</td>\n",
       "      <td>[0, 3.8445445286552458, -49.235163813750106, -...</td>\n",
       "      <td>[0, 3.8445445286552458, -12.370163813750104, -...</td>\n",
       "    </tr>\n",
       "    <tr>\n",
       "      <th>...</th>\n",
       "      <td>...</td>\n",
       "      <td>...</td>\n",
       "      <td>...</td>\n",
       "      <td>...</td>\n",
       "      <td>...</td>\n",
       "      <td>...</td>\n",
       "      <td>...</td>\n",
       "      <td>...</td>\n",
       "      <td>...</td>\n",
       "      <td>...</td>\n",
       "      <td>...</td>\n",
       "      <td>...</td>\n",
       "      <td>...</td>\n",
       "      <td>...</td>\n",
       "      <td>...</td>\n",
       "      <td>...</td>\n",
       "      <td>...</td>\n",
       "      <td>...</td>\n",
       "      <td>...</td>\n",
       "      <td>...</td>\n",
       "      <td>...</td>\n",
       "    </tr>\n",
       "    <tr>\n",
       "      <th>1837176</th>\n",
       "      <td>BOX_211_067_127</td>\n",
       "      <td>RUS</td>\n",
       "      <td>Europe</td>\n",
       "      <td>Russia</td>\n",
       "      <td>-999.000000</td>\n",
       "      <td>-999.000000</td>\n",
       "      <td>True</td>\n",
       "      <td>0.0</td>\n",
       "      <td>[]</td>\n",
       "      <td>[]</td>\n",
       "      <td>...</td>\n",
       "      <td>-112.1100</td>\n",
       "      <td>-62.10000</td>\n",
       "      <td>-50.43500</td>\n",
       "      <td>[0, -36963.0, -65934.0, -115884.0]</td>\n",
       "      <td>[0, -36963.0, -66002.77, -116036.94]</td>\n",
       "      <td>[0, -36963.0, -65969.01, -115950.982]</td>\n",
       "      <td>[0, -36963.0, -65946.07, -115907.551]</td>\n",
       "      <td>[0, -36963.0, -66079.4, -116406.37]</td>\n",
       "      <td>[0, -36963.0, -66015.27, -116104.21]</td>\n",
       "      <td>[0, -36963.0, -65958.416, -115946.1]</td>\n",
       "    </tr>\n",
       "    <tr>\n",
       "      <th>1837177</th>\n",
       "      <td>BOX_211_067_128</td>\n",
       "      <td>RUS</td>\n",
       "      <td>Europe</td>\n",
       "      <td>Russia</td>\n",
       "      <td>-999.000000</td>\n",
       "      <td>-999.000000</td>\n",
       "      <td>True</td>\n",
       "      <td>0.0</td>\n",
       "      <td>[]</td>\n",
       "      <td>[]</td>\n",
       "      <td>...</td>\n",
       "      <td>-112.1100</td>\n",
       "      <td>-62.10000</td>\n",
       "      <td>-50.43500</td>\n",
       "      <td>[0, -36963.0, -65934.0, -115884.0]</td>\n",
       "      <td>[0, -36963.0, -66002.77, -116036.94]</td>\n",
       "      <td>[0, -36963.0, -65969.01, -115950.982]</td>\n",
       "      <td>[0, -36963.0, -65946.07, -115907.551]</td>\n",
       "      <td>[0, -36963.0, -66079.4, -116406.37]</td>\n",
       "      <td>[0, -36963.0, -66015.27, -116104.21]</td>\n",
       "      <td>[0, -36963.0, -65958.416, -115946.1]</td>\n",
       "    </tr>\n",
       "    <tr>\n",
       "      <th>1837178</th>\n",
       "      <td>BOX_211_067_129</td>\n",
       "      <td>RUS</td>\n",
       "      <td>Europe</td>\n",
       "      <td>Russia</td>\n",
       "      <td>-999.000000</td>\n",
       "      <td>-999.000000</td>\n",
       "      <td>True</td>\n",
       "      <td>0.0</td>\n",
       "      <td>[]</td>\n",
       "      <td>[]</td>\n",
       "      <td>...</td>\n",
       "      <td>-112.1100</td>\n",
       "      <td>-62.10000</td>\n",
       "      <td>-50.43500</td>\n",
       "      <td>[0, -36963.0, -65934.0, -115884.0]</td>\n",
       "      <td>[0, -36963.0, -66002.77, -116036.94]</td>\n",
       "      <td>[0, -36963.0, -65969.01, -115950.982]</td>\n",
       "      <td>[0, -36963.0, -65946.07, -115907.551]</td>\n",
       "      <td>[0, -36963.0, -66079.4, -116406.37]</td>\n",
       "      <td>[0, -36963.0, -66015.27, -116104.21]</td>\n",
       "      <td>[0, -36963.0, -65958.416, -115946.1]</td>\n",
       "    </tr>\n",
       "    <tr>\n",
       "      <th>1837179</th>\n",
       "      <td>BOX_211_067_130</td>\n",
       "      <td>RUS</td>\n",
       "      <td>Europe</td>\n",
       "      <td>Russia</td>\n",
       "      <td>-999.000000</td>\n",
       "      <td>-999.000000</td>\n",
       "      <td>True</td>\n",
       "      <td>0.0</td>\n",
       "      <td>[]</td>\n",
       "      <td>[]</td>\n",
       "      <td>...</td>\n",
       "      <td>-112.1100</td>\n",
       "      <td>-62.10000</td>\n",
       "      <td>-50.43500</td>\n",
       "      <td>[0, -36963.0, -65934.0, -115884.0]</td>\n",
       "      <td>[0, -36963.0, -66002.77, -116036.94]</td>\n",
       "      <td>[0, -36963.0, -65969.01, -115950.982]</td>\n",
       "      <td>[0, -36963.0, -65946.07, -115907.551]</td>\n",
       "      <td>[0, -36963.0, -66079.4, -116406.37]</td>\n",
       "      <td>[0, -36963.0, -66015.27, -116104.21]</td>\n",
       "      <td>[0, -36963.0, -65958.416, -115946.1]</td>\n",
       "    </tr>\n",
       "    <tr>\n",
       "      <th>1837180</th>\n",
       "      <td>BOX_211_067_131</td>\n",
       "      <td>RUS</td>\n",
       "      <td>Europe</td>\n",
       "      <td>Russia</td>\n",
       "      <td>-0.123623</td>\n",
       "      <td>0.052636</td>\n",
       "      <td>True</td>\n",
       "      <td>18.0</td>\n",
       "      <td>[1.0, 3.0, 5.0, 6.0, 7.0, 15.0, 18.0, 22.0, 23...</td>\n",
       "      <td>[35.27128721864594, 30.843701027001114, 31.427...</td>\n",
       "      <td>...</td>\n",
       "      <td>-112.1100</td>\n",
       "      <td>-62.10000</td>\n",
       "      <td>-50.43500</td>\n",
       "      <td>[0, -4.574062472530811, -8.15913846451442, -14...</td>\n",
       "      <td>[0, -4.574062472530811, -76.92913846451441, -1...</td>\n",
       "      <td>[0, -4.574062472530811, -43.16913846451442, -8...</td>\n",
       "      <td>[0, -4.574062472530811, -20.22913846451442, -3...</td>\n",
       "      <td>[0, -4.574062472530811, -153.55913846451443, -...</td>\n",
       "      <td>[0, -4.574062472530811, -89.42913846451441, -2...</td>\n",
       "      <td>[0, -4.574062472530811, -32.575138464514424, -...</td>\n",
       "    </tr>\n",
       "  </tbody>\n",
       "</table>\n",
       "<p>696994 rows × 66 columns</p>\n",
       "</div>"
      ],
      "text/plain": [
       "             transect_id country_id      continent country_name  changerate  \\\n",
       "0          BOX_028_183_0        CHL  South America        Chile   14.088576   \n",
       "92        BOX_028_183_92        CHL  South America        Chile    0.268190   \n",
       "167      BOX_028_183_167        CHL  South America        Chile    0.174932   \n",
       "227      BOX_028_183_227        CHL  South America        Chile    0.073707   \n",
       "228      BOX_028_183_228        CHL  South America        Chile    0.103907   \n",
       "...                  ...        ...            ...          ...         ...   \n",
       "1837176  BOX_211_067_127        RUS         Europe       Russia -999.000000   \n",
       "1837177  BOX_211_067_128        RUS         Europe       Russia -999.000000   \n",
       "1837178  BOX_211_067_129        RUS         Europe       Russia -999.000000   \n",
       "1837179  BOX_211_067_130        RUS         Europe       Russia -999.000000   \n",
       "1837180  BOX_211_067_131        RUS         Europe       Russia   -0.123623   \n",
       "\n",
       "         changerate_unc  flag_sandy  no_shorelines  \\\n",
       "0              1.503763        True            8.0   \n",
       "92             0.211186        True           23.0   \n",
       "167            0.215829        True           26.0   \n",
       "227            0.137905        True           18.0   \n",
       "228            0.198709        True           23.0   \n",
       "...                 ...         ...            ...   \n",
       "1837176     -999.000000        True            0.0   \n",
       "1837177     -999.000000        True            0.0   \n",
       "1837178     -999.000000        True            0.0   \n",
       "1837179     -999.000000        True            0.0   \n",
       "1837180        0.052636        True           18.0   \n",
       "\n",
       "                                                        dt  \\\n",
       "0         [14.0, 16.0, 19.0, 20.0, 22.0, 30.0, 32.0, 35.0]   \n",
       "92       [0.0, 2.0, 14.0, 15.0, 16.0, 17.0, 18.0, 19.0,...   \n",
       "167      [0.0, 2.0, 3.0, 13.0, 14.0, 16.0, 17.0, 18.0, ...   \n",
       "227      [0.0, 2.0, 14.0, 16.0, 17.0, 18.0, 21.0, 22.0,...   \n",
       "228      [0.0, 2.0, 14.0, 15.0, 16.0, 17.0, 18.0, 19.0,...   \n",
       "...                                                    ...   \n",
       "1837176                                                 []   \n",
       "1837177                                                 []   \n",
       "1837178                                                 []   \n",
       "1837179                                                 []   \n",
       "1837180  [1.0, 3.0, 5.0, 6.0, 7.0, 15.0, 18.0, 22.0, 23...   \n",
       "\n",
       "                                                      dist  ...  p83_85_2100  \\\n",
       "0        [242.54210813082503, 300.2922429940901, 346.20...  ...      -1.3752   \n",
       "92       [497.26072058508424, 515.0110199065714, 491.85...  ...      -1.2488   \n",
       "167      [1177.8557098851159, 1172.507897156761, 1145.0...  ...      -1.3419   \n",
       "227      [663.5872380921787, 640.9231529697731, 636.764...  ...     -99.4580   \n",
       "228      [617.288998904033, 608.8196241588425, 600.7101...  ...     -99.4580   \n",
       "...                                                    ...  ...          ...   \n",
       "1837176                                                 []  ...    -112.1100   \n",
       "1837177                                                 []  ...    -112.1100   \n",
       "1837178                                                 []  ...    -112.1100   \n",
       "1837179                                                 []  ...    -112.1100   \n",
       "1837180  [35.27128721864594, 30.843701027001114, 31.427...  ...    -112.1100   \n",
       "\n",
       "        p95_85_2100 p99_85_2100  \\\n",
       "0          -0.53250    -0.33707   \n",
       "92         -0.51060    -0.25198   \n",
       "167        -0.55294    -0.32058   \n",
       "227       -59.76200   -44.52400   \n",
       "228       -59.76200   -44.52400   \n",
       "...             ...         ...   \n",
       "1837176   -62.10000   -50.43500   \n",
       "1837177   -62.10000   -50.43500   \n",
       "1837178   -62.10000   -50.43500   \n",
       "1837179   -62.10000   -50.43500   \n",
       "1837180   -62.10000   -50.43500   \n",
       "\n",
       "                                                   Ambient  \\\n",
       "0        [0, 521.2772969558748, 929.8459891645335, 1634...   \n",
       "92       [0, 9.923013636010973, 17.700510810181736, 31....   \n",
       "167      [0, 6.472476757604102, 11.54549908113164, 20.2...   \n",
       "227      [0, 2.727145474595325, 4.864637873602471, 8.54...   \n",
       "228      [0, 3.8445445286552458, 6.857836186249898, 12....   \n",
       "...                                                    ...   \n",
       "1837176                 [0, -36963.0, -65934.0, -115884.0]   \n",
       "1837177                 [0, -36963.0, -65934.0, -115884.0]   \n",
       "1837178                 [0, -36963.0, -65934.0, -115884.0]   \n",
       "1837179                 [0, -36963.0, -65934.0, -115884.0]   \n",
       "1837180  [0, -4.574062472530811, -8.15913846451442, -14...   \n",
       "\n",
       "                                                 RCP4.5_p5  \\\n",
       "0        [0, 521.2772969558748, 928.1636891645335, 1630...   \n",
       "92       [0, 9.923013636010973, 16.010610810181735, 26....   \n",
       "167      [0, 6.472476757604102, 9.93959908113164, 16.28...   \n",
       "227      [0, 2.727145474595325, -87.90436212639753, -22...   \n",
       "228      [0, 3.8445445286552458, -85.91116381375011, -2...   \n",
       "...                                                    ...   \n",
       "1837176               [0, -36963.0, -66002.77, -116036.94]   \n",
       "1837177               [0, -36963.0, -66002.77, -116036.94]   \n",
       "1837178               [0, -36963.0, -66002.77, -116036.94]   \n",
       "1837179               [0, -36963.0, -66002.77, -116036.94]   \n",
       "1837180  [0, -4.574062472530811, -76.92913846451441, -1...   \n",
       "\n",
       "                                                RCP4.5_p50  \\\n",
       "0        [0, 521.2772969558748, 929.1019891645335, 1632...   \n",
       "92       [0, 9.923013636010973, 16.956510810181737, 29....   \n",
       "167      [0, 6.472476757604102, 10.80149908113164, 18.4...   \n",
       "227      [0, 2.727145474595325, -39.77536212639753, -10...   \n",
       "228      [0, 3.8445445286552458, -37.7821638137501, -99...   \n",
       "...                                                    ...   \n",
       "1837176              [0, -36963.0, -65969.01, -115950.982]   \n",
       "1837177              [0, -36963.0, -65969.01, -115950.982]   \n",
       "1837178              [0, -36963.0, -65969.01, -115950.982]   \n",
       "1837179              [0, -36963.0, -65969.01, -115950.982]   \n",
       "1837180  [0, -4.574062472530811, -43.16913846451442, -8...   \n",
       "\n",
       "                                                RCP4.5_p95  \\\n",
       "0        [0, 521.2772969558748, 929.6613391645335, 1633...   \n",
       "92       [0, 9.923013636010973, 17.518020810181735, 30....   \n",
       "167      [0, 6.472476757604102, 11.354499081131639, 19....   \n",
       "227      [0, 2.727145474595325, -10.745362126397527, -2...   \n",
       "228      [0, 3.8445445286552458, -8.752163813750101, -2...   \n",
       "...                                                    ...   \n",
       "1837176              [0, -36963.0, -65946.07, -115907.551]   \n",
       "1837177              [0, -36963.0, -65946.07, -115907.551]   \n",
       "1837178              [0, -36963.0, -65946.07, -115907.551]   \n",
       "1837179              [0, -36963.0, -65946.07, -115907.551]   \n",
       "1837180  [0, -4.574062472530811, -20.22913846451442, -3...   \n",
       "\n",
       "                                                 RCP8.5_p5  \\\n",
       "0        [0, 521.2772969558748, 927.8591891645335, 1626...   \n",
       "92       [0, 9.923013636010973, 15.752910810181737, 23....   \n",
       "167      [0, 6.472476757604102, 9.546499081131639, 12.5...   \n",
       "227      [0, 2.727145474595325, -103.60536212639752, -4...   \n",
       "228      [0, 3.8445445286552458, -101.6121638137501, -4...   \n",
       "...                                                    ...   \n",
       "1837176                [0, -36963.0, -66079.4, -116406.37]   \n",
       "1837177                [0, -36963.0, -66079.4, -116406.37]   \n",
       "1837178                [0, -36963.0, -66079.4, -116406.37]   \n",
       "1837179                [0, -36963.0, -66079.4, -116406.37]   \n",
       "1837180  [0, -4.574062472530811, -153.55913846451443, -...   \n",
       "\n",
       "                                                RCP8.5_p50  \\\n",
       "0        [0, 521.2772969558748, 928.9111091645335, 1631...   \n",
       "92       [0, 9.923013636010973, 16.765630810181737, 28....   \n",
       "167      [0, 6.472476757604102, 10.61062908113164, 17.2...   \n",
       "227      [0, 2.727145474595325, -51.228362126397535, -1...   \n",
       "228      [0, 3.8445445286552458, -49.235163813750106, -...   \n",
       "...                                                    ...   \n",
       "1837176               [0, -36963.0, -66015.27, -116104.21]   \n",
       "1837177               [0, -36963.0, -66015.27, -116104.21]   \n",
       "1837178               [0, -36963.0, -66015.27, -116104.21]   \n",
       "1837179               [0, -36963.0, -66015.27, -116104.21]   \n",
       "1837180  [0, -4.574062472530811, -89.42913846451441, -2...   \n",
       "\n",
       "                                                RCP8.5_p95  \n",
       "0        [0, 521.2772969558748, 929.6574791645336, 1633...  \n",
       "92       [0, 9.923013636010973, 17.504580810181736, 30....  \n",
       "167      [0, 6.472476757604102, 11.336059081131639, 19....  \n",
       "227      [0, 2.727145474595325, -14.36336212639753, -51...  \n",
       "228      [0, 3.8445445286552458, -12.370163813750104, -...  \n",
       "...                                                    ...  \n",
       "1837176               [0, -36963.0, -65958.416, -115946.1]  \n",
       "1837177               [0, -36963.0, -65958.416, -115946.1]  \n",
       "1837178               [0, -36963.0, -65958.416, -115946.1]  \n",
       "1837179               [0, -36963.0, -65958.416, -115946.1]  \n",
       "1837180  [0, -4.574062472530811, -32.575138464514424, -...  \n",
       "\n",
       "[696994 rows x 66 columns]"
      ]
     },
     "execution_count": 13,
     "metadata": {},
     "output_type": "execute_result"
    }
   ],
   "source": [
    "gdf_vous_join"
   ]
  },
  {
   "cell_type": "code",
   "execution_count": 21,
   "metadata": {},
   "outputs": [],
   "source": [
    "gdf_vous_filt = gdf_vous_join[['transect_id', 'country_id', 'continent', 'country_name', 'changerate', 'intercept',\n",
    "       'Start_lon', 'Start_lat', 'Intersect_lon', 'Intersect_lat', 'End_lon',\n",
    "       'End_lat',  'Ambient', 'RCP4.5_p5', 'RCP4.5_p50', 'RCP4.5_p95',\n",
    "       'RCP8.5_p5', 'RCP8.5_p50', 'RCP8.5_p95']]"
   ]
  },
  {
   "cell_type": "code",
   "execution_count": 22,
   "metadata": {},
   "outputs": [],
   "source": [
    "savefile = r'P:\\1000545-054-globalbeaches\\15_GlobalCoastalAtlas\\datasets\\03_Shorelinemonitor_future\\future_shorelines.csv'\n",
    "\n",
    "gdf_vous_filt.to_csv(savefile, index = False)"
   ]
  },
  {
   "cell_type": "code",
   "execution_count": 15,
   "metadata": {},
   "outputs": [],
   "source": [
    "import pandas as pd\n",
    "df_fut = pd.read_csv(savefile)"
   ]
  },
  {
   "cell_type": "code",
   "execution_count": 16,
   "metadata": {},
   "outputs": [
    {
     "data": {
      "application/vnd.plotly.v1+json": {
       "config": {
        "plotlyServerURL": "https://plot.ly"
       },
       "data": [
        {
         "line": {
          "color": "rgb(17, 17, 17)",
          "dash": "dash"
         },
         "mode": "lines",
         "name": "Ambient",
         "type": "scatter",
         "x": [
          "1984-01-01T00:00:00",
          "2021-01-01T00:00:00",
          "2050-01-01T00:00:00",
          "2100-01-01T00:00:00"
         ],
         "y": [
          0,
          562.7457247240467,
          1003.8166981564076,
          1764.2838937294437
         ]
        },
        {
         "line": {
          "color": "rgb(15, 183, 245)"
         },
         "mode": "lines",
         "name": "RCP4.5",
         "type": "scatter",
         "x": [
          "1984-01-01T00:00:00",
          "2021-01-01T00:00:00",
          "2050-01-01T00:00:00",
          "2100-01-01T00:00:00"
         ],
         "y": [
          0,
          562.7457247240467,
          976.2236981564076,
          1705.2418937294437
         ]
        },
        {
         "line": {
          "width": 0
         },
         "marker": {
          "color": "#444"
         },
         "mode": "lines",
         "showlegend": false,
         "type": "scatter",
         "x": [
          "1984-01-01T00:00:00",
          "2021-01-01T00:00:00",
          "2050-01-01T00:00:00",
          "2100-01-01T00:00:00"
         ],
         "y": [
          0,
          562.7457247240467,
          952.3866981564076,
          1641.2738937294437
         ]
        },
        {
         "fill": "tonexty",
         "fillcolor": "rgba(15, 183, 245, 0.3)",
         "line": {
          "width": 0
         },
         "marker": {
          "color": "#444"
         },
         "mode": "lines",
         "showlegend": false,
         "type": "scatter",
         "x": [
          "1984-01-01T00:00:00",
          "2021-01-01T00:00:00",
          "2050-01-01T00:00:00",
          "2100-01-01T00:00:00"
         ],
         "y": [
          0,
          562.7457247240467,
          996.7949981564076,
          1747.2138937294437
         ]
        },
        {
         "line": {
          "color": "rgb(24, 24, 24)"
         },
         "mode": "lines",
         "name": "RCP8.5",
         "type": "scatter",
         "x": [
          "1984-01-01T00:00:00",
          "2021-01-01T00:00:00",
          "2050-01-01T00:00:00",
          "2100-01-01T00:00:00"
         ],
         "y": [
          0,
          562.7457247240467,
          968.9476981564076,
          1665.5858937294436
         ]
        },
        {
         "line": {
          "width": 0
         },
         "marker": {
          "color": "#444"
         },
         "mode": "lines",
         "showlegend": false,
         "type": "scatter",
         "x": [
          "1984-01-01T00:00:00",
          "2021-01-01T00:00:00",
          "2050-01-01T00:00:00",
          "2100-01-01T00:00:00"
         ],
         "y": [
          0,
          562.7457247240467,
          930.6876981564076,
          1511.2738937294437
         ]
        },
        {
         "fill": "tonexty",
         "fillcolor": "rgba(24, 24, 24, 0.3)",
         "line": {
          "width": 0
         },
         "marker": {
          "color": "#444"
         },
         "mode": "lines",
         "showlegend": false,
         "type": "scatter",
         "x": [
          "1984-01-01T00:00:00",
          "2021-01-01T00:00:00",
          "2050-01-01T00:00:00",
          "2100-01-01T00:00:00"
         ],
         "y": [
          0,
          562.7457247240467,
          995.7108981564076,
          1741.6918937294436
         ]
        },
        {
         "marker": {
          "color": "rgba(0, 0, 0)"
         },
         "mode": "markers",
         "name": "Historical",
         "type": "scatter",
         "x": [
          "1984-01-01T00:00:00",
          "1984-12-31T00:00:00",
          "1985-12-31T00:00:00",
          "1986-12-31T00:00:00",
          "1987-12-31T00:00:00",
          "1988-12-30T00:00:00",
          "1989-12-30T00:00:00",
          "1990-12-30T00:00:00",
          "1991-12-30T00:00:00",
          "1992-12-29T00:00:00",
          "1993-12-29T00:00:00",
          "1994-12-29T00:00:00",
          "1995-12-29T00:00:00",
          "1996-12-28T00:00:00",
          "1997-12-28T00:00:00",
          "1999-12-28T00:00:00",
          "2000-12-27T00:00:00",
          "2001-12-27T00:00:00",
          "2002-12-27T00:00:00",
          "2003-12-27T00:00:00",
          "2004-12-26T00:00:00",
          "2005-12-26T00:00:00",
          "2007-12-26T00:00:00",
          "2008-12-25T00:00:00",
          "2011-12-25T00:00:00",
          "2012-12-24T00:00:00",
          "2013-12-24T00:00:00",
          "2014-12-24T00:00:00",
          "2015-12-24T00:00:00",
          "2016-12-23T00:00:00",
          "2017-12-23T00:00:00",
          "2018-12-23T00:00:00",
          "2019-12-23T00:00:00",
          "2020-12-22T00:00:00"
         ],
         "y": [
          118.02743927867601,
          118.33300475076169,
          132.15814468470955,
          124.92087689314633,
          130.20283484595353,
          130.1069377372187,
          127.20933629121896,
          123.29199331236293,
          99.14774097348607,
          114.22792327869121,
          130.1814055115829,
          121.71199611591908,
          130.02659769115894,
          145.92311438848418,
          166.65399053479553,
          105.2298235293855,
          150.7863119945523,
          142.24272969741077,
          161.0025979863426,
          208.87241212640163,
          194.08770083380148,
          209.1969669043052,
          193.2323346730048,
          196.83136415974985,
          675.4068055949493,
          614.7635266799255,
          616.4653528907321,
          586.98365822325,
          571.7102336462177,
          603.1614985260363,
          603.6674653638898,
          528.664715441396,
          524.1325706925657,
          509.5570685234644
         ]
        },
        {
         "marker": {
          "color": "#FF0000"
         },
         "mode": "markers",
         "name": "Outliers",
         "type": "scatter",
         "x": [
          "2009-12-25T00:00:00",
          "2010-12-25T00:00:00"
         ],
         "y": [
          303.5488008865441,
          433.62906613417897
         ]
        }
       ],
       "layout": {
        "font": {
         "size": 15
        },
        "legend": {
         "traceorder": "grouped"
        },
        "margin": {
         "b": 5,
         "l": 5,
         "r": 5,
         "t": 30
        },
        "shapes": [
         {
          "line": {
           "color": "red",
           "dash": "solid",
           "width": 1.5
          },
          "type": "line",
          "x0": "2021-06-01T00:00:00",
          "x1": "2021-06-01T00:00:00",
          "xref": "x",
          "y0": 0,
          "y1": 1,
          "yref": "y domain"
         }
        ],
        "template": {
         "data": {
          "bar": [
           {
            "error_x": {
             "color": "#2a3f5f"
            },
            "error_y": {
             "color": "#2a3f5f"
            },
            "marker": {
             "line": {
              "color": "#E5ECF6",
              "width": 0.5
             },
             "pattern": {
              "fillmode": "overlay",
              "size": 10,
              "solidity": 0.2
             }
            },
            "type": "bar"
           }
          ],
          "barpolar": [
           {
            "marker": {
             "line": {
              "color": "#E5ECF6",
              "width": 0.5
             },
             "pattern": {
              "fillmode": "overlay",
              "size": 10,
              "solidity": 0.2
             }
            },
            "type": "barpolar"
           }
          ],
          "carpet": [
           {
            "aaxis": {
             "endlinecolor": "#2a3f5f",
             "gridcolor": "white",
             "linecolor": "white",
             "minorgridcolor": "white",
             "startlinecolor": "#2a3f5f"
            },
            "baxis": {
             "endlinecolor": "#2a3f5f",
             "gridcolor": "white",
             "linecolor": "white",
             "minorgridcolor": "white",
             "startlinecolor": "#2a3f5f"
            },
            "type": "carpet"
           }
          ],
          "choropleth": [
           {
            "colorbar": {
             "outlinewidth": 0,
             "ticks": ""
            },
            "type": "choropleth"
           }
          ],
          "contour": [
           {
            "colorbar": {
             "outlinewidth": 0,
             "ticks": ""
            },
            "colorscale": [
             [
              0,
              "#0d0887"
             ],
             [
              0.1111111111111111,
              "#46039f"
             ],
             [
              0.2222222222222222,
              "#7201a8"
             ],
             [
              0.3333333333333333,
              "#9c179e"
             ],
             [
              0.4444444444444444,
              "#bd3786"
             ],
             [
              0.5555555555555556,
              "#d8576b"
             ],
             [
              0.6666666666666666,
              "#ed7953"
             ],
             [
              0.7777777777777778,
              "#fb9f3a"
             ],
             [
              0.8888888888888888,
              "#fdca26"
             ],
             [
              1,
              "#f0f921"
             ]
            ],
            "type": "contour"
           }
          ],
          "contourcarpet": [
           {
            "colorbar": {
             "outlinewidth": 0,
             "ticks": ""
            },
            "type": "contourcarpet"
           }
          ],
          "heatmap": [
           {
            "colorbar": {
             "outlinewidth": 0,
             "ticks": ""
            },
            "colorscale": [
             [
              0,
              "#0d0887"
             ],
             [
              0.1111111111111111,
              "#46039f"
             ],
             [
              0.2222222222222222,
              "#7201a8"
             ],
             [
              0.3333333333333333,
              "#9c179e"
             ],
             [
              0.4444444444444444,
              "#bd3786"
             ],
             [
              0.5555555555555556,
              "#d8576b"
             ],
             [
              0.6666666666666666,
              "#ed7953"
             ],
             [
              0.7777777777777778,
              "#fb9f3a"
             ],
             [
              0.8888888888888888,
              "#fdca26"
             ],
             [
              1,
              "#f0f921"
             ]
            ],
            "type": "heatmap"
           }
          ],
          "heatmapgl": [
           {
            "colorbar": {
             "outlinewidth": 0,
             "ticks": ""
            },
            "colorscale": [
             [
              0,
              "#0d0887"
             ],
             [
              0.1111111111111111,
              "#46039f"
             ],
             [
              0.2222222222222222,
              "#7201a8"
             ],
             [
              0.3333333333333333,
              "#9c179e"
             ],
             [
              0.4444444444444444,
              "#bd3786"
             ],
             [
              0.5555555555555556,
              "#d8576b"
             ],
             [
              0.6666666666666666,
              "#ed7953"
             ],
             [
              0.7777777777777778,
              "#fb9f3a"
             ],
             [
              0.8888888888888888,
              "#fdca26"
             ],
             [
              1,
              "#f0f921"
             ]
            ],
            "type": "heatmapgl"
           }
          ],
          "histogram": [
           {
            "marker": {
             "pattern": {
              "fillmode": "overlay",
              "size": 10,
              "solidity": 0.2
             }
            },
            "type": "histogram"
           }
          ],
          "histogram2d": [
           {
            "colorbar": {
             "outlinewidth": 0,
             "ticks": ""
            },
            "colorscale": [
             [
              0,
              "#0d0887"
             ],
             [
              0.1111111111111111,
              "#46039f"
             ],
             [
              0.2222222222222222,
              "#7201a8"
             ],
             [
              0.3333333333333333,
              "#9c179e"
             ],
             [
              0.4444444444444444,
              "#bd3786"
             ],
             [
              0.5555555555555556,
              "#d8576b"
             ],
             [
              0.6666666666666666,
              "#ed7953"
             ],
             [
              0.7777777777777778,
              "#fb9f3a"
             ],
             [
              0.8888888888888888,
              "#fdca26"
             ],
             [
              1,
              "#f0f921"
             ]
            ],
            "type": "histogram2d"
           }
          ],
          "histogram2dcontour": [
           {
            "colorbar": {
             "outlinewidth": 0,
             "ticks": ""
            },
            "colorscale": [
             [
              0,
              "#0d0887"
             ],
             [
              0.1111111111111111,
              "#46039f"
             ],
             [
              0.2222222222222222,
              "#7201a8"
             ],
             [
              0.3333333333333333,
              "#9c179e"
             ],
             [
              0.4444444444444444,
              "#bd3786"
             ],
             [
              0.5555555555555556,
              "#d8576b"
             ],
             [
              0.6666666666666666,
              "#ed7953"
             ],
             [
              0.7777777777777778,
              "#fb9f3a"
             ],
             [
              0.8888888888888888,
              "#fdca26"
             ],
             [
              1,
              "#f0f921"
             ]
            ],
            "type": "histogram2dcontour"
           }
          ],
          "mesh3d": [
           {
            "colorbar": {
             "outlinewidth": 0,
             "ticks": ""
            },
            "type": "mesh3d"
           }
          ],
          "parcoords": [
           {
            "line": {
             "colorbar": {
              "outlinewidth": 0,
              "ticks": ""
             }
            },
            "type": "parcoords"
           }
          ],
          "pie": [
           {
            "automargin": true,
            "type": "pie"
           }
          ],
          "scatter": [
           {
            "fillpattern": {
             "fillmode": "overlay",
             "size": 10,
             "solidity": 0.2
            },
            "type": "scatter"
           }
          ],
          "scatter3d": [
           {
            "line": {
             "colorbar": {
              "outlinewidth": 0,
              "ticks": ""
             }
            },
            "marker": {
             "colorbar": {
              "outlinewidth": 0,
              "ticks": ""
             }
            },
            "type": "scatter3d"
           }
          ],
          "scattercarpet": [
           {
            "marker": {
             "colorbar": {
              "outlinewidth": 0,
              "ticks": ""
             }
            },
            "type": "scattercarpet"
           }
          ],
          "scattergeo": [
           {
            "marker": {
             "colorbar": {
              "outlinewidth": 0,
              "ticks": ""
             }
            },
            "type": "scattergeo"
           }
          ],
          "scattergl": [
           {
            "marker": {
             "colorbar": {
              "outlinewidth": 0,
              "ticks": ""
             }
            },
            "type": "scattergl"
           }
          ],
          "scattermapbox": [
           {
            "marker": {
             "colorbar": {
              "outlinewidth": 0,
              "ticks": ""
             }
            },
            "type": "scattermapbox"
           }
          ],
          "scatterpolar": [
           {
            "marker": {
             "colorbar": {
              "outlinewidth": 0,
              "ticks": ""
             }
            },
            "type": "scatterpolar"
           }
          ],
          "scatterpolargl": [
           {
            "marker": {
             "colorbar": {
              "outlinewidth": 0,
              "ticks": ""
             }
            },
            "type": "scatterpolargl"
           }
          ],
          "scatterternary": [
           {
            "marker": {
             "colorbar": {
              "outlinewidth": 0,
              "ticks": ""
             }
            },
            "type": "scatterternary"
           }
          ],
          "surface": [
           {
            "colorbar": {
             "outlinewidth": 0,
             "ticks": ""
            },
            "colorscale": [
             [
              0,
              "#0d0887"
             ],
             [
              0.1111111111111111,
              "#46039f"
             ],
             [
              0.2222222222222222,
              "#7201a8"
             ],
             [
              0.3333333333333333,
              "#9c179e"
             ],
             [
              0.4444444444444444,
              "#bd3786"
             ],
             [
              0.5555555555555556,
              "#d8576b"
             ],
             [
              0.6666666666666666,
              "#ed7953"
             ],
             [
              0.7777777777777778,
              "#fb9f3a"
             ],
             [
              0.8888888888888888,
              "#fdca26"
             ],
             [
              1,
              "#f0f921"
             ]
            ],
            "type": "surface"
           }
          ],
          "table": [
           {
            "cells": {
             "fill": {
              "color": "#EBF0F8"
             },
             "line": {
              "color": "white"
             }
            },
            "header": {
             "fill": {
              "color": "#C8D4E3"
             },
             "line": {
              "color": "white"
             }
            },
            "type": "table"
           }
          ]
         },
         "layout": {
          "annotationdefaults": {
           "arrowcolor": "#2a3f5f",
           "arrowhead": 0,
           "arrowwidth": 1
          },
          "autotypenumbers": "strict",
          "coloraxis": {
           "colorbar": {
            "outlinewidth": 0,
            "ticks": ""
           }
          },
          "colorscale": {
           "diverging": [
            [
             0,
             "#8e0152"
            ],
            [
             0.1,
             "#c51b7d"
            ],
            [
             0.2,
             "#de77ae"
            ],
            [
             0.3,
             "#f1b6da"
            ],
            [
             0.4,
             "#fde0ef"
            ],
            [
             0.5,
             "#f7f7f7"
            ],
            [
             0.6,
             "#e6f5d0"
            ],
            [
             0.7,
             "#b8e186"
            ],
            [
             0.8,
             "#7fbc41"
            ],
            [
             0.9,
             "#4d9221"
            ],
            [
             1,
             "#276419"
            ]
           ],
           "sequential": [
            [
             0,
             "#0d0887"
            ],
            [
             0.1111111111111111,
             "#46039f"
            ],
            [
             0.2222222222222222,
             "#7201a8"
            ],
            [
             0.3333333333333333,
             "#9c179e"
            ],
            [
             0.4444444444444444,
             "#bd3786"
            ],
            [
             0.5555555555555556,
             "#d8576b"
            ],
            [
             0.6666666666666666,
             "#ed7953"
            ],
            [
             0.7777777777777778,
             "#fb9f3a"
            ],
            [
             0.8888888888888888,
             "#fdca26"
            ],
            [
             1,
             "#f0f921"
            ]
           ],
           "sequentialminus": [
            [
             0,
             "#0d0887"
            ],
            [
             0.1111111111111111,
             "#46039f"
            ],
            [
             0.2222222222222222,
             "#7201a8"
            ],
            [
             0.3333333333333333,
             "#9c179e"
            ],
            [
             0.4444444444444444,
             "#bd3786"
            ],
            [
             0.5555555555555556,
             "#d8576b"
            ],
            [
             0.6666666666666666,
             "#ed7953"
            ],
            [
             0.7777777777777778,
             "#fb9f3a"
            ],
            [
             0.8888888888888888,
             "#fdca26"
            ],
            [
             1,
             "#f0f921"
            ]
           ]
          },
          "colorway": [
           "#636efa",
           "#EF553B",
           "#00cc96",
           "#ab63fa",
           "#FFA15A",
           "#19d3f3",
           "#FF6692",
           "#B6E880",
           "#FF97FF",
           "#FECB52"
          ],
          "font": {
           "color": "#2a3f5f"
          },
          "geo": {
           "bgcolor": "white",
           "lakecolor": "white",
           "landcolor": "#E5ECF6",
           "showlakes": true,
           "showland": true,
           "subunitcolor": "white"
          },
          "hoverlabel": {
           "align": "left"
          },
          "hovermode": "closest",
          "mapbox": {
           "style": "light"
          },
          "paper_bgcolor": "white",
          "plot_bgcolor": "#E5ECF6",
          "polar": {
           "angularaxis": {
            "gridcolor": "white",
            "linecolor": "white",
            "ticks": ""
           },
           "bgcolor": "#E5ECF6",
           "radialaxis": {
            "gridcolor": "white",
            "linecolor": "white",
            "ticks": ""
           }
          },
          "scene": {
           "xaxis": {
            "backgroundcolor": "#E5ECF6",
            "gridcolor": "white",
            "gridwidth": 2,
            "linecolor": "white",
            "showbackground": true,
            "ticks": "",
            "zerolinecolor": "white"
           },
           "yaxis": {
            "backgroundcolor": "#E5ECF6",
            "gridcolor": "white",
            "gridwidth": 2,
            "linecolor": "white",
            "showbackground": true,
            "ticks": "",
            "zerolinecolor": "white"
           },
           "zaxis": {
            "backgroundcolor": "#E5ECF6",
            "gridcolor": "white",
            "gridwidth": 2,
            "linecolor": "white",
            "showbackground": true,
            "ticks": "",
            "zerolinecolor": "white"
           }
          },
          "shapedefaults": {
           "line": {
            "color": "#2a3f5f"
           }
          },
          "ternary": {
           "aaxis": {
            "gridcolor": "white",
            "linecolor": "white",
            "ticks": ""
           },
           "baxis": {
            "gridcolor": "white",
            "linecolor": "white",
            "ticks": ""
           },
           "bgcolor": "#E5ECF6",
           "caxis": {
            "gridcolor": "white",
            "linecolor": "white",
            "ticks": ""
           }
          },
          "title": {
           "x": 0.05
          },
          "xaxis": {
           "automargin": true,
           "gridcolor": "white",
           "linecolor": "white",
           "ticks": "",
           "title": {
            "standoff": 15
           },
           "zerolinecolor": "white",
           "zerolinewidth": 2
          },
          "yaxis": {
           "automargin": true,
           "gridcolor": "white",
           "linecolor": "white",
           "ticks": "",
           "title": {
            "standoff": 15
           },
           "zerolinecolor": "white",
           "zerolinewidth": 2
          }
         }
        },
        "xaxis": {
         "title": {
          "text": "Time [years]"
         }
        },
        "yaxis": {
         "title": {
          "text": "Shoreline position [m]"
         }
        }
       }
      }
     },
     "metadata": {},
     "output_type": "display_data"
    }
   ],
   "source": [
    "box = 'BOX_187_084_11'\n",
    "\n",
    "future_shorelinepositions(df_fut = df_fut, df_annual = df_annual, box = box)"
   ]
  },
  {
   "cell_type": "code",
   "execution_count": 17,
   "metadata": {},
   "outputs": [
    {
     "data": {
      "application/vnd.plotly.v1+json": {
       "config": {
        "plotlyServerURL": "https://plot.ly"
       },
       "data": [
        {
         "line": {
          "color": "rgb(17, 17, 17)",
          "dash": "dash"
         },
         "mode": "lines",
         "name": "Ambient",
         "type": "scatter",
         "x": [
          "1984-01-01T00:00:00",
          "2021-01-01T00:00:00",
          "2050-01-01T00:00:00",
          "2100-01-01T00:00:00"
         ],
         "y": [
          0,
          562.7457247240467,
          1003.8166981564076,
          1764.2838937294437
         ]
        },
        {
         "line": {
          "color": "rgb(15, 183, 245)"
         },
         "mode": "lines",
         "name": "RCP4.5",
         "type": "scatter",
         "x": [
          "1984-01-01T00:00:00",
          "2021-01-01T00:00:00",
          "2050-01-01T00:00:00",
          "2100-01-01T00:00:00"
         ],
         "y": [
          0,
          562.7457247240467,
          976.2236981564076,
          1705.2418937294437
         ]
        },
        {
         "line": {
          "width": 0
         },
         "marker": {
          "color": "#444"
         },
         "mode": "lines",
         "showlegend": false,
         "type": "scatter",
         "x": [
          "1984-01-01T00:00:00",
          "2021-01-01T00:00:00",
          "2050-01-01T00:00:00",
          "2100-01-01T00:00:00"
         ],
         "y": [
          0,
          562.7457247240467,
          952.3866981564076,
          1641.2738937294437
         ]
        },
        {
         "fill": "tonexty",
         "fillcolor": "rgba(15, 183, 245, 0.3)",
         "line": {
          "width": 0
         },
         "marker": {
          "color": "#444"
         },
         "mode": "lines",
         "showlegend": false,
         "type": "scatter",
         "x": [
          "1984-01-01T00:00:00",
          "2021-01-01T00:00:00",
          "2050-01-01T00:00:00",
          "2100-01-01T00:00:00"
         ],
         "y": [
          0,
          562.7457247240467,
          996.7949981564076,
          1747.2138937294437
         ]
        },
        {
         "line": {
          "color": "rgb(24, 24, 24)"
         },
         "mode": "lines",
         "name": "RCP8.5",
         "type": "scatter",
         "x": [
          "1984-01-01T00:00:00",
          "2021-01-01T00:00:00",
          "2050-01-01T00:00:00",
          "2100-01-01T00:00:00"
         ],
         "y": [
          0,
          562.7457247240467,
          968.9476981564076,
          1665.5858937294436
         ]
        },
        {
         "line": {
          "width": 0
         },
         "marker": {
          "color": "#444"
         },
         "mode": "lines",
         "showlegend": false,
         "type": "scatter",
         "x": [
          "1984-01-01T00:00:00",
          "2021-01-01T00:00:00",
          "2050-01-01T00:00:00",
          "2100-01-01T00:00:00"
         ],
         "y": [
          0,
          562.7457247240467,
          930.6876981564076,
          1511.2738937294437
         ]
        },
        {
         "fill": "tonexty",
         "fillcolor": "rgba(24, 24, 24, 0.3)",
         "line": {
          "width": 0
         },
         "marker": {
          "color": "#444"
         },
         "mode": "lines",
         "showlegend": false,
         "type": "scatter",
         "x": [
          "1984-01-01T00:00:00",
          "2021-01-01T00:00:00",
          "2050-01-01T00:00:00",
          "2100-01-01T00:00:00"
         ],
         "y": [
          0,
          562.7457247240467,
          995.7108981564076,
          1741.6918937294436
         ]
        },
        {
         "marker": {
          "color": "rgba(0, 0, 0)"
         },
         "mode": "markers",
         "name": "Historical",
         "type": "scatter",
         "x": [
          "1984-01-01T00:00:00",
          "1984-12-31T00:00:00",
          "1985-12-31T00:00:00",
          "1986-12-31T00:00:00",
          "1987-12-31T00:00:00",
          "1988-12-30T00:00:00",
          "1989-12-30T00:00:00",
          "1990-12-30T00:00:00",
          "1991-12-30T00:00:00",
          "1992-12-29T00:00:00",
          "1993-12-29T00:00:00",
          "1994-12-29T00:00:00",
          "1995-12-29T00:00:00",
          "1996-12-28T00:00:00",
          "1997-12-28T00:00:00",
          "1999-12-28T00:00:00",
          "2000-12-27T00:00:00",
          "2001-12-27T00:00:00",
          "2002-12-27T00:00:00",
          "2003-12-27T00:00:00",
          "2004-12-26T00:00:00",
          "2005-12-26T00:00:00",
          "2007-12-26T00:00:00",
          "2008-12-25T00:00:00",
          "2011-12-25T00:00:00",
          "2012-12-24T00:00:00",
          "2013-12-24T00:00:00",
          "2014-12-24T00:00:00",
          "2015-12-24T00:00:00",
          "2016-12-23T00:00:00",
          "2017-12-23T00:00:00",
          "2018-12-23T00:00:00",
          "2019-12-23T00:00:00",
          "2020-12-22T00:00:00"
         ],
         "y": [
          118.02743927867601,
          118.33300475076169,
          132.15814468470955,
          124.92087689314633,
          130.20283484595353,
          130.1069377372187,
          127.20933629121896,
          123.29199331236293,
          99.14774097348607,
          114.22792327869121,
          130.1814055115829,
          121.71199611591908,
          130.02659769115894,
          145.92311438848418,
          166.65399053479553,
          105.2298235293855,
          150.7863119945523,
          142.24272969741077,
          161.0025979863426,
          208.87241212640163,
          194.08770083380148,
          209.1969669043052,
          193.2323346730048,
          196.83136415974985,
          675.4068055949493,
          614.7635266799255,
          616.4653528907321,
          586.98365822325,
          571.7102336462177,
          603.1614985260363,
          603.6674653638898,
          528.664715441396,
          524.1325706925657,
          509.5570685234644
         ]
        },
        {
         "marker": {
          "color": "#FF0000"
         },
         "mode": "markers",
         "name": "Outliers",
         "type": "scatter",
         "x": [
          "2009-12-25T00:00:00",
          "2010-12-25T00:00:00"
         ],
         "y": [
          303.5488008865441,
          433.62906613417897
         ]
        }
       ],
       "layout": {
        "font": {
         "size": 15
        },
        "legend": {
         "traceorder": "grouped"
        },
        "margin": {
         "b": 5,
         "l": 5,
         "r": 5,
         "t": 30
        },
        "shapes": [
         {
          "line": {
           "color": "red",
           "dash": "solid",
           "width": 1.5
          },
          "type": "line",
          "x0": "2021-06-01T00:00:00",
          "x1": "2021-06-01T00:00:00",
          "xref": "x",
          "y0": 0,
          "y1": 1,
          "yref": "y domain"
         }
        ],
        "template": {
         "data": {
          "bar": [
           {
            "error_x": {
             "color": "#2a3f5f"
            },
            "error_y": {
             "color": "#2a3f5f"
            },
            "marker": {
             "line": {
              "color": "#E5ECF6",
              "width": 0.5
             },
             "pattern": {
              "fillmode": "overlay",
              "size": 10,
              "solidity": 0.2
             }
            },
            "type": "bar"
           }
          ],
          "barpolar": [
           {
            "marker": {
             "line": {
              "color": "#E5ECF6",
              "width": 0.5
             },
             "pattern": {
              "fillmode": "overlay",
              "size": 10,
              "solidity": 0.2
             }
            },
            "type": "barpolar"
           }
          ],
          "carpet": [
           {
            "aaxis": {
             "endlinecolor": "#2a3f5f",
             "gridcolor": "white",
             "linecolor": "white",
             "minorgridcolor": "white",
             "startlinecolor": "#2a3f5f"
            },
            "baxis": {
             "endlinecolor": "#2a3f5f",
             "gridcolor": "white",
             "linecolor": "white",
             "minorgridcolor": "white",
             "startlinecolor": "#2a3f5f"
            },
            "type": "carpet"
           }
          ],
          "choropleth": [
           {
            "colorbar": {
             "outlinewidth": 0,
             "ticks": ""
            },
            "type": "choropleth"
           }
          ],
          "contour": [
           {
            "colorbar": {
             "outlinewidth": 0,
             "ticks": ""
            },
            "colorscale": [
             [
              0,
              "#0d0887"
             ],
             [
              0.1111111111111111,
              "#46039f"
             ],
             [
              0.2222222222222222,
              "#7201a8"
             ],
             [
              0.3333333333333333,
              "#9c179e"
             ],
             [
              0.4444444444444444,
              "#bd3786"
             ],
             [
              0.5555555555555556,
              "#d8576b"
             ],
             [
              0.6666666666666666,
              "#ed7953"
             ],
             [
              0.7777777777777778,
              "#fb9f3a"
             ],
             [
              0.8888888888888888,
              "#fdca26"
             ],
             [
              1,
              "#f0f921"
             ]
            ],
            "type": "contour"
           }
          ],
          "contourcarpet": [
           {
            "colorbar": {
             "outlinewidth": 0,
             "ticks": ""
            },
            "type": "contourcarpet"
           }
          ],
          "heatmap": [
           {
            "colorbar": {
             "outlinewidth": 0,
             "ticks": ""
            },
            "colorscale": [
             [
              0,
              "#0d0887"
             ],
             [
              0.1111111111111111,
              "#46039f"
             ],
             [
              0.2222222222222222,
              "#7201a8"
             ],
             [
              0.3333333333333333,
              "#9c179e"
             ],
             [
              0.4444444444444444,
              "#bd3786"
             ],
             [
              0.5555555555555556,
              "#d8576b"
             ],
             [
              0.6666666666666666,
              "#ed7953"
             ],
             [
              0.7777777777777778,
              "#fb9f3a"
             ],
             [
              0.8888888888888888,
              "#fdca26"
             ],
             [
              1,
              "#f0f921"
             ]
            ],
            "type": "heatmap"
           }
          ],
          "heatmapgl": [
           {
            "colorbar": {
             "outlinewidth": 0,
             "ticks": ""
            },
            "colorscale": [
             [
              0,
              "#0d0887"
             ],
             [
              0.1111111111111111,
              "#46039f"
             ],
             [
              0.2222222222222222,
              "#7201a8"
             ],
             [
              0.3333333333333333,
              "#9c179e"
             ],
             [
              0.4444444444444444,
              "#bd3786"
             ],
             [
              0.5555555555555556,
              "#d8576b"
             ],
             [
              0.6666666666666666,
              "#ed7953"
             ],
             [
              0.7777777777777778,
              "#fb9f3a"
             ],
             [
              0.8888888888888888,
              "#fdca26"
             ],
             [
              1,
              "#f0f921"
             ]
            ],
            "type": "heatmapgl"
           }
          ],
          "histogram": [
           {
            "marker": {
             "pattern": {
              "fillmode": "overlay",
              "size": 10,
              "solidity": 0.2
             }
            },
            "type": "histogram"
           }
          ],
          "histogram2d": [
           {
            "colorbar": {
             "outlinewidth": 0,
             "ticks": ""
            },
            "colorscale": [
             [
              0,
              "#0d0887"
             ],
             [
              0.1111111111111111,
              "#46039f"
             ],
             [
              0.2222222222222222,
              "#7201a8"
             ],
             [
              0.3333333333333333,
              "#9c179e"
             ],
             [
              0.4444444444444444,
              "#bd3786"
             ],
             [
              0.5555555555555556,
              "#d8576b"
             ],
             [
              0.6666666666666666,
              "#ed7953"
             ],
             [
              0.7777777777777778,
              "#fb9f3a"
             ],
             [
              0.8888888888888888,
              "#fdca26"
             ],
             [
              1,
              "#f0f921"
             ]
            ],
            "type": "histogram2d"
           }
          ],
          "histogram2dcontour": [
           {
            "colorbar": {
             "outlinewidth": 0,
             "ticks": ""
            },
            "colorscale": [
             [
              0,
              "#0d0887"
             ],
             [
              0.1111111111111111,
              "#46039f"
             ],
             [
              0.2222222222222222,
              "#7201a8"
             ],
             [
              0.3333333333333333,
              "#9c179e"
             ],
             [
              0.4444444444444444,
              "#bd3786"
             ],
             [
              0.5555555555555556,
              "#d8576b"
             ],
             [
              0.6666666666666666,
              "#ed7953"
             ],
             [
              0.7777777777777778,
              "#fb9f3a"
             ],
             [
              0.8888888888888888,
              "#fdca26"
             ],
             [
              1,
              "#f0f921"
             ]
            ],
            "type": "histogram2dcontour"
           }
          ],
          "mesh3d": [
           {
            "colorbar": {
             "outlinewidth": 0,
             "ticks": ""
            },
            "type": "mesh3d"
           }
          ],
          "parcoords": [
           {
            "line": {
             "colorbar": {
              "outlinewidth": 0,
              "ticks": ""
             }
            },
            "type": "parcoords"
           }
          ],
          "pie": [
           {
            "automargin": true,
            "type": "pie"
           }
          ],
          "scatter": [
           {
            "fillpattern": {
             "fillmode": "overlay",
             "size": 10,
             "solidity": 0.2
            },
            "type": "scatter"
           }
          ],
          "scatter3d": [
           {
            "line": {
             "colorbar": {
              "outlinewidth": 0,
              "ticks": ""
             }
            },
            "marker": {
             "colorbar": {
              "outlinewidth": 0,
              "ticks": ""
             }
            },
            "type": "scatter3d"
           }
          ],
          "scattercarpet": [
           {
            "marker": {
             "colorbar": {
              "outlinewidth": 0,
              "ticks": ""
             }
            },
            "type": "scattercarpet"
           }
          ],
          "scattergeo": [
           {
            "marker": {
             "colorbar": {
              "outlinewidth": 0,
              "ticks": ""
             }
            },
            "type": "scattergeo"
           }
          ],
          "scattergl": [
           {
            "marker": {
             "colorbar": {
              "outlinewidth": 0,
              "ticks": ""
             }
            },
            "type": "scattergl"
           }
          ],
          "scattermapbox": [
           {
            "marker": {
             "colorbar": {
              "outlinewidth": 0,
              "ticks": ""
             }
            },
            "type": "scattermapbox"
           }
          ],
          "scatterpolar": [
           {
            "marker": {
             "colorbar": {
              "outlinewidth": 0,
              "ticks": ""
             }
            },
            "type": "scatterpolar"
           }
          ],
          "scatterpolargl": [
           {
            "marker": {
             "colorbar": {
              "outlinewidth": 0,
              "ticks": ""
             }
            },
            "type": "scatterpolargl"
           }
          ],
          "scatterternary": [
           {
            "marker": {
             "colorbar": {
              "outlinewidth": 0,
              "ticks": ""
             }
            },
            "type": "scatterternary"
           }
          ],
          "surface": [
           {
            "colorbar": {
             "outlinewidth": 0,
             "ticks": ""
            },
            "colorscale": [
             [
              0,
              "#0d0887"
             ],
             [
              0.1111111111111111,
              "#46039f"
             ],
             [
              0.2222222222222222,
              "#7201a8"
             ],
             [
              0.3333333333333333,
              "#9c179e"
             ],
             [
              0.4444444444444444,
              "#bd3786"
             ],
             [
              0.5555555555555556,
              "#d8576b"
             ],
             [
              0.6666666666666666,
              "#ed7953"
             ],
             [
              0.7777777777777778,
              "#fb9f3a"
             ],
             [
              0.8888888888888888,
              "#fdca26"
             ],
             [
              1,
              "#f0f921"
             ]
            ],
            "type": "surface"
           }
          ],
          "table": [
           {
            "cells": {
             "fill": {
              "color": "#EBF0F8"
             },
             "line": {
              "color": "white"
             }
            },
            "header": {
             "fill": {
              "color": "#C8D4E3"
             },
             "line": {
              "color": "white"
             }
            },
            "type": "table"
           }
          ]
         },
         "layout": {
          "annotationdefaults": {
           "arrowcolor": "#2a3f5f",
           "arrowhead": 0,
           "arrowwidth": 1
          },
          "autotypenumbers": "strict",
          "coloraxis": {
           "colorbar": {
            "outlinewidth": 0,
            "ticks": ""
           }
          },
          "colorscale": {
           "diverging": [
            [
             0,
             "#8e0152"
            ],
            [
             0.1,
             "#c51b7d"
            ],
            [
             0.2,
             "#de77ae"
            ],
            [
             0.3,
             "#f1b6da"
            ],
            [
             0.4,
             "#fde0ef"
            ],
            [
             0.5,
             "#f7f7f7"
            ],
            [
             0.6,
             "#e6f5d0"
            ],
            [
             0.7,
             "#b8e186"
            ],
            [
             0.8,
             "#7fbc41"
            ],
            [
             0.9,
             "#4d9221"
            ],
            [
             1,
             "#276419"
            ]
           ],
           "sequential": [
            [
             0,
             "#0d0887"
            ],
            [
             0.1111111111111111,
             "#46039f"
            ],
            [
             0.2222222222222222,
             "#7201a8"
            ],
            [
             0.3333333333333333,
             "#9c179e"
            ],
            [
             0.4444444444444444,
             "#bd3786"
            ],
            [
             0.5555555555555556,
             "#d8576b"
            ],
            [
             0.6666666666666666,
             "#ed7953"
            ],
            [
             0.7777777777777778,
             "#fb9f3a"
            ],
            [
             0.8888888888888888,
             "#fdca26"
            ],
            [
             1,
             "#f0f921"
            ]
           ],
           "sequentialminus": [
            [
             0,
             "#0d0887"
            ],
            [
             0.1111111111111111,
             "#46039f"
            ],
            [
             0.2222222222222222,
             "#7201a8"
            ],
            [
             0.3333333333333333,
             "#9c179e"
            ],
            [
             0.4444444444444444,
             "#bd3786"
            ],
            [
             0.5555555555555556,
             "#d8576b"
            ],
            [
             0.6666666666666666,
             "#ed7953"
            ],
            [
             0.7777777777777778,
             "#fb9f3a"
            ],
            [
             0.8888888888888888,
             "#fdca26"
            ],
            [
             1,
             "#f0f921"
            ]
           ]
          },
          "colorway": [
           "#636efa",
           "#EF553B",
           "#00cc96",
           "#ab63fa",
           "#FFA15A",
           "#19d3f3",
           "#FF6692",
           "#B6E880",
           "#FF97FF",
           "#FECB52"
          ],
          "font": {
           "color": "#2a3f5f"
          },
          "geo": {
           "bgcolor": "white",
           "lakecolor": "white",
           "landcolor": "#E5ECF6",
           "showlakes": true,
           "showland": true,
           "subunitcolor": "white"
          },
          "hoverlabel": {
           "align": "left"
          },
          "hovermode": "closest",
          "mapbox": {
           "style": "light"
          },
          "paper_bgcolor": "white",
          "plot_bgcolor": "#E5ECF6",
          "polar": {
           "angularaxis": {
            "gridcolor": "white",
            "linecolor": "white",
            "ticks": ""
           },
           "bgcolor": "#E5ECF6",
           "radialaxis": {
            "gridcolor": "white",
            "linecolor": "white",
            "ticks": ""
           }
          },
          "scene": {
           "xaxis": {
            "backgroundcolor": "#E5ECF6",
            "gridcolor": "white",
            "gridwidth": 2,
            "linecolor": "white",
            "showbackground": true,
            "ticks": "",
            "zerolinecolor": "white"
           },
           "yaxis": {
            "backgroundcolor": "#E5ECF6",
            "gridcolor": "white",
            "gridwidth": 2,
            "linecolor": "white",
            "showbackground": true,
            "ticks": "",
            "zerolinecolor": "white"
           },
           "zaxis": {
            "backgroundcolor": "#E5ECF6",
            "gridcolor": "white",
            "gridwidth": 2,
            "linecolor": "white",
            "showbackground": true,
            "ticks": "",
            "zerolinecolor": "white"
           }
          },
          "shapedefaults": {
           "line": {
            "color": "#2a3f5f"
           }
          },
          "ternary": {
           "aaxis": {
            "gridcolor": "white",
            "linecolor": "white",
            "ticks": ""
           },
           "baxis": {
            "gridcolor": "white",
            "linecolor": "white",
            "ticks": ""
           },
           "bgcolor": "#E5ECF6",
           "caxis": {
            "gridcolor": "white",
            "linecolor": "white",
            "ticks": ""
           }
          },
          "title": {
           "x": 0.05
          },
          "xaxis": {
           "automargin": true,
           "gridcolor": "white",
           "linecolor": "white",
           "ticks": "",
           "title": {
            "standoff": 15
           },
           "zerolinecolor": "white",
           "zerolinewidth": 2
          },
          "yaxis": {
           "automargin": true,
           "gridcolor": "white",
           "linecolor": "white",
           "ticks": "",
           "title": {
            "standoff": 15
           },
           "zerolinecolor": "white",
           "zerolinewidth": 2
          }
         }
        },
        "xaxis": {
         "title": {
          "text": "Time [years]"
         }
        },
        "yaxis": {
         "title": {
          "text": "Shoreline position [m]"
         }
        }
       }
      }
     },
     "metadata": {},
     "output_type": "display_data"
    }
   ],
   "source": [
    "box = 'BOX_187_084_11'\n",
    "\n",
    "future_shorelinepositions(df_fut = df_fut, df_annual = df_annual, box = box)"
   ]
  },
  {
   "cell_type": "code",
   "execution_count": 18,
   "metadata": {},
   "outputs": [
    {
     "data": {
      "application/vnd.plotly.v1+json": {
       "config": {
        "plotlyServerURL": "https://plot.ly"
       },
       "data": [
        {
         "line": {
          "color": "rgb(17, 17, 17)",
          "dash": "dash"
         },
         "mode": "lines",
         "name": "Ambient",
         "type": "scatter",
         "x": [
          "1984-01-01T00:00:00",
          "2021-01-01T00:00:00",
          "2050-01-01T00:00:00",
          "2100-01-01T00:00:00"
         ],
         "y": [
          0,
          311.0207279323542,
          554.7937309063615,
          975.0920118960294
         ]
        },
        {
         "line": {
          "color": "rgb(15, 183, 245)"
         },
         "mode": "lines",
         "name": "RCP4.5",
         "type": "scatter",
         "x": [
          "1984-01-01T00:00:00",
          "2021-01-01T00:00:00",
          "2050-01-01T00:00:00",
          "2100-01-01T00:00:00"
         ],
         "y": [
          0,
          311.0207279323542,
          531.3447309063615,
          924.9170118960294
         ]
        },
        {
         "line": {
          "width": 0
         },
         "marker": {
          "color": "#444"
         },
         "mode": "lines",
         "showlegend": false,
         "type": "scatter",
         "x": [
          "1984-01-01T00:00:00",
          "2021-01-01T00:00:00",
          "2050-01-01T00:00:00",
          "2100-01-01T00:00:00"
         ],
         "y": [
          0,
          311.0207279323542,
          507.01773090636146,
          868.8720118960293
         ]
        },
        {
         "fill": "tonexty",
         "fillcolor": "rgba(15, 183, 245, 0.3)",
         "line": {
          "width": 0
         },
         "marker": {
          "color": "#444"
         },
         "mode": "lines",
         "showlegend": false,
         "type": "scatter",
         "x": [
          "1984-01-01T00:00:00",
          "2021-01-01T00:00:00",
          "2050-01-01T00:00:00",
          "2100-01-01T00:00:00"
         ],
         "y": [
          0,
          311.0207279323542,
          548.1814309063615,
          960.4680118960293
         ]
        },
        {
         "line": {
          "color": "rgb(24, 24, 24)"
         },
         "mode": "lines",
         "name": "RCP8.5",
         "type": "scatter",
         "x": [
          "1984-01-01T00:00:00",
          "2021-01-01T00:00:00",
          "2050-01-01T00:00:00",
          "2100-01-01T00:00:00"
         ],
         "y": [
          0,
          311.0207279323542,
          523.9667309063615,
          887.8350118960293
         ]
        },
        {
         "line": {
          "width": 0
         },
         "marker": {
          "color": "#444"
         },
         "mode": "lines",
         "showlegend": false,
         "type": "scatter",
         "x": [
          "1984-01-01T00:00:00",
          "2021-01-01T00:00:00",
          "2050-01-01T00:00:00",
          "2100-01-01T00:00:00"
         ],
         "y": [
          0,
          311.0207279323542,
          489.9667309063615,
          722.2720118960294
         ]
        },
        {
         "fill": "tonexty",
         "fillcolor": "rgba(24, 24, 24, 0.3)",
         "line": {
          "width": 0
         },
         "marker": {
          "color": "#444"
         },
         "mode": "lines",
         "showlegend": false,
         "type": "scatter",
         "x": [
          "1984-01-01T00:00:00",
          "2021-01-01T00:00:00",
          "2050-01-01T00:00:00",
          "2100-01-01T00:00:00"
         ],
         "y": [
          0,
          311.0207279323542,
          547.3875309063615,
          953.9910118960294
         ]
        },
        {
         "marker": {
          "color": "rgba(0, 0, 0)"
         },
         "mode": "markers",
         "name": "Historical",
         "type": "scatter",
         "x": [
          "1984-12-31T00:00:00",
          "1985-12-31T00:00:00",
          "1986-12-31T00:00:00",
          "1987-12-31T00:00:00",
          "1988-12-30T00:00:00",
          "1989-12-30T00:00:00",
          "1990-12-30T00:00:00",
          "1991-12-30T00:00:00",
          "1992-12-29T00:00:00",
          "1993-12-29T00:00:00",
          "1994-12-29T00:00:00",
          "1995-12-29T00:00:00",
          "1996-12-28T00:00:00",
          "2000-12-27T00:00:00",
          "2001-12-27T00:00:00",
          "2002-12-27T00:00:00",
          "2004-12-26T00:00:00",
          "2005-12-26T00:00:00",
          "2006-12-26T00:00:00",
          "2007-12-26T00:00:00",
          "2008-12-25T00:00:00",
          "2009-12-25T00:00:00",
          "2010-12-25T00:00:00",
          "2011-12-25T00:00:00",
          "2012-12-24T00:00:00",
          "2013-12-24T00:00:00",
          "2014-12-24T00:00:00",
          "2015-12-24T00:00:00",
          "2017-12-23T00:00:00",
          "2018-12-23T00:00:00",
          "2019-12-23T00:00:00",
          "2020-12-22T00:00:00"
         ],
         "y": [
          -19.122852699282703,
          6.901276286757707,
          6.901276286757707,
          47.694634388840996,
          53.283339805113656,
          34.9769011384451,
          95.27134808723088,
          53.93768479233131,
          39.14607754760334,
          56.49268664900853,
          118.05208657228081,
          97.89310779622906,
          144.87378207220604,
          176.64775410430923,
          148.09701174487122,
          188.5562757005879,
          196.1504024370539,
          125.05684066886158,
          205.95699965911228,
          206.56756430750693,
          201.48455743405987,
          242.57548374017404,
          224.07913747921657,
          283.1734530960408,
          249.92469766069212,
          224.53435466152098,
          263.35250525469644,
          270.12219398353227,
          303.6207480357523,
          278.2031357664391,
          283.121632274902,
          278.08310319293105
         ]
        },
        {
         "marker": {
          "color": "#FF0000"
         },
         "mode": "markers",
         "name": "Outliers",
         "type": "scatter",
         "x": [
          "1998-12-28T00:00:00"
         ],
         "y": [
          211.91392171337304
         ]
        }
       ],
       "layout": {
        "font": {
         "size": 15
        },
        "legend": {
         "traceorder": "grouped"
        },
        "margin": {
         "b": 5,
         "l": 5,
         "r": 5,
         "t": 30
        },
        "shapes": [
         {
          "line": {
           "color": "red",
           "dash": "solid",
           "width": 1.5
          },
          "type": "line",
          "x0": "2021-06-01T00:00:00",
          "x1": "2021-06-01T00:00:00",
          "xref": "x",
          "y0": 0,
          "y1": 1,
          "yref": "y domain"
         }
        ],
        "template": {
         "data": {
          "bar": [
           {
            "error_x": {
             "color": "#2a3f5f"
            },
            "error_y": {
             "color": "#2a3f5f"
            },
            "marker": {
             "line": {
              "color": "#E5ECF6",
              "width": 0.5
             },
             "pattern": {
              "fillmode": "overlay",
              "size": 10,
              "solidity": 0.2
             }
            },
            "type": "bar"
           }
          ],
          "barpolar": [
           {
            "marker": {
             "line": {
              "color": "#E5ECF6",
              "width": 0.5
             },
             "pattern": {
              "fillmode": "overlay",
              "size": 10,
              "solidity": 0.2
             }
            },
            "type": "barpolar"
           }
          ],
          "carpet": [
           {
            "aaxis": {
             "endlinecolor": "#2a3f5f",
             "gridcolor": "white",
             "linecolor": "white",
             "minorgridcolor": "white",
             "startlinecolor": "#2a3f5f"
            },
            "baxis": {
             "endlinecolor": "#2a3f5f",
             "gridcolor": "white",
             "linecolor": "white",
             "minorgridcolor": "white",
             "startlinecolor": "#2a3f5f"
            },
            "type": "carpet"
           }
          ],
          "choropleth": [
           {
            "colorbar": {
             "outlinewidth": 0,
             "ticks": ""
            },
            "type": "choropleth"
           }
          ],
          "contour": [
           {
            "colorbar": {
             "outlinewidth": 0,
             "ticks": ""
            },
            "colorscale": [
             [
              0,
              "#0d0887"
             ],
             [
              0.1111111111111111,
              "#46039f"
             ],
             [
              0.2222222222222222,
              "#7201a8"
             ],
             [
              0.3333333333333333,
              "#9c179e"
             ],
             [
              0.4444444444444444,
              "#bd3786"
             ],
             [
              0.5555555555555556,
              "#d8576b"
             ],
             [
              0.6666666666666666,
              "#ed7953"
             ],
             [
              0.7777777777777778,
              "#fb9f3a"
             ],
             [
              0.8888888888888888,
              "#fdca26"
             ],
             [
              1,
              "#f0f921"
             ]
            ],
            "type": "contour"
           }
          ],
          "contourcarpet": [
           {
            "colorbar": {
             "outlinewidth": 0,
             "ticks": ""
            },
            "type": "contourcarpet"
           }
          ],
          "heatmap": [
           {
            "colorbar": {
             "outlinewidth": 0,
             "ticks": ""
            },
            "colorscale": [
             [
              0,
              "#0d0887"
             ],
             [
              0.1111111111111111,
              "#46039f"
             ],
             [
              0.2222222222222222,
              "#7201a8"
             ],
             [
              0.3333333333333333,
              "#9c179e"
             ],
             [
              0.4444444444444444,
              "#bd3786"
             ],
             [
              0.5555555555555556,
              "#d8576b"
             ],
             [
              0.6666666666666666,
              "#ed7953"
             ],
             [
              0.7777777777777778,
              "#fb9f3a"
             ],
             [
              0.8888888888888888,
              "#fdca26"
             ],
             [
              1,
              "#f0f921"
             ]
            ],
            "type": "heatmap"
           }
          ],
          "heatmapgl": [
           {
            "colorbar": {
             "outlinewidth": 0,
             "ticks": ""
            },
            "colorscale": [
             [
              0,
              "#0d0887"
             ],
             [
              0.1111111111111111,
              "#46039f"
             ],
             [
              0.2222222222222222,
              "#7201a8"
             ],
             [
              0.3333333333333333,
              "#9c179e"
             ],
             [
              0.4444444444444444,
              "#bd3786"
             ],
             [
              0.5555555555555556,
              "#d8576b"
             ],
             [
              0.6666666666666666,
              "#ed7953"
             ],
             [
              0.7777777777777778,
              "#fb9f3a"
             ],
             [
              0.8888888888888888,
              "#fdca26"
             ],
             [
              1,
              "#f0f921"
             ]
            ],
            "type": "heatmapgl"
           }
          ],
          "histogram": [
           {
            "marker": {
             "pattern": {
              "fillmode": "overlay",
              "size": 10,
              "solidity": 0.2
             }
            },
            "type": "histogram"
           }
          ],
          "histogram2d": [
           {
            "colorbar": {
             "outlinewidth": 0,
             "ticks": ""
            },
            "colorscale": [
             [
              0,
              "#0d0887"
             ],
             [
              0.1111111111111111,
              "#46039f"
             ],
             [
              0.2222222222222222,
              "#7201a8"
             ],
             [
              0.3333333333333333,
              "#9c179e"
             ],
             [
              0.4444444444444444,
              "#bd3786"
             ],
             [
              0.5555555555555556,
              "#d8576b"
             ],
             [
              0.6666666666666666,
              "#ed7953"
             ],
             [
              0.7777777777777778,
              "#fb9f3a"
             ],
             [
              0.8888888888888888,
              "#fdca26"
             ],
             [
              1,
              "#f0f921"
             ]
            ],
            "type": "histogram2d"
           }
          ],
          "histogram2dcontour": [
           {
            "colorbar": {
             "outlinewidth": 0,
             "ticks": ""
            },
            "colorscale": [
             [
              0,
              "#0d0887"
             ],
             [
              0.1111111111111111,
              "#46039f"
             ],
             [
              0.2222222222222222,
              "#7201a8"
             ],
             [
              0.3333333333333333,
              "#9c179e"
             ],
             [
              0.4444444444444444,
              "#bd3786"
             ],
             [
              0.5555555555555556,
              "#d8576b"
             ],
             [
              0.6666666666666666,
              "#ed7953"
             ],
             [
              0.7777777777777778,
              "#fb9f3a"
             ],
             [
              0.8888888888888888,
              "#fdca26"
             ],
             [
              1,
              "#f0f921"
             ]
            ],
            "type": "histogram2dcontour"
           }
          ],
          "mesh3d": [
           {
            "colorbar": {
             "outlinewidth": 0,
             "ticks": ""
            },
            "type": "mesh3d"
           }
          ],
          "parcoords": [
           {
            "line": {
             "colorbar": {
              "outlinewidth": 0,
              "ticks": ""
             }
            },
            "type": "parcoords"
           }
          ],
          "pie": [
           {
            "automargin": true,
            "type": "pie"
           }
          ],
          "scatter": [
           {
            "fillpattern": {
             "fillmode": "overlay",
             "size": 10,
             "solidity": 0.2
            },
            "type": "scatter"
           }
          ],
          "scatter3d": [
           {
            "line": {
             "colorbar": {
              "outlinewidth": 0,
              "ticks": ""
             }
            },
            "marker": {
             "colorbar": {
              "outlinewidth": 0,
              "ticks": ""
             }
            },
            "type": "scatter3d"
           }
          ],
          "scattercarpet": [
           {
            "marker": {
             "colorbar": {
              "outlinewidth": 0,
              "ticks": ""
             }
            },
            "type": "scattercarpet"
           }
          ],
          "scattergeo": [
           {
            "marker": {
             "colorbar": {
              "outlinewidth": 0,
              "ticks": ""
             }
            },
            "type": "scattergeo"
           }
          ],
          "scattergl": [
           {
            "marker": {
             "colorbar": {
              "outlinewidth": 0,
              "ticks": ""
             }
            },
            "type": "scattergl"
           }
          ],
          "scattermapbox": [
           {
            "marker": {
             "colorbar": {
              "outlinewidth": 0,
              "ticks": ""
             }
            },
            "type": "scattermapbox"
           }
          ],
          "scatterpolar": [
           {
            "marker": {
             "colorbar": {
              "outlinewidth": 0,
              "ticks": ""
             }
            },
            "type": "scatterpolar"
           }
          ],
          "scatterpolargl": [
           {
            "marker": {
             "colorbar": {
              "outlinewidth": 0,
              "ticks": ""
             }
            },
            "type": "scatterpolargl"
           }
          ],
          "scatterternary": [
           {
            "marker": {
             "colorbar": {
              "outlinewidth": 0,
              "ticks": ""
             }
            },
            "type": "scatterternary"
           }
          ],
          "surface": [
           {
            "colorbar": {
             "outlinewidth": 0,
             "ticks": ""
            },
            "colorscale": [
             [
              0,
              "#0d0887"
             ],
             [
              0.1111111111111111,
              "#46039f"
             ],
             [
              0.2222222222222222,
              "#7201a8"
             ],
             [
              0.3333333333333333,
              "#9c179e"
             ],
             [
              0.4444444444444444,
              "#bd3786"
             ],
             [
              0.5555555555555556,
              "#d8576b"
             ],
             [
              0.6666666666666666,
              "#ed7953"
             ],
             [
              0.7777777777777778,
              "#fb9f3a"
             ],
             [
              0.8888888888888888,
              "#fdca26"
             ],
             [
              1,
              "#f0f921"
             ]
            ],
            "type": "surface"
           }
          ],
          "table": [
           {
            "cells": {
             "fill": {
              "color": "#EBF0F8"
             },
             "line": {
              "color": "white"
             }
            },
            "header": {
             "fill": {
              "color": "#C8D4E3"
             },
             "line": {
              "color": "white"
             }
            },
            "type": "table"
           }
          ]
         },
         "layout": {
          "annotationdefaults": {
           "arrowcolor": "#2a3f5f",
           "arrowhead": 0,
           "arrowwidth": 1
          },
          "autotypenumbers": "strict",
          "coloraxis": {
           "colorbar": {
            "outlinewidth": 0,
            "ticks": ""
           }
          },
          "colorscale": {
           "diverging": [
            [
             0,
             "#8e0152"
            ],
            [
             0.1,
             "#c51b7d"
            ],
            [
             0.2,
             "#de77ae"
            ],
            [
             0.3,
             "#f1b6da"
            ],
            [
             0.4,
             "#fde0ef"
            ],
            [
             0.5,
             "#f7f7f7"
            ],
            [
             0.6,
             "#e6f5d0"
            ],
            [
             0.7,
             "#b8e186"
            ],
            [
             0.8,
             "#7fbc41"
            ],
            [
             0.9,
             "#4d9221"
            ],
            [
             1,
             "#276419"
            ]
           ],
           "sequential": [
            [
             0,
             "#0d0887"
            ],
            [
             0.1111111111111111,
             "#46039f"
            ],
            [
             0.2222222222222222,
             "#7201a8"
            ],
            [
             0.3333333333333333,
             "#9c179e"
            ],
            [
             0.4444444444444444,
             "#bd3786"
            ],
            [
             0.5555555555555556,
             "#d8576b"
            ],
            [
             0.6666666666666666,
             "#ed7953"
            ],
            [
             0.7777777777777778,
             "#fb9f3a"
            ],
            [
             0.8888888888888888,
             "#fdca26"
            ],
            [
             1,
             "#f0f921"
            ]
           ],
           "sequentialminus": [
            [
             0,
             "#0d0887"
            ],
            [
             0.1111111111111111,
             "#46039f"
            ],
            [
             0.2222222222222222,
             "#7201a8"
            ],
            [
             0.3333333333333333,
             "#9c179e"
            ],
            [
             0.4444444444444444,
             "#bd3786"
            ],
            [
             0.5555555555555556,
             "#d8576b"
            ],
            [
             0.6666666666666666,
             "#ed7953"
            ],
            [
             0.7777777777777778,
             "#fb9f3a"
            ],
            [
             0.8888888888888888,
             "#fdca26"
            ],
            [
             1,
             "#f0f921"
            ]
           ]
          },
          "colorway": [
           "#636efa",
           "#EF553B",
           "#00cc96",
           "#ab63fa",
           "#FFA15A",
           "#19d3f3",
           "#FF6692",
           "#B6E880",
           "#FF97FF",
           "#FECB52"
          ],
          "font": {
           "color": "#2a3f5f"
          },
          "geo": {
           "bgcolor": "white",
           "lakecolor": "white",
           "landcolor": "#E5ECF6",
           "showlakes": true,
           "showland": true,
           "subunitcolor": "white"
          },
          "hoverlabel": {
           "align": "left"
          },
          "hovermode": "closest",
          "mapbox": {
           "style": "light"
          },
          "paper_bgcolor": "white",
          "plot_bgcolor": "#E5ECF6",
          "polar": {
           "angularaxis": {
            "gridcolor": "white",
            "linecolor": "white",
            "ticks": ""
           },
           "bgcolor": "#E5ECF6",
           "radialaxis": {
            "gridcolor": "white",
            "linecolor": "white",
            "ticks": ""
           }
          },
          "scene": {
           "xaxis": {
            "backgroundcolor": "#E5ECF6",
            "gridcolor": "white",
            "gridwidth": 2,
            "linecolor": "white",
            "showbackground": true,
            "ticks": "",
            "zerolinecolor": "white"
           },
           "yaxis": {
            "backgroundcolor": "#E5ECF6",
            "gridcolor": "white",
            "gridwidth": 2,
            "linecolor": "white",
            "showbackground": true,
            "ticks": "",
            "zerolinecolor": "white"
           },
           "zaxis": {
            "backgroundcolor": "#E5ECF6",
            "gridcolor": "white",
            "gridwidth": 2,
            "linecolor": "white",
            "showbackground": true,
            "ticks": "",
            "zerolinecolor": "white"
           }
          },
          "shapedefaults": {
           "line": {
            "color": "#2a3f5f"
           }
          },
          "ternary": {
           "aaxis": {
            "gridcolor": "white",
            "linecolor": "white",
            "ticks": ""
           },
           "baxis": {
            "gridcolor": "white",
            "linecolor": "white",
            "ticks": ""
           },
           "bgcolor": "#E5ECF6",
           "caxis": {
            "gridcolor": "white",
            "linecolor": "white",
            "ticks": ""
           }
          },
          "title": {
           "x": 0.05
          },
          "xaxis": {
           "automargin": true,
           "gridcolor": "white",
           "linecolor": "white",
           "ticks": "",
           "title": {
            "standoff": 15
           },
           "zerolinecolor": "white",
           "zerolinewidth": 2
          },
          "yaxis": {
           "automargin": true,
           "gridcolor": "white",
           "linecolor": "white",
           "ticks": "",
           "title": {
            "standoff": 15
           },
           "zerolinecolor": "white",
           "zerolinewidth": 2
          }
         }
        },
        "xaxis": {
         "title": {
          "text": "Time [years]"
         }
        },
        "yaxis": {
         "title": {
          "text": "Shoreline position [m]"
         }
        }
       }
      }
     },
     "metadata": {},
     "output_type": "display_data"
    }
   ],
   "source": [
    "box = 'BOX_187_090_49'\n",
    "\n",
    "future_shorelinepositions(df_fut = df_fut, df_annual = df_annual, box = box)"
   ]
  },
  {
   "cell_type": "code",
   "execution_count": null,
   "metadata": {},
   "outputs": [],
   "source": []
  }
 ],
 "metadata": {
  "kernelspec": {
   "display_name": "geo_env",
   "language": "python",
   "name": "python3"
  },
  "language_info": {
   "codemirror_mode": {
    "name": "ipython",
    "version": 3
   },
   "file_extension": ".py",
   "mimetype": "text/x-python",
   "name": "python",
   "nbconvert_exporter": "python",
   "pygments_lexer": "ipython3",
   "version": "3.8.16"
  },
  "orig_nbformat": 4,
  "vscode": {
   "interpreter": {
    "hash": "87ae0984f36d95e078b67bd2b4bbb116aebe2e74206b8dbadfa9fc4cbc2b2df2"
   }
  }
 },
 "nbformat": 4,
 "nbformat_minor": 2
}
