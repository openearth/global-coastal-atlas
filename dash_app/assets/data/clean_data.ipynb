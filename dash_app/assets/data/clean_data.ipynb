{
 "cells": [
  {
   "cell_type": "code",
   "execution_count": null,
   "metadata": {},
   "outputs": [
    {
     "ename": "",
     "evalue": "",
     "output_type": "error",
     "traceback": [
      "\u001b[1;31mRunning cells with 'dash_app_env' requires the ipykernel package.\n",
      "\u001b[1;31mRun the following command to install 'ipykernel' into the Python environment. \n",
      "\u001b[1;31mCommand: 'conda install -n dash_app_env ipykernel --update-deps --force-reinstall'"
     ]
    }
   ],
   "source": [
    "import pandas as pd\n",
    "import numpy as np"
   ]
  },
  {
   "attachments": {},
   "cell_type": "markdown",
   "metadata": {},
   "source": [
    "# ShorelineMonitor"
   ]
  },
  {
   "attachments": {},
   "cell_type": "markdown",
   "metadata": {},
   "source": [
    "#### Annual Dataset"
   ]
  },
  {
   "cell_type": "code",
   "execution_count": null,
   "metadata": {},
   "outputs": [
    {
     "ename": "",
     "evalue": "",
     "output_type": "error",
     "traceback": [
      "\u001b[1;31mRunning cells with 'dash_app_env' requires the ipykernel package.\n",
      "\u001b[1;31mRun the following command to install 'ipykernel' into the Python environment. \n",
      "\u001b[1;31mCommand: 'conda install -n dash_app_env ipykernel --update-deps --force-reinstall'"
     ]
    }
   ],
   "source": [
    "# #Filter entire dataset\n",
    "# path_annual = r'P:\\1000545-054-globalbeaches\\03_Global_shorelines_update_2020\\Transect_Mapping\\Version_16102018\\CSV\\ShorelineMonitor_1984_2021_v1.5_set1.csv'\n",
    "# df_tot = pd.read_csv(path_annual)\n",
    "# df_NL = df_tot[df_tot['country_name'] == 'Netherlands']\n",
    "# df_NL.to_csv('shoreline_NL.csv')\n",
    "\n",
    "# Load filtered dataset\n",
    "df_NL = pd.read_csv('shoreline_NL.csv')\n",
    "\n",
    "df_NL.head(2)"
   ]
  },
  {
   "cell_type": "code",
   "execution_count": null,
   "metadata": {},
   "outputs": [
    {
     "ename": "",
     "evalue": "",
     "output_type": "error",
     "traceback": [
      "\u001b[1;31mRunning cells with 'dash_app_env' requires the ipykernel package.\n",
      "\u001b[1;31mRun the following command to install 'ipykernel' into the Python environment. \n",
      "\u001b[1;31mCommand: 'conda install -n dash_app_env ipykernel --update-deps --force-reinstall'"
     ]
    }
   ],
   "source": [
    "#path_shorelineNL = r'P:\\1000545-054-globalbeaches\\15_GlobalCoastalAtlas\\datasets\\ShorelineMonitor\\shoreline_NL.csv'\n",
    "df_NL['changerate'] = df_NL['changerate'].round(2)\n",
    "df_NL['color_cr'] = np.where(df_NL['changerate'] < 0, 'red', 'green')\n",
    "df_NL['color_sandy'] = np.where(df_NL['flag_sandy'] == True, 'brown', 'lightgrey')\n",
    "df_NL['flag_sandy'] = np.where(df_NL['flag_sandy'] == True, 'sand', 'other')\n",
    "df_NL = df_NL.rename(columns= {'dt': 'dt_annual', 'dist': 'dist_annual'})\n",
    "df_NL = df_NL.loc[:, ~df_NL.columns.str.contains('^Unnamed')]\n",
    "#df.to_csv(path_shorelineNL, index = False)\n",
    "\n",
    "df_NL.head(2)"
   ]
  },
  {
   "cell_type": "code",
   "execution_count": null,
   "metadata": {},
   "outputs": [
    {
     "ename": "",
     "evalue": "",
     "output_type": "error",
     "traceback": [
      "\u001b[1;31mRunning cells with 'dash_app_env' requires the ipykernel package.\n",
      "\u001b[1;31mRun the following command to install 'ipykernel' into the Python environment. \n",
      "\u001b[1;31mCommand: 'conda install -n dash_app_env ipykernel --update-deps --force-reinstall'"
     ]
    }
   ],
   "source": [
    "print(len(df_NL))\n",
    "\n",
    "print(np.unique(df_NL['flag_sandy']))"
   ]
  },
  {
   "attachments": {},
   "cell_type": "markdown",
   "metadata": {},
   "source": [
    "#### Monthly dataset"
   ]
  },
  {
   "cell_type": "code",
   "execution_count": null,
   "metadata": {},
   "outputs": [
    {
     "ename": "",
     "evalue": "",
     "output_type": "error",
     "traceback": [
      "\u001b[1;31mRunning cells with 'dash_app_env' requires the ipykernel package.\n",
      "\u001b[1;31mRun the following command to install 'ipykernel' into the Python environment. \n",
      "\u001b[1;31mCommand: 'conda install -n dash_app_env ipykernel --update-deps --force-reinstall'"
     ]
    }
   ],
   "source": [
    "path_monthly = r'P:\\11202268-hydraulic-engineering\\MSc_students\\Dante_van_der_Heijden\\02. Data\\ShorelineMonitor_monthly.csv'\n",
    "\n",
    "df_monthly = pd.read_csv(path_monthly)\n",
    "df_monthly = df_monthly.loc[:, ~df_monthly.columns.str.contains('^Unnamed')]\n",
    "df_monthly = df_monthly.rename(columns= {'dt': 'dt_monthly', 'dist': 'dist_monthly', 'outliers_1': 'outliers_annual'})\n",
    "df_monthly.head(2)"
   ]
  },
  {
   "cell_type": "code",
   "execution_count": null,
   "metadata": {},
   "outputs": [
    {
     "ename": "",
     "evalue": "",
     "output_type": "error",
     "traceback": [
      "\u001b[1;31mRunning cells with 'dash_app_env' requires the ipykernel package.\n",
      "\u001b[1;31mRun the following command to install 'ipykernel' into the Python environment. \n",
      "\u001b[1;31mCommand: 'conda install -n dash_app_env ipykernel --update-deps --force-reinstall'"
     ]
    }
   ],
   "source": [
    "df_both = df_NL.merge(df_monthly, how = 'left', on= 'transect_id')\n",
    "df_both = df_both.rename(columns= {'outliers_1': 'outliers_annual', \n",
    "                                   'outliers': 'outliers_monthly'\n",
    "                                   }\n",
    "                        )\n",
    "len(df_both)"
   ]
  },
  {
   "cell_type": "code",
   "execution_count": null,
   "metadata": {},
   "outputs": [
    {
     "ename": "",
     "evalue": "",
     "output_type": "error",
     "traceback": [
      "\u001b[1;31mRunning cells with 'dash_app_env' requires the ipykernel package.\n",
      "\u001b[1;31mRun the following command to install 'ipykernel' into the Python environment. \n",
      "\u001b[1;31mCommand: 'conda install -n dash_app_env ipykernel --update-deps --force-reinstall'"
     ]
    }
   ],
   "source": [
    "def color_line(hotspot_name):\n",
    "    if not pd.isna(hotspot_name):\n",
    "        if 'retreating' in hotspot_name:\n",
    "            return 'red'\n",
    "        else:\n",
    "            return 'green'\n",
    "    else: return 'green'\n",
    "\n",
    "df_both['color_line'] = df_both['hotspot'].apply(lambda x: color_line(x))\n",
    "\n",
    "df_both[df_both['hotspot'] == 'retreating_feature_polygon_65']['color_line']"
   ]
  },
  {
   "attachments": {},
   "cell_type": "markdown",
   "metadata": {},
   "source": [
    "#### Coast classification"
   ]
  },
  {
   "cell_type": "code",
   "execution_count": null,
   "metadata": {},
   "outputs": [
    {
     "ename": "",
     "evalue": "",
     "output_type": "error",
     "traceback": [
      "\u001b[1;31mRunning cells with 'dash_app_env' requires the ipykernel package.\n",
      "\u001b[1;31mRun the following command to install 'ipykernel' into the Python environment. \n",
      "\u001b[1;31mCommand: 'conda install -n dash_app_env ipykernel --update-deps --force-reinstall'"
     ]
    }
   ],
   "source": [
    "path_class = r'P:\\1000545-054-globalbeaches\\07_Muddy_Coasts\\Paper Final Scripts and Data\\Data\\WorldClassifiedTransects2020.csv'\n",
    "\n",
    "df_class = pd.read_csv(path_class)\n",
    "\n",
    "df_class.head(2)"
   ]
  },
  {
   "cell_type": "code",
   "execution_count": null,
   "metadata": {},
   "outputs": [
    {
     "ename": "",
     "evalue": "",
     "output_type": "error",
     "traceback": [
      "\u001b[1;31mRunning cells with 'dash_app_env' requires the ipykernel package.\n",
      "\u001b[1;31mRun the following command to install 'ipykernel' into the Python environment. \n",
      "\u001b[1;31mCommand: 'conda install -n dash_app_env ipykernel --update-deps --force-reinstall'"
     ]
    }
   ],
   "source": [
    "df_class.columns"
   ]
  },
  {
   "cell_type": "code",
   "execution_count": null,
   "metadata": {},
   "outputs": [
    {
     "ename": "",
     "evalue": "",
     "output_type": "error",
     "traceback": [
      "\u001b[1;31mRunning cells with 'dash_app_env' requires the ipykernel package.\n",
      "\u001b[1;31mRun the following command to install 'ipykernel' into the Python environment. \n",
      "\u001b[1;31mCommand: 'conda install -n dash_app_env ipykernel --update-deps --force-reinstall'"
     ]
    }
   ],
   "source": [
    "df_class.sand.iloc[0], df_class.mud.iloc[0], df_class.water.iloc[0], df_class.vegetation.iloc[0], df_class.other.iloc[0]"
   ]
  },
  {
   "cell_type": "code",
   "execution_count": null,
   "metadata": {},
   "outputs": [
    {
     "ename": "",
     "evalue": "",
     "output_type": "error",
     "traceback": [
      "\u001b[1;31mRunning cells with 'dash_app_env' requires the ipykernel package.\n",
      "\u001b[1;31mRun the following command to install 'ipykernel' into the Python environment. \n",
      "\u001b[1;31mCommand: 'conda install -n dash_app_env ipykernel --update-deps --force-reinstall'"
     ]
    }
   ],
   "source": [
    "def give_label(prediction):\n",
    "    label_dict = {0: 'sand', 1 : 'mud', 2: 'rocky', 3: 'vegetated', 4: 'other'}\n",
    "\n",
    "    if not pd.isna(prediction): return label_dict[prediction]\n",
    "    else: return 'other'\n",
    "\n",
    "df_class['prediction_label'] = df_class.prediction.apply(lambda x: give_label(x))\n",
    "\n",
    "df_class['prediction_label']"
   ]
  },
  {
   "cell_type": "code",
   "execution_count": null,
   "metadata": {},
   "outputs": [
    {
     "ename": "",
     "evalue": "",
     "output_type": "error",
     "traceback": [
      "\u001b[1;31mRunning cells with 'dash_app_env' requires the ipykernel package.\n",
      "\u001b[1;31mRun the following command to install 'ipykernel' into the Python environment. \n",
      "\u001b[1;31mCommand: 'conda install -n dash_app_env ipykernel --update-deps --force-reinstall'"
     ]
    }
   ],
   "source": [
    "df_class = df_class[['transect_id', 'prediction_label']]\n",
    "\n",
    "df_both2 = df_both.merge(df_class, how = 'left', on= 'transect_id')"
   ]
  },
  {
   "cell_type": "code",
   "execution_count": null,
   "metadata": {},
   "outputs": [
    {
     "ename": "",
     "evalue": "",
     "output_type": "error",
     "traceback": [
      "\u001b[1;31mRunning cells with 'dash_app_env' requires the ipykernel package.\n",
      "\u001b[1;31mRun the following command to install 'ipykernel' into the Python environment. \n",
      "\u001b[1;31mCommand: 'conda install -n dash_app_env ipykernel --update-deps --force-reinstall'"
     ]
    }
   ],
   "source": [
    "df_both2.to_csv('all_data.csv')"
   ]
  },
  {
   "cell_type": "code",
   "execution_count": null,
   "metadata": {},
   "outputs": [
    {
     "ename": "",
     "evalue": "",
     "output_type": "error",
     "traceback": [
      "\u001b[1;31mRunning cells with 'dash_app_env' requires the ipykernel package.\n",
      "\u001b[1;31mRun the following command to install 'ipykernel' into the Python environment. \n",
      "\u001b[1;31mCommand: 'conda install -n dash_app_env ipykernel --update-deps --force-reinstall'"
     ]
    }
   ],
   "source": [
    "df_both2.columns, len(df_both2)"
   ]
  }
 ],
 "metadata": {
  "kernelspec": {
   "display_name": "dash_app_env",
   "language": "python",
   "name": "python3"
  },
  "language_info": {
   "codemirror_mode": {
    "name": "ipython",
    "version": 3
   },
   "file_extension": ".py",
   "mimetype": "text/x-python",
   "name": "python",
   "nbconvert_exporter": "python",
   "pygments_lexer": "ipython3",
   "version": "3.11.0"
  },
  "orig_nbformat": 4,
  "vscode": {
   "interpreter": {
    "hash": "838a454bd3c45a0e7a2ecd7698ce08aec41b1a35c4530ebf307d1eec80b328d8"
   }
  }
 },
 "nbformat": 4,
 "nbformat_minor": 2
}
