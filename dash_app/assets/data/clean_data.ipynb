{
 "cells": [
  {
   "cell_type": "code",
   "execution_count": 1,
   "metadata": {},
   "outputs": [],
   "source": [
    "import pandas as pd\n",
    "import numpy as np"
   ]
  },
  {
   "attachments": {},
   "cell_type": "markdown",
   "metadata": {},
   "source": [
    "Merge all datasets together\n",
    "\n",
    "1. Annual\n",
    "2. Monthly\n",
    "3. Compositions "
   ]
  },
  {
   "attachments": {},
   "cell_type": "markdown",
   "metadata": {},
   "source": [
    "# ShorelineMonitor"
   ]
  },
  {
   "attachments": {},
   "cell_type": "markdown",
   "metadata": {},
   "source": [
    "#### Annual Dataset"
   ]
  },
  {
   "cell_type": "code",
   "execution_count": 2,
   "metadata": {},
   "outputs": [
    {
     "data": {
      "text/html": [
       "<div>\n",
       "<style scoped>\n",
       "    .dataframe tbody tr th:only-of-type {\n",
       "        vertical-align: middle;\n",
       "    }\n",
       "\n",
       "    .dataframe tbody tr th {\n",
       "        vertical-align: top;\n",
       "    }\n",
       "\n",
       "    .dataframe thead th {\n",
       "        text-align: right;\n",
       "    }\n",
       "</style>\n",
       "<table border=\"1\" class=\"dataframe\">\n",
       "  <thead>\n",
       "    <tr style=\"text-align: right;\">\n",
       "      <th></th>\n",
       "      <th>Unnamed: 0</th>\n",
       "      <th>transect_id</th>\n",
       "      <th>country_id</th>\n",
       "      <th>continent</th>\n",
       "      <th>country_name</th>\n",
       "      <th>changerate</th>\n",
       "      <th>changerate_unc</th>\n",
       "      <th>flag_sandy</th>\n",
       "      <th>no_shorelines</th>\n",
       "      <th>dt</th>\n",
       "      <th>...</th>\n",
       "      <th>Start_lat</th>\n",
       "      <th>Intersect_lon</th>\n",
       "      <th>Intersect_lat</th>\n",
       "      <th>End_lon</th>\n",
       "      <th>End_lat</th>\n",
       "      <th>coastline_idint</th>\n",
       "      <th>no_sedcomp</th>\n",
       "      <th>low_detect_shlines</th>\n",
       "      <th>err_changerate</th>\n",
       "      <th>err_timespan</th>\n",
       "    </tr>\n",
       "  </thead>\n",
       "  <tbody>\n",
       "    <tr>\n",
       "      <th>0</th>\n",
       "      <td>601822</td>\n",
       "      <td>BOX_117_121_0</td>\n",
       "      <td>NLD</td>\n",
       "      <td>Europe</td>\n",
       "      <td>Netherlands</td>\n",
       "      <td>0.309788</td>\n",
       "      <td>0.130099</td>\n",
       "      <td>False</td>\n",
       "      <td>31.0</td>\n",
       "      <td>[0.0, 2.0, 6.0, 7.0, 10.0, 12.0, 13.0, 14.0, 1...</td>\n",
       "      <td>...</td>\n",
       "      <td>12.295109</td>\n",
       "      <td>-68.401033</td>\n",
       "      <td>12.301967</td>\n",
       "      <td>-68.406639</td>\n",
       "      <td>12.308825</td>\n",
       "      <td>8637.0</td>\n",
       "      <td>1.0</td>\n",
       "      <td>1.0</td>\n",
       "      <td>1.0</td>\n",
       "      <td>1.0</td>\n",
       "    </tr>\n",
       "    <tr>\n",
       "      <th>1</th>\n",
       "      <td>601823</td>\n",
       "      <td>BOX_117_121_1</td>\n",
       "      <td>NLD</td>\n",
       "      <td>Europe</td>\n",
       "      <td>Netherlands</td>\n",
       "      <td>0.073617</td>\n",
       "      <td>0.124291</td>\n",
       "      <td>False</td>\n",
       "      <td>31.0</td>\n",
       "      <td>[0.0, 2.0, 6.0, 7.0, 10.0, 12.0, 13.0, 14.0, 1...</td>\n",
       "      <td>...</td>\n",
       "      <td>12.292725</td>\n",
       "      <td>-68.404540</td>\n",
       "      <td>12.299226</td>\n",
       "      <td>-68.410576</td>\n",
       "      <td>12.305726</td>\n",
       "      <td>8637.0</td>\n",
       "      <td>1.0</td>\n",
       "      <td>1.0</td>\n",
       "      <td>1.0</td>\n",
       "      <td>1.0</td>\n",
       "    </tr>\n",
       "  </tbody>\n",
       "</table>\n",
       "<p>2 rows × 28 columns</p>\n",
       "</div>"
      ],
      "text/plain": [
       "   Unnamed: 0    transect_id country_id continent country_name  changerate  \\\n",
       "0      601822  BOX_117_121_0        NLD    Europe  Netherlands    0.309788   \n",
       "1      601823  BOX_117_121_1        NLD    Europe  Netherlands    0.073617   \n",
       "\n",
       "   changerate_unc  flag_sandy  no_shorelines  \\\n",
       "0        0.130099       False           31.0   \n",
       "1        0.124291       False           31.0   \n",
       "\n",
       "                                                  dt  ...  Start_lat  \\\n",
       "0  [0.0, 2.0, 6.0, 7.0, 10.0, 12.0, 13.0, 14.0, 1...  ...  12.295109   \n",
       "1  [0.0, 2.0, 6.0, 7.0, 10.0, 12.0, 13.0, 14.0, 1...  ...  12.292725   \n",
       "\n",
       "   Intersect_lon Intersect_lat    End_lon    End_lat  coastline_idint  \\\n",
       "0     -68.401033     12.301967 -68.406639  12.308825           8637.0   \n",
       "1     -68.404540     12.299226 -68.410576  12.305726           8637.0   \n",
       "\n",
       "   no_sedcomp  low_detect_shlines  err_changerate  err_timespan  \n",
       "0         1.0                 1.0             1.0           1.0  \n",
       "1         1.0                 1.0             1.0           1.0  \n",
       "\n",
       "[2 rows x 28 columns]"
      ]
     },
     "execution_count": 2,
     "metadata": {},
     "output_type": "execute_result"
    }
   ],
   "source": [
    "# #Filter entire dataset\n",
    "# path_annual = r'P:\\1000545-054-globalbeaches\\03_Global_shorelines_update_2020\\Transect_Mapping\\Version_16102018\\CSV\\ShorelineMonitor_1984_2021_v1.5_set1.csv'\n",
    "# df_tot = pd.read_csv(path_annual)\n",
    "# df_NL = df_tot[df_tot['country_name'] == 'Netherlands']\n",
    "# df_NL.to_csv('shoreline_NL.csv')\n",
    "\n",
    "# Load filtered dataset\n",
    "df_NL = pd.read_csv('shoreline_NL.csv')\n",
    "\n",
    "df_NL.head(2)"
   ]
  },
  {
   "cell_type": "code",
   "execution_count": 3,
   "metadata": {},
   "outputs": [
    {
     "data": {
      "text/html": [
       "<div>\n",
       "<style scoped>\n",
       "    .dataframe tbody tr th:only-of-type {\n",
       "        vertical-align: middle;\n",
       "    }\n",
       "\n",
       "    .dataframe tbody tr th {\n",
       "        vertical-align: top;\n",
       "    }\n",
       "\n",
       "    .dataframe thead th {\n",
       "        text-align: right;\n",
       "    }\n",
       "</style>\n",
       "<table border=\"1\" class=\"dataframe\">\n",
       "  <thead>\n",
       "    <tr style=\"text-align: right;\">\n",
       "      <th></th>\n",
       "      <th>transect_id</th>\n",
       "      <th>country_id</th>\n",
       "      <th>continent</th>\n",
       "      <th>country_name</th>\n",
       "      <th>changerate</th>\n",
       "      <th>changerate_unc</th>\n",
       "      <th>flag_sandy</th>\n",
       "      <th>no_shorelines</th>\n",
       "      <th>dt_annual</th>\n",
       "      <th>dist_annual</th>\n",
       "      <th>...</th>\n",
       "      <th>Intersect_lat</th>\n",
       "      <th>End_lon</th>\n",
       "      <th>End_lat</th>\n",
       "      <th>coastline_idint</th>\n",
       "      <th>no_sedcomp</th>\n",
       "      <th>low_detect_shlines</th>\n",
       "      <th>err_changerate</th>\n",
       "      <th>err_timespan</th>\n",
       "      <th>color_cr</th>\n",
       "      <th>color_sandy</th>\n",
       "    </tr>\n",
       "  </thead>\n",
       "  <tbody>\n",
       "    <tr>\n",
       "      <th>0</th>\n",
       "      <td>BOX_117_121_0</td>\n",
       "      <td>NLD</td>\n",
       "      <td>Europe</td>\n",
       "      <td>Netherlands</td>\n",
       "      <td>0.31</td>\n",
       "      <td>0.130099</td>\n",
       "      <td>other</td>\n",
       "      <td>31.0</td>\n",
       "      <td>[0.0, 2.0, 6.0, 7.0, 10.0, 12.0, 13.0, 14.0, 1...</td>\n",
       "      <td>[929.9296367493945, 950.827504533188, 1247.116...</td>\n",
       "      <td>...</td>\n",
       "      <td>12.301967</td>\n",
       "      <td>-68.406639</td>\n",
       "      <td>12.308825</td>\n",
       "      <td>8637.0</td>\n",
       "      <td>1.0</td>\n",
       "      <td>1.0</td>\n",
       "      <td>1.0</td>\n",
       "      <td>1.0</td>\n",
       "      <td>green</td>\n",
       "      <td>lightgrey</td>\n",
       "    </tr>\n",
       "    <tr>\n",
       "      <th>1</th>\n",
       "      <td>BOX_117_121_1</td>\n",
       "      <td>NLD</td>\n",
       "      <td>Europe</td>\n",
       "      <td>Netherlands</td>\n",
       "      <td>0.07</td>\n",
       "      <td>0.124291</td>\n",
       "      <td>other</td>\n",
       "      <td>31.0</td>\n",
       "      <td>[0.0, 2.0, 6.0, 7.0, 10.0, 12.0, 13.0, 14.0, 1...</td>\n",
       "      <td>[942.6100702962765, 943.915055522753, 1487.204...</td>\n",
       "      <td>...</td>\n",
       "      <td>12.299226</td>\n",
       "      <td>-68.410576</td>\n",
       "      <td>12.305726</td>\n",
       "      <td>8637.0</td>\n",
       "      <td>1.0</td>\n",
       "      <td>1.0</td>\n",
       "      <td>1.0</td>\n",
       "      <td>1.0</td>\n",
       "      <td>green</td>\n",
       "      <td>lightgrey</td>\n",
       "    </tr>\n",
       "  </tbody>\n",
       "</table>\n",
       "<p>2 rows × 29 columns</p>\n",
       "</div>"
      ],
      "text/plain": [
       "     transect_id country_id continent country_name  changerate  \\\n",
       "0  BOX_117_121_0        NLD    Europe  Netherlands        0.31   \n",
       "1  BOX_117_121_1        NLD    Europe  Netherlands        0.07   \n",
       "\n",
       "   changerate_unc flag_sandy  no_shorelines  \\\n",
       "0        0.130099      other           31.0   \n",
       "1        0.124291      other           31.0   \n",
       "\n",
       "                                           dt_annual  \\\n",
       "0  [0.0, 2.0, 6.0, 7.0, 10.0, 12.0, 13.0, 14.0, 1...   \n",
       "1  [0.0, 2.0, 6.0, 7.0, 10.0, 12.0, 13.0, 14.0, 1...   \n",
       "\n",
       "                                         dist_annual  ...  Intersect_lat  \\\n",
       "0  [929.9296367493945, 950.827504533188, 1247.116...  ...      12.301967   \n",
       "1  [942.6100702962765, 943.915055522753, 1487.204...  ...      12.299226   \n",
       "\n",
       "     End_lon    End_lat  coastline_idint  no_sedcomp  low_detect_shlines  \\\n",
       "0 -68.406639  12.308825           8637.0         1.0                 1.0   \n",
       "1 -68.410576  12.305726           8637.0         1.0                 1.0   \n",
       "\n",
       "   err_changerate  err_timespan  color_cr  color_sandy  \n",
       "0             1.0           1.0     green    lightgrey  \n",
       "1             1.0           1.0     green    lightgrey  \n",
       "\n",
       "[2 rows x 29 columns]"
      ]
     },
     "execution_count": 3,
     "metadata": {},
     "output_type": "execute_result"
    }
   ],
   "source": [
    "#path_shorelineNL = r'P:\\1000545-054-globalbeaches\\15_GlobalCoastalAtlas\\datasets\\ShorelineMonitor\\shoreline_NL.csv'\n",
    "df_NL['changerate'] = df_NL['changerate'].round(2)\n",
    "df_NL['color_cr'] = np.where(df_NL['changerate'] < 0, 'red', 'green')\n",
    "df_NL['color_sandy'] = np.where(df_NL['flag_sandy'] == True, 'brown', 'lightgrey')\n",
    "df_NL['flag_sandy'] = np.where(df_NL['flag_sandy'] == True, 'sand', 'other')\n",
    "df_NL = df_NL.rename(columns= {'dt': 'dt_annual', 'dist': 'dist_annual'})\n",
    "df_NL = df_NL.loc[:, ~df_NL.columns.str.contains('^Unnamed')]\n",
    "#df.to_csv(path_shorelineNL, index = False)\n",
    "\n",
    "df_NL.head(2)"
   ]
  },
  {
   "cell_type": "code",
   "execution_count": 4,
   "metadata": {},
   "outputs": [
    {
     "name": "stdout",
     "output_type": "stream",
     "text": [
      "3072\n",
      "['other' 'sand']\n"
     ]
    }
   ],
   "source": [
    "print(len(df_NL))\n",
    "\n",
    "print(np.unique(df_NL['flag_sandy']))"
   ]
  },
  {
   "attachments": {},
   "cell_type": "markdown",
   "metadata": {},
   "source": [
    "#### Monthly dataset"
   ]
  },
  {
   "cell_type": "code",
   "execution_count": 5,
   "metadata": {},
   "outputs": [
    {
     "data": {
      "text/html": [
       "<div>\n",
       "<style scoped>\n",
       "    .dataframe tbody tr th:only-of-type {\n",
       "        vertical-align: middle;\n",
       "    }\n",
       "\n",
       "    .dataframe tbody tr th {\n",
       "        vertical-align: top;\n",
       "    }\n",
       "\n",
       "    .dataframe thead th {\n",
       "        text-align: right;\n",
       "    }\n",
       "</style>\n",
       "<table border=\"1\" class=\"dataframe\">\n",
       "  <thead>\n",
       "    <tr style=\"text-align: right;\">\n",
       "      <th></th>\n",
       "      <th>transect_id</th>\n",
       "      <th>transect_origin_x</th>\n",
       "      <th>transect_origin_y</th>\n",
       "      <th>transect_end_x</th>\n",
       "      <th>transect_end_y</th>\n",
       "      <th>dt_monthly</th>\n",
       "      <th>dist_monthly</th>\n",
       "      <th>outliers</th>\n",
       "      <th>hotspot</th>\n",
       "    </tr>\n",
       "  </thead>\n",
       "  <tbody>\n",
       "    <tr>\n",
       "      <th>0</th>\n",
       "      <td>BOX_117_067_110</td>\n",
       "      <td>-71.624166</td>\n",
       "      <td>10.990024</td>\n",
       "      <td>-71.607420</td>\n",
       "      <td>10.996413</td>\n",
       "      <td>[0.0, 31.0, 62.0, 90.0, 396.0, 427.0, 455.0, 6...</td>\n",
       "      <td>[-2.857791642818455, 6.388898734846833, 6.3888...</td>\n",
       "      <td>[24, 74, 75, 76]</td>\n",
       "      <td>prograding_feature_polygon_2167</td>\n",
       "    </tr>\n",
       "    <tr>\n",
       "      <th>1</th>\n",
       "      <td>BOX_117_067_111</td>\n",
       "      <td>-71.625000</td>\n",
       "      <td>10.991483</td>\n",
       "      <td>-71.610989</td>\n",
       "      <td>11.002523</td>\n",
       "      <td>[0.0, 31.0, 62.0, 90.0, 396.0, 427.0, 455.0, 6...</td>\n",
       "      <td>[-157.28827157623164, -157.28827157623164, -15...</td>\n",
       "      <td>[38, 39, 40, 83, 84]</td>\n",
       "      <td>prograding_feature_polygon_2167</td>\n",
       "    </tr>\n",
       "  </tbody>\n",
       "</table>\n",
       "</div>"
      ],
      "text/plain": [
       "       transect_id  transect_origin_x transect_origin_y  transect_end_x  \\\n",
       "0  BOX_117_067_110         -71.624166         10.990024      -71.607420   \n",
       "1  BOX_117_067_111         -71.625000         10.991483      -71.610989   \n",
       "\n",
       "   transect_end_y                                         dt_monthly  \\\n",
       "0       10.996413  [0.0, 31.0, 62.0, 90.0, 396.0, 427.0, 455.0, 6...   \n",
       "1       11.002523  [0.0, 31.0, 62.0, 90.0, 396.0, 427.0, 455.0, 6...   \n",
       "\n",
       "                                        dist_monthly              outliers  \\\n",
       "0  [-2.857791642818455, 6.388898734846833, 6.3888...      [24, 74, 75, 76]   \n",
       "1  [-157.28827157623164, -157.28827157623164, -15...  [38, 39, 40, 83, 84]   \n",
       "\n",
       "                           hotspot  \n",
       "0  prograding_feature_polygon_2167  \n",
       "1  prograding_feature_polygon_2167  "
      ]
     },
     "execution_count": 5,
     "metadata": {},
     "output_type": "execute_result"
    }
   ],
   "source": [
    "path_monthly = r'P:\\11202268-hydraulic-engineering\\MSc_students\\Dante_van_der_Heijden\\02. Data\\ShorelineMonitor_monthly.csv'\n",
    "\n",
    "df_monthly = pd.read_csv(path_monthly)\n",
    "df_monthly = df_monthly.loc[:, ~df_monthly.columns.str.contains('^Unnamed')]\n",
    "df_monthly = df_monthly.rename(columns= {'dt': 'dt_monthly', 'dist': 'dist_monthly', 'outliers_1': 'outliers_annual'})\n",
    "df_monthly.head(2)"
   ]
  },
  {
   "cell_type": "code",
   "execution_count": 6,
   "metadata": {},
   "outputs": [
    {
     "data": {
      "text/plain": [
       "3074"
      ]
     },
     "execution_count": 6,
     "metadata": {},
     "output_type": "execute_result"
    }
   ],
   "source": [
    "df_both = df_NL.merge(df_monthly, how = 'left', on= 'transect_id')\n",
    "df_both = df_both.rename(columns= {'outliers_1': 'outliers_annual', \n",
    "                                   'outliers': 'outliers_monthly'\n",
    "                                   }\n",
    "                        )\n",
    "len(df_both)"
   ]
  },
  {
   "cell_type": "code",
   "execution_count": 7,
   "metadata": {},
   "outputs": [
    {
     "data": {
      "text/plain": [
       "1386    red\n",
       "1387    red\n",
       "1388    red\n",
       "Name: color_line, dtype: object"
      ]
     },
     "execution_count": 7,
     "metadata": {},
     "output_type": "execute_result"
    }
   ],
   "source": [
    "def color_line(hotspot_name):\n",
    "    if not pd.isna(hotspot_name):\n",
    "        if 'retreating' in hotspot_name:\n",
    "            return 'red'\n",
    "        else:\n",
    "            return 'green'\n",
    "    else: return 'green'\n",
    "\n",
    "df_both['color_line'] = df_both['hotspot'].apply(lambda x: color_line(x))\n",
    "\n",
    "df_both[df_both['hotspot'] == 'retreating_feature_polygon_65']['color_line']"
   ]
  },
  {
   "attachments": {},
   "cell_type": "markdown",
   "metadata": {},
   "source": [
    "#### Coast classification"
   ]
  },
  {
   "cell_type": "code",
   "execution_count": 8,
   "metadata": {},
   "outputs": [
    {
     "data": {
      "text/html": [
       "<div>\n",
       "<style scoped>\n",
       "    .dataframe tbody tr th:only-of-type {\n",
       "        vertical-align: middle;\n",
       "    }\n",
       "\n",
       "    .dataframe tbody tr th {\n",
       "        vertical-align: top;\n",
       "    }\n",
       "\n",
       "    .dataframe thead th {\n",
       "        text-align: right;\n",
       "    }\n",
       "</style>\n",
       "<table border=\"1\" class=\"dataframe\">\n",
       "  <thead>\n",
       "    <tr style=\"text-align: right;\">\n",
       "      <th></th>\n",
       "      <th>Unnamed: 0.2</th>\n",
       "      <th>Unnamed: 0</th>\n",
       "      <th>transect_id</th>\n",
       "      <th>country_name</th>\n",
       "      <th>continent</th>\n",
       "      <th>flag_sandy</th>\n",
       "      <th>New_Start_lon</th>\n",
       "      <th>New_Start_lat</th>\n",
       "      <th>New_End_lon</th>\n",
       "      <th>New_End_lat</th>\n",
       "      <th>...</th>\n",
       "      <th>intertidal</th>\n",
       "      <th>gsw</th>\n",
       "      <th>maxtemp</th>\n",
       "      <th>mintemp</th>\n",
       "      <th>mhhw</th>\n",
       "      <th>mllw</th>\n",
       "      <th>tidal range</th>\n",
       "      <th>prediction</th>\n",
       "      <th>Unnamed: 0.1</th>\n",
       "      <th>index</th>\n",
       "    </tr>\n",
       "  </thead>\n",
       "  <tbody>\n",
       "    <tr>\n",
       "      <th>0</th>\n",
       "      <td>0</td>\n",
       "      <td>0</td>\n",
       "      <td>BOX_028_000_0</td>\n",
       "      <td>Chile</td>\n",
       "      <td>South America</td>\n",
       "      <td>True</td>\n",
       "      <td>-72.982524</td>\n",
       "      <td>-54.459554</td>\n",
       "      <td>-72.995211</td>\n",
       "      <td>-54.448287</td>\n",
       "      <td>...</td>\n",
       "      <td>0</td>\n",
       "      <td>480</td>\n",
       "      <td>11.5</td>\n",
       "      <td>-0.8</td>\n",
       "      <td>0.109336</td>\n",
       "      <td>-0.082949</td>\n",
       "      <td>0.192285</td>\n",
       "      <td>2.0</td>\n",
       "      <td>0.0</td>\n",
       "      <td>NaN</td>\n",
       "    </tr>\n",
       "    <tr>\n",
       "      <th>1</th>\n",
       "      <td>1</td>\n",
       "      <td>1</td>\n",
       "      <td>BOX_028_000_1</td>\n",
       "      <td>Chile</td>\n",
       "      <td>South America</td>\n",
       "      <td>True</td>\n",
       "      <td>-72.986282</td>\n",
       "      <td>-54.460984</td>\n",
       "      <td>-72.998969</td>\n",
       "      <td>-54.449717</td>\n",
       "      <td>...</td>\n",
       "      <td>0</td>\n",
       "      <td>640</td>\n",
       "      <td>11.5</td>\n",
       "      <td>-0.8</td>\n",
       "      <td>0.109336</td>\n",
       "      <td>-0.082949</td>\n",
       "      <td>0.192285</td>\n",
       "      <td>2.0</td>\n",
       "      <td>1.0</td>\n",
       "      <td>NaN</td>\n",
       "    </tr>\n",
       "  </tbody>\n",
       "</table>\n",
       "<p>2 rows × 35 columns</p>\n",
       "</div>"
      ],
      "text/plain": [
       "   Unnamed: 0.2  Unnamed: 0    transect_id country_name      continent  \\\n",
       "0             0           0  BOX_028_000_0        Chile  South America   \n",
       "1             1           1  BOX_028_000_1        Chile  South America   \n",
       "\n",
       "   flag_sandy  New_Start_lon  New_Start_lat  New_End_lon  New_End_lat  ...  \\\n",
       "0        True     -72.982524     -54.459554   -72.995211   -54.448287  ...   \n",
       "1        True     -72.986282     -54.460984   -72.998969   -54.449717  ...   \n",
       "\n",
       "   intertidal  gsw  maxtemp mintemp      mhhw      mllw  tidal range  \\\n",
       "0           0  480     11.5    -0.8  0.109336 -0.082949     0.192285   \n",
       "1           0  640     11.5    -0.8  0.109336 -0.082949     0.192285   \n",
       "\n",
       "   prediction  Unnamed: 0.1  index  \n",
       "0         2.0           0.0    NaN  \n",
       "1         2.0           1.0    NaN  \n",
       "\n",
       "[2 rows x 35 columns]"
      ]
     },
     "execution_count": 8,
     "metadata": {},
     "output_type": "execute_result"
    }
   ],
   "source": [
    "path_class = r'P:\\1000545-054-globalbeaches\\07_Muddy_Coasts\\Paper Final Scripts and Data\\Data\\WorldClassifiedTransects2020.csv'\n",
    "\n",
    "df_class = pd.read_csv(path_class)\n",
    "\n",
    "df_class.head(2)"
   ]
  },
  {
   "cell_type": "code",
   "execution_count": 9,
   "metadata": {},
   "outputs": [
    {
     "data": {
      "text/plain": [
       "Index(['Unnamed: 0.2', 'Unnamed: 0', 'transect_id', 'country_name',\n",
       "       'continent', 'flag_sandy', 'New_Start_lon', 'New_Start_lat',\n",
       "       'New_End_lon', 'New_End_lat', 'Center_lon', 'Center_lat', 'Length',\n",
       "       'box_id', 'abs lat', 'sand', 'mud', 'water', 'vegetation', 'other',\n",
       "       'turbid', 'dry', 'height max', 'height var', 'mangrove', 'intertidal',\n",
       "       'gsw', 'maxtemp', 'mintemp', 'mhhw', 'mllw', 'tidal range',\n",
       "       'prediction', 'Unnamed: 0.1', 'index'],\n",
       "      dtype='object')"
      ]
     },
     "execution_count": 9,
     "metadata": {},
     "output_type": "execute_result"
    }
   ],
   "source": [
    "df_class.columns"
   ]
  },
  {
   "cell_type": "code",
   "execution_count": 10,
   "metadata": {},
   "outputs": [
    {
     "data": {
      "text/plain": [
       "(0, 120, 580, 550, 80)"
      ]
     },
     "execution_count": 10,
     "metadata": {},
     "output_type": "execute_result"
    }
   ],
   "source": [
    "df_class.sand.iloc[0], df_class.mud.iloc[0], df_class.water.iloc[0], df_class.vegetation.iloc[0], df_class.other.iloc[0]"
   ]
  },
  {
   "cell_type": "code",
   "execution_count": 11,
   "metadata": {},
   "outputs": [
    {
     "data": {
      "text/plain": [
       "0              rocky\n",
       "1              rocky\n",
       "2              rocky\n",
       "3              rocky\n",
       "4              rocky\n",
       "             ...    \n",
       "1826990    vegetated\n",
       "1826991        rocky\n",
       "1826992        rocky\n",
       "1826993         sand\n",
       "1826994         sand\n",
       "Name: prediction_label, Length: 1826995, dtype: object"
      ]
     },
     "execution_count": 11,
     "metadata": {},
     "output_type": "execute_result"
    }
   ],
   "source": [
    "def give_label(prediction):\n",
    "    label_dict = {0: 'sand', 1 : 'mud', 2: 'rocky', 3: 'vegetated', 4: 'other'}\n",
    "\n",
    "    if not pd.isna(prediction): return label_dict[prediction]\n",
    "    else: return 'other'\n",
    "\n",
    "df_class['prediction_label'] = df_class.prediction.apply(lambda x: give_label(x))\n",
    "\n",
    "df_class['prediction_label']"
   ]
  },
  {
   "cell_type": "code",
   "execution_count": 12,
   "metadata": {},
   "outputs": [],
   "source": [
    "df_class = df_class[['transect_id', 'prediction_label']]\n",
    "\n",
    "df_both2 = df_both.merge(df_class, how = 'left', on= 'transect_id')"
   ]
  },
  {
   "cell_type": "code",
   "execution_count": 13,
   "metadata": {},
   "outputs": [],
   "source": [
    "df_both2.to_csv('all_data.csv')"
   ]
  },
  {
   "cell_type": "code",
   "execution_count": 14,
   "metadata": {},
   "outputs": [
    {
     "data": {
      "text/plain": [
       "(Index(['transect_id', 'country_id', 'continent', 'country_name', 'changerate',\n",
       "        'changerate_unc', 'flag_sandy', 'no_shorelines', 'dt_annual',\n",
       "        'dist_annual', 'RMSE', 'outliers_annual', 'outliers_2', 'Timespan',\n",
       "        'intercept', 'intercept_unc', 'Start_lon', 'Start_lat', 'Intersect_lon',\n",
       "        'Intersect_lat', 'End_lon', 'End_lat', 'coastline_idint', 'no_sedcomp',\n",
       "        'low_detect_shlines', 'err_changerate', 'err_timespan', 'color_cr',\n",
       "        'color_sandy', 'transect_origin_x', 'transect_origin_y',\n",
       "        'transect_end_x', 'transect_end_y', 'dt_monthly', 'dist_monthly',\n",
       "        'outliers_monthly', 'hotspot', 'color_line', 'prediction_label'],\n",
       "       dtype='object'),\n",
       " 3074)"
      ]
     },
     "execution_count": 14,
     "metadata": {},
     "output_type": "execute_result"
    }
   ],
   "source": [
    "df_both2.columns, len(df_both2)"
   ]
  }
 ],
 "metadata": {
  "kernelspec": {
   "display_name": "dash_env",
   "language": "python",
   "name": "python3"
  },
  "language_info": {
   "codemirror_mode": {
    "name": "ipython",
    "version": 3
   },
   "file_extension": ".py",
   "mimetype": "text/x-python",
   "name": "python",
   "nbconvert_exporter": "python",
   "pygments_lexer": "ipython3",
   "version": "3.7.10"
  },
  "orig_nbformat": 4,
  "vscode": {
   "interpreter": {
    "hash": "ca91b833bf6de80061c4c353bf58ea3d218976aaa609636284a7d9e794d3e935"
   }
  }
 },
 "nbformat": 4,
 "nbformat_minor": 2
}
