{
 "cells": [
  {
   "cell_type": "code",
   "execution_count": 130,
   "metadata": {},
   "outputs": [],
   "source": [
    "import pandas as pd\n",
    "import numpy as np\n",
    "import os\n",
    "import geopandas as gpd"
   ]
  },
  {
   "attachments": {},
   "cell_type": "markdown",
   "metadata": {},
   "source": [
    "Merge all datasets together\n",
    "\n",
    "1. Annual\n",
    "2. Monthly\n",
    "3. Compositions "
   ]
  },
  {
   "attachments": {},
   "cell_type": "markdown",
   "metadata": {},
   "source": [
    "# ShorelineMonitor"
   ]
  },
  {
   "attachments": {},
   "cell_type": "markdown",
   "metadata": {},
   "source": [
    "#### Annual Dataset"
   ]
  },
  {
   "cell_type": "code",
   "execution_count": 131,
   "metadata": {},
   "outputs": [
    {
     "data": {
      "text/html": [
       "<div>\n",
       "<style scoped>\n",
       "    .dataframe tbody tr th:only-of-type {\n",
       "        vertical-align: middle;\n",
       "    }\n",
       "\n",
       "    .dataframe tbody tr th {\n",
       "        vertical-align: top;\n",
       "    }\n",
       "\n",
       "    .dataframe thead th {\n",
       "        text-align: right;\n",
       "    }\n",
       "</style>\n",
       "<table border=\"1\" class=\"dataframe\">\n",
       "  <thead>\n",
       "    <tr style=\"text-align: right;\">\n",
       "      <th></th>\n",
       "      <th>Unnamed: 0</th>\n",
       "      <th>transect_id</th>\n",
       "      <th>country_id</th>\n",
       "      <th>continent</th>\n",
       "      <th>country_name</th>\n",
       "      <th>changerate</th>\n",
       "      <th>changerate_unc</th>\n",
       "      <th>flag_sandy</th>\n",
       "      <th>no_shorelines</th>\n",
       "      <th>dt</th>\n",
       "      <th>...</th>\n",
       "      <th>Start_lat</th>\n",
       "      <th>Intersect_lon</th>\n",
       "      <th>Intersect_lat</th>\n",
       "      <th>End_lon</th>\n",
       "      <th>End_lat</th>\n",
       "      <th>coastline_idint</th>\n",
       "      <th>no_sedcomp</th>\n",
       "      <th>low_detect_shlines</th>\n",
       "      <th>err_changerate</th>\n",
       "      <th>err_timespan</th>\n",
       "    </tr>\n",
       "  </thead>\n",
       "  <tbody>\n",
       "    <tr>\n",
       "      <th>0</th>\n",
       "      <td>601822</td>\n",
       "      <td>BOX_117_121_0</td>\n",
       "      <td>NLD</td>\n",
       "      <td>Europe</td>\n",
       "      <td>Netherlands</td>\n",
       "      <td>0.309788</td>\n",
       "      <td>0.130099</td>\n",
       "      <td>False</td>\n",
       "      <td>31.0</td>\n",
       "      <td>[0.0, 2.0, 6.0, 7.0, 10.0, 12.0, 13.0, 14.0, 1...</td>\n",
       "      <td>...</td>\n",
       "      <td>12.295109</td>\n",
       "      <td>-68.401033</td>\n",
       "      <td>12.301967</td>\n",
       "      <td>-68.406639</td>\n",
       "      <td>12.308825</td>\n",
       "      <td>8637.0</td>\n",
       "      <td>1.0</td>\n",
       "      <td>1.0</td>\n",
       "      <td>1.0</td>\n",
       "      <td>1.0</td>\n",
       "    </tr>\n",
       "    <tr>\n",
       "      <th>1</th>\n",
       "      <td>601823</td>\n",
       "      <td>BOX_117_121_1</td>\n",
       "      <td>NLD</td>\n",
       "      <td>Europe</td>\n",
       "      <td>Netherlands</td>\n",
       "      <td>0.073617</td>\n",
       "      <td>0.124291</td>\n",
       "      <td>False</td>\n",
       "      <td>31.0</td>\n",
       "      <td>[0.0, 2.0, 6.0, 7.0, 10.0, 12.0, 13.0, 14.0, 1...</td>\n",
       "      <td>...</td>\n",
       "      <td>12.292725</td>\n",
       "      <td>-68.404540</td>\n",
       "      <td>12.299226</td>\n",
       "      <td>-68.410576</td>\n",
       "      <td>12.305726</td>\n",
       "      <td>8637.0</td>\n",
       "      <td>1.0</td>\n",
       "      <td>1.0</td>\n",
       "      <td>1.0</td>\n",
       "      <td>1.0</td>\n",
       "    </tr>\n",
       "  </tbody>\n",
       "</table>\n",
       "<p>2 rows × 28 columns</p>\n",
       "</div>"
      ],
      "text/plain": [
       "   Unnamed: 0    transect_id country_id continent country_name  changerate  \\\n",
       "0      601822  BOX_117_121_0        NLD    Europe  Netherlands    0.309788   \n",
       "1      601823  BOX_117_121_1        NLD    Europe  Netherlands    0.073617   \n",
       "\n",
       "   changerate_unc  flag_sandy  no_shorelines  \\\n",
       "0        0.130099       False           31.0   \n",
       "1        0.124291       False           31.0   \n",
       "\n",
       "                                                  dt  ...  Start_lat  \\\n",
       "0  [0.0, 2.0, 6.0, 7.0, 10.0, 12.0, 13.0, 14.0, 1...  ...  12.295109   \n",
       "1  [0.0, 2.0, 6.0, 7.0, 10.0, 12.0, 13.0, 14.0, 1...  ...  12.292725   \n",
       "\n",
       "   Intersect_lon Intersect_lat    End_lon    End_lat  coastline_idint  \\\n",
       "0     -68.401033     12.301967 -68.406639  12.308825           8637.0   \n",
       "1     -68.404540     12.299226 -68.410576  12.305726           8637.0   \n",
       "\n",
       "   no_sedcomp  low_detect_shlines  err_changerate  err_timespan  \n",
       "0         1.0                 1.0             1.0           1.0  \n",
       "1         1.0                 1.0             1.0           1.0  \n",
       "\n",
       "[2 rows x 28 columns]"
      ]
     },
     "execution_count": 131,
     "metadata": {},
     "output_type": "execute_result"
    }
   ],
   "source": [
    "# #Filter entire dataset\n",
    "# path_annual = r'P:\\1000545-054-globalbeaches\\03_Global_shorelines_update_2020\\Transect_Mapping\\Version_16102018\\CSV\\ShorelineMonitor_1984_2021_v1.5_set1.csv'\n",
    "# df_tot = pd.read_csv(path_annual)\n",
    "# df_annual = df_tot[df_tot['country_name'] == 'Netherlands']\n",
    "# df_annual.to_csv('shoreline_NL.csv')\n",
    "\n",
    "# Load filtered dataset\n",
    "df_annual = pd.read_csv('shoreline_NL.csv')\n",
    "\n",
    "df_annual.head(2)"
   ]
  },
  {
   "cell_type": "code",
   "execution_count": 132,
   "metadata": {},
   "outputs": [
    {
     "data": {
      "text/html": [
       "<div>\n",
       "<style scoped>\n",
       "    .dataframe tbody tr th:only-of-type {\n",
       "        vertical-align: middle;\n",
       "    }\n",
       "\n",
       "    .dataframe tbody tr th {\n",
       "        vertical-align: top;\n",
       "    }\n",
       "\n",
       "    .dataframe thead th {\n",
       "        text-align: right;\n",
       "    }\n",
       "</style>\n",
       "<table border=\"1\" class=\"dataframe\">\n",
       "  <thead>\n",
       "    <tr style=\"text-align: right;\">\n",
       "      <th></th>\n",
       "      <th>transect_id</th>\n",
       "      <th>country_id</th>\n",
       "      <th>continent</th>\n",
       "      <th>country_name</th>\n",
       "      <th>changerate</th>\n",
       "      <th>changerate_unc</th>\n",
       "      <th>flag_sandy</th>\n",
       "      <th>no_shorelines</th>\n",
       "      <th>dt_annual</th>\n",
       "      <th>dist_annual</th>\n",
       "      <th>...</th>\n",
       "      <th>Intersect_lat</th>\n",
       "      <th>End_lon</th>\n",
       "      <th>End_lat</th>\n",
       "      <th>coastline_idint</th>\n",
       "      <th>no_sedcomp</th>\n",
       "      <th>low_detect_shlines</th>\n",
       "      <th>err_changerate</th>\n",
       "      <th>err_timespan</th>\n",
       "      <th>color_cr</th>\n",
       "      <th>color_sandy</th>\n",
       "    </tr>\n",
       "  </thead>\n",
       "  <tbody>\n",
       "    <tr>\n",
       "      <th>0</th>\n",
       "      <td>BOX_117_121_0</td>\n",
       "      <td>NLD</td>\n",
       "      <td>Europe</td>\n",
       "      <td>Netherlands</td>\n",
       "      <td>0.31</td>\n",
       "      <td>0.130099</td>\n",
       "      <td>other</td>\n",
       "      <td>31.0</td>\n",
       "      <td>[0.0, 2.0, 6.0, 7.0, 10.0, 12.0, 13.0, 14.0, 1...</td>\n",
       "      <td>[929.9296367493945, 950.827504533188, 1247.116...</td>\n",
       "      <td>...</td>\n",
       "      <td>12.301967</td>\n",
       "      <td>-68.406639</td>\n",
       "      <td>12.308825</td>\n",
       "      <td>8637.0</td>\n",
       "      <td>1.0</td>\n",
       "      <td>1.0</td>\n",
       "      <td>1.0</td>\n",
       "      <td>1.0</td>\n",
       "      <td>green</td>\n",
       "      <td>lightgrey</td>\n",
       "    </tr>\n",
       "    <tr>\n",
       "      <th>1</th>\n",
       "      <td>BOX_117_121_1</td>\n",
       "      <td>NLD</td>\n",
       "      <td>Europe</td>\n",
       "      <td>Netherlands</td>\n",
       "      <td>0.07</td>\n",
       "      <td>0.124291</td>\n",
       "      <td>other</td>\n",
       "      <td>31.0</td>\n",
       "      <td>[0.0, 2.0, 6.0, 7.0, 10.0, 12.0, 13.0, 14.0, 1...</td>\n",
       "      <td>[942.6100702962765, 943.915055522753, 1487.204...</td>\n",
       "      <td>...</td>\n",
       "      <td>12.299226</td>\n",
       "      <td>-68.410576</td>\n",
       "      <td>12.305726</td>\n",
       "      <td>8637.0</td>\n",
       "      <td>1.0</td>\n",
       "      <td>1.0</td>\n",
       "      <td>1.0</td>\n",
       "      <td>1.0</td>\n",
       "      <td>green</td>\n",
       "      <td>lightgrey</td>\n",
       "    </tr>\n",
       "  </tbody>\n",
       "</table>\n",
       "<p>2 rows × 29 columns</p>\n",
       "</div>"
      ],
      "text/plain": [
       "     transect_id country_id continent country_name  changerate  \\\n",
       "0  BOX_117_121_0        NLD    Europe  Netherlands        0.31   \n",
       "1  BOX_117_121_1        NLD    Europe  Netherlands        0.07   \n",
       "\n",
       "   changerate_unc flag_sandy  no_shorelines  \\\n",
       "0        0.130099      other           31.0   \n",
       "1        0.124291      other           31.0   \n",
       "\n",
       "                                           dt_annual  \\\n",
       "0  [0.0, 2.0, 6.0, 7.0, 10.0, 12.0, 13.0, 14.0, 1...   \n",
       "1  [0.0, 2.0, 6.0, 7.0, 10.0, 12.0, 13.0, 14.0, 1...   \n",
       "\n",
       "                                         dist_annual  ...  Intersect_lat  \\\n",
       "0  [929.9296367493945, 950.827504533188, 1247.116...  ...      12.301967   \n",
       "1  [942.6100702962765, 943.915055522753, 1487.204...  ...      12.299226   \n",
       "\n",
       "     End_lon    End_lat  coastline_idint  no_sedcomp  low_detect_shlines  \\\n",
       "0 -68.406639  12.308825           8637.0         1.0                 1.0   \n",
       "1 -68.410576  12.305726           8637.0         1.0                 1.0   \n",
       "\n",
       "   err_changerate  err_timespan  color_cr  color_sandy  \n",
       "0             1.0           1.0     green    lightgrey  \n",
       "1             1.0           1.0     green    lightgrey  \n",
       "\n",
       "[2 rows x 29 columns]"
      ]
     },
     "execution_count": 132,
     "metadata": {},
     "output_type": "execute_result"
    }
   ],
   "source": [
    "#path_shorelineNL = r'P:\\1000545-054-globalbeaches\\15_GlobalCoastalAtlas\\datasets\\ShorelineMonitor\\shoreline_NL.csv'\n",
    "df_annual['changerate'] = df_annual['changerate'].round(2)\n",
    "df_annual['color_cr'] = np.where(df_annual['changerate'] < 0, 'red', 'green')\n",
    "df_annual['color_sandy'] = np.where(df_annual['flag_sandy'] == True, 'brown', 'lightgrey')\n",
    "df_annual['flag_sandy'] = np.where(df_annual['flag_sandy'] == True, 'sand', 'other')\n",
    "df_annual = df_annual.rename(columns= {'dt': 'dt_annual', 'dist': 'dist_annual'})\n",
    "df_annual = df_annual.loc[:, ~df_annual.columns.str.contains('^Unnamed')]\n",
    "#df.to_csv(path_shorelineNL, index = False)\n",
    "\n",
    "df_annual.head(2)"
   ]
  },
  {
   "cell_type": "code",
   "execution_count": 133,
   "metadata": {},
   "outputs": [
    {
     "data": {
      "text/plain": [
       "Index(['transect_id', 'country_id', 'continent', 'country_name', 'changerate',\n",
       "       'changerate_unc', 'flag_sandy', 'no_shorelines', 'dt_annual',\n",
       "       'dist_annual', 'RMSE', 'outliers_1', 'outliers_2', 'Timespan',\n",
       "       'intercept', 'intercept_unc', 'Start_lon', 'Start_lat', 'Intersect_lon',\n",
       "       'Intersect_lat', 'End_lon', 'End_lat', 'coastline_idint', 'no_sedcomp',\n",
       "       'low_detect_shlines', 'err_changerate', 'err_timespan', 'color_cr',\n",
       "       'color_sandy'],\n",
       "      dtype='object')"
      ]
     },
     "execution_count": 133,
     "metadata": {},
     "output_type": "execute_result"
    }
   ],
   "source": [
    "df_annual.columns"
   ]
  },
  {
   "cell_type": "code",
   "execution_count": 134,
   "metadata": {},
   "outputs": [
    {
     "name": "stdout",
     "output_type": "stream",
     "text": [
      "3072\n",
      "['other' 'sand']\n"
     ]
    }
   ],
   "source": [
    "print(len(df_annual))\n",
    "\n",
    "print(np.unique(df_annual['flag_sandy']))"
   ]
  },
  {
   "attachments": {},
   "cell_type": "markdown",
   "metadata": {},
   "source": [
    "#### Monthly dataset"
   ]
  },
  {
   "cell_type": "code",
   "execution_count": 135,
   "metadata": {},
   "outputs": [
    {
     "data": {
      "text/html": [
       "<div>\n",
       "<style scoped>\n",
       "    .dataframe tbody tr th:only-of-type {\n",
       "        vertical-align: middle;\n",
       "    }\n",
       "\n",
       "    .dataframe tbody tr th {\n",
       "        vertical-align: top;\n",
       "    }\n",
       "\n",
       "    .dataframe thead th {\n",
       "        text-align: right;\n",
       "    }\n",
       "</style>\n",
       "<table border=\"1\" class=\"dataframe\">\n",
       "  <thead>\n",
       "    <tr style=\"text-align: right;\">\n",
       "      <th></th>\n",
       "      <th>transect_id</th>\n",
       "      <th>transect_origin_x</th>\n",
       "      <th>transect_origin_y</th>\n",
       "      <th>transect_end_x</th>\n",
       "      <th>transect_end_y</th>\n",
       "      <th>dt_monthly</th>\n",
       "      <th>dist_monthly</th>\n",
       "      <th>outliers</th>\n",
       "      <th>hotspot</th>\n",
       "    </tr>\n",
       "  </thead>\n",
       "  <tbody>\n",
       "    <tr>\n",
       "      <th>0</th>\n",
       "      <td>BOX_117_067_110</td>\n",
       "      <td>-71.624166</td>\n",
       "      <td>10.990024</td>\n",
       "      <td>-71.607420</td>\n",
       "      <td>10.996413</td>\n",
       "      <td>[0.0, 31.0, 62.0, 90.0, 396.0, 427.0, 455.0, 6...</td>\n",
       "      <td>[-2.857791642818455, 6.388898734846833, 6.3888...</td>\n",
       "      <td>[24, 74, 75, 76]</td>\n",
       "      <td>prograding_feature_polygon_2167</td>\n",
       "    </tr>\n",
       "    <tr>\n",
       "      <th>1</th>\n",
       "      <td>BOX_117_067_111</td>\n",
       "      <td>-71.625000</td>\n",
       "      <td>10.991483</td>\n",
       "      <td>-71.610989</td>\n",
       "      <td>11.002523</td>\n",
       "      <td>[0.0, 31.0, 62.0, 90.0, 396.0, 427.0, 455.0, 6...</td>\n",
       "      <td>[-157.28827157623164, -157.28827157623164, -15...</td>\n",
       "      <td>[38, 39, 40, 83, 84]</td>\n",
       "      <td>prograding_feature_polygon_2167</td>\n",
       "    </tr>\n",
       "  </tbody>\n",
       "</table>\n",
       "</div>"
      ],
      "text/plain": [
       "       transect_id  transect_origin_x transect_origin_y  transect_end_x  \\\n",
       "0  BOX_117_067_110         -71.624166         10.990024      -71.607420   \n",
       "1  BOX_117_067_111         -71.625000         10.991483      -71.610989   \n",
       "\n",
       "   transect_end_y                                         dt_monthly  \\\n",
       "0       10.996413  [0.0, 31.0, 62.0, 90.0, 396.0, 427.0, 455.0, 6...   \n",
       "1       11.002523  [0.0, 31.0, 62.0, 90.0, 396.0, 427.0, 455.0, 6...   \n",
       "\n",
       "                                        dist_monthly              outliers  \\\n",
       "0  [-2.857791642818455, 6.388898734846833, 6.3888...      [24, 74, 75, 76]   \n",
       "1  [-157.28827157623164, -157.28827157623164, -15...  [38, 39, 40, 83, 84]   \n",
       "\n",
       "                           hotspot  \n",
       "0  prograding_feature_polygon_2167  \n",
       "1  prograding_feature_polygon_2167  "
      ]
     },
     "execution_count": 135,
     "metadata": {},
     "output_type": "execute_result"
    }
   ],
   "source": [
    "path_monthly = r'P:\\11202268-hydraulic-engineering\\MSc_students\\Dante_van_der_Heijden\\02. Data\\ShorelineMonitor_monthly.csv'\n",
    "\n",
    "df_monthly = pd.read_csv(path_monthly)\n",
    "df_monthly = df_monthly.loc[:, ~df_monthly.columns.str.contains('^Unnamed')]\n",
    "df_monthly = df_monthly.rename(columns= {'dt': 'dt_monthly', 'dist': 'dist_monthly', 'outliers_1': 'outliers_annual'})\n",
    "df_monthly.head(2)"
   ]
  },
  {
   "cell_type": "code",
   "execution_count": 136,
   "metadata": {},
   "outputs": [
    {
     "data": {
      "text/plain": [
       "3074"
      ]
     },
     "execution_count": 136,
     "metadata": {},
     "output_type": "execute_result"
    }
   ],
   "source": [
    "df_merged = df_annual.merge(df_monthly, how = 'left', on= 'transect_id')\n",
    "df_merged = df_merged.rename(columns= {'outliers_1': 'outliers_annual', \n",
    "                                   'outliers': 'outliers_monthly'\n",
    "                                   }\n",
    "                        )\n",
    "len(df_merged)"
   ]
  },
  {
   "cell_type": "code",
   "execution_count": 137,
   "metadata": {},
   "outputs": [
    {
     "data": {
      "text/plain": [
       "1386    red\n",
       "1387    red\n",
       "1388    red\n",
       "Name: color_line, dtype: object"
      ]
     },
     "execution_count": 137,
     "metadata": {},
     "output_type": "execute_result"
    }
   ],
   "source": [
    "def color_line(hotspot_name):\n",
    "    if not pd.isna(hotspot_name):\n",
    "        if 'retreating' in hotspot_name:\n",
    "            return 'red'\n",
    "        else:\n",
    "            return 'green'\n",
    "    else: return 'green'\n",
    "\n",
    "df_merged['color_line'] = df_merged['hotspot'].apply(lambda x: color_line(x))\n",
    "\n",
    "df_merged[df_merged['hotspot'] == 'retreating_feature_polygon_65']['color_line']"
   ]
  },
  {
   "attachments": {},
   "cell_type": "markdown",
   "metadata": {},
   "source": [
    "#### Coast classification"
   ]
  },
  {
   "cell_type": "code",
   "execution_count": 138,
   "metadata": {},
   "outputs": [
    {
     "data": {
      "text/html": [
       "<div>\n",
       "<style scoped>\n",
       "    .dataframe tbody tr th:only-of-type {\n",
       "        vertical-align: middle;\n",
       "    }\n",
       "\n",
       "    .dataframe tbody tr th {\n",
       "        vertical-align: top;\n",
       "    }\n",
       "\n",
       "    .dataframe thead th {\n",
       "        text-align: right;\n",
       "    }\n",
       "</style>\n",
       "<table border=\"1\" class=\"dataframe\">\n",
       "  <thead>\n",
       "    <tr style=\"text-align: right;\">\n",
       "      <th></th>\n",
       "      <th>Unnamed: 0</th>\n",
       "      <th>Unnamed: 0.1</th>\n",
       "      <th>transect_id</th>\n",
       "      <th>country_name</th>\n",
       "      <th>continent</th>\n",
       "      <th>flag_sandy</th>\n",
       "      <th>New_Start_lon</th>\n",
       "      <th>New_Start_lat</th>\n",
       "      <th>New_End_lon</th>\n",
       "      <th>New_End_lat</th>\n",
       "      <th>...</th>\n",
       "      <th>intertidal</th>\n",
       "      <th>gsw</th>\n",
       "      <th>maxtemp</th>\n",
       "      <th>mintemp</th>\n",
       "      <th>mhhw</th>\n",
       "      <th>mllw</th>\n",
       "      <th>tidal range</th>\n",
       "      <th>prediction</th>\n",
       "      <th>Unnamed: 0.1.1</th>\n",
       "      <th>index</th>\n",
       "    </tr>\n",
       "  </thead>\n",
       "  <tbody>\n",
       "    <tr>\n",
       "      <th>0</th>\n",
       "      <td>0</td>\n",
       "      <td>0</td>\n",
       "      <td>BOX_028_000_0</td>\n",
       "      <td>Chile</td>\n",
       "      <td>South America</td>\n",
       "      <td>True</td>\n",
       "      <td>-72.982524</td>\n",
       "      <td>-54.459554</td>\n",
       "      <td>-72.995211</td>\n",
       "      <td>-54.448287</td>\n",
       "      <td>...</td>\n",
       "      <td>0</td>\n",
       "      <td>480</td>\n",
       "      <td>11.5</td>\n",
       "      <td>-0.8</td>\n",
       "      <td>0.109336</td>\n",
       "      <td>-0.082949</td>\n",
       "      <td>0.192285</td>\n",
       "      <td>2.0</td>\n",
       "      <td>0.0</td>\n",
       "      <td>NaN</td>\n",
       "    </tr>\n",
       "    <tr>\n",
       "      <th>1</th>\n",
       "      <td>1</td>\n",
       "      <td>1</td>\n",
       "      <td>BOX_028_000_1</td>\n",
       "      <td>Chile</td>\n",
       "      <td>South America</td>\n",
       "      <td>True</td>\n",
       "      <td>-72.986282</td>\n",
       "      <td>-54.460984</td>\n",
       "      <td>-72.998969</td>\n",
       "      <td>-54.449717</td>\n",
       "      <td>...</td>\n",
       "      <td>0</td>\n",
       "      <td>640</td>\n",
       "      <td>11.5</td>\n",
       "      <td>-0.8</td>\n",
       "      <td>0.109336</td>\n",
       "      <td>-0.082949</td>\n",
       "      <td>0.192285</td>\n",
       "      <td>2.0</td>\n",
       "      <td>1.0</td>\n",
       "      <td>NaN</td>\n",
       "    </tr>\n",
       "  </tbody>\n",
       "</table>\n",
       "<p>2 rows × 35 columns</p>\n",
       "</div>"
      ],
      "text/plain": [
       "   Unnamed: 0  Unnamed: 0.1    transect_id country_name      continent  \\\n",
       "0           0             0  BOX_028_000_0        Chile  South America   \n",
       "1           1             1  BOX_028_000_1        Chile  South America   \n",
       "\n",
       "   flag_sandy  New_Start_lon  New_Start_lat  New_End_lon  New_End_lat  ...  \\\n",
       "0        True     -72.982524     -54.459554   -72.995211   -54.448287  ...   \n",
       "1        True     -72.986282     -54.460984   -72.998969   -54.449717  ...   \n",
       "\n",
       "   intertidal  gsw  maxtemp mintemp      mhhw      mllw  tidal range  \\\n",
       "0           0  480     11.5    -0.8  0.109336 -0.082949     0.192285   \n",
       "1           0  640     11.5    -0.8  0.109336 -0.082949     0.192285   \n",
       "\n",
       "   prediction  Unnamed: 0.1.1  index  \n",
       "0         2.0             0.0    NaN  \n",
       "1         2.0             1.0    NaN  \n",
       "\n",
       "[2 rows x 35 columns]"
      ]
     },
     "execution_count": 138,
     "metadata": {},
     "output_type": "execute_result"
    }
   ],
   "source": [
    "path_class = r'P:\\1000545-054-globalbeaches\\07_Muddy_Coasts\\Paper Final Scripts and Data\\Data\\WorldClassifiedTransects2020.csv'\n",
    "\n",
    "df_class = pd.read_csv(path_class)\n",
    "\n",
    "df_class.head(2)"
   ]
  },
  {
   "cell_type": "code",
   "execution_count": 139,
   "metadata": {},
   "outputs": [
    {
     "data": {
      "text/plain": [
       "0              rocky\n",
       "1              rocky\n",
       "2              rocky\n",
       "3              rocky\n",
       "4              rocky\n",
       "             ...    \n",
       "1826990    vegetated\n",
       "1826991        rocky\n",
       "1826992        rocky\n",
       "1826993         sand\n",
       "1826994         sand\n",
       "Name: prediction_label, Length: 1826995, dtype: object"
      ]
     },
     "execution_count": 139,
     "metadata": {},
     "output_type": "execute_result"
    }
   ],
   "source": [
    "def give_label(prediction):\n",
    "    label_dict = {0: 'sand', 1 : 'mud', 2: 'rocky', 3: 'vegetated', 4: 'other'}\n",
    "\n",
    "    if not pd.isna(prediction): return label_dict[prediction]\n",
    "    else: return 'other'\n",
    "\n",
    "df_class['prediction_label'] = df_class.prediction.apply(lambda x: give_label(x))\n",
    "\n",
    "df_class['prediction_label']"
   ]
  },
  {
   "cell_type": "code",
   "execution_count": 140,
   "metadata": {},
   "outputs": [],
   "source": [
    "df_class = df_class[['transect_id', 'prediction_label']]\n",
    "\n",
    "df_merged2 = df_merged.merge(df_class, how = 'left', on= 'transect_id')"
   ]
  },
  {
   "attachments": {},
   "cell_type": "markdown",
   "metadata": {},
   "source": [
    "#### Hotspots"
   ]
  },
  {
   "cell_type": "code",
   "execution_count": 141,
   "metadata": {},
   "outputs": [
    {
     "data": {
      "text/html": [
       "<div>\n",
       "<style scoped>\n",
       "    .dataframe tbody tr th:only-of-type {\n",
       "        vertical-align: middle;\n",
       "    }\n",
       "\n",
       "    .dataframe tbody tr th {\n",
       "        vertical-align: top;\n",
       "    }\n",
       "\n",
       "    .dataframe thead th {\n",
       "        text-align: right;\n",
       "    }\n",
       "</style>\n",
       "<table border=\"1\" class=\"dataframe\">\n",
       "  <thead>\n",
       "    <tr style=\"text-align: right;\">\n",
       "      <th></th>\n",
       "      <th>continent</th>\n",
       "      <th>country</th>\n",
       "      <th>country_id</th>\n",
       "      <th>spatial_scale</th>\n",
       "      <th>width_range</th>\n",
       "      <th>min_spatial_signature</th>\n",
       "      <th>max_spatial_signature</th>\n",
       "      <th>spatial_magnitude_range</th>\n",
       "      <th>perc_larg_cr</th>\n",
       "      <th>perc_extr_cr</th>\n",
       "      <th>...</th>\n",
       "      <th>naminmean</th>\n",
       "      <th>namaxstds</th>\n",
       "      <th>naminstds</th>\n",
       "      <th>namaxbfit</th>\n",
       "      <th>naminbfit</th>\n",
       "      <th>nalinfval1</th>\n",
       "      <th>nalinfval2</th>\n",
       "      <th>nalinfstd1</th>\n",
       "      <th>nalinfstd2</th>\n",
       "      <th>cluster_id</th>\n",
       "    </tr>\n",
       "  </thead>\n",
       "  <tbody>\n",
       "    <tr>\n",
       "      <th>0</th>\n",
       "      <td>Europe</td>\n",
       "      <td>Norway</td>\n",
       "      <td>NOR</td>\n",
       "      <td>2.5</td>\n",
       "      <td>3.3</td>\n",
       "      <td>0.4</td>\n",
       "      <td>1.0</td>\n",
       "      <td>1.2</td>\n",
       "      <td>80.0</td>\n",
       "      <td>20.0</td>\n",
       "      <td>...</td>\n",
       "      <td>-66.075438</td>\n",
       "      <td>57.697578</td>\n",
       "      <td>-43.290151</td>\n",
       "      <td>9.350650</td>\n",
       "      <td>-47.018079</td>\n",
       "      <td>1.686576</td>\n",
       "      <td>2.975714</td>\n",
       "      <td>0.457793</td>\n",
       "      <td>8.523640</td>\n",
       "      <td>2</td>\n",
       "    </tr>\n",
       "    <tr>\n",
       "      <th>1</th>\n",
       "      <td>Europe</td>\n",
       "      <td>Norway</td>\n",
       "      <td>NOR</td>\n",
       "      <td>2.5</td>\n",
       "      <td>2.1</td>\n",
       "      <td>2.5</td>\n",
       "      <td>5.0</td>\n",
       "      <td>1.4</td>\n",
       "      <td>60.0</td>\n",
       "      <td>40.0</td>\n",
       "      <td>...</td>\n",
       "      <td>-51.344686</td>\n",
       "      <td>57.606149</td>\n",
       "      <td>-16.085220</td>\n",
       "      <td>89.732411</td>\n",
       "      <td>-7.824512</td>\n",
       "      <td>8.213295</td>\n",
       "      <td>278.548863</td>\n",
       "      <td>1.774665</td>\n",
       "      <td>32.017823</td>\n",
       "      <td>0</td>\n",
       "    </tr>\n",
       "  </tbody>\n",
       "</table>\n",
       "<p>2 rows × 100 columns</p>\n",
       "</div>"
      ],
      "text/plain": [
       "  continent country country_id  spatial_scale  width_range  \\\n",
       "0    Europe  Norway        NOR            2.5          3.3   \n",
       "1    Europe  Norway        NOR            2.5          2.1   \n",
       "\n",
       "   min_spatial_signature  max_spatial_signature  spatial_magnitude_range  \\\n",
       "0                    0.4                    1.0                      1.2   \n",
       "1                    2.5                    5.0                      1.4   \n",
       "\n",
       "   perc_larg_cr  perc_extr_cr  ...  naminmean  namaxstds  naminstds  \\\n",
       "0          80.0          20.0  ... -66.075438  57.697578 -43.290151   \n",
       "1          60.0          40.0  ... -51.344686  57.606149 -16.085220   \n",
       "\n",
       "   namaxbfit  naminbfit nalinfval1  nalinfval2 nalinfstd1  nalinfstd2  \\\n",
       "0   9.350650 -47.018079   1.686576    2.975714   0.457793    8.523640   \n",
       "1  89.732411  -7.824512   8.213295  278.548863   1.774665   32.017823   \n",
       "\n",
       "   cluster_id  \n",
       "0           2  \n",
       "1           0  \n",
       "\n",
       "[2 rows x 100 columns]"
      ]
     },
     "execution_count": 141,
     "metadata": {},
     "output_type": "execute_result"
    }
   ],
   "source": [
    "path_kras = r'P:\\1000545-054-globalbeaches\\00_Global_Hindcasted_Shorelines\\06_Drivers_Kras'\n",
    "\n",
    "df_hotspot_acc = pd.read_csv(os.path.join(path_kras, 'hot_acc_inc_cluster.csv'))\n",
    "\n",
    "df_hotspot_acc.head(2)"
   ]
  },
  {
   "attachments": {},
   "cell_type": "markdown",
   "metadata": {},
   "source": [
    "#### Future Projections"
   ]
  },
  {
   "cell_type": "code",
   "execution_count": 142,
   "metadata": {},
   "outputs": [
    {
     "name": "stderr",
     "output_type": "stream",
     "text": [
      "c:\\Users\\heijd_de\\Anaconda3\\envs\\dash_env\\lib\\site-packages\\pyproj\\crs\\crs.py:131: FutureWarning: '+init=<authority>:<code>' syntax is deprecated. '<authority>:<code>' is the preferred initialization method. When making the change, be mindful of axis order changes: https://pyproj4.github.io/pyproj/stable/gotchas.html#axis-order-changes-in-proj-6\n",
      "  in_crs_string = _prepare_from_proj_string(in_crs_string)\n"
     ]
    }
   ],
   "source": [
    "df_merged2 = gpd.GeoDataFrame(df_merged2, geometry= gpd.points_from_xy(df_merged2.Intersect_lon, df_merged2.Intersect_lat))\n",
    "df_merged2.crs = {\"init\": \"epsg:3587\"}\n",
    "df_merged2 = df_merged2.to_crs({'init': 'epsg:32611'})"
   ]
  },
  {
   "cell_type": "code",
   "execution_count": 143,
   "metadata": {},
   "outputs": [
    {
     "data": {
      "text/html": [
       "<div>\n",
       "<style scoped>\n",
       "    .dataframe tbody tr th:only-of-type {\n",
       "        vertical-align: middle;\n",
       "    }\n",
       "\n",
       "    .dataframe tbody tr th {\n",
       "        vertical-align: top;\n",
       "    }\n",
       "\n",
       "    .dataframe thead th {\n",
       "        text-align: right;\n",
       "    }\n",
       "</style>\n",
       "<table border=\"1\" class=\"dataframe\">\n",
       "  <thead>\n",
       "    <tr style=\"text-align: right;\">\n",
       "      <th></th>\n",
       "      <th>latitude</th>\n",
       "      <th>longitude</th>\n",
       "      <th>p1_45_2050</th>\n",
       "      <th>p5_45_2050</th>\n",
       "      <th>p17_45_2050</th>\n",
       "      <th>p50_45_2050</th>\n",
       "      <th>p83_45_2050</th>\n",
       "      <th>p95_45_2050</th>\n",
       "      <th>p99_45_2050</th>\n",
       "      <th>geometry</th>\n",
       "    </tr>\n",
       "  </thead>\n",
       "  <tbody>\n",
       "    <tr>\n",
       "      <th>0</th>\n",
       "      <td>-50.378</td>\n",
       "      <td>-74.386</td>\n",
       "      <td>11.945</td>\n",
       "      <td>13.411</td>\n",
       "      <td>13.755</td>\n",
       "      <td>14.977</td>\n",
       "      <td>15.816</td>\n",
       "      <td>16.467</td>\n",
       "      <td>17.391</td>\n",
       "      <td>POINT (-2378803.825 2811078.666)</td>\n",
       "    </tr>\n",
       "    <tr>\n",
       "      <th>1</th>\n",
       "      <td>-50.386</td>\n",
       "      <td>-74.303</td>\n",
       "      <td>-26.371</td>\n",
       "      <td>-25.529</td>\n",
       "      <td>-24.667</td>\n",
       "      <td>-23.448</td>\n",
       "      <td>-22.261</td>\n",
       "      <td>-21.539</td>\n",
       "      <td>-21.667</td>\n",
       "      <td>POINT (-2378803.747 2811078.703)</td>\n",
       "    </tr>\n",
       "  </tbody>\n",
       "</table>\n",
       "</div>"
      ],
      "text/plain": [
       "   latitude  longitude  p1_45_2050  p5_45_2050  p17_45_2050  p50_45_2050  \\\n",
       "0   -50.378    -74.386      11.945      13.411       13.755       14.977   \n",
       "1   -50.386    -74.303     -26.371     -25.529      -24.667      -23.448   \n",
       "\n",
       "   p83_45_2050  p95_45_2050  p99_45_2050                          geometry  \n",
       "0       15.816       16.467       17.391  POINT (-2378803.825 2811078.666)  \n",
       "1      -22.261      -21.539      -21.667  POINT (-2378803.747 2811078.703)  "
      ]
     },
     "execution_count": 143,
     "metadata": {},
     "output_type": "execute_result"
    }
   ],
   "source": [
    "import functools\n",
    "\n",
    "basepath_vous = r'P:\\1000545-054-globalbeaches\\01_Global_Future_Shorelines\\globalErosionProjectionsDataset_linear'\n",
    "\n",
    "df_vous_45_2050 = pd.read_csv(os.path.join(basepath_vous, 'globalErosionProjections_Long_Term_Change_RCP45_2050.csv'), header= None)\n",
    "df_vous_45_2050 = df_vous_45_2050.rename(columns= {0: 'latitude', 1: 'longitude', 2: 'p1_45_2050', 3: 'p5_45_2050', \n",
    "                                                   4: 'p17_45_2050', 5: 'p50_45_2050', 6: 'p83_45_2050', 7: \n",
    "                                                   'p95_45_2050', 8: 'p99_45_2050'})\n",
    "df_vous_45_2050 = gpd.GeoDataFrame(df_vous_45_2050, geometry= gpd.points_from_xy(df_vous_45_2050.longitude, \n",
    "                                                                                 df_vous_45_2050.latitude))\n",
    "df_vous_45_2050.crs = {\"init\": \"epsg:3587\"}\n",
    "df_vous_45_2050 = df_vous_45_2050.to_crs({'init': 'epsg:32611'})\n",
    "\n",
    "\n",
    "df_vous_45_2100 = pd.read_csv(os.path.join(basepath_vous, 'globalErosionProjections_Long_Term_Change_RCP45_2100.csv'), header= None)\n",
    "df_vous_45_2100 = df_vous_45_2100.rename(columns= {0: 'latitude', 1: 'longitude', 2: 'p1_45_2100', 3: 'p5_45_2100', \n",
    "                                                   4: 'p17_45_2100', 5: 'p50_45_2100', 6: 'p83_45_2100', 7: \n",
    "                                                   'p95_45_2100', 8: 'p99_45_2100'})\n",
    "df_vous_45_2100 = gpd.GeoDataFrame(df_vous_45_2100, geometry= gpd.points_from_xy(df_vous_45_2100.longitude, \n",
    "                                                                                 df_vous_45_2100.latitude))\n",
    "df_vous_45_2100.crs = {\"init\": \"epsg:3587\"}\n",
    "df_vous_45_2100 = df_vous_45_2100.to_crs({'init': 'epsg:32611'})\n",
    "\n",
    "df_vous_85_2050 = pd.read_csv(os.path.join(basepath_vous, 'globalErosionProjections_Long_Term_Change_RCP85_2050.csv'), header= None)\n",
    "df_vous_85_2050 = df_vous_85_2050.rename(columns= {0: 'latitude', 1: 'longitude', 2: 'p1_85_2050', 3: 'p5_85_2050', \n",
    "                                                   4: 'p17_85_2050', 5: 'p50_85_2050', 6: 'p83_85_2050', 7: \n",
    "                                                   'p95_85_2050', 8: 'p99_85_2050'})\n",
    "df_vous_85_2050 = gpd.GeoDataFrame(df_vous_85_2050, geometry= gpd.points_from_xy(df_vous_85_2050.longitude, \n",
    "                                                                                 df_vous_85_2050.latitude))\n",
    "df_vous_85_2050.crs = {\"init\": \"epsg:3587\"}\n",
    "df_vous_85_2050 = df_vous_85_2050.to_crs({'init': 'epsg:32611'})\n",
    "\n",
    "\n",
    "df_vous_85_2100 = pd.read_csv(os.path.join(basepath_vous, 'globalErosionProjections_Long_Term_Change_RCP85_2100.csv'), header= None)\n",
    "df_vous_85_2100 = df_vous_85_2100.rename(columns= {0: 'latitude', 1: 'longitude', 2: 'p1_85_2100', 3: 'p5_85_2100', \n",
    "                                                   4: 'p17_85_2100', 5: 'p50_85_2100', 6: 'p83_85_2100', 7: \n",
    "                                                   'p95_85_2100', 8: 'p99_85_2100'})\n",
    "df_vous_85_2100 = gpd.GeoDataFrame(df_vous_85_2100, geometry= gpd.points_from_xy(df_vous_85_2100.longitude, \n",
    "                                                                                 df_vous_85_2100.latitude))\n",
    "df_vous_85_2100.crs = {\"init\": \"epsg:3587\"}\n",
    "df_vous_85_2100 = df_vous_85_2100.to_crs({'init': 'epsg:32611'})\n",
    "\n",
    "df_vous_45_2050.head(2)"
   ]
  },
  {
   "cell_type": "code",
   "execution_count": 144,
   "metadata": {},
   "outputs": [
    {
     "name": "stderr",
     "output_type": "stream",
     "text": [
      "c:\\Users\\heijd_de\\Anaconda3\\envs\\dash_env\\lib\\site-packages\\pandas\\core\\frame.py:9203: FutureWarning: Passing 'suffixes' which cause duplicate columns {'index_right_x', 'longitude_x', 'latitude_x', 'geometry_x'} in the result is deprecated and will raise a MergeError in a future version.\n",
      "  validate=validate,\n"
     ]
    }
   ],
   "source": [
    "dfs_vous = [df_vous_45_2050, df_vous_45_2100, df_vous_85_2050, df_vous_85_2100]\n",
    "df_merged2_sandy = df_merged2[df_merged2['flag_sandy'] == 'sand']\n",
    "\n",
    "joined_vous = []\n",
    "for dfv in dfs_vous:\n",
    "    df_sjn = gpd.sjoin_nearest(df_merged2_sandy[['transect_id', 'geometry']], dfv, max_distance=500)\n",
    "    joined_vous.append(df_sjn)\n",
    "\n",
    "df_vous_tot = joined_vous[0].copy()\n",
    "for df_jv in joined_vous[1:]:\n",
    "    df_vous_tot = df_vous_tot.merge(df_jv, on = 'transect_id', how = 'left')"
   ]
  },
  {
   "cell_type": "code",
   "execution_count": 155,
   "metadata": {},
   "outputs": [],
   "source": [
    "df_vous_tot = df_vous_tot.drop_duplicates(subset='transect_id', keep=False)\n",
    "#df_vous_tot = df_vous_tot[df_vous_tot.duplicated(subset = 'transect_id') == True]"
   ]
  },
  {
   "cell_type": "code",
   "execution_count": 156,
   "metadata": {},
   "outputs": [],
   "source": [
    "df_merged3 = df_merged2.merge(df_vous_tot, on = 'transect_id', how = 'left')"
   ]
  },
  {
   "cell_type": "code",
   "execution_count": 157,
   "metadata": {},
   "outputs": [
    {
     "data": {
      "text/plain": [
       "(3074, 3074)"
      ]
     },
     "execution_count": 157,
     "metadata": {},
     "output_type": "execute_result"
    }
   ],
   "source": [
    "len(df_merged2), len(df_merged3)"
   ]
  },
  {
   "cell_type": "code",
   "execution_count": null,
   "metadata": {},
   "outputs": [],
   "source": []
  },
  {
   "cell_type": "code",
   "execution_count": null,
   "metadata": {},
   "outputs": [],
   "source": []
  },
  {
   "cell_type": "code",
   "execution_count": 147,
   "metadata": {},
   "outputs": [],
   "source": [
    "df_merged3 = gpd.sjoin_nearest(df_merged2, df_vous_45_2050, max_distance=500)"
   ]
  },
  {
   "cell_type": "code",
   "execution_count": 148,
   "metadata": {},
   "outputs": [
    {
     "data": {
      "text/html": [
       "<div>\n",
       "<style scoped>\n",
       "    .dataframe tbody tr th:only-of-type {\n",
       "        vertical-align: middle;\n",
       "    }\n",
       "\n",
       "    .dataframe tbody tr th {\n",
       "        vertical-align: top;\n",
       "    }\n",
       "\n",
       "    .dataframe thead th {\n",
       "        text-align: right;\n",
       "    }\n",
       "</style>\n",
       "<table border=\"1\" class=\"dataframe\">\n",
       "  <thead>\n",
       "    <tr style=\"text-align: right;\">\n",
       "      <th></th>\n",
       "      <th>transect_id</th>\n",
       "      <th>country_id</th>\n",
       "      <th>continent</th>\n",
       "      <th>country_name</th>\n",
       "      <th>changerate</th>\n",
       "      <th>changerate_unc</th>\n",
       "      <th>flag_sandy</th>\n",
       "      <th>no_shorelines</th>\n",
       "      <th>dt_annual</th>\n",
       "      <th>dist_annual</th>\n",
       "      <th>...</th>\n",
       "      <th>index_right</th>\n",
       "      <th>latitude</th>\n",
       "      <th>longitude</th>\n",
       "      <th>p1_45_2050</th>\n",
       "      <th>p5_45_2050</th>\n",
       "      <th>p17_45_2050</th>\n",
       "      <th>p50_45_2050</th>\n",
       "      <th>p83_45_2050</th>\n",
       "      <th>p95_45_2050</th>\n",
       "      <th>p99_45_2050</th>\n",
       "    </tr>\n",
       "  </thead>\n",
       "  <tbody>\n",
       "    <tr>\n",
       "      <th>0</th>\n",
       "      <td>BOX_117_121_0</td>\n",
       "      <td>NLD</td>\n",
       "      <td>Europe</td>\n",
       "      <td>Netherlands</td>\n",
       "      <td>0.31</td>\n",
       "      <td>0.130099</td>\n",
       "      <td>other</td>\n",
       "      <td>31.0</td>\n",
       "      <td>[0.0, 2.0, 6.0, 7.0, 10.0, 12.0, 13.0, 14.0, 1...</td>\n",
       "      <td>[929.9296367493945, 950.827504533188, 1247.116...</td>\n",
       "      <td>...</td>\n",
       "      <td>151510</td>\n",
       "      <td>12.231</td>\n",
       "      <td>-68.389</td>\n",
       "      <td>-80.766</td>\n",
       "      <td>-80.236</td>\n",
       "      <td>-79.704</td>\n",
       "      <td>-78.969</td>\n",
       "      <td>-78.221</td>\n",
       "      <td>-77.687</td>\n",
       "      <td>-77.387</td>\n",
       "    </tr>\n",
       "    <tr>\n",
       "      <th>1</th>\n",
       "      <td>BOX_117_121_1</td>\n",
       "      <td>NLD</td>\n",
       "      <td>Europe</td>\n",
       "      <td>Netherlands</td>\n",
       "      <td>0.07</td>\n",
       "      <td>0.124291</td>\n",
       "      <td>other</td>\n",
       "      <td>31.0</td>\n",
       "      <td>[0.0, 2.0, 6.0, 7.0, 10.0, 12.0, 13.0, 14.0, 1...</td>\n",
       "      <td>[942.6100702962765, 943.915055522753, 1487.204...</td>\n",
       "      <td>...</td>\n",
       "      <td>151510</td>\n",
       "      <td>12.231</td>\n",
       "      <td>-68.389</td>\n",
       "      <td>-80.766</td>\n",
       "      <td>-80.236</td>\n",
       "      <td>-79.704</td>\n",
       "      <td>-78.969</td>\n",
       "      <td>-78.221</td>\n",
       "      <td>-77.687</td>\n",
       "      <td>-77.387</td>\n",
       "    </tr>\n",
       "  </tbody>\n",
       "</table>\n",
       "<p>2 rows × 50 columns</p>\n",
       "</div>"
      ],
      "text/plain": [
       "     transect_id country_id continent country_name  changerate  \\\n",
       "0  BOX_117_121_0        NLD    Europe  Netherlands        0.31   \n",
       "1  BOX_117_121_1        NLD    Europe  Netherlands        0.07   \n",
       "\n",
       "   changerate_unc flag_sandy  no_shorelines  \\\n",
       "0        0.130099      other           31.0   \n",
       "1        0.124291      other           31.0   \n",
       "\n",
       "                                           dt_annual  \\\n",
       "0  [0.0, 2.0, 6.0, 7.0, 10.0, 12.0, 13.0, 14.0, 1...   \n",
       "1  [0.0, 2.0, 6.0, 7.0, 10.0, 12.0, 13.0, 14.0, 1...   \n",
       "\n",
       "                                         dist_annual  ...  index_right  \\\n",
       "0  [929.9296367493945, 950.827504533188, 1247.116...  ...       151510   \n",
       "1  [942.6100702962765, 943.915055522753, 1487.204...  ...       151510   \n",
       "\n",
       "  latitude longitude  p1_45_2050  p5_45_2050  p17_45_2050  p50_45_2050  \\\n",
       "0   12.231   -68.389     -80.766     -80.236      -79.704      -78.969   \n",
       "1   12.231   -68.389     -80.766     -80.236      -79.704      -78.969   \n",
       "\n",
       "   p83_45_2050  p95_45_2050  p99_45_2050  \n",
       "0      -78.221      -77.687      -77.387  \n",
       "1      -78.221      -77.687      -77.387  \n",
       "\n",
       "[2 rows x 50 columns]"
      ]
     },
     "execution_count": 148,
     "metadata": {},
     "output_type": "execute_result"
    }
   ],
   "source": [
    "df_merged3.head(2)"
   ]
  },
  {
   "cell_type": "code",
   "execution_count": 149,
   "metadata": {},
   "outputs": [
    {
     "data": {
      "text/plain": [
       "3081"
      ]
     },
     "execution_count": 149,
     "metadata": {},
     "output_type": "execute_result"
    }
   ],
   "source": [
    "len(df_merged3)"
   ]
  },
  {
   "cell_type": "code",
   "execution_count": 150,
   "metadata": {},
   "outputs": [],
   "source": [
    "df_merged2.to_csv('all_data.csv')"
   ]
  }
 ],
 "metadata": {
  "kernelspec": {
   "display_name": "dash_env",
   "language": "python",
   "name": "python3"
  },
  "language_info": {
   "codemirror_mode": {
    "name": "ipython",
    "version": 3
   },
   "file_extension": ".py",
   "mimetype": "text/x-python",
   "name": "python",
   "nbconvert_exporter": "python",
   "pygments_lexer": "ipython3",
   "version": "3.7.10"
  },
  "orig_nbformat": 4,
  "vscode": {
   "interpreter": {
    "hash": "ca91b833bf6de80061c4c353bf58ea3d218976aaa609636284a7d9e794d3e935"
   }
  }
 },
 "nbformat": 4,
 "nbformat_minor": 2
}
