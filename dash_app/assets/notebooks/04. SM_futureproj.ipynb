{
 "cells": [
  {
   "cell_type": "code",
   "execution_count": 1,
   "metadata": {},
   "outputs": [
    {
     "name": "stderr",
     "output_type": "stream",
     "text": [
      "c:\\Users\\heijd_de\\Anaconda3\\envs\\dash_env\\lib\\site-packages\\geopandas\\_compat.py:115: UserWarning: The Shapely GEOS version (3.11.1-CAPI-1.17.1) is incompatible with the GEOS version PyGEOS was compiled with (3.10.4-CAPI-1.16.2). Conversions between both will be slow.\n",
      "  shapely_geos_version, geos_capi_version_string\n"
     ]
    }
   ],
   "source": [
    "import pandas as pd\n",
    "import os\n",
    "import geopandas as gpd"
   ]
  },
  {
   "cell_type": "code",
   "execution_count": null,
   "metadata": {},
   "outputs": [],
   "source": [
    "df_annual = pd.read_csv('annual_timeseries.csv')"
   ]
  },
  {
   "attachments": {},
   "cell_type": "markdown",
   "metadata": {},
   "source": [
    "#### GHG emmisions (Vousdoukas, 2021)"
   ]
  },
  {
   "cell_type": "code",
   "execution_count": null,
   "metadata": {},
   "outputs": [],
   "source": [
    "basepath_vous = r'P:\\1000545-054-globalbeaches\\01_Global_Future_Shorelines\\globalErosionProjectionsDataset_linear'\n",
    "\n",
    "df_vous_45_2050 = pd.read_csv(os.path.join(basepath_vous, 'globalErosionProjections_Long_Term_Change_RCP45_2050.csv'), header= None)\n",
    "df_vous_45_2050 = df_vous_45_2050.rename(columns= {0: 'latitude', 1: 'longitude', 2: 'p1_45_2050', 3: 'p5_45_2050', \n",
    "                                                   4: 'p17_45_2050', 5: 'p50_45_2050', 6: 'p83_45_2050', 7: \n",
    "                                                   'p95_45_2050', 8: 'p99_45_2050'})\n",
    "df_vous_45_2050 = gpd.GeoDataFrame(df_vous_45_2050, geometry= gpd.points_from_xy(df_vous_45_2050.longitude, \n",
    "                                                                                 df_vous_45_2050.latitude))\n",
    "df_vous_45_2050.crs = {\"init\": \"epsg:3587\"}\n",
    "df_vous_45_2050 = df_vous_45_2050.to_crs({'init': 'epsg:32611'})\n",
    "\n",
    "\n",
    "df_vous_45_2100 = pd.read_csv(os.path.join(basepath_vous, 'globalErosionProjections_Long_Term_Change_RCP45_2100.csv'), header= None)\n",
    "df_vous_45_2100 = df_vous_45_2100.rename(columns= {0: 'latitude', 1: 'longitude', 2: 'p1_45_2100', 3: 'p5_45_2100', \n",
    "                                                   4: 'p17_45_2100', 5: 'p50_45_2100', 6: 'p83_45_2100', 7: \n",
    "                                                   'p95_45_2100', 8: 'p99_45_2100'})\n",
    "df_vous_45_2100 = gpd.GeoDataFrame(df_vous_45_2100, geometry= gpd.points_from_xy(df_vous_45_2100.longitude, \n",
    "                                                                                 df_vous_45_2100.latitude))\n",
    "df_vous_45_2100.crs = {\"init\": \"epsg:3587\"}\n",
    "df_vous_45_2100 = df_vous_45_2100.to_crs({'init': 'epsg:32611'})\n",
    "\n",
    "df_vous_85_2050 = pd.read_csv(os.path.join(basepath_vous, 'globalErosionProjections_Long_Term_Change_RCP85_2050.csv'), header= None)\n",
    "df_vous_85_2050 = df_vous_85_2050.rename(columns= {0: 'latitude', 1: 'longitude', 2: 'p1_85_2050', 3: 'p5_85_2050', \n",
    "                                                   4: 'p17_85_2050', 5: 'p50_85_2050', 6: 'p83_85_2050', 7: \n",
    "                                                   'p95_85_2050', 8: 'p99_85_2050'})\n",
    "df_vous_85_2050 = gpd.GeoDataFrame(df_vous_85_2050, geometry= gpd.points_from_xy(df_vous_85_2050.longitude, \n",
    "                                                                                 df_vous_85_2050.latitude))\n",
    "df_vous_85_2050.crs = {\"init\": \"epsg:3587\"}\n",
    "df_vous_85_2050 = df_vous_85_2050.to_crs({'init': 'epsg:32611'})\n",
    "\n",
    "\n",
    "df_vous_85_2100 = pd.read_csv(os.path.join(basepath_vous, 'globalErosionProjections_Long_Term_Change_RCP85_2100.csv'), header= None)\n",
    "df_vous_85_2100 = df_vous_85_2100.rename(columns= {0: 'latitude', 1: 'longitude', 2: 'p1_85_2100', 3: 'p5_85_2100', \n",
    "                                                   4: 'p17_85_2100', 5: 'p50_85_2100', 6: 'p83_85_2100', 7: \n",
    "                                                   'p95_85_2100', 8: 'p99_85_2100'})\n",
    "df_vous_85_2100 = gpd.GeoDataFrame(df_vous_85_2100, geometry= gpd.points_from_xy(df_vous_85_2100.longitude, \n",
    "                                                                                 df_vous_85_2100.latitude))\n",
    "df_vous_85_2100.crs = {\"init\": \"epsg:3587\"}\n",
    "df_vous_85_2100 = df_vous_85_2100.to_crs({'init': 'epsg:32611'})\n",
    "\n",
    "df_vous_45_2050.head(2)"
   ]
  },
  {
   "cell_type": "code",
   "execution_count": null,
   "metadata": {},
   "outputs": [],
   "source": [
    "dfs_vous = [df_vous_45_2050, df_vous_45_2100, df_vous_85_2050, df_vous_85_2100]\n",
    "df_both2_sandy = df_both2[df_both2['flag_sandy'] == 'sand']\n",
    "\n",
    "joined_vous = []\n",
    "for dfv in dfs_vous:\n",
    "    df_sjn = gpd.sjoin_nearest(df_both2_sandy[['transect_id', 'geometry']], dfv, max_distance=500)\n",
    "    joined_vous.append(df_sjn)\n",
    "\n",
    "df_vous_tot = joined_vous[0].copy()\n",
    "for df_jv in joined_vous[1:]:\n",
    "    df_vous_tot = df_vous_tot.merge(df_jv, on = 'transect_id', how = 'left')"
   ]
  },
  {
   "cell_type": "code",
   "execution_count": null,
   "metadata": {},
   "outputs": [],
   "source": [
    "df_vous_tot = df_vous_tot.drop_duplicates(subset='transect_id', keep=False)"
   ]
  },
  {
   "cell_type": "code",
   "execution_count": null,
   "metadata": {},
   "outputs": [],
   "source": [
    "df_merged3 = df_merged2.merge(df_vous_tot, on = 'transect_id', how = 'left')"
   ]
  }
 ],
 "metadata": {
  "kernelspec": {
   "display_name": "dash_env",
   "language": "python",
   "name": "python3"
  },
  "language_info": {
   "codemirror_mode": {
    "name": "ipython",
    "version": 3
   },
   "file_extension": ".py",
   "mimetype": "text/x-python",
   "name": "python",
   "nbconvert_exporter": "python",
   "pygments_lexer": "ipython3",
   "version": "3.7.10"
  },
  "orig_nbformat": 4,
  "vscode": {
   "interpreter": {
    "hash": "ca91b833bf6de80061c4c353bf58ea3d218976aaa609636284a7d9e794d3e935"
   }
  }
 },
 "nbformat": 4,
 "nbformat_minor": 2
}
