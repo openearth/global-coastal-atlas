{
 "cells": [
  {
   "cell_type": "code",
   "execution_count": 3,
   "metadata": {},
   "outputs": [],
   "source": [
    "import pandas as pd\n",
    "import os"
   ]
  },
  {
   "attachments": {},
   "cell_type": "markdown",
   "metadata": {},
   "source": [
    "#### Human and natural classification (Kras, 2019)"
   ]
  },
  {
   "cell_type": "code",
   "execution_count": 4,
   "metadata": {},
   "outputs": [
    {
     "data": {
      "text/html": [
       "<div>\n",
       "<style scoped>\n",
       "    .dataframe tbody tr th:only-of-type {\n",
       "        vertical-align: middle;\n",
       "    }\n",
       "\n",
       "    .dataframe tbody tr th {\n",
       "        vertical-align: top;\n",
       "    }\n",
       "\n",
       "    .dataframe thead th {\n",
       "        text-align: right;\n",
       "    }\n",
       "</style>\n",
       "<table border=\"1\" class=\"dataframe\">\n",
       "  <thead>\n",
       "    <tr style=\"text-align: right;\">\n",
       "      <th></th>\n",
       "      <th>continent</th>\n",
       "      <th>country</th>\n",
       "      <th>country_id</th>\n",
       "      <th>spatial_scale</th>\n",
       "      <th>width_range</th>\n",
       "      <th>min_spatial_signature</th>\n",
       "      <th>max_spatial_signature</th>\n",
       "      <th>spatial_magnitude_range</th>\n",
       "      <th>perc_larg_cr</th>\n",
       "      <th>perc_extr_cr</th>\n",
       "      <th>...</th>\n",
       "      <th>naminmean</th>\n",
       "      <th>namaxstds</th>\n",
       "      <th>naminstds</th>\n",
       "      <th>namaxbfit</th>\n",
       "      <th>naminbfit</th>\n",
       "      <th>nalinfval1</th>\n",
       "      <th>nalinfval2</th>\n",
       "      <th>nalinfstd1</th>\n",
       "      <th>nalinfstd2</th>\n",
       "      <th>cluster_id</th>\n",
       "    </tr>\n",
       "  </thead>\n",
       "  <tbody>\n",
       "    <tr>\n",
       "      <th>0</th>\n",
       "      <td>Europe</td>\n",
       "      <td>Norway</td>\n",
       "      <td>NOR</td>\n",
       "      <td>2.5</td>\n",
       "      <td>3.3</td>\n",
       "      <td>0.4</td>\n",
       "      <td>1.0</td>\n",
       "      <td>1.2</td>\n",
       "      <td>80.0</td>\n",
       "      <td>20.0</td>\n",
       "      <td>...</td>\n",
       "      <td>-66.075438</td>\n",
       "      <td>57.697578</td>\n",
       "      <td>-43.290151</td>\n",
       "      <td>9.350650</td>\n",
       "      <td>-47.018079</td>\n",
       "      <td>1.686576</td>\n",
       "      <td>2.975714</td>\n",
       "      <td>0.457793</td>\n",
       "      <td>8.523640</td>\n",
       "      <td>2</td>\n",
       "    </tr>\n",
       "    <tr>\n",
       "      <th>1</th>\n",
       "      <td>Europe</td>\n",
       "      <td>Norway</td>\n",
       "      <td>NOR</td>\n",
       "      <td>2.5</td>\n",
       "      <td>2.1</td>\n",
       "      <td>2.5</td>\n",
       "      <td>5.0</td>\n",
       "      <td>1.4</td>\n",
       "      <td>60.0</td>\n",
       "      <td>40.0</td>\n",
       "      <td>...</td>\n",
       "      <td>-51.344686</td>\n",
       "      <td>57.606149</td>\n",
       "      <td>-16.085220</td>\n",
       "      <td>89.732411</td>\n",
       "      <td>-7.824512</td>\n",
       "      <td>8.213295</td>\n",
       "      <td>278.548863</td>\n",
       "      <td>1.774665</td>\n",
       "      <td>32.017823</td>\n",
       "      <td>0</td>\n",
       "    </tr>\n",
       "  </tbody>\n",
       "</table>\n",
       "<p>2 rows × 100 columns</p>\n",
       "</div>"
      ],
      "text/plain": [
       "  continent country country_id  spatial_scale  width_range  \\\n",
       "0    Europe  Norway        NOR            2.5          3.3   \n",
       "1    Europe  Norway        NOR            2.5          2.1   \n",
       "\n",
       "   min_spatial_signature  max_spatial_signature  spatial_magnitude_range  \\\n",
       "0                    0.4                    1.0                      1.2   \n",
       "1                    2.5                    5.0                      1.4   \n",
       "\n",
       "   perc_larg_cr  perc_extr_cr  ...  naminmean  namaxstds  naminstds  \\\n",
       "0          80.0          20.0  ... -66.075438  57.697578 -43.290151   \n",
       "1          60.0          40.0  ... -51.344686  57.606149 -16.085220   \n",
       "\n",
       "   namaxbfit  naminbfit nalinfval1  nalinfval2 nalinfstd1  nalinfstd2  \\\n",
       "0   9.350650 -47.018079   1.686576    2.975714   0.457793    8.523640   \n",
       "1  89.732411  -7.824512   8.213295  278.548863   1.774665   32.017823   \n",
       "\n",
       "   cluster_id  \n",
       "0           2  \n",
       "1           0  \n",
       "\n",
       "[2 rows x 100 columns]"
      ]
     },
     "execution_count": 4,
     "metadata": {},
     "output_type": "execute_result"
    }
   ],
   "source": [
    "path_kras = r'P:\\1000545-054-globalbeaches\\00_Global_Hindcasted_Shorelines\\06_Drivers_Kras'\n",
    "\n",
    "df_hotspot_acc = pd.read_csv(os.path.join(path_kras, 'hot_acc_inc_cluster.csv'))\n",
    "\n",
    "df_hotspot_acc.head(2)"
   ]
  },
  {
   "cell_type": "code",
   "execution_count": 5,
   "metadata": {},
   "outputs": [
    {
     "data": {
      "text/plain": [
       "Index(['continent', 'country', 'country_id', 'spatial_scale', 'width_range',\n",
       "       'min_spatial_signature', 'max_spatial_signature',\n",
       "       'spatial_magnitude_range', 'perc_larg_cr', 'perc_extr_cr',\n",
       "       'perc_large_cr_devlf', 'perc_extr_cr_devlf', 'best_temporal_cf_model',\n",
       "       'feature_years_annual', 'feature_mean_annual', 'feature_std_annual',\n",
       "       'feature_best_fit_annual', 'top_tr', 'top_lon', 'top_lat',\n",
       "       'driver_trans_id', 'driver_int_lon', 'driver_int_lat',\n",
       "       'driver_cl_lengths', 'driver_trans_idx', 'warning', 'warning_ws',\n",
       "       'best_temporal_cf_model2', 'feature_best_fit_annual2',\n",
       "       'best_fit_params_value', 'best_fit_params_stder',\n",
       "       'variable_value_constant', 'variable_stderr_constant',\n",
       "       'variable_value_linear', 'variable_stderr_linear',\n",
       "       'variable_value_quadratic', 'variable_stderr_quadratic',\n",
       "       'variable_value_3th order polynomial',\n",
       "       'variable_stderr_3th order polynomial',\n",
       "       'variable_value_4th order polynomial',\n",
       "       'variable_stderr_4th order polynomial',\n",
       "       'variable_value_5th order polynomial',\n",
       "       'variable_stderr_5th order polynomial',\n",
       "       'variable_value_6th order polynomial',\n",
       "       'variable_stderr_6th order polynomial',\n",
       "       'variable_value_7th order polynomial',\n",
       "       'variable_stderr_7th order polynomial', 'variable_value_step linear',\n",
       "       'variable_stderr_step linear', 'variable_value_step arctan',\n",
       "       'variable_stderr_step arctan', 'variable_value_step error',\n",
       "       'variable_stderr_step error', 'variable_value_step logistic',\n",
       "       'variable_stderr_step logistic', 'variable_value_rectangle linear',\n",
       "       'variable_stderr_rectangle linear', 'variable_value_rectangle arctan',\n",
       "       'variable_stderr_rectangle arctan', 'variable_value_rectangle error',\n",
       "       'variable_stderr_rectangle error', 'variable_value_rectangle logistic',\n",
       "       'variable_stderr_rectangle logistic', 'variable_value_exponential',\n",
       "       'variable_stderr_exponential', 'variable_value_powerlaw',\n",
       "       'variable_stderr_powerlaw', 'napol7val1', 'napol7val2', 'napol7val3',\n",
       "       'napol7val4', 'napol7val5', 'napol7val6', 'napol7val7', 'napol7val8',\n",
       "       'napol7std1', 'napol7std2', 'napol7std3', 'napol7std4', 'napol7std5',\n",
       "       'napol7std6', 'napol7std7', 'napol7std8', 'nastepval1', 'nastepval2',\n",
       "       'nastepval3', 'nastepstd1', 'nastepstd2', 'nastepstd3', 'namaxmean',\n",
       "       'naminmean', 'namaxstds', 'naminstds', 'namaxbfit', 'naminbfit',\n",
       "       'nalinfval1', 'nalinfval2', 'nalinfstd1', 'nalinfstd2', 'cluster_id'],\n",
       "      dtype='object')"
      ]
     },
     "execution_count": 5,
     "metadata": {},
     "output_type": "execute_result"
    }
   ],
   "source": [
    "df_hotspot_acc.columns"
   ]
  },
  {
   "cell_type": "code",
   "execution_count": null,
   "metadata": {},
   "outputs": [],
   "source": []
  }
 ],
 "metadata": {
  "kernelspec": {
   "display_name": "dash_env",
   "language": "python",
   "name": "python3"
  },
  "language_info": {
   "codemirror_mode": {
    "name": "ipython",
    "version": 3
   },
   "file_extension": ".py",
   "mimetype": "text/x-python",
   "name": "python",
   "nbconvert_exporter": "python",
   "pygments_lexer": "ipython3",
   "version": "3.7.10"
  },
  "orig_nbformat": 4,
  "vscode": {
   "interpreter": {
    "hash": "ca91b833bf6de80061c4c353bf58ea3d218976aaa609636284a7d9e794d3e935"
   }
  }
 },
 "nbformat": 4,
 "nbformat_minor": 2
}
