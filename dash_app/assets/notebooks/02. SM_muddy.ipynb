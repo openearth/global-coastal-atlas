{
 "cells": [
  {
   "cell_type": "code",
   "execution_count": 1,
   "metadata": {},
   "outputs": [],
   "source": [
    "import pandas as pd"
   ]
  },
  {
   "cell_type": "code",
   "execution_count": null,
   "metadata": {},
   "outputs": [],
   "source": [
    "path_class = r'P:\\1000545-054-globalbeaches\\07_Muddy_Coasts\\Paper Final Scripts and Data\\Data\\WorldClassifiedTransects2020.csv'\n",
    "\n",
    "df_class = pd.read_csv(path_class)\n",
    "\n",
    "df_class.head(2)"
   ]
  },
  {
   "cell_type": "code",
   "execution_count": null,
   "metadata": {},
   "outputs": [],
   "source": [
    "def give_label(prediction):\n",
    "    label_dict = {0: 'sand', 1 : 'mud', 2: 'rocky', 3: 'vegetated', 4: 'other'}\n",
    "\n",
    "    if not pd.isna(prediction): return label_dict[prediction]\n",
    "    else: return 'other'\n",
    "\n",
    "df_class['prediction_label'] = df_class.prediction.apply(lambda x: give_label(x))\n",
    "\n",
    "df_class['prediction_label']"
   ]
  },
  {
   "cell_type": "code",
   "execution_count": null,
   "metadata": {},
   "outputs": [],
   "source": [
    "df_class = df_class[['transect_id', 'prediction_label']]\n",
    "\n",
    "df_both2 = df_both.merge(df_class, how = 'left', on= 'transect_id')"
   ]
  }
 ],
 "metadata": {
  "kernelspec": {
   "display_name": "dash_env",
   "language": "python",
   "name": "python3"
  },
  "language_info": {
   "codemirror_mode": {
    "name": "ipython",
    "version": 3
   },
   "file_extension": ".py",
   "mimetype": "text/x-python",
   "name": "python",
   "nbconvert_exporter": "python",
   "pygments_lexer": "ipython3",
   "version": "3.7.10"
  },
  "orig_nbformat": 4,
  "vscode": {
   "interpreter": {
    "hash": "ca91b833bf6de80061c4c353bf58ea3d218976aaa609636284a7d9e794d3e935"
   }
  }
 },
 "nbformat": 4,
 "nbformat_minor": 2
}
