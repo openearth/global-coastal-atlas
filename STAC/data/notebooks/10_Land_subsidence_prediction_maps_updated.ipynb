{
 "cells": [
  {
   "attachments": {},
   "cell_type": "markdown",
   "id": "c91b40e6",
   "metadata": {},
   "source": [
    "# Land subsidence prediction maps\n",
    "\n",
    "Notebook environment to migrate .tiff files to CF compliant CoG's\n"
   ]
  },
  {
   "cell_type": "code",
   "execution_count": 9,
   "id": "f1aef40e",
   "metadata": {},
   "outputs": [
    {
     "name": "stdout",
     "output_type": "stream",
     "text": [
      "The nb_black extension is already loaded. To reload it, use:\n",
      "  %reload_ext nb_black\n"
     ]
    },
    {
     "data": {
      "application/javascript": "\n            setTimeout(function() {\n                var nbb_cell_id = 9;\n                var nbb_unformatted_code = \"# Optional; code formatter, installed as jupyter lab extension\\n# %load_ext lab_black\\n\\n# Optional; code formatter, installed as jupyter notebook extension\\n%load_ext nb_black\";\n                var nbb_formatted_code = \"# Optional; code formatter, installed as jupyter lab extension\\n# %load_ext lab_black\\n\\n# Optional; code formatter, installed as jupyter notebook extension\\n%load_ext nb_black\";\n                var nbb_cells = Jupyter.notebook.get_cells();\n                for (var i = 0; i < nbb_cells.length; ++i) {\n                    if (nbb_cells[i].input_prompt_number == nbb_cell_id) {\n                        if (nbb_cells[i].get_text() == nbb_unformatted_code) {\n                             nbb_cells[i].set_text(nbb_formatted_code);\n                        }\n                        break;\n                    }\n                }\n            }, 500);\n            ",
      "text/plain": [
       "<IPython.core.display.Javascript object>"
      ]
     },
     "metadata": {},
     "output_type": "display_data"
    }
   ],
   "source": [
    "# Optional; code formatter, installed as jupyter lab extension\n",
    "# %load_ext lab_black\n",
    "\n",
    "# Optional; code formatter, installed as jupyter notebook extension\n",
    "%load_ext nb_black"
   ]
  },
  {
   "cell_type": "code",
   "execution_count": 10,
   "id": "80287b05",
   "metadata": {},
   "outputs": [
    {
     "data": {
      "application/javascript": "\n            setTimeout(function() {\n                var nbb_cell_id = 10;\n                var nbb_unformatted_code = \"# Import standard packages\\nimport os\\nimport pathlib\\nfrom pathlib import Path\\n\\nimport numpy as np\\n#import geopandas as gpd\\nimport pandas as pd\\nimport matplotlib.pyplot as plt\\nimport xarray as xr\\nimport glob\\nimport itertools\\nimport json\\nimport copy\\nfrom itertools import chain\\nfrom shapely import wkb\\nimport json\\n\\n# Import custom functionality\\nfrom coclicodata.drive_config import p_drive\\nfrom coclicodata.etl.cf_compliancy_checker import check_compliancy, save_compliancy\";\n                var nbb_formatted_code = \"# Import standard packages\\nimport os\\nimport pathlib\\nfrom pathlib import Path\\n\\nimport numpy as np\\n\\n# import geopandas as gpd\\nimport pandas as pd\\nimport matplotlib.pyplot as plt\\nimport xarray as xr\\nimport glob\\nimport itertools\\nimport json\\nimport copy\\nfrom itertools import chain\\nfrom shapely import wkb\\nimport json\\n\\n# Import custom functionality\\nfrom coclicodata.drive_config import p_drive\\nfrom coclicodata.etl.cf_compliancy_checker import check_compliancy, save_compliancy\";\n                var nbb_cells = Jupyter.notebook.get_cells();\n                for (var i = 0; i < nbb_cells.length; ++i) {\n                    if (nbb_cells[i].input_prompt_number == nbb_cell_id) {\n                        if (nbb_cells[i].get_text() == nbb_unformatted_code) {\n                             nbb_cells[i].set_text(nbb_formatted_code);\n                        }\n                        break;\n                    }\n                }\n            }, 500);\n            ",
      "text/plain": [
       "<IPython.core.display.Javascript object>"
      ]
     },
     "metadata": {},
     "output_type": "display_data"
    }
   ],
   "source": [
    "# Import standard packages\n",
    "import os\n",
    "import pathlib\n",
    "from pathlib import Path\n",
    "\n",
    "import numpy as np\n",
    "#import geopandas as gpd\n",
    "import pandas as pd\n",
    "import matplotlib.pyplot as plt\n",
    "import xarray as xr\n",
    "import glob\n",
    "import itertools\n",
    "import json\n",
    "import copy\n",
    "from itertools import chain\n",
    "from shapely import wkb\n",
    "import json\n",
    "\n",
    "# Import custom functionality\n",
    "from coclicodata.drive_config import p_drive\n",
    "from coclicodata.etl.cf_compliancy_checker import check_compliancy, save_compliancy"
   ]
  },
  {
   "attachments": {},
   "cell_type": "markdown",
   "id": "f3f67518",
   "metadata": {},
   "source": [
    "### Configure OS independent paths"
   ]
  },
  {
   "cell_type": "code",
   "execution_count": 11,
   "id": "2d5692d8",
   "metadata": {},
   "outputs": [
    {
     "data": {
      "application/javascript": "\n            setTimeout(function() {\n                var nbb_cell_id = 11;\n                var nbb_unformatted_code = \"# Workaround to the Windows OS (10) udunits error after installation of cfchecker: https://github.com/SciTools/iris/issues/404\\nos.environ[\\\"UDUNITS2_XML_PATH\\\"] = str(\\n    pathlib.Path().home().joinpath(  # change to the udunits2.xml file dir in your Python installation\\n        r\\\"Anaconda3\\\\pkgs\\\\udunits2-2.2.28-hfda9870_3\\\\Library\\\\share\\\\udunits\\\\udunits2.xml\\\"\\n    )\\n)\";\n                var nbb_formatted_code = \"# Workaround to the Windows OS (10) udunits error after installation of cfchecker: https://github.com/SciTools/iris/issues/404\\nos.environ[\\\"UDUNITS2_XML_PATH\\\"] = str(\\n    pathlib.Path()\\n    .home()\\n    .joinpath(  # change to the udunits2.xml file dir in your Python installation\\n        r\\\"Anaconda3\\\\pkgs\\\\udunits2-2.2.28-hfda9870_3\\\\Library\\\\share\\\\udunits\\\\udunits2.xml\\\"\\n    )\\n)\";\n                var nbb_cells = Jupyter.notebook.get_cells();\n                for (var i = 0; i < nbb_cells.length; ++i) {\n                    if (nbb_cells[i].input_prompt_number == nbb_cell_id) {\n                        if (nbb_cells[i].get_text() == nbb_unformatted_code) {\n                             nbb_cells[i].set_text(nbb_formatted_code);\n                        }\n                        break;\n                    }\n                }\n            }, 500);\n            ",
      "text/plain": [
       "<IPython.core.display.Javascript object>"
      ]
     },
     "metadata": {},
     "output_type": "display_data"
    }
   ],
   "source": [
    "# Workaround to the Windows OS (10) udunits error after installation of cfchecker: https://github.com/SciTools/iris/issues/404\n",
    "os.environ[\"UDUNITS2_XML_PATH\"] = str(\n",
    "    pathlib.Path().home().joinpath(  # change to the udunits2.xml file dir in your Python installation\n",
    "        r\"Anaconda3\\pkgs\\udunits2-2.2.28-hfda9870_3\\Library\\share\\udunits\\udunits2.xml\"\n",
    "    )\n",
    ")"
   ]
  },
  {
   "cell_type": "markdown",
   "id": "015d7cdf",
   "metadata": {},
   "source": [
    "### Define drive paths"
   ]
  },
  {
   "cell_type": "code",
   "execution_count": 12,
   "id": "ef7e94bc",
   "metadata": {},
   "outputs": [
    {
     "data": {
      "application/javascript": "\n            setTimeout(function() {\n                var nbb_cell_id = 12;\n                var nbb_unformatted_code = \"# Define (local and) remote drives\\n# raw_data_dir       = p_drive.joinpath(\\\"archivedprojects\\\", \\\"11208003-latedeo2022\\\", \\\"020_InternationalDeltaPortfolio\\\", \\\"datasets\\\", \\\"00_bodemdalingsvoorspellingskaarten\\\")\\nraw_data_dir       = p_drive.joinpath(r\\\"archivedprojects\\\\11208003-latedeo2022\\\\020_InternationalDeltaPortfolio\\\\datasets\\\")  \\nprocessed_data_dir = p_drive.joinpath(r\\\"11210264-003-delta-portal\\\\data\\\")  \";\n                var nbb_formatted_code = \"# Define (local and) remote drives\\n# raw_data_dir       = p_drive.joinpath(\\\"archivedprojects\\\", \\\"11208003-latedeo2022\\\", \\\"020_InternationalDeltaPortfolio\\\", \\\"datasets\\\", \\\"00_bodemdalingsvoorspellingskaarten\\\")\\nraw_data_dir = p_drive.joinpath(\\n    r\\\"archivedprojects\\\\11208003-latedeo2022\\\\020_InternationalDeltaPortfolio\\\\datasets\\\"\\n)\\nprocessed_data_dir = p_drive.joinpath(r\\\"11210264-003-delta-portal\\\\data\\\")\";\n                var nbb_cells = Jupyter.notebook.get_cells();\n                for (var i = 0; i < nbb_cells.length; ++i) {\n                    if (nbb_cells[i].input_prompt_number == nbb_cell_id) {\n                        if (nbb_cells[i].get_text() == nbb_unformatted_code) {\n                             nbb_cells[i].set_text(nbb_formatted_code);\n                        }\n                        break;\n                    }\n                }\n            }, 500);\n            ",
      "text/plain": [
       "<IPython.core.display.Javascript object>"
      ]
     },
     "metadata": {},
     "output_type": "display_data"
    }
   ],
   "source": [
    "# Define (local and) remote drives\n",
    "# raw_data_dir       = p_drive.joinpath(\"archivedprojects\", \"11208003-latedeo2022\", \"020_InternationalDeltaPortfolio\", \"datasets\", \"00_bodemdalingsvoorspellingskaarten\")\n",
    "raw_data_dir       = p_drive.joinpath(r\"archivedprojects\\11208003-latedeo2022\\020_InternationalDeltaPortfolio\\datasets\")  \n",
    "processed_data_dir = p_drive.joinpath(r\"11210264-003-delta-portal\\data\")  "
   ]
  },
  {
   "cell_type": "code",
   "execution_count": 13,
   "id": "149abcc0",
   "metadata": {},
   "outputs": [
    {
     "data": {
      "text/plain": [
       "WindowsPath('P:/11210264-003-delta-portal/data')"
      ]
     },
     "execution_count": 13,
     "metadata": {},
     "output_type": "execute_result"
    },
    {
     "data": {
      "application/javascript": "\n            setTimeout(function() {\n                var nbb_cell_id = 13;\n                var nbb_unformatted_code = \"processed_data_dir\";\n                var nbb_formatted_code = \"processed_data_dir\";\n                var nbb_cells = Jupyter.notebook.get_cells();\n                for (var i = 0; i < nbb_cells.length; ++i) {\n                    if (nbb_cells[i].input_prompt_number == nbb_cell_id) {\n                        if (nbb_cells[i].get_text() == nbb_unformatted_code) {\n                             nbb_cells[i].set_text(nbb_formatted_code);\n                        }\n                        break;\n                    }\n                }\n            }, 500);\n            ",
      "text/plain": [
       "<IPython.core.display.Javascript object>"
      ]
     },
     "metadata": {},
     "output_type": "display_data"
    }
   ],
   "source": [
    "processed_data_dir"
   ]
  },
  {
   "cell_type": "markdown",
   "id": "d594aa92",
   "metadata": {},
   "source": [
    "### Read raw data"
   ]
  },
  {
   "cell_type": "code",
   "execution_count": 14,
   "id": "6c5f5cc6",
   "metadata": {},
   "outputs": [
    {
     "data": {
      "application/javascript": "\n            setTimeout(function() {\n                var nbb_cell_id = 14;\n                var nbb_unformatted_code = \"# Project paths & files (manual input)\\nraw_ms_data_dir = raw_data_dir.joinpath(r\\\"00_bodemdalingsvoorspellingskaarten\\\\Mild scenario\\\")\\nraw_ss_data_dir = raw_data_dir.joinpath(r\\\"00_bodemdalingsvoorspellingskaarten\\\\Sterk scenario\\\")\\n\\n                                    \\nds_ms_2020_2050_path = raw_ms_data_dir.joinpath(\\\"scenario_mild_bodemdaling_incl_ogzw_2020_2050.tif\\\")\\nds_ms_2020_2100_path = raw_ms_data_dir.joinpath(\\\"scenario_mild_bodemdaling_incl_ogzw_2020_2100.tif\\\")\\nds_ss_2020_2050_path = raw_ss_data_dir.joinpath(\\\"scenario_sterk_bodemdaling_incl_ogzw_2020_2050.tif\\\")\\nds_ss_2020_2100_path = raw_ss_data_dir.joinpath(\\\"scenario_sterk_bodemdaling_incl_ogzw_2020_2100.tif\\\")\";\n                var nbb_formatted_code = \"# Project paths & files (manual input)\\nraw_ms_data_dir = raw_data_dir.joinpath(\\n    r\\\"00_bodemdalingsvoorspellingskaarten\\\\Mild scenario\\\"\\n)\\nraw_ss_data_dir = raw_data_dir.joinpath(\\n    r\\\"00_bodemdalingsvoorspellingskaarten\\\\Sterk scenario\\\"\\n)\\n\\n\\nds_ms_2020_2050_path = raw_ms_data_dir.joinpath(\\n    \\\"scenario_mild_bodemdaling_incl_ogzw_2020_2050.tif\\\"\\n)\\nds_ms_2020_2100_path = raw_ms_data_dir.joinpath(\\n    \\\"scenario_mild_bodemdaling_incl_ogzw_2020_2100.tif\\\"\\n)\\nds_ss_2020_2050_path = raw_ss_data_dir.joinpath(\\n    \\\"scenario_sterk_bodemdaling_incl_ogzw_2020_2050.tif\\\"\\n)\\nds_ss_2020_2100_path = raw_ss_data_dir.joinpath(\\n    \\\"scenario_sterk_bodemdaling_incl_ogzw_2020_2100.tif\\\"\\n)\";\n                var nbb_cells = Jupyter.notebook.get_cells();\n                for (var i = 0; i < nbb_cells.length; ++i) {\n                    if (nbb_cells[i].input_prompt_number == nbb_cell_id) {\n                        if (nbb_cells[i].get_text() == nbb_unformatted_code) {\n                             nbb_cells[i].set_text(nbb_formatted_code);\n                        }\n                        break;\n                    }\n                }\n            }, 500);\n            ",
      "text/plain": [
       "<IPython.core.display.Javascript object>"
      ]
     },
     "metadata": {},
     "output_type": "display_data"
    }
   ],
   "source": [
    "# Project paths & files (manual input)\n",
    "raw_ms_data_dir = raw_data_dir.joinpath(r\"00_bodemdalingsvoorspellingskaarten\\Mild scenario\")\n",
    "raw_ss_data_dir = raw_data_dir.joinpath(r\"00_bodemdalingsvoorspellingskaarten\\Sterk scenario\")\n",
    "\n",
    "                                    \n",
    "ds_ms_2020_2050_path = raw_ms_data_dir.joinpath(\"scenario_mild_bodemdaling_incl_ogzw_2020_2050.tif\")\n",
    "ds_ms_2020_2100_path = raw_ms_data_dir.joinpath(\"scenario_mild_bodemdaling_incl_ogzw_2020_2100.tif\")\n",
    "ds_ss_2020_2050_path = raw_ss_data_dir.joinpath(\"scenario_sterk_bodemdaling_incl_ogzw_2020_2050.tif\")\n",
    "ds_ss_2020_2100_path = raw_ss_data_dir.joinpath(\"scenario_sterk_bodemdaling_incl_ogzw_2020_2100.tif\")"
   ]
  },
  {
   "cell_type": "code",
   "execution_count": 15,
   "id": "eb987dab",
   "metadata": {},
   "outputs": [
    {
     "data": {
      "application/javascript": "\n            setTimeout(function() {\n                var nbb_cell_id = 15;\n                var nbb_unformatted_code = \"ds_ms_2020_2050 = xr.open_dataset(\\n    ds_ms_2020_2050_path, engine=\\\"rasterio\\\", mask_and_scale=False\\n) \\nds_ms_2020_2100 = xr.open_dataset(\\n    ds_ms_2020_2100_path, engine=\\\"rasterio\\\", mask_and_scale=False\\n) \\nds_ss_2020_2050 = xr.open_dataset(\\n    ds_ss_2020_2050_path, engine=\\\"rasterio\\\", mask_and_scale=False\\n) \\nds_ss_2020_2100 = xr.open_dataset(\\n    ds_ss_2020_2100_path, engine=\\\"rasterio\\\", mask_and_scale=False\\n) \";\n                var nbb_formatted_code = \"ds_ms_2020_2050 = xr.open_dataset(\\n    ds_ms_2020_2050_path, engine=\\\"rasterio\\\", mask_and_scale=False\\n)\\nds_ms_2020_2100 = xr.open_dataset(\\n    ds_ms_2020_2100_path, engine=\\\"rasterio\\\", mask_and_scale=False\\n)\\nds_ss_2020_2050 = xr.open_dataset(\\n    ds_ss_2020_2050_path, engine=\\\"rasterio\\\", mask_and_scale=False\\n)\\nds_ss_2020_2100 = xr.open_dataset(\\n    ds_ss_2020_2100_path, engine=\\\"rasterio\\\", mask_and_scale=False\\n)\";\n                var nbb_cells = Jupyter.notebook.get_cells();\n                for (var i = 0; i < nbb_cells.length; ++i) {\n                    if (nbb_cells[i].input_prompt_number == nbb_cell_id) {\n                        if (nbb_cells[i].get_text() == nbb_unformatted_code) {\n                             nbb_cells[i].set_text(nbb_formatted_code);\n                        }\n                        break;\n                    }\n                }\n            }, 500);\n            ",
      "text/plain": [
       "<IPython.core.display.Javascript object>"
      ]
     },
     "metadata": {},
     "output_type": "display_data"
    }
   ],
   "source": [
    "ds_ms_2020_2050 = xr.open_dataset(\n",
    "    ds_ms_2020_2050_path, engine=\"rasterio\", mask_and_scale=False\n",
    ") \n",
    "ds_ms_2020_2100 = xr.open_dataset(\n",
    "    ds_ms_2020_2100_path, engine=\"rasterio\", mask_and_scale=False\n",
    ") \n",
    "ds_ss_2020_2050 = xr.open_dataset(\n",
    "    ds_ss_2020_2050_path, engine=\"rasterio\", mask_and_scale=False\n",
    ") \n",
    "ds_ss_2020_2100 = xr.open_dataset(\n",
    "    ds_ss_2020_2100_path, engine=\"rasterio\", mask_and_scale=False\n",
    ") "
   ]
  },
  {
   "cell_type": "markdown",
   "id": "6c5f1406",
   "metadata": {},
   "source": [
    "### Check CF compliancy original NetCDF files"
   ]
  },
  {
   "cell_type": "code",
   "execution_count": 16,
   "id": "e2288a0f",
   "metadata": {},
   "outputs": [
    {
     "data": {
      "application/javascript": "\n            setTimeout(function() {\n                var nbb_cell_id = 16;\n                var nbb_unformatted_code = \"# Not implemented as geotiffs are less flexible, so checking compliance is not necessary.\";\n                var nbb_formatted_code = \"# Not implemented as geotiffs are less flexible, so checking compliance is not necessary.\";\n                var nbb_cells = Jupyter.notebook.get_cells();\n                for (var i = 0; i < nbb_cells.length; ++i) {\n                    if (nbb_cells[i].input_prompt_number == nbb_cell_id) {\n                        if (nbb_cells[i].get_text() == nbb_unformatted_code) {\n                             nbb_cells[i].set_text(nbb_formatted_code);\n                        }\n                        break;\n                    }\n                }\n            }, 500);\n            ",
      "text/plain": [
       "<IPython.core.display.Javascript object>"
      ]
     },
     "metadata": {},
     "output_type": "display_data"
    }
   ],
   "source": [
    "# Not implemented as geotiffs are less flexible, so checking compliance is not necessary."
   ]
  },
  {
   "cell_type": "markdown",
   "id": "39b7e2d5",
   "metadata": {},
   "source": [
    "### Make CF compliant alterations to the NetCDF files (dataset dependent)"
   ]
  },
  {
   "cell_type": "code",
   "execution_count": 17,
   "id": "cabbf6ab",
   "metadata": {},
   "outputs": [
    {
     "data": {
      "application/javascript": "\n            setTimeout(function() {\n                var nbb_cell_id = 17;\n                var nbb_unformatted_code = \"# Not implemented\";\n                var nbb_formatted_code = \"# Not implemented\";\n                var nbb_cells = Jupyter.notebook.get_cells();\n                for (var i = 0; i < nbb_cells.length; ++i) {\n                    if (nbb_cells[i].input_prompt_number == nbb_cell_id) {\n                        if (nbb_cells[i].get_text() == nbb_unformatted_code) {\n                             nbb_cells[i].set_text(nbb_formatted_code);\n                        }\n                        break;\n                    }\n                }\n            }, 500);\n            ",
      "text/plain": [
       "<IPython.core.display.Javascript object>"
      ]
     },
     "metadata": {},
     "output_type": "display_data"
    }
   ],
   "source": [
    "# Not implemented"
   ]
  },
  {
   "cell_type": "markdown",
   "id": "d781d155",
   "metadata": {},
   "source": [
    "### Write data to CoG"
   ]
  },
  {
   "cell_type": "markdown",
   "id": "e252ab31",
   "metadata": {},
   "source": [
    "#### Single CoG test"
   ]
  },
  {
   "cell_type": "code",
   "execution_count": 18,
   "id": "19d8d5d8",
   "metadata": {},
   "outputs": [
    {
     "data": {
      "application/javascript": "\n            setTimeout(function() {\n                var nbb_cell_id = 18;\n                var nbb_unformatted_code = \"## Variables to include in a loop\\n\\nVARIABLE = \\\"subsidence\\\"\\nSCENARIO = \\\"sterk\\\"\\nTIME = \\\"2100\\\"\\n\\nds = ds_ss_2020_2100\";\n                var nbb_formatted_code = \"## Variables to include in a loop\\n\\nVARIABLE = \\\"subsidence\\\"\\nSCENARIO = \\\"sterk\\\"\\nTIME = \\\"2100\\\"\\n\\nds = ds_ss_2020_2100\";\n                var nbb_cells = Jupyter.notebook.get_cells();\n                for (var i = 0; i < nbb_cells.length; ++i) {\n                    if (nbb_cells[i].input_prompt_number == nbb_cell_id) {\n                        if (nbb_cells[i].get_text() == nbb_unformatted_code) {\n                             nbb_cells[i].set_text(nbb_formatted_code);\n                        }\n                        break;\n                    }\n                }\n            }, 500);\n            ",
      "text/plain": [
       "<IPython.core.display.Javascript object>"
      ]
     },
     "metadata": {},
     "output_type": "display_data"
    }
   ],
   "source": [
    "## Variables to include in a loop\n",
    "\n",
    "VARIABLE = \"subsidence\"\n",
    "SCENARIO = \"sterk\"\n",
    "TIME = \"2100\"\n",
    "\n",
    "ds = ds_ss_2020_2100"
   ]
  },
  {
   "cell_type": "code",
   "execution_count": 19,
   "id": "6c038ac8",
   "metadata": {},
   "outputs": [
    {
     "data": {
      "application/javascript": "\n            setTimeout(function() {\n                var nbb_cell_id = 19;\n                var nbb_unformatted_code = \"## Creating output folders\\n\\ncog_dir  =  processed_data_dir.joinpath(VARIABLE, \\\"cog\\\")\\ncogs_dir =  processed_data_dir.joinpath(VARIABLE, \\\"cogs\\\")\\n\\ncog_dir.mkdir(parents=True, exist_ok=True)\\ncogs_dir.mkdir(parents=True, exist_ok=True)\";\n                var nbb_formatted_code = \"## Creating output folders\\n\\ncog_dir = processed_data_dir.joinpath(VARIABLE, \\\"cog\\\")\\ncogs_dir = processed_data_dir.joinpath(VARIABLE, \\\"cogs\\\")\\n\\ncog_dir.mkdir(parents=True, exist_ok=True)\\ncogs_dir.mkdir(parents=True, exist_ok=True)\";\n                var nbb_cells = Jupyter.notebook.get_cells();\n                for (var i = 0; i < nbb_cells.length; ++i) {\n                    if (nbb_cells[i].input_prompt_number == nbb_cell_id) {\n                        if (nbb_cells[i].get_text() == nbb_unformatted_code) {\n                             nbb_cells[i].set_text(nbb_formatted_code);\n                        }\n                        break;\n                    }\n                }\n            }, 500);\n            ",
      "text/plain": [
       "<IPython.core.display.Javascript object>"
      ]
     },
     "metadata": {},
     "output_type": "display_data"
    }
   ],
   "source": [
    "## Creating output folders\n",
    "\n",
    "cog_dir  =  processed_data_dir.joinpath(VARIABLE, \"cog\")\n",
    "cogs_dir =  processed_data_dir.joinpath(VARIABLE, \"cogs\")\n",
    "\n",
    "cog_dir.mkdir(parents=True, exist_ok=True)\n",
    "cogs_dir.mkdir(parents=True, exist_ok=True)"
   ]
  },
  {
   "cell_type": "code",
   "execution_count": 20,
   "id": "279edbbc",
   "metadata": {},
   "outputs": [
    {
     "data": {
      "application/javascript": "\n            setTimeout(function() {\n                var nbb_cell_id = 20;\n                var nbb_unformatted_code = \"## Read metadata (should be in input folder, but this is archived, therefore write in output for now)\\n\\nmetadata_path =  processed_data_dir.joinpath(VARIABLE, \\\"metadata_subsidence.json\\\")\\n\\n# NetCDF attribute alterations by means of metadata template\\nf_global    = open(metadata_path)\\nmeta_global = json.load(f_global)\";\n                var nbb_formatted_code = \"## Read metadata (should be in input folder, but this is archived, therefore write in output for now)\\n\\nmetadata_path = processed_data_dir.joinpath(VARIABLE, \\\"metadata_subsidence.json\\\")\\n\\n# NetCDF attribute alterations by means of metadata template\\nf_global = open(metadata_path)\\nmeta_global = json.load(f_global)\";\n                var nbb_cells = Jupyter.notebook.get_cells();\n                for (var i = 0; i < nbb_cells.length; ++i) {\n                    if (nbb_cells[i].input_prompt_number == nbb_cell_id) {\n                        if (nbb_cells[i].get_text() == nbb_unformatted_code) {\n                             nbb_cells[i].set_text(nbb_formatted_code);\n                        }\n                        break;\n                    }\n                }\n            }, 500);\n            ",
      "text/plain": [
       "<IPython.core.display.Javascript object>"
      ]
     },
     "metadata": {},
     "output_type": "display_data"
    }
   ],
   "source": [
    "## Read metadata (should be in input folder, but this is archived, therefore write in output for now)\n",
    "\n",
    "metadata_path =  processed_data_dir.joinpath(VARIABLE, \"metadata_subsidence.json\")\n",
    "\n",
    "# NetCDF attribute alterations by means of metadata template\n",
    "f_global    = open(metadata_path)\n",
    "meta_global = json.load(f_global)"
   ]
  },
  {
   "cell_type": "code",
   "execution_count": 21,
   "id": "c8c2774e",
   "metadata": {},
   "outputs": [
    {
     "data": {
      "application/javascript": "\n            setTimeout(function() {\n                var nbb_cell_id = 21;\n                var nbb_unformatted_code = \"## Remove the band dimension and add the crs, to include atts to the ds\\n\\nds = ds.isel(band=0).drop('band')\\nds.rio.write_crs(28992, inplace=True)\\n\\n# add all attributes (again)\\nfor attr_name, attr_val in meta_global.items():\\n    if attr_name == 'PROVIDERS':\\n        attr_val = json.dumps(attr_val)\\n    if attr_name == \\\"MEDIA_TYPE\\\": # change media type to tiff, leave the rest as is\\n        attr_val = \\\"IMAGE/TIFF\\\"\\n    ds.attrs[attr_name] = attr_val\\n\\nds.attrs['Conventions'] = \\\"CF-1.8\\\"\\n\\noutput_dir  =  cog_dir.joinpath(SCENARIO)  # if 1x run, use cog dir, if multiple, use cogs dir\\noutput_dir.mkdir(parents=True, exist_ok=True)\\n\\nfname = f\\\"{TIME}.GeoTiff\\\"\\n\\nout_path = output_dir.joinpath(fname)\\n\\nds.rio.to_raster(out_path, compress=\\\"DEFLATE\\\", driver=\\\"COG\\\")\";\n                var nbb_formatted_code = \"## Remove the band dimension and add the crs, to include atts to the ds\\n\\nds = ds.isel(band=0).drop(\\\"band\\\")\\nds.rio.write_crs(28992, inplace=True)\\n\\n# add all attributes (again)\\nfor attr_name, attr_val in meta_global.items():\\n    if attr_name == \\\"PROVIDERS\\\":\\n        attr_val = json.dumps(attr_val)\\n    if attr_name == \\\"MEDIA_TYPE\\\":  # change media type to tiff, leave the rest as is\\n        attr_val = \\\"IMAGE/TIFF\\\"\\n    ds.attrs[attr_name] = attr_val\\n\\nds.attrs[\\\"Conventions\\\"] = \\\"CF-1.8\\\"\\n\\noutput_dir = cog_dir.joinpath(\\n    SCENARIO\\n)  # if 1x run, use cog dir, if multiple, use cogs dir\\noutput_dir.mkdir(parents=True, exist_ok=True)\\n\\nfname = f\\\"{TIME}.GeoTiff\\\"\\n\\nout_path = output_dir.joinpath(fname)\\n\\nds.rio.to_raster(out_path, compress=\\\"DEFLATE\\\", driver=\\\"COG\\\")\";\n                var nbb_cells = Jupyter.notebook.get_cells();\n                for (var i = 0; i < nbb_cells.length; ++i) {\n                    if (nbb_cells[i].input_prompt_number == nbb_cell_id) {\n                        if (nbb_cells[i].get_text() == nbb_unformatted_code) {\n                             nbb_cells[i].set_text(nbb_formatted_code);\n                        }\n                        break;\n                    }\n                }\n            }, 500);\n            ",
      "text/plain": [
       "<IPython.core.display.Javascript object>"
      ]
     },
     "metadata": {},
     "output_type": "display_data"
    }
   ],
   "source": [
    "## Remove the band dimension and add the crs, to include atts to the ds\n",
    "\n",
    "ds = ds.isel(band=0).drop('band')\n",
    "ds.rio.write_crs(28992, inplace=True)\n",
    "\n",
    "# add all attributes (again)\n",
    "for attr_name, attr_val in meta_global.items():\n",
    "    if attr_name == 'PROVIDERS':\n",
    "        attr_val = json.dumps(attr_val)\n",
    "    if attr_name == \"MEDIA_TYPE\": # change media type to tiff, leave the rest as is\n",
    "        attr_val = \"IMAGE/TIFF\"\n",
    "    ds.attrs[attr_name] = attr_val\n",
    "\n",
    "ds.attrs['Conventions'] = \"CF-1.8\"\n",
    "\n",
    "output_dir  =  cog_dir.joinpath(SCENARIO)  # if 1x run, use cog dir, if multiple, use cogs dir\n",
    "output_dir.mkdir(parents=True, exist_ok=True)\n",
    "\n",
    "fname = f\"{TIME}.GeoTiff\"\n",
    "\n",
    "out_path = output_dir.joinpath(fname)\n",
    "\n",
    "ds.rio.to_raster(out_path, compress=\"DEFLATE\", driver=\"COG\")"
   ]
  },
  {
   "cell_type": "markdown",
   "id": "457f51b5",
   "metadata": {},
   "source": [
    "#### Multiple CoGs"
   ]
  },
  {
   "cell_type": "code",
   "execution_count": 22,
   "id": "00d3e5ee",
   "metadata": {},
   "outputs": [
    {
     "data": {
      "application/javascript": "\n            setTimeout(function() {\n                var nbb_cell_id = 22;\n                var nbb_unformatted_code = \"## Variables to include in a loop\\n\\nVARIABLE = [\\\"subsidence\\\"]\\nSCENARIO = [\\\"sterk\\\", 'mild']\\nTIME = ['2050', \\\"2100\\\"]\\n\\ndataset = {'ds_sterk_2020_2050': ds_ss_2020_2050, \\n           'ds_sterk_2020_2100': ds_ss_2020_2100, \\n           'ds_mild_2020_2050': ds_ms_2020_2050, \\n           'ds_mild_2020_2100': ds_ms_2020_2100}\";\n                var nbb_formatted_code = \"## Variables to include in a loop\\n\\nVARIABLE = [\\\"subsidence\\\"]\\nSCENARIO = [\\\"sterk\\\", \\\"mild\\\"]\\nTIME = [\\\"2050\\\", \\\"2100\\\"]\\n\\ndataset = {\\n    \\\"ds_sterk_2020_2050\\\": ds_ss_2020_2050,\\n    \\\"ds_sterk_2020_2100\\\": ds_ss_2020_2100,\\n    \\\"ds_mild_2020_2050\\\": ds_ms_2020_2050,\\n    \\\"ds_mild_2020_2100\\\": ds_ms_2020_2100,\\n}\";\n                var nbb_cells = Jupyter.notebook.get_cells();\n                for (var i = 0; i < nbb_cells.length; ++i) {\n                    if (nbb_cells[i].input_prompt_number == nbb_cell_id) {\n                        if (nbb_cells[i].get_text() == nbb_unformatted_code) {\n                             nbb_cells[i].set_text(nbb_formatted_code);\n                        }\n                        break;\n                    }\n                }\n            }, 500);\n            ",
      "text/plain": [
       "<IPython.core.display.Javascript object>"
      ]
     },
     "metadata": {},
     "output_type": "display_data"
    }
   ],
   "source": [
    "## Variables to include in a loop\n",
    "\n",
    "VARIABLE = [\"subsidence\"]\n",
    "SCENARIO = [\"sterk\", 'mild']\n",
    "TIME = ['2050', \"2100\"]\n",
    "\n",
    "dataset = {'ds_sterk_2020_2050': ds_ss_2020_2050, \n",
    "           'ds_sterk_2020_2100': ds_ss_2020_2100, \n",
    "           'ds_mild_2020_2050': ds_ms_2020_2050, \n",
    "           'ds_mild_2020_2100': ds_ms_2020_2100}\n"
   ]
  },
  {
   "cell_type": "code",
   "execution_count": 36,
   "id": "26cb71c9",
   "metadata": {},
   "outputs": [
    {
     "name": "stdout",
     "output_type": "stream",
     "text": [
      "subsidence\n",
      "sterk\n",
      "2050\n",
      "2100\n",
      "mild\n",
      "2050\n",
      "2100\n"
     ]
    },
    {
     "data": {
      "application/javascript": "\n            setTimeout(function() {\n                var nbb_cell_id = 36;\n                var nbb_unformatted_code = \"## Loop over variables, scenarios and years:\\n\\nfor var in VARIABLE:\\n    print(var)\\n\\n    # create output folder:\\n    cogs_dir =  processed_data_dir.joinpath(var, \\\"cogs\\\")\\n    cogs_dir.mkdir(parents=True, exist_ok=True)\\n\\n    # read metadata:\\n    metadata_path =  processed_data_dir.joinpath(var, f\\\"metadata_{var}.json\\\")\\n    # NetCDF attribute alterations by means of metadata template\\n    f_global    = open(metadata_path)\\n    meta_global = json.load(f_global)\\n\\n    for scen in SCENARIO:\\n        print(scen)\\n        for time in TIME:\\n            print(time)\\n\\n            ## Remove the band dimension and add the crs\\n            ds = dataset[f'ds_{scen}_2020_{time}'].isel(band=0).drop('band')\\n            ds.rio.write_crs(28992, inplace=True)\\n\\n            ds = ds.fillna(-99999)\\n            ds.band_data.attrs['_FillValue'] = -99999\\n            # ds.rio.write_nodata(-99999, inplace=True)\\n\\n            # add all attributes (again)\\n            for attr_name, attr_val in meta_global.items():\\n                if attr_name == 'PROVIDERS':\\n                    attr_val = json.dumps(attr_val)\\n                if attr_name == \\\"MEDIA_TYPE\\\": # change media type to tiff, leave the rest as is\\n                    attr_val = \\\"IMAGE/TIFF\\\"\\n                ds.attrs[attr_name] = attr_val\\n\\n            ds.attrs['Conventions'] = \\\"CF-1.8\\\"\\n\\n            # Saving\\n            output_dir  =  cogs_dir.joinpath(scen)  # if 1x run, use cog dir, if multiple, use cogs dir\\n            output_dir.mkdir(parents=True, exist_ok=True)\\n\\n            fname = f\\\"{time}.tif\\\"\\n\\n            out_path = output_dir.joinpath(fname)\\n\\n            ds.rio.to_raster(out_path, compress=\\\"DEFLATE\\\", driver=\\\"COG\\\")\";\n                var nbb_formatted_code = \"## Loop over variables, scenarios and years:\\n\\nfor var in VARIABLE:\\n    print(var)\\n\\n    # create output folder:\\n    cogs_dir = processed_data_dir.joinpath(var, \\\"cogs\\\")\\n    cogs_dir.mkdir(parents=True, exist_ok=True)\\n\\n    # read metadata:\\n    metadata_path = processed_data_dir.joinpath(var, f\\\"metadata_{var}.json\\\")\\n    # NetCDF attribute alterations by means of metadata template\\n    f_global = open(metadata_path)\\n    meta_global = json.load(f_global)\\n\\n    for scen in SCENARIO:\\n        print(scen)\\n        for time in TIME:\\n            print(time)\\n\\n            ## Remove the band dimension and add the crs\\n            ds = dataset[f\\\"ds_{scen}_2020_{time}\\\"].isel(band=0).drop(\\\"band\\\")\\n            ds.rio.write_crs(28992, inplace=True)\\n\\n            ds = ds.fillna(-99999)\\n            ds.band_data.attrs[\\\"_FillValue\\\"] = -99999\\n            # ds.rio.write_nodata(-99999, inplace=True)\\n\\n            # add all attributes (again)\\n            for attr_name, attr_val in meta_global.items():\\n                if attr_name == \\\"PROVIDERS\\\":\\n                    attr_val = json.dumps(attr_val)\\n                if (\\n                    attr_name == \\\"MEDIA_TYPE\\\"\\n                ):  # change media type to tiff, leave the rest as is\\n                    attr_val = \\\"IMAGE/TIFF\\\"\\n                ds.attrs[attr_name] = attr_val\\n\\n            ds.attrs[\\\"Conventions\\\"] = \\\"CF-1.8\\\"\\n\\n            # Saving\\n            output_dir = cogs_dir.joinpath(\\n                scen\\n            )  # if 1x run, use cog dir, if multiple, use cogs dir\\n            output_dir.mkdir(parents=True, exist_ok=True)\\n\\n            fname = f\\\"{time}.tif\\\"\\n\\n            out_path = output_dir.joinpath(fname)\\n\\n            ds.rio.to_raster(out_path, compress=\\\"DEFLATE\\\", driver=\\\"COG\\\")\";\n                var nbb_cells = Jupyter.notebook.get_cells();\n                for (var i = 0; i < nbb_cells.length; ++i) {\n                    if (nbb_cells[i].input_prompt_number == nbb_cell_id) {\n                        if (nbb_cells[i].get_text() == nbb_unformatted_code) {\n                             nbb_cells[i].set_text(nbb_formatted_code);\n                        }\n                        break;\n                    }\n                }\n            }, 500);\n            ",
      "text/plain": [
       "<IPython.core.display.Javascript object>"
      ]
     },
     "metadata": {},
     "output_type": "display_data"
    }
   ],
   "source": [
    "## Loop over variables, scenarios and years:\n",
    "\n",
    "for var in VARIABLE:\n",
    "    print(var)\n",
    "\n",
    "    # create output folder:\n",
    "    cogs_dir =  processed_data_dir.joinpath(var, \"cogs\")\n",
    "    cogs_dir.mkdir(parents=True, exist_ok=True)\n",
    "\n",
    "    # read metadata:\n",
    "    metadata_path =  processed_data_dir.joinpath(var, f\"metadata_{var}.json\")\n",
    "    # NetCDF attribute alterations by means of metadata template\n",
    "    f_global    = open(metadata_path)\n",
    "    meta_global = json.load(f_global)\n",
    "\n",
    "    for scen in SCENARIO:\n",
    "        print(scen)\n",
    "        for time in TIME:\n",
    "            print(time)\n",
    "\n",
    "            ## Remove the band dimension and add the crs\n",
    "            ds = dataset[f'ds_{scen}_2020_{time}'].isel(band=0).drop('band')\n",
    "            ds.rio.write_crs(28992, inplace=True)\n",
    "\n",
    "            ds = ds.fillna(-99999)\n",
    "            ds.band_data.attrs['_FillValue'] = -99999\n",
    "            # ds.rio.write_nodata(-99999, inplace=True)\n",
    "\n",
    "            # add all attributes (again)\n",
    "            for attr_name, attr_val in meta_global.items():\n",
    "                if attr_name == 'PROVIDERS':\n",
    "                    attr_val = json.dumps(attr_val)\n",
    "                if attr_name == \"MEDIA_TYPE\": # change media type to tiff, leave the rest as is\n",
    "                    attr_val = \"IMAGE/TIFF\"\n",
    "                ds.attrs[attr_name] = attr_val\n",
    "\n",
    "            ds.attrs['Conventions'] = \"CF-1.8\"\n",
    "\n",
    "            # Saving\n",
    "            output_dir  =  cogs_dir.joinpath(scen)  # if 1x run, use cog dir, if multiple, use cogs dir\n",
    "            output_dir.mkdir(parents=True, exist_ok=True)\n",
    "\n",
    "            fname = f\"{time}.tif\"\n",
    "\n",
    "            out_path = output_dir.joinpath(fname)\n",
    "\n",
    "            ds.rio.to_raster(out_path, compress=\"DEFLATE\", driver=\"COG\")"
   ]
  },
  {
   "cell_type": "code",
   "execution_count": 38,
   "id": "4b3c7eac",
   "metadata": {},
   "outputs": [
    {
     "data": {
      "text/html": [
       "<div><svg style=\"position: absolute; width: 0; height: 0; overflow: hidden\">\n",
       "<defs>\n",
       "<symbol id=\"icon-database\" viewBox=\"0 0 32 32\">\n",
       "<path d=\"M16 0c-8.837 0-16 2.239-16 5v4c0 2.761 7.163 5 16 5s16-2.239 16-5v-4c0-2.761-7.163-5-16-5z\"></path>\n",
       "<path d=\"M16 17c-8.837 0-16-2.239-16-5v6c0 2.761 7.163 5 16 5s16-2.239 16-5v-6c0 2.761-7.163 5-16 5z\"></path>\n",
       "<path d=\"M16 26c-8.837 0-16-2.239-16-5v6c0 2.761 7.163 5 16 5s16-2.239 16-5v-6c0 2.761-7.163 5-16 5z\"></path>\n",
       "</symbol>\n",
       "<symbol id=\"icon-file-text2\" viewBox=\"0 0 32 32\">\n",
       "<path d=\"M28.681 7.159c-0.694-0.947-1.662-2.053-2.724-3.116s-2.169-2.030-3.116-2.724c-1.612-1.182-2.393-1.319-2.841-1.319h-15.5c-1.378 0-2.5 1.121-2.5 2.5v27c0 1.378 1.122 2.5 2.5 2.5h23c1.378 0 2.5-1.122 2.5-2.5v-19.5c0-0.448-0.137-1.23-1.319-2.841zM24.543 5.457c0.959 0.959 1.712 1.825 2.268 2.543h-4.811v-4.811c0.718 0.556 1.584 1.309 2.543 2.268zM28 29.5c0 0.271-0.229 0.5-0.5 0.5h-23c-0.271 0-0.5-0.229-0.5-0.5v-27c0-0.271 0.229-0.5 0.5-0.5 0 0 15.499-0 15.5 0v7c0 0.552 0.448 1 1 1h7v19.5z\"></path>\n",
       "<path d=\"M23 26h-14c-0.552 0-1-0.448-1-1s0.448-1 1-1h14c0.552 0 1 0.448 1 1s-0.448 1-1 1z\"></path>\n",
       "<path d=\"M23 22h-14c-0.552 0-1-0.448-1-1s0.448-1 1-1h14c0.552 0 1 0.448 1 1s-0.448 1-1 1z\"></path>\n",
       "<path d=\"M23 18h-14c-0.552 0-1-0.448-1-1s0.448-1 1-1h14c0.552 0 1 0.448 1 1s-0.448 1-1 1z\"></path>\n",
       "</symbol>\n",
       "</defs>\n",
       "</svg>\n",
       "<style>/* CSS stylesheet for displaying xarray objects in jupyterlab.\n",
       " *\n",
       " */\n",
       "\n",
       ":root {\n",
       "  --xr-font-color0: var(--jp-content-font-color0, rgba(0, 0, 0, 1));\n",
       "  --xr-font-color2: var(--jp-content-font-color2, rgba(0, 0, 0, 0.54));\n",
       "  --xr-font-color3: var(--jp-content-font-color3, rgba(0, 0, 0, 0.38));\n",
       "  --xr-border-color: var(--jp-border-color2, #e0e0e0);\n",
       "  --xr-disabled-color: var(--jp-layout-color3, #bdbdbd);\n",
       "  --xr-background-color: var(--jp-layout-color0, white);\n",
       "  --xr-background-color-row-even: var(--jp-layout-color1, white);\n",
       "  --xr-background-color-row-odd: var(--jp-layout-color2, #eeeeee);\n",
       "}\n",
       "\n",
       "html[theme=dark],\n",
       "body[data-theme=dark],\n",
       "body.vscode-dark {\n",
       "  --xr-font-color0: rgba(255, 255, 255, 1);\n",
       "  --xr-font-color2: rgba(255, 255, 255, 0.54);\n",
       "  --xr-font-color3: rgba(255, 255, 255, 0.38);\n",
       "  --xr-border-color: #1F1F1F;\n",
       "  --xr-disabled-color: #515151;\n",
       "  --xr-background-color: #111111;\n",
       "  --xr-background-color-row-even: #111111;\n",
       "  --xr-background-color-row-odd: #313131;\n",
       "}\n",
       "\n",
       ".xr-wrap {\n",
       "  display: block !important;\n",
       "  min-width: 300px;\n",
       "  max-width: 700px;\n",
       "}\n",
       "\n",
       ".xr-text-repr-fallback {\n",
       "  /* fallback to plain text repr when CSS is not injected (untrusted notebook) */\n",
       "  display: none;\n",
       "}\n",
       "\n",
       ".xr-header {\n",
       "  padding-top: 6px;\n",
       "  padding-bottom: 6px;\n",
       "  margin-bottom: 4px;\n",
       "  border-bottom: solid 1px var(--xr-border-color);\n",
       "}\n",
       "\n",
       ".xr-header > div,\n",
       ".xr-header > ul {\n",
       "  display: inline;\n",
       "  margin-top: 0;\n",
       "  margin-bottom: 0;\n",
       "}\n",
       "\n",
       ".xr-obj-type,\n",
       ".xr-array-name {\n",
       "  margin-left: 2px;\n",
       "  margin-right: 10px;\n",
       "}\n",
       "\n",
       ".xr-obj-type {\n",
       "  color: var(--xr-font-color2);\n",
       "}\n",
       "\n",
       ".xr-sections {\n",
       "  padding-left: 0 !important;\n",
       "  display: grid;\n",
       "  grid-template-columns: 150px auto auto 1fr 20px 20px;\n",
       "}\n",
       "\n",
       ".xr-section-item {\n",
       "  display: contents;\n",
       "}\n",
       "\n",
       ".xr-section-item input {\n",
       "  display: none;\n",
       "}\n",
       "\n",
       ".xr-section-item input + label {\n",
       "  color: var(--xr-disabled-color);\n",
       "}\n",
       "\n",
       ".xr-section-item input:enabled + label {\n",
       "  cursor: pointer;\n",
       "  color: var(--xr-font-color2);\n",
       "}\n",
       "\n",
       ".xr-section-item input:enabled + label:hover {\n",
       "  color: var(--xr-font-color0);\n",
       "}\n",
       "\n",
       ".xr-section-summary {\n",
       "  grid-column: 1;\n",
       "  color: var(--xr-font-color2);\n",
       "  font-weight: 500;\n",
       "}\n",
       "\n",
       ".xr-section-summary > span {\n",
       "  display: inline-block;\n",
       "  padding-left: 0.5em;\n",
       "}\n",
       "\n",
       ".xr-section-summary-in:disabled + label {\n",
       "  color: var(--xr-font-color2);\n",
       "}\n",
       "\n",
       ".xr-section-summary-in + label:before {\n",
       "  display: inline-block;\n",
       "  content: '►';\n",
       "  font-size: 11px;\n",
       "  width: 15px;\n",
       "  text-align: center;\n",
       "}\n",
       "\n",
       ".xr-section-summary-in:disabled + label:before {\n",
       "  color: var(--xr-disabled-color);\n",
       "}\n",
       "\n",
       ".xr-section-summary-in:checked + label:before {\n",
       "  content: '▼';\n",
       "}\n",
       "\n",
       ".xr-section-summary-in:checked + label > span {\n",
       "  display: none;\n",
       "}\n",
       "\n",
       ".xr-section-summary,\n",
       ".xr-section-inline-details {\n",
       "  padding-top: 4px;\n",
       "  padding-bottom: 4px;\n",
       "}\n",
       "\n",
       ".xr-section-inline-details {\n",
       "  grid-column: 2 / -1;\n",
       "}\n",
       "\n",
       ".xr-section-details {\n",
       "  display: none;\n",
       "  grid-column: 1 / -1;\n",
       "  margin-bottom: 5px;\n",
       "}\n",
       "\n",
       ".xr-section-summary-in:checked ~ .xr-section-details {\n",
       "  display: contents;\n",
       "}\n",
       "\n",
       ".xr-array-wrap {\n",
       "  grid-column: 1 / -1;\n",
       "  display: grid;\n",
       "  grid-template-columns: 20px auto;\n",
       "}\n",
       "\n",
       ".xr-array-wrap > label {\n",
       "  grid-column: 1;\n",
       "  vertical-align: top;\n",
       "}\n",
       "\n",
       ".xr-preview {\n",
       "  color: var(--xr-font-color3);\n",
       "}\n",
       "\n",
       ".xr-array-preview,\n",
       ".xr-array-data {\n",
       "  padding: 0 5px !important;\n",
       "  grid-column: 2;\n",
       "}\n",
       "\n",
       ".xr-array-data,\n",
       ".xr-array-in:checked ~ .xr-array-preview {\n",
       "  display: none;\n",
       "}\n",
       "\n",
       ".xr-array-in:checked ~ .xr-array-data,\n",
       ".xr-array-preview {\n",
       "  display: inline-block;\n",
       "}\n",
       "\n",
       ".xr-dim-list {\n",
       "  display: inline-block !important;\n",
       "  list-style: none;\n",
       "  padding: 0 !important;\n",
       "  margin: 0;\n",
       "}\n",
       "\n",
       ".xr-dim-list li {\n",
       "  display: inline-block;\n",
       "  padding: 0;\n",
       "  margin: 0;\n",
       "}\n",
       "\n",
       ".xr-dim-list:before {\n",
       "  content: '(';\n",
       "}\n",
       "\n",
       ".xr-dim-list:after {\n",
       "  content: ')';\n",
       "}\n",
       "\n",
       ".xr-dim-list li:not(:last-child):after {\n",
       "  content: ',';\n",
       "  padding-right: 5px;\n",
       "}\n",
       "\n",
       ".xr-has-index {\n",
       "  font-weight: bold;\n",
       "}\n",
       "\n",
       ".xr-var-list,\n",
       ".xr-var-item {\n",
       "  display: contents;\n",
       "}\n",
       "\n",
       ".xr-var-item > div,\n",
       ".xr-var-item label,\n",
       ".xr-var-item > .xr-var-name span {\n",
       "  background-color: var(--xr-background-color-row-even);\n",
       "  margin-bottom: 0;\n",
       "}\n",
       "\n",
       ".xr-var-item > .xr-var-name:hover span {\n",
       "  padding-right: 5px;\n",
       "}\n",
       "\n",
       ".xr-var-list > li:nth-child(odd) > div,\n",
       ".xr-var-list > li:nth-child(odd) > label,\n",
       ".xr-var-list > li:nth-child(odd) > .xr-var-name span {\n",
       "  background-color: var(--xr-background-color-row-odd);\n",
       "}\n",
       "\n",
       ".xr-var-name {\n",
       "  grid-column: 1;\n",
       "}\n",
       "\n",
       ".xr-var-dims {\n",
       "  grid-column: 2;\n",
       "}\n",
       "\n",
       ".xr-var-dtype {\n",
       "  grid-column: 3;\n",
       "  text-align: right;\n",
       "  color: var(--xr-font-color2);\n",
       "}\n",
       "\n",
       ".xr-var-preview {\n",
       "  grid-column: 4;\n",
       "}\n",
       "\n",
       ".xr-index-preview {\n",
       "  grid-column: 2 / 5;\n",
       "  color: var(--xr-font-color2);\n",
       "}\n",
       "\n",
       ".xr-var-name,\n",
       ".xr-var-dims,\n",
       ".xr-var-dtype,\n",
       ".xr-preview,\n",
       ".xr-attrs dt {\n",
       "  white-space: nowrap;\n",
       "  overflow: hidden;\n",
       "  text-overflow: ellipsis;\n",
       "  padding-right: 10px;\n",
       "}\n",
       "\n",
       ".xr-var-name:hover,\n",
       ".xr-var-dims:hover,\n",
       ".xr-var-dtype:hover,\n",
       ".xr-attrs dt:hover {\n",
       "  overflow: visible;\n",
       "  width: auto;\n",
       "  z-index: 1;\n",
       "}\n",
       "\n",
       ".xr-var-attrs,\n",
       ".xr-var-data,\n",
       ".xr-index-data {\n",
       "  display: none;\n",
       "  background-color: var(--xr-background-color) !important;\n",
       "  padding-bottom: 5px !important;\n",
       "}\n",
       "\n",
       ".xr-var-attrs-in:checked ~ .xr-var-attrs,\n",
       ".xr-var-data-in:checked ~ .xr-var-data,\n",
       ".xr-index-data-in:checked ~ .xr-index-data {\n",
       "  display: block;\n",
       "}\n",
       "\n",
       ".xr-var-data > table {\n",
       "  float: right;\n",
       "}\n",
       "\n",
       ".xr-var-name span,\n",
       ".xr-var-data,\n",
       ".xr-index-name div,\n",
       ".xr-index-data,\n",
       ".xr-attrs {\n",
       "  padding-left: 25px !important;\n",
       "}\n",
       "\n",
       ".xr-attrs,\n",
       ".xr-var-attrs,\n",
       ".xr-var-data,\n",
       ".xr-index-data {\n",
       "  grid-column: 1 / -1;\n",
       "}\n",
       "\n",
       "dl.xr-attrs {\n",
       "  padding: 0;\n",
       "  margin: 0;\n",
       "  display: grid;\n",
       "  grid-template-columns: 125px auto;\n",
       "}\n",
       "\n",
       ".xr-attrs dt,\n",
       ".xr-attrs dd {\n",
       "  padding: 0;\n",
       "  margin: 0;\n",
       "  float: left;\n",
       "  padding-right: 10px;\n",
       "  width: auto;\n",
       "}\n",
       "\n",
       ".xr-attrs dt {\n",
       "  font-weight: normal;\n",
       "  grid-column: 1;\n",
       "}\n",
       "\n",
       ".xr-attrs dt:hover span {\n",
       "  display: inline-block;\n",
       "  background: var(--xr-background-color);\n",
       "  padding-right: 10px;\n",
       "}\n",
       "\n",
       ".xr-attrs dd {\n",
       "  grid-column: 2;\n",
       "  white-space: pre-wrap;\n",
       "  word-break: break-all;\n",
       "}\n",
       "\n",
       ".xr-icon-database,\n",
       ".xr-icon-file-text2,\n",
       ".xr-no-icon {\n",
       "  display: inline-block;\n",
       "  vertical-align: middle;\n",
       "  width: 1em;\n",
       "  height: 1.5em !important;\n",
       "  stroke-width: 0;\n",
       "  stroke: currentColor;\n",
       "  fill: currentColor;\n",
       "}\n",
       "</style><pre class='xr-text-repr-fallback'>&lt;xarray.Dataset&gt;\n",
       "Dimensions:      (y: 3250, x: 2800)\n",
       "Coordinates:\n",
       "  * x            (x) float64 50.0 150.0 250.0 ... 2.798e+05 2.798e+05 2.8e+05\n",
       "  * y            (y) float64 6.248e+05 6.248e+05 6.246e+05 ... 3e+05 3e+05\n",
       "    spatial_ref  int32 0\n",
       "Data variables:\n",
       "    band_data    (y, x) float64 -1e+05 -1e+05 -1e+05 ... -1e+05 -1e+05 -1e+05\n",
       "Attributes: (12/21)\n",
       "    TITLE:               Subsidence Prediction Maps of the Netherlands\n",
       "    TITLE_ABBREVIATION:  SPMN\n",
       "    DESCRIPTION:         \n",
       "    SHORT_DESCRIPTION:   \n",
       "    INSTITUTION:         \n",
       "    PROVIDERS:           [{&quot;name&quot;: &quot;&quot;, &quot;url&quot;: &quot;&quot;, &quot;roles&quot;: &quot;&quot;, &quot;description&quot;:...\n",
       "    ...                  ...\n",
       "    DOI:                 \n",
       "    LONG_NAME:           \n",
       "    UNITS:               meters\n",
       "    COMMENT:             \n",
       "    CRS:                 EPSG:28992\n",
       "    Conventions:         CF-1.8</pre><div class='xr-wrap' style='display:none'><div class='xr-header'><div class='xr-obj-type'>xarray.Dataset</div></div><ul class='xr-sections'><li class='xr-section-item'><input id='section-8561cb0a-cd04-44a0-9855-930fda8f84bb' class='xr-section-summary-in' type='checkbox' disabled ><label for='section-8561cb0a-cd04-44a0-9855-930fda8f84bb' class='xr-section-summary'  title='Expand/collapse section'>Dimensions:</label><div class='xr-section-inline-details'><ul class='xr-dim-list'><li><span class='xr-has-index'>y</span>: 3250</li><li><span class='xr-has-index'>x</span>: 2800</li></ul></div><div class='xr-section-details'></div></li><li class='xr-section-item'><input id='section-671c4874-347a-43f2-a284-10cac94bf71e' class='xr-section-summary-in' type='checkbox'  checked><label for='section-671c4874-347a-43f2-a284-10cac94bf71e' class='xr-section-summary' >Coordinates: <span>(3)</span></label><div class='xr-section-inline-details'></div><div class='xr-section-details'><ul class='xr-var-list'><li class='xr-var-item'><div class='xr-var-name'><span class='xr-has-index'>x</span></div><div class='xr-var-dims'>(x)</div><div class='xr-var-dtype'>float64</div><div class='xr-var-preview xr-preview'>50.0 150.0 ... 2.798e+05 2.8e+05</div><input id='attrs-f0644616-1680-4999-90c9-137f3735b985' class='xr-var-attrs-in' type='checkbox' disabled><label for='attrs-f0644616-1680-4999-90c9-137f3735b985' title='Show/Hide attributes'><svg class='icon xr-icon-file-text2'><use xlink:href='#icon-file-text2'></use></svg></label><input id='data-5d7465f6-33df-4b2e-992d-8fca4826d68f' class='xr-var-data-in' type='checkbox'><label for='data-5d7465f6-33df-4b2e-992d-8fca4826d68f' title='Show/Hide data repr'><svg class='icon xr-icon-database'><use xlink:href='#icon-database'></use></svg></label><div class='xr-var-attrs'><dl class='xr-attrs'></dl></div><div class='xr-var-data'><pre>array([5.0000e+01, 1.5000e+02, 2.5000e+02, ..., 2.7975e+05, 2.7985e+05,\n",
       "       2.7995e+05])</pre></div></li><li class='xr-var-item'><div class='xr-var-name'><span class='xr-has-index'>y</span></div><div class='xr-var-dims'>(y)</div><div class='xr-var-dtype'>float64</div><div class='xr-var-preview xr-preview'>6.248e+05 6.248e+05 ... 3e+05 3e+05</div><input id='attrs-62307dea-11b0-44f2-8634-5b98cad7728a' class='xr-var-attrs-in' type='checkbox' disabled><label for='attrs-62307dea-11b0-44f2-8634-5b98cad7728a' title='Show/Hide attributes'><svg class='icon xr-icon-file-text2'><use xlink:href='#icon-file-text2'></use></svg></label><input id='data-6789c35b-0cbc-4129-8dc3-1b851f88b31b' class='xr-var-data-in' type='checkbox'><label for='data-6789c35b-0cbc-4129-8dc3-1b851f88b31b' title='Show/Hide data repr'><svg class='icon xr-icon-database'><use xlink:href='#icon-database'></use></svg></label><div class='xr-var-attrs'><dl class='xr-attrs'></dl></div><div class='xr-var-data'><pre>array([624850., 624750., 624650., ..., 300150., 300050., 299950.])</pre></div></li><li class='xr-var-item'><div class='xr-var-name'><span>spatial_ref</span></div><div class='xr-var-dims'>()</div><div class='xr-var-dtype'>int32</div><div class='xr-var-preview xr-preview'>0</div><input id='attrs-7a4a7b31-f857-42bb-9765-9e8bf8413d26' class='xr-var-attrs-in' type='checkbox' ><label for='attrs-7a4a7b31-f857-42bb-9765-9e8bf8413d26' title='Show/Hide attributes'><svg class='icon xr-icon-file-text2'><use xlink:href='#icon-file-text2'></use></svg></label><input id='data-a2fb98f3-a94e-4fed-9c62-639e450761e7' class='xr-var-data-in' type='checkbox'><label for='data-a2fb98f3-a94e-4fed-9c62-639e450761e7' title='Show/Hide data repr'><svg class='icon xr-icon-database'><use xlink:href='#icon-database'></use></svg></label><div class='xr-var-attrs'><dl class='xr-attrs'><dt><span>crs_wkt :</span></dt><dd>PROJCS[&quot;Amersfoort / RD New&quot;,GEOGCS[&quot;Amersfoort&quot;,DATUM[&quot;Amersfoort&quot;,SPHEROID[&quot;Bessel 1841&quot;,6377397.155,299.1528128,AUTHORITY[&quot;EPSG&quot;,&quot;7004&quot;]],AUTHORITY[&quot;EPSG&quot;,&quot;6289&quot;]],PRIMEM[&quot;Greenwich&quot;,0,AUTHORITY[&quot;EPSG&quot;,&quot;8901&quot;]],UNIT[&quot;degree&quot;,0.0174532925199433,AUTHORITY[&quot;EPSG&quot;,&quot;9122&quot;]],AUTHORITY[&quot;EPSG&quot;,&quot;4289&quot;]],PROJECTION[&quot;Oblique_Stereographic&quot;],PARAMETER[&quot;latitude_of_origin&quot;,52.1561605555556],PARAMETER[&quot;central_meridian&quot;,5.38763888888889],PARAMETER[&quot;scale_factor&quot;,0.9999079],PARAMETER[&quot;false_easting&quot;,155000],PARAMETER[&quot;false_northing&quot;,463000],UNIT[&quot;metre&quot;,1,AUTHORITY[&quot;EPSG&quot;,&quot;9001&quot;]],AXIS[&quot;Easting&quot;,EAST],AXIS[&quot;Northing&quot;,NORTH],AUTHORITY[&quot;EPSG&quot;,&quot;28992&quot;]]</dd><dt><span>spatial_ref :</span></dt><dd>PROJCS[&quot;Amersfoort / RD New&quot;,GEOGCS[&quot;Amersfoort&quot;,DATUM[&quot;Amersfoort&quot;,SPHEROID[&quot;Bessel 1841&quot;,6377397.155,299.1528128,AUTHORITY[&quot;EPSG&quot;,&quot;7004&quot;]],AUTHORITY[&quot;EPSG&quot;,&quot;6289&quot;]],PRIMEM[&quot;Greenwich&quot;,0,AUTHORITY[&quot;EPSG&quot;,&quot;8901&quot;]],UNIT[&quot;degree&quot;,0.0174532925199433,AUTHORITY[&quot;EPSG&quot;,&quot;9122&quot;]],AUTHORITY[&quot;EPSG&quot;,&quot;4289&quot;]],PROJECTION[&quot;Oblique_Stereographic&quot;],PARAMETER[&quot;latitude_of_origin&quot;,52.1561605555556],PARAMETER[&quot;central_meridian&quot;,5.38763888888889],PARAMETER[&quot;scale_factor&quot;,0.9999079],PARAMETER[&quot;false_easting&quot;,155000],PARAMETER[&quot;false_northing&quot;,463000],UNIT[&quot;metre&quot;,1,AUTHORITY[&quot;EPSG&quot;,&quot;9001&quot;]],AXIS[&quot;Easting&quot;,EAST],AXIS[&quot;Northing&quot;,NORTH],AUTHORITY[&quot;EPSG&quot;,&quot;28992&quot;]]</dd><dt><span>GeoTransform :</span></dt><dd>0.0 100.0 0.0 624900.0 0.0 -100.0</dd></dl></div><div class='xr-var-data'><pre>array(0)</pre></div></li></ul></div></li><li class='xr-section-item'><input id='section-6414f827-605c-4c38-b4b4-45ccd5015864' class='xr-section-summary-in' type='checkbox'  checked><label for='section-6414f827-605c-4c38-b4b4-45ccd5015864' class='xr-section-summary' >Data variables: <span>(1)</span></label><div class='xr-section-inline-details'></div><div class='xr-section-details'><ul class='xr-var-list'><li class='xr-var-item'><div class='xr-var-name'><span>band_data</span></div><div class='xr-var-dims'>(y, x)</div><div class='xr-var-dtype'>float64</div><div class='xr-var-preview xr-preview'>-1e+05 -1e+05 ... -1e+05 -1e+05</div><input id='attrs-058a9a14-7388-4cf1-90d6-20f18357dbb2' class='xr-var-attrs-in' type='checkbox' ><label for='attrs-058a9a14-7388-4cf1-90d6-20f18357dbb2' title='Show/Hide attributes'><svg class='icon xr-icon-file-text2'><use xlink:href='#icon-file-text2'></use></svg></label><input id='data-e0d060c2-9c13-4806-bc5d-a4f7091aa7d5' class='xr-var-data-in' type='checkbox'><label for='data-e0d060c2-9c13-4806-bc5d-a4f7091aa7d5' title='Show/Hide data repr'><svg class='icon xr-icon-database'><use xlink:href='#icon-database'></use></svg></label><div class='xr-var-attrs'><dl class='xr-attrs'><dt><span>STATISTICS_APPROXIMATE :</span></dt><dd>YES</dd><dt><span>STATISTICS_MAXIMUM :</span></dt><dd>1.6605816534257</dd><dt><span>STATISTICS_MEAN :</span></dt><dd>0.060165469707084</dd><dt><span>STATISTICS_MINIMUM :</span></dt><dd>0</dd><dt><span>STATISTICS_STDDEV :</span></dt><dd>0.13038023540861</dd><dt><span>STATISTICS_VALID_PERCENT :</span></dt><dd>36.18</dd><dt><span>_FillValue :</span></dt><dd>-99999</dd><dt><span>scale_factor :</span></dt><dd>1.0</dd><dt><span>add_offset :</span></dt><dd>0.0</dd></dl></div><div class='xr-var-data'><pre>array([[-99999., -99999., -99999., ..., -99999., -99999., -99999.],\n",
       "       [-99999., -99999., -99999., ..., -99999., -99999., -99999.],\n",
       "       [-99999., -99999., -99999., ..., -99999., -99999., -99999.],\n",
       "       ...,\n",
       "       [-99999., -99999., -99999., ..., -99999., -99999., -99999.],\n",
       "       [-99999., -99999., -99999., ..., -99999., -99999., -99999.],\n",
       "       [-99999., -99999., -99999., ..., -99999., -99999., -99999.]])</pre></div></li></ul></div></li><li class='xr-section-item'><input id='section-c0dd7e37-541a-4328-871b-329152058af2' class='xr-section-summary-in' type='checkbox'  ><label for='section-c0dd7e37-541a-4328-871b-329152058af2' class='xr-section-summary' >Indexes: <span>(2)</span></label><div class='xr-section-inline-details'></div><div class='xr-section-details'><ul class='xr-var-list'><li class='xr-var-item'><div class='xr-index-name'><div>x</div></div><div class='xr-index-preview'>PandasIndex</div><div></div><input id='index-fe0600be-e89f-403c-90a0-37d00d98e18e' class='xr-index-data-in' type='checkbox'/><label for='index-fe0600be-e89f-403c-90a0-37d00d98e18e' title='Show/Hide index repr'><svg class='icon xr-icon-database'><use xlink:href='#icon-database'></use></svg></label><div class='xr-index-data'><pre>PandasIndex(Index([    50.0,    150.0,    250.0,    350.0,    450.0,    550.0,    650.0,\n",
       "          750.0,    850.0,    950.0,\n",
       "       ...\n",
       "       279050.0, 279150.0, 279250.0, 279350.0, 279450.0, 279550.0, 279650.0,\n",
       "       279750.0, 279850.0, 279950.0],\n",
       "      dtype=&#x27;float64&#x27;, name=&#x27;x&#x27;, length=2800))</pre></div></li><li class='xr-var-item'><div class='xr-index-name'><div>y</div></div><div class='xr-index-preview'>PandasIndex</div><div></div><input id='index-1028a914-2685-4199-a983-02b21f4844c9' class='xr-index-data-in' type='checkbox'/><label for='index-1028a914-2685-4199-a983-02b21f4844c9' title='Show/Hide index repr'><svg class='icon xr-icon-database'><use xlink:href='#icon-database'></use></svg></label><div class='xr-index-data'><pre>PandasIndex(Index([624850.0, 624750.0, 624650.0, 624550.0, 624450.0, 624350.0, 624250.0,\n",
       "       624150.0, 624050.0, 623950.0,\n",
       "       ...\n",
       "       300850.0, 300750.0, 300650.0, 300550.0, 300450.0, 300350.0, 300250.0,\n",
       "       300150.0, 300050.0, 299950.0],\n",
       "      dtype=&#x27;float64&#x27;, name=&#x27;y&#x27;, length=3250))</pre></div></li></ul></div></li><li class='xr-section-item'><input id='section-029bdad1-31b5-4415-9fb1-d949730f30d8' class='xr-section-summary-in' type='checkbox'  ><label for='section-029bdad1-31b5-4415-9fb1-d949730f30d8' class='xr-section-summary' >Attributes: <span>(21)</span></label><div class='xr-section-inline-details'></div><div class='xr-section-details'><dl class='xr-attrs'><dt><span>TITLE :</span></dt><dd>Subsidence Prediction Maps of the Netherlands</dd><dt><span>TITLE_ABBREVIATION :</span></dt><dd>SPMN</dd><dt><span>DESCRIPTION :</span></dt><dd></dd><dt><span>SHORT_DESCRIPTION :</span></dt><dd></dd><dt><span>INSTITUTION :</span></dt><dd></dd><dt><span>PROVIDERS :</span></dt><dd>[{&quot;name&quot;: &quot;&quot;, &quot;url&quot;: &quot;&quot;, &quot;roles&quot;: &quot;&quot;, &quot;description&quot;: &quot;&quot;}]</dd><dt><span>HISTORY :</span></dt><dd>[&#x27;Deltares&#x27;, &#x27;&#x27;]</dd><dt><span>MEDIA_TYPE :</span></dt><dd>IMAGE/TIFF</dd><dt><span>SPATIAL_EXTENT :</span></dt><dd>[0.0, 299900.0, 280000.0, 624900.0]</dd><dt><span>TEMPORAL_EXTENT :</span></dt><dd>[&#x27;&#x27;, &#x27;&#x27;]</dd><dt><span>LICENSE :</span></dt><dd>CC-BY-4.0</dd><dt><span>AUTHOR :</span></dt><dd></dd><dt><span>KEYWORDS :</span></dt><dd>[&#x27;&#x27;]</dd><dt><span>TAGS :</span></dt><dd>[&#x27;&#x27;]</dd><dt><span>CITATION :</span></dt><dd></dd><dt><span>DOI :</span></dt><dd></dd><dt><span>LONG_NAME :</span></dt><dd></dd><dt><span>UNITS :</span></dt><dd>meters</dd><dt><span>COMMENT :</span></dt><dd></dd><dt><span>CRS :</span></dt><dd>EPSG:28992</dd><dt><span>Conventions :</span></dt><dd>CF-1.8</dd></dl></div></li></ul></div></div>"
      ],
      "text/plain": [
       "<xarray.Dataset>\n",
       "Dimensions:      (y: 3250, x: 2800)\n",
       "Coordinates:\n",
       "  * x            (x) float64 50.0 150.0 250.0 ... 2.798e+05 2.798e+05 2.8e+05\n",
       "  * y            (y) float64 6.248e+05 6.248e+05 6.246e+05 ... 3e+05 3e+05\n",
       "    spatial_ref  int32 0\n",
       "Data variables:\n",
       "    band_data    (y, x) float64 -1e+05 -1e+05 -1e+05 ... -1e+05 -1e+05 -1e+05\n",
       "Attributes: (12/21)\n",
       "    TITLE:               Subsidence Prediction Maps of the Netherlands\n",
       "    TITLE_ABBREVIATION:  SPMN\n",
       "    DESCRIPTION:         \n",
       "    SHORT_DESCRIPTION:   \n",
       "    INSTITUTION:         \n",
       "    PROVIDERS:           [{\"name\": \"\", \"url\": \"\", \"roles\": \"\", \"description\":...\n",
       "    ...                  ...\n",
       "    DOI:                 \n",
       "    LONG_NAME:           \n",
       "    UNITS:               meters\n",
       "    COMMENT:             \n",
       "    CRS:                 EPSG:28992\n",
       "    Conventions:         CF-1.8"
      ]
     },
     "execution_count": 38,
     "metadata": {},
     "output_type": "execute_result"
    },
    {
     "data": {
      "application/javascript": "\n            setTimeout(function() {\n                var nbb_cell_id = 38;\n                var nbb_unformatted_code = \"ds\";\n                var nbb_formatted_code = \"ds\";\n                var nbb_cells = Jupyter.notebook.get_cells();\n                for (var i = 0; i < nbb_cells.length; ++i) {\n                    if (nbb_cells[i].input_prompt_number == nbb_cell_id) {\n                        if (nbb_cells[i].get_text() == nbb_unformatted_code) {\n                             nbb_cells[i].set_text(nbb_formatted_code);\n                        }\n                        break;\n                    }\n                }\n            }, 500);\n            ",
      "text/plain": [
       "<IPython.core.display.Javascript object>"
      ]
     },
     "metadata": {},
     "output_type": "display_data"
    }
   ],
   "source": [
    "ds"
   ]
  }
 ],
 "metadata": {
  "kernelspec": {
   "display_name": "Python 3 (ipykernel)",
   "language": "python",
   "name": "python3"
  },
  "language_info": {
   "codemirror_mode": {
    "name": "ipython",
    "version": 3
   },
   "file_extension": ".py",
   "mimetype": "text/x-python",
   "name": "python",
   "nbconvert_exporter": "python",
   "pygments_lexer": "ipython3",
   "version": "3.11.6"
  },
  "vscode": {
   "interpreter": {
    "hash": "d52b8dfbdab1c939c3c4b10b0d762f4c8139583e350f28e123ee37db8f80dd50"
   }
  }
 },
 "nbformat": 4,
 "nbformat_minor": 5
}
