{
 "cells": [
  {
   "attachments": {},
   "cell_type": "markdown",
   "id": "c91b40e6",
   "metadata": {},
   "source": [
    "# Land subsidence prediction maps\n",
    "\n",
    "Notebook environment to migrate .tiff files to CF compliant CoG's\n"
   ]
  },
  {
   "cell_type": "code",
   "execution_count": 216,
   "id": "f1aef40e",
   "metadata": {},
   "outputs": [
    {
     "name": "stdout",
     "output_type": "stream",
     "text": [
      "The nb_black extension is already loaded. To reload it, use:\n",
      "  %reload_ext nb_black\n"
     ]
    },
    {
     "data": {
      "application/javascript": "\n            setTimeout(function() {\n                var nbb_cell_id = 216;\n                var nbb_unformatted_code = \"# Optional; code formatter, installed as jupyter lab extension\\n# %load_ext lab_black\\n\\n# Optional; code formatter, installed as jupyter notebook extension\\n%load_ext nb_black\";\n                var nbb_formatted_code = \"# Optional; code formatter, installed as jupyter lab extension\\n# %load_ext lab_black\\n\\n# Optional; code formatter, installed as jupyter notebook extension\\n%load_ext nb_black\";\n                var nbb_cells = Jupyter.notebook.get_cells();\n                for (var i = 0; i < nbb_cells.length; ++i) {\n                    if (nbb_cells[i].input_prompt_number == nbb_cell_id) {\n                        if (nbb_cells[i].get_text() == nbb_unformatted_code) {\n                             nbb_cells[i].set_text(nbb_formatted_code);\n                        }\n                        break;\n                    }\n                }\n            }, 500);\n            ",
      "text/plain": [
       "<IPython.core.display.Javascript object>"
      ]
     },
     "metadata": {},
     "output_type": "display_data"
    }
   ],
   "source": [
    "# Optional; code formatter, installed as jupyter lab extension\n",
    "# %load_ext lab_black\n",
    "\n",
    "# Optional; code formatter, installed as jupyter notebook extension\n",
    "%load_ext nb_black"
   ]
  },
  {
   "cell_type": "code",
   "execution_count": 217,
   "id": "80287b05",
   "metadata": {},
   "outputs": [
    {
     "data": {
      "application/javascript": "\n            setTimeout(function() {\n                var nbb_cell_id = 217;\n                var nbb_unformatted_code = \"# Import standard packages\\nimport os\\nimport pathlib\\nfrom pathlib import Path\\n\\nimport numpy as np\\n#import geopandas as gpd\\nimport pandas as pd\\nimport matplotlib.pyplot as plt\\nimport xarray as xr\\nimport glob\\nimport itertools\\nimport json\\nimport copy\\nfrom itertools import chain\\nfrom shapely import wkb\\nimport json\\n\\n# Import custom functionality\\nfrom coclicodata.drive_config import p_drive\\nfrom coclicodata.etl.cf_compliancy_checker import check_compliancy, save_compliancy\";\n                var nbb_formatted_code = \"# Import standard packages\\nimport os\\nimport pathlib\\nfrom pathlib import Path\\n\\nimport numpy as np\\n\\n# import geopandas as gpd\\nimport pandas as pd\\nimport matplotlib.pyplot as plt\\nimport xarray as xr\\nimport glob\\nimport itertools\\nimport json\\nimport copy\\nfrom itertools import chain\\nfrom shapely import wkb\\nimport json\\n\\n# Import custom functionality\\nfrom coclicodata.drive_config import p_drive\\nfrom coclicodata.etl.cf_compliancy_checker import check_compliancy, save_compliancy\";\n                var nbb_cells = Jupyter.notebook.get_cells();\n                for (var i = 0; i < nbb_cells.length; ++i) {\n                    if (nbb_cells[i].input_prompt_number == nbb_cell_id) {\n                        if (nbb_cells[i].get_text() == nbb_unformatted_code) {\n                             nbb_cells[i].set_text(nbb_formatted_code);\n                        }\n                        break;\n                    }\n                }\n            }, 500);\n            ",
      "text/plain": [
       "<IPython.core.display.Javascript object>"
      ]
     },
     "metadata": {},
     "output_type": "display_data"
    }
   ],
   "source": [
    "# Import standard packages\n",
    "import os\n",
    "import pathlib\n",
    "from pathlib import Path\n",
    "\n",
    "import numpy as np\n",
    "#import geopandas as gpd\n",
    "import pandas as pd\n",
    "import matplotlib.pyplot as plt\n",
    "import xarray as xr\n",
    "import glob\n",
    "import itertools\n",
    "import json\n",
    "import copy\n",
    "from itertools import chain\n",
    "from shapely import wkb\n",
    "import json\n",
    "\n",
    "# Import custom functionality\n",
    "from coclicodata.drive_config import p_drive\n",
    "from coclicodata.etl.cf_compliancy_checker import check_compliancy, save_compliancy"
   ]
  },
  {
   "attachments": {},
   "cell_type": "markdown",
   "id": "f3f67518",
   "metadata": {},
   "source": [
    "### Configure OS independent paths"
   ]
  },
  {
   "cell_type": "code",
   "execution_count": 218,
   "id": "2d5692d8",
   "metadata": {},
   "outputs": [
    {
     "data": {
      "application/javascript": "\n            setTimeout(function() {\n                var nbb_cell_id = 218;\n                var nbb_unformatted_code = \"# Workaround to the Windows OS (10) udunits error after installation of cfchecker: https://github.com/SciTools/iris/issues/404\\nos.environ[\\\"UDUNITS2_XML_PATH\\\"] = str(\\n    pathlib.Path().home().joinpath(  # change to the udunits2.xml file dir in your Python installation\\n        r\\\"Anaconda3\\\\pkgs\\\\udunits2-2.2.28-hfda9870_3\\\\Library\\\\share\\\\udunits\\\\udunits2.xml\\\"\\n    )\\n)\";\n                var nbb_formatted_code = \"# Workaround to the Windows OS (10) udunits error after installation of cfchecker: https://github.com/SciTools/iris/issues/404\\nos.environ[\\\"UDUNITS2_XML_PATH\\\"] = str(\\n    pathlib.Path()\\n    .home()\\n    .joinpath(  # change to the udunits2.xml file dir in your Python installation\\n        r\\\"Anaconda3\\\\pkgs\\\\udunits2-2.2.28-hfda9870_3\\\\Library\\\\share\\\\udunits\\\\udunits2.xml\\\"\\n    )\\n)\";\n                var nbb_cells = Jupyter.notebook.get_cells();\n                for (var i = 0; i < nbb_cells.length; ++i) {\n                    if (nbb_cells[i].input_prompt_number == nbb_cell_id) {\n                        if (nbb_cells[i].get_text() == nbb_unformatted_code) {\n                             nbb_cells[i].set_text(nbb_formatted_code);\n                        }\n                        break;\n                    }\n                }\n            }, 500);\n            ",
      "text/plain": [
       "<IPython.core.display.Javascript object>"
      ]
     },
     "metadata": {},
     "output_type": "display_data"
    }
   ],
   "source": [
    "# Workaround to the Windows OS (10) udunits error after installation of cfchecker: https://github.com/SciTools/iris/issues/404\n",
    "os.environ[\"UDUNITS2_XML_PATH\"] = str(\n",
    "    pathlib.Path().home().joinpath(  # change to the udunits2.xml file dir in your Python installation\n",
    "        r\"Anaconda3\\pkgs\\udunits2-2.2.28-hfda9870_3\\Library\\share\\udunits\\udunits2.xml\"\n",
    "    )\n",
    ")"
   ]
  },
  {
   "cell_type": "markdown",
   "id": "015d7cdf",
   "metadata": {},
   "source": [
    "### Define drive paths"
   ]
  },
  {
   "cell_type": "code",
   "execution_count": 219,
   "id": "ef7e94bc",
   "metadata": {},
   "outputs": [
    {
     "data": {
      "application/javascript": "\n            setTimeout(function() {\n                var nbb_cell_id = 219;\n                var nbb_unformatted_code = \"# Define (local and) remote drives\\nraw_data_dir       = p_drive.joinpath(\\\"archivedprojects\\\", \\\"11208003-latedeo2022\\\", \\\"020_InternationalDeltaPortfolio\\\", \\\"datasets\\\", \\\"00_bodemdalingsvoorspellingskaarten\\\")\\nraw_data_dir       = p_drive.joinpath(r\\\"archivedprojects\\\\11208003-latedeo2022\\\\020_InternationalDeltaPortfolio\\\\datasets\\\")  \\nprocessed_data_dir = p_drive.joinpath(r\\\"11210264-003-delta-portal\\\\data\\\")  \";\n                var nbb_formatted_code = \"# Define (local and) remote drives\\nraw_data_dir = p_drive.joinpath(\\n    \\\"archivedprojects\\\",\\n    \\\"11208003-latedeo2022\\\",\\n    \\\"020_InternationalDeltaPortfolio\\\",\\n    \\\"datasets\\\",\\n    \\\"00_bodemdalingsvoorspellingskaarten\\\",\\n)\\nraw_data_dir = p_drive.joinpath(\\n    r\\\"archivedprojects\\\\11208003-latedeo2022\\\\020_InternationalDeltaPortfolio\\\\datasets\\\"\\n)\\nprocessed_data_dir = p_drive.joinpath(r\\\"11210264-003-delta-portal\\\\data\\\")\";\n                var nbb_cells = Jupyter.notebook.get_cells();\n                for (var i = 0; i < nbb_cells.length; ++i) {\n                    if (nbb_cells[i].input_prompt_number == nbb_cell_id) {\n                        if (nbb_cells[i].get_text() == nbb_unformatted_code) {\n                             nbb_cells[i].set_text(nbb_formatted_code);\n                        }\n                        break;\n                    }\n                }\n            }, 500);\n            ",
      "text/plain": [
       "<IPython.core.display.Javascript object>"
      ]
     },
     "metadata": {},
     "output_type": "display_data"
    }
   ],
   "source": [
    "# Define (local and) remote drives\n",
    "raw_data_dir       = p_drive.joinpath(\"archivedprojects\", \"11208003-latedeo2022\", \"020_InternationalDeltaPortfolio\", \"datasets\", \"00_bodemdalingsvoorspellingskaarten\")\n",
    "raw_data_dir       = p_drive.joinpath(r\"archivedprojects\\11208003-latedeo2022\\020_InternationalDeltaPortfolio\\datasets\")  \n",
    "processed_data_dir = p_drive.joinpath(r\"11210264-003-delta-portal\\data\")  "
   ]
  },
  {
   "cell_type": "markdown",
   "id": "d594aa92",
   "metadata": {},
   "source": [
    "### Read raw data"
   ]
  },
  {
   "cell_type": "code",
   "execution_count": 220,
   "id": "6c5f5cc6",
   "metadata": {},
   "outputs": [
    {
     "data": {
      "application/javascript": "\n            setTimeout(function() {\n                var nbb_cell_id = 220;\n                var nbb_unformatted_code = \"# Project paths & files (manual input)\\nraw_ms_data_dir = raw_data_dir.joinpath(r\\\"00_bodemdalingsvoorspellingskaarten\\\\Mild scenario\\\")\\nraw_ss_data_dir = raw_data_dir.joinpath(r\\\"00_bodemdalingsvoorspellingskaarten\\\\Sterk scenario\\\")\\n\\n                                    \\nds_ms_2020_2050_path = raw_ms_data_dir.joinpath(\\\"scenario_mild_bodemdaling_incl_ogzw_2020_2050.tif\\\")\\nds_ms_2020_2100_path = raw_ms_data_dir.joinpath(\\\"scenario_mild_bodemdaling_incl_ogzw_2020_2100.tif\\\")\\nds_ss_2020_2050_path = raw_ss_data_dir.joinpath(\\\"scenario_sterk_bodemdaling_incl_ogzw_2020_2050.tif\\\")\\nds_ss_2020_2100_path = raw_ss_data_dir.joinpath(\\\"scenario_sterk_bodemdaling_incl_ogzw_2020_2100.tif\\\")\";\n                var nbb_formatted_code = \"# Project paths & files (manual input)\\nraw_ms_data_dir = raw_data_dir.joinpath(\\n    r\\\"00_bodemdalingsvoorspellingskaarten\\\\Mild scenario\\\"\\n)\\nraw_ss_data_dir = raw_data_dir.joinpath(\\n    r\\\"00_bodemdalingsvoorspellingskaarten\\\\Sterk scenario\\\"\\n)\\n\\n\\nds_ms_2020_2050_path = raw_ms_data_dir.joinpath(\\n    \\\"scenario_mild_bodemdaling_incl_ogzw_2020_2050.tif\\\"\\n)\\nds_ms_2020_2100_path = raw_ms_data_dir.joinpath(\\n    \\\"scenario_mild_bodemdaling_incl_ogzw_2020_2100.tif\\\"\\n)\\nds_ss_2020_2050_path = raw_ss_data_dir.joinpath(\\n    \\\"scenario_sterk_bodemdaling_incl_ogzw_2020_2050.tif\\\"\\n)\\nds_ss_2020_2100_path = raw_ss_data_dir.joinpath(\\n    \\\"scenario_sterk_bodemdaling_incl_ogzw_2020_2100.tif\\\"\\n)\";\n                var nbb_cells = Jupyter.notebook.get_cells();\n                for (var i = 0; i < nbb_cells.length; ++i) {\n                    if (nbb_cells[i].input_prompt_number == nbb_cell_id) {\n                        if (nbb_cells[i].get_text() == nbb_unformatted_code) {\n                             nbb_cells[i].set_text(nbb_formatted_code);\n                        }\n                        break;\n                    }\n                }\n            }, 500);\n            ",
      "text/plain": [
       "<IPython.core.display.Javascript object>"
      ]
     },
     "metadata": {},
     "output_type": "display_data"
    }
   ],
   "source": [
    "# Project paths & files (manual input)\n",
    "raw_ms_data_dir = raw_data_dir.joinpath(r\"00_bodemdalingsvoorspellingskaarten\\Mild scenario\")\n",
    "raw_ss_data_dir = raw_data_dir.joinpath(r\"00_bodemdalingsvoorspellingskaarten\\Sterk scenario\")\n",
    "\n",
    "                                    \n",
    "ds_ms_2020_2050_path = raw_ms_data_dir.joinpath(\"scenario_mild_bodemdaling_incl_ogzw_2020_2050.tif\")\n",
    "ds_ms_2020_2100_path = raw_ms_data_dir.joinpath(\"scenario_mild_bodemdaling_incl_ogzw_2020_2100.tif\")\n",
    "ds_ss_2020_2050_path = raw_ss_data_dir.joinpath(\"scenario_sterk_bodemdaling_incl_ogzw_2020_2050.tif\")\n",
    "ds_ss_2020_2100_path = raw_ss_data_dir.joinpath(\"scenario_sterk_bodemdaling_incl_ogzw_2020_2100.tif\")"
   ]
  },
  {
   "cell_type": "code",
   "execution_count": 221,
   "id": "eb987dab",
   "metadata": {},
   "outputs": [
    {
     "name": "stderr",
     "output_type": "stream",
     "text": [
      "WARNING:rasterio._env:CPLE_FileIO in Cannot find header.dxf (GDAL_DATA is not defined)\n",
      "WARNING:rasterio._env:CPLE_FileIO in Cannot find header.dxf (GDAL_DATA is not defined)\n",
      "WARNING:rasterio._env:CPLE_FileIO in Cannot find header.dxf (GDAL_DATA is not defined)\n",
      "WARNING:rasterio._env:CPLE_FileIO in Cannot find header.dxf (GDAL_DATA is not defined)\n"
     ]
    },
    {
     "data": {
      "application/javascript": "\n            setTimeout(function() {\n                var nbb_cell_id = 221;\n                var nbb_unformatted_code = \"ds_ms_2020_2050 = xr.open_dataset(\\n    ds_ms_2020_2050_path, engine=\\\"rasterio\\\", mask_and_scale=False\\n) \\nds_ms_2020_2100 = xr.open_dataset(\\n    ds_ms_2020_2100_path, engine=\\\"rasterio\\\", mask_and_scale=False\\n) \\nds_ss_2020_2050 = xr.open_dataset(\\n    ds_ss_2020_2050_path, engine=\\\"rasterio\\\", mask_and_scale=False\\n) \\nds_ss_2020_2100 = xr.open_dataset(\\n    ds_ss_2020_2100_path, engine=\\\"rasterio\\\", mask_and_scale=False\\n) \";\n                var nbb_formatted_code = \"ds_ms_2020_2050 = xr.open_dataset(\\n    ds_ms_2020_2050_path, engine=\\\"rasterio\\\", mask_and_scale=False\\n)\\nds_ms_2020_2100 = xr.open_dataset(\\n    ds_ms_2020_2100_path, engine=\\\"rasterio\\\", mask_and_scale=False\\n)\\nds_ss_2020_2050 = xr.open_dataset(\\n    ds_ss_2020_2050_path, engine=\\\"rasterio\\\", mask_and_scale=False\\n)\\nds_ss_2020_2100 = xr.open_dataset(\\n    ds_ss_2020_2100_path, engine=\\\"rasterio\\\", mask_and_scale=False\\n)\";\n                var nbb_cells = Jupyter.notebook.get_cells();\n                for (var i = 0; i < nbb_cells.length; ++i) {\n                    if (nbb_cells[i].input_prompt_number == nbb_cell_id) {\n                        if (nbb_cells[i].get_text() == nbb_unformatted_code) {\n                             nbb_cells[i].set_text(nbb_formatted_code);\n                        }\n                        break;\n                    }\n                }\n            }, 500);\n            ",
      "text/plain": [
       "<IPython.core.display.Javascript object>"
      ]
     },
     "metadata": {},
     "output_type": "display_data"
    }
   ],
   "source": [
    "ds_ms_2020_2050 = xr.open_dataset(\n",
    "    ds_ms_2020_2050_path, engine=\"rasterio\", mask_and_scale=False\n",
    ") \n",
    "ds_ms_2020_2100 = xr.open_dataset(\n",
    "    ds_ms_2020_2100_path, engine=\"rasterio\", mask_and_scale=False\n",
    ") \n",
    "ds_ss_2020_2050 = xr.open_dataset(\n",
    "    ds_ss_2020_2050_path, engine=\"rasterio\", mask_and_scale=False\n",
    ") \n",
    "ds_ss_2020_2100 = xr.open_dataset(\n",
    "    ds_ss_2020_2100_path, engine=\"rasterio\", mask_and_scale=False\n",
    ") "
   ]
  },
  {
   "cell_type": "markdown",
   "id": "6c5f1406",
   "metadata": {},
   "source": [
    "### Check CF compliancy original NetCDF files"
   ]
  },
  {
   "cell_type": "code",
   "execution_count": 222,
   "id": "e2288a0f",
   "metadata": {},
   "outputs": [
    {
     "data": {
      "application/javascript": "\n            setTimeout(function() {\n                var nbb_cell_id = 222;\n                var nbb_unformatted_code = \"# Not implemented\";\n                var nbb_formatted_code = \"# Not implemented\";\n                var nbb_cells = Jupyter.notebook.get_cells();\n                for (var i = 0; i < nbb_cells.length; ++i) {\n                    if (nbb_cells[i].input_prompt_number == nbb_cell_id) {\n                        if (nbb_cells[i].get_text() == nbb_unformatted_code) {\n                             nbb_cells[i].set_text(nbb_formatted_code);\n                        }\n                        break;\n                    }\n                }\n            }, 500);\n            ",
      "text/plain": [
       "<IPython.core.display.Javascript object>"
      ]
     },
     "metadata": {},
     "output_type": "display_data"
    }
   ],
   "source": [
    "# Not implemented"
   ]
  },
  {
   "cell_type": "markdown",
   "id": "39b7e2d5",
   "metadata": {},
   "source": [
    "### Make CF compliant alterations to the NetCDF files (dataset dependent)"
   ]
  },
  {
   "cell_type": "code",
   "execution_count": 223,
   "id": "cabbf6ab",
   "metadata": {},
   "outputs": [
    {
     "data": {
      "application/javascript": "\n            setTimeout(function() {\n                var nbb_cell_id = 223;\n                var nbb_unformatted_code = \"# Not implemented\";\n                var nbb_formatted_code = \"# Not implemented\";\n                var nbb_cells = Jupyter.notebook.get_cells();\n                for (var i = 0; i < nbb_cells.length; ++i) {\n                    if (nbb_cells[i].input_prompt_number == nbb_cell_id) {\n                        if (nbb_cells[i].get_text() == nbb_unformatted_code) {\n                             nbb_cells[i].set_text(nbb_formatted_code);\n                        }\n                        break;\n                    }\n                }\n            }, 500);\n            ",
      "text/plain": [
       "<IPython.core.display.Javascript object>"
      ]
     },
     "metadata": {},
     "output_type": "display_data"
    }
   ],
   "source": [
    "# Not implemented"
   ]
  },
  {
   "cell_type": "markdown",
   "id": "d781d155",
   "metadata": {},
   "source": [
    "### Write data to CoG"
   ]
  },
  {
   "cell_type": "markdown",
   "id": "e252ab31",
   "metadata": {},
   "source": [
    "#### Single CoG test"
   ]
  },
  {
   "cell_type": "code",
   "execution_count": 224,
   "id": "19d8d5d8",
   "metadata": {},
   "outputs": [
    {
     "data": {
      "application/javascript": "\n            setTimeout(function() {\n                var nbb_cell_id = 224;\n                var nbb_unformatted_code = \"VARIABLE = \\\"subsidence\\\"\\nSCENARIO = \\\"sterk\\\"\\nTIME = \\\"2100\\\"\\n\\nds = ds_ss_2020_2100\";\n                var nbb_formatted_code = \"VARIABLE = \\\"subsidence\\\"\\nSCENARIO = \\\"sterk\\\"\\nTIME = \\\"2100\\\"\\n\\nds = ds_ss_2020_2100\";\n                var nbb_cells = Jupyter.notebook.get_cells();\n                for (var i = 0; i < nbb_cells.length; ++i) {\n                    if (nbb_cells[i].input_prompt_number == nbb_cell_id) {\n                        if (nbb_cells[i].get_text() == nbb_unformatted_code) {\n                             nbb_cells[i].set_text(nbb_formatted_code);\n                        }\n                        break;\n                    }\n                }\n            }, 500);\n            ",
      "text/plain": [
       "<IPython.core.display.Javascript object>"
      ]
     },
     "metadata": {},
     "output_type": "display_data"
    }
   ],
   "source": [
    "VARIABLE = \"subsidence\"\n",
    "SCENARIO = \"sterk\"\n",
    "TIME = \"2100\"\n",
    "\n",
    "ds = ds_ss_2020_2100"
   ]
  },
  {
   "cell_type": "code",
   "execution_count": 225,
   "id": "6c038ac8",
   "metadata": {},
   "outputs": [
    {
     "data": {
      "application/javascript": "\n            setTimeout(function() {\n                var nbb_cell_id = 225;\n                var nbb_unformatted_code = \"cog_dir  =  processed_data_dir.joinpath(VARIABLE, \\\"cog\\\")\\ncogs_dir =  processed_data_dir.joinpath(VARIABLE, \\\"cogs\\\")\\n\\ncog_dir.mkdir(parents=True, exist_ok=True)\\ncogs_dir.mkdir(parents=True, exist_ok=True)\";\n                var nbb_formatted_code = \"cog_dir = processed_data_dir.joinpath(VARIABLE, \\\"cog\\\")\\ncogs_dir = processed_data_dir.joinpath(VARIABLE, \\\"cogs\\\")\\n\\ncog_dir.mkdir(parents=True, exist_ok=True)\\ncogs_dir.mkdir(parents=True, exist_ok=True)\";\n                var nbb_cells = Jupyter.notebook.get_cells();\n                for (var i = 0; i < nbb_cells.length; ++i) {\n                    if (nbb_cells[i].input_prompt_number == nbb_cell_id) {\n                        if (nbb_cells[i].get_text() == nbb_unformatted_code) {\n                             nbb_cells[i].set_text(nbb_formatted_code);\n                        }\n                        break;\n                    }\n                }\n            }, 500);\n            ",
      "text/plain": [
       "<IPython.core.display.Javascript object>"
      ]
     },
     "metadata": {},
     "output_type": "display_data"
    }
   ],
   "source": [
    "cog_dir  =  processed_data_dir.joinpath(VARIABLE, \"cog\")\n",
    "cogs_dir =  processed_data_dir.joinpath(VARIABLE, \"cogs\")\n",
    "\n",
    "cog_dir.mkdir(parents=True, exist_ok=True)\n",
    "cogs_dir.mkdir(parents=True, exist_ok=True)"
   ]
  },
  {
   "cell_type": "code",
   "execution_count": 226,
   "id": "279edbbc",
   "metadata": {},
   "outputs": [
    {
     "data": {
      "application/javascript": "\n            setTimeout(function() {\n                var nbb_cell_id = 226;\n                var nbb_unformatted_code = \"metadata_path =  processed_data_dir.joinpath(VARIABLE, \\\"metadata_subsidence.json\\\")\\n\\n# NetCDF attribute alterations by means of metadata template\\nf_global    = open(metadata_path)\\nmeta_global = json.load(f_global)\";\n                var nbb_formatted_code = \"metadata_path = processed_data_dir.joinpath(VARIABLE, \\\"metadata_subsidence.json\\\")\\n\\n# NetCDF attribute alterations by means of metadata template\\nf_global = open(metadata_path)\\nmeta_global = json.load(f_global)\";\n                var nbb_cells = Jupyter.notebook.get_cells();\n                for (var i = 0; i < nbb_cells.length; ++i) {\n                    if (nbb_cells[i].input_prompt_number == nbb_cell_id) {\n                        if (nbb_cells[i].get_text() == nbb_unformatted_code) {\n                             nbb_cells[i].set_text(nbb_formatted_code);\n                        }\n                        break;\n                    }\n                }\n            }, 500);\n            ",
      "text/plain": [
       "<IPython.core.display.Javascript object>"
      ]
     },
     "metadata": {},
     "output_type": "display_data"
    }
   ],
   "source": [
    "metadata_path =  processed_data_dir.joinpath(VARIABLE, \"metadata_subsidence.json\")\n",
    "\n",
    "# NetCDF attribute alterations by means of metadata template\n",
    "f_global    = open(metadata_path)\n",
    "meta_global = json.load(f_global)"
   ]
  },
  {
   "cell_type": "code",
   "execution_count": 227,
   "id": "c8c2774e",
   "metadata": {},
   "outputs": [
    {
     "name": "stderr",
     "output_type": "stream",
     "text": [
      "WARNING:rasterio._env:CPLE_FileIO in Cannot find header.dxf (GDAL_DATA is not defined)\n"
     ]
    },
    {
     "data": {
      "application/javascript": "\n            setTimeout(function() {\n                var nbb_cell_id = 227;\n                var nbb_unformatted_code = \"ds = ds.isel(band=0).drop('band')\\nds.rio.write_crs(\\\"EPSG:28992\\\")\\n\\n# add all attributes (again)\\nfor attr_name, attr_val in meta_global.items():\\n    if attr_name == 'PROVIDERS':\\n        attr_val = json.dumps(attr_val)\\n    if attr_name == \\\"MEDIA_TYPE\\\": # change media type to tiff, leave the rest as is\\n        attr_val = \\\"IMAGE/TIFF\\\"\\n    ds.attrs[attr_name] = attr_val\\n\\nds.attrs['Conventions'] = \\\"CF-1.8\\\"\\n\\noutput_dir  =  cog_dir.joinpath(SCENARIO)\\noutput_dir.mkdir(parents=True, exist_ok=True)\\n\\nfname = f\\\"{TIME}.GeoTiff\\\"\\n\\nout_path = output_dir.joinpath(fname)\\n\\nds.rio.to_raster(out_path, compress=\\\"DEFLATE\\\", driver=\\\"COG\\\")\";\n                var nbb_formatted_code = \"ds = ds.isel(band=0).drop(\\\"band\\\")\\nds.rio.write_crs(\\\"EPSG:28992\\\")\\n\\n# add all attributes (again)\\nfor attr_name, attr_val in meta_global.items():\\n    if attr_name == \\\"PROVIDERS\\\":\\n        attr_val = json.dumps(attr_val)\\n    if attr_name == \\\"MEDIA_TYPE\\\":  # change media type to tiff, leave the rest as is\\n        attr_val = \\\"IMAGE/TIFF\\\"\\n    ds.attrs[attr_name] = attr_val\\n\\nds.attrs[\\\"Conventions\\\"] = \\\"CF-1.8\\\"\\n\\noutput_dir = cog_dir.joinpath(SCENARIO)\\noutput_dir.mkdir(parents=True, exist_ok=True)\\n\\nfname = f\\\"{TIME}.GeoTiff\\\"\\n\\nout_path = output_dir.joinpath(fname)\\n\\nds.rio.to_raster(out_path, compress=\\\"DEFLATE\\\", driver=\\\"COG\\\")\";\n                var nbb_cells = Jupyter.notebook.get_cells();\n                for (var i = 0; i < nbb_cells.length; ++i) {\n                    if (nbb_cells[i].input_prompt_number == nbb_cell_id) {\n                        if (nbb_cells[i].get_text() == nbb_unformatted_code) {\n                             nbb_cells[i].set_text(nbb_formatted_code);\n                        }\n                        break;\n                    }\n                }\n            }, 500);\n            ",
      "text/plain": [
       "<IPython.core.display.Javascript object>"
      ]
     },
     "metadata": {},
     "output_type": "display_data"
    }
   ],
   "source": [
    "ds = ds.isel(band=0).drop('band')\n",
    "ds.rio.write_crs(\"EPSG:28992\")\n",
    "\n",
    "# add all attributes (again)\n",
    "for attr_name, attr_val in meta_global.items():\n",
    "    if attr_name == 'PROVIDERS':\n",
    "        attr_val = json.dumps(attr_val)\n",
    "    if attr_name == \"MEDIA_TYPE\": # change media type to tiff, leave the rest as is\n",
    "        attr_val = \"IMAGE/TIFF\"\n",
    "    ds.attrs[attr_name] = attr_val\n",
    "\n",
    "ds.attrs['Conventions'] = \"CF-1.8\"\n",
    "\n",
    "output_dir  =  cog_dir.joinpath(SCENARIO)\n",
    "output_dir.mkdir(parents=True, exist_ok=True)\n",
    "\n",
    "fname = f\"{TIME}.GeoTiff\"\n",
    "\n",
    "out_path = output_dir.joinpath(fname)\n",
    "\n",
    "ds.rio.to_raster(out_path, compress=\"DEFLATE\", driver=\"COG\")"
   ]
  },
  {
   "cell_type": "markdown",
   "id": "457f51b5",
   "metadata": {},
   "source": [
    "#### Multiple CoGs"
   ]
  }
 ],
 "metadata": {
  "kernelspec": {
   "display_name": "Python 3 (ipykernel)",
   "language": "python",
   "name": "python3"
  },
  "language_info": {
   "codemirror_mode": {
    "name": "ipython",
    "version": 3
   },
   "file_extension": ".py",
   "mimetype": "text/x-python",
   "name": "python",
   "nbconvert_exporter": "python",
   "pygments_lexer": "ipython3",
   "version": "3.11.6"
  },
  "vscode": {
   "interpreter": {
    "hash": "d52b8dfbdab1c939c3c4b10b0d762f4c8139583e350f28e123ee37db8f80dd50"
   }
  }
 },
 "nbformat": 4,
 "nbformat_minor": 5
}
