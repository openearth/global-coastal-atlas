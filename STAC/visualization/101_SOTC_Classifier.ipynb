{
 "cells": [
  {
   "cell_type": "markdown",
   "metadata": {},
   "source": [
    "### Python script to classify the datasets based on their PDF shape "
   ]
  },
  {
   "cell_type": "code",
   "execution_count": 1,
   "metadata": {},
   "outputs": [
    {
     "name": "stdout",
     "output_type": "stream",
     "text": [
      "[(1.0, 2.6), (2.6, 4.2), (4.2, 5.800000000000001), (5.800000000000001, 7.4), (7.4, 9.0)]\n"
     ]
    }
   ],
   "source": [
    "# Equal interval\n",
    "import numpy as np\n",
    "data = np.array([1, 2, 3, 4, 5, 6, 7, 8, 9])\n",
    "num_classes = 5\n",
    "lower_bound = min(data)\n",
    "upper_bound = max(data)\n",
    "interval = (upper_bound - lower_bound) / num_classes\n",
    "bounds = [(lower_bound + i*interval, lower_bound + (i+1)*interval) for i in range(num_classes)]\n",
    "print(bounds)"
   ]
  },
  {
   "cell_type": "code",
   "execution_count": null,
   "metadata": {},
   "outputs": [],
   "source": [
    "#Quantile_Classi\n",
    "\n",
    "import pandas as pd\n",
    "df_q = pd.Series([1, 2, 3, 4, 5, 6, 7, 8, 9])\n",
    "num_classes = 5\n",
    "bins = pd.cut(df_q, bins=num_classes, labels=['Very Low', 'Low', 'medium', 'high', 'very high'])\n",
    "df_q[:,2]=bins[:,1]\n",
    "df_q\n",
    "# df_q=pd.DataFrame([df_q,bins])\n",
    "# bins=bins[0:,1]"
   ]
  },
  {
   "cell_type": "code",
   "execution_count": 37,
   "metadata": {},
   "outputs": [
    {
     "data": {
      "text/html": [
       "<div>\n",
       "<style scoped>\n",
       "    .dataframe tbody tr th:only-of-type {\n",
       "        vertical-align: middle;\n",
       "    }\n",
       "\n",
       "    .dataframe tbody tr th {\n",
       "        vertical-align: top;\n",
       "    }\n",
       "\n",
       "    .dataframe thead th {\n",
       "        text-align: right;\n",
       "    }\n",
       "</style>\n",
       "<table border=\"1\" class=\"dataframe\">\n",
       "  <thead>\n",
       "    <tr style=\"text-align: right;\">\n",
       "      <th></th>\n",
       "      <th>2</th>\n",
       "    </tr>\n",
       "  </thead>\n",
       "  <tbody>\n",
       "  </tbody>\n",
       "</table>\n",
       "</div>"
      ],
      "text/plain": [
       "Empty DataFrame\n",
       "Columns: [2]\n",
       "Index: []"
      ]
     },
     "execution_count": 37,
     "metadata": {},
     "output_type": "execute_result"
    }
   ],
   "source": [
    "a=pd.DataFrame(df_q.iloc[1, 1:-1])\n",
    "df_q=a\n",
    "df_q"
   ]
  },
  {
   "cell_type": "code",
   "execution_count": null,
   "metadata": {},
   "outputs": [],
   "source": [
    "df_q[1] = pd.cut(df_q[1,:], bins=bins, labels=['Very Low', 'Low', 'medium', 'high', 'very high'])\n",
    "df_q"
   ]
  },
  {
   "cell_type": "code",
   "execution_count": 9,
   "metadata": {},
   "outputs": [
    {
     "name": "stdout",
     "output_type": "stream",
     "text": [
      "Collecting jenkspy\n",
      "  Downloading jenkspy-0.4.0-cp311-cp311-win_amd64.whl.metadata (6.2 kB)\n",
      "Requirement already satisfied: numpy in c:\\users\\rowe\\appdata\\local\\miniforge3\\envs\\coclico\\lib\\site-packages (from jenkspy) (1.26.3)\n",
      "Downloading jenkspy-0.4.0-cp311-cp311-win_amd64.whl (224 kB)\n",
      "   ---------------------------------------- 0.0/224.4 kB ? eta -:--:--\n",
      "   ----- ---------------------------------- 30.7/224.4 kB 1.3 MB/s eta 0:00:01\n",
      "   -------------------------------------- - 215.0/224.4 kB 3.3 MB/s eta 0:00:01\n",
      "   ---------------------------------------- 224.4/224.4 kB 2.7 MB/s eta 0:00:00\n",
      "Installing collected packages: jenkspy\n",
      "Successfully installed jenkspy-0.4.0\n",
      "Note: you may need to restart the kernel to use updated packages.\n"
     ]
    },
    {
     "name": "stderr",
     "output_type": "stream",
     "text": [
      "DEPRECATION: nb-black 1.0.7 has a non-standard dependency specifier black>='19.3'; python_version >= \"3.6\". pip 24.0 will enforce this behaviour change. A possible replacement is to upgrade to a newer version of nb-black or contact the author to suggest that they release a version with a conforming dependency specifiers. Discussion can be found at https://github.com/pypa/pip/issues/12063\n"
     ]
    }
   ],
   "source": [
    "# %pip install jenkspy"
   ]
  },
  {
   "cell_type": "code",
   "execution_count": 17,
   "metadata": {},
   "outputs": [
    {
     "name": "stdout",
     "output_type": "stream",
     "text": [
      "[1, 3, 7, 11, 16, 20]\n"
     ]
    }
   ],
   "source": [
    "# Natural Breaks\n",
    "import geopandas as gpd\n",
    "import pandas as pd\n",
    "import jenkspy\n",
    "\n",
    "# world = gpd.read_file(gpd.datasets.get_path('naturalearth_lowres'))\n",
    "# world['pop_density'] = world['pop_est'].apply(lambda x: x / world['area'])\n",
    "# world.plot(column='pop_density', legend=True, cmap='YlOrRd')\n",
    "\n",
    "# or Natural breaks\n",
    "\n",
    "df=pd.DataFrame([1, 2, 3, 4, 5, 6, 7, 8, 9,9,10,11,13,16,20,13])\n",
    "\n",
    "nb_class=5\n",
    "\n",
    "# Assuming df is your DataFrame and 'Total' is the column you want to classify\n",
    "breaks = jenkspy.jenks_breaks(df[0], nb_class)\n",
    "\n",
    "# Print the breaks\n",
    "print(breaks)\n"
   ]
  },
  {
   "cell_type": "code",
   "execution_count": 18,
   "metadata": {},
   "outputs": [
    {
     "data": {
      "text/html": [
       "<div>\n",
       "<style scoped>\n",
       "    .dataframe tbody tr th:only-of-type {\n",
       "        vertical-align: middle;\n",
       "    }\n",
       "\n",
       "    .dataframe tbody tr th {\n",
       "        vertical-align: top;\n",
       "    }\n",
       "\n",
       "    .dataframe thead th {\n",
       "        text-align: right;\n",
       "    }\n",
       "</style>\n",
       "<table border=\"1\" class=\"dataframe\">\n",
       "  <thead>\n",
       "    <tr style=\"text-align: right;\">\n",
       "      <th></th>\n",
       "      <th>0</th>\n",
       "      <th>1</th>\n",
       "    </tr>\n",
       "  </thead>\n",
       "  <tbody>\n",
       "    <tr>\n",
       "      <th>0</th>\n",
       "      <td>1</td>\n",
       "      <td>NaN</td>\n",
       "    </tr>\n",
       "    <tr>\n",
       "      <th>1</th>\n",
       "      <td>2</td>\n",
       "      <td>Very Low</td>\n",
       "    </tr>\n",
       "    <tr>\n",
       "      <th>2</th>\n",
       "      <td>3</td>\n",
       "      <td>Very Low</td>\n",
       "    </tr>\n",
       "    <tr>\n",
       "      <th>3</th>\n",
       "      <td>4</td>\n",
       "      <td>Low</td>\n",
       "    </tr>\n",
       "    <tr>\n",
       "      <th>4</th>\n",
       "      <td>5</td>\n",
       "      <td>Low</td>\n",
       "    </tr>\n",
       "    <tr>\n",
       "      <th>5</th>\n",
       "      <td>6</td>\n",
       "      <td>Low</td>\n",
       "    </tr>\n",
       "    <tr>\n",
       "      <th>6</th>\n",
       "      <td>7</td>\n",
       "      <td>Low</td>\n",
       "    </tr>\n",
       "    <tr>\n",
       "      <th>7</th>\n",
       "      <td>8</td>\n",
       "      <td>medium</td>\n",
       "    </tr>\n",
       "    <tr>\n",
       "      <th>8</th>\n",
       "      <td>9</td>\n",
       "      <td>medium</td>\n",
       "    </tr>\n",
       "    <tr>\n",
       "      <th>9</th>\n",
       "      <td>9</td>\n",
       "      <td>medium</td>\n",
       "    </tr>\n",
       "    <tr>\n",
       "      <th>10</th>\n",
       "      <td>10</td>\n",
       "      <td>medium</td>\n",
       "    </tr>\n",
       "    <tr>\n",
       "      <th>11</th>\n",
       "      <td>11</td>\n",
       "      <td>medium</td>\n",
       "    </tr>\n",
       "    <tr>\n",
       "      <th>12</th>\n",
       "      <td>13</td>\n",
       "      <td>high</td>\n",
       "    </tr>\n",
       "    <tr>\n",
       "      <th>13</th>\n",
       "      <td>16</td>\n",
       "      <td>high</td>\n",
       "    </tr>\n",
       "    <tr>\n",
       "      <th>14</th>\n",
       "      <td>20</td>\n",
       "      <td>very high</td>\n",
       "    </tr>\n",
       "    <tr>\n",
       "      <th>15</th>\n",
       "      <td>13</td>\n",
       "      <td>high</td>\n",
       "    </tr>\n",
       "  </tbody>\n",
       "</table>\n",
       "</div>"
      ],
      "text/plain": [
       "     0          1\n",
       "0    1        NaN\n",
       "1    2   Very Low\n",
       "2    3   Very Low\n",
       "3    4        Low\n",
       "4    5        Low\n",
       "5    6        Low\n",
       "6    7        Low\n",
       "7    8     medium\n",
       "8    9     medium\n",
       "9    9     medium\n",
       "10  10     medium\n",
       "11  11     medium\n",
       "12  13       high\n",
       "13  16       high\n",
       "14  20  very high\n",
       "15  13       high"
      ]
     },
     "execution_count": 18,
     "metadata": {},
     "output_type": "execute_result"
    }
   ],
   "source": [
    "\n",
    "df[1] = pd.cut(df[0], bins=breaks, labels=['Very Low', 'Low', 'medium', 'high', 'very high'])\n",
    "df\n"
   ]
  }
 ],
 "metadata": {
  "kernelspec": {
   "display_name": "Python 3",
   "language": "python",
   "name": "python3"
  },
  "language_info": {
   "codemirror_mode": {
    "name": "ipython",
    "version": 3
   },
   "file_extension": ".py",
   "mimetype": "text/x-python",
   "name": "python",
   "nbconvert_exporter": "python",
   "pygments_lexer": "ipython3",
   "version": "3.11.7"
  }
 },
 "nbformat": 4,
 "nbformat_minor": 2
}
