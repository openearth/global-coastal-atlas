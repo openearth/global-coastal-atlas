{
 "cells": [
  {
   "cell_type": "code",
   "execution_count": 1,
   "metadata": {},
   "outputs": [],
   "source": [
    "import os\n",
    "import rasterio\n",
    "import numpy as np\n",
    "\n",
    "import shutil \n",
    "from tqdm import tqdm\n",
    "import numpy as np"
   ]
  },
  {
   "cell_type": "code",
   "execution_count": 2,
   "metadata": {},
   "outputs": [
    {
     "data": {
      "text/plain": [
       "8624"
      ]
     },
     "execution_count": 2,
     "metadata": {},
     "output_type": "execute_result"
    }
   ],
   "source": [
    "# Path to the directory containing the GeoTIFF files\n",
    "orig_directory_path = r'P:\\11209197-018-global-coastal-atlas\\MSc_students\\ClenmarRowe\\Data\\All_Datasets\\Orig_Datasets\\02_Exposure\\Elevation_DEM\\copDEM_Remove_Empty_20m'\n",
    "clip_output_path=r\"P:\\11209197-018-global-coastal-atlas\\MSc_students\\ClenmarRowe\\Data\\All_Datasets\\Orig_Datasets\\02_Exposure\\Elevation_DEM\\copDEM_Remove_Empty_10m\"\n",
    "\n",
    "len(os.listdir(orig_directory_path))"
   ]
  },
  {
   "cell_type": "markdown",
   "metadata": {},
   "source": [
    "# Clipping the elevation data of each tiff between 10m & 0m\n",
    "## This helps to reduce the number of polygons created ie less space and computation time\n",
    "## All pixels outside of this number are given -9999 ie \"\"no value\"\n",
    "## Empty tiffs are however still present and should be reduced in the next step"
   ]
  },
  {
   "cell_type": "code",
   "execution_count": 3,
   "metadata": {},
   "outputs": [
    {
     "name": "stderr",
     "output_type": "stream",
     "text": [
      "Clipping files: 100%|██████████| 8624/8624 [58:12<00:00,  2.47it/s]  \n"
     ]
    }
   ],
   "source": [
    "\n",
    "\n",
    "# Loop over each file in the directory\n",
    "for filename in tqdm(os.listdir(orig_directory_path),desc='Clipping files'):\n",
    "    if filename.endswith('.tif'):\n",
    "        file_path = os.path.join(orig_directory_path, filename)\n",
    "        \n",
    "        # Open the GeoTIFF file\n",
    "        with rasterio.open(file_path) as src:\n",
    "            # Read the raster data into a NumPy array\n",
    "            arr = src.read(1)\n",
    "            \n",
    "            # Replace values greater than 10 with -9999\n",
    "            arr = np.where( (arr > 10) | (arr<0), -9999, arr)\n",
    "            \n",
    "            # Create a new filename by appending '_below_10m' to the original filename\n",
    "            new_filename = os.path.splitext(str(filename))[0] + '_below_10m.tif'\n",
    "            new_file_path = os.path.join(clip_output_path, new_filename)\n",
    "            \n",
    "            # Write the modified raster data to the new GeoTIFF file\n",
    "            with rasterio.open(new_file_path, 'w', **src.profile) as dst:\n",
    "                dst.write(arr, 1)\n",
    "\n"
   ]
  },
  {
   "cell_type": "markdown",
   "metadata": {},
   "source": [
    "# The above method export all the imported files even if they are empty ie all pixels == -9999\n",
    "## Remove empty features from the list and save them in a new file\n",
    "## this helps to reduce the number of files to be polygonized in the next step"
   ]
  },
  {
   "cell_type": "code",
   "execution_count": 4,
   "metadata": {},
   "outputs": [
    {
     "name": "stderr",
     "output_type": "stream",
     "text": [
      "Copying files: 100%|██████████| 8624/8624 [40:39<00:00,  3.54it/s]  \n"
     ]
    }
   ],
   "source": [
    "\n",
    "\n",
    "source_folder = clip_output_path\n",
    "empty_remove_destination_folder = r\"P:\\11209197-018-global-coastal-atlas\\MSc_students\\ClenmarRowe\\Data\\All_Datasets\\Orig_Datasets\\02_Exposure\\Elevation_DEM\\copDEM_Remove_Empty_10m_clip\"\n",
    "\n",
    "\n",
    "# Get list of all .tiff files in the source folder\n",
    "tiff_files = [f for f in os.listdir(source_folder) if f.endswith('.tif')]\n",
    "\n",
    "# Add a progress bar\n",
    "for file in tqdm(tiff_files, desc='Copying files'):\n",
    "\n",
    "\n",
    "    file_path = os.path.join(source_folder, file)\n",
    "    \n",
    "    with rasterio.open(file_path) as src:\n",
    "        # Check if all pixel values are -9999\n",
    "        if (-9999 == src.read().ravel()).all():\n",
    "            continue # Skip this file and move to next one\n",
    "        \n",
    "        # Copy the file to the destination folder\n",
    "        dest_path = os.path.join(empty_remove_destination_folder, file)\n",
    "        shutil.copy2(file_path, dest_path)\n"
   ]
  }
 ],
 "metadata": {
  "kernelspec": {
   "display_name": "Python 3",
   "language": "python",
   "name": "python3"
  },
  "language_info": {
   "codemirror_mode": {
    "name": "ipython",
    "version": 3
   },
   "file_extension": ".py",
   "mimetype": "text/x-python",
   "name": "python",
   "nbconvert_exporter": "python",
   "pygments_lexer": "ipython3",
   "version": "3.11.7"
  }
 },
 "nbformat": 4,
 "nbformat_minor": 2
}
