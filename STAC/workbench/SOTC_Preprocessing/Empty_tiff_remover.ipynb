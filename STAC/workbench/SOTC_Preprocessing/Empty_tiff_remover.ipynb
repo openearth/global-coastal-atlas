{
 "cells": [
  {
   "cell_type": "code",
   "execution_count": 1,
   "metadata": {},
   "outputs": [],
   "source": [
    "import os\n",
    "import rasterio\n",
    "#from rasterio.windows import Window\n",
    "import shutil \n",
    "from tqdm import tqdm\n",
    "import numpy as np\n"
   ]
  },
  {
   "cell_type": "code",
   "execution_count": 2,
   "metadata": {},
   "outputs": [
    {
     "name": "stderr",
     "output_type": "stream",
     "text": [
      "Copying files: 100%|██████████| 26448/26448 [2:23:33<00:00,  3.07it/s]  \n"
     ]
    }
   ],
   "source": [
    "\n",
    "source_folder = r\"P:\\11209197-018-global-coastal-atlas\\MSc_students\\ClenmarRowe\\Data\\All_Datasets\\Orig_Datasets\\02_Exposure\\Elevation_DEM\\copDEM\"\n",
    "destination_folder = r\"P:\\11209197-018-global-coastal-atlas\\MSc_students\\ClenmarRowe\\Data\\All_Datasets\\Orig_Datasets\\02_Exposure\\Elevation_DEM\\copDEM_Remove_Empty\"\n",
    "\n",
    "\n",
    "# Get list of all .tiff files in the source folder\n",
    "tiff_files = [f for f in os.listdir(source_folder) if f.endswith('.tif')]\n",
    "\n",
    "# Add a progress bar\n",
    "for file in tqdm(tiff_files, desc='Copying files'):\n",
    "\n",
    "\n",
    "    file_path = os.path.join(source_folder, file)\n",
    "    \n",
    "    with rasterio.open(file_path) as src:\n",
    "        # Check if all pixel values are -9999\n",
    "        if (-9999 == src.read().ravel()).all():\n",
    "            continue # Skip this file and move to next one\n",
    "        \n",
    "        # Copy the file to the destination folder\n",
    "        dest_path = os.path.join(destination_folder, file)\n",
    "        shutil.copy2(file_path, dest_path)\n",
    "\n",
    "        \n",
    "\n"
   ]
  },
  {
   "cell_type": "code",
   "execution_count": 3,
   "metadata": {},
   "outputs": [],
   "source": [
    "# check=rasterio.open(\"D:\\Deltares Internship\\First_100\\Remove_empty\\Copernicus_DSM_10_N00_00_E072_00_DEM_below_20m.tif\")\n",
    "# arr=check.read()\n",
    "# arr=np.array(arr)\n",
    "# a=(arr>=0)\n",
    "# p=arr[a]\n",
    "# len(p)\n",
    "\n",
    "\n"
   ]
  }
 ],
 "metadata": {
  "kernelspec": {
   "display_name": "ihe-course",
   "language": "python",
   "name": "python3"
  },
  "language_info": {
   "codemirror_mode": {
    "name": "ipython",
    "version": 3
   },
   "file_extension": ".py",
   "mimetype": "text/x-python",
   "name": "python",
   "nbconvert_exporter": "python",
   "pygments_lexer": "ipython3",
   "version": "3.11.7"
  }
 },
 "nbformat": 4,
 "nbformat_minor": 2
}
