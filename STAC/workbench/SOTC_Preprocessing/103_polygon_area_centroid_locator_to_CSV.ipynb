{
 "cells": [
  {
   "cell_type": "code",
   "execution_count": 2,
   "metadata": {},
   "outputs": [],
   "source": [
    "#%pip install pyproj"
   ]
  },
  {
   "cell_type": "code",
   "execution_count": 3,
   "metadata": {},
   "outputs": [],
   "source": [
    "from pyproj import Proj, transform\n",
    "import math\n",
    "import os\n",
    "import pathlib\n",
    "import geopandas as gpd\n",
    "from tqdm import tqdm\n",
    "import pandas as pd\n",
    "\n",
    "\n",
    "import warnings\n",
    "warnings.filterwarnings('ignore')"
   ]
  },
  {
   "cell_type": "code",
   "execution_count": 4,
   "metadata": {},
   "outputs": [
    {
     "name": "stdout",
     "output_type": "stream",
     "text": [
      "UTM Zone:  18\n"
     ]
    }
   ],
   "source": [
    "\n",
    "\n",
    "def find_utm_zone(lon, lat):\n",
    "    utm_band = str((math.floor((lon +  180) /  6) %  60) +  1)\n",
    "    if len(utm_band) ==  1:\n",
    "        utm_band = '0' + utm_band\n",
    "    return utm_band\n",
    "\n",
    "# Example usage for jamaica:\n",
    "lon = -77  # Replace with your longitude\n",
    "lat =  18    # Replace with your latitude\n",
    "utm_zone = find_utm_zone(lon, lat)\n",
    "print(\"UTM Zone: \", utm_zone)\n"
   ]
  },
  {
   "cell_type": "code",
   "execution_count": null,
   "metadata": {},
   "outputs": [],
   "source": []
  },
  {
   "cell_type": "code",
   "execution_count": 11,
   "metadata": {},
   "outputs": [
    {
     "data": {
      "text/html": [
       "<div>\n",
       "<style scoped>\n",
       "    .dataframe tbody tr th:only-of-type {\n",
       "        vertical-align: middle;\n",
       "    }\n",
       "\n",
       "    .dataframe tbody tr th {\n",
       "        vertical-align: top;\n",
       "    }\n",
       "\n",
       "    .dataframe thead th {\n",
       "        text-align: right;\n",
       "    }\n",
       "</style>\n",
       "<table border=\"1\" class=\"dataframe\">\n",
       "  <thead>\n",
       "    <tr style=\"text-align: right;\">\n",
       "      <th></th>\n",
       "      <th>elev</th>\n",
       "      <th>geometry</th>\n",
       "    </tr>\n",
       "  </thead>\n",
       "  <tbody>\n",
       "    <tr>\n",
       "      <th>0</th>\n",
       "      <td>2</td>\n",
       "      <td>POLYGON ((-58.00014 6.78069, -58.00014 6.78014...</td>\n",
       "    </tr>\n",
       "    <tr>\n",
       "      <th>1</th>\n",
       "      <td>3</td>\n",
       "      <td>POLYGON ((-57.99986 6.78042, -57.99986 6.78014...</td>\n",
       "    </tr>\n",
       "    <tr>\n",
       "      <th>2</th>\n",
       "      <td>1</td>\n",
       "      <td>POLYGON ((-57.99986 6.78014, -57.99986 6.77986...</td>\n",
       "    </tr>\n",
       "    <tr>\n",
       "      <th>3</th>\n",
       "      <td>4</td>\n",
       "      <td>POLYGON ((-57.99958 6.78014, -57.99958 6.77986...</td>\n",
       "    </tr>\n",
       "    <tr>\n",
       "      <th>4</th>\n",
       "      <td>0</td>\n",
       "      <td>POLYGON ((-57.99986 6.77986, -57.99986 6.77958...</td>\n",
       "    </tr>\n",
       "    <tr>\n",
       "      <th>...</th>\n",
       "      <td>...</td>\n",
       "      <td>...</td>\n",
       "    </tr>\n",
       "    <tr>\n",
       "      <th>625022</th>\n",
       "      <td>2</td>\n",
       "      <td>POLYGON ((-57.15347 6.00042, -57.15347 6.00014...</td>\n",
       "    </tr>\n",
       "    <tr>\n",
       "      <th>625023</th>\n",
       "      <td>1</td>\n",
       "      <td>POLYGON ((-57.15264 6.00042, -57.15264 6.00014...</td>\n",
       "    </tr>\n",
       "    <tr>\n",
       "      <th>625024</th>\n",
       "      <td>4</td>\n",
       "      <td>POLYGON ((-57.15208 6.00042, -57.15208 6.00014...</td>\n",
       "    </tr>\n",
       "    <tr>\n",
       "      <th>625025</th>\n",
       "      <td>3</td>\n",
       "      <td>POLYGON ((-57.15181 6.00042, -57.15181 6.00014...</td>\n",
       "    </tr>\n",
       "    <tr>\n",
       "      <th>625026</th>\n",
       "      <td>2</td>\n",
       "      <td>POLYGON ((-57.14958 6.00097, -57.14958 6.00069...</td>\n",
       "    </tr>\n",
       "  </tbody>\n",
       "</table>\n",
       "<p>625027 rows × 2 columns</p>\n",
       "</div>"
      ],
      "text/plain": [
       "        elev                                           geometry\n",
       "0          2  POLYGON ((-58.00014 6.78069, -58.00014 6.78014...\n",
       "1          3  POLYGON ((-57.99986 6.78042, -57.99986 6.78014...\n",
       "2          1  POLYGON ((-57.99986 6.78014, -57.99986 6.77986...\n",
       "3          4  POLYGON ((-57.99958 6.78014, -57.99958 6.77986...\n",
       "4          0  POLYGON ((-57.99986 6.77986, -57.99986 6.77958...\n",
       "...      ...                                                ...\n",
       "625022     2  POLYGON ((-57.15347 6.00042, -57.15347 6.00014...\n",
       "625023     1  POLYGON ((-57.15264 6.00042, -57.15264 6.00014...\n",
       "625024     4  POLYGON ((-57.15208 6.00042, -57.15208 6.00014...\n",
       "625025     3  POLYGON ((-57.15181 6.00042, -57.15181 6.00014...\n",
       "625026     2  POLYGON ((-57.14958 6.00097, -57.14958 6.00069...\n",
       "\n",
       "[625027 rows x 2 columns]"
      ]
     },
     "execution_count": 11,
     "metadata": {},
     "output_type": "execute_result"
    }
   ],
   "source": [
    "\n",
    "# Define paths\n",
    "folder_path = r'C:\\Users\\rowe\\Desktop\\test'\n",
    "output_folder = r'P:\\11209197-018-global-coastal-atlas\\MSc_students\\ClenmarRowe\\Data\\All_Datasets\\Orig_Datasets\\02_Exposure\\Elevation_DEM\\Final_output'\n",
    "\n",
    "#Sample of what GeoDF looks like\n",
    "gdf=gpd.read_file(pathlib.Path().joinpath(folder_path,'a4.gpkg'))\n",
    "gdf"
   ]
  },
  {
   "cell_type": "code",
   "execution_count": 5,
   "metadata": {},
   "outputs": [
    {
     "data": {
      "text/html": [
       "<div>\n",
       "<style scoped>\n",
       "    .dataframe tbody tr th:only-of-type {\n",
       "        vertical-align: middle;\n",
       "    }\n",
       "\n",
       "    .dataframe tbody tr th {\n",
       "        vertical-align: top;\n",
       "    }\n",
       "\n",
       "    .dataframe thead th {\n",
       "        text-align: right;\n",
       "    }\n",
       "</style>\n",
       "<table border=\"1\" class=\"dataframe\">\n",
       "  <thead>\n",
       "    <tr style=\"text-align: right;\">\n",
       "      <th></th>\n",
       "      <th>lon</th>\n",
       "      <th>lat</th>\n",
       "      <th>elev</th>\n",
       "      <th>area</th>\n",
       "    </tr>\n",
       "  </thead>\n",
       "  <tbody>\n",
       "  </tbody>\n",
       "</table>\n",
       "</div>"
      ],
      "text/plain": [
       "Empty DataFrame\n",
       "Columns: [lon, lat, elev, area]\n",
       "Index: []"
      ]
     },
     "execution_count": 5,
     "metadata": {},
     "output_type": "execute_result"
    }
   ],
   "source": [
    "# Create an empty DataFrame to store the results\n",
    "output_csv = pd.DataFrame(columns=['lon','lat','elev', 'area'])\n",
    "output_csv"
   ]
  },
  {
   "cell_type": "code",
   "execution_count": 6,
   "metadata": {},
   "outputs": [
    {
     "name": "stderr",
     "output_type": "stream",
     "text": [
      "Processing GeoPackages:   0%|          | 0/100 [00:00<?, ?it/s]"
     ]
    },
    {
     "name": "stderr",
     "output_type": "stream",
     "text": [
      "Processing GeoPackages:  12%|█▏        | 12/100 [02:13<34:58, 23.85s/it]"
     ]
    },
    {
     "ename": "",
     "evalue": "",
     "output_type": "error",
     "traceback": [
      "\u001b[1;31mThe Kernel crashed while executing code in the the current cell or a previous cell. Please review the code in the cell(s) to identify a possible cause of the failure. Click <a href='https://aka.ms/vscodeJupyterKernelCrash'>here</a> for more info. View Jupyter <a href='command:jupyter.viewOutput'>log</a> for further details."
     ]
    }
   ],
   "source": [
    "\n",
    "# Ensure the output directory exists\n",
    "# os.makedirs(output_folder, exist_ok=True)\n",
    "n=1\n",
    "# Loop through each file in the folder\n",
    "for filename in tqdm(os.listdir(folder_path), desc='Processing GeoPackages',position=0, leave=True):\n",
    "    if filename.endswith('.gpkg'):\n",
    "        # Construct the full file path\n",
    "        file_path = os.path.join(folder_path, filename)\n",
    "    # if filename == \"a5\":\n",
    "        # # Read the GeoDataFrame\n",
    "        gdf = gpd.read_file(file_path)\n",
    "        \n",
    "        # Assuming lon and lat are the longitude and latitude of the centroid of the GeoDataFrame\n",
    "        # centroid = gdf.geometry.centroid.iloc[0]\n",
    "        # lon, lat = centroid.x, centroid.y\n",
    "\n",
    "        # # Find the UTM zone\n",
    "        # utm_zone = find_utm_zone(lon, lat)\n",
    "\n",
    "        # # Define the EPSG code for the UTM zone\n",
    "        # epsg_code = int(f\"326{utm_zone}\")\n",
    "\n",
    "        # # Reproject to the UTM zone\n",
    "        # gdf_utm = gdf.to_crs(epsg=epsg_code)\n",
    "        gdf_utm=gdf\n",
    "\n",
    "        # Add area column in square meters\n",
    "        # gdf_utm['area_sqm'] = gdf_utm['geometry'].area\n",
    "\n",
    "    \n",
    "\n",
    "        # for index, row in gdf_utm.iterrows():\n",
    "        #     #output_csv =output_csv.append({'lon': lon, 'lat':lat,'elev': row['elev'], 'area': row['area']}, ignore_index=True)\n",
    "        #     output_csv = pd.concat([output_csv, pd.DataFrame([{'lon': lon, 'lat': lat, 'elev': row['elev'], 'area': row['area_sqm']}])], ignore_index=True)\n",
    "        del gdf,gdf_utm\n",
    "output_csv"
   ]
  },
  {
   "cell_type": "code",
   "execution_count": null,
   "metadata": {},
   "outputs": [],
   "source": [
    "len(output_csv[\"elev\"])"
   ]
  },
  {
   "cell_type": "code",
   "execution_count": null,
   "metadata": {},
   "outputs": [],
   "source": [
    "#coutput concatenated cv\n",
    "output_csv.to_csv(pathlib.Path().joinpath(output_folder,'copDEM_final_csv_jk.csv'))"
   ]
  },
  {
   "cell_type": "code",
   "execution_count": null,
   "metadata": {},
   "outputs": [],
   "source": [
    "      \n",
    "        # # Construct the output file path\n",
    "        # output_file_path = os.path.join(output_folder, filename)\n",
    "        \n",
    "        # # Write the updated GeoDataFrame back to the GeoPackage file in the output folder\n",
    "        # gdf.to_file(output_file_path, driver='GPKG')"
   ]
  }
 ],
 "metadata": {
  "kernelspec": {
   "display_name": "Python 3",
   "language": "python",
   "name": "python3"
  },
  "language_info": {
   "codemirror_mode": {
    "name": "ipython",
    "version": 3
   },
   "file_extension": ".py",
   "mimetype": "text/x-python",
   "name": "python",
   "nbconvert_exporter": "python",
   "pygments_lexer": "ipython3",
   "version": "3.11.7"
  }
 },
 "nbformat": 4,
 "nbformat_minor": 2
}
