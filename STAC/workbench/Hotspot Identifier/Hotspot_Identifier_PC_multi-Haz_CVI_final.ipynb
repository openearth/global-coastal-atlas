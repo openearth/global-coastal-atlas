{
 "cells": [
  {
   "cell_type": "code",
   "execution_count": null,
   "metadata": {},
   "outputs": [],
   "source": []
  },
  {
   "cell_type": "code",
   "execution_count": 1,
   "metadata": {},
   "outputs": [],
   "source": [
    "import xarray as xr\n",
    "import geopandas as gpd\n",
    "import pandas as pd\n",
    "import utm\n",
    "import os\n",
    "\n"
   ]
  },
  {
   "cell_type": "code",
   "execution_count": 2,
   "metadata": {},
   "outputs": [],
   "source": [
    "directory_path=r\"P:\\11209197-018-global-coastal-atlas\\MSc_students\\ClenmarRowe\\Data\\Processed_data_CVI_components\\Caribbean Thesis_Results\\Hotspot Identification\\PC-Multi-Haz-CVI\"\n",
    "img_directory_path=r\"P:\\11209197-018-global-coastal-atlas\\MSc_students\\ClenmarRowe\\Data\\Processed_data_CVI_components\\Caribbean Thesis_Results\\Hotspot Identification\\PC-Multi-Haz-CVI\\plots\"\n",
    "\n",
    "os.makedirs(directory_path, exist_ok=True)\n",
    "os.makedirs(img_directory_path, exist_ok=True)"
   ]
  },
  {
   "cell_type": "code",
   "execution_count": 3,
   "metadata": {},
   "outputs": [],
   "source": [
    "def utmzone_gen(lat,lon):\n",
    "    utm_zone = utm.from_latlon(lat, lon)\n",
    "    utm_zone\n",
    "    if lat>=0:\n",
    "        transform = f\"EPSG:326{utm_zone[2]}\"\n",
    "    else:\n",
    "        transform = f\"EPSG:327{utm_zone[2]}\"\n",
    "    return transform"
   ]
  },
  {
   "cell_type": "code",
   "execution_count": 4,
   "metadata": {},
   "outputs": [
    {
     "data": {
      "text/html": [
       "<div>\n",
       "<style scoped>\n",
       "    .dataframe tbody tr th:only-of-type {\n",
       "        vertical-align: middle;\n",
       "    }\n",
       "\n",
       "    .dataframe tbody tr th {\n",
       "        vertical-align: top;\n",
       "    }\n",
       "\n",
       "    .dataframe thead th {\n",
       "        text-align: right;\n",
       "    }\n",
       "</style>\n",
       "<table border=\"1\" class=\"dataframe\">\n",
       "  <thead>\n",
       "    <tr style=\"text-align: right;\">\n",
       "      <th></th>\n",
       "      <th>transect_id</th>\n",
       "      <th>country_id</th>\n",
       "      <th>continent</th>\n",
       "      <th>country_name</th>\n",
       "      <th>geometry</th>\n",
       "    </tr>\n",
       "  </thead>\n",
       "  <tbody>\n",
       "    <tr>\n",
       "      <th>0</th>\n",
       "      <td>BOX_028_183_0</td>\n",
       "      <td>CHL</td>\n",
       "      <td>South America</td>\n",
       "      <td>Chile</td>\n",
       "      <td>POINT (-74.39097 -50.38256)</td>\n",
       "    </tr>\n",
       "    <tr>\n",
       "      <th>1</th>\n",
       "      <td>BOX_028_183_1</td>\n",
       "      <td>CHL</td>\n",
       "      <td>South America</td>\n",
       "      <td>Chile</td>\n",
       "      <td>POINT (-74.38713 -50.38404)</td>\n",
       "    </tr>\n",
       "    <tr>\n",
       "      <th>2</th>\n",
       "      <td>BOX_028_183_2</td>\n",
       "      <td>CHL</td>\n",
       "      <td>South America</td>\n",
       "      <td>Chile</td>\n",
       "      <td>POINT (-74.38328 -50.38553)</td>\n",
       "    </tr>\n",
       "    <tr>\n",
       "      <th>3</th>\n",
       "      <td>BOX_028_183_3</td>\n",
       "      <td>CHL</td>\n",
       "      <td>South America</td>\n",
       "      <td>Chile</td>\n",
       "      <td>POINT (-74.37952 -50.38708)</td>\n",
       "    </tr>\n",
       "    <tr>\n",
       "      <th>4</th>\n",
       "      <td>BOX_028_183_4</td>\n",
       "      <td>CHL</td>\n",
       "      <td>South America</td>\n",
       "      <td>Chile</td>\n",
       "      <td>POINT (-74.37599 -50.38885)</td>\n",
       "    </tr>\n",
       "    <tr>\n",
       "      <th>...</th>\n",
       "      <td>...</td>\n",
       "      <td>...</td>\n",
       "      <td>...</td>\n",
       "      <td>...</td>\n",
       "      <td>...</td>\n",
       "    </tr>\n",
       "    <tr>\n",
       "      <th>1739821</th>\n",
       "      <td>BOX_211_067_149</td>\n",
       "      <td>RUS</td>\n",
       "      <td>Europe</td>\n",
       "      <td>Russia</td>\n",
       "      <td>POINT (39.93520 64.69835)</td>\n",
       "    </tr>\n",
       "    <tr>\n",
       "      <th>1739822</th>\n",
       "      <td>BOX_211_067_150</td>\n",
       "      <td>RUS</td>\n",
       "      <td>Europe</td>\n",
       "      <td>Russia</td>\n",
       "      <td>POINT (39.93884 64.69947)</td>\n",
       "    </tr>\n",
       "    <tr>\n",
       "      <th>1739823</th>\n",
       "      <td>BOX_211_067_151</td>\n",
       "      <td>RUS</td>\n",
       "      <td>Europe</td>\n",
       "      <td>Russia</td>\n",
       "      <td>POINT (39.94200 64.70083)</td>\n",
       "    </tr>\n",
       "    <tr>\n",
       "      <th>1739824</th>\n",
       "      <td>BOX_211_067_152</td>\n",
       "      <td>RUS</td>\n",
       "      <td>Europe</td>\n",
       "      <td>Russia</td>\n",
       "      <td>POINT (39.94470 64.70236)</td>\n",
       "    </tr>\n",
       "    <tr>\n",
       "      <th>1739825</th>\n",
       "      <td>BOX_211_067_153</td>\n",
       "      <td>RUS</td>\n",
       "      <td>Europe</td>\n",
       "      <td>Russia</td>\n",
       "      <td>POINT (39.94537 64.70414)</td>\n",
       "    </tr>\n",
       "  </tbody>\n",
       "</table>\n",
       "<p>1739826 rows × 5 columns</p>\n",
       "</div>"
      ],
      "text/plain": [
       "             transect_id country_id      continent country_name  \\\n",
       "0          BOX_028_183_0        CHL  South America        Chile   \n",
       "1          BOX_028_183_1        CHL  South America        Chile   \n",
       "2          BOX_028_183_2        CHL  South America        Chile   \n",
       "3          BOX_028_183_3        CHL  South America        Chile   \n",
       "4          BOX_028_183_4        CHL  South America        Chile   \n",
       "...                  ...        ...            ...          ...   \n",
       "1739821  BOX_211_067_149        RUS         Europe       Russia   \n",
       "1739822  BOX_211_067_150        RUS         Europe       Russia   \n",
       "1739823  BOX_211_067_151        RUS         Europe       Russia   \n",
       "1739824  BOX_211_067_152        RUS         Europe       Russia   \n",
       "1739825  BOX_211_067_153        RUS         Europe       Russia   \n",
       "\n",
       "                            geometry  \n",
       "0        POINT (-74.39097 -50.38256)  \n",
       "1        POINT (-74.38713 -50.38404)  \n",
       "2        POINT (-74.38328 -50.38553)  \n",
       "3        POINT (-74.37952 -50.38708)  \n",
       "4        POINT (-74.37599 -50.38885)  \n",
       "...                              ...  \n",
       "1739821    POINT (39.93520 64.69835)  \n",
       "1739822    POINT (39.93884 64.69947)  \n",
       "1739823    POINT (39.94200 64.70083)  \n",
       "1739824    POINT (39.94470 64.70236)  \n",
       "1739825    POINT (39.94537 64.70414)  \n",
       "\n",
       "[1739826 rows x 5 columns]"
      ]
     },
     "execution_count": 4,
     "metadata": {},
     "output_type": "execute_result"
    }
   ],
   "source": [
    "template_df=pd.read_csv(r\"P:\\11209197-018-global-coastal-atlas\\MSc_students\\ClenmarRowe\\Data\\All_Datasets\\Orig_Datasets\\04_Auxillary_files\\Arjen_Vector_Template.csv\")\n",
    "Hazard_map=template_df\n",
    "Hazard_map = gpd.GeoDataFrame(\n",
    "    Hazard_map, geometry=gpd.points_from_xy(Hazard_map.Intersect_lon, Hazard_map.Intersect_lat), crs=\"EPSG:4326\"\n",
    ")\n",
    "Hazard_map=Hazard_map.drop(columns=[\"Start_lon\",\"Start_lat\",\"End_lon\",\"End_lat\",\"Intersect_lon\",\"Intersect_lat\"])\n",
    "Hazard_map"
   ]
  },
  {
   "cell_type": "code",
   "execution_count": 5,
   "metadata": {},
   "outputs": [
    {
     "data": {
      "text/html": [
       "<div>\n",
       "<style scoped>\n",
       "    .dataframe tbody tr th:only-of-type {\n",
       "        vertical-align: middle;\n",
       "    }\n",
       "\n",
       "    .dataframe tbody tr th {\n",
       "        vertical-align: top;\n",
       "    }\n",
       "\n",
       "    .dataframe thead th {\n",
       "        text-align: right;\n",
       "    }\n",
       "</style>\n",
       "<table border=\"1\" class=\"dataframe\">\n",
       "  <thead>\n",
       "    <tr style=\"text-align: right;\">\n",
       "      <th></th>\n",
       "      <th>Continent</th>\n",
       "      <th>Type</th>\n",
       "      <th>Name</th>\n",
       "      <th>Acronym</th>\n",
       "      <th>geometry</th>\n",
       "    </tr>\n",
       "  </thead>\n",
       "  <tbody>\n",
       "    <tr>\n",
       "      <th>0</th>\n",
       "      <td>POLAR</td>\n",
       "      <td>Land</td>\n",
       "      <td>Greenland/Iceland</td>\n",
       "      <td>GIC</td>\n",
       "      <td>MULTIPOLYGON (((-10.00000 62.00000, -10.43750 ...</td>\n",
       "    </tr>\n",
       "    <tr>\n",
       "      <th>1</th>\n",
       "      <td>NORTH-AMERICA</td>\n",
       "      <td>Land</td>\n",
       "      <td>N.W.North-America</td>\n",
       "      <td>NWN</td>\n",
       "      <td>MULTIPOLYGON (((-105.00000 50.00000, -105.4386...</td>\n",
       "    </tr>\n",
       "    <tr>\n",
       "      <th>2</th>\n",
       "      <td>NORTH-AMERICA</td>\n",
       "      <td>Land</td>\n",
       "      <td>N.E.North-America</td>\n",
       "      <td>NEN</td>\n",
       "      <td>MULTIPOLYGON (((-50.00000 50.00000, -50.44000 ...</td>\n",
       "    </tr>\n",
       "    <tr>\n",
       "      <th>3</th>\n",
       "      <td>NORTH-AMERICA</td>\n",
       "      <td>Land</td>\n",
       "      <td>W.North-America</td>\n",
       "      <td>WNA</td>\n",
       "      <td>MULTIPOLYGON (((-130.00000 50.00000, -129.5614...</td>\n",
       "    </tr>\n",
       "    <tr>\n",
       "      <th>4</th>\n",
       "      <td>NORTH-AMERICA</td>\n",
       "      <td>Land</td>\n",
       "      <td>C.North-America</td>\n",
       "      <td>CNA</td>\n",
       "      <td>MULTIPOLYGON (((-90.00000 50.00000, -90.00000 ...</td>\n",
       "    </tr>\n",
       "  </tbody>\n",
       "</table>\n",
       "</div>"
      ],
      "text/plain": [
       "       Continent  Type               Name Acronym  \\\n",
       "0          POLAR  Land  Greenland/Iceland     GIC   \n",
       "1  NORTH-AMERICA  Land  N.W.North-America     NWN   \n",
       "2  NORTH-AMERICA  Land  N.E.North-America     NEN   \n",
       "3  NORTH-AMERICA  Land    W.North-America     WNA   \n",
       "4  NORTH-AMERICA  Land    C.North-America     CNA   \n",
       "\n",
       "                                            geometry  \n",
       "0  MULTIPOLYGON (((-10.00000 62.00000, -10.43750 ...  \n",
       "1  MULTIPOLYGON (((-105.00000 50.00000, -105.4386...  \n",
       "2  MULTIPOLYGON (((-50.00000 50.00000, -50.44000 ...  \n",
       "3  MULTIPOLYGON (((-130.00000 50.00000, -129.5614...  \n",
       "4  MULTIPOLYGON (((-90.00000 50.00000, -90.00000 ...  "
      ]
     },
     "execution_count": 5,
     "metadata": {},
     "output_type": "execute_result"
    }
   ],
   "source": [
    "IPCC=gpd.read_file(r\"P:\\11209197-018-global-coastal-atlas\\MSc_students\\ClenmarRowe\\Data\\All_Datasets\\Orig_Datasets\\04_Auxillary_files\\IPCC-WGI-reference-regions-v4.gpkg\")\n",
    "IPCC.head()"
   ]
  },
  {
   "cell_type": "code",
   "execution_count": 6,
   "metadata": {},
   "outputs": [
    {
     "data": {
      "text/html": [
       "<div>\n",
       "<style scoped>\n",
       "    .dataframe tbody tr th:only-of-type {\n",
       "        vertical-align: middle;\n",
       "    }\n",
       "\n",
       "    .dataframe tbody tr th {\n",
       "        vertical-align: top;\n",
       "    }\n",
       "\n",
       "    .dataframe thead th {\n",
       "        text-align: right;\n",
       "    }\n",
       "</style>\n",
       "<table border=\"1\" class=\"dataframe\">\n",
       "  <thead>\n",
       "    <tr style=\"text-align: right;\">\n",
       "      <th></th>\n",
       "      <th>Continent</th>\n",
       "      <th>Type</th>\n",
       "      <th>Name</th>\n",
       "      <th>Acronym</th>\n",
       "      <th>geometry</th>\n",
       "    </tr>\n",
       "  </thead>\n",
       "  <tbody>\n",
       "    <tr>\n",
       "      <th>8</th>\n",
       "      <td>CENTRAL-AMERICA</td>\n",
       "      <td>Land-Ocean</td>\n",
       "      <td>Caribbean</td>\n",
       "      <td>CAR</td>\n",
       "      <td>MULTIPOLYGON (((-75.00000 12.00000, -75.32609 ...</td>\n",
       "    </tr>\n",
       "  </tbody>\n",
       "</table>\n",
       "</div>"
      ],
      "text/plain": [
       "         Continent        Type       Name Acronym  \\\n",
       "8  CENTRAL-AMERICA  Land-Ocean  Caribbean     CAR   \n",
       "\n",
       "                                            geometry  \n",
       "8  MULTIPOLYGON (((-75.00000 12.00000, -75.32609 ...  "
      ]
     },
     "execution_count": 6,
     "metadata": {},
     "output_type": "execute_result"
    }
   ],
   "source": [
    "region_acronym= \"CAR\"\n",
    "region_gdf=IPCC.loc[IPCC[\"Acronym\"]==region_acronym,:]\n",
    "# region_gdf=region_gdf.iloc[:,-1:]\n",
    "region_gdf\n"
   ]
  },
  {
   "cell_type": "code",
   "execution_count": 7,
   "metadata": {},
   "outputs": [
    {
     "data": {
      "text/html": [
       "<div>\n",
       "<style scoped>\n",
       "    .dataframe tbody tr th:only-of-type {\n",
       "        vertical-align: middle;\n",
       "    }\n",
       "\n",
       "    .dataframe tbody tr th {\n",
       "        vertical-align: top;\n",
       "    }\n",
       "\n",
       "    .dataframe thead th {\n",
       "        text-align: right;\n",
       "    }\n",
       "</style>\n",
       "<table border=\"1\" class=\"dataframe\">\n",
       "  <thead>\n",
       "    <tr style=\"text-align: right;\">\n",
       "      <th></th>\n",
       "      <th>transect_id</th>\n",
       "      <th>country_id</th>\n",
       "      <th>continent</th>\n",
       "      <th>country_name</th>\n",
       "      <th>geometry</th>\n",
       "    </tr>\n",
       "  </thead>\n",
       "  <tbody>\n",
       "    <tr>\n",
       "      <th>0</th>\n",
       "      <td>BOX_116_353_2</td>\n",
       "      <td>COL</td>\n",
       "      <td>South America</td>\n",
       "      <td>Colombia</td>\n",
       "      <td>POINT (-71.87980 12.25068)</td>\n",
       "    </tr>\n",
       "    <tr>\n",
       "      <th>1</th>\n",
       "      <td>BOX_116_353_3</td>\n",
       "      <td>COL</td>\n",
       "      <td>South America</td>\n",
       "      <td>Colombia</td>\n",
       "      <td>POINT (-71.87698 12.24731)</td>\n",
       "    </tr>\n",
       "    <tr>\n",
       "      <th>2</th>\n",
       "      <td>BOX_116_353_4</td>\n",
       "      <td>COL</td>\n",
       "      <td>South America</td>\n",
       "      <td>Colombia</td>\n",
       "      <td>POINT (-71.87563 12.24314)</td>\n",
       "    </tr>\n",
       "    <tr>\n",
       "      <th>3</th>\n",
       "      <td>BOX_116_353_5</td>\n",
       "      <td>COL</td>\n",
       "      <td>South America</td>\n",
       "      <td>Colombia</td>\n",
       "      <td>POINT (-71.87523 12.23877)</td>\n",
       "    </tr>\n",
       "    <tr>\n",
       "      <th>4</th>\n",
       "      <td>BOX_116_353_6</td>\n",
       "      <td>COL</td>\n",
       "      <td>South America</td>\n",
       "      <td>Colombia</td>\n",
       "      <td>POINT (-71.87483 12.23440)</td>\n",
       "    </tr>\n",
       "    <tr>\n",
       "      <th>...</th>\n",
       "      <td>...</td>\n",
       "      <td>...</td>\n",
       "      <td>...</td>\n",
       "      <td>...</td>\n",
       "      <td>...</td>\n",
       "    </tr>\n",
       "    <tr>\n",
       "      <th>37504</th>\n",
       "      <td>BOX_139_002_61</td>\n",
       "      <td>DOM</td>\n",
       "      <td>North America</td>\n",
       "      <td>Dominican Republic</td>\n",
       "      <td>POINT (-71.66819 17.96526)</td>\n",
       "    </tr>\n",
       "    <tr>\n",
       "      <th>37505</th>\n",
       "      <td>BOX_139_002_62</td>\n",
       "      <td>DOM</td>\n",
       "      <td>North America</td>\n",
       "      <td>Dominican Republic</td>\n",
       "      <td>POINT (-71.66623 17.96142)</td>\n",
       "    </tr>\n",
       "    <tr>\n",
       "      <th>37506</th>\n",
       "      <td>BOX_139_002_63</td>\n",
       "      <td>DOM</td>\n",
       "      <td>North America</td>\n",
       "      <td>Dominican Republic</td>\n",
       "      <td>POINT (-71.66458 17.95744)</td>\n",
       "    </tr>\n",
       "    <tr>\n",
       "      <th>37507</th>\n",
       "      <td>BOX_139_002_64</td>\n",
       "      <td>DOM</td>\n",
       "      <td>North America</td>\n",
       "      <td>Dominican Republic</td>\n",
       "      <td>POINT (-71.66294 17.95347)</td>\n",
       "    </tr>\n",
       "    <tr>\n",
       "      <th>37508</th>\n",
       "      <td>BOX_139_002_65</td>\n",
       "      <td>DOM</td>\n",
       "      <td>North America</td>\n",
       "      <td>Dominican Republic</td>\n",
       "      <td>POINT (-71.66129 17.94949)</td>\n",
       "    </tr>\n",
       "  </tbody>\n",
       "</table>\n",
       "<p>37509 rows × 5 columns</p>\n",
       "</div>"
      ],
      "text/plain": [
       "          transect_id country_id      continent        country_name  \\\n",
       "0       BOX_116_353_2        COL  South America            Colombia   \n",
       "1       BOX_116_353_3        COL  South America            Colombia   \n",
       "2       BOX_116_353_4        COL  South America            Colombia   \n",
       "3       BOX_116_353_5        COL  South America            Colombia   \n",
       "4       BOX_116_353_6        COL  South America            Colombia   \n",
       "...               ...        ...            ...                 ...   \n",
       "37504  BOX_139_002_61        DOM  North America  Dominican Republic   \n",
       "37505  BOX_139_002_62        DOM  North America  Dominican Republic   \n",
       "37506  BOX_139_002_63        DOM  North America  Dominican Republic   \n",
       "37507  BOX_139_002_64        DOM  North America  Dominican Republic   \n",
       "37508  BOX_139_002_65        DOM  North America  Dominican Republic   \n",
       "\n",
       "                         geometry  \n",
       "0      POINT (-71.87980 12.25068)  \n",
       "1      POINT (-71.87698 12.24731)  \n",
       "2      POINT (-71.87563 12.24314)  \n",
       "3      POINT (-71.87523 12.23877)  \n",
       "4      POINT (-71.87483 12.23440)  \n",
       "...                           ...  \n",
       "37504  POINT (-71.66819 17.96526)  \n",
       "37505  POINT (-71.66623 17.96142)  \n",
       "37506  POINT (-71.66458 17.95744)  \n",
       "37507  POINT (-71.66294 17.95347)  \n",
       "37508  POINT (-71.66129 17.94949)  \n",
       "\n",
       "[37509 rows x 5 columns]"
      ]
     },
     "execution_count": 7,
     "metadata": {},
     "output_type": "execute_result"
    }
   ],
   "source": [
    "Hazard_map=Hazard_map.sjoin(region_gdf)\n",
    "Hazard_map=Hazard_map.iloc[:,0:5]\n",
    "Hazard_map.index=range(0,len(Hazard_map.index))\n",
    "Hazard_map"
   ]
  },
  {
   "cell_type": "code",
   "execution_count": 8,
   "metadata": {},
   "outputs": [
    {
     "data": {
      "text/html": [
       "<div>\n",
       "<style scoped>\n",
       "    .dataframe tbody tr th:only-of-type {\n",
       "        vertical-align: middle;\n",
       "    }\n",
       "\n",
       "    .dataframe tbody tr th {\n",
       "        vertical-align: top;\n",
       "    }\n",
       "\n",
       "    .dataframe thead th {\n",
       "        text-align: right;\n",
       "    }\n",
       "</style>\n",
       "<table border=\"1\" class=\"dataframe\">\n",
       "  <thead>\n",
       "    <tr style=\"text-align: right;\">\n",
       "      <th></th>\n",
       "      <th>transect_id</th>\n",
       "      <th>multi-haz additive H-E CVI</th>\n",
       "      <th>Percentage of Built Up Area_percentile - Exposure level_percentile</th>\n",
       "      <th>LECZ Area÷LECZ mean elevation_percentile - Exposure level_percentile</th>\n",
       "      <th>Neashore Slope (tanβ or m^-1)_percentile - Exposure level_percentile</th>\n",
       "      <th>Population Within 1km of the coastline_percentile - Exposure level_percentile</th>\n",
       "      <th>Sediment Type_percentile - Exposure level_percentile</th>\n",
       "      <th>Risk Level</th>\n",
       "      <th>Risk Level Class</th>\n",
       "      <th>Uncertainty_Columns</th>\n",
       "      <th>Uncertainty_Columns_length</th>\n",
       "      <th>Confindence %</th>\n",
       "      <th>lon</th>\n",
       "      <th>lat</th>\n",
       "      <th>geometry</th>\n",
       "      <th>country</th>\n",
       "    </tr>\n",
       "  </thead>\n",
       "  <tbody>\n",
       "    <tr>\n",
       "      <th>0</th>\n",
       "      <td>BOX_116_353_2</td>\n",
       "      <td>multi-haz additive H-E CVI 2.00</td>\n",
       "      <td>1</td>\n",
       "      <td>4</td>\n",
       "      <td>4.0</td>\n",
       "      <td>1</td>\n",
       "      <td>4.0</td>\n",
       "      <td>2.4</td>\n",
       "      <td>4.0</td>\n",
       "      <td>[]</td>\n",
       "      <td>0</td>\n",
       "      <td>100.0</td>\n",
       "      <td>-71.879805</td>\n",
       "      <td>12.250684</td>\n",
       "      <td>POINT (-71.87980 12.25068)</td>\n",
       "      <td>Colombia</td>\n",
       "    </tr>\n",
       "    <tr>\n",
       "      <th>1</th>\n",
       "      <td>BOX_116_353_3</td>\n",
       "      <td>multi-haz additive H-E CVI 1.20</td>\n",
       "      <td>1</td>\n",
       "      <td>5</td>\n",
       "      <td>4.0</td>\n",
       "      <td>1</td>\n",
       "      <td>2.0</td>\n",
       "      <td>1.9</td>\n",
       "      <td>2.0</td>\n",
       "      <td>[]</td>\n",
       "      <td>0</td>\n",
       "      <td>100.0</td>\n",
       "      <td>-71.876981</td>\n",
       "      <td>12.247308</td>\n",
       "      <td>POINT (-71.87698 12.24731)</td>\n",
       "      <td>Colombia</td>\n",
       "    </tr>\n",
       "    <tr>\n",
       "      <th>2</th>\n",
       "      <td>BOX_116_353_4</td>\n",
       "      <td>multi-haz additive H-E CVI 1.20</td>\n",
       "      <td>1</td>\n",
       "      <td>5</td>\n",
       "      <td>4.0</td>\n",
       "      <td>1</td>\n",
       "      <td>4.0</td>\n",
       "      <td>2.1</td>\n",
       "      <td>3.0</td>\n",
       "      <td>[]</td>\n",
       "      <td>0</td>\n",
       "      <td>100.0</td>\n",
       "      <td>-71.875632</td>\n",
       "      <td>12.243144</td>\n",
       "      <td>POINT (-71.87563 12.24314)</td>\n",
       "      <td>Colombia</td>\n",
       "    </tr>\n",
       "    <tr>\n",
       "      <th>3</th>\n",
       "      <td>BOX_116_353_5</td>\n",
       "      <td>multi-haz additive H-E CVI 1.20</td>\n",
       "      <td>1</td>\n",
       "      <td>5</td>\n",
       "      <td>4.0</td>\n",
       "      <td>1</td>\n",
       "      <td>2.0</td>\n",
       "      <td>1.9</td>\n",
       "      <td>2.0</td>\n",
       "      <td>[]</td>\n",
       "      <td>0</td>\n",
       "      <td>100.0</td>\n",
       "      <td>-71.875233</td>\n",
       "      <td>12.238772</td>\n",
       "      <td>POINT (-71.87523 12.23877)</td>\n",
       "      <td>Colombia</td>\n",
       "    </tr>\n",
       "    <tr>\n",
       "      <th>4</th>\n",
       "      <td>BOX_116_353_6</td>\n",
       "      <td>multi-haz additive H-E CVI 1.20</td>\n",
       "      <td>1</td>\n",
       "      <td>5</td>\n",
       "      <td>4.0</td>\n",
       "      <td>1</td>\n",
       "      <td>2.0</td>\n",
       "      <td>1.9</td>\n",
       "      <td>2.0</td>\n",
       "      <td>[]</td>\n",
       "      <td>0</td>\n",
       "      <td>100.0</td>\n",
       "      <td>-71.874835</td>\n",
       "      <td>12.234400</td>\n",
       "      <td>POINT (-71.87483 12.23440)</td>\n",
       "      <td>Colombia</td>\n",
       "    </tr>\n",
       "    <tr>\n",
       "      <th>...</th>\n",
       "      <td>...</td>\n",
       "      <td>...</td>\n",
       "      <td>...</td>\n",
       "      <td>...</td>\n",
       "      <td>...</td>\n",
       "      <td>...</td>\n",
       "      <td>...</td>\n",
       "      <td>...</td>\n",
       "      <td>...</td>\n",
       "      <td>...</td>\n",
       "      <td>...</td>\n",
       "      <td>...</td>\n",
       "      <td>...</td>\n",
       "      <td>...</td>\n",
       "      <td>...</td>\n",
       "      <td>...</td>\n",
       "    </tr>\n",
       "    <tr>\n",
       "      <th>37504</th>\n",
       "      <td>BOX_139_002_61</td>\n",
       "      <td>multi-haz additive H-E CVI 2.00</td>\n",
       "      <td>1</td>\n",
       "      <td>4</td>\n",
       "      <td>3.0</td>\n",
       "      <td>2</td>\n",
       "      <td>4.0</td>\n",
       "      <td>2.4</td>\n",
       "      <td>4.0</td>\n",
       "      <td>[]</td>\n",
       "      <td>0</td>\n",
       "      <td>100.0</td>\n",
       "      <td>-71.668186</td>\n",
       "      <td>17.965259</td>\n",
       "      <td>POINT (-71.66819 17.96526)</td>\n",
       "      <td>Dominican Republic</td>\n",
       "    </tr>\n",
       "    <tr>\n",
       "      <th>37505</th>\n",
       "      <td>BOX_139_002_62</td>\n",
       "      <td>multi-haz additive H-E CVI 2.00</td>\n",
       "      <td>1</td>\n",
       "      <td>4</td>\n",
       "      <td>3.0</td>\n",
       "      <td>2</td>\n",
       "      <td>4.0</td>\n",
       "      <td>2.4</td>\n",
       "      <td>4.0</td>\n",
       "      <td>[]</td>\n",
       "      <td>0</td>\n",
       "      <td>100.0</td>\n",
       "      <td>-71.666228</td>\n",
       "      <td>17.961418</td>\n",
       "      <td>POINT (-71.66623 17.96142)</td>\n",
       "      <td>Dominican Republic</td>\n",
       "    </tr>\n",
       "    <tr>\n",
       "      <th>37506</th>\n",
       "      <td>BOX_139_002_63</td>\n",
       "      <td>multi-haz additive H-E CVI 2.00</td>\n",
       "      <td>1</td>\n",
       "      <td>5</td>\n",
       "      <td>3.0</td>\n",
       "      <td>2</td>\n",
       "      <td>4.0</td>\n",
       "      <td>2.5</td>\n",
       "      <td>4.0</td>\n",
       "      <td>[]</td>\n",
       "      <td>0</td>\n",
       "      <td>100.0</td>\n",
       "      <td>-71.664583</td>\n",
       "      <td>17.957442</td>\n",
       "      <td>POINT (-71.66458 17.95744)</td>\n",
       "      <td>Dominican Republic</td>\n",
       "    </tr>\n",
       "    <tr>\n",
       "      <th>37507</th>\n",
       "      <td>BOX_139_002_64</td>\n",
       "      <td>multi-haz additive H-E CVI 2.00</td>\n",
       "      <td>1</td>\n",
       "      <td>5</td>\n",
       "      <td>3.0</td>\n",
       "      <td>2</td>\n",
       "      <td>4.0</td>\n",
       "      <td>2.5</td>\n",
       "      <td>4.0</td>\n",
       "      <td>[]</td>\n",
       "      <td>0</td>\n",
       "      <td>100.0</td>\n",
       "      <td>-71.662937</td>\n",
       "      <td>17.953466</td>\n",
       "      <td>POINT (-71.66294 17.95347)</td>\n",
       "      <td>Dominican Republic</td>\n",
       "    </tr>\n",
       "    <tr>\n",
       "      <th>37508</th>\n",
       "      <td>BOX_139_002_65</td>\n",
       "      <td>multi-haz additive H-E CVI 2.00</td>\n",
       "      <td>1</td>\n",
       "      <td>5</td>\n",
       "      <td>3.0</td>\n",
       "      <td>2</td>\n",
       "      <td>4.0</td>\n",
       "      <td>2.5</td>\n",
       "      <td>4.0</td>\n",
       "      <td>[]</td>\n",
       "      <td>0</td>\n",
       "      <td>100.0</td>\n",
       "      <td>-71.661291</td>\n",
       "      <td>17.949491</td>\n",
       "      <td>POINT (-71.66129 17.94949)</td>\n",
       "      <td>Dominican Republic</td>\n",
       "    </tr>\n",
       "  </tbody>\n",
       "</table>\n",
       "<p>37509 rows × 16 columns</p>\n",
       "</div>"
      ],
      "text/plain": [
       "          transect_id       multi-haz additive H-E CVI  \\\n",
       "0       BOX_116_353_2  multi-haz additive H-E CVI 2.00   \n",
       "1       BOX_116_353_3  multi-haz additive H-E CVI 1.20   \n",
       "2       BOX_116_353_4  multi-haz additive H-E CVI 1.20   \n",
       "3       BOX_116_353_5  multi-haz additive H-E CVI 1.20   \n",
       "4       BOX_116_353_6  multi-haz additive H-E CVI 1.20   \n",
       "...               ...                              ...   \n",
       "37504  BOX_139_002_61  multi-haz additive H-E CVI 2.00   \n",
       "37505  BOX_139_002_62  multi-haz additive H-E CVI 2.00   \n",
       "37506  BOX_139_002_63  multi-haz additive H-E CVI 2.00   \n",
       "37507  BOX_139_002_64  multi-haz additive H-E CVI 2.00   \n",
       "37508  BOX_139_002_65  multi-haz additive H-E CVI 2.00   \n",
       "\n",
       "       Percentage of Built Up Area_percentile - Exposure level_percentile  \\\n",
       "0                                                      1                    \n",
       "1                                                      1                    \n",
       "2                                                      1                    \n",
       "3                                                      1                    \n",
       "4                                                      1                    \n",
       "...                                                  ...                    \n",
       "37504                                                  1                    \n",
       "37505                                                  1                    \n",
       "37506                                                  1                    \n",
       "37507                                                  1                    \n",
       "37508                                                  1                    \n",
       "\n",
       "       LECZ Area÷LECZ mean elevation_percentile - Exposure level_percentile  \\\n",
       "0                                                      4                      \n",
       "1                                                      5                      \n",
       "2                                                      5                      \n",
       "3                                                      5                      \n",
       "4                                                      5                      \n",
       "...                                                  ...                      \n",
       "37504                                                  4                      \n",
       "37505                                                  4                      \n",
       "37506                                                  5                      \n",
       "37507                                                  5                      \n",
       "37508                                                  5                      \n",
       "\n",
       "       Neashore Slope (tanβ or m^-1)_percentile - Exposure level_percentile  \\\n",
       "0                                                    4.0                      \n",
       "1                                                    4.0                      \n",
       "2                                                    4.0                      \n",
       "3                                                    4.0                      \n",
       "4                                                    4.0                      \n",
       "...                                                  ...                      \n",
       "37504                                                3.0                      \n",
       "37505                                                3.0                      \n",
       "37506                                                3.0                      \n",
       "37507                                                3.0                      \n",
       "37508                                                3.0                      \n",
       "\n",
       "       Population Within 1km of the coastline_percentile - Exposure level_percentile  \\\n",
       "0                                                      1                               \n",
       "1                                                      1                               \n",
       "2                                                      1                               \n",
       "3                                                      1                               \n",
       "4                                                      1                               \n",
       "...                                                  ...                               \n",
       "37504                                                  2                               \n",
       "37505                                                  2                               \n",
       "37506                                                  2                               \n",
       "37507                                                  2                               \n",
       "37508                                                  2                               \n",
       "\n",
       "       Sediment Type_percentile - Exposure level_percentile  Risk Level  \\\n",
       "0                                                    4.0            2.4   \n",
       "1                                                    2.0            1.9   \n",
       "2                                                    4.0            2.1   \n",
       "3                                                    2.0            1.9   \n",
       "4                                                    2.0            1.9   \n",
       "...                                                  ...            ...   \n",
       "37504                                                4.0            2.4   \n",
       "37505                                                4.0            2.4   \n",
       "37506                                                4.0            2.5   \n",
       "37507                                                4.0            2.5   \n",
       "37508                                                4.0            2.5   \n",
       "\n",
       "       Risk Level Class Uncertainty_Columns  Uncertainty_Columns_length  \\\n",
       "0                   4.0                  []                           0   \n",
       "1                   2.0                  []                           0   \n",
       "2                   3.0                  []                           0   \n",
       "3                   2.0                  []                           0   \n",
       "4                   2.0                  []                           0   \n",
       "...                 ...                 ...                         ...   \n",
       "37504               4.0                  []                           0   \n",
       "37505               4.0                  []                           0   \n",
       "37506               4.0                  []                           0   \n",
       "37507               4.0                  []                           0   \n",
       "37508               4.0                  []                           0   \n",
       "\n",
       "       Confindence %        lon        lat                    geometry  \\\n",
       "0              100.0 -71.879805  12.250684  POINT (-71.87980 12.25068)   \n",
       "1              100.0 -71.876981  12.247308  POINT (-71.87698 12.24731)   \n",
       "2              100.0 -71.875632  12.243144  POINT (-71.87563 12.24314)   \n",
       "3              100.0 -71.875233  12.238772  POINT (-71.87523 12.23877)   \n",
       "4              100.0 -71.874835  12.234400  POINT (-71.87483 12.23440)   \n",
       "...              ...        ...        ...                         ...   \n",
       "37504          100.0 -71.668186  17.965259  POINT (-71.66819 17.96526)   \n",
       "37505          100.0 -71.666228  17.961418  POINT (-71.66623 17.96142)   \n",
       "37506          100.0 -71.664583  17.957442  POINT (-71.66458 17.95744)   \n",
       "37507          100.0 -71.662937  17.953466  POINT (-71.66294 17.95347)   \n",
       "37508          100.0 -71.661291  17.949491  POINT (-71.66129 17.94949)   \n",
       "\n",
       "                  country  \n",
       "0                Colombia  \n",
       "1                Colombia  \n",
       "2                Colombia  \n",
       "3                Colombia  \n",
       "4                Colombia  \n",
       "...                   ...  \n",
       "37504  Dominican Republic  \n",
       "37505  Dominican Republic  \n",
       "37506  Dominican Republic  \n",
       "37507  Dominican Republic  \n",
       "37508  Dominican Republic  \n",
       "\n",
       "[37509 rows x 16 columns]"
      ]
     },
     "execution_count": 8,
     "metadata": {},
     "output_type": "execute_result"
    }
   ],
   "source": [
    "\n",
    "circle_center_df=pd.read_csv(r\"P:\\11209197-018-global-coastal-atlas\\MSc_students\\ClenmarRowe\\Data\\Processed_data_CVI_components\\Caribbean Thesis_Results\\Combination\\Risk_Level_PC_multi-haz_H-E\\multi-haz additive H-E CVI.csv\")\n",
    "# Identify the correct geometry column (replace 'geometry_column_name' with the actual column name)\n",
    "geometry_column_name = 'geometry'\n",
    "circle_center_df['lon'] = circle_center_df[geometry_column_name].apply(lambda point_str: float(point_str.strip('POINT ()').split()[0]))\n",
    "circle_center_df['lat'] = circle_center_df[geometry_column_name].apply(lambda point_str: float(point_str.strip('POINT ()').split()[1]))\n",
    "\n",
    "circle_center_df = circle_center_df.drop(columns=[geometry_column_name])\n",
    "\n",
    "# Create the GeoDataFrame with the correct geometry column\n",
    "circle_center = gpd.GeoDataFrame(circle_center_df, geometry=gpd.points_from_xy(circle_center_df.lon, circle_center_df.lat))\n",
    "\n",
    "\n",
    "SOTC_gdf=circle_center\n",
    "SOTC_gdf[\"country\"]=Hazard_map[\"country_name\"]\n",
    "SOTC_gdf"
   ]
  },
  {
   "cell_type": "code",
   "execution_count": 9,
   "metadata": {},
   "outputs": [
    {
     "data": {
      "text/plain": [
       "(True, True)"
      ]
     },
     "execution_count": 9,
     "metadata": {},
     "output_type": "execute_result"
    }
   ],
   "source": [
    "(SOTC_gdf[\"country\"]==Hazard_map[\"country_name\"]).all(),(SOTC_gdf[\"transect_id\"]==Hazard_map[\"transect_id\"]).all()"
   ]
  },
  {
   "cell_type": "code",
   "execution_count": 10,
   "metadata": {},
   "outputs": [
    {
     "data": {
      "text/plain": [
       "Index(['transect_id', 'multi-haz additive H-E CVI',\n",
       "       'Percentage of Built Up Area_percentile - Exposure level_percentile',\n",
       "       'LECZ Area÷LECZ mean elevation_percentile - Exposure level_percentile',\n",
       "       'Neashore Slope (tanβ or m^-1)_percentile - Exposure level_percentile',\n",
       "       'Population Within 1km of the coastline_percentile - Exposure level_percentile',\n",
       "       'Sediment Type_percentile - Exposure level_percentile', 'Risk Level',\n",
       "       'Risk Level Class', 'Uncertainty_Columns', 'Uncertainty_Columns_length',\n",
       "       'Confindence %', 'lon', 'lat', 'geometry', 'country'],\n",
       "      dtype='object')"
      ]
     },
     "execution_count": 10,
     "metadata": {},
     "output_type": "execute_result"
    }
   ],
   "source": [
    "SOTC_gdf.columns\n"
   ]
  },
  {
   "cell_type": "code",
   "execution_count": 11,
   "metadata": {},
   "outputs": [
    {
     "data": {
      "text/plain": [
       "'multi-haz additive H-E CVI Risk Level'"
      ]
     },
     "execution_count": 11,
     "metadata": {},
     "output_type": "execute_result"
    }
   ],
   "source": [
    "SOTC_gdf.columns[1]+ \" Risk Level\""
   ]
  },
  {
   "cell_type": "code",
   "execution_count": 12,
   "metadata": {},
   "outputs": [
    {
     "data": {
      "text/plain": [
       "['multi-haz additive H-E CVI Risk Level']"
      ]
     },
     "execution_count": 12,
     "metadata": {},
     "output_type": "execute_result"
    }
   ],
   "source": [
    "SOTC_gdf.rename(columns={\"Risk Level\": SOTC_gdf.columns[1]+ \" Risk Level\"}, inplace=True)\n",
    "col = [colu for colu in SOTC_gdf.columns if (\"Risk Level\" in colu and \"Class\" not in colu)]\n",
    "col\n"
   ]
  },
  {
   "cell_type": "code",
   "execution_count": 13,
   "metadata": {},
   "outputs": [
    {
     "data": {
      "text/html": [
       "<div>\n",
       "<style scoped>\n",
       "    .dataframe tbody tr th:only-of-type {\n",
       "        vertical-align: middle;\n",
       "    }\n",
       "\n",
       "    .dataframe tbody tr th {\n",
       "        vertical-align: top;\n",
       "    }\n",
       "\n",
       "    .dataframe thead th {\n",
       "        text-align: right;\n",
       "    }\n",
       "</style>\n",
       "<table border=\"1\" class=\"dataframe\">\n",
       "  <thead>\n",
       "    <tr style=\"text-align: right;\">\n",
       "      <th></th>\n",
       "      <th>multi-haz additive H-E CVI Risk Level</th>\n",
       "      <th>Uncertainty_Columns</th>\n",
       "      <th>Uncertainty_Columns_length</th>\n",
       "      <th>Confindence %</th>\n",
       "      <th>lon</th>\n",
       "      <th>lat</th>\n",
       "      <th>geometry</th>\n",
       "      <th>country</th>\n",
       "    </tr>\n",
       "  </thead>\n",
       "  <tbody>\n",
       "    <tr>\n",
       "      <th>0</th>\n",
       "      <td>2.4</td>\n",
       "      <td>[]</td>\n",
       "      <td>0</td>\n",
       "      <td>100.0</td>\n",
       "      <td>-71.879805</td>\n",
       "      <td>12.250684</td>\n",
       "      <td>POINT (-71.87980 12.25068)</td>\n",
       "      <td>Colombia</td>\n",
       "    </tr>\n",
       "    <tr>\n",
       "      <th>1</th>\n",
       "      <td>1.9</td>\n",
       "      <td>[]</td>\n",
       "      <td>0</td>\n",
       "      <td>100.0</td>\n",
       "      <td>-71.876981</td>\n",
       "      <td>12.247308</td>\n",
       "      <td>POINT (-71.87698 12.24731)</td>\n",
       "      <td>Colombia</td>\n",
       "    </tr>\n",
       "    <tr>\n",
       "      <th>2</th>\n",
       "      <td>2.1</td>\n",
       "      <td>[]</td>\n",
       "      <td>0</td>\n",
       "      <td>100.0</td>\n",
       "      <td>-71.875632</td>\n",
       "      <td>12.243144</td>\n",
       "      <td>POINT (-71.87563 12.24314)</td>\n",
       "      <td>Colombia</td>\n",
       "    </tr>\n",
       "    <tr>\n",
       "      <th>3</th>\n",
       "      <td>1.9</td>\n",
       "      <td>[]</td>\n",
       "      <td>0</td>\n",
       "      <td>100.0</td>\n",
       "      <td>-71.875233</td>\n",
       "      <td>12.238772</td>\n",
       "      <td>POINT (-71.87523 12.23877)</td>\n",
       "      <td>Colombia</td>\n",
       "    </tr>\n",
       "    <tr>\n",
       "      <th>4</th>\n",
       "      <td>1.9</td>\n",
       "      <td>[]</td>\n",
       "      <td>0</td>\n",
       "      <td>100.0</td>\n",
       "      <td>-71.874835</td>\n",
       "      <td>12.234400</td>\n",
       "      <td>POINT (-71.87483 12.23440)</td>\n",
       "      <td>Colombia</td>\n",
       "    </tr>\n",
       "    <tr>\n",
       "      <th>...</th>\n",
       "      <td>...</td>\n",
       "      <td>...</td>\n",
       "      <td>...</td>\n",
       "      <td>...</td>\n",
       "      <td>...</td>\n",
       "      <td>...</td>\n",
       "      <td>...</td>\n",
       "      <td>...</td>\n",
       "    </tr>\n",
       "    <tr>\n",
       "      <th>37504</th>\n",
       "      <td>2.4</td>\n",
       "      <td>[]</td>\n",
       "      <td>0</td>\n",
       "      <td>100.0</td>\n",
       "      <td>-71.668186</td>\n",
       "      <td>17.965259</td>\n",
       "      <td>POINT (-71.66819 17.96526)</td>\n",
       "      <td>Dominican Republic</td>\n",
       "    </tr>\n",
       "    <tr>\n",
       "      <th>37505</th>\n",
       "      <td>2.4</td>\n",
       "      <td>[]</td>\n",
       "      <td>0</td>\n",
       "      <td>100.0</td>\n",
       "      <td>-71.666228</td>\n",
       "      <td>17.961418</td>\n",
       "      <td>POINT (-71.66623 17.96142)</td>\n",
       "      <td>Dominican Republic</td>\n",
       "    </tr>\n",
       "    <tr>\n",
       "      <th>37506</th>\n",
       "      <td>2.5</td>\n",
       "      <td>[]</td>\n",
       "      <td>0</td>\n",
       "      <td>100.0</td>\n",
       "      <td>-71.664583</td>\n",
       "      <td>17.957442</td>\n",
       "      <td>POINT (-71.66458 17.95744)</td>\n",
       "      <td>Dominican Republic</td>\n",
       "    </tr>\n",
       "    <tr>\n",
       "      <th>37507</th>\n",
       "      <td>2.5</td>\n",
       "      <td>[]</td>\n",
       "      <td>0</td>\n",
       "      <td>100.0</td>\n",
       "      <td>-71.662937</td>\n",
       "      <td>17.953466</td>\n",
       "      <td>POINT (-71.66294 17.95347)</td>\n",
       "      <td>Dominican Republic</td>\n",
       "    </tr>\n",
       "    <tr>\n",
       "      <th>37508</th>\n",
       "      <td>2.5</td>\n",
       "      <td>[]</td>\n",
       "      <td>0</td>\n",
       "      <td>100.0</td>\n",
       "      <td>-71.661291</td>\n",
       "      <td>17.949491</td>\n",
       "      <td>POINT (-71.66129 17.94949)</td>\n",
       "      <td>Dominican Republic</td>\n",
       "    </tr>\n",
       "  </tbody>\n",
       "</table>\n",
       "<p>37509 rows × 8 columns</p>\n",
       "</div>"
      ],
      "text/plain": [
       "       multi-haz additive H-E CVI Risk Level Uncertainty_Columns  \\\n",
       "0                                        2.4                  []   \n",
       "1                                        1.9                  []   \n",
       "2                                        2.1                  []   \n",
       "3                                        1.9                  []   \n",
       "4                                        1.9                  []   \n",
       "...                                      ...                 ...   \n",
       "37504                                    2.4                  []   \n",
       "37505                                    2.4                  []   \n",
       "37506                                    2.5                  []   \n",
       "37507                                    2.5                  []   \n",
       "37508                                    2.5                  []   \n",
       "\n",
       "       Uncertainty_Columns_length  Confindence %        lon        lat  \\\n",
       "0                               0          100.0 -71.879805  12.250684   \n",
       "1                               0          100.0 -71.876981  12.247308   \n",
       "2                               0          100.0 -71.875632  12.243144   \n",
       "3                               0          100.0 -71.875233  12.238772   \n",
       "4                               0          100.0 -71.874835  12.234400   \n",
       "...                           ...            ...        ...        ...   \n",
       "37504                           0          100.0 -71.668186  17.965259   \n",
       "37505                           0          100.0 -71.666228  17.961418   \n",
       "37506                           0          100.0 -71.664583  17.957442   \n",
       "37507                           0          100.0 -71.662937  17.953466   \n",
       "37508                           0          100.0 -71.661291  17.949491   \n",
       "\n",
       "                         geometry             country  \n",
       "0      POINT (-71.87980 12.25068)            Colombia  \n",
       "1      POINT (-71.87698 12.24731)            Colombia  \n",
       "2      POINT (-71.87563 12.24314)            Colombia  \n",
       "3      POINT (-71.87523 12.23877)            Colombia  \n",
       "4      POINT (-71.87483 12.23440)            Colombia  \n",
       "...                           ...                 ...  \n",
       "37504  POINT (-71.66819 17.96526)  Dominican Republic  \n",
       "37505  POINT (-71.66623 17.96142)  Dominican Republic  \n",
       "37506  POINT (-71.66458 17.95744)  Dominican Republic  \n",
       "37507  POINT (-71.66294 17.95347)  Dominican Republic  \n",
       "37508  POINT (-71.66129 17.94949)  Dominican Republic  \n",
       "\n",
       "[37509 rows x 8 columns]"
      ]
     },
     "execution_count": 13,
     "metadata": {},
     "output_type": "execute_result"
    }
   ],
   "source": [
    "orig_hotspot=pd.concat([SOTC_gdf[col],SOTC_gdf.iloc[:,-7:]],axis=1)\n",
    "orig_hotspot = gpd.GeoDataFrame(\n",
    "    orig_hotspot, geometry=gpd.points_from_xy(orig_hotspot.lon, orig_hotspot.lat), crs=\"EPSG:4326\"\n",
    ")\n",
    "hotspot=orig_hotspot.copy()\n",
    "hotspot"
   ]
  },
  {
   "cell_type": "code",
   "execution_count": 14,
   "metadata": {},
   "outputs": [
    {
     "data": {
      "text/plain": [
       "28"
      ]
     },
     "execution_count": 14,
     "metadata": {},
     "output_type": "execute_result"
    }
   ],
   "source": [
    "unique_countries=hotspot[\"country\"].unique()\n",
    "unique_countries\n",
    "unique_countries = unique_countries[unique_countries != 'unknown']\n",
    "len(unique_countries)"
   ]
  },
  {
   "cell_type": "code",
   "execution_count": 15,
   "metadata": {},
   "outputs": [
    {
     "data": {
      "text/plain": [
       "['multi-haz additive H-E CVI Risk Level']"
      ]
     },
     "execution_count": 15,
     "metadata": {},
     "output_type": "execute_result"
    }
   ],
   "source": [
    "col\n",
    "# PC_col=[colu for colu in col if \"PC\" in colu]\n",
    "PC_col=col\n",
    "PC_col"
   ]
  },
  {
   "cell_type": "code",
   "execution_count": 16,
   "metadata": {},
   "outputs": [
    {
     "name": "stdout",
     "output_type": "stream",
     "text": [
      "Only 1 points availiable for Saint Barthelemy.\n"
     ]
    },
    {
     "data": {
      "text/html": [
       "<div>\n",
       "<style scoped>\n",
       "    .dataframe tbody tr th:only-of-type {\n",
       "        vertical-align: middle;\n",
       "    }\n",
       "\n",
       "    .dataframe tbody tr th {\n",
       "        vertical-align: top;\n",
       "    }\n",
       "\n",
       "    .dataframe thead th {\n",
       "        text-align: right;\n",
       "    }\n",
       "</style>\n",
       "<table border=\"1\" class=\"dataframe\">\n",
       "  <thead>\n",
       "    <tr style=\"text-align: right;\">\n",
       "      <th></th>\n",
       "      <th>multi-haz additive H-E CVI Risk Level</th>\n",
       "      <th>Uncertainty_Columns</th>\n",
       "      <th>Uncertainty_Columns_length</th>\n",
       "      <th>Confindence %</th>\n",
       "      <th>lon</th>\n",
       "      <th>lat</th>\n",
       "      <th>geometry</th>\n",
       "      <th>country</th>\n",
       "      <th>distance (m)</th>\n",
       "    </tr>\n",
       "  </thead>\n",
       "  <tbody>\n",
       "    <tr>\n",
       "      <th>7</th>\n",
       "      <td>2.5</td>\n",
       "      <td>[]</td>\n",
       "      <td>0</td>\n",
       "      <td>100.0</td>\n",
       "      <td>-71.869339</td>\n",
       "      <td>12.194254</td>\n",
       "      <td>POINT (-71.86934 12.19425)</td>\n",
       "      <td>Colombia</td>\n",
       "      <td>NaN</td>\n",
       "    </tr>\n",
       "    <tr>\n",
       "      <th>905</th>\n",
       "      <td>2.3</td>\n",
       "      <td>[]</td>\n",
       "      <td>0</td>\n",
       "      <td>100.0</td>\n",
       "      <td>-71.689105</td>\n",
       "      <td>12.365921</td>\n",
       "      <td>POINT (-71.68911 12.36592)</td>\n",
       "      <td>Colombia</td>\n",
       "      <td>27316.441778</td>\n",
       "    </tr>\n",
       "    <tr>\n",
       "      <th>31</th>\n",
       "      <td>2.2</td>\n",
       "      <td>[]</td>\n",
       "      <td>0</td>\n",
       "      <td>100.0</td>\n",
       "      <td>-71.957159</td>\n",
       "      <td>12.148786</td>\n",
       "      <td>POINT (-71.95716 12.14879)</td>\n",
       "      <td>Colombia</td>\n",
       "      <td>37811.393237</td>\n",
       "    </tr>\n",
       "    <tr>\n",
       "      <th>3554</th>\n",
       "      <td>2.3</td>\n",
       "      <td>[]</td>\n",
       "      <td>0</td>\n",
       "      <td>100.0</td>\n",
       "      <td>-62.730080</td>\n",
       "      <td>17.292176</td>\n",
       "      <td>POINT (-62.73008 17.29218)</td>\n",
       "      <td>Saint Kitts and Nevis</td>\n",
       "      <td>NaN</td>\n",
       "    </tr>\n",
       "    <tr>\n",
       "      <th>344</th>\n",
       "      <td>2.0</td>\n",
       "      <td>[]</td>\n",
       "      <td>0</td>\n",
       "      <td>100.0</td>\n",
       "      <td>-62.629287</td>\n",
       "      <td>17.133757</td>\n",
       "      <td>POINT (-62.62929 17.13376)</td>\n",
       "      <td>Saint Kitts and Nevis</td>\n",
       "      <td>20542.560516</td>\n",
       "    </tr>\n",
       "    <tr>\n",
       "      <th>...</th>\n",
       "      <td>...</td>\n",
       "      <td>...</td>\n",
       "      <td>...</td>\n",
       "      <td>...</td>\n",
       "      <td>...</td>\n",
       "      <td>...</td>\n",
       "      <td>...</td>\n",
       "      <td>...</td>\n",
       "      <td>...</td>\n",
       "    </tr>\n",
       "    <tr>\n",
       "      <th>35160</th>\n",
       "      <td>2.8</td>\n",
       "      <td>[]</td>\n",
       "      <td>0</td>\n",
       "      <td>100.0</td>\n",
       "      <td>-63.085786</td>\n",
       "      <td>18.073527</td>\n",
       "      <td>POINT (-63.08579 18.07353)</td>\n",
       "      <td>Anguilla</td>\n",
       "      <td>NaN</td>\n",
       "    </tr>\n",
       "    <tr>\n",
       "      <th>33598</th>\n",
       "      <td>2.8</td>\n",
       "      <td>[]</td>\n",
       "      <td>0</td>\n",
       "      <td>100.0</td>\n",
       "      <td>-62.938628</td>\n",
       "      <td>18.295401</td>\n",
       "      <td>POINT (-62.93863 18.29540)</td>\n",
       "      <td>Anguilla</td>\n",
       "      <td>29065.018577</td>\n",
       "    </tr>\n",
       "    <tr>\n",
       "      <th>35097</th>\n",
       "      <td>2.7</td>\n",
       "      <td>[]</td>\n",
       "      <td>0</td>\n",
       "      <td>100.0</td>\n",
       "      <td>-63.157614</td>\n",
       "      <td>18.161910</td>\n",
       "      <td>POINT (-63.15761 18.16191)</td>\n",
       "      <td>Anguilla</td>\n",
       "      <td>27462.098759</td>\n",
       "    </tr>\n",
       "    <tr>\n",
       "      <th>35187</th>\n",
       "      <td>3.1</td>\n",
       "      <td>[]</td>\n",
       "      <td>0</td>\n",
       "      <td>100.0</td>\n",
       "      <td>-63.099039</td>\n",
       "      <td>18.055695</td>\n",
       "      <td>POINT (-63.09904 18.05570)</td>\n",
       "      <td>Saint Martin</td>\n",
       "      <td>NaN</td>\n",
       "    </tr>\n",
       "    <tr>\n",
       "      <th>35140</th>\n",
       "      <td>2.2</td>\n",
       "      <td>[]</td>\n",
       "      <td>0</td>\n",
       "      <td>100.0</td>\n",
       "      <td>-62.971461</td>\n",
       "      <td>18.121903</td>\n",
       "      <td>POINT (-62.97146 18.12190)</td>\n",
       "      <td>Saint Martin</td>\n",
       "      <td>15358.306953</td>\n",
       "    </tr>\n",
       "  </tbody>\n",
       "</table>\n",
       "<p>80 rows × 9 columns</p>\n",
       "</div>"
      ],
      "text/plain": [
       "       multi-haz additive H-E CVI Risk Level Uncertainty_Columns  \\\n",
       "7                                        2.5                  []   \n",
       "905                                      2.3                  []   \n",
       "31                                       2.2                  []   \n",
       "3554                                     2.3                  []   \n",
       "344                                      2.0                  []   \n",
       "...                                      ...                 ...   \n",
       "35160                                    2.8                  []   \n",
       "33598                                    2.8                  []   \n",
       "35097                                    2.7                  []   \n",
       "35187                                    3.1                  []   \n",
       "35140                                    2.2                  []   \n",
       "\n",
       "       Uncertainty_Columns_length  Confindence %        lon        lat  \\\n",
       "7                               0          100.0 -71.869339  12.194254   \n",
       "905                             0          100.0 -71.689105  12.365921   \n",
       "31                              0          100.0 -71.957159  12.148786   \n",
       "3554                            0          100.0 -62.730080  17.292176   \n",
       "344                             0          100.0 -62.629287  17.133757   \n",
       "...                           ...            ...        ...        ...   \n",
       "35160                           0          100.0 -63.085786  18.073527   \n",
       "33598                           0          100.0 -62.938628  18.295401   \n",
       "35097                           0          100.0 -63.157614  18.161910   \n",
       "35187                           0          100.0 -63.099039  18.055695   \n",
       "35140                           0          100.0 -62.971461  18.121903   \n",
       "\n",
       "                         geometry                country  distance (m)  \n",
       "7      POINT (-71.86934 12.19425)               Colombia           NaN  \n",
       "905    POINT (-71.68911 12.36592)               Colombia  27316.441778  \n",
       "31     POINT (-71.95716 12.14879)               Colombia  37811.393237  \n",
       "3554   POINT (-62.73008 17.29218)  Saint Kitts and Nevis           NaN  \n",
       "344    POINT (-62.62929 17.13376)  Saint Kitts and Nevis  20542.560516  \n",
       "...                           ...                    ...           ...  \n",
       "35160  POINT (-63.08579 18.07353)               Anguilla           NaN  \n",
       "33598  POINT (-62.93863 18.29540)               Anguilla  29065.018577  \n",
       "35097  POINT (-63.15761 18.16191)               Anguilla  27462.098759  \n",
       "35187  POINT (-63.09904 18.05570)           Saint Martin           NaN  \n",
       "35140  POINT (-62.97146 18.12190)           Saint Martin  15358.306953  \n",
       "\n",
       "[80 rows x 9 columns]"
      ]
     },
     "execution_count": 16,
     "metadata": {},
     "output_type": "execute_result"
    }
   ],
   "source": [
    "min_separation_radius=10000\n",
    "hotspots_per_country=3\n",
    "\n",
    "risk_type_hotspot_points_all=[]\n",
    "for risk_type in PC_col:\n",
    "    for idx_main,country in enumerate(unique_countries):\n",
    "\n",
    "        hotspot_country=hotspot.loc[hotspot[\"country\"]==country,:].copy()\n",
    "        hotspot_country_ranked=pd.concat([hotspot_country[risk_type],hotspot_country.iloc[:,-7:]],axis=1)\n",
    "        hotspot_country_ranked = gpd.GeoDataFrame(\n",
    "            hotspot_country_ranked, geometry=gpd.points_from_xy(hotspot_country_ranked.lon, hotspot_country_ranked.lat), crs=\"EPSG:4326\"\n",
    "        )\n",
    "        hotspot_country_ranked=hotspot_country_ranked.sort_values(by=risk_type,ascending=False)\n",
    "\n",
    "        hotspot_country_ranked\n",
    "\n",
    "\n",
    "\n",
    "        hotspot_points=hotspot_country_ranked.iloc[0:1,:]\n",
    "        for idx in range(0,hotspots_per_country-1):\n",
    "\n",
    "\n",
    "            try:\n",
    "                utm_zone=utmzone_gen(hotspot_country_ranked.lat.values[0],hotspot_country_ranked.lon.values[0])\n",
    "            except IndexError as e:\n",
    "                print(f\"Only {len(hotspot_points.iloc[:,0])} points availiable for {country}.\")\n",
    "                continue\n",
    "            # Reproject to a planar CRS for accurate distance calculation\n",
    "            hotspot_country_ranked = hotspot_country_ranked.to_crs(epsg=int(utm_zone.replace(\"EPSG:\",\"\"))) \n",
    "\n",
    "            # Calculate distance from the first row to all other rows\n",
    "            first_point = hotspot_country_ranked.geometry.iloc[0]\n",
    "            hotspot_country_ranked['distance (m)'] = hotspot_country_ranked.geometry.apply(lambda x: first_point.distance(x))\n",
    "\n",
    "        # remove points within radius\n",
    "            hotspot_country_ranked=hotspot_country_ranked.loc[hotspot_country_ranked['distance (m)']>min_separation_radius,:].copy() \n",
    "        #resort\n",
    "            hotspot_country_ranked=hotspot_country_ranked.sort_values(by=risk_type,ascending=False)   \n",
    "\n",
    "            hotspot_points=pd.concat([hotspot_points.to_crs(epsg=int(utm_zone.replace(\"EPSG:\",\"\"))) ,hotspot_country_ranked.iloc[0:1,:]],axis=0)\n",
    "\n",
    "        hotspot_points\n",
    "        hotspot_points= gpd.GeoDataFrame(\n",
    "            hotspot_points, geometry=gpd.points_from_xy(hotspot_points.lon, hotspot_points.lat), crs=\"EPSG:4326\"\n",
    "        )\n",
    "        hotspot_points\n",
    "\n",
    "        if idx_main==0:\n",
    "            hotspot_points_all=hotspot_points\n",
    "        else:\n",
    "            hotspot_points_all=pd.concat([hotspot_points_all,hotspot_points],axis=0)\n",
    "\n",
    "    risk_type_hotspot_points_all.append(hotspot_points_all)\n",
    "risk_type_hotspot_points_all[0]"
   ]
  },
  {
   "cell_type": "code",
   "execution_count": 17,
   "metadata": {},
   "outputs": [
    {
     "data": {
      "text/plain": [
       "array(['Colombia', 'Colombia', 'Colombia', 'Saint Kitts and Nevis',\n",
       "       'Saint Kitts and Nevis', 'Saint Kitts and Nevis', 'Netherlands',\n",
       "       'Netherlands', 'Netherlands', 'France', 'France', 'France',\n",
       "       'Antigua and Barbuda', 'Antigua and Barbuda',\n",
       "       'Antigua and Barbuda', 'Venezuela', 'Venezuela', 'Venezuela',\n",
       "       'Montserrat', 'Montserrat', 'Curacao', 'Curacao', 'Curacao',\n",
       "       'Saint Lucia', 'Saint Lucia', 'Saint Lucia', 'Aruba', 'Aruba',\n",
       "       'Aruba', 'Barbados', 'Barbados', 'Barbados', 'Dominican Republic',\n",
       "       'Dominican Republic', 'Dominican Republic',\n",
       "       'Saint Vincent and the Grenadines',\n",
       "       'Saint Vincent and the Grenadines',\n",
       "       'Saint Vincent and the Grenadines', 'Grenada', 'Grenada',\n",
       "       'Grenada', 'Dominica', 'Dominica', 'Dominica', 'Haiti', 'Haiti',\n",
       "       'Haiti', 'Cuba', 'Cuba', 'Cuba', 'Jamaica', 'Jamaica', 'Jamaica',\n",
       "       'The Bahamas', 'The Bahamas', 'The Bahamas',\n",
       "       'Turks and Caicos Islands', 'Turks and Caicos Islands',\n",
       "       'Turks and Caicos Islands', 'United States of America',\n",
       "       'United States of America', 'United States of America',\n",
       "       'Cayman Islands', 'Cayman Islands', 'Cayman Islands',\n",
       "       'British Virgin Islands', 'British Virgin Islands',\n",
       "       'British Virgin Islands', 'Puerto Rico', 'Puerto Rico',\n",
       "       'Puerto Rico', 'United States Virgin Islands',\n",
       "       'United States Virgin Islands', 'United States Virgin Islands',\n",
       "       'Saint Barthelemy', 'Anguilla', 'Anguilla', 'Anguilla',\n",
       "       'Saint Martin', 'Saint Martin'], dtype=object)"
      ]
     },
     "execution_count": 17,
     "metadata": {},
     "output_type": "execute_result"
    }
   ],
   "source": [
    "risk_type_hotspot_points_all[0][\"country\"].values"
   ]
  },
  {
   "cell_type": "code",
   "execution_count": 18,
   "metadata": {},
   "outputs": [
    {
     "data": {
      "text/html": [
       "<div>\n",
       "<style scoped>\n",
       "    .dataframe tbody tr th:only-of-type {\n",
       "        vertical-align: middle;\n",
       "    }\n",
       "\n",
       "    .dataframe tbody tr th {\n",
       "        vertical-align: top;\n",
       "    }\n",
       "\n",
       "    .dataframe thead th {\n",
       "        text-align: right;\n",
       "    }\n",
       "</style>\n",
       "<table border=\"1\" class=\"dataframe\">\n",
       "  <thead>\n",
       "    <tr style=\"text-align: right;\">\n",
       "      <th></th>\n",
       "      <th>multi-haz additive H-E CVI Risk Level</th>\n",
       "      <th>Uncertainty_Columns</th>\n",
       "      <th>Uncertainty_Columns_length</th>\n",
       "      <th>Confindence %</th>\n",
       "      <th>lon</th>\n",
       "      <th>lat</th>\n",
       "      <th>geometry</th>\n",
       "      <th>country</th>\n",
       "      <th>distance (m)</th>\n",
       "      <th>address</th>\n",
       "    </tr>\n",
       "  </thead>\n",
       "  <tbody>\n",
       "    <tr>\n",
       "      <th>7</th>\n",
       "      <td>2.5</td>\n",
       "      <td>[]</td>\n",
       "      <td>0</td>\n",
       "      <td>100.0</td>\n",
       "      <td>-71.869339</td>\n",
       "      <td>12.194254</td>\n",
       "      <td>POINT (-71.86934 12.19425)</td>\n",
       "      <td>Colombia</td>\n",
       "      <td>NaN</td>\n",
       "      <td>Colombia</td>\n",
       "    </tr>\n",
       "    <tr>\n",
       "      <th>905</th>\n",
       "      <td>2.3</td>\n",
       "      <td>[]</td>\n",
       "      <td>0</td>\n",
       "      <td>100.0</td>\n",
       "      <td>-71.689105</td>\n",
       "      <td>12.365921</td>\n",
       "      <td>POINT (-71.68911 12.36592)</td>\n",
       "      <td>Colombia</td>\n",
       "      <td>27316.441778</td>\n",
       "      <td>Uribia, La Guajira, RAP Caribe, 440029, Colombia</td>\n",
       "    </tr>\n",
       "    <tr>\n",
       "      <th>31</th>\n",
       "      <td>2.2</td>\n",
       "      <td>[]</td>\n",
       "      <td>0</td>\n",
       "      <td>100.0</td>\n",
       "      <td>-71.957159</td>\n",
       "      <td>12.148786</td>\n",
       "      <td>POINT (-71.95716 12.14879)</td>\n",
       "      <td>Colombia</td>\n",
       "      <td>37811.393237</td>\n",
       "      <td>Uribia, La Guajira, RAP Caribe, 440029, Colombia</td>\n",
       "    </tr>\n",
       "    <tr>\n",
       "      <th>3554</th>\n",
       "      <td>2.3</td>\n",
       "      <td>[]</td>\n",
       "      <td>0</td>\n",
       "      <td>100.0</td>\n",
       "      <td>-62.730080</td>\n",
       "      <td>17.292176</td>\n",
       "      <td>POINT (-62.73008 17.29218)</td>\n",
       "      <td>Saint Kitts and Nevis</td>\n",
       "      <td>NaN</td>\n",
       "      <td>Bay Road, Irish Town, Port Zante, Brumaire, Sa...</td>\n",
       "    </tr>\n",
       "    <tr>\n",
       "      <th>344</th>\n",
       "      <td>2.0</td>\n",
       "      <td>[]</td>\n",
       "      <td>0</td>\n",
       "      <td>100.0</td>\n",
       "      <td>-62.629287</td>\n",
       "      <td>17.133757</td>\n",
       "      <td>POINT (-62.62929 17.13376)</td>\n",
       "      <td>Saint Kitts and Nevis</td>\n",
       "      <td>20542.560516</td>\n",
       "      <td>Lower Bath Road, Bath, Saint John Figtree, Nev...</td>\n",
       "    </tr>\n",
       "    <tr>\n",
       "      <th>...</th>\n",
       "      <td>...</td>\n",
       "      <td>...</td>\n",
       "      <td>...</td>\n",
       "      <td>...</td>\n",
       "      <td>...</td>\n",
       "      <td>...</td>\n",
       "      <td>...</td>\n",
       "      <td>...</td>\n",
       "      <td>...</td>\n",
       "      <td>...</td>\n",
       "    </tr>\n",
       "    <tr>\n",
       "      <th>35160</th>\n",
       "      <td>2.8</td>\n",
       "      <td>[]</td>\n",
       "      <td>0</td>\n",
       "      <td>100.0</td>\n",
       "      <td>-63.085786</td>\n",
       "      <td>18.073527</td>\n",
       "      <td>POINT (-63.08579 18.07353)</td>\n",
       "      <td>Anguilla</td>\n",
       "      <td>NaN</td>\n",
       "      <td>Boulevard du Docteur Hubert Petit, Galisbay, M...</td>\n",
       "    </tr>\n",
       "    <tr>\n",
       "      <th>33598</th>\n",
       "      <td>2.8</td>\n",
       "      <td>[]</td>\n",
       "      <td>0</td>\n",
       "      <td>100.0</td>\n",
       "      <td>-62.938628</td>\n",
       "      <td>18.295401</td>\n",
       "      <td>POINT (-62.93863 18.29540)</td>\n",
       "      <td>Anguilla</td>\n",
       "      <td>29065.018577</td>\n",
       "      <td>Gratten's Point, Anguilla</td>\n",
       "    </tr>\n",
       "    <tr>\n",
       "      <th>35097</th>\n",
       "      <td>2.7</td>\n",
       "      <td>[]</td>\n",
       "      <td>0</td>\n",
       "      <td>100.0</td>\n",
       "      <td>-63.157614</td>\n",
       "      <td>18.161910</td>\n",
       "      <td>POINT (-63.15761 18.16191)</td>\n",
       "      <td>Anguilla</td>\n",
       "      <td>27462.098759</td>\n",
       "      <td>Rupert Carty Drive, West End Village, Anguilla</td>\n",
       "    </tr>\n",
       "    <tr>\n",
       "      <th>35187</th>\n",
       "      <td>3.1</td>\n",
       "      <td>[]</td>\n",
       "      <td>0</td>\n",
       "      <td>100.0</td>\n",
       "      <td>-63.099039</td>\n",
       "      <td>18.055695</td>\n",
       "      <td>POINT (-63.09904 18.05570)</td>\n",
       "      <td>Saint Martin</td>\n",
       "      <td>NaN</td>\n",
       "      <td>Sandy Ground, Marigot, Saint-Martin (France), ...</td>\n",
       "    </tr>\n",
       "    <tr>\n",
       "      <th>35140</th>\n",
       "      <td>2.2</td>\n",
       "      <td>[]</td>\n",
       "      <td>0</td>\n",
       "      <td>100.0</td>\n",
       "      <td>-62.971461</td>\n",
       "      <td>18.121903</td>\n",
       "      <td>POINT (-62.97146 18.12190)</td>\n",
       "      <td>Saint Martin</td>\n",
       "      <td>15358.306953</td>\n",
       "      <td>Saint-Martin (France), France</td>\n",
       "    </tr>\n",
       "  </tbody>\n",
       "</table>\n",
       "<p>80 rows × 10 columns</p>\n",
       "</div>"
      ],
      "text/plain": [
       "       multi-haz additive H-E CVI Risk Level Uncertainty_Columns  \\\n",
       "7                                        2.5                  []   \n",
       "905                                      2.3                  []   \n",
       "31                                       2.2                  []   \n",
       "3554                                     2.3                  []   \n",
       "344                                      2.0                  []   \n",
       "...                                      ...                 ...   \n",
       "35160                                    2.8                  []   \n",
       "33598                                    2.8                  []   \n",
       "35097                                    2.7                  []   \n",
       "35187                                    3.1                  []   \n",
       "35140                                    2.2                  []   \n",
       "\n",
       "       Uncertainty_Columns_length  Confindence %        lon        lat  \\\n",
       "7                               0          100.0 -71.869339  12.194254   \n",
       "905                             0          100.0 -71.689105  12.365921   \n",
       "31                              0          100.0 -71.957159  12.148786   \n",
       "3554                            0          100.0 -62.730080  17.292176   \n",
       "344                             0          100.0 -62.629287  17.133757   \n",
       "...                           ...            ...        ...        ...   \n",
       "35160                           0          100.0 -63.085786  18.073527   \n",
       "33598                           0          100.0 -62.938628  18.295401   \n",
       "35097                           0          100.0 -63.157614  18.161910   \n",
       "35187                           0          100.0 -63.099039  18.055695   \n",
       "35140                           0          100.0 -62.971461  18.121903   \n",
       "\n",
       "                         geometry                country  distance (m)  \\\n",
       "7      POINT (-71.86934 12.19425)               Colombia           NaN   \n",
       "905    POINT (-71.68911 12.36592)               Colombia  27316.441778   \n",
       "31     POINT (-71.95716 12.14879)               Colombia  37811.393237   \n",
       "3554   POINT (-62.73008 17.29218)  Saint Kitts and Nevis           NaN   \n",
       "344    POINT (-62.62929 17.13376)  Saint Kitts and Nevis  20542.560516   \n",
       "...                           ...                    ...           ...   \n",
       "35160  POINT (-63.08579 18.07353)               Anguilla           NaN   \n",
       "33598  POINT (-62.93863 18.29540)               Anguilla  29065.018577   \n",
       "35097  POINT (-63.15761 18.16191)               Anguilla  27462.098759   \n",
       "35187  POINT (-63.09904 18.05570)           Saint Martin           NaN   \n",
       "35140  POINT (-62.97146 18.12190)           Saint Martin  15358.306953   \n",
       "\n",
       "                                                 address  \n",
       "7                                               Colombia  \n",
       "905     Uribia, La Guajira, RAP Caribe, 440029, Colombia  \n",
       "31      Uribia, La Guajira, RAP Caribe, 440029, Colombia  \n",
       "3554   Bay Road, Irish Town, Port Zante, Brumaire, Sa...  \n",
       "344    Lower Bath Road, Bath, Saint John Figtree, Nev...  \n",
       "...                                                  ...  \n",
       "35160  Boulevard du Docteur Hubert Petit, Galisbay, M...  \n",
       "33598                          Gratten's Point, Anguilla  \n",
       "35097     Rupert Carty Drive, West End Village, Anguilla  \n",
       "35187  Sandy Ground, Marigot, Saint-Martin (France), ...  \n",
       "35140                      Saint-Martin (France), France  \n",
       "\n",
       "[80 rows x 10 columns]"
      ]
     },
     "execution_count": 18,
     "metadata": {},
     "output_type": "execute_result"
    }
   ],
   "source": [
    "from geopy.geocoders import Nominatim\n",
    "\n",
    "def reverse_geocode(lat, lon):\n",
    "    try:\n",
    "        location = geolocator.reverse((lat, lon), exactly_one=True)\n",
    "        return location.address if location else \"Address not found\"\n",
    "    except Exception as e:\n",
    "        return str(e)\n",
    "\n",
    "for idx,hotspot_points in enumerate(risk_type_hotspot_points_all):\n",
    "\n",
    "\n",
    "\n",
    "    # Initialize the geolocator\n",
    "    geolocator = Nominatim(user_agent=\"geoapiExercises\")\n",
    "\n",
    "\n",
    "    # Apply the reverse geocoding function to each row in the DataFrame\n",
    "    risk_type_hotspot_points_all[idx]['address'] = hotspot_points.apply(\n",
    "        lambda row: reverse_geocode(row['lat'], row['lon']),\n",
    "        axis=1\n",
    "    )\n",
    "risk_type_hotspot_points_all[0]"
   ]
  },
  {
   "cell_type": "markdown",
   "metadata": {},
   "source": [
    "Creat Table sumrary"
   ]
  },
  {
   "cell_type": "code",
   "execution_count": 19,
   "metadata": {},
   "outputs": [
    {
     "data": {
      "text/html": [
       "<div>\n",
       "<style scoped>\n",
       "    .dataframe tbody tr th:only-of-type {\n",
       "        vertical-align: middle;\n",
       "    }\n",
       "\n",
       "    .dataframe tbody tr th {\n",
       "        vertical-align: top;\n",
       "    }\n",
       "\n",
       "    .dataframe thead th {\n",
       "        text-align: right;\n",
       "    }\n",
       "</style>\n",
       "<table border=\"1\" class=\"dataframe\">\n",
       "  <thead>\n",
       "    <tr style=\"text-align: right;\">\n",
       "      <th></th>\n",
       "      <th>Country Name</th>\n",
       "      <th>multi-haz additive H-E CVI Risk Level</th>\n",
       "    </tr>\n",
       "  </thead>\n",
       "  <tbody>\n",
       "    <tr>\n",
       "      <th>0</th>\n",
       "      <td>Country 1</td>\n",
       "      <td>NaN</td>\n",
       "    </tr>\n",
       "    <tr>\n",
       "      <th>1</th>\n",
       "      <td>Country 2</td>\n",
       "      <td>NaN</td>\n",
       "    </tr>\n",
       "    <tr>\n",
       "      <th>2</th>\n",
       "      <td>Country 3</td>\n",
       "      <td>NaN</td>\n",
       "    </tr>\n",
       "    <tr>\n",
       "      <th>3</th>\n",
       "      <td>Country 4</td>\n",
       "      <td>NaN</td>\n",
       "    </tr>\n",
       "    <tr>\n",
       "      <th>4</th>\n",
       "      <td>Country 5</td>\n",
       "      <td>NaN</td>\n",
       "    </tr>\n",
       "    <tr>\n",
       "      <th>5</th>\n",
       "      <td>Country 6</td>\n",
       "      <td>NaN</td>\n",
       "    </tr>\n",
       "    <tr>\n",
       "      <th>6</th>\n",
       "      <td>Country 7</td>\n",
       "      <td>NaN</td>\n",
       "    </tr>\n",
       "    <tr>\n",
       "      <th>7</th>\n",
       "      <td>Country 8</td>\n",
       "      <td>NaN</td>\n",
       "    </tr>\n",
       "    <tr>\n",
       "      <th>8</th>\n",
       "      <td>Country 9</td>\n",
       "      <td>NaN</td>\n",
       "    </tr>\n",
       "    <tr>\n",
       "      <th>9</th>\n",
       "      <td>Country 10</td>\n",
       "      <td>NaN</td>\n",
       "    </tr>\n",
       "    <tr>\n",
       "      <th>10</th>\n",
       "      <td>Country 11</td>\n",
       "      <td>NaN</td>\n",
       "    </tr>\n",
       "    <tr>\n",
       "      <th>11</th>\n",
       "      <td>Country 12</td>\n",
       "      <td>NaN</td>\n",
       "    </tr>\n",
       "    <tr>\n",
       "      <th>12</th>\n",
       "      <td>Country 13</td>\n",
       "      <td>NaN</td>\n",
       "    </tr>\n",
       "    <tr>\n",
       "      <th>13</th>\n",
       "      <td>Country 14</td>\n",
       "      <td>NaN</td>\n",
       "    </tr>\n",
       "    <tr>\n",
       "      <th>14</th>\n",
       "      <td>Country 15</td>\n",
       "      <td>NaN</td>\n",
       "    </tr>\n",
       "    <tr>\n",
       "      <th>15</th>\n",
       "      <td>Country 16</td>\n",
       "      <td>NaN</td>\n",
       "    </tr>\n",
       "    <tr>\n",
       "      <th>16</th>\n",
       "      <td>Country 17</td>\n",
       "      <td>NaN</td>\n",
       "    </tr>\n",
       "    <tr>\n",
       "      <th>17</th>\n",
       "      <td>Country 18</td>\n",
       "      <td>NaN</td>\n",
       "    </tr>\n",
       "    <tr>\n",
       "      <th>18</th>\n",
       "      <td>Country 19</td>\n",
       "      <td>NaN</td>\n",
       "    </tr>\n",
       "    <tr>\n",
       "      <th>19</th>\n",
       "      <td>Country 20</td>\n",
       "      <td>NaN</td>\n",
       "    </tr>\n",
       "    <tr>\n",
       "      <th>20</th>\n",
       "      <td>Country 21</td>\n",
       "      <td>NaN</td>\n",
       "    </tr>\n",
       "    <tr>\n",
       "      <th>21</th>\n",
       "      <td>Country 22</td>\n",
       "      <td>NaN</td>\n",
       "    </tr>\n",
       "    <tr>\n",
       "      <th>22</th>\n",
       "      <td>Country 23</td>\n",
       "      <td>NaN</td>\n",
       "    </tr>\n",
       "    <tr>\n",
       "      <th>23</th>\n",
       "      <td>Country 24</td>\n",
       "      <td>NaN</td>\n",
       "    </tr>\n",
       "    <tr>\n",
       "      <th>24</th>\n",
       "      <td>Country 25</td>\n",
       "      <td>NaN</td>\n",
       "    </tr>\n",
       "    <tr>\n",
       "      <th>25</th>\n",
       "      <td>Country 26</td>\n",
       "      <td>NaN</td>\n",
       "    </tr>\n",
       "    <tr>\n",
       "      <th>26</th>\n",
       "      <td>Country 27</td>\n",
       "      <td>NaN</td>\n",
       "    </tr>\n",
       "    <tr>\n",
       "      <th>27</th>\n",
       "      <td>Country 28</td>\n",
       "      <td>NaN</td>\n",
       "    </tr>\n",
       "    <tr>\n",
       "      <th>28</th>\n",
       "      <td>Country 29</td>\n",
       "      <td>NaN</td>\n",
       "    </tr>\n",
       "  </tbody>\n",
       "</table>\n",
       "</div>"
      ],
      "text/plain": [
       "   Country Name multi-haz additive H-E CVI Risk Level\n",
       "0     Country 1                                   NaN\n",
       "1     Country 2                                   NaN\n",
       "2     Country 3                                   NaN\n",
       "3     Country 4                                   NaN\n",
       "4     Country 5                                   NaN\n",
       "5     Country 6                                   NaN\n",
       "6     Country 7                                   NaN\n",
       "7     Country 8                                   NaN\n",
       "8     Country 9                                   NaN\n",
       "9    Country 10                                   NaN\n",
       "10   Country 11                                   NaN\n",
       "11   Country 12                                   NaN\n",
       "12   Country 13                                   NaN\n",
       "13   Country 14                                   NaN\n",
       "14   Country 15                                   NaN\n",
       "15   Country 16                                   NaN\n",
       "16   Country 17                                   NaN\n",
       "17   Country 18                                   NaN\n",
       "18   Country 19                                   NaN\n",
       "19   Country 20                                   NaN\n",
       "20   Country 21                                   NaN\n",
       "21   Country 22                                   NaN\n",
       "22   Country 23                                   NaN\n",
       "23   Country 24                                   NaN\n",
       "24   Country 25                                   NaN\n",
       "25   Country 26                                   NaN\n",
       "26   Country 27                                   NaN\n",
       "27   Country 28                                   NaN\n",
       "28   Country 29                                   NaN"
      ]
     },
     "execution_count": 19,
     "metadata": {},
     "output_type": "execute_result"
    }
   ],
   "source": [
    "#initialize the columns in the dataframe\n",
    "all_columns = ['Country Name'] + col\n",
    "hotspot_per_country_df = pd.DataFrame(columns=all_columns)\n",
    "\n",
    "\n",
    "# Create 26 rows of data\n",
    "data = [{'Country Name': f'Country {i+1}'} for i in range(len(unique_countries)+1)]\n",
    "\n",
    "# Convert list of dictionaries to DataFrame\n",
    "data_df = pd.DataFrame(data)\n",
    "\n",
    "# Concatenate the DataFrame with the data\n",
    "hotspot_per_country_df = pd.concat([hotspot_per_country_df, data_df], ignore_index=True)\n",
    "hotspot_per_country_df\n"
   ]
  },
  {
   "cell_type": "code",
   "execution_count": 20,
   "metadata": {},
   "outputs": [
    {
     "data": {
      "text/html": [
       "<div>\n",
       "<style scoped>\n",
       "    .dataframe tbody tr th:only-of-type {\n",
       "        vertical-align: middle;\n",
       "    }\n",
       "\n",
       "    .dataframe tbody tr th {\n",
       "        vertical-align: top;\n",
       "    }\n",
       "\n",
       "    .dataframe thead th {\n",
       "        text-align: right;\n",
       "    }\n",
       "</style>\n",
       "<table border=\"1\" class=\"dataframe\">\n",
       "  <thead>\n",
       "    <tr style=\"text-align: right;\">\n",
       "      <th></th>\n",
       "      <th>Country Name</th>\n",
       "      <th>multi-haz additive H-E CVI Risk Level</th>\n",
       "    </tr>\n",
       "  </thead>\n",
       "  <tbody>\n",
       "    <tr>\n",
       "      <th>0</th>\n",
       "      <td>Entire Caribbean</td>\n",
       "      <td>Crooked Island and Long Cay, The Bahamas (22.6...</td>\n",
       "    </tr>\n",
       "    <tr>\n",
       "      <th>1</th>\n",
       "      <td>Colombia</td>\n",
       "      <td>Colombia (12.19, -71.87)</td>\n",
       "    </tr>\n",
       "    <tr>\n",
       "      <th>2</th>\n",
       "      <td>Saint Kitts and Nevis</td>\n",
       "      <td>Bay Road, Irish Town, Port Zante, Brumaire, Sa...</td>\n",
       "    </tr>\n",
       "    <tr>\n",
       "      <th>3</th>\n",
       "      <td>Netherlands</td>\n",
       "      <td>Julio A Abraham Boulevard, Plaza Beach Resort,...</td>\n",
       "    </tr>\n",
       "    <tr>\n",
       "      <th>4</th>\n",
       "      <td>France</td>\n",
       "      <td>Chez Dolmare, Boulevard de l'Amitié des Peuple...</td>\n",
       "    </tr>\n",
       "    <tr>\n",
       "      <th>5</th>\n",
       "      <td>Antigua and Barbuda</td>\n",
       "      <td>Fort Road, St. John's, Saint John, Antigua, An...</td>\n",
       "    </tr>\n",
       "    <tr>\n",
       "      <th>6</th>\n",
       "      <td>Venezuela</td>\n",
       "      <td>Tiraya, Parroquia Adícora, Municipio Falcón, F...</td>\n",
       "    </tr>\n",
       "    <tr>\n",
       "      <th>7</th>\n",
       "      <td>Montserrat</td>\n",
       "      <td>Saint Anthony, Montserrat (16.68, -62.19)</td>\n",
       "    </tr>\n",
       "    <tr>\n",
       "      <th>8</th>\n",
       "      <td>Curacao</td>\n",
       "      <td>Avila Beach Hotel, 130, Penstraat, Nieuw Neder...</td>\n",
       "    </tr>\n",
       "    <tr>\n",
       "      <th>9</th>\n",
       "      <td>Saint Lucia</td>\n",
       "      <td>Castries - Vieux Fort Highway, Westall Group /...</td>\n",
       "    </tr>\n",
       "    <tr>\n",
       "      <th>10</th>\n",
       "      <td>Aruba</td>\n",
       "      <td>L.G. Smith Boulevard, Oranjestad West, Dakota,...</td>\n",
       "    </tr>\n",
       "    <tr>\n",
       "      <th>11</th>\n",
       "      <td>Barbados</td>\n",
       "      <td>The Bridgetown Fisheries Complex, Princess Ali...</td>\n",
       "    </tr>\n",
       "    <tr>\n",
       "      <th>12</th>\n",
       "      <td>Dominican Republic</td>\n",
       "      <td>Sabana de la Mar, Hato Mayor, República Domini...</td>\n",
       "    </tr>\n",
       "    <tr>\n",
       "      <th>13</th>\n",
       "      <td>Saint Vincent and the Grenadines</td>\n",
       "      <td>Kingstown, Saint George, VC0100, Saint Vincent...</td>\n",
       "    </tr>\n",
       "    <tr>\n",
       "      <th>14</th>\n",
       "      <td>Grenada</td>\n",
       "      <td>Main Street, Hillsborough, Carriacou and Petit...</td>\n",
       "    </tr>\n",
       "    <tr>\n",
       "      <th>15</th>\n",
       "      <td>Dominica</td>\n",
       "      <td>River Bank, Potters Ville, Roseau, Saint Georg...</td>\n",
       "    </tr>\n",
       "    <tr>\n",
       "      <th>16</th>\n",
       "      <td>Haiti</td>\n",
       "      <td>Sent terèz, 1re Bourdet, Commune Les Cayes, Ar...</td>\n",
       "    </tr>\n",
       "    <tr>\n",
       "      <th>17</th>\n",
       "      <td>Cuba</td>\n",
       "      <td>Punta de Cartas, San Juan y Martínez, Pinar de...</td>\n",
       "    </tr>\n",
       "    <tr>\n",
       "      <th>18</th>\n",
       "      <td>Jamaica</td>\n",
       "      <td>Sir Florizel Glaspole Boulevard, Harbour View,...</td>\n",
       "    </tr>\n",
       "    <tr>\n",
       "      <th>19</th>\n",
       "      <td>The Bahamas</td>\n",
       "      <td>Crooked Island and Long Cay, The Bahamas (22.6...</td>\n",
       "    </tr>\n",
       "    <tr>\n",
       "      <th>20</th>\n",
       "      <td>Turks and Caicos Islands</td>\n",
       "      <td>Middle Caicos, Turks and Caicos Islands (21.83...</td>\n",
       "    </tr>\n",
       "    <tr>\n",
       "      <th>21</th>\n",
       "      <td>United States of America</td>\n",
       "      <td>Florida Keys Overseas Heritage Trail, Key West...</td>\n",
       "    </tr>\n",
       "    <tr>\n",
       "      <th>22</th>\n",
       "      <td>Cayman Islands</td>\n",
       "      <td>Cruise Ship Anchor Point, Seafarers Way, Rock ...</td>\n",
       "    </tr>\n",
       "    <tr>\n",
       "      <th>23</th>\n",
       "      <td>British Virgin Islands</td>\n",
       "      <td>Road Town, Tortola, VG1110, British Virgin Isl...</td>\n",
       "    </tr>\n",
       "    <tr>\n",
       "      <th>24</th>\n",
       "      <td>Puerto Rico</td>\n",
       "      <td>Carnival CruisePort Muelle 4, Paseo Dr. Gilber...</td>\n",
       "    </tr>\n",
       "    <tr>\n",
       "      <th>25</th>\n",
       "      <td>United States Virgin Islands</td>\n",
       "      <td>Crown Bay Center Road, Charlotte Amalie West, ...</td>\n",
       "    </tr>\n",
       "    <tr>\n",
       "      <th>26</th>\n",
       "      <td>Saint Barthelemy</td>\n",
       "      <td>Vito, Route de Lorient, Camaruche, Gustavia, S...</td>\n",
       "    </tr>\n",
       "    <tr>\n",
       "      <th>27</th>\n",
       "      <td>Anguilla</td>\n",
       "      <td>Boulevard du Docteur Hubert Petit, Galisbay, M...</td>\n",
       "    </tr>\n",
       "    <tr>\n",
       "      <th>28</th>\n",
       "      <td>Saint Martin</td>\n",
       "      <td>Sandy Ground, Marigot, Saint-Martin (France), ...</td>\n",
       "    </tr>\n",
       "  </tbody>\n",
       "</table>\n",
       "</div>"
      ],
      "text/plain": [
       "                        Country Name  \\\n",
       "0                   Entire Caribbean   \n",
       "1                           Colombia   \n",
       "2              Saint Kitts and Nevis   \n",
       "3                        Netherlands   \n",
       "4                             France   \n",
       "5                Antigua and Barbuda   \n",
       "6                          Venezuela   \n",
       "7                         Montserrat   \n",
       "8                            Curacao   \n",
       "9                        Saint Lucia   \n",
       "10                             Aruba   \n",
       "11                          Barbados   \n",
       "12                Dominican Republic   \n",
       "13  Saint Vincent and the Grenadines   \n",
       "14                           Grenada   \n",
       "15                          Dominica   \n",
       "16                             Haiti   \n",
       "17                              Cuba   \n",
       "18                           Jamaica   \n",
       "19                       The Bahamas   \n",
       "20          Turks and Caicos Islands   \n",
       "21          United States of America   \n",
       "22                    Cayman Islands   \n",
       "23            British Virgin Islands   \n",
       "24                       Puerto Rico   \n",
       "25      United States Virgin Islands   \n",
       "26                  Saint Barthelemy   \n",
       "27                          Anguilla   \n",
       "28                      Saint Martin   \n",
       "\n",
       "                multi-haz additive H-E CVI Risk Level  \n",
       "0   Crooked Island and Long Cay, The Bahamas (22.6...  \n",
       "1                            Colombia (12.19, -71.87)  \n",
       "2   Bay Road, Irish Town, Port Zante, Brumaire, Sa...  \n",
       "3   Julio A Abraham Boulevard, Plaza Beach Resort,...  \n",
       "4   Chez Dolmare, Boulevard de l'Amitié des Peuple...  \n",
       "5   Fort Road, St. John's, Saint John, Antigua, An...  \n",
       "6   Tiraya, Parroquia Adícora, Municipio Falcón, F...  \n",
       "7           Saint Anthony, Montserrat (16.68, -62.19)  \n",
       "8   Avila Beach Hotel, 130, Penstraat, Nieuw Neder...  \n",
       "9   Castries - Vieux Fort Highway, Westall Group /...  \n",
       "10  L.G. Smith Boulevard, Oranjestad West, Dakota,...  \n",
       "11  The Bridgetown Fisheries Complex, Princess Ali...  \n",
       "12  Sabana de la Mar, Hato Mayor, República Domini...  \n",
       "13  Kingstown, Saint George, VC0100, Saint Vincent...  \n",
       "14  Main Street, Hillsborough, Carriacou and Petit...  \n",
       "15  River Bank, Potters Ville, Roseau, Saint Georg...  \n",
       "16  Sent terèz, 1re Bourdet, Commune Les Cayes, Ar...  \n",
       "17  Punta de Cartas, San Juan y Martínez, Pinar de...  \n",
       "18  Sir Florizel Glaspole Boulevard, Harbour View,...  \n",
       "19  Crooked Island and Long Cay, The Bahamas (22.6...  \n",
       "20  Middle Caicos, Turks and Caicos Islands (21.83...  \n",
       "21  Florida Keys Overseas Heritage Trail, Key West...  \n",
       "22  Cruise Ship Anchor Point, Seafarers Way, Rock ...  \n",
       "23  Road Town, Tortola, VG1110, British Virgin Isl...  \n",
       "24  Carnival CruisePort Muelle 4, Paseo Dr. Gilber...  \n",
       "25  Crown Bay Center Road, Charlotte Amalie West, ...  \n",
       "26  Vito, Route de Lorient, Camaruche, Gustavia, S...  \n",
       "27  Boulevard du Docteur Hubert Petit, Galisbay, M...  \n",
       "28  Sandy Ground, Marigot, Saint-Martin (France), ...  "
      ]
     },
     "execution_count": 20,
     "metadata": {},
     "output_type": "execute_result"
    }
   ],
   "source": [
    "for risk_type_hotspot_points in risk_type_hotspot_points_all:\n",
    "\n",
    "    #Identify risk type\n",
    "    risk_type=risk_type_hotspot_points.columns[0]\n",
    " #Set country name\n",
    "    hotspot_per_country_df.loc[0,\"Country Name\"]=\"Entire Caribbean\"\n",
    "\n",
    "#find max location in the caribbean\n",
    "    hotspot_country=risk_type_hotspot_points.copy()\n",
    "    hotspot_country_ranked=hotspot_country.sort_values(by=risk_type,ascending=False).copy()\n",
    "    hotspot_country_ranked.index=range(0,len(hotspot_country_ranked.index))\n",
    "\n",
    "    # hotspot_per_country_df.loc[idx,risk_type]=hotspot_country_ranked.loc[0,\"address\"] + \" \"+ str(hotspot_country_ranked.loc[0,\"geometry\"]).replace(\"POINT \",\"\")\n",
    "    hotspot_per_country_df.loc[0, risk_type] = hotspot_country_ranked.loc[0, \"address\"] + f\" ({hotspot_country_ranked.loc[0, 'lat']:.2f}, {hotspot_country_ranked.loc[0, 'lon']:.2f})\"\n",
    "\n",
    "\n",
    "\n",
    "    \n",
    "    for idx_main,country in enumerate(unique_countries):\n",
    "\n",
    "        idx=idx_main+1\n",
    "        #Set country name\n",
    "        hotspot_per_country_df.loc[idx,\"Country Name\"]=country\n",
    "\n",
    "\n",
    "\n",
    "        hotspot_country=risk_type_hotspot_points.loc[risk_type_hotspot_points[\"country\"]==country,:].copy()\n",
    "        hotspot_country_ranked=hotspot_country.sort_values(by=risk_type,ascending=False).copy()\n",
    "        hotspot_country_ranked.index=range(0,len(hotspot_country_ranked.index))\n",
    "\n",
    "        # hotspot_per_country_df.loc[idx,risk_type]=hotspot_country_ranked.loc[0,\"address\"] + \" \"+ str(hotspot_country_ranked.loc[0,\"geometry\"]).replace(\"POINT \",\"\")\n",
    "        hotspot_per_country_df.loc[idx, risk_type] = hotspot_country_ranked.loc[0, \"address\"] + f\" ({hotspot_country_ranked.loc[0, 'lat']:.2f}, {hotspot_country_ranked.loc[0, 'lon']:.2f})\"\n",
    "hotspot_per_country_df"
   ]
  },
  {
   "cell_type": "code",
   "execution_count": 21,
   "metadata": {},
   "outputs": [],
   "source": [
    "hotspot_per_country_df.to_excel(os.path.join(directory_path,f\"Locations Hotspot points per country for miltihazards.xlsx\"),index=False)"
   ]
  },
  {
   "cell_type": "code",
   "execution_count": 22,
   "metadata": {},
   "outputs": [
    {
     "data": {
      "application/vnd.plotly.v1+json": {
       "config": {
        "plotlyServerURL": "https://plot.ly"
       },
       "data": [
        {
         "hovertemplate": "<b>%{hovertext}</b><br><br>lat=%{lat}<br>lon=%{lon}<extra></extra>",
         "hovertext": [
          "Colombia",
          "Uribia, La Guajira, RAP Caribe, 440029, Colombia",
          "Uribia, La Guajira, RAP Caribe, 440029, Colombia",
          "Bay Road, Irish Town, Port Zante, Brumaire, Saint George Basseterre, Saint Kitts, Saint Kitts and Nevis",
          "Lower Bath Road, Bath, Saint John Figtree, Nevis, Saint Kitts and Nevis",
          "The Salt Ponds, Fleming Estate, Saint George Basseterre, Saint Kitts, Saint Kitts and Nevis",
          "Julio A Abraham Boulevard, Plaza Beach Resort, Kralendijk, Bonaire, Nederland, 0000 BQ, Nederland",
          "EEG Boulevard, Bonaire, Nederland",
          "Slagbaai, Bonaire, Nederland",
          "Chez Dolmare, Boulevard de l'Amitié des Peuples de la Caraïbe, Lauricisque, Pointe-à-Pitre, Guadeloupe, 97110, France",
          "N 9, Tourterelles-Nord, Fort-de-France, Martinique, 97200, France",
          "Rue Lotor, Le Moule, L'Autre Bord, Le Moule, Pointe-à-Pitre, Guadeloupe, 97160, France",
          "Fort Road, St. John's, Saint John, Antigua, Antigua and Barbuda",
          "Palmetto Point, Barbuda, Antigua and Barbuda",
          "Falmouth Harbour Marina, Dockyard Drive, English Harbour, Saint Paul, Antigua, Antigua and Barbuda",
          "Tiraya, Parroquia Adícora, Municipio Falcón, Falcón, Venezuela",
          "Parroquia Jadacaquiva, Municipio Falcón, Falcón, Venezuela",
          "Parroquia El Vínculo, Municipio Falcón, Falcón, Venezuela",
          "Saint Anthony, Montserrat",
          "Look Out, Saint Peter, Montserrat",
          "Avila Beach Hotel, 130, Penstraat, Nieuw Nederland, Berg Altena, Curaçao, 0000 NA, Nederland",
          "Fuik, Santa Barbara, Nieuwpoort, Curaçao, Nederland",
          "Coral Estate, Curaçao, Nederland",
          "Castries - Vieux Fort Highway, Westall Group / The Mangue, Vieux Fort, LC12 201, Saint Lucia",
          "Nelson Mandela Drive, City Gate, Vigie, Castries, LC04 301, Saint Lucia",
          "Laffing Fish, High Street, Rocky Lane, Athens, Dennery, LC16 101, Saint Lucia",
          "L.G. Smith Boulevard, Oranjestad West, Dakota, Oranjestad (city), Aruba, Nederland",
          "Zeewijk, San Nicolaas, Aruba, Nederland",
          "Noord overig, Aruba, Nederland",
          "The Bridgetown Fisheries Complex, Princess Alice Highway, Bridgetown, Saint Michael, BB11007, Barbados",
          "Green Garden, Goodland, Silver Sands, Christ Church, BB17121, Barbados",
          "Porters, Mount Standfast, Saint James, BB24026, Barbados",
          "Sabana de la Mar, Hato Mayor, República Dominicana",
          "Camino 2do, Arismar, Santo Domingo Este, Santo Domingo, 11705, República Dominicana",
          "N. Minaya, Nagua, María Trinidad Sánchez, República Dominicana",
          "Kingstown, Saint George, VC0100, Saint Vincent and the Grenadines",
          "Canouan Main Road, Barbruce, Charlestown, Grenadines, VC0450, Saint Vincent and the Grenadines",
          "Georgetown, Charlotte, VC0220, Saint Vincent and the Grenadines",
          "Main Street, Hillsborough, Carriacou and Petite Martinique, Grenada",
          "St. George's Hospital, Grand Etang Road, Belmont, St. George's, Saint George, Grenada",
          "Estuary Lane, Simon, Saint Andrew, Grenada",
          "River Bank, Potters Ville, Roseau, Saint George Parish, Dominica",
          "Edward Olivier Leblanc Highway, Layou, Saint Joseph Parish, Dominica",
          "Portsmouth Fisheries Complex, Pembroke Street, Portsmouth Central, Portsmouth, Saint John Parish, Dominica",
          "Sent terèz, 1re Bourdet, Commune Les Cayes, Arrondissement des Cayes, Département du Sud, Ayiti",
          "Duverni, 1re Bourry, Commune Torbeck, Arrondissement des Cayes, Département du Sud, Ayiti",
          "Petite Anse, 3e Petite Anse, Cap-Haïtien, Commune Cap-Haïtien, Arrondissement de Cap-Haïtien, Département du Nord, 1110, Ayiti",
          "Punta de Cartas, San Juan y Martínez, Pinar del Río, Cuba",
          "Boca de San Diego, Consolación del Sur, Pinar del Río, Cuba",
          "66, Surgidero de Batabanó, Batabanó, Mayabeque, Cuba",
          "Sir Florizel Glaspole Boulevard, Harbour View, Kingston, Saint Andrew, Surrey County, Jamaica",
          "3rd Street, Kingston Port Trust, Kingston, Saint Andrew, Surrey County, Jamaica",
          "Poor Mans Corner, South Haven, Saint Thomas, Surrey County, Jamaica",
          "Crooked Island and Long Cay, The Bahamas",
          "Cat Island, The Bahamas",
          "Snug Corner Settlement, Acklins, The Bahamas",
          "Middle Caicos, Turks and Caicos Islands",
          "Five Cays Road, Five Cays, Providenciales, Turks and Caicos Islands",
          "Turks and Caicos Islands",
          "Florida Keys Overseas Heritage Trail, Key West, Monroe County, Florida, 33040, United States",
          "West Indies Drive, Monroe County, Florida, 33042, United States",
          "WWFT-FM (Key West), Overseas Highway, Monroe County, Florida, United States",
          "Cruise Ship Anchor Point, Seafarers Way, Rock Hole, George Town, KY1-9000, Cayman Islands",
          "Rum Point Drive, Drift Wood Village, North Side, Cayman Islands",
          "West End Community Road, Scott Development, West End, Sister Islands, Cayman Islands",
          "Road Town, Tortola, VG1110, British Virgin Islands",
          "Anegada Road, Anegada, British Virgin Islands",
          "The Settlement, Anegada, British Virgin Islands",
          "Carnival CruisePort Muelle 4, Paseo Dr. Gilberto Concepción de Gracia, La Perla, Viejo San Juan, San Juan, Puerto Rico, 00901, United States",
          "Boulevard del Carmen / Calle Heyliger, El Seco, Barrio Pueblo, Mayagüez, Puerto Rico, 00709, United States",
          "Calle Padre Rexach, García, Barrio Pueblo, Arecibo, Puerto Rico, 00613, United States",
          "Crown Bay Center Road, Charlotte Amalie West, Charlotte Amalie, Saint Thomas - Saint John District, United States Virgin Islands, 00803, United States",
          "Limetree Bay refinery, Saint Croix District, United States Virgin Islands, 00823, United States",
          "Veterans Shore Drive, Frederiksted, Saint Croix District, United States Virgin Islands, 00870, United States",
          "Vito, Route de Lorient, Camaruche, Gustavia, Saint-Barthélemy, 97133, France",
          "Boulevard du Docteur Hubert Petit, Galisbay, Marigot, Saint-Martin (France), 97150, France",
          "Gratten's Point, Anguilla",
          "Rupert Carty Drive, West End Village, Anguilla",
          "Sandy Ground, Marigot, Saint-Martin (France), 97150, France",
          "Saint-Martin (France), France"
         ],
         "lat": [
          12.194253624100002,
          12.3659213702,
          12.1487859905,
          17.292176018299998,
          17.1337573476,
          17.254918511099998,
          12.1390884531,
          12.0408054784,
          12.2563804661,
          16.2500058347,
          14.5930527105,
          16.3343281317,
          17.1424153155,
          17.5875345278,
          17.0132818641,
          12.0386769274,
          12.0685002515,
          12.1782797507,
          16.6781538048,
          16.790117224,
          12.099275595,
          12.055323744,
          12.1952036833,
          13.7291210664,
          14.0252497846,
          13.9107712298,
          12.5157053944,
          12.4326489073,
          12.6104365703,
          13.0974190755,
          13.0478072245,
          13.1990429061,
          19.0999282152,
          18.4658358601,
          19.376132385,
          13.1532293051,
          12.7050558236,
          13.2882258928,
          12.485191012,
          12.0463064746,
          12.1396010553,
          15.3016704604,
          15.3970109154,
          15.5760225949,
          18.1833098442,
          18.1172934107,
          19.7419751558,
          22.1696165997,
          22.3284147214,
          22.684007845,
          17.950590799,
          17.980053096,
          17.8712850416,
          22.6771209481,
          24.2001201066,
          22.5822890313,
          21.8289324165,
          21.7619724743,
          21.8457222513,
          24.572950590300003,
          24.6602032842,
          24.6515770468,
          19.297123663,
          19.3589535334,
          19.6908166881,
          18.423599235,
          18.7304109778,
          18.7111710496,
          18.4606377833,
          18.2088234245,
          18.4754515874,
          18.3312691648,
          17.695940041,
          17.707960575599998,
          17.908515546500002,
          18.0735269558,
          18.295400952,
          18.1619101398,
          18.0556952514,
          18.121903173
         ],
         "legendgroup": "",
         "lon": [
          -71.8693391273,
          -71.6891051183,
          -71.957158882,
          -62.7300795119,
          -62.6292866676,
          -62.64121185760001,
          -68.2790208608,
          -68.2287676713,
          -68.415183239,
          -61.547582702,
          -61.050240326,
          -61.3455713329,
          -61.8581352087,
          -61.8437845844,
          -61.7712750383,
          -69.8507404749,
          -70.2129698145,
          -70.0518983789,
          -62.1913223367,
          -62.1753569632,
          -68.92425665,
          -68.8358297811,
          -69.0741454313,
          -60.94202166220001,
          -60.9853264563,
          -60.8879627469,
          -70.037175605,
          -69.9167182149,
          -70.0374158779,
          -59.6215816906,
          -59.52342444399999,
          -59.6408287729,
          -69.4119705249,
          -69.81546033020001,
          -69.84284873520001,
          -61.2306146555,
          -61.3310017119,
          -61.1171861149,
          -61.4602515019,
          -61.7527054149,
          -61.6087121732,
          -61.3875819882,
          -61.4239091164,
          -61.4586687037,
          -73.7583778953,
          -73.84164130890001,
          -72.1809537214,
          -83.8539400085,
          -83.2771969463,
          -82.2937397531,
          -76.7211122786,
          -76.8268542183,
          -76.5951246832,
          -74.1815208033,
          -75.4229320955,
          -73.91157280899999,
          -71.84709229479999,
          -72.2573936548,
          -71.9472593631,
          -81.75665291840001,
          -81.4020668766,
          -81.5347003717,
          -81.3861563617,
          -81.2539409635,
          -79.88494523199999,
          -64.6146789264,
          -64.4021993241,
          -64.2784540495,
          -66.1094974948,
          -67.15606844770001,
          -66.73400330369999,
          -64.9552555432,
          -64.7563026999,
          -64.88478072470001,
          -62.825281952,
          -63.08578579010001,
          -62.9386278889,
          -63.1576144624,
          -63.0990391081,
          -62.9714614697
         ],
         "marker": {
          "color": "red",
          "size": 10
         },
         "mode": "markers",
         "name": "",
         "showlegend": false,
         "subplot": "mapbox",
         "type": "scattermapbox"
        },
        {
         "hovertemplate": "<b>%{hovertext}</b><br><br>lat=%{lat}<br>lon=%{lon}<extra></extra>",
         "hovertext": [
          "Crooked Island and Long Cay, The Bahamas",
          "Cat Island, The Bahamas",
          "Punta de Cartas, San Juan y Martínez, Pinar del Río, Cuba"
         ],
         "lat": [
          22.6771209481,
          24.2001201066,
          22.1696165997
         ],
         "legendgroup": "",
         "lon": [
          -74.1815208033,
          -75.4229320955,
          -83.8539400085
         ],
         "marker": {
          "color": "magenta",
          "size": 10
         },
         "mode": "markers",
         "name": "",
         "showlegend": false,
         "subplot": "mapbox",
         "type": "scattermapbox"
        }
       ],
       "layout": {
        "height": 1200,
        "legend": {
         "tracegroupgap": 0
        },
        "mapbox": {
         "center": {
          "lat": 19.1,
          "lon": -72.3
         },
         "domain": {
          "x": [
           0,
           1
          ],
          "y": [
           0,
           1
          ]
         },
         "layers": [
          {
           "below": "traces",
           "source": [
            "https://services.arcgisonline.com/arcgis/rest/services/World_Imagery/MapServer/tile/{z}/{y}/{x}"
           ],
           "sourceattribution": "ESRI World Imagery",
           "sourcetype": "raster"
          }
         ],
         "style": "carto-positron",
         "zoom": 5.6
        },
        "margin": {
         "t": 60
        },
        "template": {
         "data": {
          "bar": [
           {
            "error_x": {
             "color": "#2a3f5f"
            },
            "error_y": {
             "color": "#2a3f5f"
            },
            "marker": {
             "line": {
              "color": "#E5ECF6",
              "width": 0.5
             },
             "pattern": {
              "fillmode": "overlay",
              "size": 10,
              "solidity": 0.2
             }
            },
            "type": "bar"
           }
          ],
          "barpolar": [
           {
            "marker": {
             "line": {
              "color": "#E5ECF6",
              "width": 0.5
             },
             "pattern": {
              "fillmode": "overlay",
              "size": 10,
              "solidity": 0.2
             }
            },
            "type": "barpolar"
           }
          ],
          "carpet": [
           {
            "aaxis": {
             "endlinecolor": "#2a3f5f",
             "gridcolor": "white",
             "linecolor": "white",
             "minorgridcolor": "white",
             "startlinecolor": "#2a3f5f"
            },
            "baxis": {
             "endlinecolor": "#2a3f5f",
             "gridcolor": "white",
             "linecolor": "white",
             "minorgridcolor": "white",
             "startlinecolor": "#2a3f5f"
            },
            "type": "carpet"
           }
          ],
          "choropleth": [
           {
            "colorbar": {
             "outlinewidth": 0,
             "ticks": ""
            },
            "type": "choropleth"
           }
          ],
          "contour": [
           {
            "colorbar": {
             "outlinewidth": 0,
             "ticks": ""
            },
            "colorscale": [
             [
              0,
              "#0d0887"
             ],
             [
              0.1111111111111111,
              "#46039f"
             ],
             [
              0.2222222222222222,
              "#7201a8"
             ],
             [
              0.3333333333333333,
              "#9c179e"
             ],
             [
              0.4444444444444444,
              "#bd3786"
             ],
             [
              0.5555555555555556,
              "#d8576b"
             ],
             [
              0.6666666666666666,
              "#ed7953"
             ],
             [
              0.7777777777777778,
              "#fb9f3a"
             ],
             [
              0.8888888888888888,
              "#fdca26"
             ],
             [
              1,
              "#f0f921"
             ]
            ],
            "type": "contour"
           }
          ],
          "contourcarpet": [
           {
            "colorbar": {
             "outlinewidth": 0,
             "ticks": ""
            },
            "type": "contourcarpet"
           }
          ],
          "heatmap": [
           {
            "colorbar": {
             "outlinewidth": 0,
             "ticks": ""
            },
            "colorscale": [
             [
              0,
              "#0d0887"
             ],
             [
              0.1111111111111111,
              "#46039f"
             ],
             [
              0.2222222222222222,
              "#7201a8"
             ],
             [
              0.3333333333333333,
              "#9c179e"
             ],
             [
              0.4444444444444444,
              "#bd3786"
             ],
             [
              0.5555555555555556,
              "#d8576b"
             ],
             [
              0.6666666666666666,
              "#ed7953"
             ],
             [
              0.7777777777777778,
              "#fb9f3a"
             ],
             [
              0.8888888888888888,
              "#fdca26"
             ],
             [
              1,
              "#f0f921"
             ]
            ],
            "type": "heatmap"
           }
          ],
          "heatmapgl": [
           {
            "colorbar": {
             "outlinewidth": 0,
             "ticks": ""
            },
            "colorscale": [
             [
              0,
              "#0d0887"
             ],
             [
              0.1111111111111111,
              "#46039f"
             ],
             [
              0.2222222222222222,
              "#7201a8"
             ],
             [
              0.3333333333333333,
              "#9c179e"
             ],
             [
              0.4444444444444444,
              "#bd3786"
             ],
             [
              0.5555555555555556,
              "#d8576b"
             ],
             [
              0.6666666666666666,
              "#ed7953"
             ],
             [
              0.7777777777777778,
              "#fb9f3a"
             ],
             [
              0.8888888888888888,
              "#fdca26"
             ],
             [
              1,
              "#f0f921"
             ]
            ],
            "type": "heatmapgl"
           }
          ],
          "histogram": [
           {
            "marker": {
             "pattern": {
              "fillmode": "overlay",
              "size": 10,
              "solidity": 0.2
             }
            },
            "type": "histogram"
           }
          ],
          "histogram2d": [
           {
            "colorbar": {
             "outlinewidth": 0,
             "ticks": ""
            },
            "colorscale": [
             [
              0,
              "#0d0887"
             ],
             [
              0.1111111111111111,
              "#46039f"
             ],
             [
              0.2222222222222222,
              "#7201a8"
             ],
             [
              0.3333333333333333,
              "#9c179e"
             ],
             [
              0.4444444444444444,
              "#bd3786"
             ],
             [
              0.5555555555555556,
              "#d8576b"
             ],
             [
              0.6666666666666666,
              "#ed7953"
             ],
             [
              0.7777777777777778,
              "#fb9f3a"
             ],
             [
              0.8888888888888888,
              "#fdca26"
             ],
             [
              1,
              "#f0f921"
             ]
            ],
            "type": "histogram2d"
           }
          ],
          "histogram2dcontour": [
           {
            "colorbar": {
             "outlinewidth": 0,
             "ticks": ""
            },
            "colorscale": [
             [
              0,
              "#0d0887"
             ],
             [
              0.1111111111111111,
              "#46039f"
             ],
             [
              0.2222222222222222,
              "#7201a8"
             ],
             [
              0.3333333333333333,
              "#9c179e"
             ],
             [
              0.4444444444444444,
              "#bd3786"
             ],
             [
              0.5555555555555556,
              "#d8576b"
             ],
             [
              0.6666666666666666,
              "#ed7953"
             ],
             [
              0.7777777777777778,
              "#fb9f3a"
             ],
             [
              0.8888888888888888,
              "#fdca26"
             ],
             [
              1,
              "#f0f921"
             ]
            ],
            "type": "histogram2dcontour"
           }
          ],
          "mesh3d": [
           {
            "colorbar": {
             "outlinewidth": 0,
             "ticks": ""
            },
            "type": "mesh3d"
           }
          ],
          "parcoords": [
           {
            "line": {
             "colorbar": {
              "outlinewidth": 0,
              "ticks": ""
             }
            },
            "type": "parcoords"
           }
          ],
          "pie": [
           {
            "automargin": true,
            "type": "pie"
           }
          ],
          "scatter": [
           {
            "fillpattern": {
             "fillmode": "overlay",
             "size": 10,
             "solidity": 0.2
            },
            "type": "scatter"
           }
          ],
          "scatter3d": [
           {
            "line": {
             "colorbar": {
              "outlinewidth": 0,
              "ticks": ""
             }
            },
            "marker": {
             "colorbar": {
              "outlinewidth": 0,
              "ticks": ""
             }
            },
            "type": "scatter3d"
           }
          ],
          "scattercarpet": [
           {
            "marker": {
             "colorbar": {
              "outlinewidth": 0,
              "ticks": ""
             }
            },
            "type": "scattercarpet"
           }
          ],
          "scattergeo": [
           {
            "marker": {
             "colorbar": {
              "outlinewidth": 0,
              "ticks": ""
             }
            },
            "type": "scattergeo"
           }
          ],
          "scattergl": [
           {
            "marker": {
             "colorbar": {
              "outlinewidth": 0,
              "ticks": ""
             }
            },
            "type": "scattergl"
           }
          ],
          "scattermapbox": [
           {
            "marker": {
             "colorbar": {
              "outlinewidth": 0,
              "ticks": ""
             }
            },
            "type": "scattermapbox"
           }
          ],
          "scatterpolar": [
           {
            "marker": {
             "colorbar": {
              "outlinewidth": 0,
              "ticks": ""
             }
            },
            "type": "scatterpolar"
           }
          ],
          "scatterpolargl": [
           {
            "marker": {
             "colorbar": {
              "outlinewidth": 0,
              "ticks": ""
             }
            },
            "type": "scatterpolargl"
           }
          ],
          "scatterternary": [
           {
            "marker": {
             "colorbar": {
              "outlinewidth": 0,
              "ticks": ""
             }
            },
            "type": "scatterternary"
           }
          ],
          "surface": [
           {
            "colorbar": {
             "outlinewidth": 0,
             "ticks": ""
            },
            "colorscale": [
             [
              0,
              "#0d0887"
             ],
             [
              0.1111111111111111,
              "#46039f"
             ],
             [
              0.2222222222222222,
              "#7201a8"
             ],
             [
              0.3333333333333333,
              "#9c179e"
             ],
             [
              0.4444444444444444,
              "#bd3786"
             ],
             [
              0.5555555555555556,
              "#d8576b"
             ],
             [
              0.6666666666666666,
              "#ed7953"
             ],
             [
              0.7777777777777778,
              "#fb9f3a"
             ],
             [
              0.8888888888888888,
              "#fdca26"
             ],
             [
              1,
              "#f0f921"
             ]
            ],
            "type": "surface"
           }
          ],
          "table": [
           {
            "cells": {
             "fill": {
              "color": "#EBF0F8"
             },
             "line": {
              "color": "white"
             }
            },
            "header": {
             "fill": {
              "color": "#C8D4E3"
             },
             "line": {
              "color": "white"
             }
            },
            "type": "table"
           }
          ]
         },
         "layout": {
          "annotationdefaults": {
           "arrowcolor": "#2a3f5f",
           "arrowhead": 0,
           "arrowwidth": 1
          },
          "autotypenumbers": "strict",
          "coloraxis": {
           "colorbar": {
            "outlinewidth": 0,
            "ticks": ""
           }
          },
          "colorscale": {
           "diverging": [
            [
             0,
             "#8e0152"
            ],
            [
             0.1,
             "#c51b7d"
            ],
            [
             0.2,
             "#de77ae"
            ],
            [
             0.3,
             "#f1b6da"
            ],
            [
             0.4,
             "#fde0ef"
            ],
            [
             0.5,
             "#f7f7f7"
            ],
            [
             0.6,
             "#e6f5d0"
            ],
            [
             0.7,
             "#b8e186"
            ],
            [
             0.8,
             "#7fbc41"
            ],
            [
             0.9,
             "#4d9221"
            ],
            [
             1,
             "#276419"
            ]
           ],
           "sequential": [
            [
             0,
             "#0d0887"
            ],
            [
             0.1111111111111111,
             "#46039f"
            ],
            [
             0.2222222222222222,
             "#7201a8"
            ],
            [
             0.3333333333333333,
             "#9c179e"
            ],
            [
             0.4444444444444444,
             "#bd3786"
            ],
            [
             0.5555555555555556,
             "#d8576b"
            ],
            [
             0.6666666666666666,
             "#ed7953"
            ],
            [
             0.7777777777777778,
             "#fb9f3a"
            ],
            [
             0.8888888888888888,
             "#fdca26"
            ],
            [
             1,
             "#f0f921"
            ]
           ],
           "sequentialminus": [
            [
             0,
             "#0d0887"
            ],
            [
             0.1111111111111111,
             "#46039f"
            ],
            [
             0.2222222222222222,
             "#7201a8"
            ],
            [
             0.3333333333333333,
             "#9c179e"
            ],
            [
             0.4444444444444444,
             "#bd3786"
            ],
            [
             0.5555555555555556,
             "#d8576b"
            ],
            [
             0.6666666666666666,
             "#ed7953"
            ],
            [
             0.7777777777777778,
             "#fb9f3a"
            ],
            [
             0.8888888888888888,
             "#fdca26"
            ],
            [
             1,
             "#f0f921"
            ]
           ]
          },
          "colorway": [
           "#636efa",
           "#EF553B",
           "#00cc96",
           "#ab63fa",
           "#FFA15A",
           "#19d3f3",
           "#FF6692",
           "#B6E880",
           "#FF97FF",
           "#FECB52"
          ],
          "font": {
           "color": "#2a3f5f"
          },
          "geo": {
           "bgcolor": "white",
           "lakecolor": "white",
           "landcolor": "#E5ECF6",
           "showlakes": true,
           "showland": true,
           "subunitcolor": "white"
          },
          "hoverlabel": {
           "align": "left"
          },
          "hovermode": "closest",
          "mapbox": {
           "style": "light"
          },
          "paper_bgcolor": "white",
          "plot_bgcolor": "#E5ECF6",
          "polar": {
           "angularaxis": {
            "gridcolor": "white",
            "linecolor": "white",
            "ticks": ""
           },
           "bgcolor": "#E5ECF6",
           "radialaxis": {
            "gridcolor": "white",
            "linecolor": "white",
            "ticks": ""
           }
          },
          "scene": {
           "xaxis": {
            "backgroundcolor": "#E5ECF6",
            "gridcolor": "white",
            "gridwidth": 2,
            "linecolor": "white",
            "showbackground": true,
            "ticks": "",
            "zerolinecolor": "white"
           },
           "yaxis": {
            "backgroundcolor": "#E5ECF6",
            "gridcolor": "white",
            "gridwidth": 2,
            "linecolor": "white",
            "showbackground": true,
            "ticks": "",
            "zerolinecolor": "white"
           },
           "zaxis": {
            "backgroundcolor": "#E5ECF6",
            "gridcolor": "white",
            "gridwidth": 2,
            "linecolor": "white",
            "showbackground": true,
            "ticks": "",
            "zerolinecolor": "white"
           }
          },
          "shapedefaults": {
           "line": {
            "color": "#2a3f5f"
           }
          },
          "ternary": {
           "aaxis": {
            "gridcolor": "white",
            "linecolor": "white",
            "ticks": ""
           },
           "baxis": {
            "gridcolor": "white",
            "linecolor": "white",
            "ticks": ""
           },
           "bgcolor": "#E5ECF6",
           "caxis": {
            "gridcolor": "white",
            "linecolor": "white",
            "ticks": ""
           }
          },
          "title": {
           "x": 0.05
          },
          "xaxis": {
           "automargin": true,
           "gridcolor": "white",
           "linecolor": "white",
           "ticks": "",
           "title": {
            "standoff": 15
           },
           "zerolinecolor": "white",
           "zerolinewidth": 2
          },
          "yaxis": {
           "automargin": true,
           "gridcolor": "white",
           "linecolor": "white",
           "ticks": "",
           "title": {
            "standoff": 15
           },
           "zerolinecolor": "white",
           "zerolinewidth": 2
          }
         }
        },
        "title": {
         "font": {
          "size": 14
         },
         "text": "multi-haz additive H-E CVI Risk Level Hotspot Distribution along Caribbean's shoreline",
         "x": 0.5,
         "xanchor": "center"
        },
        "width": 2000
       }
      }
     },
     "metadata": {},
     "output_type": "display_data"
    }
   ],
   "source": [
    "\n",
    "\n",
    "\n",
    "for idx,hotspot_points in enumerate(risk_type_hotspot_points_all):\n",
    "\n",
    "    \n",
    "\n",
    "    import plotly.express as px\n",
    "    import plotly.io as pio\n",
    "    import numpy as np\n",
    "    import os\n",
    "\n",
    "    gornitz_ESL_filled_gdf=hotspot_points\n",
    "\n",
    "    long_name = gornitz_ESL_filled_gdf.columns[0]\n",
    "    print_val=long_name.replace(\"_\",\" \")\n",
    "#Save CSVs\n",
    "    hotspot_points.to_csv(os.path.join(directory_path,f\"{print_val} Hotspot points.csv\"),index=False)\n",
    "\n",
    "\n",
    "    lat = 18.1\n",
    "    lon = -76.3\n",
    "    view_width = 10\n",
    "\n",
    "\n",
    "\n",
    "    gornitz_ESL_filled_gdf=hotspot_points\n",
    "   \n",
    "\n",
    "\n",
    "    # Create scatter map plot\n",
    "    fig2 = px.scatter_mapbox(gornitz_ESL_filled_gdf.sort_values(by=long_name,ascending=False).iloc[0:3,:] ,\n",
    "                                    lat=\"lat\",\n",
    "                                    lon=\"lon\",\n",
    "                                    hover_name=\"address\",\n",
    "                                    color_discrete_sequence=[\"magenta\"],\n",
    "                                    width=2000,\n",
    "                                    height=1200)\n",
    "\n",
    "    fig = px.scatter_mapbox(gornitz_ESL_filled_gdf,\n",
    "                                    lat=\"lat\",\n",
    "                                    lon=\"lon\",\n",
    "                                    hover_name=\"address\",\n",
    "                                    color_discrete_sequence=[\"red\"],\n",
    "                                    width=2000,\n",
    "                                    height=1200)\n",
    "\n",
    "        # Add traces from fig2 to fig\n",
    "    for trace in fig2.data:\n",
    "        fig.add_trace(trace)\n",
    "\n",
    "    fig.update_layout(\n",
    "        mapbox=dict(center=dict(lat=lat + 1, lon=lon + 4), zoom=5.6),\n",
    "        title=dict(\n",
    "            text=f\"{print_val} Hotspot Distribution along Caribbean's shoreline\",\n",
    "            font=dict(size=14),\n",
    "            x=0.5,  # Centers the title\n",
    "            xanchor='center'  # Aligns the title in the center\n",
    "        )\n",
    "    )\n",
    "\n",
    "    \n",
    "    fig.update_traces(marker=dict(size=10))\n",
    "\n",
    "\n",
    "    fig.update_layout(\n",
    "        mapbox_style=\"carto-positron\",\n",
    "        mapbox_layers=[\n",
    "            {\n",
    "                \"below\": 'traces',\n",
    "                \"sourcetype\": \"raster\",\n",
    "                \"sourceattribution\": \"ESRI World Imagery\",\n",
    "                \"source\": [\n",
    "                    \"https://services.arcgisonline.com/arcgis/rest/services/World_Imagery/MapServer/tile/{z}/{y}/{x}\"\n",
    "                ]\n",
    "            },\n",
    "            # {\n",
    "            #     \"below\": 'traces',\n",
    "            #     \"sourcetype\": \"raster\",\n",
    "            #     \"sourceattribution\": \"Google Maps\",\n",
    "            #     \"source\": [\n",
    "            #         \"http://mt0.google.com/vt/lyrs=s&hl=en&x={x}&y={y}&z={z}\"\n",
    "            #     ]\n",
    "            # },\n",
    "            # {\n",
    "            #     \"below\": 'traces',\n",
    "            #     \"sourcetype\": \"raster\",\n",
    "            #     \"sourceattribution\": \"United States Geological Survey\",\n",
    "            #     \"source\": [\n",
    "            #         \"https://basemap.nationalmap.gov/arcgis/rest/services/USGSImageryOnly/MapServer/tile/{z}/{y}/{x}\"\n",
    "            #     ]\n",
    "            # },\n",
    "            # {\n",
    "            #     \"below\": 'traces',\n",
    "            #     \"sourcetype\": \"raster\",\n",
    "            #     \"sourceattribution\": \"Bing Maps Satellite Imagery\",\n",
    "            #     \"source\": [\n",
    "            #         \"https://t0.tiles.virtualearth.net/tiles/a{q}.jpeg?g=685&mkt=en-us&n=z\"\n",
    "            #     ]\n",
    "            # },\n",
    "        \n",
    "\n",
    "        ]\n",
    "        )\n",
    "\n",
    "\n",
    "\n",
    "\n",
    "    # # Save the figure\n",
    "    fig_name_shoreline = f\"{print_val} Hotspot points.png\"\n",
    "    pio.write_image(fig, os.path.join(img_directory_path, fig_name_shoreline))\n",
    "\n",
    "    # Show the figure\n",
    "    fig.show()"
   ]
  }
 ],
 "metadata": {
  "kernelspec": {
   "display_name": "Python 3",
   "language": "python",
   "name": "python3"
  },
  "language_info": {
   "codemirror_mode": {
    "name": "ipython",
    "version": 3
   },
   "file_extension": ".py",
   "mimetype": "text/x-python",
   "name": "python",
   "nbconvert_exporter": "python",
   "pygments_lexer": "ipython3",
   "version": "3.11.7"
  }
 },
 "nbformat": 4,
 "nbformat_minor": 2
}
