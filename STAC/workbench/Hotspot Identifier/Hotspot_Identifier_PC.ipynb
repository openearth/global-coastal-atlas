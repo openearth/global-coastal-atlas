{
 "cells": [
  {
   "cell_type": "code",
   "execution_count": null,
   "metadata": {},
   "outputs": [],
   "source": []
  },
  {
   "cell_type": "code",
   "execution_count": 120,
   "metadata": {},
   "outputs": [],
   "source": [
    "import xarray as xr\n",
    "import geopandas as gpd\n",
    "import pandas as pd\n",
    "import utm\n",
    "\n"
   ]
  },
  {
   "cell_type": "code",
   "execution_count": 121,
   "metadata": {},
   "outputs": [],
   "source": [
    "def utmzone_gen(lat,lon):\n",
    "    utm_zone = utm.from_latlon(lat, lon)\n",
    "    utm_zone\n",
    "    if lat>=0:\n",
    "        transform = f\"EPSG:326{utm_zone[2]}\"\n",
    "    else:\n",
    "        transform = f\"EPSG:327{utm_zone[2]}\"\n",
    "    return transform"
   ]
  },
  {
   "cell_type": "code",
   "execution_count": 122,
   "metadata": {},
   "outputs": [
    {
     "data": {
      "text/html": [
       "<div>\n",
       "<style scoped>\n",
       "    .dataframe tbody tr th:only-of-type {\n",
       "        vertical-align: middle;\n",
       "    }\n",
       "\n",
       "    .dataframe tbody tr th {\n",
       "        vertical-align: top;\n",
       "    }\n",
       "\n",
       "    .dataframe thead th {\n",
       "        text-align: right;\n",
       "    }\n",
       "</style>\n",
       "<table border=\"1\" class=\"dataframe\">\n",
       "  <thead>\n",
       "    <tr style=\"text-align: right;\">\n",
       "      <th></th>\n",
       "      <th>Cat3_Hurricane_Return_Period_PC_PC___Hazard_Level</th>\n",
       "      <th>Cat3_Hurricane_Return_Period_PC_PC___Risk_Level</th>\n",
       "      <th>Cat3_Hurricane_Return_Period_PC_PC___Risk_Level_Class</th>\n",
       "      <th>Cat3_Hurricane_Return_Period_PC_PC_value</th>\n",
       "      <th>Cat3_TC_Return_Period_FC_2050_8_5___Hazard_Level</th>\n",
       "      <th>Cat3_TC_Return_Period_FC_2050_8_5___Risk_Level</th>\n",
       "      <th>Cat3_TC_Return_Period_FC_2050_8_5___Risk_Level_Class</th>\n",
       "      <th>Cat3_TC_Return_Period_FC_2050_8_5_value</th>\n",
       "      <th>Cat3_TC_Return_Period_FC_2100_4_5___Hazard_Level</th>\n",
       "      <th>Cat3_TC_Return_Period_FC_2100_4_5___Risk_Level</th>\n",
       "      <th>...</th>\n",
       "      <th>Uncertainty_Columns</th>\n",
       "      <th>Uncertainty_Columns_length</th>\n",
       "      <th>World_Protected_Areas_Status_and_Governance___Vulnerability_level</th>\n",
       "      <th>continent</th>\n",
       "      <th>country</th>\n",
       "      <th>country_id</th>\n",
       "      <th>lat</th>\n",
       "      <th>lon</th>\n",
       "      <th>transect_id</th>\n",
       "      <th>geometry</th>\n",
       "    </tr>\n",
       "    <tr>\n",
       "      <th>nstations</th>\n",
       "      <th></th>\n",
       "      <th></th>\n",
       "      <th></th>\n",
       "      <th></th>\n",
       "      <th></th>\n",
       "      <th></th>\n",
       "      <th></th>\n",
       "      <th></th>\n",
       "      <th></th>\n",
       "      <th></th>\n",
       "      <th></th>\n",
       "      <th></th>\n",
       "      <th></th>\n",
       "      <th></th>\n",
       "      <th></th>\n",
       "      <th></th>\n",
       "      <th></th>\n",
       "      <th></th>\n",
       "      <th></th>\n",
       "      <th></th>\n",
       "      <th></th>\n",
       "    </tr>\n",
       "  </thead>\n",
       "  <tbody>\n",
       "    <tr>\n",
       "      <th>0</th>\n",
       "      <td>3</td>\n",
       "      <td>2.266827</td>\n",
       "      <td>4.0</td>\n",
       "      <td>Cat3_Hurricane_Return_Period_PC_percentile 7.0...</td>\n",
       "      <td>5</td>\n",
       "      <td>2.933493</td>\n",
       "      <td>5.0</td>\n",
       "      <td>Cat3_TC_Return_Period_FC_2050_8_5 4.78years</td>\n",
       "      <td>2</td>\n",
       "      <td>1.933493</td>\n",
       "      <td>...</td>\n",
       "      <td></td>\n",
       "      <td>0</td>\n",
       "      <td>3</td>\n",
       "      <td>South America</td>\n",
       "      <td>Colombia</td>\n",
       "      <td>COL</td>\n",
       "      <td>12.250684</td>\n",
       "      <td>-71.879805</td>\n",
       "      <td>BOX_116_353_2</td>\n",
       "      <td>POINT (-71.87980 12.25068)</td>\n",
       "    </tr>\n",
       "    <tr>\n",
       "      <th>1</th>\n",
       "      <td>3</td>\n",
       "      <td>2.266791</td>\n",
       "      <td>4.0</td>\n",
       "      <td>Cat3_Hurricane_Return_Period_PC_percentile 7.0...</td>\n",
       "      <td>5</td>\n",
       "      <td>2.933458</td>\n",
       "      <td>5.0</td>\n",
       "      <td>Cat3_TC_Return_Period_FC_2050_8_5 4.78years</td>\n",
       "      <td>2</td>\n",
       "      <td>1.933458</td>\n",
       "      <td>...</td>\n",
       "      <td></td>\n",
       "      <td>0</td>\n",
       "      <td>3</td>\n",
       "      <td>South America</td>\n",
       "      <td>Colombia</td>\n",
       "      <td>COL</td>\n",
       "      <td>12.247308</td>\n",
       "      <td>-71.876981</td>\n",
       "      <td>BOX_116_353_3</td>\n",
       "      <td>POINT (-71.87698 12.24731)</td>\n",
       "    </tr>\n",
       "    <tr>\n",
       "      <th>2</th>\n",
       "      <td>3</td>\n",
       "      <td>2.266827</td>\n",
       "      <td>4.0</td>\n",
       "      <td>Cat3_Hurricane_Return_Period_PC_percentile 7.0...</td>\n",
       "      <td>5</td>\n",
       "      <td>2.933493</td>\n",
       "      <td>5.0</td>\n",
       "      <td>Cat3_TC_Return_Period_FC_2050_8_5 4.78years</td>\n",
       "      <td>2</td>\n",
       "      <td>1.933493</td>\n",
       "      <td>...</td>\n",
       "      <td></td>\n",
       "      <td>0</td>\n",
       "      <td>3</td>\n",
       "      <td>South America</td>\n",
       "      <td>Colombia</td>\n",
       "      <td>COL</td>\n",
       "      <td>12.243144</td>\n",
       "      <td>-71.875632</td>\n",
       "      <td>BOX_116_353_4</td>\n",
       "      <td>POINT (-71.87563 12.24314)</td>\n",
       "    </tr>\n",
       "    <tr>\n",
       "      <th>3</th>\n",
       "      <td>3</td>\n",
       "      <td>2.266809</td>\n",
       "      <td>4.0</td>\n",
       "      <td>Cat3_Hurricane_Return_Period_PC_percentile 7.0...</td>\n",
       "      <td>5</td>\n",
       "      <td>2.933476</td>\n",
       "      <td>5.0</td>\n",
       "      <td>Cat3_TC_Return_Period_FC_2050_8_5 4.78years</td>\n",
       "      <td>2</td>\n",
       "      <td>1.933476</td>\n",
       "      <td>...</td>\n",
       "      <td></td>\n",
       "      <td>0</td>\n",
       "      <td>3</td>\n",
       "      <td>South America</td>\n",
       "      <td>Colombia</td>\n",
       "      <td>COL</td>\n",
       "      <td>12.238772</td>\n",
       "      <td>-71.875233</td>\n",
       "      <td>BOX_116_353_5</td>\n",
       "      <td>POINT (-71.87523 12.23877)</td>\n",
       "    </tr>\n",
       "    <tr>\n",
       "      <th>4</th>\n",
       "      <td>3</td>\n",
       "      <td>2.266809</td>\n",
       "      <td>4.0</td>\n",
       "      <td>Cat3_Hurricane_Return_Period_PC_percentile 7.0...</td>\n",
       "      <td>5</td>\n",
       "      <td>2.933476</td>\n",
       "      <td>5.0</td>\n",
       "      <td>Cat3_TC_Return_Period_FC_2050_8_5 4.78years</td>\n",
       "      <td>2</td>\n",
       "      <td>1.933476</td>\n",
       "      <td>...</td>\n",
       "      <td></td>\n",
       "      <td>0</td>\n",
       "      <td>3</td>\n",
       "      <td>South America</td>\n",
       "      <td>Colombia</td>\n",
       "      <td>COL</td>\n",
       "      <td>12.234400</td>\n",
       "      <td>-71.874835</td>\n",
       "      <td>BOX_116_353_6</td>\n",
       "      <td>POINT (-71.87483 12.23440)</td>\n",
       "    </tr>\n",
       "  </tbody>\n",
       "</table>\n",
       "<p>5 rows × 93 columns</p>\n",
       "</div>"
      ],
      "text/plain": [
       "           Cat3_Hurricane_Return_Period_PC_PC___Hazard_Level  \\\n",
       "nstations                                                      \n",
       "0                                                          3   \n",
       "1                                                          3   \n",
       "2                                                          3   \n",
       "3                                                          3   \n",
       "4                                                          3   \n",
       "\n",
       "           Cat3_Hurricane_Return_Period_PC_PC___Risk_Level  \\\n",
       "nstations                                                    \n",
       "0                                                 2.266827   \n",
       "1                                                 2.266791   \n",
       "2                                                 2.266827   \n",
       "3                                                 2.266809   \n",
       "4                                                 2.266809   \n",
       "\n",
       "           Cat3_Hurricane_Return_Period_PC_PC___Risk_Level_Class  \\\n",
       "nstations                                                          \n",
       "0                                                        4.0       \n",
       "1                                                        4.0       \n",
       "2                                                        4.0       \n",
       "3                                                        4.0       \n",
       "4                                                        4.0       \n",
       "\n",
       "                    Cat3_Hurricane_Return_Period_PC_PC_value  \\\n",
       "nstations                                                      \n",
       "0          Cat3_Hurricane_Return_Period_PC_percentile 7.0...   \n",
       "1          Cat3_Hurricane_Return_Period_PC_percentile 7.0...   \n",
       "2          Cat3_Hurricane_Return_Period_PC_percentile 7.0...   \n",
       "3          Cat3_Hurricane_Return_Period_PC_percentile 7.0...   \n",
       "4          Cat3_Hurricane_Return_Period_PC_percentile 7.0...   \n",
       "\n",
       "           Cat3_TC_Return_Period_FC_2050_8_5___Hazard_Level  \\\n",
       "nstations                                                     \n",
       "0                                                         5   \n",
       "1                                                         5   \n",
       "2                                                         5   \n",
       "3                                                         5   \n",
       "4                                                         5   \n",
       "\n",
       "           Cat3_TC_Return_Period_FC_2050_8_5___Risk_Level  \\\n",
       "nstations                                                   \n",
       "0                                                2.933493   \n",
       "1                                                2.933458   \n",
       "2                                                2.933493   \n",
       "3                                                2.933476   \n",
       "4                                                2.933476   \n",
       "\n",
       "           Cat3_TC_Return_Period_FC_2050_8_5___Risk_Level_Class  \\\n",
       "nstations                                                         \n",
       "0                                                        5.0      \n",
       "1                                                        5.0      \n",
       "2                                                        5.0      \n",
       "3                                                        5.0      \n",
       "4                                                        5.0      \n",
       "\n",
       "               Cat3_TC_Return_Period_FC_2050_8_5_value  \\\n",
       "nstations                                                \n",
       "0          Cat3_TC_Return_Period_FC_2050_8_5 4.78years   \n",
       "1          Cat3_TC_Return_Period_FC_2050_8_5 4.78years   \n",
       "2          Cat3_TC_Return_Period_FC_2050_8_5 4.78years   \n",
       "3          Cat3_TC_Return_Period_FC_2050_8_5 4.78years   \n",
       "4          Cat3_TC_Return_Period_FC_2050_8_5 4.78years   \n",
       "\n",
       "           Cat3_TC_Return_Period_FC_2100_4_5___Hazard_Level  \\\n",
       "nstations                                                     \n",
       "0                                                         2   \n",
       "1                                                         2   \n",
       "2                                                         2   \n",
       "3                                                         2   \n",
       "4                                                         2   \n",
       "\n",
       "           Cat3_TC_Return_Period_FC_2100_4_5___Risk_Level  ...  \\\n",
       "nstations                                                  ...   \n",
       "0                                                1.933493  ...   \n",
       "1                                                1.933458  ...   \n",
       "2                                                1.933493  ...   \n",
       "3                                                1.933476  ...   \n",
       "4                                                1.933476  ...   \n",
       "\n",
       "           Uncertainty_Columns Uncertainty_Columns_length  \\\n",
       "nstations                                                   \n",
       "0                                                       0   \n",
       "1                                                       0   \n",
       "2                                                       0   \n",
       "3                                                       0   \n",
       "4                                                       0   \n",
       "\n",
       "           World_Protected_Areas_Status_and_Governance___Vulnerability_level  \\\n",
       "nstations                                                                      \n",
       "0                                                          3                   \n",
       "1                                                          3                   \n",
       "2                                                          3                   \n",
       "3                                                          3                   \n",
       "4                                                          3                   \n",
       "\n",
       "               continent   country country_id        lat        lon  \\\n",
       "nstations                                                             \n",
       "0          South America  Colombia        COL  12.250684 -71.879805   \n",
       "1          South America  Colombia        COL  12.247308 -71.876981   \n",
       "2          South America  Colombia        COL  12.243144 -71.875632   \n",
       "3          South America  Colombia        COL  12.238772 -71.875233   \n",
       "4          South America  Colombia        COL  12.234400 -71.874835   \n",
       "\n",
       "             transect_id                    geometry  \n",
       "nstations                                             \n",
       "0          BOX_116_353_2  POINT (-71.87980 12.25068)  \n",
       "1          BOX_116_353_3  POINT (-71.87698 12.24731)  \n",
       "2          BOX_116_353_4  POINT (-71.87563 12.24314)  \n",
       "3          BOX_116_353_5  POINT (-71.87523 12.23877)  \n",
       "4          BOX_116_353_6  POINT (-71.87483 12.23440)  \n",
       "\n",
       "[5 rows x 93 columns]"
      ]
     },
     "execution_count": 122,
     "metadata": {},
     "output_type": "execute_result"
    }
   ],
   "source": [
    "\n",
    "ds=xr.open_zarr(r\"P:\\11209197-018-global-coastal-atlas\\MSc_students\\ClenmarRowe\\Data\\Processed_Risk_Levels_PC_FC_Merged\\Caribbean_Thesis\\PC_FC_RL_merged_Carib_final.zarr\")\n",
    "SOTC_df=ds.to_dataframe()\n",
    "SOTC_gdf = gpd.GeoDataFrame(\n",
    "    SOTC_df, geometry=gpd.points_from_xy(SOTC_df.lon, SOTC_df.lat), crs=\"EPSG:4326\"\n",
    ")\n",
    "#Covert Bytes to string\n",
    "for column in SOTC_gdf.columns:\n",
    "    # Check if the column contains bytes\n",
    "    if SOTC_gdf[column].dtype == 'object':\n",
    "        if SOTC_gdf[column].apply(lambda x: isinstance(x, bytes)).any():\n",
    "            # Decode bytes to string\n",
    "            SOTC_gdf[column] = SOTC_gdf[column].apply(lambda x: x.decode() if isinstance(x, bytes) else x)\n",
    "SOTC_gdf.head()"
   ]
  },
  {
   "cell_type": "code",
   "execution_count": 123,
   "metadata": {},
   "outputs": [
    {
     "data": {
      "text/plain": [
       "Index(['Cat3_Hurricane_Return_Period_PC_PC___Hazard_Level',\n",
       "       'Cat3_Hurricane_Return_Period_PC_PC___Risk_Level',\n",
       "       'Cat3_Hurricane_Return_Period_PC_PC___Risk_Level_Class',\n",
       "       'Cat3_Hurricane_Return_Period_PC_PC_value',\n",
       "       'Cat3_TC_Return_Period_FC_2050_8_5___Hazard_Level',\n",
       "       'Cat3_TC_Return_Period_FC_2050_8_5___Risk_Level',\n",
       "       'Cat3_TC_Return_Period_FC_2050_8_5___Risk_Level_Class',\n",
       "       'Cat3_TC_Return_Period_FC_2050_8_5_value',\n",
       "       'Cat3_TC_Return_Period_FC_2100_4_5___Hazard_Level',\n",
       "       'Cat3_TC_Return_Period_FC_2100_4_5___Risk_Level',\n",
       "       'Cat3_TC_Return_Period_FC_2100_4_5___Risk_Level_Class',\n",
       "       'Cat3_TC_Return_Period_FC_2100_4_5_value',\n",
       "       'Change_rate_SSP1_45_2050___Hazard_Level',\n",
       "       'Change_rate_SSP1_45_2050___Risk_Level',\n",
       "       'Change_rate_SSP1_45_2050___Risk_Level_Class',\n",
       "       'Change_rate_SSP1_45_2050_value',\n",
       "       'Change_rate_SSP1_45_2100___Hazard_Level',\n",
       "       'Change_rate_SSP1_45_2100___Risk_Level',\n",
       "       'Change_rate_SSP1_45_2100___Risk_Level_Class',\n",
       "       'Change_rate_SSP1_45_2100_value',\n",
       "       'Change_rate_SSP5_85_2050___Hazard_Level',\n",
       "       'Change_rate_SSP5_85_2050___Risk_Level',\n",
       "       'Change_rate_SSP5_85_2050___Risk_Level_Class',\n",
       "       'Change_rate_SSP5_85_2050_value',\n",
       "       'Change_rate_SSP5_85_2100___Hazard_Level',\n",
       "       'Change_rate_SSP5_85_2100___Risk_Level',\n",
       "       'Change_rate_SSP5_85_2100___Risk_Level_Class',\n",
       "       'Change_rate_SSP5_85_2100_value', 'Confindence_perc',\n",
       "       'Deaths_from_Recent_Shocks_2004_2023___Vulnerability_level',\n",
       "       'ESL_100yrRP_4_5_2050___Hazard_Level',\n",
       "       'ESL_100yrRP_4_5_2050___Risk_Level',\n",
       "       'ESL_100yrRP_4_5_2050___Risk_Level_Class', 'ESL_100yrRP_4_5_2050_value',\n",
       "       'ESL_100yrRP_8_5_2050___Hazard_Level',\n",
       "       'ESL_100yrRP_8_5_2050___Risk_Level',\n",
       "       'ESL_100yrRP_8_5_2050___Risk_Level_Class', 'ESL_100yrRP_8_5_2050_value',\n",
       "       'ESL_100yrRP_8_5_2100___Hazard_Level',\n",
       "       'ESL_100yrRP_8_5_2100___Risk_Level',\n",
       "       'ESL_100yrRP_8_5_2100___Risk_Level_Class', 'ESL_100yrRP_8_5_2100_value',\n",
       "       'ESL_100yrRP_PC___Hazard_Level', 'ESL_100yrRP_PC___Risk_Level',\n",
       "       'ESL_100yrRP_PC___Risk_Level_Class', 'ESL_100yrRP_PC_value',\n",
       "       'ESL_RCP4_5_Time_Horizon2100___Hazard_Level',\n",
       "       'ESL_RCP4_5_Time_Horizon2100___Risk_Level',\n",
       "       'ESL_RCP4_5_Time_Horizon2100___Risk_Level_Class',\n",
       "       'ESL_RCP4_5_Time_Horizon2100_value',\n",
       "       'EWH_100yrRP_2100_RCP_45___Hazard_Level',\n",
       "       'EWH_100yrRP_2100_RCP_45___Risk_Level',\n",
       "       'EWH_100yrRP_2100_RCP_45___Risk_Level_Class',\n",
       "       'EWH_100yrRP_2100_RCP_45_value',\n",
       "       'EWH_100yrRP_2100_RCP_85___Hazard_Level',\n",
       "       'EWH_100yrRP_2100_RCP_85___Risk_Level',\n",
       "       'EWH_100yrRP_2100_RCP_85___Risk_Level_Class',\n",
       "       'EWH_100yrRP_2100_RCP_85_value', 'EWH_100yrRP_PC___Hazard_Level',\n",
       "       'EWH_100yrRP_PC___Risk_Level', 'EWH_100yrRP_PC___Risk_Level_Class',\n",
       "       'EWH_100yrRP_PC_value',\n",
       "       'GDP_per_Capita_3_yr_Average___Vulnerability_level', 'IPCC_REGION',\n",
       "       'Infant_Mortality_Rate_3_yr_Average___Vulnerability_level',\n",
       "       'LECZ_Area_LECZ_mean_elevation___Exposure_level',\n",
       "       'Land_Subsidence_2010_PC___Hazard_Level',\n",
       "       'Land_Subsidence_2010_PC___Risk_Level',\n",
       "       'Land_Subsidence_2010_PC___Risk_Level_Class',\n",
       "       'Land_Subsidence_2010_PC_value',\n",
       "       'Land_Subsidence_2040_high___Hazard_Level',\n",
       "       'Land_Subsidence_2040_high___Risk_Level',\n",
       "       'Land_Subsidence_2040_high___Risk_Level_Class',\n",
       "       'Land_Subsidence_2040_high_value',\n",
       "       'Mean_Years_of_Schooling___Vulnerability_level',\n",
       "       'Neashore_Slope_tanB_or_m_1___Exposure_level',\n",
       "       'Percentage_of_Built_Up_Area___Exposure_level',\n",
       "       'Population_Within_1km_of_the_coastline___Exposure_level',\n",
       "       'Sediment_Type___Exposure_level',\n",
       "       'Shoreline_Change_Rate_PC___Hazard_Level',\n",
       "       'Shoreline_Change_Rate_PC___Risk_Level',\n",
       "       'Shoreline_Change_Rate_PC___Risk_Level_Class',\n",
       "       'Shoreline_Change_Rate_PC_value', 'Uncertainty_Columns',\n",
       "       'Uncertainty_Columns_length',\n",
       "       'World_Protected_Areas_Status_and_Governance___Vulnerability_level',\n",
       "       'continent', 'country', 'country_id', 'lat', 'lon', 'transect_id',\n",
       "       'geometry'],\n",
       "      dtype='object')"
      ]
     },
     "execution_count": 123,
     "metadata": {},
     "output_type": "execute_result"
    }
   ],
   "source": [
    "SOTC_gdf.columns\n"
   ]
  },
  {
   "cell_type": "code",
   "execution_count": 124,
   "metadata": {},
   "outputs": [
    {
     "data": {
      "text/plain": [
       "['Cat3_Hurricane_Return_Period_PC_PC___Risk_Level',\n",
       " 'Cat3_TC_Return_Period_FC_2050_8_5___Risk_Level',\n",
       " 'Cat3_TC_Return_Period_FC_2100_4_5___Risk_Level',\n",
       " 'Change_rate_SSP1_45_2050___Risk_Level',\n",
       " 'Change_rate_SSP1_45_2100___Risk_Level',\n",
       " 'Change_rate_SSP5_85_2050___Risk_Level',\n",
       " 'Change_rate_SSP5_85_2100___Risk_Level',\n",
       " 'ESL_100yrRP_4_5_2050___Risk_Level',\n",
       " 'ESL_100yrRP_8_5_2050___Risk_Level',\n",
       " 'ESL_100yrRP_8_5_2100___Risk_Level',\n",
       " 'ESL_100yrRP_PC___Risk_Level',\n",
       " 'ESL_RCP4_5_Time_Horizon2100___Risk_Level',\n",
       " 'EWH_100yrRP_2100_RCP_45___Risk_Level',\n",
       " 'EWH_100yrRP_2100_RCP_85___Risk_Level',\n",
       " 'EWH_100yrRP_PC___Risk_Level',\n",
       " 'Land_Subsidence_2010_PC___Risk_Level',\n",
       " 'Land_Subsidence_2040_high___Risk_Level',\n",
       " 'Shoreline_Change_Rate_PC___Risk_Level']"
      ]
     },
     "execution_count": 124,
     "metadata": {},
     "output_type": "execute_result"
    }
   ],
   "source": [
    "col = [colu for colu in SOTC_gdf.columns if (\"Risk_Level\" in colu and \"Class\" not in colu)]\n",
    "col\n"
   ]
  },
  {
   "cell_type": "code",
   "execution_count": 125,
   "metadata": {},
   "outputs": [
    {
     "data": {
      "text/html": [
       "<div>\n",
       "<style scoped>\n",
       "    .dataframe tbody tr th:only-of-type {\n",
       "        vertical-align: middle;\n",
       "    }\n",
       "\n",
       "    .dataframe tbody tr th {\n",
       "        vertical-align: top;\n",
       "    }\n",
       "\n",
       "    .dataframe thead th {\n",
       "        text-align: right;\n",
       "    }\n",
       "</style>\n",
       "<table border=\"1\" class=\"dataframe\">\n",
       "  <thead>\n",
       "    <tr style=\"text-align: right;\">\n",
       "      <th></th>\n",
       "      <th>Cat3_Hurricane_Return_Period_PC_PC___Risk_Level</th>\n",
       "      <th>Cat3_TC_Return_Period_FC_2050_8_5___Risk_Level</th>\n",
       "      <th>Cat3_TC_Return_Period_FC_2100_4_5___Risk_Level</th>\n",
       "      <th>Change_rate_SSP1_45_2050___Risk_Level</th>\n",
       "      <th>Change_rate_SSP1_45_2100___Risk_Level</th>\n",
       "      <th>Change_rate_SSP5_85_2050___Risk_Level</th>\n",
       "      <th>Change_rate_SSP5_85_2100___Risk_Level</th>\n",
       "      <th>ESL_100yrRP_4_5_2050___Risk_Level</th>\n",
       "      <th>ESL_100yrRP_8_5_2050___Risk_Level</th>\n",
       "      <th>ESL_100yrRP_8_5_2100___Risk_Level</th>\n",
       "      <th>...</th>\n",
       "      <th>Land_Subsidence_2010_PC___Risk_Level</th>\n",
       "      <th>Land_Subsidence_2040_high___Risk_Level</th>\n",
       "      <th>Shoreline_Change_Rate_PC___Risk_Level</th>\n",
       "      <th>continent</th>\n",
       "      <th>country</th>\n",
       "      <th>country_id</th>\n",
       "      <th>lat</th>\n",
       "      <th>lon</th>\n",
       "      <th>transect_id</th>\n",
       "      <th>geometry</th>\n",
       "    </tr>\n",
       "    <tr>\n",
       "      <th>nstations</th>\n",
       "      <th></th>\n",
       "      <th></th>\n",
       "      <th></th>\n",
       "      <th></th>\n",
       "      <th></th>\n",
       "      <th></th>\n",
       "      <th></th>\n",
       "      <th></th>\n",
       "      <th></th>\n",
       "      <th></th>\n",
       "      <th></th>\n",
       "      <th></th>\n",
       "      <th></th>\n",
       "      <th></th>\n",
       "      <th></th>\n",
       "      <th></th>\n",
       "      <th></th>\n",
       "      <th></th>\n",
       "      <th></th>\n",
       "      <th></th>\n",
       "      <th></th>\n",
       "    </tr>\n",
       "  </thead>\n",
       "  <tbody>\n",
       "    <tr>\n",
       "      <th>0</th>\n",
       "      <td>2.266827</td>\n",
       "      <td>2.933493</td>\n",
       "      <td>1.933493</td>\n",
       "      <td>NaN</td>\n",
       "      <td>NaN</td>\n",
       "      <td>NaN</td>\n",
       "      <td>NaN</td>\n",
       "      <td>1.933493</td>\n",
       "      <td>1.933493</td>\n",
       "      <td>2.933493</td>\n",
       "      <td>...</td>\n",
       "      <td>NaN</td>\n",
       "      <td>2.266827</td>\n",
       "      <td>2.933493</td>\n",
       "      <td>South America</td>\n",
       "      <td>Colombia</td>\n",
       "      <td>COL</td>\n",
       "      <td>12.250684</td>\n",
       "      <td>-71.879805</td>\n",
       "      <td>BOX_116_353_2</td>\n",
       "      <td>POINT (-71.87980 12.25068)</td>\n",
       "    </tr>\n",
       "    <tr>\n",
       "      <th>1</th>\n",
       "      <td>2.266791</td>\n",
       "      <td>2.933458</td>\n",
       "      <td>1.933458</td>\n",
       "      <td>NaN</td>\n",
       "      <td>NaN</td>\n",
       "      <td>NaN</td>\n",
       "      <td>NaN</td>\n",
       "      <td>1.933458</td>\n",
       "      <td>1.933458</td>\n",
       "      <td>2.933458</td>\n",
       "      <td>...</td>\n",
       "      <td>NaN</td>\n",
       "      <td>2.266791</td>\n",
       "      <td>1.600124</td>\n",
       "      <td>South America</td>\n",
       "      <td>Colombia</td>\n",
       "      <td>COL</td>\n",
       "      <td>12.247308</td>\n",
       "      <td>-71.876981</td>\n",
       "      <td>BOX_116_353_3</td>\n",
       "      <td>POINT (-71.87698 12.24731)</td>\n",
       "    </tr>\n",
       "    <tr>\n",
       "      <th>2</th>\n",
       "      <td>2.266827</td>\n",
       "      <td>2.933493</td>\n",
       "      <td>1.933493</td>\n",
       "      <td>NaN</td>\n",
       "      <td>NaN</td>\n",
       "      <td>NaN</td>\n",
       "      <td>NaN</td>\n",
       "      <td>1.933493</td>\n",
       "      <td>1.933493</td>\n",
       "      <td>2.933493</td>\n",
       "      <td>...</td>\n",
       "      <td>NaN</td>\n",
       "      <td>2.266827</td>\n",
       "      <td>1.600160</td>\n",
       "      <td>South America</td>\n",
       "      <td>Colombia</td>\n",
       "      <td>COL</td>\n",
       "      <td>12.243144</td>\n",
       "      <td>-71.875632</td>\n",
       "      <td>BOX_116_353_4</td>\n",
       "      <td>POINT (-71.87563 12.24314)</td>\n",
       "    </tr>\n",
       "    <tr>\n",
       "      <th>3</th>\n",
       "      <td>2.266809</td>\n",
       "      <td>2.933476</td>\n",
       "      <td>1.933476</td>\n",
       "      <td>NaN</td>\n",
       "      <td>NaN</td>\n",
       "      <td>NaN</td>\n",
       "      <td>NaN</td>\n",
       "      <td>1.933476</td>\n",
       "      <td>1.933476</td>\n",
       "      <td>2.933476</td>\n",
       "      <td>...</td>\n",
       "      <td>NaN</td>\n",
       "      <td>2.266809</td>\n",
       "      <td>1.600142</td>\n",
       "      <td>South America</td>\n",
       "      <td>Colombia</td>\n",
       "      <td>COL</td>\n",
       "      <td>12.238772</td>\n",
       "      <td>-71.875233</td>\n",
       "      <td>BOX_116_353_5</td>\n",
       "      <td>POINT (-71.87523 12.23877)</td>\n",
       "    </tr>\n",
       "    <tr>\n",
       "      <th>4</th>\n",
       "      <td>2.266809</td>\n",
       "      <td>2.933476</td>\n",
       "      <td>1.933476</td>\n",
       "      <td>NaN</td>\n",
       "      <td>NaN</td>\n",
       "      <td>NaN</td>\n",
       "      <td>NaN</td>\n",
       "      <td>1.933476</td>\n",
       "      <td>1.933476</td>\n",
       "      <td>2.933476</td>\n",
       "      <td>...</td>\n",
       "      <td>NaN</td>\n",
       "      <td>2.266809</td>\n",
       "      <td>1.600142</td>\n",
       "      <td>South America</td>\n",
       "      <td>Colombia</td>\n",
       "      <td>COL</td>\n",
       "      <td>12.234400</td>\n",
       "      <td>-71.874835</td>\n",
       "      <td>BOX_116_353_6</td>\n",
       "      <td>POINT (-71.87483 12.23440)</td>\n",
       "    </tr>\n",
       "    <tr>\n",
       "      <th>...</th>\n",
       "      <td>...</td>\n",
       "      <td>...</td>\n",
       "      <td>...</td>\n",
       "      <td>...</td>\n",
       "      <td>...</td>\n",
       "      <td>...</td>\n",
       "      <td>...</td>\n",
       "      <td>...</td>\n",
       "      <td>...</td>\n",
       "      <td>...</td>\n",
       "      <td>...</td>\n",
       "      <td>...</td>\n",
       "      <td>...</td>\n",
       "      <td>...</td>\n",
       "      <td>...</td>\n",
       "      <td>...</td>\n",
       "      <td>...</td>\n",
       "      <td>...</td>\n",
       "      <td>...</td>\n",
       "      <td>...</td>\n",
       "      <td>...</td>\n",
       "    </tr>\n",
       "    <tr>\n",
       "      <th>37504</th>\n",
       "      <td>2.333511</td>\n",
       "      <td>2.666844</td>\n",
       "      <td>2.333511</td>\n",
       "      <td>1.666844</td>\n",
       "      <td>1.666844</td>\n",
       "      <td>1.666844</td>\n",
       "      <td>1.666844</td>\n",
       "      <td>2.666844</td>\n",
       "      <td>2.666844</td>\n",
       "      <td>3.000178</td>\n",
       "      <td>...</td>\n",
       "      <td>2.000178</td>\n",
       "      <td>2.000178</td>\n",
       "      <td>1.666844</td>\n",
       "      <td>North America</td>\n",
       "      <td>Dominican Republic</td>\n",
       "      <td>DOM</td>\n",
       "      <td>17.965259</td>\n",
       "      <td>-71.668186</td>\n",
       "      <td>BOX_139_002_61</td>\n",
       "      <td>POINT (-71.66819 17.96526)</td>\n",
       "    </tr>\n",
       "    <tr>\n",
       "      <th>37505</th>\n",
       "      <td>2.333511</td>\n",
       "      <td>2.666844</td>\n",
       "      <td>2.333511</td>\n",
       "      <td>1.666844</td>\n",
       "      <td>1.666844</td>\n",
       "      <td>1.666844</td>\n",
       "      <td>1.666844</td>\n",
       "      <td>2.666844</td>\n",
       "      <td>2.666844</td>\n",
       "      <td>3.000178</td>\n",
       "      <td>...</td>\n",
       "      <td>2.000178</td>\n",
       "      <td>2.000178</td>\n",
       "      <td>1.666844</td>\n",
       "      <td>North America</td>\n",
       "      <td>Dominican Republic</td>\n",
       "      <td>DOM</td>\n",
       "      <td>17.961418</td>\n",
       "      <td>-71.666228</td>\n",
       "      <td>BOX_139_002_62</td>\n",
       "      <td>POINT (-71.66623 17.96142)</td>\n",
       "    </tr>\n",
       "    <tr>\n",
       "      <th>37506</th>\n",
       "      <td>2.333520</td>\n",
       "      <td>2.666853</td>\n",
       "      <td>2.333520</td>\n",
       "      <td>1.666853</td>\n",
       "      <td>1.666853</td>\n",
       "      <td>1.666853</td>\n",
       "      <td>1.666853</td>\n",
       "      <td>2.666853</td>\n",
       "      <td>2.666853</td>\n",
       "      <td>3.000187</td>\n",
       "      <td>...</td>\n",
       "      <td>2.000187</td>\n",
       "      <td>2.000187</td>\n",
       "      <td>1.666853</td>\n",
       "      <td>North America</td>\n",
       "      <td>Dominican Republic</td>\n",
       "      <td>DOM</td>\n",
       "      <td>17.957442</td>\n",
       "      <td>-71.664583</td>\n",
       "      <td>BOX_139_002_63</td>\n",
       "      <td>POINT (-71.66458 17.95744)</td>\n",
       "    </tr>\n",
       "    <tr>\n",
       "      <th>37507</th>\n",
       "      <td>2.333520</td>\n",
       "      <td>2.666853</td>\n",
       "      <td>2.333520</td>\n",
       "      <td>1.666853</td>\n",
       "      <td>1.666853</td>\n",
       "      <td>1.666853</td>\n",
       "      <td>1.666853</td>\n",
       "      <td>2.666853</td>\n",
       "      <td>2.666853</td>\n",
       "      <td>3.000187</td>\n",
       "      <td>...</td>\n",
       "      <td>2.000187</td>\n",
       "      <td>2.000187</td>\n",
       "      <td>1.666853</td>\n",
       "      <td>North America</td>\n",
       "      <td>Dominican Republic</td>\n",
       "      <td>DOM</td>\n",
       "      <td>17.953466</td>\n",
       "      <td>-71.662937</td>\n",
       "      <td>BOX_139_002_64</td>\n",
       "      <td>POINT (-71.66294 17.95347)</td>\n",
       "    </tr>\n",
       "    <tr>\n",
       "      <th>37508</th>\n",
       "      <td>2.333511</td>\n",
       "      <td>2.666844</td>\n",
       "      <td>2.333511</td>\n",
       "      <td>1.666844</td>\n",
       "      <td>1.666844</td>\n",
       "      <td>1.666844</td>\n",
       "      <td>1.666844</td>\n",
       "      <td>2.666844</td>\n",
       "      <td>2.666844</td>\n",
       "      <td>3.000178</td>\n",
       "      <td>...</td>\n",
       "      <td>2.000178</td>\n",
       "      <td>2.000178</td>\n",
       "      <td>1.666844</td>\n",
       "      <td>North America</td>\n",
       "      <td>Dominican Republic</td>\n",
       "      <td>DOM</td>\n",
       "      <td>17.949491</td>\n",
       "      <td>-71.661291</td>\n",
       "      <td>BOX_139_002_65</td>\n",
       "      <td>POINT (-71.66129 17.94949)</td>\n",
       "    </tr>\n",
       "  </tbody>\n",
       "</table>\n",
       "<p>37509 rows × 25 columns</p>\n",
       "</div>"
      ],
      "text/plain": [
       "           Cat3_Hurricane_Return_Period_PC_PC___Risk_Level  \\\n",
       "nstations                                                    \n",
       "0                                                 2.266827   \n",
       "1                                                 2.266791   \n",
       "2                                                 2.266827   \n",
       "3                                                 2.266809   \n",
       "4                                                 2.266809   \n",
       "...                                                    ...   \n",
       "37504                                             2.333511   \n",
       "37505                                             2.333511   \n",
       "37506                                             2.333520   \n",
       "37507                                             2.333520   \n",
       "37508                                             2.333511   \n",
       "\n",
       "           Cat3_TC_Return_Period_FC_2050_8_5___Risk_Level  \\\n",
       "nstations                                                   \n",
       "0                                                2.933493   \n",
       "1                                                2.933458   \n",
       "2                                                2.933493   \n",
       "3                                                2.933476   \n",
       "4                                                2.933476   \n",
       "...                                                   ...   \n",
       "37504                                            2.666844   \n",
       "37505                                            2.666844   \n",
       "37506                                            2.666853   \n",
       "37507                                            2.666853   \n",
       "37508                                            2.666844   \n",
       "\n",
       "           Cat3_TC_Return_Period_FC_2100_4_5___Risk_Level  \\\n",
       "nstations                                                   \n",
       "0                                                1.933493   \n",
       "1                                                1.933458   \n",
       "2                                                1.933493   \n",
       "3                                                1.933476   \n",
       "4                                                1.933476   \n",
       "...                                                   ...   \n",
       "37504                                            2.333511   \n",
       "37505                                            2.333511   \n",
       "37506                                            2.333520   \n",
       "37507                                            2.333520   \n",
       "37508                                            2.333511   \n",
       "\n",
       "           Change_rate_SSP1_45_2050___Risk_Level  \\\n",
       "nstations                                          \n",
       "0                                            NaN   \n",
       "1                                            NaN   \n",
       "2                                            NaN   \n",
       "3                                            NaN   \n",
       "4                                            NaN   \n",
       "...                                          ...   \n",
       "37504                                   1.666844   \n",
       "37505                                   1.666844   \n",
       "37506                                   1.666853   \n",
       "37507                                   1.666853   \n",
       "37508                                   1.666844   \n",
       "\n",
       "           Change_rate_SSP1_45_2100___Risk_Level  \\\n",
       "nstations                                          \n",
       "0                                            NaN   \n",
       "1                                            NaN   \n",
       "2                                            NaN   \n",
       "3                                            NaN   \n",
       "4                                            NaN   \n",
       "...                                          ...   \n",
       "37504                                   1.666844   \n",
       "37505                                   1.666844   \n",
       "37506                                   1.666853   \n",
       "37507                                   1.666853   \n",
       "37508                                   1.666844   \n",
       "\n",
       "           Change_rate_SSP5_85_2050___Risk_Level  \\\n",
       "nstations                                          \n",
       "0                                            NaN   \n",
       "1                                            NaN   \n",
       "2                                            NaN   \n",
       "3                                            NaN   \n",
       "4                                            NaN   \n",
       "...                                          ...   \n",
       "37504                                   1.666844   \n",
       "37505                                   1.666844   \n",
       "37506                                   1.666853   \n",
       "37507                                   1.666853   \n",
       "37508                                   1.666844   \n",
       "\n",
       "           Change_rate_SSP5_85_2100___Risk_Level  \\\n",
       "nstations                                          \n",
       "0                                            NaN   \n",
       "1                                            NaN   \n",
       "2                                            NaN   \n",
       "3                                            NaN   \n",
       "4                                            NaN   \n",
       "...                                          ...   \n",
       "37504                                   1.666844   \n",
       "37505                                   1.666844   \n",
       "37506                                   1.666853   \n",
       "37507                                   1.666853   \n",
       "37508                                   1.666844   \n",
       "\n",
       "           ESL_100yrRP_4_5_2050___Risk_Level  \\\n",
       "nstations                                      \n",
       "0                                   1.933493   \n",
       "1                                   1.933458   \n",
       "2                                   1.933493   \n",
       "3                                   1.933476   \n",
       "4                                   1.933476   \n",
       "...                                      ...   \n",
       "37504                               2.666844   \n",
       "37505                               2.666844   \n",
       "37506                               2.666853   \n",
       "37507                               2.666853   \n",
       "37508                               2.666844   \n",
       "\n",
       "           ESL_100yrRP_8_5_2050___Risk_Level  \\\n",
       "nstations                                      \n",
       "0                                   1.933493   \n",
       "1                                   1.933458   \n",
       "2                                   1.933493   \n",
       "3                                   1.933476   \n",
       "4                                   1.933476   \n",
       "...                                      ...   \n",
       "37504                               2.666844   \n",
       "37505                               2.666844   \n",
       "37506                               2.666853   \n",
       "37507                               2.666853   \n",
       "37508                               2.666844   \n",
       "\n",
       "           ESL_100yrRP_8_5_2100___Risk_Level  ...  \\\n",
       "nstations                                     ...   \n",
       "0                                   2.933493  ...   \n",
       "1                                   2.933458  ...   \n",
       "2                                   2.933493  ...   \n",
       "3                                   2.933476  ...   \n",
       "4                                   2.933476  ...   \n",
       "...                                      ...  ...   \n",
       "37504                               3.000178  ...   \n",
       "37505                               3.000178  ...   \n",
       "37506                               3.000187  ...   \n",
       "37507                               3.000187  ...   \n",
       "37508                               3.000178  ...   \n",
       "\n",
       "           Land_Subsidence_2010_PC___Risk_Level  \\\n",
       "nstations                                         \n",
       "0                                           NaN   \n",
       "1                                           NaN   \n",
       "2                                           NaN   \n",
       "3                                           NaN   \n",
       "4                                           NaN   \n",
       "...                                         ...   \n",
       "37504                                  2.000178   \n",
       "37505                                  2.000178   \n",
       "37506                                  2.000187   \n",
       "37507                                  2.000187   \n",
       "37508                                  2.000178   \n",
       "\n",
       "           Land_Subsidence_2040_high___Risk_Level  \\\n",
       "nstations                                           \n",
       "0                                        2.266827   \n",
       "1                                        2.266791   \n",
       "2                                        2.266827   \n",
       "3                                        2.266809   \n",
       "4                                        2.266809   \n",
       "...                                           ...   \n",
       "37504                                    2.000178   \n",
       "37505                                    2.000178   \n",
       "37506                                    2.000187   \n",
       "37507                                    2.000187   \n",
       "37508                                    2.000178   \n",
       "\n",
       "           Shoreline_Change_Rate_PC___Risk_Level      continent  \\\n",
       "nstations                                                         \n",
       "0                                       2.933493  South America   \n",
       "1                                       1.600124  South America   \n",
       "2                                       1.600160  South America   \n",
       "3                                       1.600142  South America   \n",
       "4                                       1.600142  South America   \n",
       "...                                          ...            ...   \n",
       "37504                                   1.666844  North America   \n",
       "37505                                   1.666844  North America   \n",
       "37506                                   1.666853  North America   \n",
       "37507                                   1.666853  North America   \n",
       "37508                                   1.666844  North America   \n",
       "\n",
       "                      country  country_id        lat        lon  \\\n",
       "nstations                                                         \n",
       "0                    Colombia         COL  12.250684 -71.879805   \n",
       "1                    Colombia         COL  12.247308 -71.876981   \n",
       "2                    Colombia         COL  12.243144 -71.875632   \n",
       "3                    Colombia         COL  12.238772 -71.875233   \n",
       "4                    Colombia         COL  12.234400 -71.874835   \n",
       "...                       ...         ...        ...        ...   \n",
       "37504      Dominican Republic         DOM  17.965259 -71.668186   \n",
       "37505      Dominican Republic         DOM  17.961418 -71.666228   \n",
       "37506      Dominican Republic         DOM  17.957442 -71.664583   \n",
       "37507      Dominican Republic         DOM  17.953466 -71.662937   \n",
       "37508      Dominican Republic         DOM  17.949491 -71.661291   \n",
       "\n",
       "              transect_id                    geometry  \n",
       "nstations                                              \n",
       "0           BOX_116_353_2  POINT (-71.87980 12.25068)  \n",
       "1           BOX_116_353_3  POINT (-71.87698 12.24731)  \n",
       "2           BOX_116_353_4  POINT (-71.87563 12.24314)  \n",
       "3           BOX_116_353_5  POINT (-71.87523 12.23877)  \n",
       "4           BOX_116_353_6  POINT (-71.87483 12.23440)  \n",
       "...                   ...                         ...  \n",
       "37504      BOX_139_002_61  POINT (-71.66819 17.96526)  \n",
       "37505      BOX_139_002_62  POINT (-71.66623 17.96142)  \n",
       "37506      BOX_139_002_63  POINT (-71.66458 17.95744)  \n",
       "37507      BOX_139_002_64  POINT (-71.66294 17.95347)  \n",
       "37508      BOX_139_002_65  POINT (-71.66129 17.94949)  \n",
       "\n",
       "[37509 rows x 25 columns]"
      ]
     },
     "execution_count": 125,
     "metadata": {},
     "output_type": "execute_result"
    }
   ],
   "source": [
    "orig_hotspot=pd.concat([SOTC_gdf[col],SOTC_gdf.iloc[:,-7:]],axis=1)\n",
    "orig_hotspot = gpd.GeoDataFrame(\n",
    "    orig_hotspot, geometry=gpd.points_from_xy(orig_hotspot.lon, orig_hotspot.lat), crs=\"EPSG:4326\"\n",
    ")\n",
    "hotspot=orig_hotspot.copy()\n",
    "hotspot"
   ]
  },
  {
   "cell_type": "code",
   "execution_count": 126,
   "metadata": {},
   "outputs": [
    {
     "data": {
      "text/plain": [
       "array(['Colombia', 'Saint Kitts and Nevis', 'Netherlands', 'France',\n",
       "       'Antigua and Barbuda', 'Venezuela', 'Montserrat', 'Curacao',\n",
       "       'Saint Lucia', 'Aruba', 'Barbados', 'Dominican Republic',\n",
       "       'Saint Vincent and the Grenadines', 'Grenada', 'Dominica', 'Haiti',\n",
       "       'Cuba', 'Jamaica', 'The Bahamas', 'Turks and Caicos Islands',\n",
       "       'unknown', 'United States of America', 'Cayman Islands',\n",
       "       'British Virgin Islands', 'Puerto Rico',\n",
       "       'United States Virgin Islands', 'Saint Barthelemy', 'Anguilla',\n",
       "       'Saint Martin'], dtype=object)"
      ]
     },
     "execution_count": 126,
     "metadata": {},
     "output_type": "execute_result"
    }
   ],
   "source": [
    "unique_countries=hotspot[\"country\"].unique()\n",
    "unique_countries"
   ]
  },
  {
   "cell_type": "code",
   "execution_count": 127,
   "metadata": {},
   "outputs": [
    {
     "data": {
      "text/html": [
       "<div>\n",
       "<style scoped>\n",
       "    .dataframe tbody tr th:only-of-type {\n",
       "        vertical-align: middle;\n",
       "    }\n",
       "\n",
       "    .dataframe tbody tr th {\n",
       "        vertical-align: top;\n",
       "    }\n",
       "\n",
       "    .dataframe thead th {\n",
       "        text-align: right;\n",
       "    }\n",
       "</style>\n",
       "<table border=\"1\" class=\"dataframe\">\n",
       "  <thead>\n",
       "    <tr style=\"text-align: right;\">\n",
       "      <th></th>\n",
       "      <th>Cat3_Hurricane_Return_Period_PC_PC___Risk_Level</th>\n",
       "      <th>Cat3_TC_Return_Period_FC_2050_8_5___Risk_Level</th>\n",
       "      <th>Cat3_TC_Return_Period_FC_2100_4_5___Risk_Level</th>\n",
       "      <th>Change_rate_SSP1_45_2050___Risk_Level</th>\n",
       "      <th>Change_rate_SSP1_45_2100___Risk_Level</th>\n",
       "      <th>Change_rate_SSP5_85_2050___Risk_Level</th>\n",
       "      <th>Change_rate_SSP5_85_2100___Risk_Level</th>\n",
       "      <th>ESL_100yrRP_4_5_2050___Risk_Level</th>\n",
       "      <th>ESL_100yrRP_8_5_2050___Risk_Level</th>\n",
       "      <th>ESL_100yrRP_8_5_2100___Risk_Level</th>\n",
       "      <th>...</th>\n",
       "      <th>Land_Subsidence_2010_PC___Risk_Level</th>\n",
       "      <th>Land_Subsidence_2040_high___Risk_Level</th>\n",
       "      <th>Shoreline_Change_Rate_PC___Risk_Level</th>\n",
       "      <th>continent</th>\n",
       "      <th>country</th>\n",
       "      <th>country_id</th>\n",
       "      <th>lat</th>\n",
       "      <th>lon</th>\n",
       "      <th>transect_id</th>\n",
       "      <th>geometry</th>\n",
       "    </tr>\n",
       "    <tr>\n",
       "      <th>nstations</th>\n",
       "      <th></th>\n",
       "      <th></th>\n",
       "      <th></th>\n",
       "      <th></th>\n",
       "      <th></th>\n",
       "      <th></th>\n",
       "      <th></th>\n",
       "      <th></th>\n",
       "      <th></th>\n",
       "      <th></th>\n",
       "      <th></th>\n",
       "      <th></th>\n",
       "      <th></th>\n",
       "      <th></th>\n",
       "      <th></th>\n",
       "      <th></th>\n",
       "      <th></th>\n",
       "      <th></th>\n",
       "      <th></th>\n",
       "      <th></th>\n",
       "      <th></th>\n",
       "    </tr>\n",
       "  </thead>\n",
       "  <tbody>\n",
       "    <tr>\n",
       "      <th>199</th>\n",
       "      <td>1.933484</td>\n",
       "      <td>2.600151</td>\n",
       "      <td>2.266818</td>\n",
       "      <td>NaN</td>\n",
       "      <td>NaN</td>\n",
       "      <td>NaN</td>\n",
       "      <td>NaN</td>\n",
       "      <td>1.600151</td>\n",
       "      <td>1.600151</td>\n",
       "      <td>2.600151</td>\n",
       "      <td>...</td>\n",
       "      <td>NaN</td>\n",
       "      <td>NaN</td>\n",
       "      <td>1.600151</td>\n",
       "      <td>North America</td>\n",
       "      <td>Saint Kitts and Nevis</td>\n",
       "      <td>KNA</td>\n",
       "      <td>17.414115</td>\n",
       "      <td>-62.807903</td>\n",
       "      <td>BOX_117_255_1</td>\n",
       "      <td>POINT (-62.80790 17.41411)</td>\n",
       "    </tr>\n",
       "    <tr>\n",
       "      <th>200</th>\n",
       "      <td>1.933476</td>\n",
       "      <td>2.600142</td>\n",
       "      <td>2.266809</td>\n",
       "      <td>NaN</td>\n",
       "      <td>NaN</td>\n",
       "      <td>NaN</td>\n",
       "      <td>NaN</td>\n",
       "      <td>1.600142</td>\n",
       "      <td>1.600142</td>\n",
       "      <td>2.600142</td>\n",
       "      <td>...</td>\n",
       "      <td>NaN</td>\n",
       "      <td>NaN</td>\n",
       "      <td>1.600142</td>\n",
       "      <td>North America</td>\n",
       "      <td>Saint Kitts and Nevis</td>\n",
       "      <td>KNA</td>\n",
       "      <td>17.415665</td>\n",
       "      <td>-62.812001</td>\n",
       "      <td>BOX_117_255_2</td>\n",
       "      <td>POINT (-62.81200 17.41566)</td>\n",
       "    </tr>\n",
       "    <tr>\n",
       "      <th>201</th>\n",
       "      <td>1.933476</td>\n",
       "      <td>2.600142</td>\n",
       "      <td>2.266809</td>\n",
       "      <td>NaN</td>\n",
       "      <td>NaN</td>\n",
       "      <td>NaN</td>\n",
       "      <td>NaN</td>\n",
       "      <td>1.600142</td>\n",
       "      <td>1.600142</td>\n",
       "      <td>2.600142</td>\n",
       "      <td>...</td>\n",
       "      <td>NaN</td>\n",
       "      <td>NaN</td>\n",
       "      <td>1.600142</td>\n",
       "      <td>North America</td>\n",
       "      <td>Saint Kitts and Nevis</td>\n",
       "      <td>KNA</td>\n",
       "      <td>17.415677</td>\n",
       "      <td>-62.816490</td>\n",
       "      <td>BOX_117_255_3</td>\n",
       "      <td>POINT (-62.81649 17.41568)</td>\n",
       "    </tr>\n",
       "    <tr>\n",
       "      <th>202</th>\n",
       "      <td>1.933476</td>\n",
       "      <td>2.600142</td>\n",
       "      <td>2.266809</td>\n",
       "      <td>NaN</td>\n",
       "      <td>NaN</td>\n",
       "      <td>NaN</td>\n",
       "      <td>NaN</td>\n",
       "      <td>1.600142</td>\n",
       "      <td>1.600142</td>\n",
       "      <td>2.600142</td>\n",
       "      <td>...</td>\n",
       "      <td>NaN</td>\n",
       "      <td>NaN</td>\n",
       "      <td>1.266809</td>\n",
       "      <td>North America</td>\n",
       "      <td>Saint Kitts and Nevis</td>\n",
       "      <td>KNA</td>\n",
       "      <td>17.415149</td>\n",
       "      <td>-62.820934</td>\n",
       "      <td>BOX_117_255_4</td>\n",
       "      <td>POINT (-62.82093 17.41515)</td>\n",
       "    </tr>\n",
       "    <tr>\n",
       "      <th>203</th>\n",
       "      <td>1.933467</td>\n",
       "      <td>2.600133</td>\n",
       "      <td>2.266800</td>\n",
       "      <td>NaN</td>\n",
       "      <td>NaN</td>\n",
       "      <td>NaN</td>\n",
       "      <td>NaN</td>\n",
       "      <td>1.600133</td>\n",
       "      <td>1.600133</td>\n",
       "      <td>2.600133</td>\n",
       "      <td>...</td>\n",
       "      <td>NaN</td>\n",
       "      <td>NaN</td>\n",
       "      <td>1.266800</td>\n",
       "      <td>North America</td>\n",
       "      <td>Saint Kitts and Nevis</td>\n",
       "      <td>KNA</td>\n",
       "      <td>17.414413</td>\n",
       "      <td>-62.825359</td>\n",
       "      <td>BOX_117_255_5</td>\n",
       "      <td>POINT (-62.82536 17.41441)</td>\n",
       "    </tr>\n",
       "    <tr>\n",
       "      <th>...</th>\n",
       "      <td>...</td>\n",
       "      <td>...</td>\n",
       "      <td>...</td>\n",
       "      <td>...</td>\n",
       "      <td>...</td>\n",
       "      <td>...</td>\n",
       "      <td>...</td>\n",
       "      <td>...</td>\n",
       "      <td>...</td>\n",
       "      <td>...</td>\n",
       "      <td>...</td>\n",
       "      <td>...</td>\n",
       "      <td>...</td>\n",
       "      <td>...</td>\n",
       "      <td>...</td>\n",
       "      <td>...</td>\n",
       "      <td>...</td>\n",
       "      <td>...</td>\n",
       "      <td>...</td>\n",
       "      <td>...</td>\n",
       "      <td>...</td>\n",
       "    </tr>\n",
       "    <tr>\n",
       "      <th>3658</th>\n",
       "      <td>1.933511</td>\n",
       "      <td>2.600178</td>\n",
       "      <td>2.266844</td>\n",
       "      <td>1.600178</td>\n",
       "      <td>1.600178</td>\n",
       "      <td>1.600178</td>\n",
       "      <td>1.600178</td>\n",
       "      <td>1.600178</td>\n",
       "      <td>1.600178</td>\n",
       "      <td>2.600178</td>\n",
       "      <td>...</td>\n",
       "      <td>NaN</td>\n",
       "      <td>NaN</td>\n",
       "      <td>1.266844</td>\n",
       "      <td>North America</td>\n",
       "      <td>Saint Kitts and Nevis</td>\n",
       "      <td>KNA</td>\n",
       "      <td>17.165634</td>\n",
       "      <td>-62.627575</td>\n",
       "      <td>BOX_117_253_152</td>\n",
       "      <td>POINT (-62.62757 17.16563)</td>\n",
       "    </tr>\n",
       "    <tr>\n",
       "      <th>3659</th>\n",
       "      <td>1.933511</td>\n",
       "      <td>2.600178</td>\n",
       "      <td>2.266844</td>\n",
       "      <td>1.266844</td>\n",
       "      <td>1.266844</td>\n",
       "      <td>1.266844</td>\n",
       "      <td>1.266844</td>\n",
       "      <td>1.600178</td>\n",
       "      <td>1.600178</td>\n",
       "      <td>2.600178</td>\n",
       "      <td>...</td>\n",
       "      <td>NaN</td>\n",
       "      <td>NaN</td>\n",
       "      <td>1.266844</td>\n",
       "      <td>North America</td>\n",
       "      <td>Saint Kitts and Nevis</td>\n",
       "      <td>KNA</td>\n",
       "      <td>17.161371</td>\n",
       "      <td>-62.628094</td>\n",
       "      <td>BOX_117_253_153</td>\n",
       "      <td>POINT (-62.62809 17.16137)</td>\n",
       "    </tr>\n",
       "    <tr>\n",
       "      <th>3660</th>\n",
       "      <td>1.933511</td>\n",
       "      <td>2.600178</td>\n",
       "      <td>2.266844</td>\n",
       "      <td>1.266844</td>\n",
       "      <td>1.266844</td>\n",
       "      <td>1.266844</td>\n",
       "      <td>1.266844</td>\n",
       "      <td>1.600178</td>\n",
       "      <td>1.600178</td>\n",
       "      <td>2.600178</td>\n",
       "      <td>...</td>\n",
       "      <td>NaN</td>\n",
       "      <td>NaN</td>\n",
       "      <td>1.266844</td>\n",
       "      <td>North America</td>\n",
       "      <td>Saint Kitts and Nevis</td>\n",
       "      <td>KNA</td>\n",
       "      <td>17.157108</td>\n",
       "      <td>-62.628613</td>\n",
       "      <td>BOX_117_253_154</td>\n",
       "      <td>POINT (-62.62861 17.15711)</td>\n",
       "    </tr>\n",
       "    <tr>\n",
       "      <th>3661</th>\n",
       "      <td>1.933511</td>\n",
       "      <td>2.600178</td>\n",
       "      <td>2.266844</td>\n",
       "      <td>NaN</td>\n",
       "      <td>NaN</td>\n",
       "      <td>NaN</td>\n",
       "      <td>NaN</td>\n",
       "      <td>1.600178</td>\n",
       "      <td>1.600178</td>\n",
       "      <td>2.600178</td>\n",
       "      <td>...</td>\n",
       "      <td>NaN</td>\n",
       "      <td>NaN</td>\n",
       "      <td>1.266844</td>\n",
       "      <td>North America</td>\n",
       "      <td>Saint Kitts and Nevis</td>\n",
       "      <td>KNA</td>\n",
       "      <td>17.152829</td>\n",
       "      <td>-62.628926</td>\n",
       "      <td>BOX_117_253_155</td>\n",
       "      <td>POINT (-62.62893 17.15283)</td>\n",
       "    </tr>\n",
       "    <tr>\n",
       "      <th>3662</th>\n",
       "      <td>1.933484</td>\n",
       "      <td>2.600151</td>\n",
       "      <td>2.266818</td>\n",
       "      <td>NaN</td>\n",
       "      <td>NaN</td>\n",
       "      <td>NaN</td>\n",
       "      <td>NaN</td>\n",
       "      <td>1.600151</td>\n",
       "      <td>1.600151</td>\n",
       "      <td>2.600151</td>\n",
       "      <td>...</td>\n",
       "      <td>NaN</td>\n",
       "      <td>NaN</td>\n",
       "      <td>1.266818</td>\n",
       "      <td>North America</td>\n",
       "      <td>Saint Kitts and Nevis</td>\n",
       "      <td>KNA</td>\n",
       "      <td>17.148542</td>\n",
       "      <td>-62.629139</td>\n",
       "      <td>BOX_117_253_156</td>\n",
       "      <td>POINT (-62.62914 17.14854)</td>\n",
       "    </tr>\n",
       "  </tbody>\n",
       "</table>\n",
       "<p>216 rows × 25 columns</p>\n",
       "</div>"
      ],
      "text/plain": [
       "           Cat3_Hurricane_Return_Period_PC_PC___Risk_Level  \\\n",
       "nstations                                                    \n",
       "199                                               1.933484   \n",
       "200                                               1.933476   \n",
       "201                                               1.933476   \n",
       "202                                               1.933476   \n",
       "203                                               1.933467   \n",
       "...                                                    ...   \n",
       "3658                                              1.933511   \n",
       "3659                                              1.933511   \n",
       "3660                                              1.933511   \n",
       "3661                                              1.933511   \n",
       "3662                                              1.933484   \n",
       "\n",
       "           Cat3_TC_Return_Period_FC_2050_8_5___Risk_Level  \\\n",
       "nstations                                                   \n",
       "199                                              2.600151   \n",
       "200                                              2.600142   \n",
       "201                                              2.600142   \n",
       "202                                              2.600142   \n",
       "203                                              2.600133   \n",
       "...                                                   ...   \n",
       "3658                                             2.600178   \n",
       "3659                                             2.600178   \n",
       "3660                                             2.600178   \n",
       "3661                                             2.600178   \n",
       "3662                                             2.600151   \n",
       "\n",
       "           Cat3_TC_Return_Period_FC_2100_4_5___Risk_Level  \\\n",
       "nstations                                                   \n",
       "199                                              2.266818   \n",
       "200                                              2.266809   \n",
       "201                                              2.266809   \n",
       "202                                              2.266809   \n",
       "203                                              2.266800   \n",
       "...                                                   ...   \n",
       "3658                                             2.266844   \n",
       "3659                                             2.266844   \n",
       "3660                                             2.266844   \n",
       "3661                                             2.266844   \n",
       "3662                                             2.266818   \n",
       "\n",
       "           Change_rate_SSP1_45_2050___Risk_Level  \\\n",
       "nstations                                          \n",
       "199                                          NaN   \n",
       "200                                          NaN   \n",
       "201                                          NaN   \n",
       "202                                          NaN   \n",
       "203                                          NaN   \n",
       "...                                          ...   \n",
       "3658                                    1.600178   \n",
       "3659                                    1.266844   \n",
       "3660                                    1.266844   \n",
       "3661                                         NaN   \n",
       "3662                                         NaN   \n",
       "\n",
       "           Change_rate_SSP1_45_2100___Risk_Level  \\\n",
       "nstations                                          \n",
       "199                                          NaN   \n",
       "200                                          NaN   \n",
       "201                                          NaN   \n",
       "202                                          NaN   \n",
       "203                                          NaN   \n",
       "...                                          ...   \n",
       "3658                                    1.600178   \n",
       "3659                                    1.266844   \n",
       "3660                                    1.266844   \n",
       "3661                                         NaN   \n",
       "3662                                         NaN   \n",
       "\n",
       "           Change_rate_SSP5_85_2050___Risk_Level  \\\n",
       "nstations                                          \n",
       "199                                          NaN   \n",
       "200                                          NaN   \n",
       "201                                          NaN   \n",
       "202                                          NaN   \n",
       "203                                          NaN   \n",
       "...                                          ...   \n",
       "3658                                    1.600178   \n",
       "3659                                    1.266844   \n",
       "3660                                    1.266844   \n",
       "3661                                         NaN   \n",
       "3662                                         NaN   \n",
       "\n",
       "           Change_rate_SSP5_85_2100___Risk_Level  \\\n",
       "nstations                                          \n",
       "199                                          NaN   \n",
       "200                                          NaN   \n",
       "201                                          NaN   \n",
       "202                                          NaN   \n",
       "203                                          NaN   \n",
       "...                                          ...   \n",
       "3658                                    1.600178   \n",
       "3659                                    1.266844   \n",
       "3660                                    1.266844   \n",
       "3661                                         NaN   \n",
       "3662                                         NaN   \n",
       "\n",
       "           ESL_100yrRP_4_5_2050___Risk_Level  \\\n",
       "nstations                                      \n",
       "199                                 1.600151   \n",
       "200                                 1.600142   \n",
       "201                                 1.600142   \n",
       "202                                 1.600142   \n",
       "203                                 1.600133   \n",
       "...                                      ...   \n",
       "3658                                1.600178   \n",
       "3659                                1.600178   \n",
       "3660                                1.600178   \n",
       "3661                                1.600178   \n",
       "3662                                1.600151   \n",
       "\n",
       "           ESL_100yrRP_8_5_2050___Risk_Level  \\\n",
       "nstations                                      \n",
       "199                                 1.600151   \n",
       "200                                 1.600142   \n",
       "201                                 1.600142   \n",
       "202                                 1.600142   \n",
       "203                                 1.600133   \n",
       "...                                      ...   \n",
       "3658                                1.600178   \n",
       "3659                                1.600178   \n",
       "3660                                1.600178   \n",
       "3661                                1.600178   \n",
       "3662                                1.600151   \n",
       "\n",
       "           ESL_100yrRP_8_5_2100___Risk_Level  ...  \\\n",
       "nstations                                     ...   \n",
       "199                                 2.600151  ...   \n",
       "200                                 2.600142  ...   \n",
       "201                                 2.600142  ...   \n",
       "202                                 2.600142  ...   \n",
       "203                                 2.600133  ...   \n",
       "...                                      ...  ...   \n",
       "3658                                2.600178  ...   \n",
       "3659                                2.600178  ...   \n",
       "3660                                2.600178  ...   \n",
       "3661                                2.600178  ...   \n",
       "3662                                2.600151  ...   \n",
       "\n",
       "           Land_Subsidence_2010_PC___Risk_Level  \\\n",
       "nstations                                         \n",
       "199                                         NaN   \n",
       "200                                         NaN   \n",
       "201                                         NaN   \n",
       "202                                         NaN   \n",
       "203                                         NaN   \n",
       "...                                         ...   \n",
       "3658                                        NaN   \n",
       "3659                                        NaN   \n",
       "3660                                        NaN   \n",
       "3661                                        NaN   \n",
       "3662                                        NaN   \n",
       "\n",
       "           Land_Subsidence_2040_high___Risk_Level  \\\n",
       "nstations                                           \n",
       "199                                           NaN   \n",
       "200                                           NaN   \n",
       "201                                           NaN   \n",
       "202                                           NaN   \n",
       "203                                           NaN   \n",
       "...                                           ...   \n",
       "3658                                          NaN   \n",
       "3659                                          NaN   \n",
       "3660                                          NaN   \n",
       "3661                                          NaN   \n",
       "3662                                          NaN   \n",
       "\n",
       "           Shoreline_Change_Rate_PC___Risk_Level      continent  \\\n",
       "nstations                                                         \n",
       "199                                     1.600151  North America   \n",
       "200                                     1.600142  North America   \n",
       "201                                     1.600142  North America   \n",
       "202                                     1.266809  North America   \n",
       "203                                     1.266800  North America   \n",
       "...                                          ...            ...   \n",
       "3658                                    1.266844  North America   \n",
       "3659                                    1.266844  North America   \n",
       "3660                                    1.266844  North America   \n",
       "3661                                    1.266844  North America   \n",
       "3662                                    1.266818  North America   \n",
       "\n",
       "                         country  country_id        lat        lon  \\\n",
       "nstations                                                            \n",
       "199        Saint Kitts and Nevis         KNA  17.414115 -62.807903   \n",
       "200        Saint Kitts and Nevis         KNA  17.415665 -62.812001   \n",
       "201        Saint Kitts and Nevis         KNA  17.415677 -62.816490   \n",
       "202        Saint Kitts and Nevis         KNA  17.415149 -62.820934   \n",
       "203        Saint Kitts and Nevis         KNA  17.414413 -62.825359   \n",
       "...                          ...         ...        ...        ...   \n",
       "3658       Saint Kitts and Nevis         KNA  17.165634 -62.627575   \n",
       "3659       Saint Kitts and Nevis         KNA  17.161371 -62.628094   \n",
       "3660       Saint Kitts and Nevis         KNA  17.157108 -62.628613   \n",
       "3661       Saint Kitts and Nevis         KNA  17.152829 -62.628926   \n",
       "3662       Saint Kitts and Nevis         KNA  17.148542 -62.629139   \n",
       "\n",
       "               transect_id                    geometry  \n",
       "nstations                                               \n",
       "199          BOX_117_255_1  POINT (-62.80790 17.41411)  \n",
       "200          BOX_117_255_2  POINT (-62.81200 17.41566)  \n",
       "201          BOX_117_255_3  POINT (-62.81649 17.41568)  \n",
       "202          BOX_117_255_4  POINT (-62.82093 17.41515)  \n",
       "203          BOX_117_255_5  POINT (-62.82536 17.41441)  \n",
       "...                    ...                         ...  \n",
       "3658       BOX_117_253_152  POINT (-62.62757 17.16563)  \n",
       "3659       BOX_117_253_153  POINT (-62.62809 17.16137)  \n",
       "3660       BOX_117_253_154  POINT (-62.62861 17.15711)  \n",
       "3661       BOX_117_253_155  POINT (-62.62893 17.15283)  \n",
       "3662       BOX_117_253_156  POINT (-62.62914 17.14854)  \n",
       "\n",
       "[216 rows x 25 columns]"
      ]
     },
     "execution_count": 127,
     "metadata": {},
     "output_type": "execute_result"
    }
   ],
   "source": [
    "hotspot.loc[hotspot[\"country\"]==unique_countries[1],:]"
   ]
  },
  {
   "cell_type": "code",
   "execution_count": 128,
   "metadata": {},
   "outputs": [
    {
     "data": {
      "text/plain": [
       "('Cat3_Hurricane_Return_Period_PC_PC___Risk_Level', 'Jamaica')"
      ]
     },
     "execution_count": 128,
     "metadata": {},
     "output_type": "execute_result"
    }
   ],
   "source": [
    "name=\"Cat3_Hurricane_Return_Period_PC_PC___Risk_Level\"\n",
    "country='Jamaica'\n",
    "name,country"
   ]
  },
  {
   "cell_type": "code",
   "execution_count": 129,
   "metadata": {},
   "outputs": [
    {
     "data": {
      "text/html": [
       "<div>\n",
       "<style scoped>\n",
       "    .dataframe tbody tr th:only-of-type {\n",
       "        vertical-align: middle;\n",
       "    }\n",
       "\n",
       "    .dataframe tbody tr th {\n",
       "        vertical-align: top;\n",
       "    }\n",
       "\n",
       "    .dataframe thead th {\n",
       "        text-align: right;\n",
       "    }\n",
       "</style>\n",
       "<table border=\"1\" class=\"dataframe\">\n",
       "  <thead>\n",
       "    <tr style=\"text-align: right;\">\n",
       "      <th></th>\n",
       "      <th>Cat3_Hurricane_Return_Period_PC_PC___Risk_Level</th>\n",
       "      <th>continent</th>\n",
       "      <th>country</th>\n",
       "      <th>country_id</th>\n",
       "      <th>lat</th>\n",
       "      <th>lon</th>\n",
       "      <th>transect_id</th>\n",
       "      <th>geometry</th>\n",
       "    </tr>\n",
       "    <tr>\n",
       "      <th>nstations</th>\n",
       "      <th></th>\n",
       "      <th></th>\n",
       "      <th></th>\n",
       "      <th></th>\n",
       "      <th></th>\n",
       "      <th></th>\n",
       "      <th></th>\n",
       "      <th></th>\n",
       "    </tr>\n",
       "  </thead>\n",
       "  <tbody>\n",
       "    <tr>\n",
       "      <th>30986</th>\n",
       "      <td>2.066853</td>\n",
       "      <td>North America</td>\n",
       "      <td>Jamaica</td>\n",
       "      <td>JAM</td>\n",
       "      <td>18.180554</td>\n",
       "      <td>-76.444781</td>\n",
       "      <td>BOX_138_167_21</td>\n",
       "      <td>POINT (-76.44478 18.18055)</td>\n",
       "    </tr>\n",
       "    <tr>\n",
       "      <th>30980</th>\n",
       "      <td>2.066853</td>\n",
       "      <td>North America</td>\n",
       "      <td>Jamaica</td>\n",
       "      <td>JAM</td>\n",
       "      <td>18.179656</td>\n",
       "      <td>-76.420200</td>\n",
       "      <td>BOX_138_167_15</td>\n",
       "      <td>POINT (-76.42020 18.17966)</td>\n",
       "    </tr>\n",
       "    <tr>\n",
       "      <th>30985</th>\n",
       "      <td>2.066853</td>\n",
       "      <td>North America</td>\n",
       "      <td>Jamaica</td>\n",
       "      <td>JAM</td>\n",
       "      <td>18.182918</td>\n",
       "      <td>-76.441067</td>\n",
       "      <td>BOX_138_167_20</td>\n",
       "      <td>POINT (-76.44107 18.18292)</td>\n",
       "    </tr>\n",
       "    <tr>\n",
       "      <th>30983</th>\n",
       "      <td>2.066844</td>\n",
       "      <td>North America</td>\n",
       "      <td>Jamaica</td>\n",
       "      <td>JAM</td>\n",
       "      <td>18.184554</td>\n",
       "      <td>-76.432493</td>\n",
       "      <td>BOX_138_167_18</td>\n",
       "      <td>POINT (-76.43249 18.18455)</td>\n",
       "    </tr>\n",
       "    <tr>\n",
       "      <th>30979</th>\n",
       "      <td>2.066844</td>\n",
       "      <td>North America</td>\n",
       "      <td>Jamaica</td>\n",
       "      <td>JAM</td>\n",
       "      <td>18.178105</td>\n",
       "      <td>-76.416035</td>\n",
       "      <td>BOX_138_167_14</td>\n",
       "      <td>POINT (-76.41604 18.17811)</td>\n",
       "    </tr>\n",
       "    <tr>\n",
       "      <th>...</th>\n",
       "      <td>...</td>\n",
       "      <td>...</td>\n",
       "      <td>...</td>\n",
       "      <td>...</td>\n",
       "      <td>...</td>\n",
       "      <td>...</td>\n",
       "      <td>...</td>\n",
       "      <td>...</td>\n",
       "    </tr>\n",
       "    <tr>\n",
       "      <th>7313</th>\n",
       "      <td>1.266773</td>\n",
       "      <td>North America</td>\n",
       "      <td>Jamaica</td>\n",
       "      <td>JAM</td>\n",
       "      <td>18.499471</td>\n",
       "      <td>-77.683867</td>\n",
       "      <td>BOX_138_161_52</td>\n",
       "      <td>POINT (-77.68387 18.49947)</td>\n",
       "    </tr>\n",
       "    <tr>\n",
       "      <th>7277</th>\n",
       "      <td>1.266773</td>\n",
       "      <td>North America</td>\n",
       "      <td>Jamaica</td>\n",
       "      <td>JAM</td>\n",
       "      <td>18.489511</td>\n",
       "      <td>-77.551622</td>\n",
       "      <td>BOX_138_161_16</td>\n",
       "      <td>POINT (-77.55162 18.48951)</td>\n",
       "    </tr>\n",
       "    <tr>\n",
       "      <th>7278</th>\n",
       "      <td>1.266773</td>\n",
       "      <td>North America</td>\n",
       "      <td>Jamaica</td>\n",
       "      <td>JAM</td>\n",
       "      <td>18.489559</td>\n",
       "      <td>-77.556114</td>\n",
       "      <td>BOX_138_161_17</td>\n",
       "      <td>POINT (-77.55611 18.48956)</td>\n",
       "    </tr>\n",
       "    <tr>\n",
       "      <th>18290</th>\n",
       "      <td>1.266764</td>\n",
       "      <td>North America</td>\n",
       "      <td>Jamaica</td>\n",
       "      <td>JAM</td>\n",
       "      <td>17.865043</td>\n",
       "      <td>-77.619898</td>\n",
       "      <td>BOX_138_153_33</td>\n",
       "      <td>POINT (-77.61990 17.86504)</td>\n",
       "    </tr>\n",
       "    <tr>\n",
       "      <th>9415</th>\n",
       "      <td>1.266764</td>\n",
       "      <td>North America</td>\n",
       "      <td>Jamaica</td>\n",
       "      <td>JAM</td>\n",
       "      <td>18.129197</td>\n",
       "      <td>-78.022638</td>\n",
       "      <td>BOX_138_154_15</td>\n",
       "      <td>POINT (-78.02264 18.12920)</td>\n",
       "    </tr>\n",
       "  </tbody>\n",
       "</table>\n",
       "<p>1307 rows × 8 columns</p>\n",
       "</div>"
      ],
      "text/plain": [
       "           Cat3_Hurricane_Return_Period_PC_PC___Risk_Level      continent  \\\n",
       "nstations                                                                   \n",
       "30986                                             2.066853  North America   \n",
       "30980                                             2.066853  North America   \n",
       "30985                                             2.066853  North America   \n",
       "30983                                             2.066844  North America   \n",
       "30979                                             2.066844  North America   \n",
       "...                                                    ...            ...   \n",
       "7313                                              1.266773  North America   \n",
       "7277                                              1.266773  North America   \n",
       "7278                                              1.266773  North America   \n",
       "18290                                             1.266764  North America   \n",
       "9415                                              1.266764  North America   \n",
       "\n",
       "           country country_id        lat        lon     transect_id  \\\n",
       "nstations                                                             \n",
       "30986      Jamaica        JAM  18.180554 -76.444781  BOX_138_167_21   \n",
       "30980      Jamaica        JAM  18.179656 -76.420200  BOX_138_167_15   \n",
       "30985      Jamaica        JAM  18.182918 -76.441067  BOX_138_167_20   \n",
       "30983      Jamaica        JAM  18.184554 -76.432493  BOX_138_167_18   \n",
       "30979      Jamaica        JAM  18.178105 -76.416035  BOX_138_167_14   \n",
       "...            ...        ...        ...        ...             ...   \n",
       "7313       Jamaica        JAM  18.499471 -77.683867  BOX_138_161_52   \n",
       "7277       Jamaica        JAM  18.489511 -77.551622  BOX_138_161_16   \n",
       "7278       Jamaica        JAM  18.489559 -77.556114  BOX_138_161_17   \n",
       "18290      Jamaica        JAM  17.865043 -77.619898  BOX_138_153_33   \n",
       "9415       Jamaica        JAM  18.129197 -78.022638  BOX_138_154_15   \n",
       "\n",
       "                             geometry  \n",
       "nstations                              \n",
       "30986      POINT (-76.44478 18.18055)  \n",
       "30980      POINT (-76.42020 18.17966)  \n",
       "30985      POINT (-76.44107 18.18292)  \n",
       "30983      POINT (-76.43249 18.18455)  \n",
       "30979      POINT (-76.41604 18.17811)  \n",
       "...                               ...  \n",
       "7313       POINT (-77.68387 18.49947)  \n",
       "7277       POINT (-77.55162 18.48951)  \n",
       "7278       POINT (-77.55611 18.48956)  \n",
       "18290      POINT (-77.61990 17.86504)  \n",
       "9415       POINT (-78.02264 18.12920)  \n",
       "\n",
       "[1307 rows x 8 columns]"
      ]
     },
     "execution_count": 129,
     "metadata": {},
     "output_type": "execute_result"
    }
   ],
   "source": [
    "\n",
    "hotspot_country=hotspot.loc[hotspot[\"country\"]==country,:].copy()\n",
    "hotspot_country_ranked=pd.concat([hotspot_country[name],hotspot_country.iloc[:,-7:]],axis=1)\n",
    "hotspot_country_ranked = gpd.GeoDataFrame(\n",
    "    hotspot_country_ranked, geometry=gpd.points_from_xy(hotspot_country_ranked.lon, hotspot_country_ranked.lat), crs=\"EPSG:4326\"\n",
    ")\n",
    "hotspot_country_ranked=hotspot_country_ranked.sort_values(by=name,ascending=False)\n",
    "\n",
    "hotspot_country_ranked"
   ]
  },
  {
   "cell_type": "code",
   "execution_count": 130,
   "metadata": {},
   "outputs": [
    {
     "data": {
      "text/html": [
       "<div>\n",
       "<style scoped>\n",
       "    .dataframe tbody tr th:only-of-type {\n",
       "        vertical-align: middle;\n",
       "    }\n",
       "\n",
       "    .dataframe tbody tr th {\n",
       "        vertical-align: top;\n",
       "    }\n",
       "\n",
       "    .dataframe thead th {\n",
       "        text-align: right;\n",
       "    }\n",
       "</style>\n",
       "<table border=\"1\" class=\"dataframe\">\n",
       "  <thead>\n",
       "    <tr style=\"text-align: right;\">\n",
       "      <th></th>\n",
       "      <th>Cat3_Hurricane_Return_Period_PC_PC___Risk_Level</th>\n",
       "      <th>continent</th>\n",
       "      <th>country</th>\n",
       "      <th>country_id</th>\n",
       "      <th>lat</th>\n",
       "      <th>lon</th>\n",
       "      <th>transect_id</th>\n",
       "      <th>geometry</th>\n",
       "      <th>distance (m)</th>\n",
       "    </tr>\n",
       "    <tr>\n",
       "      <th>nstations</th>\n",
       "      <th></th>\n",
       "      <th></th>\n",
       "      <th></th>\n",
       "      <th></th>\n",
       "      <th></th>\n",
       "      <th></th>\n",
       "      <th></th>\n",
       "      <th></th>\n",
       "      <th></th>\n",
       "    </tr>\n",
       "  </thead>\n",
       "  <tbody>\n",
       "    <tr>\n",
       "      <th>30986</th>\n",
       "      <td>2.066853</td>\n",
       "      <td>North America</td>\n",
       "      <td>Jamaica</td>\n",
       "      <td>JAM</td>\n",
       "      <td>18.180554</td>\n",
       "      <td>-76.444781</td>\n",
       "      <td>BOX_138_167_21</td>\n",
       "      <td>POINT (347194.977 2010762.692)</td>\n",
       "      <td>NaN</td>\n",
       "    </tr>\n",
       "    <tr>\n",
       "      <th>16889</th>\n",
       "      <td>2.066836</td>\n",
       "      <td>North America</td>\n",
       "      <td>Jamaica</td>\n",
       "      <td>JAM</td>\n",
       "      <td>17.907019</td>\n",
       "      <td>-76.193339</td>\n",
       "      <td>BOX_138_218_46</td>\n",
       "      <td>POINT (373596.549 1980303.355)</td>\n",
       "      <td>40308.984764</td>\n",
       "    </tr>\n",
       "    <tr>\n",
       "      <th>16853</th>\n",
       "      <td>2.066836</td>\n",
       "      <td>North America</td>\n",
       "      <td>Jamaica</td>\n",
       "      <td>JAM</td>\n",
       "      <td>17.887235</td>\n",
       "      <td>-76.326215</td>\n",
       "      <td>BOX_138_218_10</td>\n",
       "      <td>POINT (359504.230 1978209.264)</td>\n",
       "      <td>14247.057974</td>\n",
       "    </tr>\n",
       "  </tbody>\n",
       "</table>\n",
       "</div>"
      ],
      "text/plain": [
       "           Cat3_Hurricane_Return_Period_PC_PC___Risk_Level      continent  \\\n",
       "nstations                                                                   \n",
       "30986                                             2.066853  North America   \n",
       "16889                                             2.066836  North America   \n",
       "16853                                             2.066836  North America   \n",
       "\n",
       "           country country_id        lat        lon     transect_id  \\\n",
       "nstations                                                             \n",
       "30986      Jamaica        JAM  18.180554 -76.444781  BOX_138_167_21   \n",
       "16889      Jamaica        JAM  17.907019 -76.193339  BOX_138_218_46   \n",
       "16853      Jamaica        JAM  17.887235 -76.326215  BOX_138_218_10   \n",
       "\n",
       "                                 geometry  distance (m)  \n",
       "nstations                                                \n",
       "30986      POINT (347194.977 2010762.692)           NaN  \n",
       "16889      POINT (373596.549 1980303.355)  40308.984764  \n",
       "16853      POINT (359504.230 1978209.264)  14247.057974  "
      ]
     },
     "execution_count": 130,
     "metadata": {},
     "output_type": "execute_result"
    }
   ],
   "source": [
    "import geopandas as gpd\n",
    "from shapely.geometry import Point\n",
    "min_separation_radius=10000\n",
    "hotspots_per_country=3\n",
    "\n",
    "hotspot_points=hotspot_country_ranked.iloc[0:1,:]\n",
    "for idx in range(0,hotspots_per_country-1):\n",
    "\n",
    "\n",
    "\n",
    "    utm_zone=utmzone_gen(hotspot_country_ranked.lat.values[0],hotspot_country_ranked.lon.values[0])\n",
    "\n",
    "    # Reproject to a planar CRS for accurate distance calculation\n",
    "    hotspot_country_ranked = hotspot_country_ranked.to_crs(epsg=int(utm_zone.replace(\"EPSG:\",\"\"))) \n",
    "\n",
    "    # Calculate distance from the first row to all other rows\n",
    "    first_point = hotspot_country_ranked.geometry.iloc[0]\n",
    "    hotspot_country_ranked['distance (m)'] = hotspot_country_ranked.geometry.apply(lambda x: first_point.distance(x))\n",
    "\n",
    "# remove points within radius\n",
    "    hotspot_country_ranked=hotspot_country_ranked.loc[hotspot_country_ranked['distance (m)']>min_separation_radius,:].copy() \n",
    "#resort\n",
    "    hotspot_country_ranked=hotspot_country_ranked.sort_values(by=name,ascending=False)   \n",
    "\n",
    "    hotspot_points=pd.concat([hotspot_points.to_crs(epsg=int(utm_zone.replace(\"EPSG:\",\"\"))) ,hotspot_country_ranked.iloc[0:1,:]],axis=0)\n",
    "\n",
    "hotspot_points"
   ]
  },
  {
   "cell_type": "code",
   "execution_count": 131,
   "metadata": {},
   "outputs": [
    {
     "data": {
      "text/html": [
       "<div>\n",
       "<style scoped>\n",
       "    .dataframe tbody tr th:only-of-type {\n",
       "        vertical-align: middle;\n",
       "    }\n",
       "\n",
       "    .dataframe tbody tr th {\n",
       "        vertical-align: top;\n",
       "    }\n",
       "\n",
       "    .dataframe thead th {\n",
       "        text-align: right;\n",
       "    }\n",
       "</style>\n",
       "<table border=\"1\" class=\"dataframe\">\n",
       "  <thead>\n",
       "    <tr style=\"text-align: right;\">\n",
       "      <th></th>\n",
       "      <th>Cat3_Hurricane_Return_Period_PC_PC___Risk_Level</th>\n",
       "      <th>continent</th>\n",
       "      <th>country</th>\n",
       "      <th>country_id</th>\n",
       "      <th>lat</th>\n",
       "      <th>lon</th>\n",
       "      <th>transect_id</th>\n",
       "      <th>geometry</th>\n",
       "      <th>distance (m)</th>\n",
       "    </tr>\n",
       "    <tr>\n",
       "      <th>nstations</th>\n",
       "      <th></th>\n",
       "      <th></th>\n",
       "      <th></th>\n",
       "      <th></th>\n",
       "      <th></th>\n",
       "      <th></th>\n",
       "      <th></th>\n",
       "      <th></th>\n",
       "      <th></th>\n",
       "    </tr>\n",
       "  </thead>\n",
       "  <tbody>\n",
       "    <tr>\n",
       "      <th>30986</th>\n",
       "      <td>2.066853</td>\n",
       "      <td>North America</td>\n",
       "      <td>Jamaica</td>\n",
       "      <td>JAM</td>\n",
       "      <td>18.180554</td>\n",
       "      <td>-76.444781</td>\n",
       "      <td>BOX_138_167_21</td>\n",
       "      <td>POINT (-76.44478 18.18055)</td>\n",
       "      <td>NaN</td>\n",
       "    </tr>\n",
       "    <tr>\n",
       "      <th>16889</th>\n",
       "      <td>2.066836</td>\n",
       "      <td>North America</td>\n",
       "      <td>Jamaica</td>\n",
       "      <td>JAM</td>\n",
       "      <td>17.907019</td>\n",
       "      <td>-76.193339</td>\n",
       "      <td>BOX_138_218_46</td>\n",
       "      <td>POINT (-76.19334 17.90702)</td>\n",
       "      <td>40308.984764</td>\n",
       "    </tr>\n",
       "    <tr>\n",
       "      <th>16853</th>\n",
       "      <td>2.066836</td>\n",
       "      <td>North America</td>\n",
       "      <td>Jamaica</td>\n",
       "      <td>JAM</td>\n",
       "      <td>17.887235</td>\n",
       "      <td>-76.326215</td>\n",
       "      <td>BOX_138_218_10</td>\n",
       "      <td>POINT (-76.32621 17.88724)</td>\n",
       "      <td>14247.057974</td>\n",
       "    </tr>\n",
       "  </tbody>\n",
       "</table>\n",
       "</div>"
      ],
      "text/plain": [
       "           Cat3_Hurricane_Return_Period_PC_PC___Risk_Level      continent  \\\n",
       "nstations                                                                   \n",
       "30986                                             2.066853  North America   \n",
       "16889                                             2.066836  North America   \n",
       "16853                                             2.066836  North America   \n",
       "\n",
       "           country country_id        lat        lon     transect_id  \\\n",
       "nstations                                                             \n",
       "30986      Jamaica        JAM  18.180554 -76.444781  BOX_138_167_21   \n",
       "16889      Jamaica        JAM  17.907019 -76.193339  BOX_138_218_46   \n",
       "16853      Jamaica        JAM  17.887235 -76.326215  BOX_138_218_10   \n",
       "\n",
       "                             geometry  distance (m)  \n",
       "nstations                                            \n",
       "30986      POINT (-76.44478 18.18055)           NaN  \n",
       "16889      POINT (-76.19334 17.90702)  40308.984764  \n",
       "16853      POINT (-76.32621 17.88724)  14247.057974  "
      ]
     },
     "execution_count": 131,
     "metadata": {},
     "output_type": "execute_result"
    }
   ],
   "source": [
    "hotspot_points= gpd.GeoDataFrame(\n",
    "    hotspot_points, geometry=gpd.points_from_xy(hotspot_points.lon, hotspot_points.lat), crs=\"EPSG:4326\"\n",
    ")\n",
    "hotspot_points"
   ]
  },
  {
   "cell_type": "code",
   "execution_count": 143,
   "metadata": {},
   "outputs": [
    {
     "data": {
      "text/html": [
       "<div>\n",
       "<style scoped>\n",
       "    .dataframe tbody tr th:only-of-type {\n",
       "        vertical-align: middle;\n",
       "    }\n",
       "\n",
       "    .dataframe tbody tr th {\n",
       "        vertical-align: top;\n",
       "    }\n",
       "\n",
       "    .dataframe thead th {\n",
       "        text-align: right;\n",
       "    }\n",
       "</style>\n",
       "<table border=\"1\" class=\"dataframe\">\n",
       "  <thead>\n",
       "    <tr style=\"text-align: right;\">\n",
       "      <th></th>\n",
       "      <th>Cat3_Hurricane_Return_Period_PC_PC___Risk_Level</th>\n",
       "      <th>continent</th>\n",
       "      <th>country</th>\n",
       "      <th>country_id</th>\n",
       "      <th>lat</th>\n",
       "      <th>lon</th>\n",
       "      <th>transect_id</th>\n",
       "      <th>geometry</th>\n",
       "      <th>distance (m)</th>\n",
       "      <th>address</th>\n",
       "    </tr>\n",
       "    <tr>\n",
       "      <th>nstations</th>\n",
       "      <th></th>\n",
       "      <th></th>\n",
       "      <th></th>\n",
       "      <th></th>\n",
       "      <th></th>\n",
       "      <th></th>\n",
       "      <th></th>\n",
       "      <th></th>\n",
       "      <th></th>\n",
       "      <th></th>\n",
       "    </tr>\n",
       "  </thead>\n",
       "  <tbody>\n",
       "    <tr>\n",
       "      <th>30986</th>\n",
       "      <td>2.066853</td>\n",
       "      <td>North America</td>\n",
       "      <td>Jamaica</td>\n",
       "      <td>JAM</td>\n",
       "      <td>18.180554</td>\n",
       "      <td>-76.444781</td>\n",
       "      <td>BOX_138_167_21</td>\n",
       "      <td>POINT (-76.44478 18.18055)</td>\n",
       "      <td>NaN</td>\n",
       "      <td>Sports Bar, Allan Avenue, Port Antonio, Portla...</td>\n",
       "    </tr>\n",
       "    <tr>\n",
       "      <th>16889</th>\n",
       "      <td>2.066836</td>\n",
       "      <td>North America</td>\n",
       "      <td>Jamaica</td>\n",
       "      <td>JAM</td>\n",
       "      <td>17.907019</td>\n",
       "      <td>-76.193339</td>\n",
       "      <td>BOX_138_218_46</td>\n",
       "      <td>POINT (-76.19334 17.90702)</td>\n",
       "      <td>40308.984764</td>\n",
       "      <td>Dalvey, Saint Thomas, Surrey County, Jamaica</td>\n",
       "    </tr>\n",
       "    <tr>\n",
       "      <th>16853</th>\n",
       "      <td>2.066836</td>\n",
       "      <td>North America</td>\n",
       "      <td>Jamaica</td>\n",
       "      <td>JAM</td>\n",
       "      <td>17.887235</td>\n",
       "      <td>-76.326215</td>\n",
       "      <td>BOX_138_218_10</td>\n",
       "      <td>POINT (-76.32621 17.88724)</td>\n",
       "      <td>14247.057974</td>\n",
       "      <td>Lyssons Road, Harbour Head, Bowden, Port Moran...</td>\n",
       "    </tr>\n",
       "  </tbody>\n",
       "</table>\n",
       "</div>"
      ],
      "text/plain": [
       "           Cat3_Hurricane_Return_Period_PC_PC___Risk_Level      continent  \\\n",
       "nstations                                                                   \n",
       "30986                                             2.066853  North America   \n",
       "16889                                             2.066836  North America   \n",
       "16853                                             2.066836  North America   \n",
       "\n",
       "           country country_id        lat        lon     transect_id  \\\n",
       "nstations                                                             \n",
       "30986      Jamaica        JAM  18.180554 -76.444781  BOX_138_167_21   \n",
       "16889      Jamaica        JAM  17.907019 -76.193339  BOX_138_218_46   \n",
       "16853      Jamaica        JAM  17.887235 -76.326215  BOX_138_218_10   \n",
       "\n",
       "                             geometry  distance (m)  \\\n",
       "nstations                                             \n",
       "30986      POINT (-76.44478 18.18055)           NaN   \n",
       "16889      POINT (-76.19334 17.90702)  40308.984764   \n",
       "16853      POINT (-76.32621 17.88724)  14247.057974   \n",
       "\n",
       "                                                     address  \n",
       "nstations                                                     \n",
       "30986      Sports Bar, Allan Avenue, Port Antonio, Portla...  \n",
       "16889           Dalvey, Saint Thomas, Surrey County, Jamaica  \n",
       "16853      Lyssons Road, Harbour Head, Bowden, Port Moran...  "
      ]
     },
     "execution_count": 143,
     "metadata": {},
     "output_type": "execute_result"
    }
   ],
   "source": [
    "from geopy.geocoders import Nominatim\n",
    "\n",
    "\n",
    "# Initialize the geolocator\n",
    "geolocator = Nominatim(user_agent=\"geoapiExercises\")\n",
    "\n",
    "# Function to perform reverse geocoding\n",
    "def reverse_geocode(lat, lon):\n",
    "    try:\n",
    "        location = geolocator.reverse((lat, lon), exactly_one=True)\n",
    "        return location.address if location else \"Address not found\"\n",
    "    except Exception as e:\n",
    "        return str(e)\n",
    "\n",
    "# Apply the reverse geocoding function to each row in the DataFrame\n",
    "hotspot_points['address'] = hotspot_points.apply(\n",
    "    lambda row: reverse_geocode(row['lat'], row['lon']),\n",
    "    axis=1\n",
    ")\n",
    "hotspot_points"
   ]
  },
  {
   "cell_type": "code",
   "execution_count": 133,
   "metadata": {},
   "outputs": [
    {
     "data": {
      "text/plain": [
       "'Cat3_Hurricane_Return_Period_PC_PC___Risk_Level'"
      ]
     },
     "execution_count": 133,
     "metadata": {},
     "output_type": "execute_result"
    }
   ],
   "source": [
    "col[0]"
   ]
  },
  {
   "cell_type": "code",
   "execution_count": 142,
   "metadata": {},
   "outputs": [
    {
     "data": {
      "application/vnd.plotly.v1+json": {
       "config": {
        "plotlyServerURL": "https://plot.ly"
       },
       "data": [
        {
         "hovertemplate": "<b>%{hovertext}</b><br><br>lat=%{lat}<br>lon=%{lon}<extra></extra>",
         "hovertext": [
          2.066853288544083,
          2.066835515031948,
          2.066835515031948
         ],
         "lat": [
          18.1805536622,
          17.907019337,
          17.887235416
         ],
         "legendgroup": "",
         "lon": [
          -76.4447810196,
          -76.1933385559,
          -76.3262146248
         ],
         "marker": {
          "color": "red",
          "size": 10
         },
         "mode": "markers",
         "name": "",
         "showlegend": false,
         "subplot": "mapbox",
         "type": "scattermapbox"
        }
       ],
       "layout": {
        "height": 1200,
        "legend": {
         "tracegroupgap": 0
        },
        "mapbox": {
         "center": {
          "lat": 19.1,
          "lon": -73.3
         },
         "domain": {
          "x": [
           0,
           1
          ],
          "y": [
           0,
           1
          ]
         },
         "layers": [
          {
           "below": "traces",
           "source": [
            "https://services.arcgisonline.com/arcgis/rest/services/World_Imagery/MapServer/tile/{z}/{y}/{x}"
           ],
           "sourceattribution": "ESRI World Imagery",
           "sourcetype": "raster"
          }
         ],
         "style": "carto-positron",
         "zoom": 5.3
        },
        "margin": {
         "t": 60
        },
        "template": {
         "data": {
          "bar": [
           {
            "error_x": {
             "color": "#2a3f5f"
            },
            "error_y": {
             "color": "#2a3f5f"
            },
            "marker": {
             "line": {
              "color": "#E5ECF6",
              "width": 0.5
             },
             "pattern": {
              "fillmode": "overlay",
              "size": 10,
              "solidity": 0.2
             }
            },
            "type": "bar"
           }
          ],
          "barpolar": [
           {
            "marker": {
             "line": {
              "color": "#E5ECF6",
              "width": 0.5
             },
             "pattern": {
              "fillmode": "overlay",
              "size": 10,
              "solidity": 0.2
             }
            },
            "type": "barpolar"
           }
          ],
          "carpet": [
           {
            "aaxis": {
             "endlinecolor": "#2a3f5f",
             "gridcolor": "white",
             "linecolor": "white",
             "minorgridcolor": "white",
             "startlinecolor": "#2a3f5f"
            },
            "baxis": {
             "endlinecolor": "#2a3f5f",
             "gridcolor": "white",
             "linecolor": "white",
             "minorgridcolor": "white",
             "startlinecolor": "#2a3f5f"
            },
            "type": "carpet"
           }
          ],
          "choropleth": [
           {
            "colorbar": {
             "outlinewidth": 0,
             "ticks": ""
            },
            "type": "choropleth"
           }
          ],
          "contour": [
           {
            "colorbar": {
             "outlinewidth": 0,
             "ticks": ""
            },
            "colorscale": [
             [
              0,
              "#0d0887"
             ],
             [
              0.1111111111111111,
              "#46039f"
             ],
             [
              0.2222222222222222,
              "#7201a8"
             ],
             [
              0.3333333333333333,
              "#9c179e"
             ],
             [
              0.4444444444444444,
              "#bd3786"
             ],
             [
              0.5555555555555556,
              "#d8576b"
             ],
             [
              0.6666666666666666,
              "#ed7953"
             ],
             [
              0.7777777777777778,
              "#fb9f3a"
             ],
             [
              0.8888888888888888,
              "#fdca26"
             ],
             [
              1,
              "#f0f921"
             ]
            ],
            "type": "contour"
           }
          ],
          "contourcarpet": [
           {
            "colorbar": {
             "outlinewidth": 0,
             "ticks": ""
            },
            "type": "contourcarpet"
           }
          ],
          "heatmap": [
           {
            "colorbar": {
             "outlinewidth": 0,
             "ticks": ""
            },
            "colorscale": [
             [
              0,
              "#0d0887"
             ],
             [
              0.1111111111111111,
              "#46039f"
             ],
             [
              0.2222222222222222,
              "#7201a8"
             ],
             [
              0.3333333333333333,
              "#9c179e"
             ],
             [
              0.4444444444444444,
              "#bd3786"
             ],
             [
              0.5555555555555556,
              "#d8576b"
             ],
             [
              0.6666666666666666,
              "#ed7953"
             ],
             [
              0.7777777777777778,
              "#fb9f3a"
             ],
             [
              0.8888888888888888,
              "#fdca26"
             ],
             [
              1,
              "#f0f921"
             ]
            ],
            "type": "heatmap"
           }
          ],
          "heatmapgl": [
           {
            "colorbar": {
             "outlinewidth": 0,
             "ticks": ""
            },
            "colorscale": [
             [
              0,
              "#0d0887"
             ],
             [
              0.1111111111111111,
              "#46039f"
             ],
             [
              0.2222222222222222,
              "#7201a8"
             ],
             [
              0.3333333333333333,
              "#9c179e"
             ],
             [
              0.4444444444444444,
              "#bd3786"
             ],
             [
              0.5555555555555556,
              "#d8576b"
             ],
             [
              0.6666666666666666,
              "#ed7953"
             ],
             [
              0.7777777777777778,
              "#fb9f3a"
             ],
             [
              0.8888888888888888,
              "#fdca26"
             ],
             [
              1,
              "#f0f921"
             ]
            ],
            "type": "heatmapgl"
           }
          ],
          "histogram": [
           {
            "marker": {
             "pattern": {
              "fillmode": "overlay",
              "size": 10,
              "solidity": 0.2
             }
            },
            "type": "histogram"
           }
          ],
          "histogram2d": [
           {
            "colorbar": {
             "outlinewidth": 0,
             "ticks": ""
            },
            "colorscale": [
             [
              0,
              "#0d0887"
             ],
             [
              0.1111111111111111,
              "#46039f"
             ],
             [
              0.2222222222222222,
              "#7201a8"
             ],
             [
              0.3333333333333333,
              "#9c179e"
             ],
             [
              0.4444444444444444,
              "#bd3786"
             ],
             [
              0.5555555555555556,
              "#d8576b"
             ],
             [
              0.6666666666666666,
              "#ed7953"
             ],
             [
              0.7777777777777778,
              "#fb9f3a"
             ],
             [
              0.8888888888888888,
              "#fdca26"
             ],
             [
              1,
              "#f0f921"
             ]
            ],
            "type": "histogram2d"
           }
          ],
          "histogram2dcontour": [
           {
            "colorbar": {
             "outlinewidth": 0,
             "ticks": ""
            },
            "colorscale": [
             [
              0,
              "#0d0887"
             ],
             [
              0.1111111111111111,
              "#46039f"
             ],
             [
              0.2222222222222222,
              "#7201a8"
             ],
             [
              0.3333333333333333,
              "#9c179e"
             ],
             [
              0.4444444444444444,
              "#bd3786"
             ],
             [
              0.5555555555555556,
              "#d8576b"
             ],
             [
              0.6666666666666666,
              "#ed7953"
             ],
             [
              0.7777777777777778,
              "#fb9f3a"
             ],
             [
              0.8888888888888888,
              "#fdca26"
             ],
             [
              1,
              "#f0f921"
             ]
            ],
            "type": "histogram2dcontour"
           }
          ],
          "mesh3d": [
           {
            "colorbar": {
             "outlinewidth": 0,
             "ticks": ""
            },
            "type": "mesh3d"
           }
          ],
          "parcoords": [
           {
            "line": {
             "colorbar": {
              "outlinewidth": 0,
              "ticks": ""
             }
            },
            "type": "parcoords"
           }
          ],
          "pie": [
           {
            "automargin": true,
            "type": "pie"
           }
          ],
          "scatter": [
           {
            "fillpattern": {
             "fillmode": "overlay",
             "size": 10,
             "solidity": 0.2
            },
            "type": "scatter"
           }
          ],
          "scatter3d": [
           {
            "line": {
             "colorbar": {
              "outlinewidth": 0,
              "ticks": ""
             }
            },
            "marker": {
             "colorbar": {
              "outlinewidth": 0,
              "ticks": ""
             }
            },
            "type": "scatter3d"
           }
          ],
          "scattercarpet": [
           {
            "marker": {
             "colorbar": {
              "outlinewidth": 0,
              "ticks": ""
             }
            },
            "type": "scattercarpet"
           }
          ],
          "scattergeo": [
           {
            "marker": {
             "colorbar": {
              "outlinewidth": 0,
              "ticks": ""
             }
            },
            "type": "scattergeo"
           }
          ],
          "scattergl": [
           {
            "marker": {
             "colorbar": {
              "outlinewidth": 0,
              "ticks": ""
             }
            },
            "type": "scattergl"
           }
          ],
          "scattermapbox": [
           {
            "marker": {
             "colorbar": {
              "outlinewidth": 0,
              "ticks": ""
             }
            },
            "type": "scattermapbox"
           }
          ],
          "scatterpolar": [
           {
            "marker": {
             "colorbar": {
              "outlinewidth": 0,
              "ticks": ""
             }
            },
            "type": "scatterpolar"
           }
          ],
          "scatterpolargl": [
           {
            "marker": {
             "colorbar": {
              "outlinewidth": 0,
              "ticks": ""
             }
            },
            "type": "scatterpolargl"
           }
          ],
          "scatterternary": [
           {
            "marker": {
             "colorbar": {
              "outlinewidth": 0,
              "ticks": ""
             }
            },
            "type": "scatterternary"
           }
          ],
          "surface": [
           {
            "colorbar": {
             "outlinewidth": 0,
             "ticks": ""
            },
            "colorscale": [
             [
              0,
              "#0d0887"
             ],
             [
              0.1111111111111111,
              "#46039f"
             ],
             [
              0.2222222222222222,
              "#7201a8"
             ],
             [
              0.3333333333333333,
              "#9c179e"
             ],
             [
              0.4444444444444444,
              "#bd3786"
             ],
             [
              0.5555555555555556,
              "#d8576b"
             ],
             [
              0.6666666666666666,
              "#ed7953"
             ],
             [
              0.7777777777777778,
              "#fb9f3a"
             ],
             [
              0.8888888888888888,
              "#fdca26"
             ],
             [
              1,
              "#f0f921"
             ]
            ],
            "type": "surface"
           }
          ],
          "table": [
           {
            "cells": {
             "fill": {
              "color": "#EBF0F8"
             },
             "line": {
              "color": "white"
             }
            },
            "header": {
             "fill": {
              "color": "#C8D4E3"
             },
             "line": {
              "color": "white"
             }
            },
            "type": "table"
           }
          ]
         },
         "layout": {
          "annotationdefaults": {
           "arrowcolor": "#2a3f5f",
           "arrowhead": 0,
           "arrowwidth": 1
          },
          "autotypenumbers": "strict",
          "coloraxis": {
           "colorbar": {
            "outlinewidth": 0,
            "ticks": ""
           }
          },
          "colorscale": {
           "diverging": [
            [
             0,
             "#8e0152"
            ],
            [
             0.1,
             "#c51b7d"
            ],
            [
             0.2,
             "#de77ae"
            ],
            [
             0.3,
             "#f1b6da"
            ],
            [
             0.4,
             "#fde0ef"
            ],
            [
             0.5,
             "#f7f7f7"
            ],
            [
             0.6,
             "#e6f5d0"
            ],
            [
             0.7,
             "#b8e186"
            ],
            [
             0.8,
             "#7fbc41"
            ],
            [
             0.9,
             "#4d9221"
            ],
            [
             1,
             "#276419"
            ]
           ],
           "sequential": [
            [
             0,
             "#0d0887"
            ],
            [
             0.1111111111111111,
             "#46039f"
            ],
            [
             0.2222222222222222,
             "#7201a8"
            ],
            [
             0.3333333333333333,
             "#9c179e"
            ],
            [
             0.4444444444444444,
             "#bd3786"
            ],
            [
             0.5555555555555556,
             "#d8576b"
            ],
            [
             0.6666666666666666,
             "#ed7953"
            ],
            [
             0.7777777777777778,
             "#fb9f3a"
            ],
            [
             0.8888888888888888,
             "#fdca26"
            ],
            [
             1,
             "#f0f921"
            ]
           ],
           "sequentialminus": [
            [
             0,
             "#0d0887"
            ],
            [
             0.1111111111111111,
             "#46039f"
            ],
            [
             0.2222222222222222,
             "#7201a8"
            ],
            [
             0.3333333333333333,
             "#9c179e"
            ],
            [
             0.4444444444444444,
             "#bd3786"
            ],
            [
             0.5555555555555556,
             "#d8576b"
            ],
            [
             0.6666666666666666,
             "#ed7953"
            ],
            [
             0.7777777777777778,
             "#fb9f3a"
            ],
            [
             0.8888888888888888,
             "#fdca26"
            ],
            [
             1,
             "#f0f921"
            ]
           ]
          },
          "colorway": [
           "#636efa",
           "#EF553B",
           "#00cc96",
           "#ab63fa",
           "#FFA15A",
           "#19d3f3",
           "#FF6692",
           "#B6E880",
           "#FF97FF",
           "#FECB52"
          ],
          "font": {
           "color": "#2a3f5f"
          },
          "geo": {
           "bgcolor": "white",
           "lakecolor": "white",
           "landcolor": "#E5ECF6",
           "showlakes": true,
           "showland": true,
           "subunitcolor": "white"
          },
          "hoverlabel": {
           "align": "left"
          },
          "hovermode": "closest",
          "mapbox": {
           "style": "light"
          },
          "paper_bgcolor": "white",
          "plot_bgcolor": "#E5ECF6",
          "polar": {
           "angularaxis": {
            "gridcolor": "white",
            "linecolor": "white",
            "ticks": ""
           },
           "bgcolor": "#E5ECF6",
           "radialaxis": {
            "gridcolor": "white",
            "linecolor": "white",
            "ticks": ""
           }
          },
          "scene": {
           "xaxis": {
            "backgroundcolor": "#E5ECF6",
            "gridcolor": "white",
            "gridwidth": 2,
            "linecolor": "white",
            "showbackground": true,
            "ticks": "",
            "zerolinecolor": "white"
           },
           "yaxis": {
            "backgroundcolor": "#E5ECF6",
            "gridcolor": "white",
            "gridwidth": 2,
            "linecolor": "white",
            "showbackground": true,
            "ticks": "",
            "zerolinecolor": "white"
           },
           "zaxis": {
            "backgroundcolor": "#E5ECF6",
            "gridcolor": "white",
            "gridwidth": 2,
            "linecolor": "white",
            "showbackground": true,
            "ticks": "",
            "zerolinecolor": "white"
           }
          },
          "shapedefaults": {
           "line": {
            "color": "#2a3f5f"
           }
          },
          "ternary": {
           "aaxis": {
            "gridcolor": "white",
            "linecolor": "white",
            "ticks": ""
           },
           "baxis": {
            "gridcolor": "white",
            "linecolor": "white",
            "ticks": ""
           },
           "bgcolor": "#E5ECF6",
           "caxis": {
            "gridcolor": "white",
            "linecolor": "white",
            "ticks": ""
           }
          },
          "title": {
           "x": 0.05
          },
          "xaxis": {
           "automargin": true,
           "gridcolor": "white",
           "linecolor": "white",
           "ticks": "",
           "title": {
            "standoff": 15
           },
           "zerolinecolor": "white",
           "zerolinewidth": 2
          },
          "yaxis": {
           "automargin": true,
           "gridcolor": "white",
           "linecolor": "white",
           "ticks": "",
           "title": {
            "standoff": 15
           },
           "zerolinecolor": "white",
           "zerolinewidth": 2
          }
         }
        },
        "title": {
         "font": {
          "size": 14
         },
         "text": "0 Hotspot Distribution along Caribbean's shoreline",
         "x": 0.5,
         "xanchor": "center"
        },
        "width": 2000
       }
      }
     },
     "metadata": {},
     "output_type": "display_data"
    }
   ],
   "source": [
    "\n",
    "for name in range(0,1):\n",
    "\n",
    "    import plotly.express as px\n",
    "    import plotly.io as pio\n",
    "    import numpy as np\n",
    "    import os\n",
    "\n",
    "    long_name = gornitz_ESL_filled_gdf.columns[0]\n",
    "    print_val=long_name.replace(\"_\",\" \")\n",
    "    # Define tick names\n",
    "\n",
    "    lat = 18.1\n",
    "    lon = -77.3\n",
    "    view_width = 10\n",
    "\n",
    "\n",
    "\n",
    "    gornitz_ESL_filled_gdf=hotspot_points\n",
    "   \n",
    "\n",
    "\n",
    "    # Create scatter map plot\n",
    "    fig = px.scatter_mapbox(gornitz_ESL_filled_gdf,\n",
    "                                    lat=\"lat\",\n",
    "                                    lon=\"lon\",\n",
    "                                    hover_name=gornitz_ESL_filled_gdf.columns[0],\n",
    "                                    color_discrete_sequence=[\"red\"],\n",
    "                                    width=2000,\n",
    "                                    height=1200)\n",
    "\n",
    "\n",
    "    # fig.update_traces(marker={'symbol': \"star\"})\n",
    "    \n",
    "\n",
    "    fig.update_layout(\n",
    "        mapbox=dict(center=dict(lat=lat + 1, lon=lon + 4), zoom=5.3),\n",
    "        title=dict(\n",
    "            text=f\"{name} Hotspot Distribution along Caribbean's shoreline\",\n",
    "            font=dict(size=14),\n",
    "            x=0.5,  # Centers the title\n",
    "            xanchor='center'  # Aligns the title in the center\n",
    "        )\n",
    "    )\n",
    "\n",
    "    \n",
    "    fig.update_traces(marker=dict(size=10))\n",
    "\n",
    "\n",
    "    fig.update_layout(\n",
    "        mapbox_style=\"carto-positron\",\n",
    "        mapbox_layers=[\n",
    "            {\n",
    "                \"below\": 'traces',\n",
    "                \"sourcetype\": \"raster\",\n",
    "                \"sourceattribution\": \"ESRI World Imagery\",\n",
    "                \"source\": [\n",
    "                    \"https://services.arcgisonline.com/arcgis/rest/services/World_Imagery/MapServer/tile/{z}/{y}/{x}\"\n",
    "                ]\n",
    "            },\n",
    "            # {\n",
    "            #     \"below\": 'traces',\n",
    "            #     \"sourcetype\": \"raster\",\n",
    "            #     \"sourceattribution\": \"Google Maps\",\n",
    "            #     \"source\": [\n",
    "            #         \"http://mt0.google.com/vt/lyrs=s&hl=en&x={x}&y={y}&z={z}\"\n",
    "            #     ]\n",
    "            # },\n",
    "            # {\n",
    "            #     \"below\": 'traces',\n",
    "            #     \"sourcetype\": \"raster\",\n",
    "            #     \"sourceattribution\": \"United States Geological Survey\",\n",
    "            #     \"source\": [\n",
    "            #         \"https://basemap.nationalmap.gov/arcgis/rest/services/USGSImageryOnly/MapServer/tile/{z}/{y}/{x}\"\n",
    "            #     ]\n",
    "            # },\n",
    "            # {\n",
    "            #     \"below\": 'traces',\n",
    "            #     \"sourcetype\": \"raster\",\n",
    "            #     \"sourceattribution\": \"Bing Maps Satellite Imagery\",\n",
    "            #     \"source\": [\n",
    "            #         \"https://t0.tiles.virtualearth.net/tiles/a{q}.jpeg?g=685&mkt=en-us&n=z\"\n",
    "            #     ]\n",
    "            # },\n",
    "        \n",
    "\n",
    "        ]\n",
    "        )\n",
    "\n",
    "\n",
    "\n",
    "\n",
    "    # Show the figure\n",
    "    fig.show()\n",
    "\n",
    "    # img_directory_path=r\"C:\\Users\\rowe\\Desktop\\1- Thesis plots\\RLs\"\n",
    "\n",
    "    # # Save the figure\n",
    "    # fig_name_shoreline = \"Risk level\" + print_val +\".png\"\n",
    "    # pio.write_image(fig, os.path.join(img_directory_path, fig_name_shoreline))"
   ]
  }
 ],
 "metadata": {
  "kernelspec": {
   "display_name": "Python 3",
   "language": "python",
   "name": "python3"
  },
  "language_info": {
   "codemirror_mode": {
    "name": "ipython",
    "version": 3
   },
   "file_extension": ".py",
   "mimetype": "text/x-python",
   "name": "python",
   "nbconvert_exporter": "python",
   "pygments_lexer": "ipython3",
   "version": "3.11.7"
  }
 },
 "nbformat": 4,
 "nbformat_minor": 2
}
