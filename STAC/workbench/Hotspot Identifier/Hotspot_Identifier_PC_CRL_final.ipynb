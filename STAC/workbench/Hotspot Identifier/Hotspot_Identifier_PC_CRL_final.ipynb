{
 "cells": [
  {
   "cell_type": "code",
   "execution_count": null,
   "metadata": {},
   "outputs": [],
   "source": []
  },
  {
   "cell_type": "code",
   "execution_count": 1,
   "metadata": {},
   "outputs": [],
   "source": [
    "import xarray as xr\n",
    "import geopandas as gpd\n",
    "import pandas as pd\n",
    "import utm\n",
    "import os\n",
    "\n"
   ]
  },
  {
   "cell_type": "code",
   "execution_count": 2,
   "metadata": {},
   "outputs": [],
   "source": [
    "def utmzone_gen(lat,lon):\n",
    "    utm_zone = utm.from_latlon(lat, lon)\n",
    "    utm_zone\n",
    "    if lat>=0:\n",
    "        transform = f\"EPSG:326{utm_zone[2]}\"\n",
    "    else:\n",
    "        transform = f\"EPSG:327{utm_zone[2]}\"\n",
    "    return transform"
   ]
  },
  {
   "cell_type": "code",
   "execution_count": 3,
   "metadata": {},
   "outputs": [],
   "source": [
    "\n",
    "directory_path=r\"P:\\11209197-018-global-coastal-atlas\\MSc_students\\ClenmarRowe\\Data\\Processed_data_CVI_components\\Caribbean Thesis_Results\\Hotspot Identification\\PC\"\n",
    "img_directory_path=r\"P:\\11209197-018-global-coastal-atlas\\MSc_students\\ClenmarRowe\\Data\\Processed_data_CVI_components\\Caribbean Thesis_Results\\Hotspot Identification\\PC\\plots\""
   ]
  },
  {
   "cell_type": "code",
   "execution_count": 4,
   "metadata": {},
   "outputs": [
    {
     "data": {
      "text/html": [
       "<div>\n",
       "<style scoped>\n",
       "    .dataframe tbody tr th:only-of-type {\n",
       "        vertical-align: middle;\n",
       "    }\n",
       "\n",
       "    .dataframe tbody tr th {\n",
       "        vertical-align: top;\n",
       "    }\n",
       "\n",
       "    .dataframe thead th {\n",
       "        text-align: right;\n",
       "    }\n",
       "</style>\n",
       "<table border=\"1\" class=\"dataframe\">\n",
       "  <thead>\n",
       "    <tr style=\"text-align: right;\">\n",
       "      <th></th>\n",
       "      <th>Cat3_Hurricane_Return_Period_PC_PC___Hazard_Level</th>\n",
       "      <th>Cat3_Hurricane_Return_Period_PC_PC___Risk_Level</th>\n",
       "      <th>Cat3_Hurricane_Return_Period_PC_PC___Risk_Level_Class</th>\n",
       "      <th>Cat3_Hurricane_Return_Period_PC_PC_value</th>\n",
       "      <th>Cat3_TC_Return_Period_FC_2050_8_5___Hazard_Level</th>\n",
       "      <th>Cat3_TC_Return_Period_FC_2050_8_5___Risk_Level</th>\n",
       "      <th>Cat3_TC_Return_Period_FC_2050_8_5___Risk_Level_Class</th>\n",
       "      <th>Cat3_TC_Return_Period_FC_2050_8_5_value</th>\n",
       "      <th>Cat3_TC_Return_Period_FC_2100_4_5___Hazard_Level</th>\n",
       "      <th>Cat3_TC_Return_Period_FC_2100_4_5___Risk_Level</th>\n",
       "      <th>...</th>\n",
       "      <th>Uncertainty_Columns</th>\n",
       "      <th>Uncertainty_Columns_length</th>\n",
       "      <th>World_Protected_Areas_Status_and_Governance___Vulnerability_level</th>\n",
       "      <th>continent</th>\n",
       "      <th>country</th>\n",
       "      <th>country_id</th>\n",
       "      <th>lat</th>\n",
       "      <th>lon</th>\n",
       "      <th>transect_id</th>\n",
       "      <th>geometry</th>\n",
       "    </tr>\n",
       "    <tr>\n",
       "      <th>nstations</th>\n",
       "      <th></th>\n",
       "      <th></th>\n",
       "      <th></th>\n",
       "      <th></th>\n",
       "      <th></th>\n",
       "      <th></th>\n",
       "      <th></th>\n",
       "      <th></th>\n",
       "      <th></th>\n",
       "      <th></th>\n",
       "      <th></th>\n",
       "      <th></th>\n",
       "      <th></th>\n",
       "      <th></th>\n",
       "      <th></th>\n",
       "      <th></th>\n",
       "      <th></th>\n",
       "      <th></th>\n",
       "      <th></th>\n",
       "      <th></th>\n",
       "      <th></th>\n",
       "    </tr>\n",
       "  </thead>\n",
       "  <tbody>\n",
       "    <tr>\n",
       "      <th>0</th>\n",
       "      <td>3</td>\n",
       "      <td>3.200000</td>\n",
       "      <td>5.0</td>\n",
       "      <td>Cat3_Hurricane_Return_Period_PC_percentile 7.0...</td>\n",
       "      <td>5</td>\n",
       "      <td>4.133333</td>\n",
       "      <td>5.0</td>\n",
       "      <td>Cat3_TC_Return_Period_FC_2050_8_5 4.78years</td>\n",
       "      <td>2</td>\n",
       "      <td>3.133333</td>\n",
       "      <td>...</td>\n",
       "      <td></td>\n",
       "      <td>0</td>\n",
       "      <td>3</td>\n",
       "      <td>South America</td>\n",
       "      <td>Colombia</td>\n",
       "      <td>COL</td>\n",
       "      <td>12.250684</td>\n",
       "      <td>-71.879805</td>\n",
       "      <td>BOX_116_353_2</td>\n",
       "      <td>POINT (-71.87980 12.25068)</td>\n",
       "    </tr>\n",
       "    <tr>\n",
       "      <th>1</th>\n",
       "      <td>3</td>\n",
       "      <td>3.133333</td>\n",
       "      <td>5.0</td>\n",
       "      <td>Cat3_Hurricane_Return_Period_PC_percentile 7.0...</td>\n",
       "      <td>5</td>\n",
       "      <td>3.866667</td>\n",
       "      <td>5.0</td>\n",
       "      <td>Cat3_TC_Return_Period_FC_2050_8_5 4.78years</td>\n",
       "      <td>2</td>\n",
       "      <td>2.866667</td>\n",
       "      <td>...</td>\n",
       "      <td></td>\n",
       "      <td>0</td>\n",
       "      <td>3</td>\n",
       "      <td>South America</td>\n",
       "      <td>Colombia</td>\n",
       "      <td>COL</td>\n",
       "      <td>12.247308</td>\n",
       "      <td>-71.876981</td>\n",
       "      <td>BOX_116_353_3</td>\n",
       "      <td>POINT (-71.87698 12.24731)</td>\n",
       "    </tr>\n",
       "    <tr>\n",
       "      <th>2</th>\n",
       "      <td>3</td>\n",
       "      <td>3.266667</td>\n",
       "      <td>5.0</td>\n",
       "      <td>Cat3_Hurricane_Return_Period_PC_percentile 7.0...</td>\n",
       "      <td>5</td>\n",
       "      <td>4.133333</td>\n",
       "      <td>5.0</td>\n",
       "      <td>Cat3_TC_Return_Period_FC_2050_8_5 4.78years</td>\n",
       "      <td>2</td>\n",
       "      <td>3.133333</td>\n",
       "      <td>...</td>\n",
       "      <td></td>\n",
       "      <td>0</td>\n",
       "      <td>3</td>\n",
       "      <td>South America</td>\n",
       "      <td>Colombia</td>\n",
       "      <td>COL</td>\n",
       "      <td>12.243144</td>\n",
       "      <td>-71.875632</td>\n",
       "      <td>BOX_116_353_4</td>\n",
       "      <td>POINT (-71.87563 12.24314)</td>\n",
       "    </tr>\n",
       "    <tr>\n",
       "      <th>3</th>\n",
       "      <td>3</td>\n",
       "      <td>3.133333</td>\n",
       "      <td>5.0</td>\n",
       "      <td>Cat3_Hurricane_Return_Period_PC_percentile 7.0...</td>\n",
       "      <td>5</td>\n",
       "      <td>4.000000</td>\n",
       "      <td>5.0</td>\n",
       "      <td>Cat3_TC_Return_Period_FC_2050_8_5 4.78years</td>\n",
       "      <td>2</td>\n",
       "      <td>3.000000</td>\n",
       "      <td>...</td>\n",
       "      <td></td>\n",
       "      <td>0</td>\n",
       "      <td>3</td>\n",
       "      <td>South America</td>\n",
       "      <td>Colombia</td>\n",
       "      <td>COL</td>\n",
       "      <td>12.238772</td>\n",
       "      <td>-71.875233</td>\n",
       "      <td>BOX_116_353_5</td>\n",
       "      <td>POINT (-71.87523 12.23877)</td>\n",
       "    </tr>\n",
       "    <tr>\n",
       "      <th>4</th>\n",
       "      <td>3</td>\n",
       "      <td>3.133333</td>\n",
       "      <td>5.0</td>\n",
       "      <td>Cat3_Hurricane_Return_Period_PC_percentile 7.0...</td>\n",
       "      <td>5</td>\n",
       "      <td>4.000000</td>\n",
       "      <td>5.0</td>\n",
       "      <td>Cat3_TC_Return_Period_FC_2050_8_5 4.78years</td>\n",
       "      <td>2</td>\n",
       "      <td>3.000000</td>\n",
       "      <td>...</td>\n",
       "      <td></td>\n",
       "      <td>0</td>\n",
       "      <td>3</td>\n",
       "      <td>South America</td>\n",
       "      <td>Colombia</td>\n",
       "      <td>COL</td>\n",
       "      <td>12.234400</td>\n",
       "      <td>-71.874835</td>\n",
       "      <td>BOX_116_353_6</td>\n",
       "      <td>POINT (-71.87483 12.23440)</td>\n",
       "    </tr>\n",
       "  </tbody>\n",
       "</table>\n",
       "<p>5 rows × 93 columns</p>\n",
       "</div>"
      ],
      "text/plain": [
       "           Cat3_Hurricane_Return_Period_PC_PC___Hazard_Level  \\\n",
       "nstations                                                      \n",
       "0                                                          3   \n",
       "1                                                          3   \n",
       "2                                                          3   \n",
       "3                                                          3   \n",
       "4                                                          3   \n",
       "\n",
       "           Cat3_Hurricane_Return_Period_PC_PC___Risk_Level  \\\n",
       "nstations                                                    \n",
       "0                                                 3.200000   \n",
       "1                                                 3.133333   \n",
       "2                                                 3.266667   \n",
       "3                                                 3.133333   \n",
       "4                                                 3.133333   \n",
       "\n",
       "           Cat3_Hurricane_Return_Period_PC_PC___Risk_Level_Class  \\\n",
       "nstations                                                          \n",
       "0                                                        5.0       \n",
       "1                                                        5.0       \n",
       "2                                                        5.0       \n",
       "3                                                        5.0       \n",
       "4                                                        5.0       \n",
       "\n",
       "                    Cat3_Hurricane_Return_Period_PC_PC_value  \\\n",
       "nstations                                                      \n",
       "0          Cat3_Hurricane_Return_Period_PC_percentile 7.0...   \n",
       "1          Cat3_Hurricane_Return_Period_PC_percentile 7.0...   \n",
       "2          Cat3_Hurricane_Return_Period_PC_percentile 7.0...   \n",
       "3          Cat3_Hurricane_Return_Period_PC_percentile 7.0...   \n",
       "4          Cat3_Hurricane_Return_Period_PC_percentile 7.0...   \n",
       "\n",
       "           Cat3_TC_Return_Period_FC_2050_8_5___Hazard_Level  \\\n",
       "nstations                                                     \n",
       "0                                                         5   \n",
       "1                                                         5   \n",
       "2                                                         5   \n",
       "3                                                         5   \n",
       "4                                                         5   \n",
       "\n",
       "           Cat3_TC_Return_Period_FC_2050_8_5___Risk_Level  \\\n",
       "nstations                                                   \n",
       "0                                                4.133333   \n",
       "1                                                3.866667   \n",
       "2                                                4.133333   \n",
       "3                                                4.000000   \n",
       "4                                                4.000000   \n",
       "\n",
       "           Cat3_TC_Return_Period_FC_2050_8_5___Risk_Level_Class  \\\n",
       "nstations                                                         \n",
       "0                                                        5.0      \n",
       "1                                                        5.0      \n",
       "2                                                        5.0      \n",
       "3                                                        5.0      \n",
       "4                                                        5.0      \n",
       "\n",
       "               Cat3_TC_Return_Period_FC_2050_8_5_value  \\\n",
       "nstations                                                \n",
       "0          Cat3_TC_Return_Period_FC_2050_8_5 4.78years   \n",
       "1          Cat3_TC_Return_Period_FC_2050_8_5 4.78years   \n",
       "2          Cat3_TC_Return_Period_FC_2050_8_5 4.78years   \n",
       "3          Cat3_TC_Return_Period_FC_2050_8_5 4.78years   \n",
       "4          Cat3_TC_Return_Period_FC_2050_8_5 4.78years   \n",
       "\n",
       "           Cat3_TC_Return_Period_FC_2100_4_5___Hazard_Level  \\\n",
       "nstations                                                     \n",
       "0                                                         2   \n",
       "1                                                         2   \n",
       "2                                                         2   \n",
       "3                                                         2   \n",
       "4                                                         2   \n",
       "\n",
       "           Cat3_TC_Return_Period_FC_2100_4_5___Risk_Level  ...  \\\n",
       "nstations                                                  ...   \n",
       "0                                                3.133333  ...   \n",
       "1                                                2.866667  ...   \n",
       "2                                                3.133333  ...   \n",
       "3                                                3.000000  ...   \n",
       "4                                                3.000000  ...   \n",
       "\n",
       "           Uncertainty_Columns Uncertainty_Columns_length  \\\n",
       "nstations                                                   \n",
       "0                                                       0   \n",
       "1                                                       0   \n",
       "2                                                       0   \n",
       "3                                                       0   \n",
       "4                                                       0   \n",
       "\n",
       "           World_Protected_Areas_Status_and_Governance___Vulnerability_level  \\\n",
       "nstations                                                                      \n",
       "0                                                          3                   \n",
       "1                                                          3                   \n",
       "2                                                          3                   \n",
       "3                                                          3                   \n",
       "4                                                          3                   \n",
       "\n",
       "               continent   country country_id        lat        lon  \\\n",
       "nstations                                                             \n",
       "0          South America  Colombia        COL  12.250684 -71.879805   \n",
       "1          South America  Colombia        COL  12.247308 -71.876981   \n",
       "2          South America  Colombia        COL  12.243144 -71.875632   \n",
       "3          South America  Colombia        COL  12.238772 -71.875233   \n",
       "4          South America  Colombia        COL  12.234400 -71.874835   \n",
       "\n",
       "             transect_id                    geometry  \n",
       "nstations                                             \n",
       "0          BOX_116_353_2  POINT (-71.87980 12.25068)  \n",
       "1          BOX_116_353_3  POINT (-71.87698 12.24731)  \n",
       "2          BOX_116_353_4  POINT (-71.87563 12.24314)  \n",
       "3          BOX_116_353_5  POINT (-71.87523 12.23877)  \n",
       "4          BOX_116_353_6  POINT (-71.87483 12.23440)  \n",
       "\n",
       "[5 rows x 93 columns]"
      ]
     },
     "execution_count": 4,
     "metadata": {},
     "output_type": "execute_result"
    }
   ],
   "source": [
    "\n",
    "ds=xr.open_zarr(r\"P:\\11209197-018-global-coastal-atlas\\MSc_students\\ClenmarRowe\\Data\\Processed_Risk_Levels_PC_FC_Merged\\Caribbean_Thesis_builtup_pop_ns_fix\\PC_FC_RL_merged_Carib_final.zarr\")\n",
    "SOTC_df=ds.to_dataframe()\n",
    "SOTC_gdf = gpd.GeoDataFrame(\n",
    "    SOTC_df, geometry=gpd.points_from_xy(SOTC_df.lon, SOTC_df.lat), crs=\"EPSG:4326\"\n",
    ")\n",
    "#Covert Bytes to string\n",
    "for column in SOTC_gdf.columns:\n",
    "    # Check if the column contains bytes\n",
    "    if SOTC_gdf[column].dtype == 'object':\n",
    "        if SOTC_gdf[column].apply(lambda x: isinstance(x, bytes)).any():\n",
    "            # Decode bytes to string\n",
    "            SOTC_gdf[column] = SOTC_gdf[column].apply(lambda x: x.decode() if isinstance(x, bytes) else x)\n",
    "SOTC_gdf.head()"
   ]
  },
  {
   "cell_type": "code",
   "execution_count": 5,
   "metadata": {},
   "outputs": [
    {
     "data": {
      "text/plain": [
       "Index(['Cat3_Hurricane_Return_Period_PC_PC___Hazard_Level',\n",
       "       'Cat3_Hurricane_Return_Period_PC_PC___Risk_Level',\n",
       "       'Cat3_Hurricane_Return_Period_PC_PC___Risk_Level_Class',\n",
       "       'Cat3_Hurricane_Return_Period_PC_PC_value',\n",
       "       'Cat3_TC_Return_Period_FC_2050_8_5___Hazard_Level',\n",
       "       'Cat3_TC_Return_Period_FC_2050_8_5___Risk_Level',\n",
       "       'Cat3_TC_Return_Period_FC_2050_8_5___Risk_Level_Class',\n",
       "       'Cat3_TC_Return_Period_FC_2050_8_5_value',\n",
       "       'Cat3_TC_Return_Period_FC_2100_4_5___Hazard_Level',\n",
       "       'Cat3_TC_Return_Period_FC_2100_4_5___Risk_Level',\n",
       "       'Cat3_TC_Return_Period_FC_2100_4_5___Risk_Level_Class',\n",
       "       'Cat3_TC_Return_Period_FC_2100_4_5_value',\n",
       "       'Change_rate_SSP1_45_2050___Hazard_Level',\n",
       "       'Change_rate_SSP1_45_2050___Risk_Level',\n",
       "       'Change_rate_SSP1_45_2050___Risk_Level_Class',\n",
       "       'Change_rate_SSP1_45_2050_value',\n",
       "       'Change_rate_SSP1_45_2100___Hazard_Level',\n",
       "       'Change_rate_SSP1_45_2100___Risk_Level',\n",
       "       'Change_rate_SSP1_45_2100___Risk_Level_Class',\n",
       "       'Change_rate_SSP1_45_2100_value',\n",
       "       'Change_rate_SSP5_85_2050___Hazard_Level',\n",
       "       'Change_rate_SSP5_85_2050___Risk_Level',\n",
       "       'Change_rate_SSP5_85_2050___Risk_Level_Class',\n",
       "       'Change_rate_SSP5_85_2050_value',\n",
       "       'Change_rate_SSP5_85_2100___Hazard_Level',\n",
       "       'Change_rate_SSP5_85_2100___Risk_Level',\n",
       "       'Change_rate_SSP5_85_2100___Risk_Level_Class',\n",
       "       'Change_rate_SSP5_85_2100_value', 'Confindence_perc',\n",
       "       'Deaths_from_Recent_Shocks_2004_2023___Vulnerability_level',\n",
       "       'ESL_100yrRP_4_5_2050___Hazard_Level',\n",
       "       'ESL_100yrRP_4_5_2050___Risk_Level',\n",
       "       'ESL_100yrRP_4_5_2050___Risk_Level_Class', 'ESL_100yrRP_4_5_2050_value',\n",
       "       'ESL_100yrRP_8_5_2050___Hazard_Level',\n",
       "       'ESL_100yrRP_8_5_2050___Risk_Level',\n",
       "       'ESL_100yrRP_8_5_2050___Risk_Level_Class', 'ESL_100yrRP_8_5_2050_value',\n",
       "       'ESL_100yrRP_8_5_2100___Hazard_Level',\n",
       "       'ESL_100yrRP_8_5_2100___Risk_Level',\n",
       "       'ESL_100yrRP_8_5_2100___Risk_Level_Class', 'ESL_100yrRP_8_5_2100_value',\n",
       "       'ESL_100yrRP_PC___Hazard_Level', 'ESL_100yrRP_PC___Risk_Level',\n",
       "       'ESL_100yrRP_PC___Risk_Level_Class', 'ESL_100yrRP_PC_value',\n",
       "       'ESL_RCP4_5_Time_Horizon2100___Hazard_Level',\n",
       "       'ESL_RCP4_5_Time_Horizon2100___Risk_Level',\n",
       "       'ESL_RCP4_5_Time_Horizon2100___Risk_Level_Class',\n",
       "       'ESL_RCP4_5_Time_Horizon2100_value',\n",
       "       'EWH_100yrRP_2100_RCP_45___Hazard_Level',\n",
       "       'EWH_100yrRP_2100_RCP_45___Risk_Level',\n",
       "       'EWH_100yrRP_2100_RCP_45___Risk_Level_Class',\n",
       "       'EWH_100yrRP_2100_RCP_45_value',\n",
       "       'EWH_100yrRP_2100_RCP_85___Hazard_Level',\n",
       "       'EWH_100yrRP_2100_RCP_85___Risk_Level',\n",
       "       'EWH_100yrRP_2100_RCP_85___Risk_Level_Class',\n",
       "       'EWH_100yrRP_2100_RCP_85_value', 'EWH_100yrRP_PC___Hazard_Level',\n",
       "       'EWH_100yrRP_PC___Risk_Level', 'EWH_100yrRP_PC___Risk_Level_Class',\n",
       "       'EWH_100yrRP_PC_value',\n",
       "       'GDP_per_Capita_3_yr_Average___Vulnerability_level', 'IPCC_REGION',\n",
       "       'Infant_Mortality_Rate_3_yr_Average___Vulnerability_level',\n",
       "       'LECZ_Area_LECZ_mean_elevation___Exposure_level',\n",
       "       'Land_Subsidence_2010_PC___Hazard_Level',\n",
       "       'Land_Subsidence_2010_PC___Risk_Level',\n",
       "       'Land_Subsidence_2010_PC___Risk_Level_Class',\n",
       "       'Land_Subsidence_2010_PC_value',\n",
       "       'Land_Subsidence_2040_high___Hazard_Level',\n",
       "       'Land_Subsidence_2040_high___Risk_Level',\n",
       "       'Land_Subsidence_2040_high___Risk_Level_Class',\n",
       "       'Land_Subsidence_2040_high_value',\n",
       "       'Mean_Years_of_Schooling___Vulnerability_level',\n",
       "       'Neashore_Slope_tanB_or_m_1___Exposure_level',\n",
       "       'Percentage_of_Built_Up_Area___Exposure_level',\n",
       "       'Population_Within_1km_of_the_coastline___Exposure_level',\n",
       "       'Sediment_Type___Exposure_level',\n",
       "       'Shoreline_Change_Rate_PC___Hazard_Level',\n",
       "       'Shoreline_Change_Rate_PC___Risk_Level',\n",
       "       'Shoreline_Change_Rate_PC___Risk_Level_Class',\n",
       "       'Shoreline_Change_Rate_PC_value', 'Uncertainty_Columns',\n",
       "       'Uncertainty_Columns_length',\n",
       "       'World_Protected_Areas_Status_and_Governance___Vulnerability_level',\n",
       "       'continent', 'country', 'country_id', 'lat', 'lon', 'transect_id',\n",
       "       'geometry'],\n",
       "      dtype='object')"
      ]
     },
     "execution_count": 5,
     "metadata": {},
     "output_type": "execute_result"
    }
   ],
   "source": [
    "SOTC_gdf.columns\n"
   ]
  },
  {
   "cell_type": "code",
   "execution_count": 6,
   "metadata": {},
   "outputs": [
    {
     "data": {
      "text/plain": [
       "['Cat3_Hurricane_Return_Period_PC_PC___Risk_Level',\n",
       " 'Cat3_TC_Return_Period_FC_2050_8_5___Risk_Level',\n",
       " 'Cat3_TC_Return_Period_FC_2100_4_5___Risk_Level',\n",
       " 'Change_rate_SSP1_45_2050___Risk_Level',\n",
       " 'Change_rate_SSP1_45_2100___Risk_Level',\n",
       " 'Change_rate_SSP5_85_2050___Risk_Level',\n",
       " 'Change_rate_SSP5_85_2100___Risk_Level',\n",
       " 'ESL_100yrRP_4_5_2050___Risk_Level',\n",
       " 'ESL_100yrRP_8_5_2050___Risk_Level',\n",
       " 'ESL_100yrRP_8_5_2100___Risk_Level',\n",
       " 'ESL_100yrRP_PC___Risk_Level',\n",
       " 'ESL_RCP4_5_Time_Horizon2100___Risk_Level',\n",
       " 'EWH_100yrRP_2100_RCP_45___Risk_Level',\n",
       " 'EWH_100yrRP_2100_RCP_85___Risk_Level',\n",
       " 'EWH_100yrRP_PC___Risk_Level',\n",
       " 'Land_Subsidence_2010_PC___Risk_Level',\n",
       " 'Land_Subsidence_2040_high___Risk_Level',\n",
       " 'Shoreline_Change_Rate_PC___Risk_Level']"
      ]
     },
     "execution_count": 6,
     "metadata": {},
     "output_type": "execute_result"
    }
   ],
   "source": [
    "col = [colu for colu in SOTC_gdf.columns if (\"Risk_Level\" in colu and \"Class\" not in colu)]\n",
    "col\n"
   ]
  },
  {
   "cell_type": "code",
   "execution_count": 7,
   "metadata": {},
   "outputs": [
    {
     "data": {
      "text/html": [
       "<div>\n",
       "<style scoped>\n",
       "    .dataframe tbody tr th:only-of-type {\n",
       "        vertical-align: middle;\n",
       "    }\n",
       "\n",
       "    .dataframe tbody tr th {\n",
       "        vertical-align: top;\n",
       "    }\n",
       "\n",
       "    .dataframe thead th {\n",
       "        text-align: right;\n",
       "    }\n",
       "</style>\n",
       "<table border=\"1\" class=\"dataframe\">\n",
       "  <thead>\n",
       "    <tr style=\"text-align: right;\">\n",
       "      <th></th>\n",
       "      <th>Cat3_Hurricane_Return_Period_PC_PC___Risk_Level</th>\n",
       "      <th>Cat3_TC_Return_Period_FC_2050_8_5___Risk_Level</th>\n",
       "      <th>Cat3_TC_Return_Period_FC_2100_4_5___Risk_Level</th>\n",
       "      <th>Change_rate_SSP1_45_2050___Risk_Level</th>\n",
       "      <th>Change_rate_SSP1_45_2100___Risk_Level</th>\n",
       "      <th>Change_rate_SSP5_85_2050___Risk_Level</th>\n",
       "      <th>Change_rate_SSP5_85_2100___Risk_Level</th>\n",
       "      <th>ESL_100yrRP_4_5_2050___Risk_Level</th>\n",
       "      <th>ESL_100yrRP_8_5_2050___Risk_Level</th>\n",
       "      <th>ESL_100yrRP_8_5_2100___Risk_Level</th>\n",
       "      <th>...</th>\n",
       "      <th>Land_Subsidence_2010_PC___Risk_Level</th>\n",
       "      <th>Land_Subsidence_2040_high___Risk_Level</th>\n",
       "      <th>Shoreline_Change_Rate_PC___Risk_Level</th>\n",
       "      <th>continent</th>\n",
       "      <th>country</th>\n",
       "      <th>country_id</th>\n",
       "      <th>lat</th>\n",
       "      <th>lon</th>\n",
       "      <th>transect_id</th>\n",
       "      <th>geometry</th>\n",
       "    </tr>\n",
       "    <tr>\n",
       "      <th>nstations</th>\n",
       "      <th></th>\n",
       "      <th></th>\n",
       "      <th></th>\n",
       "      <th></th>\n",
       "      <th></th>\n",
       "      <th></th>\n",
       "      <th></th>\n",
       "      <th></th>\n",
       "      <th></th>\n",
       "      <th></th>\n",
       "      <th></th>\n",
       "      <th></th>\n",
       "      <th></th>\n",
       "      <th></th>\n",
       "      <th></th>\n",
       "      <th></th>\n",
       "      <th></th>\n",
       "      <th></th>\n",
       "      <th></th>\n",
       "      <th></th>\n",
       "      <th></th>\n",
       "    </tr>\n",
       "  </thead>\n",
       "  <tbody>\n",
       "    <tr>\n",
       "      <th>0</th>\n",
       "      <td>3.200000</td>\n",
       "      <td>4.133333</td>\n",
       "      <td>3.133333</td>\n",
       "      <td>NaN</td>\n",
       "      <td>NaN</td>\n",
       "      <td>NaN</td>\n",
       "      <td>NaN</td>\n",
       "      <td>3.133333</td>\n",
       "      <td>3.133333</td>\n",
       "      <td>4.133333</td>\n",
       "      <td>...</td>\n",
       "      <td>NaN</td>\n",
       "      <td>3.466667</td>\n",
       "      <td>3.866667</td>\n",
       "      <td>South America</td>\n",
       "      <td>Colombia</td>\n",
       "      <td>COL</td>\n",
       "      <td>12.250684</td>\n",
       "      <td>-71.879805</td>\n",
       "      <td>BOX_116_353_2</td>\n",
       "      <td>POINT (-71.87980 12.25068)</td>\n",
       "    </tr>\n",
       "    <tr>\n",
       "      <th>1</th>\n",
       "      <td>3.133333</td>\n",
       "      <td>3.866667</td>\n",
       "      <td>2.866667</td>\n",
       "      <td>NaN</td>\n",
       "      <td>NaN</td>\n",
       "      <td>NaN</td>\n",
       "      <td>NaN</td>\n",
       "      <td>2.866667</td>\n",
       "      <td>2.866667</td>\n",
       "      <td>3.866667</td>\n",
       "      <td>...</td>\n",
       "      <td>NaN</td>\n",
       "      <td>3.200000</td>\n",
       "      <td>2.466667</td>\n",
       "      <td>South America</td>\n",
       "      <td>Colombia</td>\n",
       "      <td>COL</td>\n",
       "      <td>12.247308</td>\n",
       "      <td>-71.876981</td>\n",
       "      <td>BOX_116_353_3</td>\n",
       "      <td>POINT (-71.87698 12.24731)</td>\n",
       "    </tr>\n",
       "    <tr>\n",
       "      <th>2</th>\n",
       "      <td>3.266667</td>\n",
       "      <td>4.133333</td>\n",
       "      <td>3.133333</td>\n",
       "      <td>NaN</td>\n",
       "      <td>NaN</td>\n",
       "      <td>NaN</td>\n",
       "      <td>NaN</td>\n",
       "      <td>3.133333</td>\n",
       "      <td>3.133333</td>\n",
       "      <td>4.133333</td>\n",
       "      <td>...</td>\n",
       "      <td>NaN</td>\n",
       "      <td>3.466667</td>\n",
       "      <td>2.600000</td>\n",
       "      <td>South America</td>\n",
       "      <td>Colombia</td>\n",
       "      <td>COL</td>\n",
       "      <td>12.243144</td>\n",
       "      <td>-71.875632</td>\n",
       "      <td>BOX_116_353_4</td>\n",
       "      <td>POINT (-71.87563 12.24314)</td>\n",
       "    </tr>\n",
       "    <tr>\n",
       "      <th>3</th>\n",
       "      <td>3.133333</td>\n",
       "      <td>4.000000</td>\n",
       "      <td>3.000000</td>\n",
       "      <td>NaN</td>\n",
       "      <td>NaN</td>\n",
       "      <td>NaN</td>\n",
       "      <td>NaN</td>\n",
       "      <td>3.000000</td>\n",
       "      <td>3.000000</td>\n",
       "      <td>4.000000</td>\n",
       "      <td>...</td>\n",
       "      <td>NaN</td>\n",
       "      <td>3.333333</td>\n",
       "      <td>2.466667</td>\n",
       "      <td>South America</td>\n",
       "      <td>Colombia</td>\n",
       "      <td>COL</td>\n",
       "      <td>12.238772</td>\n",
       "      <td>-71.875233</td>\n",
       "      <td>BOX_116_353_5</td>\n",
       "      <td>POINT (-71.87523 12.23877)</td>\n",
       "    </tr>\n",
       "    <tr>\n",
       "      <th>4</th>\n",
       "      <td>3.133333</td>\n",
       "      <td>4.000000</td>\n",
       "      <td>3.000000</td>\n",
       "      <td>NaN</td>\n",
       "      <td>NaN</td>\n",
       "      <td>NaN</td>\n",
       "      <td>NaN</td>\n",
       "      <td>3.000000</td>\n",
       "      <td>3.000000</td>\n",
       "      <td>4.000000</td>\n",
       "      <td>...</td>\n",
       "      <td>NaN</td>\n",
       "      <td>3.333333</td>\n",
       "      <td>2.466667</td>\n",
       "      <td>South America</td>\n",
       "      <td>Colombia</td>\n",
       "      <td>COL</td>\n",
       "      <td>12.234400</td>\n",
       "      <td>-71.874835</td>\n",
       "      <td>BOX_116_353_6</td>\n",
       "      <td>POINT (-71.87483 12.23440)</td>\n",
       "    </tr>\n",
       "    <tr>\n",
       "      <th>...</th>\n",
       "      <td>...</td>\n",
       "      <td>...</td>\n",
       "      <td>...</td>\n",
       "      <td>...</td>\n",
       "      <td>...</td>\n",
       "      <td>...</td>\n",
       "      <td>...</td>\n",
       "      <td>...</td>\n",
       "      <td>...</td>\n",
       "      <td>...</td>\n",
       "      <td>...</td>\n",
       "      <td>...</td>\n",
       "      <td>...</td>\n",
       "      <td>...</td>\n",
       "      <td>...</td>\n",
       "      <td>...</td>\n",
       "      <td>...</td>\n",
       "      <td>...</td>\n",
       "      <td>...</td>\n",
       "      <td>...</td>\n",
       "      <td>...</td>\n",
       "    </tr>\n",
       "    <tr>\n",
       "      <th>37504</th>\n",
       "      <td>3.266667</td>\n",
       "      <td>4.000000</td>\n",
       "      <td>3.666667</td>\n",
       "      <td>3.000000</td>\n",
       "      <td>3.000000</td>\n",
       "      <td>3.000000</td>\n",
       "      <td>3.000000</td>\n",
       "      <td>4.000000</td>\n",
       "      <td>4.000000</td>\n",
       "      <td>4.333333</td>\n",
       "      <td>...</td>\n",
       "      <td>2.933333</td>\n",
       "      <td>3.333333</td>\n",
       "      <td>2.600000</td>\n",
       "      <td>North America</td>\n",
       "      <td>Dominican Republic</td>\n",
       "      <td>DOM</td>\n",
       "      <td>17.965259</td>\n",
       "      <td>-71.668186</td>\n",
       "      <td>BOX_139_002_61</td>\n",
       "      <td>POINT (-71.66819 17.96526)</td>\n",
       "    </tr>\n",
       "    <tr>\n",
       "      <th>37505</th>\n",
       "      <td>3.266667</td>\n",
       "      <td>4.000000</td>\n",
       "      <td>3.666667</td>\n",
       "      <td>3.000000</td>\n",
       "      <td>3.000000</td>\n",
       "      <td>3.000000</td>\n",
       "      <td>3.000000</td>\n",
       "      <td>4.000000</td>\n",
       "      <td>4.000000</td>\n",
       "      <td>4.333333</td>\n",
       "      <td>...</td>\n",
       "      <td>2.933333</td>\n",
       "      <td>3.333333</td>\n",
       "      <td>2.600000</td>\n",
       "      <td>North America</td>\n",
       "      <td>Dominican Republic</td>\n",
       "      <td>DOM</td>\n",
       "      <td>17.961418</td>\n",
       "      <td>-71.666228</td>\n",
       "      <td>BOX_139_002_62</td>\n",
       "      <td>POINT (-71.66623 17.96142)</td>\n",
       "    </tr>\n",
       "    <tr>\n",
       "      <th>37506</th>\n",
       "      <td>3.333333</td>\n",
       "      <td>4.066667</td>\n",
       "      <td>3.733333</td>\n",
       "      <td>3.066667</td>\n",
       "      <td>3.066667</td>\n",
       "      <td>3.066667</td>\n",
       "      <td>3.066667</td>\n",
       "      <td>4.066667</td>\n",
       "      <td>4.066667</td>\n",
       "      <td>4.400000</td>\n",
       "      <td>...</td>\n",
       "      <td>3.000000</td>\n",
       "      <td>3.400000</td>\n",
       "      <td>2.666667</td>\n",
       "      <td>North America</td>\n",
       "      <td>Dominican Republic</td>\n",
       "      <td>DOM</td>\n",
       "      <td>17.957442</td>\n",
       "      <td>-71.664583</td>\n",
       "      <td>BOX_139_002_63</td>\n",
       "      <td>POINT (-71.66458 17.95744)</td>\n",
       "    </tr>\n",
       "    <tr>\n",
       "      <th>37507</th>\n",
       "      <td>3.333333</td>\n",
       "      <td>4.066667</td>\n",
       "      <td>3.733333</td>\n",
       "      <td>3.066667</td>\n",
       "      <td>3.066667</td>\n",
       "      <td>3.066667</td>\n",
       "      <td>3.066667</td>\n",
       "      <td>4.066667</td>\n",
       "      <td>4.066667</td>\n",
       "      <td>4.400000</td>\n",
       "      <td>...</td>\n",
       "      <td>3.000000</td>\n",
       "      <td>3.400000</td>\n",
       "      <td>2.666667</td>\n",
       "      <td>North America</td>\n",
       "      <td>Dominican Republic</td>\n",
       "      <td>DOM</td>\n",
       "      <td>17.953466</td>\n",
       "      <td>-71.662937</td>\n",
       "      <td>BOX_139_002_64</td>\n",
       "      <td>POINT (-71.66294 17.95347)</td>\n",
       "    </tr>\n",
       "    <tr>\n",
       "      <th>37508</th>\n",
       "      <td>3.333333</td>\n",
       "      <td>4.000000</td>\n",
       "      <td>3.666667</td>\n",
       "      <td>3.000000</td>\n",
       "      <td>3.000000</td>\n",
       "      <td>3.000000</td>\n",
       "      <td>3.000000</td>\n",
       "      <td>4.000000</td>\n",
       "      <td>4.000000</td>\n",
       "      <td>4.333333</td>\n",
       "      <td>...</td>\n",
       "      <td>3.000000</td>\n",
       "      <td>3.333333</td>\n",
       "      <td>2.666667</td>\n",
       "      <td>North America</td>\n",
       "      <td>Dominican Republic</td>\n",
       "      <td>DOM</td>\n",
       "      <td>17.949491</td>\n",
       "      <td>-71.661291</td>\n",
       "      <td>BOX_139_002_65</td>\n",
       "      <td>POINT (-71.66129 17.94949)</td>\n",
       "    </tr>\n",
       "  </tbody>\n",
       "</table>\n",
       "<p>37509 rows × 25 columns</p>\n",
       "</div>"
      ],
      "text/plain": [
       "           Cat3_Hurricane_Return_Period_PC_PC___Risk_Level  \\\n",
       "nstations                                                    \n",
       "0                                                 3.200000   \n",
       "1                                                 3.133333   \n",
       "2                                                 3.266667   \n",
       "3                                                 3.133333   \n",
       "4                                                 3.133333   \n",
       "...                                                    ...   \n",
       "37504                                             3.266667   \n",
       "37505                                             3.266667   \n",
       "37506                                             3.333333   \n",
       "37507                                             3.333333   \n",
       "37508                                             3.333333   \n",
       "\n",
       "           Cat3_TC_Return_Period_FC_2050_8_5___Risk_Level  \\\n",
       "nstations                                                   \n",
       "0                                                4.133333   \n",
       "1                                                3.866667   \n",
       "2                                                4.133333   \n",
       "3                                                4.000000   \n",
       "4                                                4.000000   \n",
       "...                                                   ...   \n",
       "37504                                            4.000000   \n",
       "37505                                            4.000000   \n",
       "37506                                            4.066667   \n",
       "37507                                            4.066667   \n",
       "37508                                            4.000000   \n",
       "\n",
       "           Cat3_TC_Return_Period_FC_2100_4_5___Risk_Level  \\\n",
       "nstations                                                   \n",
       "0                                                3.133333   \n",
       "1                                                2.866667   \n",
       "2                                                3.133333   \n",
       "3                                                3.000000   \n",
       "4                                                3.000000   \n",
       "...                                                   ...   \n",
       "37504                                            3.666667   \n",
       "37505                                            3.666667   \n",
       "37506                                            3.733333   \n",
       "37507                                            3.733333   \n",
       "37508                                            3.666667   \n",
       "\n",
       "           Change_rate_SSP1_45_2050___Risk_Level  \\\n",
       "nstations                                          \n",
       "0                                            NaN   \n",
       "1                                            NaN   \n",
       "2                                            NaN   \n",
       "3                                            NaN   \n",
       "4                                            NaN   \n",
       "...                                          ...   \n",
       "37504                                   3.000000   \n",
       "37505                                   3.000000   \n",
       "37506                                   3.066667   \n",
       "37507                                   3.066667   \n",
       "37508                                   3.000000   \n",
       "\n",
       "           Change_rate_SSP1_45_2100___Risk_Level  \\\n",
       "nstations                                          \n",
       "0                                            NaN   \n",
       "1                                            NaN   \n",
       "2                                            NaN   \n",
       "3                                            NaN   \n",
       "4                                            NaN   \n",
       "...                                          ...   \n",
       "37504                                   3.000000   \n",
       "37505                                   3.000000   \n",
       "37506                                   3.066667   \n",
       "37507                                   3.066667   \n",
       "37508                                   3.000000   \n",
       "\n",
       "           Change_rate_SSP5_85_2050___Risk_Level  \\\n",
       "nstations                                          \n",
       "0                                            NaN   \n",
       "1                                            NaN   \n",
       "2                                            NaN   \n",
       "3                                            NaN   \n",
       "4                                            NaN   \n",
       "...                                          ...   \n",
       "37504                                   3.000000   \n",
       "37505                                   3.000000   \n",
       "37506                                   3.066667   \n",
       "37507                                   3.066667   \n",
       "37508                                   3.000000   \n",
       "\n",
       "           Change_rate_SSP5_85_2100___Risk_Level  \\\n",
       "nstations                                          \n",
       "0                                            NaN   \n",
       "1                                            NaN   \n",
       "2                                            NaN   \n",
       "3                                            NaN   \n",
       "4                                            NaN   \n",
       "...                                          ...   \n",
       "37504                                   3.000000   \n",
       "37505                                   3.000000   \n",
       "37506                                   3.066667   \n",
       "37507                                   3.066667   \n",
       "37508                                   3.000000   \n",
       "\n",
       "           ESL_100yrRP_4_5_2050___Risk_Level  \\\n",
       "nstations                                      \n",
       "0                                   3.133333   \n",
       "1                                   2.866667   \n",
       "2                                   3.133333   \n",
       "3                                   3.000000   \n",
       "4                                   3.000000   \n",
       "...                                      ...   \n",
       "37504                               4.000000   \n",
       "37505                               4.000000   \n",
       "37506                               4.066667   \n",
       "37507                               4.066667   \n",
       "37508                               4.000000   \n",
       "\n",
       "           ESL_100yrRP_8_5_2050___Risk_Level  \\\n",
       "nstations                                      \n",
       "0                                   3.133333   \n",
       "1                                   2.866667   \n",
       "2                                   3.133333   \n",
       "3                                   3.000000   \n",
       "4                                   3.000000   \n",
       "...                                      ...   \n",
       "37504                               4.000000   \n",
       "37505                               4.000000   \n",
       "37506                               4.066667   \n",
       "37507                               4.066667   \n",
       "37508                               4.000000   \n",
       "\n",
       "           ESL_100yrRP_8_5_2100___Risk_Level  ...  \\\n",
       "nstations                                     ...   \n",
       "0                                   4.133333  ...   \n",
       "1                                   3.866667  ...   \n",
       "2                                   4.133333  ...   \n",
       "3                                   4.000000  ...   \n",
       "4                                   4.000000  ...   \n",
       "...                                      ...  ...   \n",
       "37504                               4.333333  ...   \n",
       "37505                               4.333333  ...   \n",
       "37506                               4.400000  ...   \n",
       "37507                               4.400000  ...   \n",
       "37508                               4.333333  ...   \n",
       "\n",
       "           Land_Subsidence_2010_PC___Risk_Level  \\\n",
       "nstations                                         \n",
       "0                                           NaN   \n",
       "1                                           NaN   \n",
       "2                                           NaN   \n",
       "3                                           NaN   \n",
       "4                                           NaN   \n",
       "...                                         ...   \n",
       "37504                                  2.933333   \n",
       "37505                                  2.933333   \n",
       "37506                                  3.000000   \n",
       "37507                                  3.000000   \n",
       "37508                                  3.000000   \n",
       "\n",
       "           Land_Subsidence_2040_high___Risk_Level  \\\n",
       "nstations                                           \n",
       "0                                        3.466667   \n",
       "1                                        3.200000   \n",
       "2                                        3.466667   \n",
       "3                                        3.333333   \n",
       "4                                        3.333333   \n",
       "...                                           ...   \n",
       "37504                                    3.333333   \n",
       "37505                                    3.333333   \n",
       "37506                                    3.400000   \n",
       "37507                                    3.400000   \n",
       "37508                                    3.333333   \n",
       "\n",
       "           Shoreline_Change_Rate_PC___Risk_Level      continent  \\\n",
       "nstations                                                         \n",
       "0                                       3.866667  South America   \n",
       "1                                       2.466667  South America   \n",
       "2                                       2.600000  South America   \n",
       "3                                       2.466667  South America   \n",
       "4                                       2.466667  South America   \n",
       "...                                          ...            ...   \n",
       "37504                                   2.600000  North America   \n",
       "37505                                   2.600000  North America   \n",
       "37506                                   2.666667  North America   \n",
       "37507                                   2.666667  North America   \n",
       "37508                                   2.666667  North America   \n",
       "\n",
       "                      country  country_id        lat        lon  \\\n",
       "nstations                                                         \n",
       "0                    Colombia         COL  12.250684 -71.879805   \n",
       "1                    Colombia         COL  12.247308 -71.876981   \n",
       "2                    Colombia         COL  12.243144 -71.875632   \n",
       "3                    Colombia         COL  12.238772 -71.875233   \n",
       "4                    Colombia         COL  12.234400 -71.874835   \n",
       "...                       ...         ...        ...        ...   \n",
       "37504      Dominican Republic         DOM  17.965259 -71.668186   \n",
       "37505      Dominican Republic         DOM  17.961418 -71.666228   \n",
       "37506      Dominican Republic         DOM  17.957442 -71.664583   \n",
       "37507      Dominican Republic         DOM  17.953466 -71.662937   \n",
       "37508      Dominican Republic         DOM  17.949491 -71.661291   \n",
       "\n",
       "              transect_id                    geometry  \n",
       "nstations                                              \n",
       "0           BOX_116_353_2  POINT (-71.87980 12.25068)  \n",
       "1           BOX_116_353_3  POINT (-71.87698 12.24731)  \n",
       "2           BOX_116_353_4  POINT (-71.87563 12.24314)  \n",
       "3           BOX_116_353_5  POINT (-71.87523 12.23877)  \n",
       "4           BOX_116_353_6  POINT (-71.87483 12.23440)  \n",
       "...                   ...                         ...  \n",
       "37504      BOX_139_002_61  POINT (-71.66819 17.96526)  \n",
       "37505      BOX_139_002_62  POINT (-71.66623 17.96142)  \n",
       "37506      BOX_139_002_63  POINT (-71.66458 17.95744)  \n",
       "37507      BOX_139_002_64  POINT (-71.66294 17.95347)  \n",
       "37508      BOX_139_002_65  POINT (-71.66129 17.94949)  \n",
       "\n",
       "[37509 rows x 25 columns]"
      ]
     },
     "execution_count": 7,
     "metadata": {},
     "output_type": "execute_result"
    }
   ],
   "source": [
    "orig_hotspot=pd.concat([SOTC_gdf[col],SOTC_gdf.iloc[:,-7:]],axis=1)\n",
    "orig_hotspot = gpd.GeoDataFrame(\n",
    "    orig_hotspot, geometry=gpd.points_from_xy(orig_hotspot.lon, orig_hotspot.lat), crs=\"EPSG:4326\"\n",
    ")\n",
    "hotspot=orig_hotspot.copy()\n",
    "hotspot"
   ]
  },
  {
   "cell_type": "code",
   "execution_count": 8,
   "metadata": {},
   "outputs": [],
   "source": [
    "unique_countries=hotspot[\"country\"].unique()\n",
    "unique_countries\n",
    "unique_countries = unique_countries[unique_countries != 'unknown']"
   ]
  },
  {
   "cell_type": "code",
   "execution_count": 9,
   "metadata": {},
   "outputs": [
    {
     "data": {
      "text/plain": [
       "['Cat3_Hurricane_Return_Period_PC_PC___Risk_Level',\n",
       " 'ESL_100yrRP_PC___Risk_Level',\n",
       " 'EWH_100yrRP_PC___Risk_Level',\n",
       " 'Land_Subsidence_2010_PC___Risk_Level',\n",
       " 'Shoreline_Change_Rate_PC___Risk_Level']"
      ]
     },
     "execution_count": 9,
     "metadata": {},
     "output_type": "execute_result"
    }
   ],
   "source": [
    "col\n",
    "PC_col=[colu for colu in col if \"PC\" in colu]\n",
    "PC_col"
   ]
  },
  {
   "cell_type": "code",
   "execution_count": 10,
   "metadata": {},
   "outputs": [
    {
     "name": "stdout",
     "output_type": "stream",
     "text": [
      "Only 1 points availiable for Saint Barthelemy.\n",
      "Only 1 points availiable for Saint Barthelemy.\n",
      "Only 1 points availiable for Saint Barthelemy.\n",
      "Only 1 points availiable for Saint Barthelemy.\n",
      "Only 1 points availiable for Saint Barthelemy.\n"
     ]
    },
    {
     "data": {
      "text/html": [
       "<div>\n",
       "<style scoped>\n",
       "    .dataframe tbody tr th:only-of-type {\n",
       "        vertical-align: middle;\n",
       "    }\n",
       "\n",
       "    .dataframe tbody tr th {\n",
       "        vertical-align: top;\n",
       "    }\n",
       "\n",
       "    .dataframe thead th {\n",
       "        text-align: right;\n",
       "    }\n",
       "</style>\n",
       "<table border=\"1\" class=\"dataframe\">\n",
       "  <thead>\n",
       "    <tr style=\"text-align: right;\">\n",
       "      <th></th>\n",
       "      <th>Cat3_Hurricane_Return_Period_PC_PC___Risk_Level</th>\n",
       "      <th>continent</th>\n",
       "      <th>country</th>\n",
       "      <th>country_id</th>\n",
       "      <th>lat</th>\n",
       "      <th>lon</th>\n",
       "      <th>transect_id</th>\n",
       "      <th>geometry</th>\n",
       "      <th>distance (m)</th>\n",
       "    </tr>\n",
       "    <tr>\n",
       "      <th>nstations</th>\n",
       "      <th></th>\n",
       "      <th></th>\n",
       "      <th></th>\n",
       "      <th></th>\n",
       "      <th></th>\n",
       "      <th></th>\n",
       "      <th></th>\n",
       "      <th></th>\n",
       "      <th></th>\n",
       "    </tr>\n",
       "  </thead>\n",
       "  <tbody>\n",
       "    <tr>\n",
       "      <th>2</th>\n",
       "      <td>3.266667</td>\n",
       "      <td>South America</td>\n",
       "      <td>Colombia</td>\n",
       "      <td>COL</td>\n",
       "      <td>12.243144</td>\n",
       "      <td>-71.875632</td>\n",
       "      <td>BOX_116_353_4</td>\n",
       "      <td>POINT (-71.87563 12.24314)</td>\n",
       "      <td>NaN</td>\n",
       "    </tr>\n",
       "    <tr>\n",
       "      <th>149</th>\n",
       "      <td>3.200000</td>\n",
       "      <td>South America</td>\n",
       "      <td>Colombia</td>\n",
       "      <td>COL</td>\n",
       "      <td>12.032842</td>\n",
       "      <td>-72.170861</td>\n",
       "      <td>BOX_116_352_32</td>\n",
       "      <td>POINT (-72.17086 12.03284)</td>\n",
       "      <td>39709.395275</td>\n",
       "    </tr>\n",
       "    <tr>\n",
       "      <th>31</th>\n",
       "      <td>3.200000</td>\n",
       "      <td>South America</td>\n",
       "      <td>Colombia</td>\n",
       "      <td>COL</td>\n",
       "      <td>12.148786</td>\n",
       "      <td>-71.957159</td>\n",
       "      <td>BOX_116_353_37</td>\n",
       "      <td>POINT (-71.95716 12.14879)</td>\n",
       "      <td>26589.168104</td>\n",
       "    </tr>\n",
       "    <tr>\n",
       "      <th>3554</th>\n",
       "      <td>2.866667</td>\n",
       "      <td>North America</td>\n",
       "      <td>Saint Kitts and Nevis</td>\n",
       "      <td>KNA</td>\n",
       "      <td>17.292176</td>\n",
       "      <td>-62.730080</td>\n",
       "      <td>BOX_117_253_48</td>\n",
       "      <td>POINT (-62.73008 17.29218)</td>\n",
       "      <td>NaN</td>\n",
       "    </tr>\n",
       "    <tr>\n",
       "      <th>344</th>\n",
       "      <td>2.733333</td>\n",
       "      <td>North America</td>\n",
       "      <td>Saint Kitts and Nevis</td>\n",
       "      <td>KNA</td>\n",
       "      <td>17.133757</td>\n",
       "      <td>-62.629287</td>\n",
       "      <td>BOX_117_249_2</td>\n",
       "      <td>POINT (-62.62929 17.13376)</td>\n",
       "      <td>20542.560516</td>\n",
       "    </tr>\n",
       "    <tr>\n",
       "      <th>...</th>\n",
       "      <td>...</td>\n",
       "      <td>...</td>\n",
       "      <td>...</td>\n",
       "      <td>...</td>\n",
       "      <td>...</td>\n",
       "      <td>...</td>\n",
       "      <td>...</td>\n",
       "      <td>...</td>\n",
       "      <td>...</td>\n",
       "    </tr>\n",
       "    <tr>\n",
       "      <th>35160</th>\n",
       "      <td>3.533333</td>\n",
       "      <td>North America</td>\n",
       "      <td>Anguilla</td>\n",
       "      <td>AIA</td>\n",
       "      <td>18.073527</td>\n",
       "      <td>-63.085786</td>\n",
       "      <td>BOX_139_090_85</td>\n",
       "      <td>POINT (-63.08579 18.07353)</td>\n",
       "      <td>NaN</td>\n",
       "    </tr>\n",
       "    <tr>\n",
       "      <th>35083</th>\n",
       "      <td>3.133333</td>\n",
       "      <td>North America</td>\n",
       "      <td>Anguilla</td>\n",
       "      <td>AIA</td>\n",
       "      <td>18.195662</td>\n",
       "      <td>-63.102858</td>\n",
       "      <td>BOX_139_090_7</td>\n",
       "      <td>POINT (-63.10286 18.19566)</td>\n",
       "      <td>13632.918555</td>\n",
       "    </tr>\n",
       "    <tr>\n",
       "      <th>33606</th>\n",
       "      <td>3.133333</td>\n",
       "      <td>North America</td>\n",
       "      <td>Anguilla</td>\n",
       "      <td>AIA</td>\n",
       "      <td>18.259070</td>\n",
       "      <td>-63.001417</td>\n",
       "      <td>BOX_139_092_23</td>\n",
       "      <td>POINT (-63.00142 18.25907)</td>\n",
       "      <td>12815.597804</td>\n",
       "    </tr>\n",
       "    <tr>\n",
       "      <th>35187</th>\n",
       "      <td>3.533333</td>\n",
       "      <td>North America</td>\n",
       "      <td>Saint Martin</td>\n",
       "      <td>MAF</td>\n",
       "      <td>18.055695</td>\n",
       "      <td>-63.099039</td>\n",
       "      <td>BOX_139_090_112</td>\n",
       "      <td>POINT (-63.09904 18.05570)</td>\n",
       "      <td>NaN</td>\n",
       "    </tr>\n",
       "    <tr>\n",
       "      <th>35138</th>\n",
       "      <td>3.066667</td>\n",
       "      <td>North America</td>\n",
       "      <td>Saint Martin</td>\n",
       "      <td>MAF</td>\n",
       "      <td>18.114972</td>\n",
       "      <td>-62.976027</td>\n",
       "      <td>BOX_139_090_63</td>\n",
       "      <td>POINT (-62.97603 18.11497)</td>\n",
       "      <td>14574.935266</td>\n",
       "    </tr>\n",
       "  </tbody>\n",
       "</table>\n",
       "<p>80 rows × 9 columns</p>\n",
       "</div>"
      ],
      "text/plain": [
       "           Cat3_Hurricane_Return_Period_PC_PC___Risk_Level      continent  \\\n",
       "nstations                                                                   \n",
       "2                                                 3.266667  South America   \n",
       "149                                               3.200000  South America   \n",
       "31                                                3.200000  South America   \n",
       "3554                                              2.866667  North America   \n",
       "344                                               2.733333  North America   \n",
       "...                                                    ...            ...   \n",
       "35160                                             3.533333  North America   \n",
       "35083                                             3.133333  North America   \n",
       "33606                                             3.133333  North America   \n",
       "35187                                             3.533333  North America   \n",
       "35138                                             3.066667  North America   \n",
       "\n",
       "                         country country_id        lat        lon  \\\n",
       "nstations                                                           \n",
       "2                       Colombia        COL  12.243144 -71.875632   \n",
       "149                     Colombia        COL  12.032842 -72.170861   \n",
       "31                      Colombia        COL  12.148786 -71.957159   \n",
       "3554       Saint Kitts and Nevis        KNA  17.292176 -62.730080   \n",
       "344        Saint Kitts and Nevis        KNA  17.133757 -62.629287   \n",
       "...                          ...        ...        ...        ...   \n",
       "35160                   Anguilla        AIA  18.073527 -63.085786   \n",
       "35083                   Anguilla        AIA  18.195662 -63.102858   \n",
       "33606                   Anguilla        AIA  18.259070 -63.001417   \n",
       "35187               Saint Martin        MAF  18.055695 -63.099039   \n",
       "35138               Saint Martin        MAF  18.114972 -62.976027   \n",
       "\n",
       "               transect_id                    geometry  distance (m)  \n",
       "nstations                                                             \n",
       "2            BOX_116_353_4  POINT (-71.87563 12.24314)           NaN  \n",
       "149         BOX_116_352_32  POINT (-72.17086 12.03284)  39709.395275  \n",
       "31          BOX_116_353_37  POINT (-71.95716 12.14879)  26589.168104  \n",
       "3554        BOX_117_253_48  POINT (-62.73008 17.29218)           NaN  \n",
       "344          BOX_117_249_2  POINT (-62.62929 17.13376)  20542.560516  \n",
       "...                    ...                         ...           ...  \n",
       "35160       BOX_139_090_85  POINT (-63.08579 18.07353)           NaN  \n",
       "35083        BOX_139_090_7  POINT (-63.10286 18.19566)  13632.918555  \n",
       "33606       BOX_139_092_23  POINT (-63.00142 18.25907)  12815.597804  \n",
       "35187      BOX_139_090_112  POINT (-63.09904 18.05570)           NaN  \n",
       "35138       BOX_139_090_63  POINT (-62.97603 18.11497)  14574.935266  \n",
       "\n",
       "[80 rows x 9 columns]"
      ]
     },
     "execution_count": 10,
     "metadata": {},
     "output_type": "execute_result"
    }
   ],
   "source": [
    "min_separation_radius=10000\n",
    "hotspots_per_country=3\n",
    "\n",
    "risk_type_hotspot_points_all=[]\n",
    "for risk_type in PC_col:\n",
    "    for idx_main,country in enumerate(unique_countries):\n",
    "\n",
    "        hotspot_country=hotspot.loc[hotspot[\"country\"]==country,:].copy()\n",
    "        hotspot_country_ranked=pd.concat([hotspot_country[risk_type],hotspot_country.iloc[:,-7:]],axis=1)\n",
    "        hotspot_country_ranked = gpd.GeoDataFrame(\n",
    "            hotspot_country_ranked, geometry=gpd.points_from_xy(hotspot_country_ranked.lon, hotspot_country_ranked.lat), crs=\"EPSG:4326\"\n",
    "        )\n",
    "        hotspot_country_ranked=hotspot_country_ranked.sort_values(by=risk_type,ascending=False)\n",
    "\n",
    "        hotspot_country_ranked\n",
    "\n",
    "\n",
    "\n",
    "        hotspot_points=hotspot_country_ranked.iloc[0:1,:]\n",
    "        for idx in range(0,hotspots_per_country-1):\n",
    "\n",
    "\n",
    "            try:\n",
    "                utm_zone=utmzone_gen(hotspot_country_ranked.lat.values[0],hotspot_country_ranked.lon.values[0])\n",
    "            except IndexError as e:\n",
    "                print(f\"Only {len(hotspot_points.iloc[:,0])} points availiable for {country}.\")\n",
    "                continue\n",
    "            # Reproject to a planar CRS for accurate distance calculation\n",
    "            hotspot_country_ranked = hotspot_country_ranked.to_crs(epsg=int(utm_zone.replace(\"EPSG:\",\"\"))) \n",
    "\n",
    "            # Calculate distance from the first row to all other rows\n",
    "            first_point = hotspot_country_ranked.geometry.iloc[0]\n",
    "            hotspot_country_ranked['distance (m)'] = hotspot_country_ranked.geometry.apply(lambda x: first_point.distance(x))\n",
    "\n",
    "        # remove points within radius\n",
    "            hotspot_country_ranked=hotspot_country_ranked.loc[hotspot_country_ranked['distance (m)']>min_separation_radius,:].copy() \n",
    "        #resort\n",
    "            hotspot_country_ranked=hotspot_country_ranked.sort_values(by=risk_type,ascending=False)   \n",
    "\n",
    "            hotspot_points=pd.concat([hotspot_points.to_crs(epsg=int(utm_zone.replace(\"EPSG:\",\"\"))) ,hotspot_country_ranked.iloc[0:1,:]],axis=0)\n",
    "\n",
    "        hotspot_points\n",
    "        hotspot_points= gpd.GeoDataFrame(\n",
    "            hotspot_points, geometry=gpd.points_from_xy(hotspot_points.lon, hotspot_points.lat), crs=\"EPSG:4326\"\n",
    "        )\n",
    "        hotspot_points\n",
    "\n",
    "        if idx_main==0:\n",
    "            hotspot_points_all=hotspot_points\n",
    "        else:\n",
    "            hotspot_points_all=pd.concat([hotspot_points_all,hotspot_points],axis=0)\n",
    "\n",
    "    risk_type_hotspot_points_all.append(hotspot_points_all)\n",
    "risk_type_hotspot_points_all[0]"
   ]
  },
  {
   "cell_type": "code",
   "execution_count": 11,
   "metadata": {},
   "outputs": [
    {
     "data": {
      "text/html": [
       "<div>\n",
       "<style scoped>\n",
       "    .dataframe tbody tr th:only-of-type {\n",
       "        vertical-align: middle;\n",
       "    }\n",
       "\n",
       "    .dataframe tbody tr th {\n",
       "        vertical-align: top;\n",
       "    }\n",
       "\n",
       "    .dataframe thead th {\n",
       "        text-align: right;\n",
       "    }\n",
       "</style>\n",
       "<table border=\"1\" class=\"dataframe\">\n",
       "  <thead>\n",
       "    <tr style=\"text-align: right;\">\n",
       "      <th></th>\n",
       "      <th>Cat3_Hurricane_Return_Period_PC_PC___Risk_Level</th>\n",
       "      <th>continent</th>\n",
       "      <th>country</th>\n",
       "      <th>country_id</th>\n",
       "      <th>lat</th>\n",
       "      <th>lon</th>\n",
       "      <th>transect_id</th>\n",
       "      <th>geometry</th>\n",
       "      <th>distance (m)</th>\n",
       "    </tr>\n",
       "    <tr>\n",
       "      <th>nstations</th>\n",
       "      <th></th>\n",
       "      <th></th>\n",
       "      <th></th>\n",
       "      <th></th>\n",
       "      <th></th>\n",
       "      <th></th>\n",
       "      <th></th>\n",
       "      <th></th>\n",
       "      <th></th>\n",
       "    </tr>\n",
       "  </thead>\n",
       "  <tbody>\n",
       "    <tr>\n",
       "      <th>2</th>\n",
       "      <td>3.266667</td>\n",
       "      <td>South America</td>\n",
       "      <td>Colombia</td>\n",
       "      <td>COL</td>\n",
       "      <td>12.243144</td>\n",
       "      <td>-71.875632</td>\n",
       "      <td>BOX_116_353_4</td>\n",
       "      <td>POINT (-71.87563 12.24314)</td>\n",
       "      <td>NaN</td>\n",
       "    </tr>\n",
       "    <tr>\n",
       "      <th>149</th>\n",
       "      <td>3.200000</td>\n",
       "      <td>South America</td>\n",
       "      <td>Colombia</td>\n",
       "      <td>COL</td>\n",
       "      <td>12.032842</td>\n",
       "      <td>-72.170861</td>\n",
       "      <td>BOX_116_352_32</td>\n",
       "      <td>POINT (-72.17086 12.03284)</td>\n",
       "      <td>39709.395275</td>\n",
       "    </tr>\n",
       "    <tr>\n",
       "      <th>31</th>\n",
       "      <td>3.200000</td>\n",
       "      <td>South America</td>\n",
       "      <td>Colombia</td>\n",
       "      <td>COL</td>\n",
       "      <td>12.148786</td>\n",
       "      <td>-71.957159</td>\n",
       "      <td>BOX_116_353_37</td>\n",
       "      <td>POINT (-71.95716 12.14879)</td>\n",
       "      <td>26589.168104</td>\n",
       "    </tr>\n",
       "    <tr>\n",
       "      <th>3554</th>\n",
       "      <td>2.866667</td>\n",
       "      <td>North America</td>\n",
       "      <td>Saint Kitts and Nevis</td>\n",
       "      <td>KNA</td>\n",
       "      <td>17.292176</td>\n",
       "      <td>-62.730080</td>\n",
       "      <td>BOX_117_253_48</td>\n",
       "      <td>POINT (-62.73008 17.29218)</td>\n",
       "      <td>NaN</td>\n",
       "    </tr>\n",
       "    <tr>\n",
       "      <th>344</th>\n",
       "      <td>2.733333</td>\n",
       "      <td>North America</td>\n",
       "      <td>Saint Kitts and Nevis</td>\n",
       "      <td>KNA</td>\n",
       "      <td>17.133757</td>\n",
       "      <td>-62.629287</td>\n",
       "      <td>BOX_117_249_2</td>\n",
       "      <td>POINT (-62.62929 17.13376)</td>\n",
       "      <td>20542.560516</td>\n",
       "    </tr>\n",
       "    <tr>\n",
       "      <th>...</th>\n",
       "      <td>...</td>\n",
       "      <td>...</td>\n",
       "      <td>...</td>\n",
       "      <td>...</td>\n",
       "      <td>...</td>\n",
       "      <td>...</td>\n",
       "      <td>...</td>\n",
       "      <td>...</td>\n",
       "      <td>...</td>\n",
       "    </tr>\n",
       "    <tr>\n",
       "      <th>35160</th>\n",
       "      <td>3.533333</td>\n",
       "      <td>North America</td>\n",
       "      <td>Anguilla</td>\n",
       "      <td>AIA</td>\n",
       "      <td>18.073527</td>\n",
       "      <td>-63.085786</td>\n",
       "      <td>BOX_139_090_85</td>\n",
       "      <td>POINT (-63.08579 18.07353)</td>\n",
       "      <td>NaN</td>\n",
       "    </tr>\n",
       "    <tr>\n",
       "      <th>35083</th>\n",
       "      <td>3.133333</td>\n",
       "      <td>North America</td>\n",
       "      <td>Anguilla</td>\n",
       "      <td>AIA</td>\n",
       "      <td>18.195662</td>\n",
       "      <td>-63.102858</td>\n",
       "      <td>BOX_139_090_7</td>\n",
       "      <td>POINT (-63.10286 18.19566)</td>\n",
       "      <td>13632.918555</td>\n",
       "    </tr>\n",
       "    <tr>\n",
       "      <th>33606</th>\n",
       "      <td>3.133333</td>\n",
       "      <td>North America</td>\n",
       "      <td>Anguilla</td>\n",
       "      <td>AIA</td>\n",
       "      <td>18.259070</td>\n",
       "      <td>-63.001417</td>\n",
       "      <td>BOX_139_092_23</td>\n",
       "      <td>POINT (-63.00142 18.25907)</td>\n",
       "      <td>12815.597804</td>\n",
       "    </tr>\n",
       "    <tr>\n",
       "      <th>35187</th>\n",
       "      <td>3.533333</td>\n",
       "      <td>North America</td>\n",
       "      <td>Saint Martin</td>\n",
       "      <td>MAF</td>\n",
       "      <td>18.055695</td>\n",
       "      <td>-63.099039</td>\n",
       "      <td>BOX_139_090_112</td>\n",
       "      <td>POINT (-63.09904 18.05570)</td>\n",
       "      <td>NaN</td>\n",
       "    </tr>\n",
       "    <tr>\n",
       "      <th>35138</th>\n",
       "      <td>3.066667</td>\n",
       "      <td>North America</td>\n",
       "      <td>Saint Martin</td>\n",
       "      <td>MAF</td>\n",
       "      <td>18.114972</td>\n",
       "      <td>-62.976027</td>\n",
       "      <td>BOX_139_090_63</td>\n",
       "      <td>POINT (-62.97603 18.11497)</td>\n",
       "      <td>14574.935266</td>\n",
       "    </tr>\n",
       "  </tbody>\n",
       "</table>\n",
       "<p>80 rows × 9 columns</p>\n",
       "</div>"
      ],
      "text/plain": [
       "           Cat3_Hurricane_Return_Period_PC_PC___Risk_Level      continent  \\\n",
       "nstations                                                                   \n",
       "2                                                 3.266667  South America   \n",
       "149                                               3.200000  South America   \n",
       "31                                                3.200000  South America   \n",
       "3554                                              2.866667  North America   \n",
       "344                                               2.733333  North America   \n",
       "...                                                    ...            ...   \n",
       "35160                                             3.533333  North America   \n",
       "35083                                             3.133333  North America   \n",
       "33606                                             3.133333  North America   \n",
       "35187                                             3.533333  North America   \n",
       "35138                                             3.066667  North America   \n",
       "\n",
       "                         country country_id        lat        lon  \\\n",
       "nstations                                                           \n",
       "2                       Colombia        COL  12.243144 -71.875632   \n",
       "149                     Colombia        COL  12.032842 -72.170861   \n",
       "31                      Colombia        COL  12.148786 -71.957159   \n",
       "3554       Saint Kitts and Nevis        KNA  17.292176 -62.730080   \n",
       "344        Saint Kitts and Nevis        KNA  17.133757 -62.629287   \n",
       "...                          ...        ...        ...        ...   \n",
       "35160                   Anguilla        AIA  18.073527 -63.085786   \n",
       "35083                   Anguilla        AIA  18.195662 -63.102858   \n",
       "33606                   Anguilla        AIA  18.259070 -63.001417   \n",
       "35187               Saint Martin        MAF  18.055695 -63.099039   \n",
       "35138               Saint Martin        MAF  18.114972 -62.976027   \n",
       "\n",
       "               transect_id                    geometry  distance (m)  \n",
       "nstations                                                             \n",
       "2            BOX_116_353_4  POINT (-71.87563 12.24314)           NaN  \n",
       "149         BOX_116_352_32  POINT (-72.17086 12.03284)  39709.395275  \n",
       "31          BOX_116_353_37  POINT (-71.95716 12.14879)  26589.168104  \n",
       "3554        BOX_117_253_48  POINT (-62.73008 17.29218)           NaN  \n",
       "344          BOX_117_249_2  POINT (-62.62929 17.13376)  20542.560516  \n",
       "...                    ...                         ...           ...  \n",
       "35160       BOX_139_090_85  POINT (-63.08579 18.07353)           NaN  \n",
       "35083        BOX_139_090_7  POINT (-63.10286 18.19566)  13632.918555  \n",
       "33606       BOX_139_092_23  POINT (-63.00142 18.25907)  12815.597804  \n",
       "35187      BOX_139_090_112  POINT (-63.09904 18.05570)           NaN  \n",
       "35138       BOX_139_090_63  POINT (-62.97603 18.11497)  14574.935266  \n",
       "\n",
       "[80 rows x 9 columns]"
      ]
     },
     "execution_count": 11,
     "metadata": {},
     "output_type": "execute_result"
    }
   ],
   "source": [
    "risk_type_hotspot_points_all[0]"
   ]
  },
  {
   "cell_type": "code",
   "execution_count": 12,
   "metadata": {},
   "outputs": [
    {
     "data": {
      "text/html": [
       "<div>\n",
       "<style scoped>\n",
       "    .dataframe tbody tr th:only-of-type {\n",
       "        vertical-align: middle;\n",
       "    }\n",
       "\n",
       "    .dataframe tbody tr th {\n",
       "        vertical-align: top;\n",
       "    }\n",
       "\n",
       "    .dataframe thead th {\n",
       "        text-align: right;\n",
       "    }\n",
       "</style>\n",
       "<table border=\"1\" class=\"dataframe\">\n",
       "  <thead>\n",
       "    <tr style=\"text-align: right;\">\n",
       "      <th></th>\n",
       "      <th>Cat3_Hurricane_Return_Period_PC_PC___Risk_Level</th>\n",
       "      <th>continent</th>\n",
       "      <th>country</th>\n",
       "      <th>country_id</th>\n",
       "      <th>lat</th>\n",
       "      <th>lon</th>\n",
       "      <th>transect_id</th>\n",
       "      <th>geometry</th>\n",
       "      <th>distance (m)</th>\n",
       "      <th>address</th>\n",
       "    </tr>\n",
       "    <tr>\n",
       "      <th>nstations</th>\n",
       "      <th></th>\n",
       "      <th></th>\n",
       "      <th></th>\n",
       "      <th></th>\n",
       "      <th></th>\n",
       "      <th></th>\n",
       "      <th></th>\n",
       "      <th></th>\n",
       "      <th></th>\n",
       "      <th></th>\n",
       "    </tr>\n",
       "  </thead>\n",
       "  <tbody>\n",
       "    <tr>\n",
       "      <th>2</th>\n",
       "      <td>3.266667</td>\n",
       "      <td>South America</td>\n",
       "      <td>Colombia</td>\n",
       "      <td>COL</td>\n",
       "      <td>12.243144</td>\n",
       "      <td>-71.875632</td>\n",
       "      <td>BOX_116_353_4</td>\n",
       "      <td>POINT (-71.87563 12.24314)</td>\n",
       "      <td>NaN</td>\n",
       "      <td>Uribia, La Guajira, RAP Caribe, 440029, Colombia</td>\n",
       "    </tr>\n",
       "    <tr>\n",
       "      <th>149</th>\n",
       "      <td>3.200000</td>\n",
       "      <td>South America</td>\n",
       "      <td>Colombia</td>\n",
       "      <td>COL</td>\n",
       "      <td>12.032842</td>\n",
       "      <td>-72.170861</td>\n",
       "      <td>BOX_116_352_32</td>\n",
       "      <td>POINT (-72.17086 12.03284)</td>\n",
       "      <td>39709.395275</td>\n",
       "      <td>Uribia, La Guajira, RAP Caribe, 440029, Colombia</td>\n",
       "    </tr>\n",
       "    <tr>\n",
       "      <th>31</th>\n",
       "      <td>3.200000</td>\n",
       "      <td>South America</td>\n",
       "      <td>Colombia</td>\n",
       "      <td>COL</td>\n",
       "      <td>12.148786</td>\n",
       "      <td>-71.957159</td>\n",
       "      <td>BOX_116_353_37</td>\n",
       "      <td>POINT (-71.95716 12.14879)</td>\n",
       "      <td>26589.168104</td>\n",
       "      <td>Uribia, La Guajira, RAP Caribe, 440029, Colombia</td>\n",
       "    </tr>\n",
       "    <tr>\n",
       "      <th>3554</th>\n",
       "      <td>2.866667</td>\n",
       "      <td>North America</td>\n",
       "      <td>Saint Kitts and Nevis</td>\n",
       "      <td>KNA</td>\n",
       "      <td>17.292176</td>\n",
       "      <td>-62.730080</td>\n",
       "      <td>BOX_117_253_48</td>\n",
       "      <td>POINT (-62.73008 17.29218)</td>\n",
       "      <td>NaN</td>\n",
       "      <td>Bay Road, Irish Town, Port Zante, Brumaire, Sa...</td>\n",
       "    </tr>\n",
       "    <tr>\n",
       "      <th>344</th>\n",
       "      <td>2.733333</td>\n",
       "      <td>North America</td>\n",
       "      <td>Saint Kitts and Nevis</td>\n",
       "      <td>KNA</td>\n",
       "      <td>17.133757</td>\n",
       "      <td>-62.629287</td>\n",
       "      <td>BOX_117_249_2</td>\n",
       "      <td>POINT (-62.62929 17.13376)</td>\n",
       "      <td>20542.560516</td>\n",
       "      <td>Lower Bath Road, Bath, Saint John Figtree, Nev...</td>\n",
       "    </tr>\n",
       "    <tr>\n",
       "      <th>...</th>\n",
       "      <td>...</td>\n",
       "      <td>...</td>\n",
       "      <td>...</td>\n",
       "      <td>...</td>\n",
       "      <td>...</td>\n",
       "      <td>...</td>\n",
       "      <td>...</td>\n",
       "      <td>...</td>\n",
       "      <td>...</td>\n",
       "      <td>...</td>\n",
       "    </tr>\n",
       "    <tr>\n",
       "      <th>35160</th>\n",
       "      <td>3.533333</td>\n",
       "      <td>North America</td>\n",
       "      <td>Anguilla</td>\n",
       "      <td>AIA</td>\n",
       "      <td>18.073527</td>\n",
       "      <td>-63.085786</td>\n",
       "      <td>BOX_139_090_85</td>\n",
       "      <td>POINT (-63.08579 18.07353)</td>\n",
       "      <td>NaN</td>\n",
       "      <td>Boulevard du Docteur Hubert Petit, Galisbay, M...</td>\n",
       "    </tr>\n",
       "    <tr>\n",
       "      <th>35083</th>\n",
       "      <td>3.133333</td>\n",
       "      <td>North America</td>\n",
       "      <td>Anguilla</td>\n",
       "      <td>AIA</td>\n",
       "      <td>18.195662</td>\n",
       "      <td>-63.102858</td>\n",
       "      <td>BOX_139_090_7</td>\n",
       "      <td>POINT (-63.10286 18.19566)</td>\n",
       "      <td>13632.918555</td>\n",
       "      <td>South Hill, Anguilla</td>\n",
       "    </tr>\n",
       "    <tr>\n",
       "      <th>33606</th>\n",
       "      <td>3.133333</td>\n",
       "      <td>North America</td>\n",
       "      <td>Anguilla</td>\n",
       "      <td>AIA</td>\n",
       "      <td>18.259070</td>\n",
       "      <td>-63.001417</td>\n",
       "      <td>BOX_139_092_23</td>\n",
       "      <td>POINT (-63.00142 18.25907)</td>\n",
       "      <td>12815.597804</td>\n",
       "      <td>Scilly Cay, Nashville Webster Road, Island Har...</td>\n",
       "    </tr>\n",
       "    <tr>\n",
       "      <th>35187</th>\n",
       "      <td>3.533333</td>\n",
       "      <td>North America</td>\n",
       "      <td>Saint Martin</td>\n",
       "      <td>MAF</td>\n",
       "      <td>18.055695</td>\n",
       "      <td>-63.099039</td>\n",
       "      <td>BOX_139_090_112</td>\n",
       "      <td>POINT (-63.09904 18.05570)</td>\n",
       "      <td>NaN</td>\n",
       "      <td>Sandy Ground, Marigot, Saint-Martin (France), ...</td>\n",
       "    </tr>\n",
       "    <tr>\n",
       "      <th>35138</th>\n",
       "      <td>3.066667</td>\n",
       "      <td>North America</td>\n",
       "      <td>Saint Martin</td>\n",
       "      <td>MAF</td>\n",
       "      <td>18.114972</td>\n",
       "      <td>-62.976027</td>\n",
       "      <td>BOX_139_090_63</td>\n",
       "      <td>POINT (-62.97603 18.11497)</td>\n",
       "      <td>14574.935266</td>\n",
       "      <td>Rue de Grande Caye, Cul de Sac, Saint-Martin (...</td>\n",
       "    </tr>\n",
       "  </tbody>\n",
       "</table>\n",
       "<p>80 rows × 10 columns</p>\n",
       "</div>"
      ],
      "text/plain": [
       "           Cat3_Hurricane_Return_Period_PC_PC___Risk_Level      continent  \\\n",
       "nstations                                                                   \n",
       "2                                                 3.266667  South America   \n",
       "149                                               3.200000  South America   \n",
       "31                                                3.200000  South America   \n",
       "3554                                              2.866667  North America   \n",
       "344                                               2.733333  North America   \n",
       "...                                                    ...            ...   \n",
       "35160                                             3.533333  North America   \n",
       "35083                                             3.133333  North America   \n",
       "33606                                             3.133333  North America   \n",
       "35187                                             3.533333  North America   \n",
       "35138                                             3.066667  North America   \n",
       "\n",
       "                         country country_id        lat        lon  \\\n",
       "nstations                                                           \n",
       "2                       Colombia        COL  12.243144 -71.875632   \n",
       "149                     Colombia        COL  12.032842 -72.170861   \n",
       "31                      Colombia        COL  12.148786 -71.957159   \n",
       "3554       Saint Kitts and Nevis        KNA  17.292176 -62.730080   \n",
       "344        Saint Kitts and Nevis        KNA  17.133757 -62.629287   \n",
       "...                          ...        ...        ...        ...   \n",
       "35160                   Anguilla        AIA  18.073527 -63.085786   \n",
       "35083                   Anguilla        AIA  18.195662 -63.102858   \n",
       "33606                   Anguilla        AIA  18.259070 -63.001417   \n",
       "35187               Saint Martin        MAF  18.055695 -63.099039   \n",
       "35138               Saint Martin        MAF  18.114972 -62.976027   \n",
       "\n",
       "               transect_id                    geometry  distance (m)  \\\n",
       "nstations                                                              \n",
       "2            BOX_116_353_4  POINT (-71.87563 12.24314)           NaN   \n",
       "149         BOX_116_352_32  POINT (-72.17086 12.03284)  39709.395275   \n",
       "31          BOX_116_353_37  POINT (-71.95716 12.14879)  26589.168104   \n",
       "3554        BOX_117_253_48  POINT (-62.73008 17.29218)           NaN   \n",
       "344          BOX_117_249_2  POINT (-62.62929 17.13376)  20542.560516   \n",
       "...                    ...                         ...           ...   \n",
       "35160       BOX_139_090_85  POINT (-63.08579 18.07353)           NaN   \n",
       "35083        BOX_139_090_7  POINT (-63.10286 18.19566)  13632.918555   \n",
       "33606       BOX_139_092_23  POINT (-63.00142 18.25907)  12815.597804   \n",
       "35187      BOX_139_090_112  POINT (-63.09904 18.05570)           NaN   \n",
       "35138       BOX_139_090_63  POINT (-62.97603 18.11497)  14574.935266   \n",
       "\n",
       "                                                     address  \n",
       "nstations                                                     \n",
       "2           Uribia, La Guajira, RAP Caribe, 440029, Colombia  \n",
       "149         Uribia, La Guajira, RAP Caribe, 440029, Colombia  \n",
       "31          Uribia, La Guajira, RAP Caribe, 440029, Colombia  \n",
       "3554       Bay Road, Irish Town, Port Zante, Brumaire, Sa...  \n",
       "344        Lower Bath Road, Bath, Saint John Figtree, Nev...  \n",
       "...                                                      ...  \n",
       "35160      Boulevard du Docteur Hubert Petit, Galisbay, M...  \n",
       "35083                                   South Hill, Anguilla  \n",
       "33606      Scilly Cay, Nashville Webster Road, Island Har...  \n",
       "35187      Sandy Ground, Marigot, Saint-Martin (France), ...  \n",
       "35138      Rue de Grande Caye, Cul de Sac, Saint-Martin (...  \n",
       "\n",
       "[80 rows x 10 columns]"
      ]
     },
     "execution_count": 12,
     "metadata": {},
     "output_type": "execute_result"
    }
   ],
   "source": [
    "#usually have to be run twice for some reason\n",
    "\n",
    "from geopy.geocoders import Nominatim\n",
    "\n",
    "def reverse_geocode(lat, lon):\n",
    "    try:\n",
    "        location = geolocator.reverse((lat, lon), exactly_one=True)\n",
    "        return location.address if location else \"Address not found\"\n",
    "    except Exception as e:\n",
    "        return str(e)\n",
    "\n",
    "for idx,hotspot_points in enumerate(risk_type_hotspot_points_all):\n",
    "\n",
    "\n",
    "\n",
    "    # Initialize the geolocator\n",
    "    geolocator = Nominatim(user_agent=\"geoapiExercises\")\n",
    "\n",
    "\n",
    "    # Apply the reverse geocoding function to each row in the DataFrame\n",
    "    risk_type_hotspot_points_all[idx]['address'] = hotspot_points.apply(\n",
    "        lambda row: reverse_geocode(row['lat'], row['lon']),\n",
    "        axis=1\n",
    "    )\n",
    "risk_type_hotspot_points_all[0]"
   ]
  },
  {
   "cell_type": "markdown",
   "metadata": {},
   "source": [
    "Create a  Table summary of the hotspot regions"
   ]
  },
  {
   "cell_type": "code",
   "execution_count": 13,
   "metadata": {},
   "outputs": [
    {
     "data": {
      "text/html": [
       "<div>\n",
       "<style scoped>\n",
       "    .dataframe tbody tr th:only-of-type {\n",
       "        vertical-align: middle;\n",
       "    }\n",
       "\n",
       "    .dataframe tbody tr th {\n",
       "        vertical-align: top;\n",
       "    }\n",
       "\n",
       "    .dataframe thead th {\n",
       "        text-align: right;\n",
       "    }\n",
       "</style>\n",
       "<table border=\"1\" class=\"dataframe\">\n",
       "  <thead>\n",
       "    <tr style=\"text-align: right;\">\n",
       "      <th></th>\n",
       "      <th>Country Name</th>\n",
       "      <th>Cat3_Hurricane_Return_Period_PC_PC___Risk_Level</th>\n",
       "      <th>ESL_100yrRP_PC___Risk_Level</th>\n",
       "      <th>EWH_100yrRP_PC___Risk_Level</th>\n",
       "      <th>Land_Subsidence_2010_PC___Risk_Level</th>\n",
       "      <th>Shoreline_Change_Rate_PC___Risk_Level</th>\n",
       "    </tr>\n",
       "  </thead>\n",
       "  <tbody>\n",
       "    <tr>\n",
       "      <th>0</th>\n",
       "      <td>Country 1</td>\n",
       "      <td>NaN</td>\n",
       "      <td>NaN</td>\n",
       "      <td>NaN</td>\n",
       "      <td>NaN</td>\n",
       "      <td>NaN</td>\n",
       "    </tr>\n",
       "    <tr>\n",
       "      <th>1</th>\n",
       "      <td>Country 2</td>\n",
       "      <td>NaN</td>\n",
       "      <td>NaN</td>\n",
       "      <td>NaN</td>\n",
       "      <td>NaN</td>\n",
       "      <td>NaN</td>\n",
       "    </tr>\n",
       "    <tr>\n",
       "      <th>2</th>\n",
       "      <td>Country 3</td>\n",
       "      <td>NaN</td>\n",
       "      <td>NaN</td>\n",
       "      <td>NaN</td>\n",
       "      <td>NaN</td>\n",
       "      <td>NaN</td>\n",
       "    </tr>\n",
       "    <tr>\n",
       "      <th>3</th>\n",
       "      <td>Country 4</td>\n",
       "      <td>NaN</td>\n",
       "      <td>NaN</td>\n",
       "      <td>NaN</td>\n",
       "      <td>NaN</td>\n",
       "      <td>NaN</td>\n",
       "    </tr>\n",
       "    <tr>\n",
       "      <th>4</th>\n",
       "      <td>Country 5</td>\n",
       "      <td>NaN</td>\n",
       "      <td>NaN</td>\n",
       "      <td>NaN</td>\n",
       "      <td>NaN</td>\n",
       "      <td>NaN</td>\n",
       "    </tr>\n",
       "    <tr>\n",
       "      <th>5</th>\n",
       "      <td>Country 6</td>\n",
       "      <td>NaN</td>\n",
       "      <td>NaN</td>\n",
       "      <td>NaN</td>\n",
       "      <td>NaN</td>\n",
       "      <td>NaN</td>\n",
       "    </tr>\n",
       "    <tr>\n",
       "      <th>6</th>\n",
       "      <td>Country 7</td>\n",
       "      <td>NaN</td>\n",
       "      <td>NaN</td>\n",
       "      <td>NaN</td>\n",
       "      <td>NaN</td>\n",
       "      <td>NaN</td>\n",
       "    </tr>\n",
       "    <tr>\n",
       "      <th>7</th>\n",
       "      <td>Country 8</td>\n",
       "      <td>NaN</td>\n",
       "      <td>NaN</td>\n",
       "      <td>NaN</td>\n",
       "      <td>NaN</td>\n",
       "      <td>NaN</td>\n",
       "    </tr>\n",
       "    <tr>\n",
       "      <th>8</th>\n",
       "      <td>Country 9</td>\n",
       "      <td>NaN</td>\n",
       "      <td>NaN</td>\n",
       "      <td>NaN</td>\n",
       "      <td>NaN</td>\n",
       "      <td>NaN</td>\n",
       "    </tr>\n",
       "    <tr>\n",
       "      <th>9</th>\n",
       "      <td>Country 10</td>\n",
       "      <td>NaN</td>\n",
       "      <td>NaN</td>\n",
       "      <td>NaN</td>\n",
       "      <td>NaN</td>\n",
       "      <td>NaN</td>\n",
       "    </tr>\n",
       "    <tr>\n",
       "      <th>10</th>\n",
       "      <td>Country 11</td>\n",
       "      <td>NaN</td>\n",
       "      <td>NaN</td>\n",
       "      <td>NaN</td>\n",
       "      <td>NaN</td>\n",
       "      <td>NaN</td>\n",
       "    </tr>\n",
       "    <tr>\n",
       "      <th>11</th>\n",
       "      <td>Country 12</td>\n",
       "      <td>NaN</td>\n",
       "      <td>NaN</td>\n",
       "      <td>NaN</td>\n",
       "      <td>NaN</td>\n",
       "      <td>NaN</td>\n",
       "    </tr>\n",
       "    <tr>\n",
       "      <th>12</th>\n",
       "      <td>Country 13</td>\n",
       "      <td>NaN</td>\n",
       "      <td>NaN</td>\n",
       "      <td>NaN</td>\n",
       "      <td>NaN</td>\n",
       "      <td>NaN</td>\n",
       "    </tr>\n",
       "    <tr>\n",
       "      <th>13</th>\n",
       "      <td>Country 14</td>\n",
       "      <td>NaN</td>\n",
       "      <td>NaN</td>\n",
       "      <td>NaN</td>\n",
       "      <td>NaN</td>\n",
       "      <td>NaN</td>\n",
       "    </tr>\n",
       "    <tr>\n",
       "      <th>14</th>\n",
       "      <td>Country 15</td>\n",
       "      <td>NaN</td>\n",
       "      <td>NaN</td>\n",
       "      <td>NaN</td>\n",
       "      <td>NaN</td>\n",
       "      <td>NaN</td>\n",
       "    </tr>\n",
       "    <tr>\n",
       "      <th>15</th>\n",
       "      <td>Country 16</td>\n",
       "      <td>NaN</td>\n",
       "      <td>NaN</td>\n",
       "      <td>NaN</td>\n",
       "      <td>NaN</td>\n",
       "      <td>NaN</td>\n",
       "    </tr>\n",
       "    <tr>\n",
       "      <th>16</th>\n",
       "      <td>Country 17</td>\n",
       "      <td>NaN</td>\n",
       "      <td>NaN</td>\n",
       "      <td>NaN</td>\n",
       "      <td>NaN</td>\n",
       "      <td>NaN</td>\n",
       "    </tr>\n",
       "    <tr>\n",
       "      <th>17</th>\n",
       "      <td>Country 18</td>\n",
       "      <td>NaN</td>\n",
       "      <td>NaN</td>\n",
       "      <td>NaN</td>\n",
       "      <td>NaN</td>\n",
       "      <td>NaN</td>\n",
       "    </tr>\n",
       "    <tr>\n",
       "      <th>18</th>\n",
       "      <td>Country 19</td>\n",
       "      <td>NaN</td>\n",
       "      <td>NaN</td>\n",
       "      <td>NaN</td>\n",
       "      <td>NaN</td>\n",
       "      <td>NaN</td>\n",
       "    </tr>\n",
       "    <tr>\n",
       "      <th>19</th>\n",
       "      <td>Country 20</td>\n",
       "      <td>NaN</td>\n",
       "      <td>NaN</td>\n",
       "      <td>NaN</td>\n",
       "      <td>NaN</td>\n",
       "      <td>NaN</td>\n",
       "    </tr>\n",
       "    <tr>\n",
       "      <th>20</th>\n",
       "      <td>Country 21</td>\n",
       "      <td>NaN</td>\n",
       "      <td>NaN</td>\n",
       "      <td>NaN</td>\n",
       "      <td>NaN</td>\n",
       "      <td>NaN</td>\n",
       "    </tr>\n",
       "    <tr>\n",
       "      <th>21</th>\n",
       "      <td>Country 22</td>\n",
       "      <td>NaN</td>\n",
       "      <td>NaN</td>\n",
       "      <td>NaN</td>\n",
       "      <td>NaN</td>\n",
       "      <td>NaN</td>\n",
       "    </tr>\n",
       "    <tr>\n",
       "      <th>22</th>\n",
       "      <td>Country 23</td>\n",
       "      <td>NaN</td>\n",
       "      <td>NaN</td>\n",
       "      <td>NaN</td>\n",
       "      <td>NaN</td>\n",
       "      <td>NaN</td>\n",
       "    </tr>\n",
       "    <tr>\n",
       "      <th>23</th>\n",
       "      <td>Country 24</td>\n",
       "      <td>NaN</td>\n",
       "      <td>NaN</td>\n",
       "      <td>NaN</td>\n",
       "      <td>NaN</td>\n",
       "      <td>NaN</td>\n",
       "    </tr>\n",
       "    <tr>\n",
       "      <th>24</th>\n",
       "      <td>Country 25</td>\n",
       "      <td>NaN</td>\n",
       "      <td>NaN</td>\n",
       "      <td>NaN</td>\n",
       "      <td>NaN</td>\n",
       "      <td>NaN</td>\n",
       "    </tr>\n",
       "    <tr>\n",
       "      <th>25</th>\n",
       "      <td>Country 26</td>\n",
       "      <td>NaN</td>\n",
       "      <td>NaN</td>\n",
       "      <td>NaN</td>\n",
       "      <td>NaN</td>\n",
       "      <td>NaN</td>\n",
       "    </tr>\n",
       "    <tr>\n",
       "      <th>26</th>\n",
       "      <td>Country 27</td>\n",
       "      <td>NaN</td>\n",
       "      <td>NaN</td>\n",
       "      <td>NaN</td>\n",
       "      <td>NaN</td>\n",
       "      <td>NaN</td>\n",
       "    </tr>\n",
       "    <tr>\n",
       "      <th>27</th>\n",
       "      <td>Country 28</td>\n",
       "      <td>NaN</td>\n",
       "      <td>NaN</td>\n",
       "      <td>NaN</td>\n",
       "      <td>NaN</td>\n",
       "      <td>NaN</td>\n",
       "    </tr>\n",
       "    <tr>\n",
       "      <th>28</th>\n",
       "      <td>Country 29</td>\n",
       "      <td>NaN</td>\n",
       "      <td>NaN</td>\n",
       "      <td>NaN</td>\n",
       "      <td>NaN</td>\n",
       "      <td>NaN</td>\n",
       "    </tr>\n",
       "  </tbody>\n",
       "</table>\n",
       "</div>"
      ],
      "text/plain": [
       "   Country Name Cat3_Hurricane_Return_Period_PC_PC___Risk_Level  \\\n",
       "0     Country 1                                             NaN   \n",
       "1     Country 2                                             NaN   \n",
       "2     Country 3                                             NaN   \n",
       "3     Country 4                                             NaN   \n",
       "4     Country 5                                             NaN   \n",
       "5     Country 6                                             NaN   \n",
       "6     Country 7                                             NaN   \n",
       "7     Country 8                                             NaN   \n",
       "8     Country 9                                             NaN   \n",
       "9    Country 10                                             NaN   \n",
       "10   Country 11                                             NaN   \n",
       "11   Country 12                                             NaN   \n",
       "12   Country 13                                             NaN   \n",
       "13   Country 14                                             NaN   \n",
       "14   Country 15                                             NaN   \n",
       "15   Country 16                                             NaN   \n",
       "16   Country 17                                             NaN   \n",
       "17   Country 18                                             NaN   \n",
       "18   Country 19                                             NaN   \n",
       "19   Country 20                                             NaN   \n",
       "20   Country 21                                             NaN   \n",
       "21   Country 22                                             NaN   \n",
       "22   Country 23                                             NaN   \n",
       "23   Country 24                                             NaN   \n",
       "24   Country 25                                             NaN   \n",
       "25   Country 26                                             NaN   \n",
       "26   Country 27                                             NaN   \n",
       "27   Country 28                                             NaN   \n",
       "28   Country 29                                             NaN   \n",
       "\n",
       "   ESL_100yrRP_PC___Risk_Level EWH_100yrRP_PC___Risk_Level  \\\n",
       "0                          NaN                         NaN   \n",
       "1                          NaN                         NaN   \n",
       "2                          NaN                         NaN   \n",
       "3                          NaN                         NaN   \n",
       "4                          NaN                         NaN   \n",
       "5                          NaN                         NaN   \n",
       "6                          NaN                         NaN   \n",
       "7                          NaN                         NaN   \n",
       "8                          NaN                         NaN   \n",
       "9                          NaN                         NaN   \n",
       "10                         NaN                         NaN   \n",
       "11                         NaN                         NaN   \n",
       "12                         NaN                         NaN   \n",
       "13                         NaN                         NaN   \n",
       "14                         NaN                         NaN   \n",
       "15                         NaN                         NaN   \n",
       "16                         NaN                         NaN   \n",
       "17                         NaN                         NaN   \n",
       "18                         NaN                         NaN   \n",
       "19                         NaN                         NaN   \n",
       "20                         NaN                         NaN   \n",
       "21                         NaN                         NaN   \n",
       "22                         NaN                         NaN   \n",
       "23                         NaN                         NaN   \n",
       "24                         NaN                         NaN   \n",
       "25                         NaN                         NaN   \n",
       "26                         NaN                         NaN   \n",
       "27                         NaN                         NaN   \n",
       "28                         NaN                         NaN   \n",
       "\n",
       "   Land_Subsidence_2010_PC___Risk_Level Shoreline_Change_Rate_PC___Risk_Level  \n",
       "0                                   NaN                                   NaN  \n",
       "1                                   NaN                                   NaN  \n",
       "2                                   NaN                                   NaN  \n",
       "3                                   NaN                                   NaN  \n",
       "4                                   NaN                                   NaN  \n",
       "5                                   NaN                                   NaN  \n",
       "6                                   NaN                                   NaN  \n",
       "7                                   NaN                                   NaN  \n",
       "8                                   NaN                                   NaN  \n",
       "9                                   NaN                                   NaN  \n",
       "10                                  NaN                                   NaN  \n",
       "11                                  NaN                                   NaN  \n",
       "12                                  NaN                                   NaN  \n",
       "13                                  NaN                                   NaN  \n",
       "14                                  NaN                                   NaN  \n",
       "15                                  NaN                                   NaN  \n",
       "16                                  NaN                                   NaN  \n",
       "17                                  NaN                                   NaN  \n",
       "18                                  NaN                                   NaN  \n",
       "19                                  NaN                                   NaN  \n",
       "20                                  NaN                                   NaN  \n",
       "21                                  NaN                                   NaN  \n",
       "22                                  NaN                                   NaN  \n",
       "23                                  NaN                                   NaN  \n",
       "24                                  NaN                                   NaN  \n",
       "25                                  NaN                                   NaN  \n",
       "26                                  NaN                                   NaN  \n",
       "27                                  NaN                                   NaN  \n",
       "28                                  NaN                                   NaN  "
      ]
     },
     "execution_count": 13,
     "metadata": {},
     "output_type": "execute_result"
    }
   ],
   "source": [
    "#initialize the columns in the dataframe\n",
    "all_columns = ['Country Name'] + PC_col\n",
    "hotspot_per_country_df = pd.DataFrame(columns=all_columns)\n",
    "\n",
    "\n",
    "# Create 26 rows of data\n",
    "data = [{'Country Name': f'Country {i+1}'} for i in range(len(unique_countries)+1)]\n",
    "\n",
    "# Convert list of dictionaries to DataFrame\n",
    "data_df = pd.DataFrame(data)\n",
    "\n",
    "# Concatenate the DataFrame with the data\n",
    "hotspot_per_country_df = pd.concat([hotspot_per_country_df, data_df], ignore_index=True)\n",
    "hotspot_per_country_df"
   ]
  },
  {
   "cell_type": "code",
   "execution_count": 14,
   "metadata": {},
   "outputs": [
    {
     "data": {
      "text/html": [
       "<div>\n",
       "<style scoped>\n",
       "    .dataframe tbody tr th:only-of-type {\n",
       "        vertical-align: middle;\n",
       "    }\n",
       "\n",
       "    .dataframe tbody tr th {\n",
       "        vertical-align: top;\n",
       "    }\n",
       "\n",
       "    .dataframe thead th {\n",
       "        text-align: right;\n",
       "    }\n",
       "</style>\n",
       "<table border=\"1\" class=\"dataframe\">\n",
       "  <thead>\n",
       "    <tr style=\"text-align: right;\">\n",
       "      <th></th>\n",
       "      <th>Country Name</th>\n",
       "      <th>Cat3_Hurricane_Return_Period_PC_PC___Risk_Level</th>\n",
       "      <th>ESL_100yrRP_PC___Risk_Level</th>\n",
       "      <th>EWH_100yrRP_PC___Risk_Level</th>\n",
       "      <th>Land_Subsidence_2010_PC___Risk_Level</th>\n",
       "      <th>Shoreline_Change_Rate_PC___Risk_Level</th>\n",
       "    </tr>\n",
       "  </thead>\n",
       "  <tbody>\n",
       "    <tr>\n",
       "      <th>0</th>\n",
       "      <td>Entire Caribbean</td>\n",
       "      <td>1re Bourdet, Commune Les Cayes, Arrondissement...</td>\n",
       "      <td>La Costa, Caleta, La Romana, República Dominic...</td>\n",
       "      <td>1re Bourdet, Commune Les Cayes, Arrondissement...</td>\n",
       "      <td>Puente de Madera, Palmas, Cataño, Puerto Rico,...</td>\n",
       "      <td>Sent terèz, 1re Bourdet, Commune Les Cayes, Ar...</td>\n",
       "    </tr>\n",
       "    <tr>\n",
       "      <th>1</th>\n",
       "      <td>Colombia</td>\n",
       "      <td>Uribia, La Guajira, RAP Caribe, 440029, Colomb...</td>\n",
       "      <td>Uribia, La Guajira, RAP Caribe, 440029, Colomb...</td>\n",
       "      <td>Uribia, La Guajira, RAP Caribe, 440029, Colomb...</td>\n",
       "      <td>Escuela carrizal playa, Vía Uribia - Puerto Bo...</td>\n",
       "      <td>Colombia (12.25, -71.88)</td>\n",
       "    </tr>\n",
       "    <tr>\n",
       "      <th>2</th>\n",
       "      <td>Saint Kitts and Nevis</td>\n",
       "      <td>Bay Road, Irish Town, Port Zante, Brumaire, Sa...</td>\n",
       "      <td>Bay Road, Irish Town, Port Zante, Brumaire, Sa...</td>\n",
       "      <td>Bay Road, Irish Town, Port Zante, Brumaire, Sa...</td>\n",
       "      <td>No Land Subsidence 2010 data available for Sai...</td>\n",
       "      <td>The Salt Ponds, Fleming Estate, Saint George B...</td>\n",
       "    </tr>\n",
       "    <tr>\n",
       "      <th>3</th>\n",
       "      <td>Netherlands</td>\n",
       "      <td>Julio A Abraham Boulevard, Plaza Beach Resort,...</td>\n",
       "      <td>Julio A Abraham Boulevard, Plaza Beach Resort,...</td>\n",
       "      <td>Julio A Abraham Boulevard, Plaza Beach Resort,...</td>\n",
       "      <td>No Land Subsidence 2010 data available for Net...</td>\n",
       "      <td>Lac, Bonaire, Nederland, 0000 BQ, Nederland (1...</td>\n",
       "    </tr>\n",
       "    <tr>\n",
       "      <th>4</th>\n",
       "      <td>France</td>\n",
       "      <td>FR*EZD*E45697,FR*EZD*E45709, Impasse Morne Cab...</td>\n",
       "      <td>Résidence de l'Autre Bord, L'Autre Bord, Le Mo...</td>\n",
       "      <td>Chez Dolmare, Boulevard de l'Amitié des Peuple...</td>\n",
       "      <td>Boulevard de la Pointe de Jarry, Baie-Mahault,...</td>\n",
       "      <td>N 9, Tourterelles-Nord, Fort-de-France, Martin...</td>\n",
       "    </tr>\n",
       "    <tr>\n",
       "      <th>5</th>\n",
       "      <td>Antigua and Barbuda</td>\n",
       "      <td>Palmetto Point, Barbuda, Antigua and Barbuda (...</td>\n",
       "      <td>Ffryes, Saint Mary, Antigua, Antigua and Barbu...</td>\n",
       "      <td>Spanish Point, Barbuda, Antigua and Barbuda (1...</td>\n",
       "      <td>Ffryes, Saint Mary, Antigua, Antigua and Barbu...</td>\n",
       "      <td>Pelican Point, Barbuda, Antigua and Barbuda (1...</td>\n",
       "    </tr>\n",
       "    <tr>\n",
       "      <th>6</th>\n",
       "      <td>Venezuela</td>\n",
       "      <td>Tiraya, Parroquia Adícora, Municipio Falcón, F...</td>\n",
       "      <td>Parroquia Jadacaquiva, Municipio Falcón, Falcó...</td>\n",
       "      <td>Tiraya, Parroquia Adícora, Municipio Falcón, F...</td>\n",
       "      <td>Tiraya, Parroquia Adícora, Municipio Falcón, F...</td>\n",
       "      <td>La Macolla, Parroquia Jadacaquiva, Municipio F...</td>\n",
       "    </tr>\n",
       "    <tr>\n",
       "      <th>7</th>\n",
       "      <td>Montserrat</td>\n",
       "      <td>Saint Anthony, Montserrat (16.68, -62.19)</td>\n",
       "      <td>Saint Anthony, Montserrat (16.68, -62.19)</td>\n",
       "      <td>Fogatry, Brades, Saint Peter, Montserrat (16.7...</td>\n",
       "      <td>Fogatry, Brades, Saint Peter, Montserrat (16.7...</td>\n",
       "      <td>Saint Anthony, Montserrat (16.70, -62.15)</td>\n",
       "    </tr>\n",
       "    <tr>\n",
       "      <th>8</th>\n",
       "      <td>Curacao</td>\n",
       "      <td>Baoase Luxury Resort, 2, Winterswijkstraat, Ma...</td>\n",
       "      <td>Baoase Luxury Resort, 2, Winterswijkstraat, Ma...</td>\n",
       "      <td>Baoase Luxury Resort, 2, Winterswijkstraat, Ma...</td>\n",
       "      <td>No Land Subsidence 2010 data available for Cur...</td>\n",
       "      <td>Avila Beach Hotel, 130, Penstraat, Nieuw Neder...</td>\n",
       "    </tr>\n",
       "    <tr>\n",
       "      <th>9</th>\n",
       "      <td>Saint Lucia</td>\n",
       "      <td>Nelson Mandela Drive, City Gate, Vigie, Castri...</td>\n",
       "      <td>Nelson Mandela Drive, City Gate, Vigie, Castri...</td>\n",
       "      <td>Nelson Mandela Drive, City Gate, Vigie, Castri...</td>\n",
       "      <td>No Land Subsidence 2010 data available for Sai...</td>\n",
       "      <td>Castries - Vieux Fort Highway, Westall Group /...</td>\n",
       "    </tr>\n",
       "    <tr>\n",
       "      <th>10</th>\n",
       "      <td>Aruba</td>\n",
       "      <td>J.E. Irausquin Boulevard, Bubali, Aruba, Neder...</td>\n",
       "      <td>Berea Di Piscado, Aruba, Nederland (12.58, -70...</td>\n",
       "      <td>Berea Di Piscado, Aruba, Nederland (12.58, -70...</td>\n",
       "      <td>No Land Subsidence 2010 data available for Aruba</td>\n",
       "      <td>Divi Golf and Beach Resort, Avenida Nelson O. ...</td>\n",
       "    </tr>\n",
       "    <tr>\n",
       "      <th>11</th>\n",
       "      <td>Barbados</td>\n",
       "      <td>Mighty Grynner Highway, Westbury, Saint Michae...</td>\n",
       "      <td>The Bridgetown Fisheries Complex, Princess Ali...</td>\n",
       "      <td>The Bridgetown Fisheries Complex, Princess Ali...</td>\n",
       "      <td>No Land Subsidence 2010 data available for Bar...</td>\n",
       "      <td>The Bridgetown Fisheries Complex, Princess Ali...</td>\n",
       "    </tr>\n",
       "    <tr>\n",
       "      <th>12</th>\n",
       "      <td>Dominican Republic</td>\n",
       "      <td>Antigua Carretera Francisco del Rosario Sánche...</td>\n",
       "      <td>La Costa, Caleta, La Romana, República Dominic...</td>\n",
       "      <td>La pozita, 1, Duarte, Nagua, María Trinidad Sá...</td>\n",
       "      <td>N. Minaya, Nagua, María Trinidad Sánchez, Repú...</td>\n",
       "      <td>Costinilla, Oviedo, Pedernales, República Domi...</td>\n",
       "    </tr>\n",
       "    <tr>\n",
       "      <th>13</th>\n",
       "      <td>Saint Vincent and the Grenadines</td>\n",
       "      <td>Ottley Hall Shipyard, Shipyard Road, Campden P...</td>\n",
       "      <td>Sion Hill, New Sandy Bay Village, Charlotte, S...</td>\n",
       "      <td>Ottley Hall Shipyard, Shipyard Road, Campden P...</td>\n",
       "      <td>No Land Subsidence 2010 data available for Sai...</td>\n",
       "      <td>Canouan Main Road, Barbruce, Charlestown, Gren...</td>\n",
       "    </tr>\n",
       "    <tr>\n",
       "      <th>14</th>\n",
       "      <td>Grenada</td>\n",
       "      <td>Airport Road, Hillsborough, Carriacou and Peti...</td>\n",
       "      <td>St. George's Hospital, Grand Etang Road, Belmo...</td>\n",
       "      <td>St. George's Hospital, Grand Etang Road, Belmo...</td>\n",
       "      <td>No Land Subsidence 2010 data available for Gre...</td>\n",
       "      <td>Cassada Bay Road, Belmont, Carriacou and Petit...</td>\n",
       "    </tr>\n",
       "    <tr>\n",
       "      <th>15</th>\n",
       "      <td>Dominica</td>\n",
       "      <td>River Bank, Potters Ville, Roseau, Saint Georg...</td>\n",
       "      <td>Portsmouth Fisheries Complex, Pembroke Street,...</td>\n",
       "      <td>River Bank, Potters Ville, Roseau, Saint Georg...</td>\n",
       "      <td>Portsmouth Fisheries Complex, Pembroke Street,...</td>\n",
       "      <td>Edward Olivier Leblanc Highway, Picard, Saint ...</td>\n",
       "    </tr>\n",
       "    <tr>\n",
       "      <th>16</th>\n",
       "      <td>Haiti</td>\n",
       "      <td>1re Bourdet, Commune Les Cayes, Arrondissement...</td>\n",
       "      <td>Ti Port-de-Paix, 3e Aubert, La Tendrie, Commun...</td>\n",
       "      <td>1re Bourdet, Commune Les Cayes, Arrondissement...</td>\n",
       "      <td>Sent terèz, 1re Bourdet, Commune Les Cayes, Ar...</td>\n",
       "      <td>Sent terèz, 1re Bourdet, Commune Les Cayes, Ar...</td>\n",
       "    </tr>\n",
       "    <tr>\n",
       "      <th>17</th>\n",
       "      <td>Cuba</td>\n",
       "      <td>Isla de la Juventud, Cuba (21.44, -82.89)</td>\n",
       "      <td>66, Surgidero de Batabanó, Batabanó, Mayabeque...</td>\n",
       "      <td>Isla de la Juventud, Cuba (21.44, -82.89)</td>\n",
       "      <td>Centro de Buceo Cuba Ocean Diving, 29817, Aven...</td>\n",
       "      <td>Carretera Casablanca, Residencial Vía Tunel, G...</td>\n",
       "    </tr>\n",
       "    <tr>\n",
       "      <th>18</th>\n",
       "      <td>Jamaica</td>\n",
       "      <td>Sports Bar, Allan Avenue, Port Antonio, Portla...</td>\n",
       "      <td>Norman Manley Boulevard, Hanover, Cornwall Cou...</td>\n",
       "      <td>Sir Florizel Glaspole Boulevard, Harbour View,...</td>\n",
       "      <td>Saint Elizabeth, Cornwall County, Jamaica (18....</td>\n",
       "      <td>Sir Florizel Glaspole Boulevard, Harbour View,...</td>\n",
       "    </tr>\n",
       "    <tr>\n",
       "      <th>19</th>\n",
       "      <td>The Bahamas</td>\n",
       "      <td>Cat Island, The Bahamas (24.30, -75.44)</td>\n",
       "      <td>Central Andros, The Bahamas (24.42, -78.18)</td>\n",
       "      <td>Venice Bay, Nassau, New Providence, The Bahama...</td>\n",
       "      <td>North Andros, The Bahamas (24.65, -78.39)</td>\n",
       "      <td>Crooked Island and Long Cay, The Bahamas (22.6...</td>\n",
       "    </tr>\n",
       "    <tr>\n",
       "      <th>20</th>\n",
       "      <td>Turks and Caicos Islands</td>\n",
       "      <td>448, Chalk Sound Drive, Providenciales, Turks ...</td>\n",
       "      <td>Chalk Sound Drive, Providenciales, Turks and C...</td>\n",
       "      <td>Chalk Sound Drive, Providenciales, Turks and C...</td>\n",
       "      <td>No Land Subsidence 2010 data available for Tur...</td>\n",
       "      <td>Middle Caicos, Turks and Caicos Islands (21.83...</td>\n",
       "    </tr>\n",
       "    <tr>\n",
       "      <th>21</th>\n",
       "      <td>United States of America</td>\n",
       "      <td>The Laureate Key West, 3444, North Roosevelt B...</td>\n",
       "      <td>2nd Street, El Chico, Monroe County, Florida, ...</td>\n",
       "      <td>East 105th Street Ocean, Marathon, Monroe Coun...</td>\n",
       "      <td>No Land Subsidence 2010 data available for Uni...</td>\n",
       "      <td>Florida Keys Overseas Heritage Trail, Key West...</td>\n",
       "    </tr>\n",
       "    <tr>\n",
       "      <th>22</th>\n",
       "      <td>Cayman Islands</td>\n",
       "      <td>Burger King, North Church Street, The Swamp, W...</td>\n",
       "      <td>Smith Cove Snorkel Area, South Church Street, ...</td>\n",
       "      <td>Snorkelling, South Church Street, Rock Hole, G...</td>\n",
       "      <td>No Land Subsidence 2010 data available for Cay...</td>\n",
       "      <td>Dream Lane, Scott Development, West End, Siste...</td>\n",
       "    </tr>\n",
       "    <tr>\n",
       "      <th>23</th>\n",
       "      <td>British Virgin Islands</td>\n",
       "      <td>Road Town, Tortola, VG1110, British Virgin Isl...</td>\n",
       "      <td>Road Town, Tortola, VG1110, British Virgin Isl...</td>\n",
       "      <td>Road Town, Tortola, VG1110, British Virgin Isl...</td>\n",
       "      <td>No Land Subsidence 2010 data available for Bri...</td>\n",
       "      <td>Road Town, Tortola, VG1110, British Virgin Isl...</td>\n",
       "    </tr>\n",
       "    <tr>\n",
       "      <th>24</th>\n",
       "      <td>Puerto Rico</td>\n",
       "      <td>Camino Uvero, Uvero, Isla de Mona e Islote Mon...</td>\n",
       "      <td>Carretera Punta Gotay, Tallaboa Poniente, Peñu...</td>\n",
       "      <td>Rincon Self Storage, Avenida Doctor Pedro Albi...</td>\n",
       "      <td>Puente de Madera, Palmas, Cataño, Puerto Rico,...</td>\n",
       "      <td>Carnival CruisePort Muelle 4, Paseo Dr. Gilber...</td>\n",
       "    </tr>\n",
       "    <tr>\n",
       "      <th>25</th>\n",
       "      <td>United States Virgin Islands</td>\n",
       "      <td>Point Pleasant Way, Charlotte Amalie, Saint Th...</td>\n",
       "      <td>John de Jongh Promenade, Charlotte Amalie West...</td>\n",
       "      <td>9, Strand Street, Frederiksted, Saint Croix Di...</td>\n",
       "      <td>No Land Subsidence 2010 data available for Uni...</td>\n",
       "      <td>Charlotte Amalie, Saint Thomas - Saint John Di...</td>\n",
       "    </tr>\n",
       "    <tr>\n",
       "      <th>26</th>\n",
       "      <td>Saint Barthelemy</td>\n",
       "      <td>631, Chemin de l'Anse Saint-Jean, Le Château, ...</td>\n",
       "      <td>631, Chemin de l'Anse Saint-Jean, Le Château, ...</td>\n",
       "      <td>631, Chemin de l'Anse Saint-Jean, Le Château, ...</td>\n",
       "      <td>No Land Subsidence 2010 data available for Sai...</td>\n",
       "      <td>Vito, Route de Lorient, Camaruche, Gustavia, S...</td>\n",
       "    </tr>\n",
       "    <tr>\n",
       "      <th>27</th>\n",
       "      <td>Anguilla</td>\n",
       "      <td>Boulevard du Docteur Hubert Petit, Galisbay, M...</td>\n",
       "      <td>Boulevard du Docteur Hubert Petit, Galisbay, M...</td>\n",
       "      <td>Boulevard du Docteur Hubert Petit, Galisbay, M...</td>\n",
       "      <td>No Land Subsidence 2010 data available for Ang...</td>\n",
       "      <td>Gratten's Point, Anguilla (18.30, -62.94)</td>\n",
       "    </tr>\n",
       "    <tr>\n",
       "      <th>28</th>\n",
       "      <td>Saint Martin</td>\n",
       "      <td>Sandy Ground, Marigot, Saint-Martin (France), ...</td>\n",
       "      <td>Sandy Ground, Marigot, Saint-Martin (France), ...</td>\n",
       "      <td>Sandy Ground, Marigot, Saint-Martin (France), ...</td>\n",
       "      <td>No Land Subsidence 2010 data available for Sai...</td>\n",
       "      <td>Sandy Ground, Marigot, Saint-Martin (France), ...</td>\n",
       "    </tr>\n",
       "  </tbody>\n",
       "</table>\n",
       "</div>"
      ],
      "text/plain": [
       "                        Country Name  \\\n",
       "0                   Entire Caribbean   \n",
       "1                           Colombia   \n",
       "2              Saint Kitts and Nevis   \n",
       "3                        Netherlands   \n",
       "4                             France   \n",
       "5                Antigua and Barbuda   \n",
       "6                          Venezuela   \n",
       "7                         Montserrat   \n",
       "8                            Curacao   \n",
       "9                        Saint Lucia   \n",
       "10                             Aruba   \n",
       "11                          Barbados   \n",
       "12                Dominican Republic   \n",
       "13  Saint Vincent and the Grenadines   \n",
       "14                           Grenada   \n",
       "15                          Dominica   \n",
       "16                             Haiti   \n",
       "17                              Cuba   \n",
       "18                           Jamaica   \n",
       "19                       The Bahamas   \n",
       "20          Turks and Caicos Islands   \n",
       "21          United States of America   \n",
       "22                    Cayman Islands   \n",
       "23            British Virgin Islands   \n",
       "24                       Puerto Rico   \n",
       "25      United States Virgin Islands   \n",
       "26                  Saint Barthelemy   \n",
       "27                          Anguilla   \n",
       "28                      Saint Martin   \n",
       "\n",
       "      Cat3_Hurricane_Return_Period_PC_PC___Risk_Level  \\\n",
       "0   1re Bourdet, Commune Les Cayes, Arrondissement...   \n",
       "1   Uribia, La Guajira, RAP Caribe, 440029, Colomb...   \n",
       "2   Bay Road, Irish Town, Port Zante, Brumaire, Sa...   \n",
       "3   Julio A Abraham Boulevard, Plaza Beach Resort,...   \n",
       "4   FR*EZD*E45697,FR*EZD*E45709, Impasse Morne Cab...   \n",
       "5   Palmetto Point, Barbuda, Antigua and Barbuda (...   \n",
       "6   Tiraya, Parroquia Adícora, Municipio Falcón, F...   \n",
       "7           Saint Anthony, Montserrat (16.68, -62.19)   \n",
       "8   Baoase Luxury Resort, 2, Winterswijkstraat, Ma...   \n",
       "9   Nelson Mandela Drive, City Gate, Vigie, Castri...   \n",
       "10  J.E. Irausquin Boulevard, Bubali, Aruba, Neder...   \n",
       "11  Mighty Grynner Highway, Westbury, Saint Michae...   \n",
       "12  Antigua Carretera Francisco del Rosario Sánche...   \n",
       "13  Ottley Hall Shipyard, Shipyard Road, Campden P...   \n",
       "14  Airport Road, Hillsborough, Carriacou and Peti...   \n",
       "15  River Bank, Potters Ville, Roseau, Saint Georg...   \n",
       "16  1re Bourdet, Commune Les Cayes, Arrondissement...   \n",
       "17          Isla de la Juventud, Cuba (21.44, -82.89)   \n",
       "18  Sports Bar, Allan Avenue, Port Antonio, Portla...   \n",
       "19            Cat Island, The Bahamas (24.30, -75.44)   \n",
       "20  448, Chalk Sound Drive, Providenciales, Turks ...   \n",
       "21  The Laureate Key West, 3444, North Roosevelt B...   \n",
       "22  Burger King, North Church Street, The Swamp, W...   \n",
       "23  Road Town, Tortola, VG1110, British Virgin Isl...   \n",
       "24  Camino Uvero, Uvero, Isla de Mona e Islote Mon...   \n",
       "25  Point Pleasant Way, Charlotte Amalie, Saint Th...   \n",
       "26  631, Chemin de l'Anse Saint-Jean, Le Château, ...   \n",
       "27  Boulevard du Docteur Hubert Petit, Galisbay, M...   \n",
       "28  Sandy Ground, Marigot, Saint-Martin (France), ...   \n",
       "\n",
       "                          ESL_100yrRP_PC___Risk_Level  \\\n",
       "0   La Costa, Caleta, La Romana, República Dominic...   \n",
       "1   Uribia, La Guajira, RAP Caribe, 440029, Colomb...   \n",
       "2   Bay Road, Irish Town, Port Zante, Brumaire, Sa...   \n",
       "3   Julio A Abraham Boulevard, Plaza Beach Resort,...   \n",
       "4   Résidence de l'Autre Bord, L'Autre Bord, Le Mo...   \n",
       "5   Ffryes, Saint Mary, Antigua, Antigua and Barbu...   \n",
       "6   Parroquia Jadacaquiva, Municipio Falcón, Falcó...   \n",
       "7           Saint Anthony, Montserrat (16.68, -62.19)   \n",
       "8   Baoase Luxury Resort, 2, Winterswijkstraat, Ma...   \n",
       "9   Nelson Mandela Drive, City Gate, Vigie, Castri...   \n",
       "10  Berea Di Piscado, Aruba, Nederland (12.58, -70...   \n",
       "11  The Bridgetown Fisheries Complex, Princess Ali...   \n",
       "12  La Costa, Caleta, La Romana, República Dominic...   \n",
       "13  Sion Hill, New Sandy Bay Village, Charlotte, S...   \n",
       "14  St. George's Hospital, Grand Etang Road, Belmo...   \n",
       "15  Portsmouth Fisheries Complex, Pembroke Street,...   \n",
       "16  Ti Port-de-Paix, 3e Aubert, La Tendrie, Commun...   \n",
       "17  66, Surgidero de Batabanó, Batabanó, Mayabeque...   \n",
       "18  Norman Manley Boulevard, Hanover, Cornwall Cou...   \n",
       "19        Central Andros, The Bahamas (24.42, -78.18)   \n",
       "20  Chalk Sound Drive, Providenciales, Turks and C...   \n",
       "21  2nd Street, El Chico, Monroe County, Florida, ...   \n",
       "22  Smith Cove Snorkel Area, South Church Street, ...   \n",
       "23  Road Town, Tortola, VG1110, British Virgin Isl...   \n",
       "24  Carretera Punta Gotay, Tallaboa Poniente, Peñu...   \n",
       "25  John de Jongh Promenade, Charlotte Amalie West...   \n",
       "26  631, Chemin de l'Anse Saint-Jean, Le Château, ...   \n",
       "27  Boulevard du Docteur Hubert Petit, Galisbay, M...   \n",
       "28  Sandy Ground, Marigot, Saint-Martin (France), ...   \n",
       "\n",
       "                          EWH_100yrRP_PC___Risk_Level  \\\n",
       "0   1re Bourdet, Commune Les Cayes, Arrondissement...   \n",
       "1   Uribia, La Guajira, RAP Caribe, 440029, Colomb...   \n",
       "2   Bay Road, Irish Town, Port Zante, Brumaire, Sa...   \n",
       "3   Julio A Abraham Boulevard, Plaza Beach Resort,...   \n",
       "4   Chez Dolmare, Boulevard de l'Amitié des Peuple...   \n",
       "5   Spanish Point, Barbuda, Antigua and Barbuda (1...   \n",
       "6   Tiraya, Parroquia Adícora, Municipio Falcón, F...   \n",
       "7   Fogatry, Brades, Saint Peter, Montserrat (16.7...   \n",
       "8   Baoase Luxury Resort, 2, Winterswijkstraat, Ma...   \n",
       "9   Nelson Mandela Drive, City Gate, Vigie, Castri...   \n",
       "10  Berea Di Piscado, Aruba, Nederland (12.58, -70...   \n",
       "11  The Bridgetown Fisheries Complex, Princess Ali...   \n",
       "12  La pozita, 1, Duarte, Nagua, María Trinidad Sá...   \n",
       "13  Ottley Hall Shipyard, Shipyard Road, Campden P...   \n",
       "14  St. George's Hospital, Grand Etang Road, Belmo...   \n",
       "15  River Bank, Potters Ville, Roseau, Saint Georg...   \n",
       "16  1re Bourdet, Commune Les Cayes, Arrondissement...   \n",
       "17          Isla de la Juventud, Cuba (21.44, -82.89)   \n",
       "18  Sir Florizel Glaspole Boulevard, Harbour View,...   \n",
       "19  Venice Bay, Nassau, New Providence, The Bahama...   \n",
       "20  Chalk Sound Drive, Providenciales, Turks and C...   \n",
       "21  East 105th Street Ocean, Marathon, Monroe Coun...   \n",
       "22  Snorkelling, South Church Street, Rock Hole, G...   \n",
       "23  Road Town, Tortola, VG1110, British Virgin Isl...   \n",
       "24  Rincon Self Storage, Avenida Doctor Pedro Albi...   \n",
       "25  9, Strand Street, Frederiksted, Saint Croix Di...   \n",
       "26  631, Chemin de l'Anse Saint-Jean, Le Château, ...   \n",
       "27  Boulevard du Docteur Hubert Petit, Galisbay, M...   \n",
       "28  Sandy Ground, Marigot, Saint-Martin (France), ...   \n",
       "\n",
       "                 Land_Subsidence_2010_PC___Risk_Level  \\\n",
       "0   Puente de Madera, Palmas, Cataño, Puerto Rico,...   \n",
       "1   Escuela carrizal playa, Vía Uribia - Puerto Bo...   \n",
       "2   No Land Subsidence 2010 data available for Sai...   \n",
       "3   No Land Subsidence 2010 data available for Net...   \n",
       "4   Boulevard de la Pointe de Jarry, Baie-Mahault,...   \n",
       "5   Ffryes, Saint Mary, Antigua, Antigua and Barbu...   \n",
       "6   Tiraya, Parroquia Adícora, Municipio Falcón, F...   \n",
       "7   Fogatry, Brades, Saint Peter, Montserrat (16.7...   \n",
       "8   No Land Subsidence 2010 data available for Cur...   \n",
       "9   No Land Subsidence 2010 data available for Sai...   \n",
       "10   No Land Subsidence 2010 data available for Aruba   \n",
       "11  No Land Subsidence 2010 data available for Bar...   \n",
       "12  N. Minaya, Nagua, María Trinidad Sánchez, Repú...   \n",
       "13  No Land Subsidence 2010 data available for Sai...   \n",
       "14  No Land Subsidence 2010 data available for Gre...   \n",
       "15  Portsmouth Fisheries Complex, Pembroke Street,...   \n",
       "16  Sent terèz, 1re Bourdet, Commune Les Cayes, Ar...   \n",
       "17  Centro de Buceo Cuba Ocean Diving, 29817, Aven...   \n",
       "18  Saint Elizabeth, Cornwall County, Jamaica (18....   \n",
       "19          North Andros, The Bahamas (24.65, -78.39)   \n",
       "20  No Land Subsidence 2010 data available for Tur...   \n",
       "21  No Land Subsidence 2010 data available for Uni...   \n",
       "22  No Land Subsidence 2010 data available for Cay...   \n",
       "23  No Land Subsidence 2010 data available for Bri...   \n",
       "24  Puente de Madera, Palmas, Cataño, Puerto Rico,...   \n",
       "25  No Land Subsidence 2010 data available for Uni...   \n",
       "26  No Land Subsidence 2010 data available for Sai...   \n",
       "27  No Land Subsidence 2010 data available for Ang...   \n",
       "28  No Land Subsidence 2010 data available for Sai...   \n",
       "\n",
       "                Shoreline_Change_Rate_PC___Risk_Level  \n",
       "0   Sent terèz, 1re Bourdet, Commune Les Cayes, Ar...  \n",
       "1                            Colombia (12.25, -71.88)  \n",
       "2   The Salt Ponds, Fleming Estate, Saint George B...  \n",
       "3   Lac, Bonaire, Nederland, 0000 BQ, Nederland (1...  \n",
       "4   N 9, Tourterelles-Nord, Fort-de-France, Martin...  \n",
       "5   Pelican Point, Barbuda, Antigua and Barbuda (1...  \n",
       "6   La Macolla, Parroquia Jadacaquiva, Municipio F...  \n",
       "7           Saint Anthony, Montserrat (16.70, -62.15)  \n",
       "8   Avila Beach Hotel, 130, Penstraat, Nieuw Neder...  \n",
       "9   Castries - Vieux Fort Highway, Westall Group /...  \n",
       "10  Divi Golf and Beach Resort, Avenida Nelson O. ...  \n",
       "11  The Bridgetown Fisheries Complex, Princess Ali...  \n",
       "12  Costinilla, Oviedo, Pedernales, República Domi...  \n",
       "13  Canouan Main Road, Barbruce, Charlestown, Gren...  \n",
       "14  Cassada Bay Road, Belmont, Carriacou and Petit...  \n",
       "15  Edward Olivier Leblanc Highway, Picard, Saint ...  \n",
       "16  Sent terèz, 1re Bourdet, Commune Les Cayes, Ar...  \n",
       "17  Carretera Casablanca, Residencial Vía Tunel, G...  \n",
       "18  Sir Florizel Glaspole Boulevard, Harbour View,...  \n",
       "19  Crooked Island and Long Cay, The Bahamas (22.6...  \n",
       "20  Middle Caicos, Turks and Caicos Islands (21.83...  \n",
       "21  Florida Keys Overseas Heritage Trail, Key West...  \n",
       "22  Dream Lane, Scott Development, West End, Siste...  \n",
       "23  Road Town, Tortola, VG1110, British Virgin Isl...  \n",
       "24  Carnival CruisePort Muelle 4, Paseo Dr. Gilber...  \n",
       "25  Charlotte Amalie, Saint Thomas - Saint John Di...  \n",
       "26  Vito, Route de Lorient, Camaruche, Gustavia, S...  \n",
       "27          Gratten's Point, Anguilla (18.30, -62.94)  \n",
       "28  Sandy Ground, Marigot, Saint-Martin (France), ...  "
      ]
     },
     "execution_count": 14,
     "metadata": {},
     "output_type": "execute_result"
    }
   ],
   "source": [
    "for risk_type_hotspot_points in risk_type_hotspot_points_all:\n",
    "\n",
    "    #Identify risk type\n",
    "    risk_type=risk_type_hotspot_points.columns[0]\n",
    " #Set country name\n",
    "    hotspot_per_country_df.loc[0,\"Country Name\"]=\"Entire Caribbean\"\n",
    "\n",
    "#find max location in the caribbean\n",
    "    hotspot_country=risk_type_hotspot_points.copy()\n",
    "    hotspot_country_ranked=hotspot_country.sort_values(by=risk_type,ascending=False).copy()\n",
    "    hotspot_country_ranked.index=range(0,len(hotspot_country_ranked.index))\n",
    "\n",
    "    # hotspot_per_country_df.loc[idx,risk_type]=hotspot_country_ranked.loc[0,\"address\"] + \" \"+ str(hotspot_country_ranked.loc[0,\"geometry\"]).replace(\"POINT \",\"\")\n",
    "    hotspot_per_country_df.loc[0, risk_type] = hotspot_country_ranked.loc[0, \"address\"] + f\" ({hotspot_country_ranked.loc[0, 'lat']:.2f}, {hotspot_country_ranked.loc[0, 'lon']:.2f})\"\n",
    "\n",
    "\n",
    "\n",
    "    \n",
    "    for idx_main,country in enumerate(unique_countries):\n",
    "\n",
    "        idx=idx_main+1\n",
    "        #Set country name\n",
    "        hotspot_per_country_df.loc[idx,\"Country Name\"]=country\n",
    "\n",
    "\n",
    "\n",
    "        hotspot_country=risk_type_hotspot_points.loc[risk_type_hotspot_points[\"country\"]==country,:].copy()\n",
    "        hotspot_country_ranked=hotspot_country.sort_values(by=risk_type,ascending=False).copy()\n",
    "        hotspot_country_ranked.index=range(0,len(hotspot_country_ranked.index))\n",
    "\n",
    "        # hotspot_per_country_df.loc[idx,risk_type]=hotspot_country_ranked.loc[0,\"address\"] + \" \"+ str(hotspot_country_ranked.loc[0,\"geometry\"]).replace(\"POINT \",\"\")\n",
    "        hotspot_per_country_df.loc[idx, risk_type] = hotspot_country_ranked.loc[0, \"address\"] + f\" ({hotspot_country_ranked.loc[0, 'lat']:.2f}, {hotspot_country_ranked.loc[0, 'lon']:.2f})\"\n",
    "\n",
    "        #if the maximum in the country in a nan, the print that there is no land subsidence data availiable for that country\n",
    "        if pd.isna(hotspot_country_ranked.loc[0, risk_type]):\n",
    "              hotspot_per_country_df.loc[idx, risk_type] = f\"No {risk_type.replace('_PC_PC___Risk_Level', '').replace('_PC___Risk_Level', '').replace('_', ' ')} data available for {country}\"\n",
    "\n",
    "hotspot_per_country_df"
   ]
  },
  {
   "cell_type": "code",
   "execution_count": 15,
   "metadata": {},
   "outputs": [],
   "source": [
    "hotspot_per_country_df.to_excel(os.path.join(directory_path,f\"Location of Max Hotspot per country for all hazards.xlsx\"),index=False)"
   ]
  },
  {
   "cell_type": "code",
   "execution_count": 16,
   "metadata": {},
   "outputs": [
    {
     "data": {
      "text/html": [
       "<div>\n",
       "<style scoped>\n",
       "    .dataframe tbody tr th:only-of-type {\n",
       "        vertical-align: middle;\n",
       "    }\n",
       "\n",
       "    .dataframe tbody tr th {\n",
       "        vertical-align: top;\n",
       "    }\n",
       "\n",
       "    .dataframe thead th {\n",
       "        text-align: right;\n",
       "    }\n",
       "</style>\n",
       "<table border=\"1\" class=\"dataframe\">\n",
       "  <thead>\n",
       "    <tr style=\"text-align: right;\">\n",
       "      <th></th>\n",
       "      <th>ESL_100yrRP_PC___Risk_Level</th>\n",
       "      <th>continent</th>\n",
       "      <th>country</th>\n",
       "      <th>country_id</th>\n",
       "      <th>lat</th>\n",
       "      <th>lon</th>\n",
       "      <th>transect_id</th>\n",
       "      <th>geometry</th>\n",
       "      <th>distance (m)</th>\n",
       "      <th>address</th>\n",
       "    </tr>\n",
       "    <tr>\n",
       "      <th>nstations</th>\n",
       "      <th></th>\n",
       "      <th></th>\n",
       "      <th></th>\n",
       "      <th></th>\n",
       "      <th></th>\n",
       "      <th></th>\n",
       "      <th></th>\n",
       "      <th></th>\n",
       "      <th></th>\n",
       "      <th></th>\n",
       "    </tr>\n",
       "  </thead>\n",
       "  <tbody>\n",
       "    <tr>\n",
       "      <th>2</th>\n",
       "      <td>2.600000</td>\n",
       "      <td>South America</td>\n",
       "      <td>Colombia</td>\n",
       "      <td>COL</td>\n",
       "      <td>12.243144</td>\n",
       "      <td>-71.875632</td>\n",
       "      <td>BOX_116_353_4</td>\n",
       "      <td>POINT (-71.87563 12.24314)</td>\n",
       "      <td>NaN</td>\n",
       "      <td>Uribia, La Guajira, RAP Caribe, 440029, Colombia</td>\n",
       "    </tr>\n",
       "    <tr>\n",
       "      <th>36</th>\n",
       "      <td>2.533333</td>\n",
       "      <td>South America</td>\n",
       "      <td>Colombia</td>\n",
       "      <td>COL</td>\n",
       "      <td>12.158030</td>\n",
       "      <td>-71.980988</td>\n",
       "      <td>BOX_116_353_43</td>\n",
       "      <td>POINT (-71.98099 12.15803)</td>\n",
       "      <td>14848.519563</td>\n",
       "      <td>Oroshio, Uribia, La Guajira, RAP Caribe, Colombia</td>\n",
       "    </tr>\n",
       "    <tr>\n",
       "      <th>149</th>\n",
       "      <td>2.533333</td>\n",
       "      <td>South America</td>\n",
       "      <td>Colombia</td>\n",
       "      <td>COL</td>\n",
       "      <td>12.032842</td>\n",
       "      <td>-72.170861</td>\n",
       "      <td>BOX_116_352_32</td>\n",
       "      <td>POINT (-72.17086 12.03284)</td>\n",
       "      <td>24905.286117</td>\n",
       "      <td>Uribia, La Guajira, RAP Caribe, 440029, Colombia</td>\n",
       "    </tr>\n",
       "    <tr>\n",
       "      <th>3554</th>\n",
       "      <td>2.200000</td>\n",
       "      <td>North America</td>\n",
       "      <td>Saint Kitts and Nevis</td>\n",
       "      <td>KNA</td>\n",
       "      <td>17.292176</td>\n",
       "      <td>-62.730080</td>\n",
       "      <td>BOX_117_253_48</td>\n",
       "      <td>POINT (-62.73008 17.29218)</td>\n",
       "      <td>NaN</td>\n",
       "      <td>Bay Road, Irish Town, Port Zante, Brumaire, Sa...</td>\n",
       "    </tr>\n",
       "    <tr>\n",
       "      <th>344</th>\n",
       "      <td>2.066667</td>\n",
       "      <td>North America</td>\n",
       "      <td>Saint Kitts and Nevis</td>\n",
       "      <td>KNA</td>\n",
       "      <td>17.133757</td>\n",
       "      <td>-62.629287</td>\n",
       "      <td>BOX_117_249_2</td>\n",
       "      <td>POINT (-62.62929 17.13376)</td>\n",
       "      <td>20542.560516</td>\n",
       "      <td>Lower Bath Road, Bath, Saint John Figtree, Nev...</td>\n",
       "    </tr>\n",
       "    <tr>\n",
       "      <th>...</th>\n",
       "      <td>...</td>\n",
       "      <td>...</td>\n",
       "      <td>...</td>\n",
       "      <td>...</td>\n",
       "      <td>...</td>\n",
       "      <td>...</td>\n",
       "      <td>...</td>\n",
       "      <td>...</td>\n",
       "      <td>...</td>\n",
       "      <td>...</td>\n",
       "    </tr>\n",
       "    <tr>\n",
       "      <th>35160</th>\n",
       "      <td>2.866667</td>\n",
       "      <td>North America</td>\n",
       "      <td>Anguilla</td>\n",
       "      <td>AIA</td>\n",
       "      <td>18.073527</td>\n",
       "      <td>-63.085786</td>\n",
       "      <td>BOX_139_090_85</td>\n",
       "      <td>POINT (-63.08579 18.07353)</td>\n",
       "      <td>NaN</td>\n",
       "      <td>Boulevard du Docteur Hubert Petit, Galisbay, M...</td>\n",
       "    </tr>\n",
       "    <tr>\n",
       "      <th>33607</th>\n",
       "      <td>2.466667</td>\n",
       "      <td>North America</td>\n",
       "      <td>Anguilla</td>\n",
       "      <td>AIA</td>\n",
       "      <td>18.258389</td>\n",
       "      <td>-63.005851</td>\n",
       "      <td>BOX_139_092_24</td>\n",
       "      <td>POINT (-63.00585 18.25839)</td>\n",
       "      <td>22131.138328</td>\n",
       "      <td>Island Harbour, Anguilla</td>\n",
       "    </tr>\n",
       "    <tr>\n",
       "      <th>35133</th>\n",
       "      <td>2.466667</td>\n",
       "      <td>North America</td>\n",
       "      <td>Anguilla</td>\n",
       "      <td>AIA</td>\n",
       "      <td>18.117081</td>\n",
       "      <td>-62.990647</td>\n",
       "      <td>BOX_139_090_58</td>\n",
       "      <td>POINT (-62.99065 18.11708)</td>\n",
       "      <td>15716.517236</td>\n",
       "      <td>Rue de Grande Caye, Cul de Sac, Saint-Martin (...</td>\n",
       "    </tr>\n",
       "    <tr>\n",
       "      <th>35187</th>\n",
       "      <td>2.866667</td>\n",
       "      <td>North America</td>\n",
       "      <td>Saint Martin</td>\n",
       "      <td>MAF</td>\n",
       "      <td>18.055695</td>\n",
       "      <td>-63.099039</td>\n",
       "      <td>BOX_139_090_112</td>\n",
       "      <td>POINT (-63.09904 18.05570)</td>\n",
       "      <td>NaN</td>\n",
       "      <td>Sandy Ground, Marigot, Saint-Martin (France), ...</td>\n",
       "    </tr>\n",
       "    <tr>\n",
       "      <th>35138</th>\n",
       "      <td>2.400000</td>\n",
       "      <td>North America</td>\n",
       "      <td>Saint Martin</td>\n",
       "      <td>MAF</td>\n",
       "      <td>18.114972</td>\n",
       "      <td>-62.976027</td>\n",
       "      <td>BOX_139_090_63</td>\n",
       "      <td>POINT (-62.97603 18.11497)</td>\n",
       "      <td>14574.935266</td>\n",
       "      <td>Rue de Grande Caye, Cul de Sac, Saint-Martin (...</td>\n",
       "    </tr>\n",
       "  </tbody>\n",
       "</table>\n",
       "<p>80 rows × 10 columns</p>\n",
       "</div>"
      ],
      "text/plain": [
       "           ESL_100yrRP_PC___Risk_Level      continent                country  \\\n",
       "nstations                                                                      \n",
       "2                             2.600000  South America               Colombia   \n",
       "36                            2.533333  South America               Colombia   \n",
       "149                           2.533333  South America               Colombia   \n",
       "3554                          2.200000  North America  Saint Kitts and Nevis   \n",
       "344                           2.066667  North America  Saint Kitts and Nevis   \n",
       "...                                ...            ...                    ...   \n",
       "35160                         2.866667  North America               Anguilla   \n",
       "33607                         2.466667  North America               Anguilla   \n",
       "35133                         2.466667  North America               Anguilla   \n",
       "35187                         2.866667  North America           Saint Martin   \n",
       "35138                         2.400000  North America           Saint Martin   \n",
       "\n",
       "          country_id        lat        lon      transect_id  \\\n",
       "nstations                                                     \n",
       "2                COL  12.243144 -71.875632    BOX_116_353_4   \n",
       "36               COL  12.158030 -71.980988   BOX_116_353_43   \n",
       "149              COL  12.032842 -72.170861   BOX_116_352_32   \n",
       "3554             KNA  17.292176 -62.730080   BOX_117_253_48   \n",
       "344              KNA  17.133757 -62.629287    BOX_117_249_2   \n",
       "...              ...        ...        ...              ...   \n",
       "35160            AIA  18.073527 -63.085786   BOX_139_090_85   \n",
       "33607            AIA  18.258389 -63.005851   BOX_139_092_24   \n",
       "35133            AIA  18.117081 -62.990647   BOX_139_090_58   \n",
       "35187            MAF  18.055695 -63.099039  BOX_139_090_112   \n",
       "35138            MAF  18.114972 -62.976027   BOX_139_090_63   \n",
       "\n",
       "                             geometry  distance (m)  \\\n",
       "nstations                                             \n",
       "2          POINT (-71.87563 12.24314)           NaN   \n",
       "36         POINT (-71.98099 12.15803)  14848.519563   \n",
       "149        POINT (-72.17086 12.03284)  24905.286117   \n",
       "3554       POINT (-62.73008 17.29218)           NaN   \n",
       "344        POINT (-62.62929 17.13376)  20542.560516   \n",
       "...                               ...           ...   \n",
       "35160      POINT (-63.08579 18.07353)           NaN   \n",
       "33607      POINT (-63.00585 18.25839)  22131.138328   \n",
       "35133      POINT (-62.99065 18.11708)  15716.517236   \n",
       "35187      POINT (-63.09904 18.05570)           NaN   \n",
       "35138      POINT (-62.97603 18.11497)  14574.935266   \n",
       "\n",
       "                                                     address  \n",
       "nstations                                                     \n",
       "2           Uribia, La Guajira, RAP Caribe, 440029, Colombia  \n",
       "36         Oroshio, Uribia, La Guajira, RAP Caribe, Colombia  \n",
       "149         Uribia, La Guajira, RAP Caribe, 440029, Colombia  \n",
       "3554       Bay Road, Irish Town, Port Zante, Brumaire, Sa...  \n",
       "344        Lower Bath Road, Bath, Saint John Figtree, Nev...  \n",
       "...                                                      ...  \n",
       "35160      Boulevard du Docteur Hubert Petit, Galisbay, M...  \n",
       "33607                               Island Harbour, Anguilla  \n",
       "35133      Rue de Grande Caye, Cul de Sac, Saint-Martin (...  \n",
       "35187      Sandy Ground, Marigot, Saint-Martin (France), ...  \n",
       "35138      Rue de Grande Caye, Cul de Sac, Saint-Martin (...  \n",
       "\n",
       "[80 rows x 10 columns]"
      ]
     },
     "execution_count": 16,
     "metadata": {},
     "output_type": "execute_result"
    }
   ],
   "source": [
    "risk_type_hotspot_points_all[1]"
   ]
  },
  {
   "cell_type": "code",
   "execution_count": 17,
   "metadata": {},
   "outputs": [
    {
     "data": {
      "application/vnd.plotly.v1+json": {
       "config": {
        "plotlyServerURL": "https://plot.ly"
       },
       "data": [
        {
         "hovertemplate": "<b>%{hovertext}</b><br><br>lat=%{lat}<br>lon=%{lon}<extra></extra>",
         "hovertext": [
          "Uribia, La Guajira, RAP Caribe, 440029, Colombia",
          "Uribia, La Guajira, RAP Caribe, 440029, Colombia",
          "Uribia, La Guajira, RAP Caribe, 440029, Colombia",
          "Bay Road, Irish Town, Port Zante, Brumaire, Saint George Basseterre, Saint Kitts, Saint Kitts and Nevis",
          "Lower Bath Road, Bath, Saint John Figtree, Nevis, Saint Kitts and Nevis",
          "Island Main Road, Belle Vue, Saint John Capisterre, Saint Kitts, Saint Kitts and Nevis",
          "Julio A Abraham Boulevard, Plaza Beach Resort, Kralendijk, Bonaire, Nederland, 0000 BQ, Nederland",
          "Slagbaai, Bonaire, Nederland",
          "EEG Boulevard, Bonaire, Nederland",
          "FR*EZD*E45697,FR*EZD*E45709, Impasse Morne Cabri, ZI Lézarde, Le Lamentin, Fort-de-France, Martinique, 97232, France",
          "Boulevard Allègre, Anse Madame, L'Enclos, Schœlcher, Fort-de-France, Martinique, 97233, France",
          "Boulevard Henri Auzé, Le Robert, La Trinité, Martinique, 97231, France",
          "Palmetto Point, Barbuda, Antigua and Barbuda",
          "Cedar Tree Point, Barbuda, Antigua and Barbuda",
          "Barbuda, Antigua and Barbuda",
          "Tiraya, Parroquia Adícora, Municipio Falcón, Falcón, Venezuela",
          "Parroquia Jadacaquiva, Municipio Falcón, Falcón, Venezuela",
          "Punta de Barco, Parroquia El Vínculo, Municipio Falcón, Falcón, Venezuela",
          "Saint Anthony, Montserrat",
          "Great North Road, Saint Georges, Montserrat",
          "Baoase Luxury Resort, 2, Winterswijkstraat, Marie Pampoen, Koraal Specht, Willemstad, Curaçao, 0000 NA, Nederland",
          "Oostpunt, Curaçao, Nederland",
          "Kaya Anker, Boca Sint Michiel, Curaçao, Nederland",
          "Nelson Mandela Drive, City Gate, Vigie, Castries, LC04 301, Saint Lucia",
          "Lewis Street, Town, Vieux Fort, LC12 201, Saint Lucia",
          "Laffing Fish, High Street, Rocky Lane, Athens, Dennery, LC16 101, Saint Lucia",
          "J.E. Irausquin Boulevard, Bubali, Aruba, Nederland",
          "Sand Dunes, Natural Pool Trail, Aruba, Nederland",
          "Zeewijk, San Nicolaas, Aruba, Nederland",
          "Mighty Grynner Highway, Westbury, Saint Michael, BB11028, Barbados",
          "Silver Sands, St. Christopher, Goodland, Silver Sands, Christ Church, BB17121, Barbados",
          "Porters, Mount Standfast, Saint James, BB24026, Barbados",
          "Antigua Carretera Francisco del Rosario Sánchez, Itabo, Bajos de Haina, San Cristóbal, 00809, República Dominicana",
          "Autopista Las Américas, Santo Domingo Este, Boca Chica, Santo Domingo, 15701, República Dominicana",
          "Avenida España, Residencial Comunidades Catalanas, Santo Domingo Este, Santo Domingo, 11708, República Dominicana",
          "Ottley Hall Shipyard, Shipyard Road, Campden Park, Saint Andrew, VC0100, Saint Vincent and the Grenadines",
          "Canouan Main Road, Charlestown, Grenadines, VC0450, Saint Vincent and the Grenadines",
          "Windward Highway, Waterloo, Sion Hill, London, Charlotte, Saint Vincent and the Grenadines",
          "Airport Road, Hillsborough, Carriacou and Petite Martinique, Grenada",
          "St. George's Hospital, Grand Etang Road, Belmont, St. George's, Saint George, Grenada",
          "Grenville, Saint Andrew, Grenada",
          "River Bank, Potters Ville, Roseau, Saint George Parish, Dominica",
          "Mourne Rouge Public Road, Galion, Saint Mark Parish, Dominica",
          "Portsmouth Fisheries Complex, Pembroke Street, Portsmouth Central, Portsmouth, Saint John Parish, Dominica",
          "1re Bourdet, Commune Les Cayes, Arrondissement des Cayes, Département du Sud, Ayiti",
          "1re Île-à-Vache, Commune Île-à-Vache, Arrondissement des Cayes, Département du Sud, 8160, Ayiti",
          "Duverni, 1re Bourry, Commune Torbeck, Arrondissement des Cayes, Département du Sud, Ayiti",
          "Isla de la Juventud, Cuba",
          "Los Cayuelos, Sandino, Pinar del Río, Cuba",
          "Isla de la Juventud, Cuba",
          "Sports Bar, Allan Avenue, Port Antonio, Portland, Surrey County, Jamaica",
          "Jesnas Corner, Dalvey, Duckendfield, Saint Thomas, Surrey County, Jamaica",
          "Portmore Toll Road, Kingston, Kingston and Saint Andrew Corporation, Surrey County, Jamaica",
          "Cat Island, The Bahamas",
          "Crooked Island and Long Cay, The Bahamas",
          "Cat Island, The Bahamas",
          "448, Chalk Sound Drive, Providenciales, Turks and Caicos Islands",
          "North Caicos, Turks and Caicos Islands",
          "Turks and Caicos Islands",
          "The Laureate Key West, 3444, North Roosevelt Boulevard, Key West, Monroe County, Florida, 33040, United States",
          "East 105th Street Ocean, Marathon, Monroe County, Florida, 33050, United States",
          "2nd Street, El Chico, Monroe County, Florida, 33040, United States",
          "Burger King, North Church Street, The Swamp, Whitehall Estate, George Town, KY1-9000, Cayman Islands",
          "Water Cay Road, North Side, Cayman Islands",
          "Savannah, George Town, KY1-1105, Cayman Islands",
          "Road Town, Tortola, VG1110, British Virgin Islands",
          "Anegada Road, Anegada, British Virgin Islands",
          "Anegada, British Virgin Islands",
          "Camino Uvero, Uvero, Isla de Mona e Islote Monito, Mayagüez, Puerto Rico, United States",
          "Rincon Self Storage, Avenida Doctor Pedro Albizu Campos, Calvache, Barrio Pueblo, Rincón, Puerto Rico, 00677, United States",
          "Avenida Alcalde Benjamín Cole Vázquez / Desvío Oeste de Mayagüez, El Maní, Algarrobos, Sabanetas, Mayagüez, Puerto Rico, 00680, United States",
          "Point Pleasant Way, Charlotte Amalie, Saint Thomas - Saint John District, United States Virgin Islands, United States",
          "9, Strand Street, Frederiksted, Saint Croix District, United States Virgin Islands, 00840, United States",
          "Limetree Bay refinery, Saint Croix District, United States Virgin Islands, 00823, United States",
          "631, Chemin de l'Anse Saint-Jean, Le Château, Gustavia, Saint-Barthélemy, 97133, France",
          "Boulevard du Docteur Hubert Petit, Galisbay, Marigot, Saint-Martin (France), 97150, France",
          "South Hill, Anguilla",
          "Scilly Cay, Nashville Webster Road, Island Harbour, Anguilla",
          "Sandy Ground, Marigot, Saint-Martin (France), 97150, France",
          "Rue de Grande Caye, Cul de Sac, Saint-Martin (France), 97150, France"
         ],
         "lat": [
          12.2431443263,
          12.0328420256,
          12.1487859905,
          17.292176018299998,
          17.1337573476,
          17.3939370648,
          12.1390884531,
          12.2563804661,
          12.0293282929,
          14.6036038271,
          14.6144562179,
          14.6790116751,
          17.5922660992,
          17.6964466846,
          17.5492114098,
          12.0558347242,
          12.0361128356,
          12.1618086552,
          16.6781538048,
          16.7644266367,
          12.0938892821,
          12.0402781777,
          12.141786753900002,
          14.0252497846,
          13.7268967083,
          13.9107712298,
          12.5722225567,
          12.526158346,
          12.4326489073,
          13.1084578645,
          13.0485790788,
          13.1990429061,
          18.3989664988,
          18.4599217835,
          18.4671331696,
          13.1620916253,
          12.7021815216,
          13.3438974781,
          12.4807512471,
          12.0463064746,
          12.118295863,
          15.3016704604,
          15.211240387,
          15.5760225949,
          18.1874986661,
          18.085506558,
          18.1214760809,
          21.4418502409,
          21.8239170031,
          21.4662316683,
          18.1805536622,
          17.9283942123,
          17.9810365271,
          24.2997540423,
          22.6619173996,
          24.2060280543,
          21.7461999838,
          21.8685272867,
          21.7964883915,
          24.5719033772,
          24.7231091186,
          24.6020395049,
          19.3013145341,
          19.3661588441,
          19.2666664386,
          18.423599235,
          18.723435495,
          18.6941989891,
          18.0641902765,
          18.3347210559,
          18.2416732474,
          18.3448688635,
          17.7121389306,
          17.6976662896,
          17.9079436896,
          18.0735269558,
          18.1956622126,
          18.259069539,
          18.0556952514,
          18.1149724242
         ],
         "legendgroup": "",
         "lon": [
          -71.8756318462,
          -72.1708608028,
          -71.957158882,
          -62.7300795119,
          -62.6292866676,
          -62.7698758924,
          -68.2790208608,
          -68.415183239,
          -68.253302941,
          -61.0088545886,
          -61.1016334599,
          -60.9357215953,
          -61.8575863028,
          -61.8822915907,
          -61.7624060096,
          -69.8539475253,
          -70.2253219907,
          -69.9209445858,
          -62.1913223367,
          -62.1600703945,
          -68.9119642663,
          -68.8084671722,
          -68.9953076726,
          -60.9853264563,
          -60.9592587814,
          -60.8879627469,
          -70.04815028659999,
          -69.9355708519,
          -69.9167182149,
          -59.6281251907,
          -59.5190183196,
          -59.6408287729,
          -70.0297586417,
          -69.7304287675,
          -69.8378765246,
          -61.2453759611,
          -61.3516246073,
          -61.1259177366,
          -61.4679904574,
          -61.7527054149,
          -61.6227930156,
          -61.3875819882,
          -61.3431174842,
          -61.4586687037,
          -73.7505580416,
          -73.5854831888,
          -73.8408306747,
          -82.88808833520001,
          -84.8857268376,
          -83.0375804422,
          -76.4447810196,
          -76.1965970455,
          -76.8310901653,
          -75.4408916527,
          -74.0977406638,
          -75.3974820474,
          -72.2898733621,
          -72.0888726655,
          -71.91679843770001,
          -81.7609696128,
          -81.0402725303,
          -81.6599922528,
          -81.38548161,
          -81.2717580818,
          -81.296045525,
          -64.6146789264,
          -64.3717331131,
          -64.2808559407,
          -67.91634801,
          -67.25431728609999,
          -67.1744830774,
          -64.86362859319999,
          -64.884049413,
          -64.7522213289,
          -62.8380900758,
          -63.08578579010001,
          -63.1028579279,
          -63.001416907,
          -63.0990391081,
          -62.9760274021
         ],
         "marker": {
          "color": "red",
          "size": 10
         },
         "mode": "markers",
         "name": "",
         "showlegend": false,
         "subplot": "mapbox",
         "type": "scattermapbox"
        },
        {
         "hovertemplate": "<b>%{hovertext}</b><br><br>lat=%{lat}<br>lon=%{lon}<extra></extra>",
         "hovertext": [
          "1re Bourdet, Commune Les Cayes, Arrondissement des Cayes, Département du Sud, Ayiti",
          "Nelson Mandela Drive, City Gate, Vigie, Castries, LC04 301, Saint Lucia",
          "Lewis Street, Town, Vieux Fort, LC12 201, Saint Lucia"
         ],
         "lat": [
          18.1874986661,
          14.0252497846,
          13.7268967083
         ],
         "legendgroup": "",
         "lon": [
          -73.7505580416,
          -60.9853264563,
          -60.9592587814
         ],
         "marker": {
          "color": "magenta",
          "size": 10
         },
         "mode": "markers",
         "name": "",
         "showlegend": false,
         "subplot": "mapbox",
         "type": "scattermapbox"
        }
       ],
       "layout": {
        "height": 1200,
        "legend": {
         "tracegroupgap": 0
        },
        "mapbox": {
         "center": {
          "lat": 19.1,
          "lon": -72.3
         },
         "domain": {
          "x": [
           0,
           1
          ],
          "y": [
           0,
           1
          ]
         },
         "layers": [
          {
           "below": "traces",
           "source": [
            "https://services.arcgisonline.com/arcgis/rest/services/World_Imagery/MapServer/tile/{z}/{y}/{x}"
           ],
           "sourceattribution": "ESRI World Imagery",
           "sourcetype": "raster"
          }
         ],
         "style": "carto-positron",
         "zoom": 5.6
        },
        "margin": {
         "t": 60
        },
        "template": {
         "data": {
          "bar": [
           {
            "error_x": {
             "color": "#2a3f5f"
            },
            "error_y": {
             "color": "#2a3f5f"
            },
            "marker": {
             "line": {
              "color": "#E5ECF6",
              "width": 0.5
             },
             "pattern": {
              "fillmode": "overlay",
              "size": 10,
              "solidity": 0.2
             }
            },
            "type": "bar"
           }
          ],
          "barpolar": [
           {
            "marker": {
             "line": {
              "color": "#E5ECF6",
              "width": 0.5
             },
             "pattern": {
              "fillmode": "overlay",
              "size": 10,
              "solidity": 0.2
             }
            },
            "type": "barpolar"
           }
          ],
          "carpet": [
           {
            "aaxis": {
             "endlinecolor": "#2a3f5f",
             "gridcolor": "white",
             "linecolor": "white",
             "minorgridcolor": "white",
             "startlinecolor": "#2a3f5f"
            },
            "baxis": {
             "endlinecolor": "#2a3f5f",
             "gridcolor": "white",
             "linecolor": "white",
             "minorgridcolor": "white",
             "startlinecolor": "#2a3f5f"
            },
            "type": "carpet"
           }
          ],
          "choropleth": [
           {
            "colorbar": {
             "outlinewidth": 0,
             "ticks": ""
            },
            "type": "choropleth"
           }
          ],
          "contour": [
           {
            "colorbar": {
             "outlinewidth": 0,
             "ticks": ""
            },
            "colorscale": [
             [
              0,
              "#0d0887"
             ],
             [
              0.1111111111111111,
              "#46039f"
             ],
             [
              0.2222222222222222,
              "#7201a8"
             ],
             [
              0.3333333333333333,
              "#9c179e"
             ],
             [
              0.4444444444444444,
              "#bd3786"
             ],
             [
              0.5555555555555556,
              "#d8576b"
             ],
             [
              0.6666666666666666,
              "#ed7953"
             ],
             [
              0.7777777777777778,
              "#fb9f3a"
             ],
             [
              0.8888888888888888,
              "#fdca26"
             ],
             [
              1,
              "#f0f921"
             ]
            ],
            "type": "contour"
           }
          ],
          "contourcarpet": [
           {
            "colorbar": {
             "outlinewidth": 0,
             "ticks": ""
            },
            "type": "contourcarpet"
           }
          ],
          "heatmap": [
           {
            "colorbar": {
             "outlinewidth": 0,
             "ticks": ""
            },
            "colorscale": [
             [
              0,
              "#0d0887"
             ],
             [
              0.1111111111111111,
              "#46039f"
             ],
             [
              0.2222222222222222,
              "#7201a8"
             ],
             [
              0.3333333333333333,
              "#9c179e"
             ],
             [
              0.4444444444444444,
              "#bd3786"
             ],
             [
              0.5555555555555556,
              "#d8576b"
             ],
             [
              0.6666666666666666,
              "#ed7953"
             ],
             [
              0.7777777777777778,
              "#fb9f3a"
             ],
             [
              0.8888888888888888,
              "#fdca26"
             ],
             [
              1,
              "#f0f921"
             ]
            ],
            "type": "heatmap"
           }
          ],
          "heatmapgl": [
           {
            "colorbar": {
             "outlinewidth": 0,
             "ticks": ""
            },
            "colorscale": [
             [
              0,
              "#0d0887"
             ],
             [
              0.1111111111111111,
              "#46039f"
             ],
             [
              0.2222222222222222,
              "#7201a8"
             ],
             [
              0.3333333333333333,
              "#9c179e"
             ],
             [
              0.4444444444444444,
              "#bd3786"
             ],
             [
              0.5555555555555556,
              "#d8576b"
             ],
             [
              0.6666666666666666,
              "#ed7953"
             ],
             [
              0.7777777777777778,
              "#fb9f3a"
             ],
             [
              0.8888888888888888,
              "#fdca26"
             ],
             [
              1,
              "#f0f921"
             ]
            ],
            "type": "heatmapgl"
           }
          ],
          "histogram": [
           {
            "marker": {
             "pattern": {
              "fillmode": "overlay",
              "size": 10,
              "solidity": 0.2
             }
            },
            "type": "histogram"
           }
          ],
          "histogram2d": [
           {
            "colorbar": {
             "outlinewidth": 0,
             "ticks": ""
            },
            "colorscale": [
             [
              0,
              "#0d0887"
             ],
             [
              0.1111111111111111,
              "#46039f"
             ],
             [
              0.2222222222222222,
              "#7201a8"
             ],
             [
              0.3333333333333333,
              "#9c179e"
             ],
             [
              0.4444444444444444,
              "#bd3786"
             ],
             [
              0.5555555555555556,
              "#d8576b"
             ],
             [
              0.6666666666666666,
              "#ed7953"
             ],
             [
              0.7777777777777778,
              "#fb9f3a"
             ],
             [
              0.8888888888888888,
              "#fdca26"
             ],
             [
              1,
              "#f0f921"
             ]
            ],
            "type": "histogram2d"
           }
          ],
          "histogram2dcontour": [
           {
            "colorbar": {
             "outlinewidth": 0,
             "ticks": ""
            },
            "colorscale": [
             [
              0,
              "#0d0887"
             ],
             [
              0.1111111111111111,
              "#46039f"
             ],
             [
              0.2222222222222222,
              "#7201a8"
             ],
             [
              0.3333333333333333,
              "#9c179e"
             ],
             [
              0.4444444444444444,
              "#bd3786"
             ],
             [
              0.5555555555555556,
              "#d8576b"
             ],
             [
              0.6666666666666666,
              "#ed7953"
             ],
             [
              0.7777777777777778,
              "#fb9f3a"
             ],
             [
              0.8888888888888888,
              "#fdca26"
             ],
             [
              1,
              "#f0f921"
             ]
            ],
            "type": "histogram2dcontour"
           }
          ],
          "mesh3d": [
           {
            "colorbar": {
             "outlinewidth": 0,
             "ticks": ""
            },
            "type": "mesh3d"
           }
          ],
          "parcoords": [
           {
            "line": {
             "colorbar": {
              "outlinewidth": 0,
              "ticks": ""
             }
            },
            "type": "parcoords"
           }
          ],
          "pie": [
           {
            "automargin": true,
            "type": "pie"
           }
          ],
          "scatter": [
           {
            "fillpattern": {
             "fillmode": "overlay",
             "size": 10,
             "solidity": 0.2
            },
            "type": "scatter"
           }
          ],
          "scatter3d": [
           {
            "line": {
             "colorbar": {
              "outlinewidth": 0,
              "ticks": ""
             }
            },
            "marker": {
             "colorbar": {
              "outlinewidth": 0,
              "ticks": ""
             }
            },
            "type": "scatter3d"
           }
          ],
          "scattercarpet": [
           {
            "marker": {
             "colorbar": {
              "outlinewidth": 0,
              "ticks": ""
             }
            },
            "type": "scattercarpet"
           }
          ],
          "scattergeo": [
           {
            "marker": {
             "colorbar": {
              "outlinewidth": 0,
              "ticks": ""
             }
            },
            "type": "scattergeo"
           }
          ],
          "scattergl": [
           {
            "marker": {
             "colorbar": {
              "outlinewidth": 0,
              "ticks": ""
             }
            },
            "type": "scattergl"
           }
          ],
          "scattermapbox": [
           {
            "marker": {
             "colorbar": {
              "outlinewidth": 0,
              "ticks": ""
             }
            },
            "type": "scattermapbox"
           }
          ],
          "scatterpolar": [
           {
            "marker": {
             "colorbar": {
              "outlinewidth": 0,
              "ticks": ""
             }
            },
            "type": "scatterpolar"
           }
          ],
          "scatterpolargl": [
           {
            "marker": {
             "colorbar": {
              "outlinewidth": 0,
              "ticks": ""
             }
            },
            "type": "scatterpolargl"
           }
          ],
          "scatterternary": [
           {
            "marker": {
             "colorbar": {
              "outlinewidth": 0,
              "ticks": ""
             }
            },
            "type": "scatterternary"
           }
          ],
          "surface": [
           {
            "colorbar": {
             "outlinewidth": 0,
             "ticks": ""
            },
            "colorscale": [
             [
              0,
              "#0d0887"
             ],
             [
              0.1111111111111111,
              "#46039f"
             ],
             [
              0.2222222222222222,
              "#7201a8"
             ],
             [
              0.3333333333333333,
              "#9c179e"
             ],
             [
              0.4444444444444444,
              "#bd3786"
             ],
             [
              0.5555555555555556,
              "#d8576b"
             ],
             [
              0.6666666666666666,
              "#ed7953"
             ],
             [
              0.7777777777777778,
              "#fb9f3a"
             ],
             [
              0.8888888888888888,
              "#fdca26"
             ],
             [
              1,
              "#f0f921"
             ]
            ],
            "type": "surface"
           }
          ],
          "table": [
           {
            "cells": {
             "fill": {
              "color": "#EBF0F8"
             },
             "line": {
              "color": "white"
             }
            },
            "header": {
             "fill": {
              "color": "#C8D4E3"
             },
             "line": {
              "color": "white"
             }
            },
            "type": "table"
           }
          ]
         },
         "layout": {
          "annotationdefaults": {
           "arrowcolor": "#2a3f5f",
           "arrowhead": 0,
           "arrowwidth": 1
          },
          "autotypenumbers": "strict",
          "coloraxis": {
           "colorbar": {
            "outlinewidth": 0,
            "ticks": ""
           }
          },
          "colorscale": {
           "diverging": [
            [
             0,
             "#8e0152"
            ],
            [
             0.1,
             "#c51b7d"
            ],
            [
             0.2,
             "#de77ae"
            ],
            [
             0.3,
             "#f1b6da"
            ],
            [
             0.4,
             "#fde0ef"
            ],
            [
             0.5,
             "#f7f7f7"
            ],
            [
             0.6,
             "#e6f5d0"
            ],
            [
             0.7,
             "#b8e186"
            ],
            [
             0.8,
             "#7fbc41"
            ],
            [
             0.9,
             "#4d9221"
            ],
            [
             1,
             "#276419"
            ]
           ],
           "sequential": [
            [
             0,
             "#0d0887"
            ],
            [
             0.1111111111111111,
             "#46039f"
            ],
            [
             0.2222222222222222,
             "#7201a8"
            ],
            [
             0.3333333333333333,
             "#9c179e"
            ],
            [
             0.4444444444444444,
             "#bd3786"
            ],
            [
             0.5555555555555556,
             "#d8576b"
            ],
            [
             0.6666666666666666,
             "#ed7953"
            ],
            [
             0.7777777777777778,
             "#fb9f3a"
            ],
            [
             0.8888888888888888,
             "#fdca26"
            ],
            [
             1,
             "#f0f921"
            ]
           ],
           "sequentialminus": [
            [
             0,
             "#0d0887"
            ],
            [
             0.1111111111111111,
             "#46039f"
            ],
            [
             0.2222222222222222,
             "#7201a8"
            ],
            [
             0.3333333333333333,
             "#9c179e"
            ],
            [
             0.4444444444444444,
             "#bd3786"
            ],
            [
             0.5555555555555556,
             "#d8576b"
            ],
            [
             0.6666666666666666,
             "#ed7953"
            ],
            [
             0.7777777777777778,
             "#fb9f3a"
            ],
            [
             0.8888888888888888,
             "#fdca26"
            ],
            [
             1,
             "#f0f921"
            ]
           ]
          },
          "colorway": [
           "#636efa",
           "#EF553B",
           "#00cc96",
           "#ab63fa",
           "#FFA15A",
           "#19d3f3",
           "#FF6692",
           "#B6E880",
           "#FF97FF",
           "#FECB52"
          ],
          "font": {
           "color": "#2a3f5f"
          },
          "geo": {
           "bgcolor": "white",
           "lakecolor": "white",
           "landcolor": "#E5ECF6",
           "showlakes": true,
           "showland": true,
           "subunitcolor": "white"
          },
          "hoverlabel": {
           "align": "left"
          },
          "hovermode": "closest",
          "mapbox": {
           "style": "light"
          },
          "paper_bgcolor": "white",
          "plot_bgcolor": "#E5ECF6",
          "polar": {
           "angularaxis": {
            "gridcolor": "white",
            "linecolor": "white",
            "ticks": ""
           },
           "bgcolor": "#E5ECF6",
           "radialaxis": {
            "gridcolor": "white",
            "linecolor": "white",
            "ticks": ""
           }
          },
          "scene": {
           "xaxis": {
            "backgroundcolor": "#E5ECF6",
            "gridcolor": "white",
            "gridwidth": 2,
            "linecolor": "white",
            "showbackground": true,
            "ticks": "",
            "zerolinecolor": "white"
           },
           "yaxis": {
            "backgroundcolor": "#E5ECF6",
            "gridcolor": "white",
            "gridwidth": 2,
            "linecolor": "white",
            "showbackground": true,
            "ticks": "",
            "zerolinecolor": "white"
           },
           "zaxis": {
            "backgroundcolor": "#E5ECF6",
            "gridcolor": "white",
            "gridwidth": 2,
            "linecolor": "white",
            "showbackground": true,
            "ticks": "",
            "zerolinecolor": "white"
           }
          },
          "shapedefaults": {
           "line": {
            "color": "#2a3f5f"
           }
          },
          "ternary": {
           "aaxis": {
            "gridcolor": "white",
            "linecolor": "white",
            "ticks": ""
           },
           "baxis": {
            "gridcolor": "white",
            "linecolor": "white",
            "ticks": ""
           },
           "bgcolor": "#E5ECF6",
           "caxis": {
            "gridcolor": "white",
            "linecolor": "white",
            "ticks": ""
           }
          },
          "title": {
           "x": 0.05
          },
          "xaxis": {
           "automargin": true,
           "gridcolor": "white",
           "linecolor": "white",
           "ticks": "",
           "title": {
            "standoff": 15
           },
           "zerolinecolor": "white",
           "zerolinewidth": 2
          },
          "yaxis": {
           "automargin": true,
           "gridcolor": "white",
           "linecolor": "white",
           "ticks": "",
           "title": {
            "standoff": 15
           },
           "zerolinecolor": "white",
           "zerolinewidth": 2
          }
         }
        },
        "title": {
         "font": {
          "size": 20
         },
         "text": "Cat3 Hurricane Return Period PC PC   Risk Level Hotspot Distribution along Caribbean's shoreline",
         "x": 0.5,
         "xanchor": "center"
        },
        "width": 2000
       }
      }
     },
     "metadata": {},
     "output_type": "display_data"
    },
    {
     "data": {
      "application/vnd.plotly.v1+json": {
       "config": {
        "plotlyServerURL": "https://plot.ly"
       },
       "data": [
        {
         "hovertemplate": "<b>%{hovertext}</b><br><br>lat=%{lat}<br>lon=%{lon}<extra></extra>",
         "hovertext": [
          "Uribia, La Guajira, RAP Caribe, 440029, Colombia",
          "Oroshio, Uribia, La Guajira, RAP Caribe, Colombia",
          "Uribia, La Guajira, RAP Caribe, 440029, Colombia",
          "Bay Road, Irish Town, Port Zante, Brumaire, Saint George Basseterre, Saint Kitts, Saint Kitts and Nevis",
          "Lower Bath Road, Bath, Saint John Figtree, Nevis, Saint Kitts and Nevis",
          "Island Main Road, Belle Vue, Saint John Capisterre, Saint Kitts, Saint Kitts and Nevis",
          "Julio A Abraham Boulevard, Plaza Beach Resort, Kralendijk, Bonaire, Nederland, 0000 BQ, Nederland",
          "Slagbaai, Bonaire, Nederland",
          "EEG Boulevard, Bonaire, Nederland",
          "Résidence de l'Autre Bord, L'Autre Bord, Le Moule, Pointe-à-Pitre, Guadeloupe, 97160, France",
          "Rue du Président Georges Pompidou, Saint-François, Pointe-à-Pitre, Guadeloupe, 97118, France",
          "La Saline, La Désirade, Pointe-à-Pitre, Guadeloupe, 97127, France",
          "Ffryes, Saint Mary, Antigua, Antigua and Barbuda",
          "Hodges Bay, Saint John, Antigua, Antigua and Barbuda",
          "Catamaran Club Marina, Rhodes Lane, Falmouth, Saint Paul, Antigua, Antigua and Barbuda",
          "Parroquia Jadacaquiva, Municipio Falcón, Falcón, Venezuela",
          "Tiraya, Parroquia Adícora, Municipio Falcón, Falcón, Venezuela",
          "Medanos de Cabo San Roman, Punta Baroa, Cabo San Román, Parroquia El Vínculo, Municipio Falcón, Falcón, Venezuela",
          "Saint Anthony, Montserrat",
          "Great North Road, Saint Georges, Montserrat",
          "Baoase Luxury Resort, 2, Winterswijkstraat, Marie Pampoen, Koraal Specht, Willemstad, Curaçao, 0000 NA, Nederland",
          "Oostpunt, Curaçao, Nederland",
          "Kaya Grap, Boca Sint Michiel, Curaçao, Nederland",
          "Nelson Mandela Drive, City Gate, Vigie, Castries, LC04 301, Saint Lucia",
          "Lewis Street, Town, Vieux Fort, LC12 201, Saint Lucia",
          "Laffing Fish, High Street, Rocky Lane, Athens, Dennery, LC16 101, Saint Lucia",
          "Berea Di Piscado, Aruba, Nederland",
          "92, Spaans Lagoenweg, Pos Chikito, Aruba, Nederland",
          "Third Avenue, Sero Colorado, San Nicolaas, Aruba, Nederland",
          "The Bridgetown Fisheries Complex, Princess Alice Highway, Bridgetown, Saint Michael, BB11007, Barbados",
          "Porters, Mount Standfast, Saint James, BB24026, Barbados",
          "Silver Sands, St. Christopher, Goodland, Silver Sands, Christ Church, BB17121, Barbados",
          "La Costa, Caleta, La Romana, República Dominicana",
          "Avenida Bávaro, Higüey, La Altagracia, 23302, República Dominicana",
          "San Pedro de Macorís, República Dominicana",
          "Sion Hill, New Sandy Bay Village, Charlotte, Saint Vincent and the Grenadines",
          "Ottley Hall Shipyard, Shipyard Road, Campden Park, Saint Andrew, VC0100, Saint Vincent and the Grenadines",
          "The Thirteen Stones of Chateaubelair, Leeward Highway, Chateaubelair, Saint David, Saint Vincent and the Grenadines",
          "St. George's Hospital, Grand Etang Road, Belmont, St. George's, Saint George, Grenada",
          "Estuary Lane, Simon, Saint Andrew, Grenada",
          "Airport Road, Hillsborough, Carriacou and Petite Martinique, Grenada",
          "Portsmouth Fisheries Complex, Pembroke Street, Portsmouth Central, Portsmouth, Saint John Parish, Dominica",
          "River Bank, Potters Ville, Roseau, Saint George Parish, Dominica",
          "Mourne Rouge Public Road, Galion, Saint Mark Parish, Dominica",
          "Ti Port-de-Paix, 3e Aubert, La Tendrie, Commune de Port-de-Paix, Arrondissement Port-de-Paix, Département du Nord-Ouest, Ayiti",
          "Route Nationale # 3, Bas aviation, 3e Petite Anse, Cap-Haïtien, Commune Cap-Haïtien, Arrondissement de Cap-Haïtien, Département du Nord, 1100, Ayiti",
          "Rue du Cimetière, Haut-Terre, 1re Champin, Caracol, Commune Caracol, Arrondissement Trou-du-Nord, Département du Nord-Est, Ayiti",
          "66, Surgidero de Batabanó, Batabanó, Mayabeque, Cuba",
          "Malecón, Ciudad de Caibarién, Caibarién, Villa Clara, 52600, Cuba",
          "Casa Kiki, Calle Caletón, Caletón, Playa Larga, Ciénaga de Zapata, Matanzas, 44300, Cuba",
          "Norman Manley Boulevard, Hanover, Cornwall County, Jamaica",
          "Portmore Toll Road, Kingston, Kingston and Saint Andrew Corporation, Surrey County, Jamaica",
          "Bay Road, Montego Freeport, Montego Bay, Saint James, Cornwall County, Jamaica",
          "Central Andros, The Bahamas",
          "Venice Bay, Nassau, New Providence, The Bahamas",
          "Crooked Island and Long Cay, The Bahamas",
          "Chalk Sound Drive, Providenciales, Turks and Caicos Islands",
          "North Caicos, Turks and Caicos Islands",
          "Front Street, Cockburn Town, Grand Turk, Turks and Caicos Islands",
          "2nd Street, El Chico, Monroe County, Florida, 33040, United States",
          "Raffy Road, Cudjoe Key, Monroe County, Florida, 33042, United States",
          "Monroe County, Florida, United States",
          "Smith Cove Snorkel Area, South Church Street, Rock Hole, George Town, KY1-9000, Cayman Islands",
          "Northwest Point Road, Oceanside Plantation Seaside, Hell, West Bay, KY1-1401, Cayman Islands",
          "South Side Road, West End, Sister Islands, Cayman Islands",
          "Road Town, Tortola, VG1110, British Virgin Islands",
          "Anegada Road, Anegada, British Virgin Islands",
          "Little Road, Spanish Town, Virgin Gorda, VG1150, British Virgin Islands",
          "Carretera Punta Gotay, Tallaboa Poniente, Peñuelas, Puerto Rico, 00724, United States",
          "Avenida Alcalde Benjamín Cole Vázquez / Desvío Oeste de Mayagüez, El Maní, Algarrobos, Mayagüez, Puerto Rico, 00680, United States",
          "Bosque Estatal de Boquerón, Camino del Tren, Pedernales, Cabo Rojo, Puerto Rico, 00622, United States",
          "John de Jongh Promenade, Charlotte Amalie West, Charlotte Amalie, Saint Thomas - Saint John District, United States Virgin Islands, 00801, United States",
          "Bordeaux Road, Fortuna, Saint Thomas - Saint John District, United States Virgin Islands, United States",
          "9, Strand Street, Frederiksted, Saint Croix District, United States Virgin Islands, 00840, United States",
          "631, Chemin de l'Anse Saint-Jean, Le Château, Gustavia, Saint-Barthélemy, 97133, France",
          "Boulevard du Docteur Hubert Petit, Galisbay, Marigot, Saint-Martin (France), 97150, France",
          "Island Harbour, Anguilla",
          "Rue de Grande Caye, Cul de Sac, Saint-Martin (France), 97150, France",
          "Sandy Ground, Marigot, Saint-Martin (France), 97150, France",
          "Rue de Grande Caye, Cul de Sac, Saint-Martin (France), 97150, France"
         ],
         "lat": [
          12.2431443263,
          12.1580299071,
          12.0328420256,
          17.292176018299998,
          17.1337573476,
          17.3939370648,
          12.1390884531,
          12.2563804661,
          12.0293282929,
          16.333721421,
          16.2510940027,
          16.1685826868,
          17.0525817191,
          17.1679867074,
          17.0201408047,
          12.0685002515,
          12.0386769274,
          12.1849175862,
          16.6781538048,
          16.7644266367,
          12.0938892821,
          12.038559436099998,
          12.138579018699998,
          14.0252497846,
          13.7268967083,
          13.9107712298,
          12.5764570669,
          12.4591845354,
          12.4166169742,
          13.0974190755,
          13.1990429061,
          13.0485790788,
          18.4069053608,
          18.7297715033,
          18.4371711349,
          13.3530270002,
          13.1620916253,
          13.2913217474,
          12.0463064746,
          12.1396010553,
          12.4807512471,
          15.5760225949,
          15.3016704604,
          15.211240387,
          19.9424029728,
          19.7436221421,
          19.6986511325,
          22.684007845,
          22.526425678000003,
          22.2798221591,
          18.3382260054,
          17.9810365271,
          18.463343866,
          24.4196891807,
          24.9858561814,
          22.6790109952,
          21.7442015125,
          21.8685272867,
          21.4725808745,
          24.6020395049,
          24.6615524122,
          24.79238445,
          19.2755332926,
          19.3699010443,
          19.683851859,
          18.423599235,
          18.744991519000003,
          18.4517742132,
          17.9821095997,
          18.2332859342,
          18.026018565,
          18.336260475,
          18.3594711464,
          17.7121389306,
          17.9079436896,
          18.0735269558,
          18.2583886139,
          18.1170807633,
          18.0556952514,
          18.1149724242
         ],
         "legendgroup": "",
         "lon": [
          -71.8756318462,
          -71.9809878541,
          -72.1708608028,
          -62.7300795119,
          -62.6292866676,
          -62.7698758924,
          -68.2790208608,
          -68.415183239,
          -68.253302941,
          -61.3411244749,
          -61.2706572305,
          -61.1277823012,
          -61.892783333,
          -61.81122973340001,
          -61.7750006728,
          -70.2129698145,
          -69.8507404749,
          -70.0402634421,
          -62.1913223367,
          -62.1600703945,
          -68.9119642663,
          -68.804333673,
          -68.99224033670001,
          -60.9853264563,
          -60.9592587814,
          -60.8879627469,
          -70.0470119828,
          -69.9630416694,
          -69.8785586491,
          -59.6215816906,
          -59.6408287729,
          -59.5190183196,
          -68.97352786430001,
          -68.464765716,
          -69.2970493446,
          -61.1293991589,
          -61.2453759611,
          -61.244572246,
          -61.7527054149,
          -61.6087121732,
          -61.4679904574,
          -61.4586687037,
          -61.3875819882,
          -61.3431174842,
          -72.8436108871,
          -72.1940118081,
          -72.0225382701,
          -82.2937397531,
          -79.4649575342,
          -81.21191784199999,
          -78.338122301,
          -76.8310901653,
          -77.937195592,
          -78.178205688,
          -77.424031711,
          -74.1775572592,
          -72.28593065,
          -72.0888726655,
          -71.14877287569999,
          -81.6599922528,
          -81.4909367753,
          -81.49364638760001,
          -81.3907446534,
          -81.4045491924,
          -79.8833603067,
          -64.6146789264,
          -64.3718986946,
          -64.4386815591,
          -66.74974709770001,
          -67.1729904619,
          -67.17826374090001,
          -64.9258983715,
          -65.0238735928,
          -64.884049413,
          -62.8380900758,
          -63.08578579010001,
          -63.0058508817,
          -62.9906465359,
          -63.0990391081,
          -62.9760274021
         ],
         "marker": {
          "color": "red",
          "size": 10
         },
         "mode": "markers",
         "name": "",
         "showlegend": false,
         "subplot": "mapbox",
         "type": "scattermapbox"
        },
        {
         "hovertemplate": "<b>%{hovertext}</b><br><br>lat=%{lat}<br>lon=%{lon}<extra></extra>",
         "hovertext": [
          "La Costa, Caleta, La Romana, República Dominicana",
          "Avenida Bávaro, Higüey, La Altagracia, 23302, República Dominicana",
          "San Pedro de Macorís, República Dominicana"
         ],
         "lat": [
          18.4069053608,
          18.7297715033,
          18.4371711349
         ],
         "legendgroup": "",
         "lon": [
          -68.97352786430001,
          -68.464765716,
          -69.2970493446
         ],
         "marker": {
          "color": "magenta",
          "size": 10
         },
         "mode": "markers",
         "name": "",
         "showlegend": false,
         "subplot": "mapbox",
         "type": "scattermapbox"
        }
       ],
       "layout": {
        "height": 1200,
        "legend": {
         "tracegroupgap": 0
        },
        "mapbox": {
         "center": {
          "lat": 19.1,
          "lon": -72.3
         },
         "domain": {
          "x": [
           0,
           1
          ],
          "y": [
           0,
           1
          ]
         },
         "layers": [
          {
           "below": "traces",
           "source": [
            "https://services.arcgisonline.com/arcgis/rest/services/World_Imagery/MapServer/tile/{z}/{y}/{x}"
           ],
           "sourceattribution": "ESRI World Imagery",
           "sourcetype": "raster"
          }
         ],
         "style": "carto-positron",
         "zoom": 5.6
        },
        "margin": {
         "t": 60
        },
        "template": {
         "data": {
          "bar": [
           {
            "error_x": {
             "color": "#2a3f5f"
            },
            "error_y": {
             "color": "#2a3f5f"
            },
            "marker": {
             "line": {
              "color": "#E5ECF6",
              "width": 0.5
             },
             "pattern": {
              "fillmode": "overlay",
              "size": 10,
              "solidity": 0.2
             }
            },
            "type": "bar"
           }
          ],
          "barpolar": [
           {
            "marker": {
             "line": {
              "color": "#E5ECF6",
              "width": 0.5
             },
             "pattern": {
              "fillmode": "overlay",
              "size": 10,
              "solidity": 0.2
             }
            },
            "type": "barpolar"
           }
          ],
          "carpet": [
           {
            "aaxis": {
             "endlinecolor": "#2a3f5f",
             "gridcolor": "white",
             "linecolor": "white",
             "minorgridcolor": "white",
             "startlinecolor": "#2a3f5f"
            },
            "baxis": {
             "endlinecolor": "#2a3f5f",
             "gridcolor": "white",
             "linecolor": "white",
             "minorgridcolor": "white",
             "startlinecolor": "#2a3f5f"
            },
            "type": "carpet"
           }
          ],
          "choropleth": [
           {
            "colorbar": {
             "outlinewidth": 0,
             "ticks": ""
            },
            "type": "choropleth"
           }
          ],
          "contour": [
           {
            "colorbar": {
             "outlinewidth": 0,
             "ticks": ""
            },
            "colorscale": [
             [
              0,
              "#0d0887"
             ],
             [
              0.1111111111111111,
              "#46039f"
             ],
             [
              0.2222222222222222,
              "#7201a8"
             ],
             [
              0.3333333333333333,
              "#9c179e"
             ],
             [
              0.4444444444444444,
              "#bd3786"
             ],
             [
              0.5555555555555556,
              "#d8576b"
             ],
             [
              0.6666666666666666,
              "#ed7953"
             ],
             [
              0.7777777777777778,
              "#fb9f3a"
             ],
             [
              0.8888888888888888,
              "#fdca26"
             ],
             [
              1,
              "#f0f921"
             ]
            ],
            "type": "contour"
           }
          ],
          "contourcarpet": [
           {
            "colorbar": {
             "outlinewidth": 0,
             "ticks": ""
            },
            "type": "contourcarpet"
           }
          ],
          "heatmap": [
           {
            "colorbar": {
             "outlinewidth": 0,
             "ticks": ""
            },
            "colorscale": [
             [
              0,
              "#0d0887"
             ],
             [
              0.1111111111111111,
              "#46039f"
             ],
             [
              0.2222222222222222,
              "#7201a8"
             ],
             [
              0.3333333333333333,
              "#9c179e"
             ],
             [
              0.4444444444444444,
              "#bd3786"
             ],
             [
              0.5555555555555556,
              "#d8576b"
             ],
             [
              0.6666666666666666,
              "#ed7953"
             ],
             [
              0.7777777777777778,
              "#fb9f3a"
             ],
             [
              0.8888888888888888,
              "#fdca26"
             ],
             [
              1,
              "#f0f921"
             ]
            ],
            "type": "heatmap"
           }
          ],
          "heatmapgl": [
           {
            "colorbar": {
             "outlinewidth": 0,
             "ticks": ""
            },
            "colorscale": [
             [
              0,
              "#0d0887"
             ],
             [
              0.1111111111111111,
              "#46039f"
             ],
             [
              0.2222222222222222,
              "#7201a8"
             ],
             [
              0.3333333333333333,
              "#9c179e"
             ],
             [
              0.4444444444444444,
              "#bd3786"
             ],
             [
              0.5555555555555556,
              "#d8576b"
             ],
             [
              0.6666666666666666,
              "#ed7953"
             ],
             [
              0.7777777777777778,
              "#fb9f3a"
             ],
             [
              0.8888888888888888,
              "#fdca26"
             ],
             [
              1,
              "#f0f921"
             ]
            ],
            "type": "heatmapgl"
           }
          ],
          "histogram": [
           {
            "marker": {
             "pattern": {
              "fillmode": "overlay",
              "size": 10,
              "solidity": 0.2
             }
            },
            "type": "histogram"
           }
          ],
          "histogram2d": [
           {
            "colorbar": {
             "outlinewidth": 0,
             "ticks": ""
            },
            "colorscale": [
             [
              0,
              "#0d0887"
             ],
             [
              0.1111111111111111,
              "#46039f"
             ],
             [
              0.2222222222222222,
              "#7201a8"
             ],
             [
              0.3333333333333333,
              "#9c179e"
             ],
             [
              0.4444444444444444,
              "#bd3786"
             ],
             [
              0.5555555555555556,
              "#d8576b"
             ],
             [
              0.6666666666666666,
              "#ed7953"
             ],
             [
              0.7777777777777778,
              "#fb9f3a"
             ],
             [
              0.8888888888888888,
              "#fdca26"
             ],
             [
              1,
              "#f0f921"
             ]
            ],
            "type": "histogram2d"
           }
          ],
          "histogram2dcontour": [
           {
            "colorbar": {
             "outlinewidth": 0,
             "ticks": ""
            },
            "colorscale": [
             [
              0,
              "#0d0887"
             ],
             [
              0.1111111111111111,
              "#46039f"
             ],
             [
              0.2222222222222222,
              "#7201a8"
             ],
             [
              0.3333333333333333,
              "#9c179e"
             ],
             [
              0.4444444444444444,
              "#bd3786"
             ],
             [
              0.5555555555555556,
              "#d8576b"
             ],
             [
              0.6666666666666666,
              "#ed7953"
             ],
             [
              0.7777777777777778,
              "#fb9f3a"
             ],
             [
              0.8888888888888888,
              "#fdca26"
             ],
             [
              1,
              "#f0f921"
             ]
            ],
            "type": "histogram2dcontour"
           }
          ],
          "mesh3d": [
           {
            "colorbar": {
             "outlinewidth": 0,
             "ticks": ""
            },
            "type": "mesh3d"
           }
          ],
          "parcoords": [
           {
            "line": {
             "colorbar": {
              "outlinewidth": 0,
              "ticks": ""
             }
            },
            "type": "parcoords"
           }
          ],
          "pie": [
           {
            "automargin": true,
            "type": "pie"
           }
          ],
          "scatter": [
           {
            "fillpattern": {
             "fillmode": "overlay",
             "size": 10,
             "solidity": 0.2
            },
            "type": "scatter"
           }
          ],
          "scatter3d": [
           {
            "line": {
             "colorbar": {
              "outlinewidth": 0,
              "ticks": ""
             }
            },
            "marker": {
             "colorbar": {
              "outlinewidth": 0,
              "ticks": ""
             }
            },
            "type": "scatter3d"
           }
          ],
          "scattercarpet": [
           {
            "marker": {
             "colorbar": {
              "outlinewidth": 0,
              "ticks": ""
             }
            },
            "type": "scattercarpet"
           }
          ],
          "scattergeo": [
           {
            "marker": {
             "colorbar": {
              "outlinewidth": 0,
              "ticks": ""
             }
            },
            "type": "scattergeo"
           }
          ],
          "scattergl": [
           {
            "marker": {
             "colorbar": {
              "outlinewidth": 0,
              "ticks": ""
             }
            },
            "type": "scattergl"
           }
          ],
          "scattermapbox": [
           {
            "marker": {
             "colorbar": {
              "outlinewidth": 0,
              "ticks": ""
             }
            },
            "type": "scattermapbox"
           }
          ],
          "scatterpolar": [
           {
            "marker": {
             "colorbar": {
              "outlinewidth": 0,
              "ticks": ""
             }
            },
            "type": "scatterpolar"
           }
          ],
          "scatterpolargl": [
           {
            "marker": {
             "colorbar": {
              "outlinewidth": 0,
              "ticks": ""
             }
            },
            "type": "scatterpolargl"
           }
          ],
          "scatterternary": [
           {
            "marker": {
             "colorbar": {
              "outlinewidth": 0,
              "ticks": ""
             }
            },
            "type": "scatterternary"
           }
          ],
          "surface": [
           {
            "colorbar": {
             "outlinewidth": 0,
             "ticks": ""
            },
            "colorscale": [
             [
              0,
              "#0d0887"
             ],
             [
              0.1111111111111111,
              "#46039f"
             ],
             [
              0.2222222222222222,
              "#7201a8"
             ],
             [
              0.3333333333333333,
              "#9c179e"
             ],
             [
              0.4444444444444444,
              "#bd3786"
             ],
             [
              0.5555555555555556,
              "#d8576b"
             ],
             [
              0.6666666666666666,
              "#ed7953"
             ],
             [
              0.7777777777777778,
              "#fb9f3a"
             ],
             [
              0.8888888888888888,
              "#fdca26"
             ],
             [
              1,
              "#f0f921"
             ]
            ],
            "type": "surface"
           }
          ],
          "table": [
           {
            "cells": {
             "fill": {
              "color": "#EBF0F8"
             },
             "line": {
              "color": "white"
             }
            },
            "header": {
             "fill": {
              "color": "#C8D4E3"
             },
             "line": {
              "color": "white"
             }
            },
            "type": "table"
           }
          ]
         },
         "layout": {
          "annotationdefaults": {
           "arrowcolor": "#2a3f5f",
           "arrowhead": 0,
           "arrowwidth": 1
          },
          "autotypenumbers": "strict",
          "coloraxis": {
           "colorbar": {
            "outlinewidth": 0,
            "ticks": ""
           }
          },
          "colorscale": {
           "diverging": [
            [
             0,
             "#8e0152"
            ],
            [
             0.1,
             "#c51b7d"
            ],
            [
             0.2,
             "#de77ae"
            ],
            [
             0.3,
             "#f1b6da"
            ],
            [
             0.4,
             "#fde0ef"
            ],
            [
             0.5,
             "#f7f7f7"
            ],
            [
             0.6,
             "#e6f5d0"
            ],
            [
             0.7,
             "#b8e186"
            ],
            [
             0.8,
             "#7fbc41"
            ],
            [
             0.9,
             "#4d9221"
            ],
            [
             1,
             "#276419"
            ]
           ],
           "sequential": [
            [
             0,
             "#0d0887"
            ],
            [
             0.1111111111111111,
             "#46039f"
            ],
            [
             0.2222222222222222,
             "#7201a8"
            ],
            [
             0.3333333333333333,
             "#9c179e"
            ],
            [
             0.4444444444444444,
             "#bd3786"
            ],
            [
             0.5555555555555556,
             "#d8576b"
            ],
            [
             0.6666666666666666,
             "#ed7953"
            ],
            [
             0.7777777777777778,
             "#fb9f3a"
            ],
            [
             0.8888888888888888,
             "#fdca26"
            ],
            [
             1,
             "#f0f921"
            ]
           ],
           "sequentialminus": [
            [
             0,
             "#0d0887"
            ],
            [
             0.1111111111111111,
             "#46039f"
            ],
            [
             0.2222222222222222,
             "#7201a8"
            ],
            [
             0.3333333333333333,
             "#9c179e"
            ],
            [
             0.4444444444444444,
             "#bd3786"
            ],
            [
             0.5555555555555556,
             "#d8576b"
            ],
            [
             0.6666666666666666,
             "#ed7953"
            ],
            [
             0.7777777777777778,
             "#fb9f3a"
            ],
            [
             0.8888888888888888,
             "#fdca26"
            ],
            [
             1,
             "#f0f921"
            ]
           ]
          },
          "colorway": [
           "#636efa",
           "#EF553B",
           "#00cc96",
           "#ab63fa",
           "#FFA15A",
           "#19d3f3",
           "#FF6692",
           "#B6E880",
           "#FF97FF",
           "#FECB52"
          ],
          "font": {
           "color": "#2a3f5f"
          },
          "geo": {
           "bgcolor": "white",
           "lakecolor": "white",
           "landcolor": "#E5ECF6",
           "showlakes": true,
           "showland": true,
           "subunitcolor": "white"
          },
          "hoverlabel": {
           "align": "left"
          },
          "hovermode": "closest",
          "mapbox": {
           "style": "light"
          },
          "paper_bgcolor": "white",
          "plot_bgcolor": "#E5ECF6",
          "polar": {
           "angularaxis": {
            "gridcolor": "white",
            "linecolor": "white",
            "ticks": ""
           },
           "bgcolor": "#E5ECF6",
           "radialaxis": {
            "gridcolor": "white",
            "linecolor": "white",
            "ticks": ""
           }
          },
          "scene": {
           "xaxis": {
            "backgroundcolor": "#E5ECF6",
            "gridcolor": "white",
            "gridwidth": 2,
            "linecolor": "white",
            "showbackground": true,
            "ticks": "",
            "zerolinecolor": "white"
           },
           "yaxis": {
            "backgroundcolor": "#E5ECF6",
            "gridcolor": "white",
            "gridwidth": 2,
            "linecolor": "white",
            "showbackground": true,
            "ticks": "",
            "zerolinecolor": "white"
           },
           "zaxis": {
            "backgroundcolor": "#E5ECF6",
            "gridcolor": "white",
            "gridwidth": 2,
            "linecolor": "white",
            "showbackground": true,
            "ticks": "",
            "zerolinecolor": "white"
           }
          },
          "shapedefaults": {
           "line": {
            "color": "#2a3f5f"
           }
          },
          "ternary": {
           "aaxis": {
            "gridcolor": "white",
            "linecolor": "white",
            "ticks": ""
           },
           "baxis": {
            "gridcolor": "white",
            "linecolor": "white",
            "ticks": ""
           },
           "bgcolor": "#E5ECF6",
           "caxis": {
            "gridcolor": "white",
            "linecolor": "white",
            "ticks": ""
           }
          },
          "title": {
           "x": 0.05
          },
          "xaxis": {
           "automargin": true,
           "gridcolor": "white",
           "linecolor": "white",
           "ticks": "",
           "title": {
            "standoff": 15
           },
           "zerolinecolor": "white",
           "zerolinewidth": 2
          },
          "yaxis": {
           "automargin": true,
           "gridcolor": "white",
           "linecolor": "white",
           "ticks": "",
           "title": {
            "standoff": 15
           },
           "zerolinecolor": "white",
           "zerolinewidth": 2
          }
         }
        },
        "title": {
         "font": {
          "size": 20
         },
         "text": "ESL 100yrRP PC   Risk Level Hotspot Distribution along Caribbean's shoreline",
         "x": 0.5,
         "xanchor": "center"
        },
        "width": 2000
       }
      }
     },
     "metadata": {},
     "output_type": "display_data"
    },
    {
     "data": {
      "application/vnd.plotly.v1+json": {
       "config": {
        "plotlyServerURL": "https://plot.ly"
       },
       "data": [
        {
         "hovertemplate": "<b>%{hovertext}</b><br><br>lat=%{lat}<br>lon=%{lon}<extra></extra>",
         "hovertext": [
          "Uribia, La Guajira, RAP Caribe, 440029, Colombia",
          "Oroshio, Uribia, La Guajira, RAP Caribe, Colombia",
          "Uribia, La Guajira, RAP Caribe, 440029, Colombia",
          "Bay Road, Irish Town, Port Zante, Brumaire, Saint George Basseterre, Saint Kitts, Saint Kitts and Nevis",
          "Island Main Road, Belle Vue, Saint John Capisterre, Saint Kitts, Saint Kitts and Nevis",
          "The Salt Ponds, Fleming Estate, Saint George Basseterre, Saint Kitts, Saint Kitts and Nevis",
          "Julio A Abraham Boulevard, Plaza Beach Resort, Kralendijk, Bonaire, Nederland, 0000 BQ, Nederland",
          "Slagbaai, Bonaire, Nederland",
          "EEG Boulevard, Bonaire, Nederland",
          "Chez Dolmare, Boulevard de l'Amitié des Peuples de la Caraïbe, Lauricisque, Pointe-à-Pitre, Guadeloupe, 97110, France",
          "FR*EZD*E45697,FR*EZD*E45709, Impasse Morne Cabri, ZI Lézarde, Le Lamentin, Fort-de-France, Martinique, 97232, France",
          "Rue Lotor, Le Moule, L'Autre Bord, Le Moule, Pointe-à-Pitre, Guadeloupe, 97160, France",
          "Spanish Point, Barbuda, Antigua and Barbuda",
          "Barbuda, Antigua and Barbuda",
          "Palmetto Point, Barbuda, Antigua and Barbuda",
          "Tiraya, Parroquia Adícora, Municipio Falcón, Falcón, Venezuela",
          "Parroquia Jadacaquiva, Municipio Falcón, Falcón, Venezuela",
          "Punta de Barco, Parroquia El Vínculo, Municipio Falcón, Falcón, Venezuela",
          "Fogatry, Brades, Saint Peter, Montserrat",
          "Saint Anthony, Montserrat",
          "Baoase Luxury Resort, 2, Winterswijkstraat, Marie Pampoen, Koraal Specht, Willemstad, Curaçao, 0000 NA, Nederland",
          "Oostpunt, Curaçao, Nederland",
          "Kaya Grap, Boca Sint Michiel, Curaçao, Nederland",
          "Nelson Mandela Drive, City Gate, Vigie, Castries, LC04 301, Saint Lucia",
          "Lewis Street, Town, Vieux Fort, LC12 201, Saint Lucia",
          "Nikki's Bar, Castries - Vieux Fort Highway, La Croix, Mamiku, Praslin, Dennery, LC15 201, Saint Lucia",
          "Berea Di Piscado, Aruba, Nederland",
          "92, Spaans Lagoenweg, Pos Chikito, Aruba, Nederland",
          "Third Avenue, Sero Colorado, San Nicolaas, Aruba, Nederland",
          "The Bridgetown Fisheries Complex, Princess Alice Highway, Bridgetown, Saint Michael, BB11007, Barbados",
          "Silver Sands, St. Christopher, Goodland, Silver Sands, Christ Church, BB17121, Barbados",
          "Porters, Mount Standfast, Saint James, BB24026, Barbados",
          "La pozita, 1, Duarte, Nagua, María Trinidad Sánchez, 33000, República Dominicana",
          "El Grillo, Monte Plata, República Dominicana",
          "Avenida 27 de Febrero, Abra Grande, El Manantial, Las Terrenas, Samaná, República Dominicana",
          "Ottley Hall Shipyard, Shipyard Road, Campden Park, Saint Andrew, VC0100, Saint Vincent and the Grenadines",
          "Canouan Main Road, Charlestown, Grenadines, VC0450, Saint Vincent and the Grenadines",
          "Windward Highway, Waterloo, Sion Hill, London, Charlotte, Saint Vincent and the Grenadines",
          "St. George's Hospital, Grand Etang Road, Belmont, St. George's, Saint George, Grenada",
          "Estuary Lane, Simon, Saint Andrew, Grenada",
          "Airport Road, Hillsborough, Carriacou and Petite Martinique, Grenada",
          "River Bank, Potters Ville, Roseau, Saint George Parish, Dominica",
          "Portsmouth Fisheries Complex, Pembroke Street, Portsmouth Central, Portsmouth, Saint John Parish, Dominica",
          "Greater Britain Estate Road, Carse O' Gowrie, La Plaine, Saint Patrick Parish, Dominica",
          "1re Bourdet, Commune Les Cayes, Arrondissement des Cayes, Département du Sud, Ayiti",
          "Rue Jean-Jacques Dessalines, 3e Brodequin, Aquin, Commune d’Aquin, Arrondissement d’Aquin, Département du Sud, Ayiti",
          "1re Île-à-Vache, Commune Île-à-Vache, Arrondissement des Cayes, Département du Sud, 8160, Ayiti",
          "Isla de la Juventud, Cuba",
          "Camagüey, Cuba",
          "Camagüey, Cuba",
          "Sir Florizel Glaspole Boulevard, Harbour View, Kingston, Saint Andrew, Surrey County, Jamaica",
          "Sports Bar, Allan Avenue, Port Antonio, Portland, Surrey County, Jamaica",
          "Ocean Blvd East, Poor Mans Corner, South Haven, Saint Thomas, Surrey County, Jamaica",
          "Venice Bay, Nassau, New Providence, The Bahamas",
          "Crooked Island and Long Cay, The Bahamas",
          "Snug Corner Settlement, Acklins, The Bahamas",
          "Chalk Sound Drive, Providenciales, Turks and Caicos Islands",
          "North Caicos, Turks and Caicos Islands",
          "Front Street, Cockburn Town, Grand Turk, Turks and Caicos Islands",
          "East 105th Street Ocean, Marathon, Monroe County, Florida, 33050, United States",
          "5, Bougainvillea Avenue, Stock Island, Monroe County, Florida, 33040, United States",
          "Malaga Lane, Big Pine Key, Monroe County, Florida, 33043, United States",
          "Snorkelling, South Church Street, Rock Hole, George Town, KY1-9000, Cayman Islands",
          "Savannah, George Town, KY1-1105, Cayman Islands",
          "Water Cay Road, North Side, Cayman Islands",
          "Road Town, Tortola, VG1110, British Virgin Islands",
          "Anegada Road, Anegada, British Virgin Islands",
          "Little Road, Spanish Town, Virgin Gorda, VG1150, British Virgin Islands",
          "Rincon Self Storage, Avenida Doctor Pedro Albizu Campos, Calvache, Barrio Pueblo, Rincón, Puerto Rico, 00677, United States",
          "Puente de Madera, Palmas, Cataño, Puerto Rico, 00962, United States",
          "Paseo Real Marina, Cerro Bisbal, Cerro Gonzalo, Victoria, Aguadilla, Puerto Rico, 00605, United States",
          "9, Strand Street, Frederiksted, Saint Croix District, United States Virgin Islands, 00840, United States",
          "Point Pleasant Way, Charlotte Amalie, Saint Thomas - Saint John District, United States Virgin Islands, United States",
          "Limetree Bay refinery, Saint Croix District, United States Virgin Islands, 00823, United States",
          "631, Chemin de l'Anse Saint-Jean, Le Château, Gustavia, Saint-Barthélemy, 97133, France",
          "Boulevard du Docteur Hubert Petit, Galisbay, Marigot, Saint-Martin (France), 97150, France",
          "South Hill, Anguilla",
          "Scilly Cay, Nashville Webster Road, Island Harbour, Anguilla",
          "Sandy Ground, Marigot, Saint-Martin (France), 97150, France",
          "Rue de Grande Caye, Cul de Sac, Saint-Martin (France), 97150, France"
         ],
         "lat": [
          12.2431443263,
          12.1580299071,
          12.0328420256,
          17.292176018299998,
          17.3911716058,
          17.2526544044,
          12.1390884531,
          12.2563804661,
          12.0293282929,
          16.2500058347,
          14.6036038271,
          16.3343281317,
          17.5479553657,
          17.639435467000002,
          17.5922660992,
          12.0558347242,
          12.0361128356,
          12.1618086552,
          16.78160611,
          16.6781538048,
          12.0938892821,
          12.038559436099998,
          12.138579018699998,
          14.0252497846,
          13.7268967083,
          13.9065169254,
          12.5764570669,
          12.4591845354,
          12.4166169742,
          13.0974190755,
          13.0485790788,
          13.1990429061,
          19.3725510929,
          19.1160035197,
          19.3244897754,
          13.1620916253,
          12.7021815216,
          13.3398000871,
          12.0463064746,
          12.1396010553,
          12.4807512471,
          15.3016704604,
          15.5760225949,
          15.3329905269,
          18.1874986661,
          18.270514266,
          18.085506558,
          21.4418664337,
          21.9611471185,
          22.0289527658,
          17.950590799,
          18.1805536622,
          17.870880943699998,
          24.9858561814,
          22.6777602313,
          22.5981941843,
          21.7442015125,
          21.8685272867,
          21.4725808745,
          24.7231091186,
          24.5808205379,
          24.7003411039,
          19.2930021793,
          19.2666664386,
          19.3661588441,
          18.423599235,
          18.7220302565,
          18.4517742132,
          18.3347210559,
          18.4429039976,
          18.4167885577,
          17.7121389306,
          18.3448688635,
          17.6976662896,
          17.9079436896,
          18.0735269558,
          18.1956622126,
          18.259069539,
          18.0556952514,
          18.1149724242
         ],
         "legendgroup": "",
         "lon": [
          -71.8756318462,
          -71.9809878541,
          -72.1708608028,
          -62.7300795119,
          -62.7664442587,
          -62.6374068242,
          -68.2790208608,
          -68.415183239,
          -68.253302941,
          -61.547582702,
          -61.0088545886,
          -61.3455713329,
          -61.7383869561,
          -61.7432302719,
          -61.8575863028,
          -69.8539475253,
          -70.2253219907,
          -69.9209445858,
          -62.21683382770001,
          -62.1913223367,
          -68.9119642663,
          -68.804333673,
          -68.99224033670001,
          -60.9853264563,
          -60.9592587814,
          -60.887023389300005,
          -70.0470119828,
          -69.9630416694,
          -69.8785586491,
          -59.6215816906,
          -59.5190183196,
          -59.6408287729,
          -69.8404674292,
          -69.63319818789999,
          -69.5328877897,
          -61.2453759611,
          -61.3516246073,
          -61.1243552509,
          -61.7527054149,
          -61.6087121732,
          -61.4679904574,
          -61.3875819882,
          -61.4586687037,
          -61.2458367798,
          -73.7505580416,
          -73.3926952231,
          -73.5854831888,
          -82.8925798779,
          -77.85737286439999,
          -77.9239675373,
          -76.7211122786,
          -76.4447810196,
          -76.5861563512,
          -77.424031711,
          -74.1380145623,
          -73.9359880856,
          -72.28593065,
          -72.0888726655,
          -71.14877287569999,
          -81.0402725303,
          -81.7369858806,
          -81.3497583502,
          -81.387207844,
          -81.296045525,
          -81.2717580818,
          -64.6146789264,
          -64.362873344,
          -64.4386815591,
          -67.25431728609999,
          -66.1243595817,
          -67.1596641308,
          -64.884049413,
          -64.86362859319999,
          -64.7522213289,
          -62.8380900758,
          -63.08578579010001,
          -63.1028579279,
          -63.001416907,
          -63.0990391081,
          -62.9760274021
         ],
         "marker": {
          "color": "red",
          "size": 10
         },
         "mode": "markers",
         "name": "",
         "showlegend": false,
         "subplot": "mapbox",
         "type": "scattermapbox"
        },
        {
         "hovertemplate": "<b>%{hovertext}</b><br><br>lat=%{lat}<br>lon=%{lon}<extra></extra>",
         "hovertext": [
          "1re Bourdet, Commune Les Cayes, Arrondissement des Cayes, Département du Sud, Ayiti",
          "Rue Jean-Jacques Dessalines, 3e Brodequin, Aquin, Commune d’Aquin, Arrondissement d’Aquin, Département du Sud, Ayiti",
          "1re Île-à-Vache, Commune Île-à-Vache, Arrondissement des Cayes, Département du Sud, 8160, Ayiti"
         ],
         "lat": [
          18.1874986661,
          18.270514266,
          18.085506558
         ],
         "legendgroup": "",
         "lon": [
          -73.7505580416,
          -73.3926952231,
          -73.5854831888
         ],
         "marker": {
          "color": "magenta",
          "size": 10
         },
         "mode": "markers",
         "name": "",
         "showlegend": false,
         "subplot": "mapbox",
         "type": "scattermapbox"
        }
       ],
       "layout": {
        "height": 1200,
        "legend": {
         "tracegroupgap": 0
        },
        "mapbox": {
         "center": {
          "lat": 19.1,
          "lon": -72.3
         },
         "domain": {
          "x": [
           0,
           1
          ],
          "y": [
           0,
           1
          ]
         },
         "layers": [
          {
           "below": "traces",
           "source": [
            "https://services.arcgisonline.com/arcgis/rest/services/World_Imagery/MapServer/tile/{z}/{y}/{x}"
           ],
           "sourceattribution": "ESRI World Imagery",
           "sourcetype": "raster"
          }
         ],
         "style": "carto-positron",
         "zoom": 5.6
        },
        "margin": {
         "t": 60
        },
        "template": {
         "data": {
          "bar": [
           {
            "error_x": {
             "color": "#2a3f5f"
            },
            "error_y": {
             "color": "#2a3f5f"
            },
            "marker": {
             "line": {
              "color": "#E5ECF6",
              "width": 0.5
             },
             "pattern": {
              "fillmode": "overlay",
              "size": 10,
              "solidity": 0.2
             }
            },
            "type": "bar"
           }
          ],
          "barpolar": [
           {
            "marker": {
             "line": {
              "color": "#E5ECF6",
              "width": 0.5
             },
             "pattern": {
              "fillmode": "overlay",
              "size": 10,
              "solidity": 0.2
             }
            },
            "type": "barpolar"
           }
          ],
          "carpet": [
           {
            "aaxis": {
             "endlinecolor": "#2a3f5f",
             "gridcolor": "white",
             "linecolor": "white",
             "minorgridcolor": "white",
             "startlinecolor": "#2a3f5f"
            },
            "baxis": {
             "endlinecolor": "#2a3f5f",
             "gridcolor": "white",
             "linecolor": "white",
             "minorgridcolor": "white",
             "startlinecolor": "#2a3f5f"
            },
            "type": "carpet"
           }
          ],
          "choropleth": [
           {
            "colorbar": {
             "outlinewidth": 0,
             "ticks": ""
            },
            "type": "choropleth"
           }
          ],
          "contour": [
           {
            "colorbar": {
             "outlinewidth": 0,
             "ticks": ""
            },
            "colorscale": [
             [
              0,
              "#0d0887"
             ],
             [
              0.1111111111111111,
              "#46039f"
             ],
             [
              0.2222222222222222,
              "#7201a8"
             ],
             [
              0.3333333333333333,
              "#9c179e"
             ],
             [
              0.4444444444444444,
              "#bd3786"
             ],
             [
              0.5555555555555556,
              "#d8576b"
             ],
             [
              0.6666666666666666,
              "#ed7953"
             ],
             [
              0.7777777777777778,
              "#fb9f3a"
             ],
             [
              0.8888888888888888,
              "#fdca26"
             ],
             [
              1,
              "#f0f921"
             ]
            ],
            "type": "contour"
           }
          ],
          "contourcarpet": [
           {
            "colorbar": {
             "outlinewidth": 0,
             "ticks": ""
            },
            "type": "contourcarpet"
           }
          ],
          "heatmap": [
           {
            "colorbar": {
             "outlinewidth": 0,
             "ticks": ""
            },
            "colorscale": [
             [
              0,
              "#0d0887"
             ],
             [
              0.1111111111111111,
              "#46039f"
             ],
             [
              0.2222222222222222,
              "#7201a8"
             ],
             [
              0.3333333333333333,
              "#9c179e"
             ],
             [
              0.4444444444444444,
              "#bd3786"
             ],
             [
              0.5555555555555556,
              "#d8576b"
             ],
             [
              0.6666666666666666,
              "#ed7953"
             ],
             [
              0.7777777777777778,
              "#fb9f3a"
             ],
             [
              0.8888888888888888,
              "#fdca26"
             ],
             [
              1,
              "#f0f921"
             ]
            ],
            "type": "heatmap"
           }
          ],
          "heatmapgl": [
           {
            "colorbar": {
             "outlinewidth": 0,
             "ticks": ""
            },
            "colorscale": [
             [
              0,
              "#0d0887"
             ],
             [
              0.1111111111111111,
              "#46039f"
             ],
             [
              0.2222222222222222,
              "#7201a8"
             ],
             [
              0.3333333333333333,
              "#9c179e"
             ],
             [
              0.4444444444444444,
              "#bd3786"
             ],
             [
              0.5555555555555556,
              "#d8576b"
             ],
             [
              0.6666666666666666,
              "#ed7953"
             ],
             [
              0.7777777777777778,
              "#fb9f3a"
             ],
             [
              0.8888888888888888,
              "#fdca26"
             ],
             [
              1,
              "#f0f921"
             ]
            ],
            "type": "heatmapgl"
           }
          ],
          "histogram": [
           {
            "marker": {
             "pattern": {
              "fillmode": "overlay",
              "size": 10,
              "solidity": 0.2
             }
            },
            "type": "histogram"
           }
          ],
          "histogram2d": [
           {
            "colorbar": {
             "outlinewidth": 0,
             "ticks": ""
            },
            "colorscale": [
             [
              0,
              "#0d0887"
             ],
             [
              0.1111111111111111,
              "#46039f"
             ],
             [
              0.2222222222222222,
              "#7201a8"
             ],
             [
              0.3333333333333333,
              "#9c179e"
             ],
             [
              0.4444444444444444,
              "#bd3786"
             ],
             [
              0.5555555555555556,
              "#d8576b"
             ],
             [
              0.6666666666666666,
              "#ed7953"
             ],
             [
              0.7777777777777778,
              "#fb9f3a"
             ],
             [
              0.8888888888888888,
              "#fdca26"
             ],
             [
              1,
              "#f0f921"
             ]
            ],
            "type": "histogram2d"
           }
          ],
          "histogram2dcontour": [
           {
            "colorbar": {
             "outlinewidth": 0,
             "ticks": ""
            },
            "colorscale": [
             [
              0,
              "#0d0887"
             ],
             [
              0.1111111111111111,
              "#46039f"
             ],
             [
              0.2222222222222222,
              "#7201a8"
             ],
             [
              0.3333333333333333,
              "#9c179e"
             ],
             [
              0.4444444444444444,
              "#bd3786"
             ],
             [
              0.5555555555555556,
              "#d8576b"
             ],
             [
              0.6666666666666666,
              "#ed7953"
             ],
             [
              0.7777777777777778,
              "#fb9f3a"
             ],
             [
              0.8888888888888888,
              "#fdca26"
             ],
             [
              1,
              "#f0f921"
             ]
            ],
            "type": "histogram2dcontour"
           }
          ],
          "mesh3d": [
           {
            "colorbar": {
             "outlinewidth": 0,
             "ticks": ""
            },
            "type": "mesh3d"
           }
          ],
          "parcoords": [
           {
            "line": {
             "colorbar": {
              "outlinewidth": 0,
              "ticks": ""
             }
            },
            "type": "parcoords"
           }
          ],
          "pie": [
           {
            "automargin": true,
            "type": "pie"
           }
          ],
          "scatter": [
           {
            "fillpattern": {
             "fillmode": "overlay",
             "size": 10,
             "solidity": 0.2
            },
            "type": "scatter"
           }
          ],
          "scatter3d": [
           {
            "line": {
             "colorbar": {
              "outlinewidth": 0,
              "ticks": ""
             }
            },
            "marker": {
             "colorbar": {
              "outlinewidth": 0,
              "ticks": ""
             }
            },
            "type": "scatter3d"
           }
          ],
          "scattercarpet": [
           {
            "marker": {
             "colorbar": {
              "outlinewidth": 0,
              "ticks": ""
             }
            },
            "type": "scattercarpet"
           }
          ],
          "scattergeo": [
           {
            "marker": {
             "colorbar": {
              "outlinewidth": 0,
              "ticks": ""
             }
            },
            "type": "scattergeo"
           }
          ],
          "scattergl": [
           {
            "marker": {
             "colorbar": {
              "outlinewidth": 0,
              "ticks": ""
             }
            },
            "type": "scattergl"
           }
          ],
          "scattermapbox": [
           {
            "marker": {
             "colorbar": {
              "outlinewidth": 0,
              "ticks": ""
             }
            },
            "type": "scattermapbox"
           }
          ],
          "scatterpolar": [
           {
            "marker": {
             "colorbar": {
              "outlinewidth": 0,
              "ticks": ""
             }
            },
            "type": "scatterpolar"
           }
          ],
          "scatterpolargl": [
           {
            "marker": {
             "colorbar": {
              "outlinewidth": 0,
              "ticks": ""
             }
            },
            "type": "scatterpolargl"
           }
          ],
          "scatterternary": [
           {
            "marker": {
             "colorbar": {
              "outlinewidth": 0,
              "ticks": ""
             }
            },
            "type": "scatterternary"
           }
          ],
          "surface": [
           {
            "colorbar": {
             "outlinewidth": 0,
             "ticks": ""
            },
            "colorscale": [
             [
              0,
              "#0d0887"
             ],
             [
              0.1111111111111111,
              "#46039f"
             ],
             [
              0.2222222222222222,
              "#7201a8"
             ],
             [
              0.3333333333333333,
              "#9c179e"
             ],
             [
              0.4444444444444444,
              "#bd3786"
             ],
             [
              0.5555555555555556,
              "#d8576b"
             ],
             [
              0.6666666666666666,
              "#ed7953"
             ],
             [
              0.7777777777777778,
              "#fb9f3a"
             ],
             [
              0.8888888888888888,
              "#fdca26"
             ],
             [
              1,
              "#f0f921"
             ]
            ],
            "type": "surface"
           }
          ],
          "table": [
           {
            "cells": {
             "fill": {
              "color": "#EBF0F8"
             },
             "line": {
              "color": "white"
             }
            },
            "header": {
             "fill": {
              "color": "#C8D4E3"
             },
             "line": {
              "color": "white"
             }
            },
            "type": "table"
           }
          ]
         },
         "layout": {
          "annotationdefaults": {
           "arrowcolor": "#2a3f5f",
           "arrowhead": 0,
           "arrowwidth": 1
          },
          "autotypenumbers": "strict",
          "coloraxis": {
           "colorbar": {
            "outlinewidth": 0,
            "ticks": ""
           }
          },
          "colorscale": {
           "diverging": [
            [
             0,
             "#8e0152"
            ],
            [
             0.1,
             "#c51b7d"
            ],
            [
             0.2,
             "#de77ae"
            ],
            [
             0.3,
             "#f1b6da"
            ],
            [
             0.4,
             "#fde0ef"
            ],
            [
             0.5,
             "#f7f7f7"
            ],
            [
             0.6,
             "#e6f5d0"
            ],
            [
             0.7,
             "#b8e186"
            ],
            [
             0.8,
             "#7fbc41"
            ],
            [
             0.9,
             "#4d9221"
            ],
            [
             1,
             "#276419"
            ]
           ],
           "sequential": [
            [
             0,
             "#0d0887"
            ],
            [
             0.1111111111111111,
             "#46039f"
            ],
            [
             0.2222222222222222,
             "#7201a8"
            ],
            [
             0.3333333333333333,
             "#9c179e"
            ],
            [
             0.4444444444444444,
             "#bd3786"
            ],
            [
             0.5555555555555556,
             "#d8576b"
            ],
            [
             0.6666666666666666,
             "#ed7953"
            ],
            [
             0.7777777777777778,
             "#fb9f3a"
            ],
            [
             0.8888888888888888,
             "#fdca26"
            ],
            [
             1,
             "#f0f921"
            ]
           ],
           "sequentialminus": [
            [
             0,
             "#0d0887"
            ],
            [
             0.1111111111111111,
             "#46039f"
            ],
            [
             0.2222222222222222,
             "#7201a8"
            ],
            [
             0.3333333333333333,
             "#9c179e"
            ],
            [
             0.4444444444444444,
             "#bd3786"
            ],
            [
             0.5555555555555556,
             "#d8576b"
            ],
            [
             0.6666666666666666,
             "#ed7953"
            ],
            [
             0.7777777777777778,
             "#fb9f3a"
            ],
            [
             0.8888888888888888,
             "#fdca26"
            ],
            [
             1,
             "#f0f921"
            ]
           ]
          },
          "colorway": [
           "#636efa",
           "#EF553B",
           "#00cc96",
           "#ab63fa",
           "#FFA15A",
           "#19d3f3",
           "#FF6692",
           "#B6E880",
           "#FF97FF",
           "#FECB52"
          ],
          "font": {
           "color": "#2a3f5f"
          },
          "geo": {
           "bgcolor": "white",
           "lakecolor": "white",
           "landcolor": "#E5ECF6",
           "showlakes": true,
           "showland": true,
           "subunitcolor": "white"
          },
          "hoverlabel": {
           "align": "left"
          },
          "hovermode": "closest",
          "mapbox": {
           "style": "light"
          },
          "paper_bgcolor": "white",
          "plot_bgcolor": "#E5ECF6",
          "polar": {
           "angularaxis": {
            "gridcolor": "white",
            "linecolor": "white",
            "ticks": ""
           },
           "bgcolor": "#E5ECF6",
           "radialaxis": {
            "gridcolor": "white",
            "linecolor": "white",
            "ticks": ""
           }
          },
          "scene": {
           "xaxis": {
            "backgroundcolor": "#E5ECF6",
            "gridcolor": "white",
            "gridwidth": 2,
            "linecolor": "white",
            "showbackground": true,
            "ticks": "",
            "zerolinecolor": "white"
           },
           "yaxis": {
            "backgroundcolor": "#E5ECF6",
            "gridcolor": "white",
            "gridwidth": 2,
            "linecolor": "white",
            "showbackground": true,
            "ticks": "",
            "zerolinecolor": "white"
           },
           "zaxis": {
            "backgroundcolor": "#E5ECF6",
            "gridcolor": "white",
            "gridwidth": 2,
            "linecolor": "white",
            "showbackground": true,
            "ticks": "",
            "zerolinecolor": "white"
           }
          },
          "shapedefaults": {
           "line": {
            "color": "#2a3f5f"
           }
          },
          "ternary": {
           "aaxis": {
            "gridcolor": "white",
            "linecolor": "white",
            "ticks": ""
           },
           "baxis": {
            "gridcolor": "white",
            "linecolor": "white",
            "ticks": ""
           },
           "bgcolor": "#E5ECF6",
           "caxis": {
            "gridcolor": "white",
            "linecolor": "white",
            "ticks": ""
           }
          },
          "title": {
           "x": 0.05
          },
          "xaxis": {
           "automargin": true,
           "gridcolor": "white",
           "linecolor": "white",
           "ticks": "",
           "title": {
            "standoff": 15
           },
           "zerolinecolor": "white",
           "zerolinewidth": 2
          },
          "yaxis": {
           "automargin": true,
           "gridcolor": "white",
           "linecolor": "white",
           "ticks": "",
           "title": {
            "standoff": 15
           },
           "zerolinecolor": "white",
           "zerolinewidth": 2
          }
         }
        },
        "title": {
         "font": {
          "size": 20
         },
         "text": "EWH 100yrRP PC   Risk Level Hotspot Distribution along Caribbean's shoreline",
         "x": 0.5,
         "xanchor": "center"
        },
        "width": 2000
       }
      }
     },
     "metadata": {},
     "output_type": "display_data"
    },
    {
     "data": {
      "application/vnd.plotly.v1+json": {
       "config": {
        "plotlyServerURL": "https://plot.ly"
       },
       "data": [
        {
         "hovertemplate": "<b>%{hovertext}</b><br><br>lat=%{lat}<br>lon=%{lon}<extra></extra>",
         "hovertext": [
          "Escuela carrizal playa, Vía Uribia - Puerto Bolívar, Uribia, La Guajira, RAP Caribe, Colombia",
          "Colombia",
          "Uribia, La Guajira, RAP Caribe, 440029, Colombia",
          "Boulevard de la Pointe de Jarry, Baie-Mahault, Basse-Terre, Guadeloupe, 97122, France",
          "Pointe Granger, Sainte-Rose, Basse-Terre, Guadeloupe, 97115, France",
          "Boulevard Delgres, Goyave, Basse-Terre, Guadeloupe, 97128, France",
          "Ffryes, Saint Mary, Antigua, Antigua and Barbuda",
          "Catamaran Club Marina, Rhodes Lane, Falmouth, Saint Paul, Antigua, Antigua and Barbuda",
          "Texaco Dock Road, Osbourn, Saint George, Antigua, Antigua and Barbuda",
          "Tiraya, Parroquia Adícora, Municipio Falcón, Falcón, Venezuela",
          "Punta de Barco, Parroquia El Vínculo, Municipio Falcón, Falcón, Venezuela",
          "Parroquia Jadacaquiva, Municipio Falcón, Falcón, Venezuela",
          "Fogatry, Brades, Saint Peter, Montserrat",
          "Saint Anthony, Montserrat",
          "N. Minaya, Nagua, María Trinidad Sánchez, República Dominicana",
          "Carretera Aeropuerto, La Caleta, Boca Chica, Santo Domingo, 11606, República Dominicana",
          "República Dominicana",
          "Portsmouth Fisheries Complex, Pembroke Street, Portsmouth Central, Portsmouth, Saint John Parish, Dominica",
          "River Bank, Potters Ville, Roseau, Saint George Parish, Dominica",
          "Melville Hall - Portsmouth Road, Woodford Hill, Wesley, Saint Andrew Parish, Dominica",
          "Sent terèz, 1re Bourdet, Commune Les Cayes, Arrondissement des Cayes, Département du Sud, Ayiti",
          "1re Varreux, Commune Cité Soleil, Arrondissement de Port-au-Prince, Département de l'Ouest, 6210, Ayiti",
          "Petite Anse, 3e Petite Anse, Cap-Haïtien, Commune Cap-Haïtien, Arrondissement de Cap-Haïtien, Département du Nord, 1100, Ayiti",
          "Centro de Buceo Cuba Ocean Diving, 29817, Avenida 1ra, Santa Fé, Playa, La Habana, 19101, Cuba",
          "La Sierpe, Cuba",
          "66, Surgidero de Batabanó, Batabanó, Mayabeque, Cuba",
          "Saint Elizabeth, Cornwall County, Jamaica",
          "Royalton Negril, Norman Manley Boulevard, Hanover, Cornwall County, Jamaica",
          "Portmore Toll Road, Kingston, Kingston and Saint Andrew Corporation, Surrey County, Jamaica",
          "North Andros, The Bahamas",
          "Inagua, The Bahamas",
          "Inagua, The Bahamas",
          "Puente de Madera, Palmas, Cataño, Puerto Rico, 00962, United States",
          "Calle Madre Perla, Higuillar, Dorado, Puerto Rico, 00646, United States",
          "7, Avenida Sol, Brisas del Mar, Puerto Nuevo, Vega Baja, Puerto Rico, 00693, United States"
         ],
         "lat": [
          12.0044570436,
          12.2262279739,
          12.1496493961,
          16.2494725086,
          16.3045985005,
          16.138218462,
          17.0525817191,
          17.0201408047,
          17.1502394245,
          12.0386769274,
          12.1644493251,
          12.0361128356,
          16.78160611,
          16.6781538048,
          19.376132385,
          18.4374716462,
          19.7119652999,
          15.5760225949,
          15.3016704604,
          15.5888274825,
          18.1853228208,
          18.6010005386,
          19.7420736852,
          23.0763063652,
          21.6046310281,
          22.684007845,
          18.0288216401,
          18.342489034,
          17.9810365271,
          24.6494587946,
          21.1548653063,
          21.1826703244,
          18.4429039976,
          18.4761992815,
          18.4886931699
         ],
         "legendgroup": "",
         "lon": [
          -72.1829274193,
          -71.8716609458,
          -71.9527660207,
          -61.5515023234,
          -61.6294146484,
          -61.5705287097,
          -61.892783333,
          -61.7750006728,
          -61.7870498843,
          -69.8507404749,
          -69.924527812,
          -70.2253219907,
          -62.21683382770001,
          -62.1913223367,
          -69.84284873520001,
          -69.68143745319999,
          -71.73000531619998,
          -61.4586687037,
          -61.3875819882,
          -61.3276662746,
          -73.7544218484,
          -72.3439440917,
          -72.18987490090001,
          -82.51920139159999,
          -79.4628505121,
          -82.2937397531,
          -77.8687644538,
          -78.33818336510001,
          -76.8310901653,
          -78.3906191996,
          -73.2171726072,
          -73.5138682461,
          -66.1243595817,
          -66.277606572,
          -66.4080521043
         ],
         "marker": {
          "color": "red",
          "size": 10
         },
         "mode": "markers",
         "name": "",
         "showlegend": false,
         "subplot": "mapbox",
         "type": "scattermapbox"
        },
        {
         "hovertemplate": "<b>%{hovertext}</b><br><br>lat=%{lat}<br>lon=%{lon}<extra></extra>",
         "hovertext": [
          "Puente de Madera, Palmas, Cataño, Puerto Rico, 00962, United States",
          "Calle Madre Perla, Higuillar, Dorado, Puerto Rico, 00646, United States",
          "Royalton Negril, Norman Manley Boulevard, Hanover, Cornwall County, Jamaica"
         ],
         "lat": [
          18.4429039976,
          18.4761992815,
          18.342489034
         ],
         "legendgroup": "",
         "lon": [
          -66.1243595817,
          -66.277606572,
          -78.33818336510001
         ],
         "marker": {
          "color": "magenta",
          "size": 10
         },
         "mode": "markers",
         "name": "",
         "showlegend": false,
         "subplot": "mapbox",
         "type": "scattermapbox"
        }
       ],
       "layout": {
        "height": 1200,
        "legend": {
         "tracegroupgap": 0
        },
        "mapbox": {
         "center": {
          "lat": 19.1,
          "lon": -72.3
         },
         "domain": {
          "x": [
           0,
           1
          ],
          "y": [
           0,
           1
          ]
         },
         "layers": [
          {
           "below": "traces",
           "source": [
            "https://services.arcgisonline.com/arcgis/rest/services/World_Imagery/MapServer/tile/{z}/{y}/{x}"
           ],
           "sourceattribution": "ESRI World Imagery",
           "sourcetype": "raster"
          }
         ],
         "style": "carto-positron",
         "zoom": 5.6
        },
        "margin": {
         "t": 60
        },
        "template": {
         "data": {
          "bar": [
           {
            "error_x": {
             "color": "#2a3f5f"
            },
            "error_y": {
             "color": "#2a3f5f"
            },
            "marker": {
             "line": {
              "color": "#E5ECF6",
              "width": 0.5
             },
             "pattern": {
              "fillmode": "overlay",
              "size": 10,
              "solidity": 0.2
             }
            },
            "type": "bar"
           }
          ],
          "barpolar": [
           {
            "marker": {
             "line": {
              "color": "#E5ECF6",
              "width": 0.5
             },
             "pattern": {
              "fillmode": "overlay",
              "size": 10,
              "solidity": 0.2
             }
            },
            "type": "barpolar"
           }
          ],
          "carpet": [
           {
            "aaxis": {
             "endlinecolor": "#2a3f5f",
             "gridcolor": "white",
             "linecolor": "white",
             "minorgridcolor": "white",
             "startlinecolor": "#2a3f5f"
            },
            "baxis": {
             "endlinecolor": "#2a3f5f",
             "gridcolor": "white",
             "linecolor": "white",
             "minorgridcolor": "white",
             "startlinecolor": "#2a3f5f"
            },
            "type": "carpet"
           }
          ],
          "choropleth": [
           {
            "colorbar": {
             "outlinewidth": 0,
             "ticks": ""
            },
            "type": "choropleth"
           }
          ],
          "contour": [
           {
            "colorbar": {
             "outlinewidth": 0,
             "ticks": ""
            },
            "colorscale": [
             [
              0,
              "#0d0887"
             ],
             [
              0.1111111111111111,
              "#46039f"
             ],
             [
              0.2222222222222222,
              "#7201a8"
             ],
             [
              0.3333333333333333,
              "#9c179e"
             ],
             [
              0.4444444444444444,
              "#bd3786"
             ],
             [
              0.5555555555555556,
              "#d8576b"
             ],
             [
              0.6666666666666666,
              "#ed7953"
             ],
             [
              0.7777777777777778,
              "#fb9f3a"
             ],
             [
              0.8888888888888888,
              "#fdca26"
             ],
             [
              1,
              "#f0f921"
             ]
            ],
            "type": "contour"
           }
          ],
          "contourcarpet": [
           {
            "colorbar": {
             "outlinewidth": 0,
             "ticks": ""
            },
            "type": "contourcarpet"
           }
          ],
          "heatmap": [
           {
            "colorbar": {
             "outlinewidth": 0,
             "ticks": ""
            },
            "colorscale": [
             [
              0,
              "#0d0887"
             ],
             [
              0.1111111111111111,
              "#46039f"
             ],
             [
              0.2222222222222222,
              "#7201a8"
             ],
             [
              0.3333333333333333,
              "#9c179e"
             ],
             [
              0.4444444444444444,
              "#bd3786"
             ],
             [
              0.5555555555555556,
              "#d8576b"
             ],
             [
              0.6666666666666666,
              "#ed7953"
             ],
             [
              0.7777777777777778,
              "#fb9f3a"
             ],
             [
              0.8888888888888888,
              "#fdca26"
             ],
             [
              1,
              "#f0f921"
             ]
            ],
            "type": "heatmap"
           }
          ],
          "heatmapgl": [
           {
            "colorbar": {
             "outlinewidth": 0,
             "ticks": ""
            },
            "colorscale": [
             [
              0,
              "#0d0887"
             ],
             [
              0.1111111111111111,
              "#46039f"
             ],
             [
              0.2222222222222222,
              "#7201a8"
             ],
             [
              0.3333333333333333,
              "#9c179e"
             ],
             [
              0.4444444444444444,
              "#bd3786"
             ],
             [
              0.5555555555555556,
              "#d8576b"
             ],
             [
              0.6666666666666666,
              "#ed7953"
             ],
             [
              0.7777777777777778,
              "#fb9f3a"
             ],
             [
              0.8888888888888888,
              "#fdca26"
             ],
             [
              1,
              "#f0f921"
             ]
            ],
            "type": "heatmapgl"
           }
          ],
          "histogram": [
           {
            "marker": {
             "pattern": {
              "fillmode": "overlay",
              "size": 10,
              "solidity": 0.2
             }
            },
            "type": "histogram"
           }
          ],
          "histogram2d": [
           {
            "colorbar": {
             "outlinewidth": 0,
             "ticks": ""
            },
            "colorscale": [
             [
              0,
              "#0d0887"
             ],
             [
              0.1111111111111111,
              "#46039f"
             ],
             [
              0.2222222222222222,
              "#7201a8"
             ],
             [
              0.3333333333333333,
              "#9c179e"
             ],
             [
              0.4444444444444444,
              "#bd3786"
             ],
             [
              0.5555555555555556,
              "#d8576b"
             ],
             [
              0.6666666666666666,
              "#ed7953"
             ],
             [
              0.7777777777777778,
              "#fb9f3a"
             ],
             [
              0.8888888888888888,
              "#fdca26"
             ],
             [
              1,
              "#f0f921"
             ]
            ],
            "type": "histogram2d"
           }
          ],
          "histogram2dcontour": [
           {
            "colorbar": {
             "outlinewidth": 0,
             "ticks": ""
            },
            "colorscale": [
             [
              0,
              "#0d0887"
             ],
             [
              0.1111111111111111,
              "#46039f"
             ],
             [
              0.2222222222222222,
              "#7201a8"
             ],
             [
              0.3333333333333333,
              "#9c179e"
             ],
             [
              0.4444444444444444,
              "#bd3786"
             ],
             [
              0.5555555555555556,
              "#d8576b"
             ],
             [
              0.6666666666666666,
              "#ed7953"
             ],
             [
              0.7777777777777778,
              "#fb9f3a"
             ],
             [
              0.8888888888888888,
              "#fdca26"
             ],
             [
              1,
              "#f0f921"
             ]
            ],
            "type": "histogram2dcontour"
           }
          ],
          "mesh3d": [
           {
            "colorbar": {
             "outlinewidth": 0,
             "ticks": ""
            },
            "type": "mesh3d"
           }
          ],
          "parcoords": [
           {
            "line": {
             "colorbar": {
              "outlinewidth": 0,
              "ticks": ""
             }
            },
            "type": "parcoords"
           }
          ],
          "pie": [
           {
            "automargin": true,
            "type": "pie"
           }
          ],
          "scatter": [
           {
            "fillpattern": {
             "fillmode": "overlay",
             "size": 10,
             "solidity": 0.2
            },
            "type": "scatter"
           }
          ],
          "scatter3d": [
           {
            "line": {
             "colorbar": {
              "outlinewidth": 0,
              "ticks": ""
             }
            },
            "marker": {
             "colorbar": {
              "outlinewidth": 0,
              "ticks": ""
             }
            },
            "type": "scatter3d"
           }
          ],
          "scattercarpet": [
           {
            "marker": {
             "colorbar": {
              "outlinewidth": 0,
              "ticks": ""
             }
            },
            "type": "scattercarpet"
           }
          ],
          "scattergeo": [
           {
            "marker": {
             "colorbar": {
              "outlinewidth": 0,
              "ticks": ""
             }
            },
            "type": "scattergeo"
           }
          ],
          "scattergl": [
           {
            "marker": {
             "colorbar": {
              "outlinewidth": 0,
              "ticks": ""
             }
            },
            "type": "scattergl"
           }
          ],
          "scattermapbox": [
           {
            "marker": {
             "colorbar": {
              "outlinewidth": 0,
              "ticks": ""
             }
            },
            "type": "scattermapbox"
           }
          ],
          "scatterpolar": [
           {
            "marker": {
             "colorbar": {
              "outlinewidth": 0,
              "ticks": ""
             }
            },
            "type": "scatterpolar"
           }
          ],
          "scatterpolargl": [
           {
            "marker": {
             "colorbar": {
              "outlinewidth": 0,
              "ticks": ""
             }
            },
            "type": "scatterpolargl"
           }
          ],
          "scatterternary": [
           {
            "marker": {
             "colorbar": {
              "outlinewidth": 0,
              "ticks": ""
             }
            },
            "type": "scatterternary"
           }
          ],
          "surface": [
           {
            "colorbar": {
             "outlinewidth": 0,
             "ticks": ""
            },
            "colorscale": [
             [
              0,
              "#0d0887"
             ],
             [
              0.1111111111111111,
              "#46039f"
             ],
             [
              0.2222222222222222,
              "#7201a8"
             ],
             [
              0.3333333333333333,
              "#9c179e"
             ],
             [
              0.4444444444444444,
              "#bd3786"
             ],
             [
              0.5555555555555556,
              "#d8576b"
             ],
             [
              0.6666666666666666,
              "#ed7953"
             ],
             [
              0.7777777777777778,
              "#fb9f3a"
             ],
             [
              0.8888888888888888,
              "#fdca26"
             ],
             [
              1,
              "#f0f921"
             ]
            ],
            "type": "surface"
           }
          ],
          "table": [
           {
            "cells": {
             "fill": {
              "color": "#EBF0F8"
             },
             "line": {
              "color": "white"
             }
            },
            "header": {
             "fill": {
              "color": "#C8D4E3"
             },
             "line": {
              "color": "white"
             }
            },
            "type": "table"
           }
          ]
         },
         "layout": {
          "annotationdefaults": {
           "arrowcolor": "#2a3f5f",
           "arrowhead": 0,
           "arrowwidth": 1
          },
          "autotypenumbers": "strict",
          "coloraxis": {
           "colorbar": {
            "outlinewidth": 0,
            "ticks": ""
           }
          },
          "colorscale": {
           "diverging": [
            [
             0,
             "#8e0152"
            ],
            [
             0.1,
             "#c51b7d"
            ],
            [
             0.2,
             "#de77ae"
            ],
            [
             0.3,
             "#f1b6da"
            ],
            [
             0.4,
             "#fde0ef"
            ],
            [
             0.5,
             "#f7f7f7"
            ],
            [
             0.6,
             "#e6f5d0"
            ],
            [
             0.7,
             "#b8e186"
            ],
            [
             0.8,
             "#7fbc41"
            ],
            [
             0.9,
             "#4d9221"
            ],
            [
             1,
             "#276419"
            ]
           ],
           "sequential": [
            [
             0,
             "#0d0887"
            ],
            [
             0.1111111111111111,
             "#46039f"
            ],
            [
             0.2222222222222222,
             "#7201a8"
            ],
            [
             0.3333333333333333,
             "#9c179e"
            ],
            [
             0.4444444444444444,
             "#bd3786"
            ],
            [
             0.5555555555555556,
             "#d8576b"
            ],
            [
             0.6666666666666666,
             "#ed7953"
            ],
            [
             0.7777777777777778,
             "#fb9f3a"
            ],
            [
             0.8888888888888888,
             "#fdca26"
            ],
            [
             1,
             "#f0f921"
            ]
           ],
           "sequentialminus": [
            [
             0,
             "#0d0887"
            ],
            [
             0.1111111111111111,
             "#46039f"
            ],
            [
             0.2222222222222222,
             "#7201a8"
            ],
            [
             0.3333333333333333,
             "#9c179e"
            ],
            [
             0.4444444444444444,
             "#bd3786"
            ],
            [
             0.5555555555555556,
             "#d8576b"
            ],
            [
             0.6666666666666666,
             "#ed7953"
            ],
            [
             0.7777777777777778,
             "#fb9f3a"
            ],
            [
             0.8888888888888888,
             "#fdca26"
            ],
            [
             1,
             "#f0f921"
            ]
           ]
          },
          "colorway": [
           "#636efa",
           "#EF553B",
           "#00cc96",
           "#ab63fa",
           "#FFA15A",
           "#19d3f3",
           "#FF6692",
           "#B6E880",
           "#FF97FF",
           "#FECB52"
          ],
          "font": {
           "color": "#2a3f5f"
          },
          "geo": {
           "bgcolor": "white",
           "lakecolor": "white",
           "landcolor": "#E5ECF6",
           "showlakes": true,
           "showland": true,
           "subunitcolor": "white"
          },
          "hoverlabel": {
           "align": "left"
          },
          "hovermode": "closest",
          "mapbox": {
           "style": "light"
          },
          "paper_bgcolor": "white",
          "plot_bgcolor": "#E5ECF6",
          "polar": {
           "angularaxis": {
            "gridcolor": "white",
            "linecolor": "white",
            "ticks": ""
           },
           "bgcolor": "#E5ECF6",
           "radialaxis": {
            "gridcolor": "white",
            "linecolor": "white",
            "ticks": ""
           }
          },
          "scene": {
           "xaxis": {
            "backgroundcolor": "#E5ECF6",
            "gridcolor": "white",
            "gridwidth": 2,
            "linecolor": "white",
            "showbackground": true,
            "ticks": "",
            "zerolinecolor": "white"
           },
           "yaxis": {
            "backgroundcolor": "#E5ECF6",
            "gridcolor": "white",
            "gridwidth": 2,
            "linecolor": "white",
            "showbackground": true,
            "ticks": "",
            "zerolinecolor": "white"
           },
           "zaxis": {
            "backgroundcolor": "#E5ECF6",
            "gridcolor": "white",
            "gridwidth": 2,
            "linecolor": "white",
            "showbackground": true,
            "ticks": "",
            "zerolinecolor": "white"
           }
          },
          "shapedefaults": {
           "line": {
            "color": "#2a3f5f"
           }
          },
          "ternary": {
           "aaxis": {
            "gridcolor": "white",
            "linecolor": "white",
            "ticks": ""
           },
           "baxis": {
            "gridcolor": "white",
            "linecolor": "white",
            "ticks": ""
           },
           "bgcolor": "#E5ECF6",
           "caxis": {
            "gridcolor": "white",
            "linecolor": "white",
            "ticks": ""
           }
          },
          "title": {
           "x": 0.05
          },
          "xaxis": {
           "automargin": true,
           "gridcolor": "white",
           "linecolor": "white",
           "ticks": "",
           "title": {
            "standoff": 15
           },
           "zerolinecolor": "white",
           "zerolinewidth": 2
          },
          "yaxis": {
           "automargin": true,
           "gridcolor": "white",
           "linecolor": "white",
           "ticks": "",
           "title": {
            "standoff": 15
           },
           "zerolinecolor": "white",
           "zerolinewidth": 2
          }
         }
        },
        "title": {
         "font": {
          "size": 20
         },
         "text": "Land Subsidence 2010 PC   Risk Level Hotspot Distribution along Caribbean's shoreline",
         "x": 0.5,
         "xanchor": "center"
        },
        "width": 2000
       }
      }
     },
     "metadata": {},
     "output_type": "display_data"
    },
    {
     "data": {
      "application/vnd.plotly.v1+json": {
       "config": {
        "plotlyServerURL": "https://plot.ly"
       },
       "data": [
        {
         "hovertemplate": "<b>%{hovertext}</b><br><br>lat=%{lat}<br>lon=%{lon}<extra></extra>",
         "hovertext": [
          "Colombia",
          "Cabo Playa, Uribia, La Guajira, RAP Caribe, Colombia",
          "Uribia, La Guajira, RAP Caribe, 440029, Colombia",
          "The Salt Ponds, Fleming Estate, Saint George Basseterre, Saint Kitts, Saint Kitts and Nevis",
          "Belle Tete, Saint Anne Sandy Point, Saint Kitts, Saint Kitts and Nevis",
          "Playfield Road, Zion’s Housing Project, Zion, Saint George Gingerland, Nevis, Saint Kitts and Nevis",
          "Lac, Bonaire, Nederland, 0000 BQ, Nederland",
          "Dushi Trail, Bonaire, Nederland, 1234 AB, Nederland",
          "Bonaire, Nederland",
          "N 9, Tourterelles-Nord, Fort-de-France, Martinique, 97200, France",
          "Sentier de la Pointe à Cabrits, Saint-François, Pointe-à-Pitre, Guadeloupe, 97118, France",
          "La Désirade, Pointe-à-Pitre, Guadeloupe, 97127, France",
          "Pelican Point, Barbuda, Antigua and Barbuda",
          "Codrington, Barbuda, Antigua and Barbuda",
          "Galley Bay Road, Galley Bay Heights, Five Islands, Saint John, Antigua, Antigua and Barbuda",
          "La Macolla, Parroquia Jadacaquiva, Municipio Falcón, Falcón, Venezuela",
          "Parroquia El Vínculo, Municipio Falcón, Falcón, Venezuela",
          "Punta Baroa, Cabo San Román, Parroquia El Vínculo, Municipio Falcón, Falcón, Venezuela",
          "Saint Anthony, Montserrat",
          "Look Out, Saint Peter, Montserrat",
          "Avila Beach Hotel, 130, Penstraat, Nieuw Nederland, Berg Altena, Curaçao, 0000 NA, Nederland",
          "Fuik, Santa Barbara, Nieuwpoort, Curaçao, Nederland",
          "Coral Estate, Curaçao, Nederland",
          "Castries - Vieux Fort Highway, Westall Group / The Mangue, Vieux Fort, LC12 201, Saint Lucia",
          "Millennium Highway, Hospital Road, Monkey Town, Castries, LC06 101, Saint Lucia",
          "Paradise Hotel, Malgretoute Road, Malgretoute, Soufrière, LC00 124, Saint Lucia",
          "Divi Golf and Beach Resort, Avenida Nelson O. Oduber, Bushiri, Oranjestad West, Punta Brabo, Oranjestad (city), Aruba, Nederland",
          "Savaneta, Aruba, Nederland",
          "Aruba, Nederland",
          "The Bridgetown Fisheries Complex, Princess Alice Highway, Bridgetown, Saint Michael, BB11007, Barbados",
          "Porters, Mount Standfast, Saint James, BB24026, Barbados",
          "Maycocks Terrace, Maycock, Husbands, Saint Lucy, BB27149, Barbados",
          "Costinilla, Oviedo, Pedernales, República Dominicana",
          "San Fernando de Monte Cristi, Monte Cristi, 62000, República Dominicana",
          "Miches, El Seibo, República Dominicana",
          "Canouan Main Road, Barbruce, Charlestown, Grenadines, VC0450, Saint Vincent and the Grenadines",
          "Sion Hill, New Sandy Bay Village, Charlotte, Saint Vincent and the Grenadines",
          "Kingstown, Saint George, VC0100, Saint Vincent and the Grenadines",
          "Cassada Bay Road, Belmont, Carriacou and Petite Martinique, Grenada",
          "Conference, Saint Andrew, Grenada",
          "Sunset Drive, Fort Jeudy, Saint George, Grenada",
          "Edward Olivier Leblanc Highway, Picard, Saint John Parish, Dominica",
          "River Bank, Potters Ville, Roseau, Saint George Parish, Dominica",
          "Melville Hall - Portsmouth Road, Anse du Mé, Saint Andrew Parish, Dominica",
          "Sent terèz, 1re Bourdet, Commune Les Cayes, Arrondissement des Cayes, Département du Sud, Ayiti",
          "1e Basse Plaine, Galman Duplaa, Commune Quartier-Morin, Arrondissement de Cap-Haïtien, Département du Nord, 1121, Ayiti",
          "Duverni, 1re Bourry, Commune Torbeck, Arrondissement des Cayes, Département du Sud, Ayiti",
          "Carretera Casablanca, Residencial Vía Tunel, Guiteras, Casablanca, Regla, Habana del Este, La Habana, 11700, Cuba",
          "Esmeralda, Camagüey, 72200, Cuba",
          "Ciego de Ávila, Cuba",
          "Sir Florizel Glaspole Boulevard, Harbour View, Kingston, Saint Andrew, Surrey County, Jamaica",
          "3rd Street, Kingston Port Trust, Kingston, Saint Andrew, Surrey County, Jamaica",
          "Sandy Bay, Clarendon, Middlesex County, Jamaica",
          "Crooked Island and Long Cay, The Bahamas",
          "Mangrove Cay, The Bahamas",
          "Grantanna Estates 2, Nassau, New Providence, The Bahamas",
          "Middle Caicos, Turks and Caicos Islands",
          "Tom Lightbourne Drive, Island Estates, Providenciales, Turks and Caicos Islands",
          "Turks and Caicos Islands",
          "Florida Keys Overseas Heritage Trail, Key West, Monroe County, Florida, 33040, United States",
          "East 105th Street Ocean, Marathon, Monroe County, Florida, 33050, United States",
          "West Indies Drive, Monroe County, Florida, 33042, United States",
          "Dream Lane, Scott Development, West End, Sister Islands, Cayman Islands",
          "Guy Banks Road, Sister Islands, Cayman Islands",
          "Beach Walk to First Cay, Sister Islands, Cayman Islands",
          "Road Town, Tortola, VG1110, British Virgin Islands",
          "Anegada Road, Anegada, British Virgin Islands",
          "The Settlement, Anegada, British Virgin Islands",
          "Carnival CruisePort Muelle 4, Paseo Dr. Gilberto Concepción de Gracia, La Perla, Viejo San Juan, San Juan, Puerto Rico, 00901, United States",
          "Carretera Mario Maldonado Torres, El Vigía, Reparto Costa de Oro, Islote, Arecibo, Puerto Rico, 00614, United States",
          "Bosque Estatal de Aguirre, Carretera Pozuelo, Pozuelo, Jobos, Guayama, Puerto Rico, 00704, United States",
          "Charlotte Amalie, Saint Thomas - Saint John District, United States Virgin Islands, 00802, United States",
          "Limetree Bay refinery, Saint Croix District, United States Virgin Islands, 00823, United States",
          "King Street, Frederiksted, Saint Croix District, United States Virgin Islands, 00870, United States",
          "Vito, Route de Lorient, Camaruche, Gustavia, Saint-Barthélemy, 97133, France",
          "Gratten's Point, Anguilla",
          "Rupert Carty Drive, West End Village, Anguilla",
          "Boulevard du Docteur Hubert Petit, Galisbay, Marigot, Saint-Martin (France), 97150, France",
          "Sandy Ground, Marigot, Saint-Martin (France), 97150, France",
          "Rue de Grande Caye, Cul de Sac, Saint-Martin (France), 97150, France"
         ],
         "lat": [
          12.250683718,
          12.0997012756,
          12.4051838919,
          17.254918511099998,
          17.374017981199998,
          17.144051894300002,
          12.1124114483,
          12.1590271326,
          12.2800490649,
          14.5955538627,
          16.2607199847,
          16.1727382652,
          17.5595743979,
          17.6591454955,
          17.1178352035,
          12.0772790769,
          12.146920903,
          12.1946531583,
          16.704554276099998,
          16.8066445742,
          12.099275595,
          12.055323744,
          12.1952036833,
          13.7291210664,
          13.9797316568,
          13.837902676,
          12.5390920619,
          12.4538658502,
          12.546539591300002,
          13.0974190755,
          13.1990429061,
          13.2948122172,
          17.6665712254,
          19.8405253823,
          19.02886577,
          12.7050558236,
          13.3530270002,
          13.1532293051,
          12.446820724,
          12.1526409809,
          12.0089051338,
          15.5424548514,
          15.3016704604,
          15.5966650101,
          18.1833098442,
          19.7536166828,
          18.1172934107,
          23.1424409222,
          22.0044064504,
          22.1298876301,
          17.950590799,
          17.980053096,
          17.8177672934,
          22.6801004703,
          24.151435490300003,
          24.9918165235,
          21.8289324165,
          21.7544300692,
          21.8457222513,
          24.572950590300003,
          24.7231091186,
          24.6561939457,
          19.6973762946,
          19.6966480366,
          19.7443282455,
          18.423599235,
          18.7328000627,
          18.7111710496,
          18.4606377833,
          18.4883667596,
          17.9427080633,
          18.3739901488,
          17.695940041,
          17.7163968506,
          17.908515546500002,
          18.295400952,
          18.1619101398,
          18.0735269558,
          18.0556952514,
          18.1111961022
         ],
         "legendgroup": "",
         "lon": [
          -71.8798045985,
          -72.1412220489,
          -71.6404663892,
          -62.64121185760001,
          -62.862535816800005,
          -62.5417116199,
          -68.2071693263,
          -68.3273430688,
          -68.4143714752,
          -61.0538600145,
          -61.2157419421,
          -61.106207278,
          -61.7367895635,
          -61.8590181919,
          -61.8961513841,
          -70.2130748012,
          -70.10064966270001,
          -70.0153801438,
          -62.1479374226,
          -62.1801219042,
          -68.92425665,
          -68.8358297811,
          -69.0741454313,
          -60.94202166220001,
          -61.0254741639,
          -61.0639635719,
          -70.0585925209,
          -69.9559007292,
          -69.9643954566,
          -59.6215816906,
          -59.6408287729,
          -59.64975284720001,
          -71.4730319528,
          -71.68371577010001,
          -68.94414888989999,
          -61.3310017119,
          -61.1293991589,
          -61.2306146555,
          -61.4775850233,
          -61.60691152850001,
          -61.7149232837,
          -61.4751737311,
          -61.3875819882,
          -61.3805514343,
          -73.7583778953,
          -72.13744586,
          -73.84164130890001,
          -82.32616130859999,
          -77.87851197149999,
          -78.2117471,
          -76.7211122786,
          -76.8268542183,
          -77.1656528361,
          -74.12939772850001,
          -77.8597226656,
          -77.3991233958,
          -71.84709229479999,
          -72.3349844239,
          -71.9472593631,
          -81.75665291840001,
          -81.0402725303,
          -81.4029105886,
          -79.8734168425,
          -79.992623836,
          -79.7286116742,
          -64.6146789264,
          -64.4059034781,
          -64.2784540495,
          -66.1094974948,
          -66.5993971461,
          -66.1892992542,
          -64.9220152213,
          -64.7563026999,
          -64.8844906122,
          -62.825281952,
          -62.9386278889,
          -63.1576144624,
          -63.08578579010001,
          -63.0990391081,
          -62.9840209203
         ],
         "marker": {
          "color": "red",
          "size": 10
         },
         "mode": "markers",
         "name": "",
         "showlegend": false,
         "subplot": "mapbox",
         "type": "scattermapbox"
        },
        {
         "hovertemplate": "<b>%{hovertext}</b><br><br>lat=%{lat}<br>lon=%{lon}<extra></extra>",
         "hovertext": [
          "Sent terèz, 1re Bourdet, Commune Les Cayes, Arrondissement des Cayes, Département du Sud, Ayiti",
          "1e Basse Plaine, Galman Duplaa, Commune Quartier-Morin, Arrondissement de Cap-Haïtien, Département du Nord, 1121, Ayiti",
          "Castries - Vieux Fort Highway, Westall Group / The Mangue, Vieux Fort, LC12 201, Saint Lucia"
         ],
         "lat": [
          18.1833098442,
          19.7536166828,
          13.7291210664
         ],
         "legendgroup": "",
         "lon": [
          -73.7583778953,
          -72.13744586,
          -60.94202166220001
         ],
         "marker": {
          "color": "magenta",
          "size": 10
         },
         "mode": "markers",
         "name": "",
         "showlegend": false,
         "subplot": "mapbox",
         "type": "scattermapbox"
        }
       ],
       "layout": {
        "height": 1200,
        "legend": {
         "tracegroupgap": 0
        },
        "mapbox": {
         "center": {
          "lat": 19.1,
          "lon": -72.3
         },
         "domain": {
          "x": [
           0,
           1
          ],
          "y": [
           0,
           1
          ]
         },
         "layers": [
          {
           "below": "traces",
           "source": [
            "https://services.arcgisonline.com/arcgis/rest/services/World_Imagery/MapServer/tile/{z}/{y}/{x}"
           ],
           "sourceattribution": "ESRI World Imagery",
           "sourcetype": "raster"
          }
         ],
         "style": "carto-positron",
         "zoom": 5.6
        },
        "margin": {
         "t": 60
        },
        "template": {
         "data": {
          "bar": [
           {
            "error_x": {
             "color": "#2a3f5f"
            },
            "error_y": {
             "color": "#2a3f5f"
            },
            "marker": {
             "line": {
              "color": "#E5ECF6",
              "width": 0.5
             },
             "pattern": {
              "fillmode": "overlay",
              "size": 10,
              "solidity": 0.2
             }
            },
            "type": "bar"
           }
          ],
          "barpolar": [
           {
            "marker": {
             "line": {
              "color": "#E5ECF6",
              "width": 0.5
             },
             "pattern": {
              "fillmode": "overlay",
              "size": 10,
              "solidity": 0.2
             }
            },
            "type": "barpolar"
           }
          ],
          "carpet": [
           {
            "aaxis": {
             "endlinecolor": "#2a3f5f",
             "gridcolor": "white",
             "linecolor": "white",
             "minorgridcolor": "white",
             "startlinecolor": "#2a3f5f"
            },
            "baxis": {
             "endlinecolor": "#2a3f5f",
             "gridcolor": "white",
             "linecolor": "white",
             "minorgridcolor": "white",
             "startlinecolor": "#2a3f5f"
            },
            "type": "carpet"
           }
          ],
          "choropleth": [
           {
            "colorbar": {
             "outlinewidth": 0,
             "ticks": ""
            },
            "type": "choropleth"
           }
          ],
          "contour": [
           {
            "colorbar": {
             "outlinewidth": 0,
             "ticks": ""
            },
            "colorscale": [
             [
              0,
              "#0d0887"
             ],
             [
              0.1111111111111111,
              "#46039f"
             ],
             [
              0.2222222222222222,
              "#7201a8"
             ],
             [
              0.3333333333333333,
              "#9c179e"
             ],
             [
              0.4444444444444444,
              "#bd3786"
             ],
             [
              0.5555555555555556,
              "#d8576b"
             ],
             [
              0.6666666666666666,
              "#ed7953"
             ],
             [
              0.7777777777777778,
              "#fb9f3a"
             ],
             [
              0.8888888888888888,
              "#fdca26"
             ],
             [
              1,
              "#f0f921"
             ]
            ],
            "type": "contour"
           }
          ],
          "contourcarpet": [
           {
            "colorbar": {
             "outlinewidth": 0,
             "ticks": ""
            },
            "type": "contourcarpet"
           }
          ],
          "heatmap": [
           {
            "colorbar": {
             "outlinewidth": 0,
             "ticks": ""
            },
            "colorscale": [
             [
              0,
              "#0d0887"
             ],
             [
              0.1111111111111111,
              "#46039f"
             ],
             [
              0.2222222222222222,
              "#7201a8"
             ],
             [
              0.3333333333333333,
              "#9c179e"
             ],
             [
              0.4444444444444444,
              "#bd3786"
             ],
             [
              0.5555555555555556,
              "#d8576b"
             ],
             [
              0.6666666666666666,
              "#ed7953"
             ],
             [
              0.7777777777777778,
              "#fb9f3a"
             ],
             [
              0.8888888888888888,
              "#fdca26"
             ],
             [
              1,
              "#f0f921"
             ]
            ],
            "type": "heatmap"
           }
          ],
          "heatmapgl": [
           {
            "colorbar": {
             "outlinewidth": 0,
             "ticks": ""
            },
            "colorscale": [
             [
              0,
              "#0d0887"
             ],
             [
              0.1111111111111111,
              "#46039f"
             ],
             [
              0.2222222222222222,
              "#7201a8"
             ],
             [
              0.3333333333333333,
              "#9c179e"
             ],
             [
              0.4444444444444444,
              "#bd3786"
             ],
             [
              0.5555555555555556,
              "#d8576b"
             ],
             [
              0.6666666666666666,
              "#ed7953"
             ],
             [
              0.7777777777777778,
              "#fb9f3a"
             ],
             [
              0.8888888888888888,
              "#fdca26"
             ],
             [
              1,
              "#f0f921"
             ]
            ],
            "type": "heatmapgl"
           }
          ],
          "histogram": [
           {
            "marker": {
             "pattern": {
              "fillmode": "overlay",
              "size": 10,
              "solidity": 0.2
             }
            },
            "type": "histogram"
           }
          ],
          "histogram2d": [
           {
            "colorbar": {
             "outlinewidth": 0,
             "ticks": ""
            },
            "colorscale": [
             [
              0,
              "#0d0887"
             ],
             [
              0.1111111111111111,
              "#46039f"
             ],
             [
              0.2222222222222222,
              "#7201a8"
             ],
             [
              0.3333333333333333,
              "#9c179e"
             ],
             [
              0.4444444444444444,
              "#bd3786"
             ],
             [
              0.5555555555555556,
              "#d8576b"
             ],
             [
              0.6666666666666666,
              "#ed7953"
             ],
             [
              0.7777777777777778,
              "#fb9f3a"
             ],
             [
              0.8888888888888888,
              "#fdca26"
             ],
             [
              1,
              "#f0f921"
             ]
            ],
            "type": "histogram2d"
           }
          ],
          "histogram2dcontour": [
           {
            "colorbar": {
             "outlinewidth": 0,
             "ticks": ""
            },
            "colorscale": [
             [
              0,
              "#0d0887"
             ],
             [
              0.1111111111111111,
              "#46039f"
             ],
             [
              0.2222222222222222,
              "#7201a8"
             ],
             [
              0.3333333333333333,
              "#9c179e"
             ],
             [
              0.4444444444444444,
              "#bd3786"
             ],
             [
              0.5555555555555556,
              "#d8576b"
             ],
             [
              0.6666666666666666,
              "#ed7953"
             ],
             [
              0.7777777777777778,
              "#fb9f3a"
             ],
             [
              0.8888888888888888,
              "#fdca26"
             ],
             [
              1,
              "#f0f921"
             ]
            ],
            "type": "histogram2dcontour"
           }
          ],
          "mesh3d": [
           {
            "colorbar": {
             "outlinewidth": 0,
             "ticks": ""
            },
            "type": "mesh3d"
           }
          ],
          "parcoords": [
           {
            "line": {
             "colorbar": {
              "outlinewidth": 0,
              "ticks": ""
             }
            },
            "type": "parcoords"
           }
          ],
          "pie": [
           {
            "automargin": true,
            "type": "pie"
           }
          ],
          "scatter": [
           {
            "fillpattern": {
             "fillmode": "overlay",
             "size": 10,
             "solidity": 0.2
            },
            "type": "scatter"
           }
          ],
          "scatter3d": [
           {
            "line": {
             "colorbar": {
              "outlinewidth": 0,
              "ticks": ""
             }
            },
            "marker": {
             "colorbar": {
              "outlinewidth": 0,
              "ticks": ""
             }
            },
            "type": "scatter3d"
           }
          ],
          "scattercarpet": [
           {
            "marker": {
             "colorbar": {
              "outlinewidth": 0,
              "ticks": ""
             }
            },
            "type": "scattercarpet"
           }
          ],
          "scattergeo": [
           {
            "marker": {
             "colorbar": {
              "outlinewidth": 0,
              "ticks": ""
             }
            },
            "type": "scattergeo"
           }
          ],
          "scattergl": [
           {
            "marker": {
             "colorbar": {
              "outlinewidth": 0,
              "ticks": ""
             }
            },
            "type": "scattergl"
           }
          ],
          "scattermapbox": [
           {
            "marker": {
             "colorbar": {
              "outlinewidth": 0,
              "ticks": ""
             }
            },
            "type": "scattermapbox"
           }
          ],
          "scatterpolar": [
           {
            "marker": {
             "colorbar": {
              "outlinewidth": 0,
              "ticks": ""
             }
            },
            "type": "scatterpolar"
           }
          ],
          "scatterpolargl": [
           {
            "marker": {
             "colorbar": {
              "outlinewidth": 0,
              "ticks": ""
             }
            },
            "type": "scatterpolargl"
           }
          ],
          "scatterternary": [
           {
            "marker": {
             "colorbar": {
              "outlinewidth": 0,
              "ticks": ""
             }
            },
            "type": "scatterternary"
           }
          ],
          "surface": [
           {
            "colorbar": {
             "outlinewidth": 0,
             "ticks": ""
            },
            "colorscale": [
             [
              0,
              "#0d0887"
             ],
             [
              0.1111111111111111,
              "#46039f"
             ],
             [
              0.2222222222222222,
              "#7201a8"
             ],
             [
              0.3333333333333333,
              "#9c179e"
             ],
             [
              0.4444444444444444,
              "#bd3786"
             ],
             [
              0.5555555555555556,
              "#d8576b"
             ],
             [
              0.6666666666666666,
              "#ed7953"
             ],
             [
              0.7777777777777778,
              "#fb9f3a"
             ],
             [
              0.8888888888888888,
              "#fdca26"
             ],
             [
              1,
              "#f0f921"
             ]
            ],
            "type": "surface"
           }
          ],
          "table": [
           {
            "cells": {
             "fill": {
              "color": "#EBF0F8"
             },
             "line": {
              "color": "white"
             }
            },
            "header": {
             "fill": {
              "color": "#C8D4E3"
             },
             "line": {
              "color": "white"
             }
            },
            "type": "table"
           }
          ]
         },
         "layout": {
          "annotationdefaults": {
           "arrowcolor": "#2a3f5f",
           "arrowhead": 0,
           "arrowwidth": 1
          },
          "autotypenumbers": "strict",
          "coloraxis": {
           "colorbar": {
            "outlinewidth": 0,
            "ticks": ""
           }
          },
          "colorscale": {
           "diverging": [
            [
             0,
             "#8e0152"
            ],
            [
             0.1,
             "#c51b7d"
            ],
            [
             0.2,
             "#de77ae"
            ],
            [
             0.3,
             "#f1b6da"
            ],
            [
             0.4,
             "#fde0ef"
            ],
            [
             0.5,
             "#f7f7f7"
            ],
            [
             0.6,
             "#e6f5d0"
            ],
            [
             0.7,
             "#b8e186"
            ],
            [
             0.8,
             "#7fbc41"
            ],
            [
             0.9,
             "#4d9221"
            ],
            [
             1,
             "#276419"
            ]
           ],
           "sequential": [
            [
             0,
             "#0d0887"
            ],
            [
             0.1111111111111111,
             "#46039f"
            ],
            [
             0.2222222222222222,
             "#7201a8"
            ],
            [
             0.3333333333333333,
             "#9c179e"
            ],
            [
             0.4444444444444444,
             "#bd3786"
            ],
            [
             0.5555555555555556,
             "#d8576b"
            ],
            [
             0.6666666666666666,
             "#ed7953"
            ],
            [
             0.7777777777777778,
             "#fb9f3a"
            ],
            [
             0.8888888888888888,
             "#fdca26"
            ],
            [
             1,
             "#f0f921"
            ]
           ],
           "sequentialminus": [
            [
             0,
             "#0d0887"
            ],
            [
             0.1111111111111111,
             "#46039f"
            ],
            [
             0.2222222222222222,
             "#7201a8"
            ],
            [
             0.3333333333333333,
             "#9c179e"
            ],
            [
             0.4444444444444444,
             "#bd3786"
            ],
            [
             0.5555555555555556,
             "#d8576b"
            ],
            [
             0.6666666666666666,
             "#ed7953"
            ],
            [
             0.7777777777777778,
             "#fb9f3a"
            ],
            [
             0.8888888888888888,
             "#fdca26"
            ],
            [
             1,
             "#f0f921"
            ]
           ]
          },
          "colorway": [
           "#636efa",
           "#EF553B",
           "#00cc96",
           "#ab63fa",
           "#FFA15A",
           "#19d3f3",
           "#FF6692",
           "#B6E880",
           "#FF97FF",
           "#FECB52"
          ],
          "font": {
           "color": "#2a3f5f"
          },
          "geo": {
           "bgcolor": "white",
           "lakecolor": "white",
           "landcolor": "#E5ECF6",
           "showlakes": true,
           "showland": true,
           "subunitcolor": "white"
          },
          "hoverlabel": {
           "align": "left"
          },
          "hovermode": "closest",
          "mapbox": {
           "style": "light"
          },
          "paper_bgcolor": "white",
          "plot_bgcolor": "#E5ECF6",
          "polar": {
           "angularaxis": {
            "gridcolor": "white",
            "linecolor": "white",
            "ticks": ""
           },
           "bgcolor": "#E5ECF6",
           "radialaxis": {
            "gridcolor": "white",
            "linecolor": "white",
            "ticks": ""
           }
          },
          "scene": {
           "xaxis": {
            "backgroundcolor": "#E5ECF6",
            "gridcolor": "white",
            "gridwidth": 2,
            "linecolor": "white",
            "showbackground": true,
            "ticks": "",
            "zerolinecolor": "white"
           },
           "yaxis": {
            "backgroundcolor": "#E5ECF6",
            "gridcolor": "white",
            "gridwidth": 2,
            "linecolor": "white",
            "showbackground": true,
            "ticks": "",
            "zerolinecolor": "white"
           },
           "zaxis": {
            "backgroundcolor": "#E5ECF6",
            "gridcolor": "white",
            "gridwidth": 2,
            "linecolor": "white",
            "showbackground": true,
            "ticks": "",
            "zerolinecolor": "white"
           }
          },
          "shapedefaults": {
           "line": {
            "color": "#2a3f5f"
           }
          },
          "ternary": {
           "aaxis": {
            "gridcolor": "white",
            "linecolor": "white",
            "ticks": ""
           },
           "baxis": {
            "gridcolor": "white",
            "linecolor": "white",
            "ticks": ""
           },
           "bgcolor": "#E5ECF6",
           "caxis": {
            "gridcolor": "white",
            "linecolor": "white",
            "ticks": ""
           }
          },
          "title": {
           "x": 0.05
          },
          "xaxis": {
           "automargin": true,
           "gridcolor": "white",
           "linecolor": "white",
           "ticks": "",
           "title": {
            "standoff": 15
           },
           "zerolinecolor": "white",
           "zerolinewidth": 2
          },
          "yaxis": {
           "automargin": true,
           "gridcolor": "white",
           "linecolor": "white",
           "ticks": "",
           "title": {
            "standoff": 15
           },
           "zerolinecolor": "white",
           "zerolinewidth": 2
          }
         }
        },
        "title": {
         "font": {
          "size": 20
         },
         "text": "Shoreline Change Rate PC   Risk Level Hotspot Distribution along Caribbean's shoreline",
         "x": 0.5,
         "xanchor": "center"
        },
        "width": 2000
       }
      }
     },
     "metadata": {},
     "output_type": "display_data"
    }
   ],
   "source": [
    "\n",
    "\n",
    "\n",
    "for idx,hotspot_points in enumerate(risk_type_hotspot_points_all):\n",
    "\n",
    "    \n",
    "\n",
    "    import plotly.express as px\n",
    "    import plotly.io as pio\n",
    "    import numpy as np\n",
    "    import os\n",
    "\n",
    "    gornitz_ESL_filled_gdf=hotspot_points\n",
    "\n",
    "    long_name = gornitz_ESL_filled_gdf.columns[0]\n",
    "    print_val=long_name.replace(\"_\",\" \")\n",
    "#Save CSVs\n",
    "    hotspot_points.to_csv(os.path.join(directory_path,f\"{print_val} Hotspot points.csv\"),index=False)\n",
    "\n",
    "\n",
    "    lat = 18.1\n",
    "    lon = -76.3\n",
    "    view_width = 10\n",
    "\n",
    "\n",
    "\n",
    "    gornitz_ESL_filled_gdf=hotspot_points\n",
    "   \n",
    "       # show only positive hotspots (increases) which filters out nans as well\n",
    "    filtered_gdf = gornitz_ESL_filled_gdf[gornitz_ESL_filled_gdf[long_name] > 0]\n",
    "\n",
    "    # Create scatter map plot\n",
    "    fig2 = px.scatter_mapbox(filtered_gdf.sort_values(by=long_name,ascending=False).iloc[0:3,:] ,\n",
    "                                    lat=\"lat\",\n",
    "                                    lon=\"lon\",\n",
    "                                    hover_name=\"address\",\n",
    "                                    color_discrete_sequence=[\"magenta\"],\n",
    "                                    width=2000,\n",
    "                                    height=1200)\n",
    "\n",
    "    fig = px.scatter_mapbox(filtered_gdf,\n",
    "                                    lat=\"lat\",\n",
    "                                    lon=\"lon\",\n",
    "                                    hover_name=\"address\",\n",
    "                                    color_discrete_sequence=[\"red\"],\n",
    "                                    width=2000,\n",
    "                                    height=1200)\n",
    "\n",
    "        # Add traces from fig2 to fig\n",
    "    for trace in fig2.data:\n",
    "        fig.add_trace(trace)\n",
    "\n",
    "    fig.update_layout(\n",
    "        mapbox=dict(center=dict(lat=lat + 1, lon=lon + 4), zoom=5.6),\n",
    "        title=dict(\n",
    "            text=f\"{print_val} Hotspot Distribution along Caribbean's shoreline\",\n",
    "            font=dict(size=20),\n",
    "            x=0.5,  # Centers the title\n",
    "            xanchor='center'  # Aligns the title in the center\n",
    "        )\n",
    "    )\n",
    "\n",
    "    \n",
    "    fig.update_traces(marker=dict(size=10))\n",
    "\n",
    "\n",
    "    fig.update_layout(\n",
    "        mapbox_style=\"carto-positron\",\n",
    "        mapbox_layers=[\n",
    "            {\n",
    "                \"below\": 'traces',\n",
    "                \"sourcetype\": \"raster\",\n",
    "                \"sourceattribution\": \"ESRI World Imagery\",\n",
    "                \"source\": [\n",
    "                    \"https://services.arcgisonline.com/arcgis/rest/services/World_Imagery/MapServer/tile/{z}/{y}/{x}\"\n",
    "                ]\n",
    "            },\n",
    "            # {\n",
    "            #     \"below\": 'traces',\n",
    "            #     \"sourcetype\": \"raster\",\n",
    "            #     \"sourceattribution\": \"Google Maps\",\n",
    "            #     \"source\": [\n",
    "            #         \"http://mt0.google.com/vt/lyrs=s&hl=en&x={x}&y={y}&z={z}\"\n",
    "            #     ]\n",
    "            # },\n",
    "            # {\n",
    "            #     \"below\": 'traces',\n",
    "            #     \"sourcetype\": \"raster\",\n",
    "            #     \"sourceattribution\": \"United States Geological Survey\",\n",
    "            #     \"source\": [\n",
    "            #         \"https://basemap.nationalmap.gov/arcgis/rest/services/USGSImageryOnly/MapServer/tile/{z}/{y}/{x}\"\n",
    "            #     ]\n",
    "            # },\n",
    "            # {\n",
    "            #     \"below\": 'traces',\n",
    "            #     \"sourcetype\": \"raster\",\n",
    "            #     \"sourceattribution\": \"Bing Maps Satellite Imagery\",\n",
    "            #     \"source\": [\n",
    "            #         \"https://t0.tiles.virtualearth.net/tiles/a{q}.jpeg?g=685&mkt=en-us&n=z\"\n",
    "            #     ]\n",
    "            # },\n",
    "        \n",
    "\n",
    "        ]\n",
    "        )\n",
    "\n",
    "\n",
    "\n",
    "\n",
    "    # # Save the figure\n",
    "    fig_name_shoreline = f\"{print_val} Hotspot points.png\"\n",
    "    pio.write_image(fig, os.path.join(img_directory_path, fig_name_shoreline))\n",
    "\n",
    "    # Show the figure\n",
    "    fig.show()"
   ]
  }
 ],
 "metadata": {
  "kernelspec": {
   "display_name": "Python 3",
   "language": "python",
   "name": "python3"
  },
  "language_info": {
   "codemirror_mode": {
    "name": "ipython",
    "version": 3
   },
   "file_extension": ".py",
   "mimetype": "text/x-python",
   "name": "python",
   "nbconvert_exporter": "python",
   "pygments_lexer": "ipython3",
   "version": "3.11.7"
  }
 },
 "nbformat": 4,
 "nbformat_minor": 2
}
