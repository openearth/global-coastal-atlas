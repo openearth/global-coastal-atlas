{
 "cells": [
  {
   "cell_type": "code",
   "execution_count": null,
   "metadata": {},
   "outputs": [],
   "source": []
  },
  {
   "cell_type": "code",
   "execution_count": 13,
   "metadata": {},
   "outputs": [],
   "source": [
    "import xarray as xr\n",
    "import geopandas as gpd\n",
    "import pandas as pd\n",
    "import utm\n",
    "import os\n",
    "\n"
   ]
  },
  {
   "cell_type": "code",
   "execution_count": 14,
   "metadata": {},
   "outputs": [],
   "source": [
    "directory_path=r\"P:\\11209197-018-global-coastal-atlas\\MSc_students\\ClenmarRowe\\Data\\Processed_data_CVI_components\\Caribbean Thesis_Results\\Hotspot Identification\\PC-CVI\"\n",
    "img_directory_path=r\"P:\\11209197-018-global-coastal-atlas\\MSc_students\\ClenmarRowe\\Data\\Processed_data_CVI_components\\Caribbean Thesis_Results\\Hotspot Identification\\PC-CVI\\plots\"\n",
    "\n",
    "os.makedirs(directory_path, exist_ok=True)\n",
    "os.makedirs(img_directory_path, exist_ok=True)"
   ]
  },
  {
   "cell_type": "code",
   "execution_count": 15,
   "metadata": {},
   "outputs": [],
   "source": [
    "def utmzone_gen(lat,lon):\n",
    "    utm_zone = utm.from_latlon(lat, lon)\n",
    "    utm_zone\n",
    "    if lat>=0:\n",
    "        transform = f\"EPSG:326{utm_zone[2]}\"\n",
    "    else:\n",
    "        transform = f\"EPSG:327{utm_zone[2]}\"\n",
    "    return transform"
   ]
  },
  {
   "cell_type": "code",
   "execution_count": 16,
   "metadata": {},
   "outputs": [
    {
     "data": {
      "text/html": [
       "<div>\n",
       "<style scoped>\n",
       "    .dataframe tbody tr th:only-of-type {\n",
       "        vertical-align: middle;\n",
       "    }\n",
       "\n",
       "    .dataframe tbody tr th {\n",
       "        vertical-align: top;\n",
       "    }\n",
       "\n",
       "    .dataframe thead th {\n",
       "        text-align: right;\n",
       "    }\n",
       "</style>\n",
       "<table border=\"1\" class=\"dataframe\">\n",
       "  <thead>\n",
       "    <tr style=\"text-align: right;\">\n",
       "      <th></th>\n",
       "      <th>Cat3_Hurricane_Return_Period_PC_PC___Hazard_Level</th>\n",
       "      <th>Cat3_Hurricane_Return_Period_PC_PC___Risk_Level</th>\n",
       "      <th>Cat3_Hurricane_Return_Period_PC_PC___Risk_Level_Class</th>\n",
       "      <th>Cat3_Hurricane_Return_Period_PC_PC_value</th>\n",
       "      <th>Confindence_perc</th>\n",
       "      <th>ESL_100yrRP_PC___Hazard_Level</th>\n",
       "      <th>ESL_100yrRP_PC___Risk_Level</th>\n",
       "      <th>ESL_100yrRP_PC___Risk_Level_Class</th>\n",
       "      <th>ESL_100yrRP_PC_value</th>\n",
       "      <th>EWH_100yrRP_PC___Hazard_Level</th>\n",
       "      <th>...</th>\n",
       "      <th>Shoreline_Change_Rate_PC_value</th>\n",
       "      <th>Uncertainty_Columns</th>\n",
       "      <th>Uncertainty_Columns_length</th>\n",
       "      <th>continent</th>\n",
       "      <th>country</th>\n",
       "      <th>country_id</th>\n",
       "      <th>lat</th>\n",
       "      <th>lon</th>\n",
       "      <th>transect_id</th>\n",
       "      <th>geometry</th>\n",
       "    </tr>\n",
       "    <tr>\n",
       "      <th>nstations</th>\n",
       "      <th></th>\n",
       "      <th></th>\n",
       "      <th></th>\n",
       "      <th></th>\n",
       "      <th></th>\n",
       "      <th></th>\n",
       "      <th></th>\n",
       "      <th></th>\n",
       "      <th></th>\n",
       "      <th></th>\n",
       "      <th></th>\n",
       "      <th></th>\n",
       "      <th></th>\n",
       "      <th></th>\n",
       "      <th></th>\n",
       "      <th></th>\n",
       "      <th></th>\n",
       "      <th></th>\n",
       "      <th></th>\n",
       "      <th></th>\n",
       "      <th></th>\n",
       "    </tr>\n",
       "  </thead>\n",
       "  <tbody>\n",
       "    <tr>\n",
       "      <th>0</th>\n",
       "      <td>3</td>\n",
       "      <td>3.3</td>\n",
       "      <td>3.0</td>\n",
       "      <td>Cat3_Hurricane_Return_Period_PC_percentile 7.0...</td>\n",
       "      <td>100.0</td>\n",
       "      <td>1.0</td>\n",
       "      <td>2.3</td>\n",
       "      <td>2.0</td>\n",
       "      <td>ESL_100yrRP_percentile 0.95m</td>\n",
       "      <td>1</td>\n",
       "      <td>...</td>\n",
       "      <td>Shoreline_Change_Rate_PC_percentile -16.44</td>\n",
       "      <td></td>\n",
       "      <td>0</td>\n",
       "      <td>South America</td>\n",
       "      <td>Colombia</td>\n",
       "      <td>COL</td>\n",
       "      <td>12.250684</td>\n",
       "      <td>-71.879805</td>\n",
       "      <td>BOX_116_353_2</td>\n",
       "      <td>POINT (-71.87980 12.25068)</td>\n",
       "    </tr>\n",
       "    <tr>\n",
       "      <th>1</th>\n",
       "      <td>3</td>\n",
       "      <td>2.9</td>\n",
       "      <td>3.0</td>\n",
       "      <td>Cat3_Hurricane_Return_Period_PC_percentile 7.0...</td>\n",
       "      <td>100.0</td>\n",
       "      <td>1.0</td>\n",
       "      <td>1.9</td>\n",
       "      <td>1.0</td>\n",
       "      <td>ESL_100yrRP_percentile 0.95m</td>\n",
       "      <td>1</td>\n",
       "      <td>...</td>\n",
       "      <td>Shoreline_Change_Rate_PC_percentile 0.34</td>\n",
       "      <td></td>\n",
       "      <td>0</td>\n",
       "      <td>South America</td>\n",
       "      <td>Colombia</td>\n",
       "      <td>COL</td>\n",
       "      <td>12.247308</td>\n",
       "      <td>-71.876981</td>\n",
       "      <td>BOX_116_353_3</td>\n",
       "      <td>POINT (-71.87698 12.24731)</td>\n",
       "    </tr>\n",
       "    <tr>\n",
       "      <th>2</th>\n",
       "      <td>3</td>\n",
       "      <td>3.3</td>\n",
       "      <td>3.0</td>\n",
       "      <td>Cat3_Hurricane_Return_Period_PC_percentile 7.0...</td>\n",
       "      <td>100.0</td>\n",
       "      <td>1.0</td>\n",
       "      <td>2.3</td>\n",
       "      <td>2.0</td>\n",
       "      <td>ESL_100yrRP_percentile 0.95m</td>\n",
       "      <td>1</td>\n",
       "      <td>...</td>\n",
       "      <td>Shoreline_Change_Rate_PC_percentile 1.88</td>\n",
       "      <td></td>\n",
       "      <td>0</td>\n",
       "      <td>South America</td>\n",
       "      <td>Colombia</td>\n",
       "      <td>COL</td>\n",
       "      <td>12.243144</td>\n",
       "      <td>-71.875632</td>\n",
       "      <td>BOX_116_353_4</td>\n",
       "      <td>POINT (-71.87563 12.24314)</td>\n",
       "    </tr>\n",
       "    <tr>\n",
       "      <th>3</th>\n",
       "      <td>3</td>\n",
       "      <td>3.1</td>\n",
       "      <td>3.0</td>\n",
       "      <td>Cat3_Hurricane_Return_Period_PC_percentile 7.0...</td>\n",
       "      <td>100.0</td>\n",
       "      <td>1.0</td>\n",
       "      <td>2.1</td>\n",
       "      <td>1.0</td>\n",
       "      <td>ESL_100yrRP_percentile 0.95m</td>\n",
       "      <td>1</td>\n",
       "      <td>...</td>\n",
       "      <td>Shoreline_Change_Rate_PC_percentile 0.49</td>\n",
       "      <td></td>\n",
       "      <td>0</td>\n",
       "      <td>South America</td>\n",
       "      <td>Colombia</td>\n",
       "      <td>COL</td>\n",
       "      <td>12.238772</td>\n",
       "      <td>-71.875233</td>\n",
       "      <td>BOX_116_353_5</td>\n",
       "      <td>POINT (-71.87523 12.23877)</td>\n",
       "    </tr>\n",
       "    <tr>\n",
       "      <th>4</th>\n",
       "      <td>3</td>\n",
       "      <td>3.1</td>\n",
       "      <td>3.0</td>\n",
       "      <td>Cat3_Hurricane_Return_Period_PC_percentile 7.0...</td>\n",
       "      <td>100.0</td>\n",
       "      <td>1.0</td>\n",
       "      <td>2.1</td>\n",
       "      <td>1.0</td>\n",
       "      <td>ESL_100yrRP_percentile 0.95m</td>\n",
       "      <td>1</td>\n",
       "      <td>...</td>\n",
       "      <td>Shoreline_Change_Rate_PC_percentile -0.05</td>\n",
       "      <td></td>\n",
       "      <td>0</td>\n",
       "      <td>South America</td>\n",
       "      <td>Colombia</td>\n",
       "      <td>COL</td>\n",
       "      <td>12.234400</td>\n",
       "      <td>-71.874835</td>\n",
       "      <td>BOX_116_353_6</td>\n",
       "      <td>POINT (-71.87483 12.23440)</td>\n",
       "    </tr>\n",
       "  </tbody>\n",
       "</table>\n",
       "<p>5 rows × 36 columns</p>\n",
       "</div>"
      ],
      "text/plain": [
       "           Cat3_Hurricane_Return_Period_PC_PC___Hazard_Level  \\\n",
       "nstations                                                      \n",
       "0                                                          3   \n",
       "1                                                          3   \n",
       "2                                                          3   \n",
       "3                                                          3   \n",
       "4                                                          3   \n",
       "\n",
       "           Cat3_Hurricane_Return_Period_PC_PC___Risk_Level  \\\n",
       "nstations                                                    \n",
       "0                                                      3.3   \n",
       "1                                                      2.9   \n",
       "2                                                      3.3   \n",
       "3                                                      3.1   \n",
       "4                                                      3.1   \n",
       "\n",
       "           Cat3_Hurricane_Return_Period_PC_PC___Risk_Level_Class  \\\n",
       "nstations                                                          \n",
       "0                                                        3.0       \n",
       "1                                                        3.0       \n",
       "2                                                        3.0       \n",
       "3                                                        3.0       \n",
       "4                                                        3.0       \n",
       "\n",
       "                    Cat3_Hurricane_Return_Period_PC_PC_value  \\\n",
       "nstations                                                      \n",
       "0          Cat3_Hurricane_Return_Period_PC_percentile 7.0...   \n",
       "1          Cat3_Hurricane_Return_Period_PC_percentile 7.0...   \n",
       "2          Cat3_Hurricane_Return_Period_PC_percentile 7.0...   \n",
       "3          Cat3_Hurricane_Return_Period_PC_percentile 7.0...   \n",
       "4          Cat3_Hurricane_Return_Period_PC_percentile 7.0...   \n",
       "\n",
       "           Confindence_perc  ESL_100yrRP_PC___Hazard_Level  \\\n",
       "nstations                                                    \n",
       "0                     100.0                            1.0   \n",
       "1                     100.0                            1.0   \n",
       "2                     100.0                            1.0   \n",
       "3                     100.0                            1.0   \n",
       "4                     100.0                            1.0   \n",
       "\n",
       "           ESL_100yrRP_PC___Risk_Level  ESL_100yrRP_PC___Risk_Level_Class  \\\n",
       "nstations                                                                   \n",
       "0                                  2.3                                2.0   \n",
       "1                                  1.9                                1.0   \n",
       "2                                  2.3                                2.0   \n",
       "3                                  2.1                                1.0   \n",
       "4                                  2.1                                1.0   \n",
       "\n",
       "                   ESL_100yrRP_PC_value  EWH_100yrRP_PC___Hazard_Level  ...  \\\n",
       "nstations                                                               ...   \n",
       "0          ESL_100yrRP_percentile 0.95m                              1  ...   \n",
       "1          ESL_100yrRP_percentile 0.95m                              1  ...   \n",
       "2          ESL_100yrRP_percentile 0.95m                              1  ...   \n",
       "3          ESL_100yrRP_percentile 0.95m                              1  ...   \n",
       "4          ESL_100yrRP_percentile 0.95m                              1  ...   \n",
       "\n",
       "                       Shoreline_Change_Rate_PC_value  Uncertainty_Columns  \\\n",
       "nstations                                                                    \n",
       "0          Shoreline_Change_Rate_PC_percentile -16.44                        \n",
       "1            Shoreline_Change_Rate_PC_percentile 0.34                        \n",
       "2            Shoreline_Change_Rate_PC_percentile 1.88                        \n",
       "3            Shoreline_Change_Rate_PC_percentile 0.49                        \n",
       "4           Shoreline_Change_Rate_PC_percentile -0.05                        \n",
       "\n",
       "          Uncertainty_Columns_length      continent   country  country_id  \\\n",
       "nstations                                                                   \n",
       "0                                  0  South America  Colombia         COL   \n",
       "1                                  0  South America  Colombia         COL   \n",
       "2                                  0  South America  Colombia         COL   \n",
       "3                                  0  South America  Colombia         COL   \n",
       "4                                  0  South America  Colombia         COL   \n",
       "\n",
       "                 lat        lon    transect_id                    geometry  \n",
       "nstations                                                                   \n",
       "0          12.250684 -71.879805  BOX_116_353_2  POINT (-71.87980 12.25068)  \n",
       "1          12.247308 -71.876981  BOX_116_353_3  POINT (-71.87698 12.24731)  \n",
       "2          12.243144 -71.875632  BOX_116_353_4  POINT (-71.87563 12.24314)  \n",
       "3          12.238772 -71.875233  BOX_116_353_5  POINT (-71.87523 12.23877)  \n",
       "4          12.234400 -71.874835  BOX_116_353_6  POINT (-71.87483 12.23440)  \n",
       "\n",
       "[5 rows x 36 columns]"
      ]
     },
     "execution_count": 16,
     "metadata": {},
     "output_type": "execute_result"
    }
   ],
   "source": [
    "\n",
    "ds=xr.open_zarr(r\"P:\\11209197-018-global-coastal-atlas\\MSc_students\\ClenmarRowe\\Data\\Processed_Risk_Levels_PC_FC_Merged\\Caribbean_Thesis\\Haz-Exp-CVI\\PC_FC_H-E_merged_Carib_final.zarr\")\n",
    "SOTC_df=ds.to_dataframe()\n",
    "SOTC_gdf = gpd.GeoDataFrame(\n",
    "    SOTC_df, geometry=gpd.points_from_xy(SOTC_df.lon, SOTC_df.lat), crs=\"EPSG:4326\"\n",
    ")\n",
    "#Covert Bytes to string\n",
    "for column in SOTC_gdf.columns:\n",
    "    # Check if the column contains bytes\n",
    "    if SOTC_gdf[column].dtype == 'object':\n",
    "        if SOTC_gdf[column].apply(lambda x: isinstance(x, bytes)).any():\n",
    "            # Decode bytes to string\n",
    "            SOTC_gdf[column] = SOTC_gdf[column].apply(lambda x: x.decode() if isinstance(x, bytes) else x)\n",
    "SOTC_gdf.head()"
   ]
  },
  {
   "cell_type": "code",
   "execution_count": 17,
   "metadata": {},
   "outputs": [
    {
     "data": {
      "text/plain": [
       "Index(['Cat3_Hurricane_Return_Period_PC_PC___Hazard_Level',\n",
       "       'Cat3_Hurricane_Return_Period_PC_PC___Risk_Level',\n",
       "       'Cat3_Hurricane_Return_Period_PC_PC___Risk_Level_Class',\n",
       "       'Cat3_Hurricane_Return_Period_PC_PC_value', 'Confindence_perc',\n",
       "       'ESL_100yrRP_PC___Hazard_Level', 'ESL_100yrRP_PC___Risk_Level',\n",
       "       'ESL_100yrRP_PC___Risk_Level_Class', 'ESL_100yrRP_PC_value',\n",
       "       'EWH_100yrRP_PC___Hazard_Level', 'EWH_100yrRP_PC___Risk_Level',\n",
       "       'EWH_100yrRP_PC___Risk_Level_Class', 'EWH_100yrRP_PC_value',\n",
       "       'IPCC_REGION', 'LECZ_Area_LECZ_mean_elevation___Exposure_level',\n",
       "       'Land_Subsidence_2010_PC___Hazard_Level',\n",
       "       'Land_Subsidence_2010_PC___Risk_Level',\n",
       "       'Land_Subsidence_2010_PC___Risk_Level_Class',\n",
       "       'Land_Subsidence_2010_PC_value',\n",
       "       'Neashore_Slope_tanB_or_m_1___Exposure_level',\n",
       "       'Percentage_of_Built_Up_Area___Exposure_level',\n",
       "       'Population_Within_1km_of_the_coastline___Exposure_level',\n",
       "       'Sediment_Type___Exposure_level',\n",
       "       'Shoreline_Change_Rate_PC___Hazard_Level',\n",
       "       'Shoreline_Change_Rate_PC___Risk_Level',\n",
       "       'Shoreline_Change_Rate_PC___Risk_Level_Class',\n",
       "       'Shoreline_Change_Rate_PC_value', 'Uncertainty_Columns',\n",
       "       'Uncertainty_Columns_length', 'continent', 'country', 'country_id',\n",
       "       'lat', 'lon', 'transect_id', 'geometry'],\n",
       "      dtype='object')"
      ]
     },
     "execution_count": 17,
     "metadata": {},
     "output_type": "execute_result"
    }
   ],
   "source": [
    "SOTC_gdf.columns\n"
   ]
  },
  {
   "cell_type": "code",
   "execution_count": 18,
   "metadata": {},
   "outputs": [
    {
     "data": {
      "text/plain": [
       "['Cat3_Hurricane_Return_Period_PC_PC___Risk_Level',\n",
       " 'ESL_100yrRP_PC___Risk_Level',\n",
       " 'EWH_100yrRP_PC___Risk_Level',\n",
       " 'Land_Subsidence_2010_PC___Risk_Level',\n",
       " 'Shoreline_Change_Rate_PC___Risk_Level']"
      ]
     },
     "execution_count": 18,
     "metadata": {},
     "output_type": "execute_result"
    }
   ],
   "source": [
    "col = [colu for colu in SOTC_gdf.columns if (\"Risk_Level\" in colu and \"Class\" not in colu)]\n",
    "col\n"
   ]
  },
  {
   "cell_type": "code",
   "execution_count": 19,
   "metadata": {},
   "outputs": [
    {
     "data": {
      "text/html": [
       "<div>\n",
       "<style scoped>\n",
       "    .dataframe tbody tr th:only-of-type {\n",
       "        vertical-align: middle;\n",
       "    }\n",
       "\n",
       "    .dataframe tbody tr th {\n",
       "        vertical-align: top;\n",
       "    }\n",
       "\n",
       "    .dataframe thead th {\n",
       "        text-align: right;\n",
       "    }\n",
       "</style>\n",
       "<table border=\"1\" class=\"dataframe\">\n",
       "  <thead>\n",
       "    <tr style=\"text-align: right;\">\n",
       "      <th></th>\n",
       "      <th>Cat3_Hurricane_Return_Period_PC_PC___Risk_Level</th>\n",
       "      <th>ESL_100yrRP_PC___Risk_Level</th>\n",
       "      <th>EWH_100yrRP_PC___Risk_Level</th>\n",
       "      <th>Land_Subsidence_2010_PC___Risk_Level</th>\n",
       "      <th>Shoreline_Change_Rate_PC___Risk_Level</th>\n",
       "      <th>continent</th>\n",
       "      <th>country</th>\n",
       "      <th>country_id</th>\n",
       "      <th>lat</th>\n",
       "      <th>lon</th>\n",
       "      <th>transect_id</th>\n",
       "      <th>geometry</th>\n",
       "    </tr>\n",
       "    <tr>\n",
       "      <th>nstations</th>\n",
       "      <th></th>\n",
       "      <th></th>\n",
       "      <th></th>\n",
       "      <th></th>\n",
       "      <th></th>\n",
       "      <th></th>\n",
       "      <th></th>\n",
       "      <th></th>\n",
       "      <th></th>\n",
       "      <th></th>\n",
       "      <th></th>\n",
       "      <th></th>\n",
       "    </tr>\n",
       "  </thead>\n",
       "  <tbody>\n",
       "    <tr>\n",
       "      <th>0</th>\n",
       "      <td>3.3</td>\n",
       "      <td>2.3</td>\n",
       "      <td>2.3</td>\n",
       "      <td>NaN</td>\n",
       "      <td>4.3</td>\n",
       "      <td>South America</td>\n",
       "      <td>Colombia</td>\n",
       "      <td>COL</td>\n",
       "      <td>12.250684</td>\n",
       "      <td>-71.879805</td>\n",
       "      <td>BOX_116_353_2</td>\n",
       "      <td>POINT (-71.87980 12.25068)</td>\n",
       "    </tr>\n",
       "    <tr>\n",
       "      <th>1</th>\n",
       "      <td>2.9</td>\n",
       "      <td>1.9</td>\n",
       "      <td>1.9</td>\n",
       "      <td>NaN</td>\n",
       "      <td>1.9</td>\n",
       "      <td>South America</td>\n",
       "      <td>Colombia</td>\n",
       "      <td>COL</td>\n",
       "      <td>12.247308</td>\n",
       "      <td>-71.876981</td>\n",
       "      <td>BOX_116_353_3</td>\n",
       "      <td>POINT (-71.87698 12.24731)</td>\n",
       "    </tr>\n",
       "    <tr>\n",
       "      <th>2</th>\n",
       "      <td>3.3</td>\n",
       "      <td>2.3</td>\n",
       "      <td>2.3</td>\n",
       "      <td>NaN</td>\n",
       "      <td>2.3</td>\n",
       "      <td>South America</td>\n",
       "      <td>Colombia</td>\n",
       "      <td>COL</td>\n",
       "      <td>12.243144</td>\n",
       "      <td>-71.875632</td>\n",
       "      <td>BOX_116_353_4</td>\n",
       "      <td>POINT (-71.87563 12.24314)</td>\n",
       "    </tr>\n",
       "    <tr>\n",
       "      <th>3</th>\n",
       "      <td>3.1</td>\n",
       "      <td>2.1</td>\n",
       "      <td>2.1</td>\n",
       "      <td>NaN</td>\n",
       "      <td>2.1</td>\n",
       "      <td>South America</td>\n",
       "      <td>Colombia</td>\n",
       "      <td>COL</td>\n",
       "      <td>12.238772</td>\n",
       "      <td>-71.875233</td>\n",
       "      <td>BOX_116_353_5</td>\n",
       "      <td>POINT (-71.87523 12.23877)</td>\n",
       "    </tr>\n",
       "    <tr>\n",
       "      <th>4</th>\n",
       "      <td>3.1</td>\n",
       "      <td>2.1</td>\n",
       "      <td>2.1</td>\n",
       "      <td>NaN</td>\n",
       "      <td>2.1</td>\n",
       "      <td>South America</td>\n",
       "      <td>Colombia</td>\n",
       "      <td>COL</td>\n",
       "      <td>12.234400</td>\n",
       "      <td>-71.874835</td>\n",
       "      <td>BOX_116_353_6</td>\n",
       "      <td>POINT (-71.87483 12.23440)</td>\n",
       "    </tr>\n",
       "    <tr>\n",
       "      <th>...</th>\n",
       "      <td>...</td>\n",
       "      <td>...</td>\n",
       "      <td>...</td>\n",
       "      <td>...</td>\n",
       "      <td>...</td>\n",
       "      <td>...</td>\n",
       "      <td>...</td>\n",
       "      <td>...</td>\n",
       "      <td>...</td>\n",
       "      <td>...</td>\n",
       "      <td>...</td>\n",
       "      <td>...</td>\n",
       "    </tr>\n",
       "    <tr>\n",
       "      <th>37504</th>\n",
       "      <td>3.5</td>\n",
       "      <td>3.0</td>\n",
       "      <td>3.0</td>\n",
       "      <td>3.0</td>\n",
       "      <td>2.5</td>\n",
       "      <td>North America</td>\n",
       "      <td>Dominican Republic</td>\n",
       "      <td>DOM</td>\n",
       "      <td>17.965259</td>\n",
       "      <td>-71.668186</td>\n",
       "      <td>BOX_139_002_61</td>\n",
       "      <td>POINT (-71.66819 17.96526)</td>\n",
       "    </tr>\n",
       "    <tr>\n",
       "      <th>37505</th>\n",
       "      <td>3.5</td>\n",
       "      <td>3.0</td>\n",
       "      <td>3.0</td>\n",
       "      <td>3.0</td>\n",
       "      <td>2.5</td>\n",
       "      <td>North America</td>\n",
       "      <td>Dominican Republic</td>\n",
       "      <td>DOM</td>\n",
       "      <td>17.961418</td>\n",
       "      <td>-71.666228</td>\n",
       "      <td>BOX_139_002_62</td>\n",
       "      <td>POINT (-71.66623 17.96142)</td>\n",
       "    </tr>\n",
       "    <tr>\n",
       "      <th>37506</th>\n",
       "      <td>3.6</td>\n",
       "      <td>3.1</td>\n",
       "      <td>3.1</td>\n",
       "      <td>3.1</td>\n",
       "      <td>2.6</td>\n",
       "      <td>North America</td>\n",
       "      <td>Dominican Republic</td>\n",
       "      <td>DOM</td>\n",
       "      <td>17.957442</td>\n",
       "      <td>-71.664583</td>\n",
       "      <td>BOX_139_002_63</td>\n",
       "      <td>POINT (-71.66458 17.95744)</td>\n",
       "    </tr>\n",
       "    <tr>\n",
       "      <th>37507</th>\n",
       "      <td>3.6</td>\n",
       "      <td>3.1</td>\n",
       "      <td>3.1</td>\n",
       "      <td>3.1</td>\n",
       "      <td>2.6</td>\n",
       "      <td>North America</td>\n",
       "      <td>Dominican Republic</td>\n",
       "      <td>DOM</td>\n",
       "      <td>17.953466</td>\n",
       "      <td>-71.662937</td>\n",
       "      <td>BOX_139_002_64</td>\n",
       "      <td>POINT (-71.66294 17.95347)</td>\n",
       "    </tr>\n",
       "    <tr>\n",
       "      <th>37508</th>\n",
       "      <td>3.5</td>\n",
       "      <td>3.0</td>\n",
       "      <td>3.0</td>\n",
       "      <td>3.0</td>\n",
       "      <td>2.5</td>\n",
       "      <td>North America</td>\n",
       "      <td>Dominican Republic</td>\n",
       "      <td>DOM</td>\n",
       "      <td>17.949491</td>\n",
       "      <td>-71.661291</td>\n",
       "      <td>BOX_139_002_65</td>\n",
       "      <td>POINT (-71.66129 17.94949)</td>\n",
       "    </tr>\n",
       "  </tbody>\n",
       "</table>\n",
       "<p>37509 rows × 12 columns</p>\n",
       "</div>"
      ],
      "text/plain": [
       "           Cat3_Hurricane_Return_Period_PC_PC___Risk_Level  \\\n",
       "nstations                                                    \n",
       "0                                                      3.3   \n",
       "1                                                      2.9   \n",
       "2                                                      3.3   \n",
       "3                                                      3.1   \n",
       "4                                                      3.1   \n",
       "...                                                    ...   \n",
       "37504                                                  3.5   \n",
       "37505                                                  3.5   \n",
       "37506                                                  3.6   \n",
       "37507                                                  3.6   \n",
       "37508                                                  3.5   \n",
       "\n",
       "           ESL_100yrRP_PC___Risk_Level  EWH_100yrRP_PC___Risk_Level  \\\n",
       "nstations                                                             \n",
       "0                                  2.3                          2.3   \n",
       "1                                  1.9                          1.9   \n",
       "2                                  2.3                          2.3   \n",
       "3                                  2.1                          2.1   \n",
       "4                                  2.1                          2.1   \n",
       "...                                ...                          ...   \n",
       "37504                              3.0                          3.0   \n",
       "37505                              3.0                          3.0   \n",
       "37506                              3.1                          3.1   \n",
       "37507                              3.1                          3.1   \n",
       "37508                              3.0                          3.0   \n",
       "\n",
       "           Land_Subsidence_2010_PC___Risk_Level  \\\n",
       "nstations                                         \n",
       "0                                           NaN   \n",
       "1                                           NaN   \n",
       "2                                           NaN   \n",
       "3                                           NaN   \n",
       "4                                           NaN   \n",
       "...                                         ...   \n",
       "37504                                       3.0   \n",
       "37505                                       3.0   \n",
       "37506                                       3.1   \n",
       "37507                                       3.1   \n",
       "37508                                       3.0   \n",
       "\n",
       "           Shoreline_Change_Rate_PC___Risk_Level      continent  \\\n",
       "nstations                                                         \n",
       "0                                            4.3  South America   \n",
       "1                                            1.9  South America   \n",
       "2                                            2.3  South America   \n",
       "3                                            2.1  South America   \n",
       "4                                            2.1  South America   \n",
       "...                                          ...            ...   \n",
       "37504                                        2.5  North America   \n",
       "37505                                        2.5  North America   \n",
       "37506                                        2.6  North America   \n",
       "37507                                        2.6  North America   \n",
       "37508                                        2.5  North America   \n",
       "\n",
       "                      country country_id        lat        lon  \\\n",
       "nstations                                                        \n",
       "0                    Colombia        COL  12.250684 -71.879805   \n",
       "1                    Colombia        COL  12.247308 -71.876981   \n",
       "2                    Colombia        COL  12.243144 -71.875632   \n",
       "3                    Colombia        COL  12.238772 -71.875233   \n",
       "4                    Colombia        COL  12.234400 -71.874835   \n",
       "...                       ...        ...        ...        ...   \n",
       "37504      Dominican Republic        DOM  17.965259 -71.668186   \n",
       "37505      Dominican Republic        DOM  17.961418 -71.666228   \n",
       "37506      Dominican Republic        DOM  17.957442 -71.664583   \n",
       "37507      Dominican Republic        DOM  17.953466 -71.662937   \n",
       "37508      Dominican Republic        DOM  17.949491 -71.661291   \n",
       "\n",
       "              transect_id                    geometry  \n",
       "nstations                                              \n",
       "0           BOX_116_353_2  POINT (-71.87980 12.25068)  \n",
       "1           BOX_116_353_3  POINT (-71.87698 12.24731)  \n",
       "2           BOX_116_353_4  POINT (-71.87563 12.24314)  \n",
       "3           BOX_116_353_5  POINT (-71.87523 12.23877)  \n",
       "4           BOX_116_353_6  POINT (-71.87483 12.23440)  \n",
       "...                   ...                         ...  \n",
       "37504      BOX_139_002_61  POINT (-71.66819 17.96526)  \n",
       "37505      BOX_139_002_62  POINT (-71.66623 17.96142)  \n",
       "37506      BOX_139_002_63  POINT (-71.66458 17.95744)  \n",
       "37507      BOX_139_002_64  POINT (-71.66294 17.95347)  \n",
       "37508      BOX_139_002_65  POINT (-71.66129 17.94949)  \n",
       "\n",
       "[37509 rows x 12 columns]"
      ]
     },
     "execution_count": 19,
     "metadata": {},
     "output_type": "execute_result"
    }
   ],
   "source": [
    "orig_hotspot=pd.concat([SOTC_gdf[col],SOTC_gdf.iloc[:,-7:]],axis=1)\n",
    "orig_hotspot = gpd.GeoDataFrame(\n",
    "    orig_hotspot, geometry=gpd.points_from_xy(orig_hotspot.lon, orig_hotspot.lat), crs=\"EPSG:4326\"\n",
    ")\n",
    "hotspot=orig_hotspot.copy()\n",
    "hotspot"
   ]
  },
  {
   "cell_type": "code",
   "execution_count": 20,
   "metadata": {},
   "outputs": [
    {
     "data": {
      "text/plain": [
       "28"
      ]
     },
     "execution_count": 20,
     "metadata": {},
     "output_type": "execute_result"
    }
   ],
   "source": [
    "unique_countries=hotspot[\"country\"].unique()\n",
    "unique_countries\n",
    "unique_countries = unique_countries[unique_countries != 'unknown']\n",
    "len(unique_countries)"
   ]
  },
  {
   "cell_type": "code",
   "execution_count": 21,
   "metadata": {},
   "outputs": [
    {
     "data": {
      "text/plain": [
       "['Cat3_Hurricane_Return_Period_PC_PC___Risk_Level',\n",
       " 'ESL_100yrRP_PC___Risk_Level',\n",
       " 'EWH_100yrRP_PC___Risk_Level',\n",
       " 'Land_Subsidence_2010_PC___Risk_Level',\n",
       " 'Shoreline_Change_Rate_PC___Risk_Level']"
      ]
     },
     "execution_count": 21,
     "metadata": {},
     "output_type": "execute_result"
    }
   ],
   "source": [
    "col\n",
    "PC_col=[colu for colu in col if \"PC\" in colu]\n",
    "PC_col"
   ]
  },
  {
   "cell_type": "code",
   "execution_count": 22,
   "metadata": {},
   "outputs": [
    {
     "name": "stdout",
     "output_type": "stream",
     "text": [
      "Only 1 points availiable for Saint Barthelemy.\n",
      "Only 1 points availiable for Saint Barthelemy.\n",
      "Only 1 points availiable for Saint Barthelemy.\n",
      "Only 1 points availiable for Saint Barthelemy.\n",
      "Only 1 points availiable for Saint Barthelemy.\n"
     ]
    },
    {
     "data": {
      "text/html": [
       "<div>\n",
       "<style scoped>\n",
       "    .dataframe tbody tr th:only-of-type {\n",
       "        vertical-align: middle;\n",
       "    }\n",
       "\n",
       "    .dataframe tbody tr th {\n",
       "        vertical-align: top;\n",
       "    }\n",
       "\n",
       "    .dataframe thead th {\n",
       "        text-align: right;\n",
       "    }\n",
       "</style>\n",
       "<table border=\"1\" class=\"dataframe\">\n",
       "  <thead>\n",
       "    <tr style=\"text-align: right;\">\n",
       "      <th></th>\n",
       "      <th>Cat3_Hurricane_Return_Period_PC_PC___Risk_Level</th>\n",
       "      <th>continent</th>\n",
       "      <th>country</th>\n",
       "      <th>country_id</th>\n",
       "      <th>lat</th>\n",
       "      <th>lon</th>\n",
       "      <th>transect_id</th>\n",
       "      <th>geometry</th>\n",
       "      <th>distance (m)</th>\n",
       "    </tr>\n",
       "    <tr>\n",
       "      <th>nstations</th>\n",
       "      <th></th>\n",
       "      <th></th>\n",
       "      <th></th>\n",
       "      <th></th>\n",
       "      <th></th>\n",
       "      <th></th>\n",
       "      <th></th>\n",
       "      <th></th>\n",
       "      <th></th>\n",
       "    </tr>\n",
       "  </thead>\n",
       "  <tbody>\n",
       "    <tr>\n",
       "      <th>36</th>\n",
       "      <td>3.8</td>\n",
       "      <td>South America</td>\n",
       "      <td>Colombia</td>\n",
       "      <td>COL</td>\n",
       "      <td>12.158030</td>\n",
       "      <td>-71.980988</td>\n",
       "      <td>BOX_116_353_43</td>\n",
       "      <td>POINT (-71.98099 12.15803)</td>\n",
       "      <td>NaN</td>\n",
       "    </tr>\n",
       "    <tr>\n",
       "      <th>63</th>\n",
       "      <td>3.6</td>\n",
       "      <td>South America</td>\n",
       "      <td>Colombia</td>\n",
       "      <td>COL</td>\n",
       "      <td>12.253270</td>\n",
       "      <td>-71.971853</td>\n",
       "      <td>BOX_116_353_70</td>\n",
       "      <td>POINT (-71.97185 12.25327)</td>\n",
       "      <td>10592.155742</td>\n",
       "    </tr>\n",
       "    <tr>\n",
       "      <th>149</th>\n",
       "      <td>3.4</td>\n",
       "      <td>South America</td>\n",
       "      <td>Colombia</td>\n",
       "      <td>COL</td>\n",
       "      <td>12.032842</td>\n",
       "      <td>-72.170861</td>\n",
       "      <td>BOX_116_352_32</td>\n",
       "      <td>POINT (-72.17086 12.03284)</td>\n",
       "      <td>32648.048626</td>\n",
       "    </tr>\n",
       "    <tr>\n",
       "      <th>3617</th>\n",
       "      <td>3.5</td>\n",
       "      <td>North America</td>\n",
       "      <td>Saint Kitts and Nevis</td>\n",
       "      <td>KNA</td>\n",
       "      <td>17.323179</td>\n",
       "      <td>-62.699798</td>\n",
       "      <td>BOX_117_253_111</td>\n",
       "      <td>POINT (-62.69980 17.32318)</td>\n",
       "      <td>NaN</td>\n",
       "    </tr>\n",
       "    <tr>\n",
       "      <th>3661</th>\n",
       "      <td>3.5</td>\n",
       "      <td>North America</td>\n",
       "      <td>Saint Kitts and Nevis</td>\n",
       "      <td>KNA</td>\n",
       "      <td>17.152829</td>\n",
       "      <td>-62.628926</td>\n",
       "      <td>BOX_117_253_155</td>\n",
       "      <td>POINT (-62.62893 17.15283)</td>\n",
       "      <td>20295.996937</td>\n",
       "    </tr>\n",
       "    <tr>\n",
       "      <th>...</th>\n",
       "      <td>...</td>\n",
       "      <td>...</td>\n",
       "      <td>...</td>\n",
       "      <td>...</td>\n",
       "      <td>...</td>\n",
       "      <td>...</td>\n",
       "      <td>...</td>\n",
       "      <td>...</td>\n",
       "      <td>...</td>\n",
       "    </tr>\n",
       "    <tr>\n",
       "      <th>35091</th>\n",
       "      <td>4.5</td>\n",
       "      <td>North America</td>\n",
       "      <td>Anguilla</td>\n",
       "      <td>AIA</td>\n",
       "      <td>18.184940</td>\n",
       "      <td>-63.136737</td>\n",
       "      <td>BOX_139_090_15</td>\n",
       "      <td>POINT (-63.13674 18.18494)</td>\n",
       "      <td>NaN</td>\n",
       "    </tr>\n",
       "    <tr>\n",
       "      <th>33635</th>\n",
       "      <td>4.4</td>\n",
       "      <td>North America</td>\n",
       "      <td>Anguilla</td>\n",
       "      <td>AIA</td>\n",
       "      <td>18.232756</td>\n",
       "      <td>-62.986524</td>\n",
       "      <td>BOX_139_092_53</td>\n",
       "      <td>POINT (-62.98652 18.23276)</td>\n",
       "      <td>16741.015394</td>\n",
       "    </tr>\n",
       "    <tr>\n",
       "      <th>35256</th>\n",
       "      <td>4.4</td>\n",
       "      <td>North America</td>\n",
       "      <td>Anguilla</td>\n",
       "      <td>AIA</td>\n",
       "      <td>18.105710</td>\n",
       "      <td>-63.021894</td>\n",
       "      <td>BOX_139_090_184</td>\n",
       "      <td>POINT (-63.02189 18.10571)</td>\n",
       "      <td>14545.352121</td>\n",
       "    </tr>\n",
       "    <tr>\n",
       "      <th>35212</th>\n",
       "      <td>4.6</td>\n",
       "      <td>North America</td>\n",
       "      <td>Saint Martin</td>\n",
       "      <td>MAF</td>\n",
       "      <td>18.037055</td>\n",
       "      <td>-63.119859</td>\n",
       "      <td>BOX_139_090_137</td>\n",
       "      <td>POINT (-63.11986 18.03705)</td>\n",
       "      <td>NaN</td>\n",
       "    </tr>\n",
       "    <tr>\n",
       "      <th>35245</th>\n",
       "      <td>4.5</td>\n",
       "      <td>North America</td>\n",
       "      <td>Saint Martin</td>\n",
       "      <td>MAF</td>\n",
       "      <td>18.057617</td>\n",
       "      <td>-63.016270</td>\n",
       "      <td>BOX_139_090_170</td>\n",
       "      <td>POINT (-63.01627 18.05762)</td>\n",
       "      <td>11196.759509</td>\n",
       "    </tr>\n",
       "  </tbody>\n",
       "</table>\n",
       "<p>80 rows × 9 columns</p>\n",
       "</div>"
      ],
      "text/plain": [
       "           Cat3_Hurricane_Return_Period_PC_PC___Risk_Level      continent  \\\n",
       "nstations                                                                   \n",
       "36                                                     3.8  South America   \n",
       "63                                                     3.6  South America   \n",
       "149                                                    3.4  South America   \n",
       "3617                                                   3.5  North America   \n",
       "3661                                                   3.5  North America   \n",
       "...                                                    ...            ...   \n",
       "35091                                                  4.5  North America   \n",
       "33635                                                  4.4  North America   \n",
       "35256                                                  4.4  North America   \n",
       "35212                                                  4.6  North America   \n",
       "35245                                                  4.5  North America   \n",
       "\n",
       "                         country country_id        lat        lon  \\\n",
       "nstations                                                           \n",
       "36                      Colombia        COL  12.158030 -71.980988   \n",
       "63                      Colombia        COL  12.253270 -71.971853   \n",
       "149                     Colombia        COL  12.032842 -72.170861   \n",
       "3617       Saint Kitts and Nevis        KNA  17.323179 -62.699798   \n",
       "3661       Saint Kitts and Nevis        KNA  17.152829 -62.628926   \n",
       "...                          ...        ...        ...        ...   \n",
       "35091                   Anguilla        AIA  18.184940 -63.136737   \n",
       "33635                   Anguilla        AIA  18.232756 -62.986524   \n",
       "35256                   Anguilla        AIA  18.105710 -63.021894   \n",
       "35212               Saint Martin        MAF  18.037055 -63.119859   \n",
       "35245               Saint Martin        MAF  18.057617 -63.016270   \n",
       "\n",
       "               transect_id                    geometry  distance (m)  \n",
       "nstations                                                             \n",
       "36          BOX_116_353_43  POINT (-71.98099 12.15803)           NaN  \n",
       "63          BOX_116_353_70  POINT (-71.97185 12.25327)  10592.155742  \n",
       "149         BOX_116_352_32  POINT (-72.17086 12.03284)  32648.048626  \n",
       "3617       BOX_117_253_111  POINT (-62.69980 17.32318)           NaN  \n",
       "3661       BOX_117_253_155  POINT (-62.62893 17.15283)  20295.996937  \n",
       "...                    ...                         ...           ...  \n",
       "35091       BOX_139_090_15  POINT (-63.13674 18.18494)           NaN  \n",
       "33635       BOX_139_092_53  POINT (-62.98652 18.23276)  16741.015394  \n",
       "35256      BOX_139_090_184  POINT (-63.02189 18.10571)  14545.352121  \n",
       "35212      BOX_139_090_137  POINT (-63.11986 18.03705)           NaN  \n",
       "35245      BOX_139_090_170  POINT (-63.01627 18.05762)  11196.759509  \n",
       "\n",
       "[80 rows x 9 columns]"
      ]
     },
     "execution_count": 22,
     "metadata": {},
     "output_type": "execute_result"
    }
   ],
   "source": [
    "min_separation_radius=10000\n",
    "hotspots_per_country=3\n",
    "\n",
    "risk_type_hotspot_points_all=[]\n",
    "for risk_type in PC_col:\n",
    "    for idx_main,country in enumerate(unique_countries):\n",
    "\n",
    "        hotspot_country=hotspot.loc[hotspot[\"country\"]==country,:].copy()\n",
    "        hotspot_country_ranked=pd.concat([hotspot_country[risk_type],hotspot_country.iloc[:,-7:]],axis=1)\n",
    "        hotspot_country_ranked = gpd.GeoDataFrame(\n",
    "            hotspot_country_ranked, geometry=gpd.points_from_xy(hotspot_country_ranked.lon, hotspot_country_ranked.lat), crs=\"EPSG:4326\"\n",
    "        )\n",
    "        hotspot_country_ranked=hotspot_country_ranked.sort_values(by=risk_type,ascending=False)\n",
    "\n",
    "        hotspot_country_ranked\n",
    "\n",
    "\n",
    "\n",
    "        hotspot_points=hotspot_country_ranked.iloc[0:1,:]\n",
    "        for idx in range(0,hotspots_per_country-1):\n",
    "\n",
    "\n",
    "            try:\n",
    "                utm_zone=utmzone_gen(hotspot_country_ranked.lat.values[0],hotspot_country_ranked.lon.values[0])\n",
    "            except IndexError as e:\n",
    "                print(f\"Only {len(hotspot_points.iloc[:,0])} points availiable for {country}.\")\n",
    "                continue\n",
    "            # Reproject to a planar CRS for accurate distance calculation\n",
    "            hotspot_country_ranked = hotspot_country_ranked.to_crs(epsg=int(utm_zone.replace(\"EPSG:\",\"\"))) \n",
    "\n",
    "            # Calculate distance from the first row to all other rows\n",
    "            first_point = hotspot_country_ranked.geometry.iloc[0]\n",
    "            hotspot_country_ranked['distance (m)'] = hotspot_country_ranked.geometry.apply(lambda x: first_point.distance(x))\n",
    "\n",
    "        # remove points within radius\n",
    "            hotspot_country_ranked=hotspot_country_ranked.loc[hotspot_country_ranked['distance (m)']>min_separation_radius,:].copy() \n",
    "        #resort\n",
    "            hotspot_country_ranked=hotspot_country_ranked.sort_values(by=risk_type,ascending=False)   \n",
    "\n",
    "            hotspot_points=pd.concat([hotspot_points.to_crs(epsg=int(utm_zone.replace(\"EPSG:\",\"\"))) ,hotspot_country_ranked.iloc[0:1,:]],axis=0)\n",
    "\n",
    "        hotspot_points\n",
    "        hotspot_points= gpd.GeoDataFrame(\n",
    "            hotspot_points, geometry=gpd.points_from_xy(hotspot_points.lon, hotspot_points.lat), crs=\"EPSG:4326\"\n",
    "        )\n",
    "        hotspot_points\n",
    "\n",
    "        if idx_main==0:\n",
    "            hotspot_points_all=hotspot_points\n",
    "        else:\n",
    "            hotspot_points_all=pd.concat([hotspot_points_all,hotspot_points],axis=0)\n",
    "\n",
    "    risk_type_hotspot_points_all.append(hotspot_points_all)\n",
    "risk_type_hotspot_points_all[0]"
   ]
  },
  {
   "cell_type": "code",
   "execution_count": 23,
   "metadata": {},
   "outputs": [
    {
     "data": {
      "text/html": [
       "<div>\n",
       "<style scoped>\n",
       "    .dataframe tbody tr th:only-of-type {\n",
       "        vertical-align: middle;\n",
       "    }\n",
       "\n",
       "    .dataframe tbody tr th {\n",
       "        vertical-align: top;\n",
       "    }\n",
       "\n",
       "    .dataframe thead th {\n",
       "        text-align: right;\n",
       "    }\n",
       "</style>\n",
       "<table border=\"1\" class=\"dataframe\">\n",
       "  <thead>\n",
       "    <tr style=\"text-align: right;\">\n",
       "      <th></th>\n",
       "      <th>Land_Subsidence_2010_PC___Risk_Level</th>\n",
       "      <th>continent</th>\n",
       "      <th>country</th>\n",
       "      <th>country_id</th>\n",
       "      <th>lat</th>\n",
       "      <th>lon</th>\n",
       "      <th>transect_id</th>\n",
       "      <th>geometry</th>\n",
       "      <th>distance (m)</th>\n",
       "    </tr>\n",
       "    <tr>\n",
       "      <th>nstations</th>\n",
       "      <th></th>\n",
       "      <th></th>\n",
       "      <th></th>\n",
       "      <th></th>\n",
       "      <th></th>\n",
       "      <th></th>\n",
       "      <th></th>\n",
       "      <th></th>\n",
       "      <th></th>\n",
       "    </tr>\n",
       "  </thead>\n",
       "  <tbody>\n",
       "    <tr>\n",
       "      <th>36</th>\n",
       "      <td>3.3</td>\n",
       "      <td>South America</td>\n",
       "      <td>Colombia</td>\n",
       "      <td>COL</td>\n",
       "      <td>12.158030</td>\n",
       "      <td>-71.980988</td>\n",
       "      <td>BOX_116_353_43</td>\n",
       "      <td>POINT (-71.98099 12.15803)</td>\n",
       "      <td>NaN</td>\n",
       "    </tr>\n",
       "    <tr>\n",
       "      <th>156</th>\n",
       "      <td>3.0</td>\n",
       "      <td>South America</td>\n",
       "      <td>Colombia</td>\n",
       "      <td>COL</td>\n",
       "      <td>12.004457</td>\n",
       "      <td>-72.182927</td>\n",
       "      <td>BOX_116_352_39</td>\n",
       "      <td>POINT (-72.18293 12.00446)</td>\n",
       "      <td>27811.807912</td>\n",
       "    </tr>\n",
       "    <tr>\n",
       "      <th>6</th>\n",
       "      <td>2.8</td>\n",
       "      <td>South America</td>\n",
       "      <td>Colombia</td>\n",
       "      <td>COL</td>\n",
       "      <td>12.226228</td>\n",
       "      <td>-71.871661</td>\n",
       "      <td>BOX_116_353_8</td>\n",
       "      <td>POINT (-71.87166 12.22623)</td>\n",
       "      <td>41869.832863</td>\n",
       "    </tr>\n",
       "    <tr>\n",
       "      <th>199</th>\n",
       "      <td>NaN</td>\n",
       "      <td>North America</td>\n",
       "      <td>Saint Kitts and Nevis</td>\n",
       "      <td>KNA</td>\n",
       "      <td>17.414115</td>\n",
       "      <td>-62.807903</td>\n",
       "      <td>BOX_117_255_1</td>\n",
       "      <td>POINT (-62.80790 17.41411)</td>\n",
       "      <td>NaN</td>\n",
       "    </tr>\n",
       "    <tr>\n",
       "      <th>342</th>\n",
       "      <td>NaN</td>\n",
       "      <td>North America</td>\n",
       "      <td>Saint Kitts and Nevis</td>\n",
       "      <td>KNA</td>\n",
       "      <td>17.142336</td>\n",
       "      <td>-62.629448</td>\n",
       "      <td>BOX_117_249_0</td>\n",
       "      <td>POINT (-62.62945 17.14234)</td>\n",
       "      <td>35549.401225</td>\n",
       "    </tr>\n",
       "    <tr>\n",
       "      <th>...</th>\n",
       "      <td>...</td>\n",
       "      <td>...</td>\n",
       "      <td>...</td>\n",
       "      <td>...</td>\n",
       "      <td>...</td>\n",
       "      <td>...</td>\n",
       "      <td>...</td>\n",
       "      <td>...</td>\n",
       "      <td>...</td>\n",
       "    </tr>\n",
       "    <tr>\n",
       "      <th>33583</th>\n",
       "      <td>NaN</td>\n",
       "      <td>North America</td>\n",
       "      <td>Anguilla</td>\n",
       "      <td>AIA</td>\n",
       "      <td>18.293245</td>\n",
       "      <td>-62.952520</td>\n",
       "      <td>BOX_139_092_0</td>\n",
       "      <td>POINT (-62.95252 18.29325)</td>\n",
       "      <td>NaN</td>\n",
       "    </tr>\n",
       "    <tr>\n",
       "      <th>33615</th>\n",
       "      <td>NaN</td>\n",
       "      <td>North America</td>\n",
       "      <td>Anguilla</td>\n",
       "      <td>AIA</td>\n",
       "      <td>18.250815</td>\n",
       "      <td>-63.040806</td>\n",
       "      <td>BOX_139_092_32</td>\n",
       "      <td>POINT (-63.04081 18.25081)</td>\n",
       "      <td>10446.001520</td>\n",
       "    </tr>\n",
       "    <tr>\n",
       "      <th>35086</th>\n",
       "      <td>NaN</td>\n",
       "      <td>North America</td>\n",
       "      <td>Anguilla</td>\n",
       "      <td>AIA</td>\n",
       "      <td>18.192752</td>\n",
       "      <td>-63.115980</td>\n",
       "      <td>BOX_139_090_10</td>\n",
       "      <td>POINT (-63.11598 18.19275)</td>\n",
       "      <td>10219.588447</td>\n",
       "    </tr>\n",
       "    <tr>\n",
       "      <th>35134</th>\n",
       "      <td>NaN</td>\n",
       "      <td>North America</td>\n",
       "      <td>Saint Martin</td>\n",
       "      <td>MAF</td>\n",
       "      <td>18.113125</td>\n",
       "      <td>-62.991804</td>\n",
       "      <td>BOX_139_090_59</td>\n",
       "      <td>POINT (-62.99180 18.11313)</td>\n",
       "      <td>NaN</td>\n",
       "    </tr>\n",
       "    <tr>\n",
       "      <th>35161</th>\n",
       "      <td>NaN</td>\n",
       "      <td>North America</td>\n",
       "      <td>Saint Martin</td>\n",
       "      <td>MAF</td>\n",
       "      <td>18.069876</td>\n",
       "      <td>-63.088115</td>\n",
       "      <td>BOX_139_090_86</td>\n",
       "      <td>POINT (-63.08812 18.06988)</td>\n",
       "      <td>11257.984734</td>\n",
       "    </tr>\n",
       "  </tbody>\n",
       "</table>\n",
       "<p>80 rows × 9 columns</p>\n",
       "</div>"
      ],
      "text/plain": [
       "           Land_Subsidence_2010_PC___Risk_Level      continent  \\\n",
       "nstations                                                        \n",
       "36                                          3.3  South America   \n",
       "156                                         3.0  South America   \n",
       "6                                           2.8  South America   \n",
       "199                                         NaN  North America   \n",
       "342                                         NaN  North America   \n",
       "...                                         ...            ...   \n",
       "33583                                       NaN  North America   \n",
       "33615                                       NaN  North America   \n",
       "35086                                       NaN  North America   \n",
       "35134                                       NaN  North America   \n",
       "35161                                       NaN  North America   \n",
       "\n",
       "                         country country_id        lat        lon  \\\n",
       "nstations                                                           \n",
       "36                      Colombia        COL  12.158030 -71.980988   \n",
       "156                     Colombia        COL  12.004457 -72.182927   \n",
       "6                       Colombia        COL  12.226228 -71.871661   \n",
       "199        Saint Kitts and Nevis        KNA  17.414115 -62.807903   \n",
       "342        Saint Kitts and Nevis        KNA  17.142336 -62.629448   \n",
       "...                          ...        ...        ...        ...   \n",
       "33583                   Anguilla        AIA  18.293245 -62.952520   \n",
       "33615                   Anguilla        AIA  18.250815 -63.040806   \n",
       "35086                   Anguilla        AIA  18.192752 -63.115980   \n",
       "35134               Saint Martin        MAF  18.113125 -62.991804   \n",
       "35161               Saint Martin        MAF  18.069876 -63.088115   \n",
       "\n",
       "              transect_id                    geometry  distance (m)  \n",
       "nstations                                                            \n",
       "36         BOX_116_353_43  POINT (-71.98099 12.15803)           NaN  \n",
       "156        BOX_116_352_39  POINT (-72.18293 12.00446)  27811.807912  \n",
       "6           BOX_116_353_8  POINT (-71.87166 12.22623)  41869.832863  \n",
       "199         BOX_117_255_1  POINT (-62.80790 17.41411)           NaN  \n",
       "342         BOX_117_249_0  POINT (-62.62945 17.14234)  35549.401225  \n",
       "...                   ...                         ...           ...  \n",
       "33583       BOX_139_092_0  POINT (-62.95252 18.29325)           NaN  \n",
       "33615      BOX_139_092_32  POINT (-63.04081 18.25081)  10446.001520  \n",
       "35086      BOX_139_090_10  POINT (-63.11598 18.19275)  10219.588447  \n",
       "35134      BOX_139_090_59  POINT (-62.99180 18.11313)           NaN  \n",
       "35161      BOX_139_090_86  POINT (-63.08812 18.06988)  11257.984734  \n",
       "\n",
       "[80 rows x 9 columns]"
      ]
     },
     "execution_count": 23,
     "metadata": {},
     "output_type": "execute_result"
    }
   ],
   "source": [
    "risk_type_hotspot_points_all[3]"
   ]
  },
  {
   "cell_type": "code",
   "execution_count": 30,
   "metadata": {},
   "outputs": [
    {
     "data": {
      "text/html": [
       "<div>\n",
       "<style scoped>\n",
       "    .dataframe tbody tr th:only-of-type {\n",
       "        vertical-align: middle;\n",
       "    }\n",
       "\n",
       "    .dataframe tbody tr th {\n",
       "        vertical-align: top;\n",
       "    }\n",
       "\n",
       "    .dataframe thead th {\n",
       "        text-align: right;\n",
       "    }\n",
       "</style>\n",
       "<table border=\"1\" class=\"dataframe\">\n",
       "  <thead>\n",
       "    <tr style=\"text-align: right;\">\n",
       "      <th></th>\n",
       "      <th>Cat3_Hurricane_Return_Period_PC_PC___Risk_Level</th>\n",
       "      <th>continent</th>\n",
       "      <th>country</th>\n",
       "      <th>country_id</th>\n",
       "      <th>lat</th>\n",
       "      <th>lon</th>\n",
       "      <th>transect_id</th>\n",
       "      <th>geometry</th>\n",
       "      <th>distance (m)</th>\n",
       "      <th>address</th>\n",
       "    </tr>\n",
       "    <tr>\n",
       "      <th>nstations</th>\n",
       "      <th></th>\n",
       "      <th></th>\n",
       "      <th></th>\n",
       "      <th></th>\n",
       "      <th></th>\n",
       "      <th></th>\n",
       "      <th></th>\n",
       "      <th></th>\n",
       "      <th></th>\n",
       "      <th></th>\n",
       "    </tr>\n",
       "  </thead>\n",
       "  <tbody>\n",
       "    <tr>\n",
       "      <th>36</th>\n",
       "      <td>3.8</td>\n",
       "      <td>South America</td>\n",
       "      <td>Colombia</td>\n",
       "      <td>COL</td>\n",
       "      <td>12.158030</td>\n",
       "      <td>-71.980988</td>\n",
       "      <td>BOX_116_353_43</td>\n",
       "      <td>POINT (-71.98099 12.15803)</td>\n",
       "      <td>NaN</td>\n",
       "      <td>Oroshio, Uribia, La Guajira, RAP Caribe, Colombia</td>\n",
       "    </tr>\n",
       "    <tr>\n",
       "      <th>63</th>\n",
       "      <td>3.6</td>\n",
       "      <td>South America</td>\n",
       "      <td>Colombia</td>\n",
       "      <td>COL</td>\n",
       "      <td>12.253270</td>\n",
       "      <td>-71.971853</td>\n",
       "      <td>BOX_116_353_70</td>\n",
       "      <td>POINT (-71.97185 12.25327)</td>\n",
       "      <td>10592.155742</td>\n",
       "      <td>Vía Uribia - Puerto Bolívar, Terminal de Carbo...</td>\n",
       "    </tr>\n",
       "    <tr>\n",
       "      <th>149</th>\n",
       "      <td>3.4</td>\n",
       "      <td>South America</td>\n",
       "      <td>Colombia</td>\n",
       "      <td>COL</td>\n",
       "      <td>12.032842</td>\n",
       "      <td>-72.170861</td>\n",
       "      <td>BOX_116_352_32</td>\n",
       "      <td>POINT (-72.17086 12.03284)</td>\n",
       "      <td>32648.048626</td>\n",
       "      <td>Uribia, La Guajira, RAP Caribe, 440029, Colombia</td>\n",
       "    </tr>\n",
       "    <tr>\n",
       "      <th>3617</th>\n",
       "      <td>3.5</td>\n",
       "      <td>North America</td>\n",
       "      <td>Saint Kitts and Nevis</td>\n",
       "      <td>KNA</td>\n",
       "      <td>17.323179</td>\n",
       "      <td>-62.699798</td>\n",
       "      <td>BOX_117_253_111</td>\n",
       "      <td>POINT (-62.69980 17.32318)</td>\n",
       "      <td>NaN</td>\n",
       "      <td>Upper Conaree, Saint Peter Basseterre, Saint K...</td>\n",
       "    </tr>\n",
       "    <tr>\n",
       "      <th>3661</th>\n",
       "      <td>3.5</td>\n",
       "      <td>North America</td>\n",
       "      <td>Saint Kitts and Nevis</td>\n",
       "      <td>KNA</td>\n",
       "      <td>17.152829</td>\n",
       "      <td>-62.628926</td>\n",
       "      <td>BOX_117_253_155</td>\n",
       "      <td>POINT (-62.62893 17.15283)</td>\n",
       "      <td>20295.996937</td>\n",
       "      <td>Turtle Time Beach Bar &amp; Grill, Uhral Saint Cla...</td>\n",
       "    </tr>\n",
       "    <tr>\n",
       "      <th>...</th>\n",
       "      <td>...</td>\n",
       "      <td>...</td>\n",
       "      <td>...</td>\n",
       "      <td>...</td>\n",
       "      <td>...</td>\n",
       "      <td>...</td>\n",
       "      <td>...</td>\n",
       "      <td>...</td>\n",
       "      <td>...</td>\n",
       "      <td>...</td>\n",
       "    </tr>\n",
       "    <tr>\n",
       "      <th>35091</th>\n",
       "      <td>4.5</td>\n",
       "      <td>North America</td>\n",
       "      <td>Anguilla</td>\n",
       "      <td>AIA</td>\n",
       "      <td>18.184940</td>\n",
       "      <td>-63.136737</td>\n",
       "      <td>BOX_139_090_15</td>\n",
       "      <td>POINT (-63.13674 18.18494)</td>\n",
       "      <td>NaN</td>\n",
       "      <td>John Hodge Drive, Long Bay Village, Anguilla</td>\n",
       "    </tr>\n",
       "    <tr>\n",
       "      <th>33635</th>\n",
       "      <td>4.4</td>\n",
       "      <td>North America</td>\n",
       "      <td>Anguilla</td>\n",
       "      <td>AIA</td>\n",
       "      <td>18.232756</td>\n",
       "      <td>-62.986524</td>\n",
       "      <td>BOX_139_092_53</td>\n",
       "      <td>POINT (-62.98652 18.23276)</td>\n",
       "      <td>16741.015394</td>\n",
       "      <td>Pond Ground Road, East End, Anguilla</td>\n",
       "    </tr>\n",
       "    <tr>\n",
       "      <th>35256</th>\n",
       "      <td>4.4</td>\n",
       "      <td>North America</td>\n",
       "      <td>Anguilla</td>\n",
       "      <td>AIA</td>\n",
       "      <td>18.105710</td>\n",
       "      <td>-63.021894</td>\n",
       "      <td>BOX_139_090_184</td>\n",
       "      <td>POINT (-63.02189 18.10571)</td>\n",
       "      <td>14545.352121</td>\n",
       "      <td>Rue Terrasse de Cul de Sac, Cul de Sac, Saint-...</td>\n",
       "    </tr>\n",
       "    <tr>\n",
       "      <th>35212</th>\n",
       "      <td>4.6</td>\n",
       "      <td>North America</td>\n",
       "      <td>Saint Martin</td>\n",
       "      <td>MAF</td>\n",
       "      <td>18.037055</td>\n",
       "      <td>-63.119859</td>\n",
       "      <td>BOX_139_090_137</td>\n",
       "      <td>POINT (-63.11986 18.03705)</td>\n",
       "      <td>NaN</td>\n",
       "      <td>The Morgan Resort, 2, Beacon Hill Road, Maho, ...</td>\n",
       "    </tr>\n",
       "    <tr>\n",
       "      <th>35245</th>\n",
       "      <td>4.5</td>\n",
       "      <td>North America</td>\n",
       "      <td>Saint Martin</td>\n",
       "      <td>MAF</td>\n",
       "      <td>18.057617</td>\n",
       "      <td>-63.016270</td>\n",
       "      <td>BOX_139_090_170</td>\n",
       "      <td>POINT (-63.01627 18.05762)</td>\n",
       "      <td>11196.759509</td>\n",
       "      <td>89, Avenue du Lagon, Oyster Pond, Saint-Martin...</td>\n",
       "    </tr>\n",
       "  </tbody>\n",
       "</table>\n",
       "<p>80 rows × 10 columns</p>\n",
       "</div>"
      ],
      "text/plain": [
       "           Cat3_Hurricane_Return_Period_PC_PC___Risk_Level      continent  \\\n",
       "nstations                                                                   \n",
       "36                                                     3.8  South America   \n",
       "63                                                     3.6  South America   \n",
       "149                                                    3.4  South America   \n",
       "3617                                                   3.5  North America   \n",
       "3661                                                   3.5  North America   \n",
       "...                                                    ...            ...   \n",
       "35091                                                  4.5  North America   \n",
       "33635                                                  4.4  North America   \n",
       "35256                                                  4.4  North America   \n",
       "35212                                                  4.6  North America   \n",
       "35245                                                  4.5  North America   \n",
       "\n",
       "                         country country_id        lat        lon  \\\n",
       "nstations                                                           \n",
       "36                      Colombia        COL  12.158030 -71.980988   \n",
       "63                      Colombia        COL  12.253270 -71.971853   \n",
       "149                     Colombia        COL  12.032842 -72.170861   \n",
       "3617       Saint Kitts and Nevis        KNA  17.323179 -62.699798   \n",
       "3661       Saint Kitts and Nevis        KNA  17.152829 -62.628926   \n",
       "...                          ...        ...        ...        ...   \n",
       "35091                   Anguilla        AIA  18.184940 -63.136737   \n",
       "33635                   Anguilla        AIA  18.232756 -62.986524   \n",
       "35256                   Anguilla        AIA  18.105710 -63.021894   \n",
       "35212               Saint Martin        MAF  18.037055 -63.119859   \n",
       "35245               Saint Martin        MAF  18.057617 -63.016270   \n",
       "\n",
       "               transect_id                    geometry  distance (m)  \\\n",
       "nstations                                                              \n",
       "36          BOX_116_353_43  POINT (-71.98099 12.15803)           NaN   \n",
       "63          BOX_116_353_70  POINT (-71.97185 12.25327)  10592.155742   \n",
       "149         BOX_116_352_32  POINT (-72.17086 12.03284)  32648.048626   \n",
       "3617       BOX_117_253_111  POINT (-62.69980 17.32318)           NaN   \n",
       "3661       BOX_117_253_155  POINT (-62.62893 17.15283)  20295.996937   \n",
       "...                    ...                         ...           ...   \n",
       "35091       BOX_139_090_15  POINT (-63.13674 18.18494)           NaN   \n",
       "33635       BOX_139_092_53  POINT (-62.98652 18.23276)  16741.015394   \n",
       "35256      BOX_139_090_184  POINT (-63.02189 18.10571)  14545.352121   \n",
       "35212      BOX_139_090_137  POINT (-63.11986 18.03705)           NaN   \n",
       "35245      BOX_139_090_170  POINT (-63.01627 18.05762)  11196.759509   \n",
       "\n",
       "                                                     address  \n",
       "nstations                                                     \n",
       "36         Oroshio, Uribia, La Guajira, RAP Caribe, Colombia  \n",
       "63         Vía Uribia - Puerto Bolívar, Terminal de Carbo...  \n",
       "149         Uribia, La Guajira, RAP Caribe, 440029, Colombia  \n",
       "3617       Upper Conaree, Saint Peter Basseterre, Saint K...  \n",
       "3661       Turtle Time Beach Bar & Grill, Uhral Saint Cla...  \n",
       "...                                                      ...  \n",
       "35091           John Hodge Drive, Long Bay Village, Anguilla  \n",
       "33635                   Pond Ground Road, East End, Anguilla  \n",
       "35256      Rue Terrasse de Cul de Sac, Cul de Sac, Saint-...  \n",
       "35212      The Morgan Resort, 2, Beacon Hill Road, Maho, ...  \n",
       "35245      89, Avenue du Lagon, Oyster Pond, Saint-Martin...  \n",
       "\n",
       "[80 rows x 10 columns]"
      ]
     },
     "execution_count": 30,
     "metadata": {},
     "output_type": "execute_result"
    }
   ],
   "source": [
    "from geopy.geocoders import Nominatim\n",
    "\n",
    "def reverse_geocode(lat, lon):\n",
    "    try:\n",
    "        location = geolocator.reverse((lat, lon), exactly_one=True)\n",
    "        return location.address if location else \"Address not found\"\n",
    "    except Exception as e:\n",
    "        return str(e)\n",
    "\n",
    "for idx,hotspot_points in enumerate(risk_type_hotspot_points_all):\n",
    "\n",
    "\n",
    "\n",
    "    # Initialize the geolocator\n",
    "    geolocator = Nominatim(user_agent=\"geoapiExercises\")\n",
    "\n",
    "\n",
    "    # Apply the reverse geocoding function to each row in the DataFrame\n",
    "    risk_type_hotspot_points_all[idx]['address'] = hotspot_points.apply(\n",
    "        lambda row: reverse_geocode(row['lat'], row['lon']),\n",
    "        axis=1\n",
    "    )\n",
    "risk_type_hotspot_points_all[0]"
   ]
  },
  {
   "cell_type": "markdown",
   "metadata": {},
   "source": [
    "Create a  Table summary of the hotspot regions"
   ]
  },
  {
   "cell_type": "code",
   "execution_count": 31,
   "metadata": {},
   "outputs": [
    {
     "data": {
      "text/html": [
       "<div>\n",
       "<style scoped>\n",
       "    .dataframe tbody tr th:only-of-type {\n",
       "        vertical-align: middle;\n",
       "    }\n",
       "\n",
       "    .dataframe tbody tr th {\n",
       "        vertical-align: top;\n",
       "    }\n",
       "\n",
       "    .dataframe thead th {\n",
       "        text-align: right;\n",
       "    }\n",
       "</style>\n",
       "<table border=\"1\" class=\"dataframe\">\n",
       "  <thead>\n",
       "    <tr style=\"text-align: right;\">\n",
       "      <th></th>\n",
       "      <th>Country Name</th>\n",
       "      <th>Cat3_Hurricane_Return_Period_PC_PC___Risk_Level</th>\n",
       "      <th>ESL_100yrRP_PC___Risk_Level</th>\n",
       "      <th>EWH_100yrRP_PC___Risk_Level</th>\n",
       "      <th>Land_Subsidence_2010_PC___Risk_Level</th>\n",
       "      <th>Shoreline_Change_Rate_PC___Risk_Level</th>\n",
       "    </tr>\n",
       "  </thead>\n",
       "  <tbody>\n",
       "    <tr>\n",
       "      <th>0</th>\n",
       "      <td>Country 1</td>\n",
       "      <td>NaN</td>\n",
       "      <td>NaN</td>\n",
       "      <td>NaN</td>\n",
       "      <td>NaN</td>\n",
       "      <td>NaN</td>\n",
       "    </tr>\n",
       "    <tr>\n",
       "      <th>1</th>\n",
       "      <td>Country 2</td>\n",
       "      <td>NaN</td>\n",
       "      <td>NaN</td>\n",
       "      <td>NaN</td>\n",
       "      <td>NaN</td>\n",
       "      <td>NaN</td>\n",
       "    </tr>\n",
       "    <tr>\n",
       "      <th>2</th>\n",
       "      <td>Country 3</td>\n",
       "      <td>NaN</td>\n",
       "      <td>NaN</td>\n",
       "      <td>NaN</td>\n",
       "      <td>NaN</td>\n",
       "      <td>NaN</td>\n",
       "    </tr>\n",
       "    <tr>\n",
       "      <th>3</th>\n",
       "      <td>Country 4</td>\n",
       "      <td>NaN</td>\n",
       "      <td>NaN</td>\n",
       "      <td>NaN</td>\n",
       "      <td>NaN</td>\n",
       "      <td>NaN</td>\n",
       "    </tr>\n",
       "    <tr>\n",
       "      <th>4</th>\n",
       "      <td>Country 5</td>\n",
       "      <td>NaN</td>\n",
       "      <td>NaN</td>\n",
       "      <td>NaN</td>\n",
       "      <td>NaN</td>\n",
       "      <td>NaN</td>\n",
       "    </tr>\n",
       "    <tr>\n",
       "      <th>5</th>\n",
       "      <td>Country 6</td>\n",
       "      <td>NaN</td>\n",
       "      <td>NaN</td>\n",
       "      <td>NaN</td>\n",
       "      <td>NaN</td>\n",
       "      <td>NaN</td>\n",
       "    </tr>\n",
       "    <tr>\n",
       "      <th>6</th>\n",
       "      <td>Country 7</td>\n",
       "      <td>NaN</td>\n",
       "      <td>NaN</td>\n",
       "      <td>NaN</td>\n",
       "      <td>NaN</td>\n",
       "      <td>NaN</td>\n",
       "    </tr>\n",
       "    <tr>\n",
       "      <th>7</th>\n",
       "      <td>Country 8</td>\n",
       "      <td>NaN</td>\n",
       "      <td>NaN</td>\n",
       "      <td>NaN</td>\n",
       "      <td>NaN</td>\n",
       "      <td>NaN</td>\n",
       "    </tr>\n",
       "    <tr>\n",
       "      <th>8</th>\n",
       "      <td>Country 9</td>\n",
       "      <td>NaN</td>\n",
       "      <td>NaN</td>\n",
       "      <td>NaN</td>\n",
       "      <td>NaN</td>\n",
       "      <td>NaN</td>\n",
       "    </tr>\n",
       "    <tr>\n",
       "      <th>9</th>\n",
       "      <td>Country 10</td>\n",
       "      <td>NaN</td>\n",
       "      <td>NaN</td>\n",
       "      <td>NaN</td>\n",
       "      <td>NaN</td>\n",
       "      <td>NaN</td>\n",
       "    </tr>\n",
       "    <tr>\n",
       "      <th>10</th>\n",
       "      <td>Country 11</td>\n",
       "      <td>NaN</td>\n",
       "      <td>NaN</td>\n",
       "      <td>NaN</td>\n",
       "      <td>NaN</td>\n",
       "      <td>NaN</td>\n",
       "    </tr>\n",
       "    <tr>\n",
       "      <th>11</th>\n",
       "      <td>Country 12</td>\n",
       "      <td>NaN</td>\n",
       "      <td>NaN</td>\n",
       "      <td>NaN</td>\n",
       "      <td>NaN</td>\n",
       "      <td>NaN</td>\n",
       "    </tr>\n",
       "    <tr>\n",
       "      <th>12</th>\n",
       "      <td>Country 13</td>\n",
       "      <td>NaN</td>\n",
       "      <td>NaN</td>\n",
       "      <td>NaN</td>\n",
       "      <td>NaN</td>\n",
       "      <td>NaN</td>\n",
       "    </tr>\n",
       "    <tr>\n",
       "      <th>13</th>\n",
       "      <td>Country 14</td>\n",
       "      <td>NaN</td>\n",
       "      <td>NaN</td>\n",
       "      <td>NaN</td>\n",
       "      <td>NaN</td>\n",
       "      <td>NaN</td>\n",
       "    </tr>\n",
       "    <tr>\n",
       "      <th>14</th>\n",
       "      <td>Country 15</td>\n",
       "      <td>NaN</td>\n",
       "      <td>NaN</td>\n",
       "      <td>NaN</td>\n",
       "      <td>NaN</td>\n",
       "      <td>NaN</td>\n",
       "    </tr>\n",
       "    <tr>\n",
       "      <th>15</th>\n",
       "      <td>Country 16</td>\n",
       "      <td>NaN</td>\n",
       "      <td>NaN</td>\n",
       "      <td>NaN</td>\n",
       "      <td>NaN</td>\n",
       "      <td>NaN</td>\n",
       "    </tr>\n",
       "    <tr>\n",
       "      <th>16</th>\n",
       "      <td>Country 17</td>\n",
       "      <td>NaN</td>\n",
       "      <td>NaN</td>\n",
       "      <td>NaN</td>\n",
       "      <td>NaN</td>\n",
       "      <td>NaN</td>\n",
       "    </tr>\n",
       "    <tr>\n",
       "      <th>17</th>\n",
       "      <td>Country 18</td>\n",
       "      <td>NaN</td>\n",
       "      <td>NaN</td>\n",
       "      <td>NaN</td>\n",
       "      <td>NaN</td>\n",
       "      <td>NaN</td>\n",
       "    </tr>\n",
       "    <tr>\n",
       "      <th>18</th>\n",
       "      <td>Country 19</td>\n",
       "      <td>NaN</td>\n",
       "      <td>NaN</td>\n",
       "      <td>NaN</td>\n",
       "      <td>NaN</td>\n",
       "      <td>NaN</td>\n",
       "    </tr>\n",
       "    <tr>\n",
       "      <th>19</th>\n",
       "      <td>Country 20</td>\n",
       "      <td>NaN</td>\n",
       "      <td>NaN</td>\n",
       "      <td>NaN</td>\n",
       "      <td>NaN</td>\n",
       "      <td>NaN</td>\n",
       "    </tr>\n",
       "    <tr>\n",
       "      <th>20</th>\n",
       "      <td>Country 21</td>\n",
       "      <td>NaN</td>\n",
       "      <td>NaN</td>\n",
       "      <td>NaN</td>\n",
       "      <td>NaN</td>\n",
       "      <td>NaN</td>\n",
       "    </tr>\n",
       "    <tr>\n",
       "      <th>21</th>\n",
       "      <td>Country 22</td>\n",
       "      <td>NaN</td>\n",
       "      <td>NaN</td>\n",
       "      <td>NaN</td>\n",
       "      <td>NaN</td>\n",
       "      <td>NaN</td>\n",
       "    </tr>\n",
       "    <tr>\n",
       "      <th>22</th>\n",
       "      <td>Country 23</td>\n",
       "      <td>NaN</td>\n",
       "      <td>NaN</td>\n",
       "      <td>NaN</td>\n",
       "      <td>NaN</td>\n",
       "      <td>NaN</td>\n",
       "    </tr>\n",
       "    <tr>\n",
       "      <th>23</th>\n",
       "      <td>Country 24</td>\n",
       "      <td>NaN</td>\n",
       "      <td>NaN</td>\n",
       "      <td>NaN</td>\n",
       "      <td>NaN</td>\n",
       "      <td>NaN</td>\n",
       "    </tr>\n",
       "    <tr>\n",
       "      <th>24</th>\n",
       "      <td>Country 25</td>\n",
       "      <td>NaN</td>\n",
       "      <td>NaN</td>\n",
       "      <td>NaN</td>\n",
       "      <td>NaN</td>\n",
       "      <td>NaN</td>\n",
       "    </tr>\n",
       "    <tr>\n",
       "      <th>25</th>\n",
       "      <td>Country 26</td>\n",
       "      <td>NaN</td>\n",
       "      <td>NaN</td>\n",
       "      <td>NaN</td>\n",
       "      <td>NaN</td>\n",
       "      <td>NaN</td>\n",
       "    </tr>\n",
       "    <tr>\n",
       "      <th>26</th>\n",
       "      <td>Country 27</td>\n",
       "      <td>NaN</td>\n",
       "      <td>NaN</td>\n",
       "      <td>NaN</td>\n",
       "      <td>NaN</td>\n",
       "      <td>NaN</td>\n",
       "    </tr>\n",
       "    <tr>\n",
       "      <th>27</th>\n",
       "      <td>Country 28</td>\n",
       "      <td>NaN</td>\n",
       "      <td>NaN</td>\n",
       "      <td>NaN</td>\n",
       "      <td>NaN</td>\n",
       "      <td>NaN</td>\n",
       "    </tr>\n",
       "    <tr>\n",
       "      <th>28</th>\n",
       "      <td>Country 29</td>\n",
       "      <td>NaN</td>\n",
       "      <td>NaN</td>\n",
       "      <td>NaN</td>\n",
       "      <td>NaN</td>\n",
       "      <td>NaN</td>\n",
       "    </tr>\n",
       "  </tbody>\n",
       "</table>\n",
       "</div>"
      ],
      "text/plain": [
       "   Country Name Cat3_Hurricane_Return_Period_PC_PC___Risk_Level  \\\n",
       "0     Country 1                                             NaN   \n",
       "1     Country 2                                             NaN   \n",
       "2     Country 3                                             NaN   \n",
       "3     Country 4                                             NaN   \n",
       "4     Country 5                                             NaN   \n",
       "5     Country 6                                             NaN   \n",
       "6     Country 7                                             NaN   \n",
       "7     Country 8                                             NaN   \n",
       "8     Country 9                                             NaN   \n",
       "9    Country 10                                             NaN   \n",
       "10   Country 11                                             NaN   \n",
       "11   Country 12                                             NaN   \n",
       "12   Country 13                                             NaN   \n",
       "13   Country 14                                             NaN   \n",
       "14   Country 15                                             NaN   \n",
       "15   Country 16                                             NaN   \n",
       "16   Country 17                                             NaN   \n",
       "17   Country 18                                             NaN   \n",
       "18   Country 19                                             NaN   \n",
       "19   Country 20                                             NaN   \n",
       "20   Country 21                                             NaN   \n",
       "21   Country 22                                             NaN   \n",
       "22   Country 23                                             NaN   \n",
       "23   Country 24                                             NaN   \n",
       "24   Country 25                                             NaN   \n",
       "25   Country 26                                             NaN   \n",
       "26   Country 27                                             NaN   \n",
       "27   Country 28                                             NaN   \n",
       "28   Country 29                                             NaN   \n",
       "\n",
       "   ESL_100yrRP_PC___Risk_Level EWH_100yrRP_PC___Risk_Level  \\\n",
       "0                          NaN                         NaN   \n",
       "1                          NaN                         NaN   \n",
       "2                          NaN                         NaN   \n",
       "3                          NaN                         NaN   \n",
       "4                          NaN                         NaN   \n",
       "5                          NaN                         NaN   \n",
       "6                          NaN                         NaN   \n",
       "7                          NaN                         NaN   \n",
       "8                          NaN                         NaN   \n",
       "9                          NaN                         NaN   \n",
       "10                         NaN                         NaN   \n",
       "11                         NaN                         NaN   \n",
       "12                         NaN                         NaN   \n",
       "13                         NaN                         NaN   \n",
       "14                         NaN                         NaN   \n",
       "15                         NaN                         NaN   \n",
       "16                         NaN                         NaN   \n",
       "17                         NaN                         NaN   \n",
       "18                         NaN                         NaN   \n",
       "19                         NaN                         NaN   \n",
       "20                         NaN                         NaN   \n",
       "21                         NaN                         NaN   \n",
       "22                         NaN                         NaN   \n",
       "23                         NaN                         NaN   \n",
       "24                         NaN                         NaN   \n",
       "25                         NaN                         NaN   \n",
       "26                         NaN                         NaN   \n",
       "27                         NaN                         NaN   \n",
       "28                         NaN                         NaN   \n",
       "\n",
       "   Land_Subsidence_2010_PC___Risk_Level Shoreline_Change_Rate_PC___Risk_Level  \n",
       "0                                   NaN                                   NaN  \n",
       "1                                   NaN                                   NaN  \n",
       "2                                   NaN                                   NaN  \n",
       "3                                   NaN                                   NaN  \n",
       "4                                   NaN                                   NaN  \n",
       "5                                   NaN                                   NaN  \n",
       "6                                   NaN                                   NaN  \n",
       "7                                   NaN                                   NaN  \n",
       "8                                   NaN                                   NaN  \n",
       "9                                   NaN                                   NaN  \n",
       "10                                  NaN                                   NaN  \n",
       "11                                  NaN                                   NaN  \n",
       "12                                  NaN                                   NaN  \n",
       "13                                  NaN                                   NaN  \n",
       "14                                  NaN                                   NaN  \n",
       "15                                  NaN                                   NaN  \n",
       "16                                  NaN                                   NaN  \n",
       "17                                  NaN                                   NaN  \n",
       "18                                  NaN                                   NaN  \n",
       "19                                  NaN                                   NaN  \n",
       "20                                  NaN                                   NaN  \n",
       "21                                  NaN                                   NaN  \n",
       "22                                  NaN                                   NaN  \n",
       "23                                  NaN                                   NaN  \n",
       "24                                  NaN                                   NaN  \n",
       "25                                  NaN                                   NaN  \n",
       "26                                  NaN                                   NaN  \n",
       "27                                  NaN                                   NaN  \n",
       "28                                  NaN                                   NaN  "
      ]
     },
     "execution_count": 31,
     "metadata": {},
     "output_type": "execute_result"
    }
   ],
   "source": [
    "#initialize the columns in the dataframe\n",
    "all_columns = ['Country Name'] + col\n",
    "hotspot_per_country_df = pd.DataFrame(columns=all_columns)\n",
    "\n",
    "\n",
    "# Create 26 rows of data\n",
    "data = [{'Country Name': f'Country {i+1}'} for i in range(len(unique_countries)+1)]\n",
    "\n",
    "# Convert list of dictionaries to DataFrame\n",
    "data_df = pd.DataFrame(data)\n",
    "\n",
    "# Concatenate the DataFrame with the data\n",
    "hotspot_per_country_df = pd.concat([hotspot_per_country_df, data_df], ignore_index=True)\n",
    "hotspot_per_country_df"
   ]
  },
  {
   "cell_type": "code",
   "execution_count": 33,
   "metadata": {},
   "outputs": [
    {
     "data": {
      "text/html": [
       "<div>\n",
       "<style scoped>\n",
       "    .dataframe tbody tr th:only-of-type {\n",
       "        vertical-align: middle;\n",
       "    }\n",
       "\n",
       "    .dataframe tbody tr th {\n",
       "        vertical-align: top;\n",
       "    }\n",
       "\n",
       "    .dataframe thead th {\n",
       "        text-align: right;\n",
       "    }\n",
       "</style>\n",
       "<table border=\"1\" class=\"dataframe\">\n",
       "  <thead>\n",
       "    <tr style=\"text-align: right;\">\n",
       "      <th></th>\n",
       "      <th>Country Name</th>\n",
       "      <th>Cat3_Hurricane_Return_Period_PC_PC___Risk_Level</th>\n",
       "      <th>ESL_100yrRP_PC___Risk_Level</th>\n",
       "      <th>EWH_100yrRP_PC___Risk_Level</th>\n",
       "      <th>Land_Subsidence_2010_PC___Risk_Level</th>\n",
       "      <th>Shoreline_Change_Rate_PC___Risk_Level</th>\n",
       "    </tr>\n",
       "  </thead>\n",
       "  <tbody>\n",
       "    <tr>\n",
       "      <th>0</th>\n",
       "      <td>Entire Caribbean</td>\n",
       "      <td>North Caicos, Turks and Caicos Islands (21.87,...</td>\n",
       "      <td>Cat Island, The Bahamas (24.30, -75.44)</td>\n",
       "      <td>Rue 3 Frères Rigaud, Fò lilèt - Site lejò, 1re...</td>\n",
       "      <td>Hangar 21 Guadia Nacional, Calle Guamaní, Isla...</td>\n",
       "      <td>Sent terèz, 1re Bourdet, Commune Les Cayes, Ar...</td>\n",
       "    </tr>\n",
       "    <tr>\n",
       "      <th>1</th>\n",
       "      <td>Colombia</td>\n",
       "      <td>Oroshio, Uribia, La Guajira, RAP Caribe, Colom...</td>\n",
       "      <td>Oroshio, Uribia, La Guajira, RAP Caribe, Colom...</td>\n",
       "      <td>Oroshio, Uribia, La Guajira, RAP Caribe, Colom...</td>\n",
       "      <td>Oroshio, Uribia, La Guajira, RAP Caribe, Colom...</td>\n",
       "      <td>Colombia (12.25, -71.88)</td>\n",
       "    </tr>\n",
       "    <tr>\n",
       "      <th>2</th>\n",
       "      <td>Saint Kitts and Nevis</td>\n",
       "      <td>Upper Conaree, Saint Peter Basseterre, Saint K...</td>\n",
       "      <td>Upper Conaree, Saint Peter Basseterre, Saint K...</td>\n",
       "      <td>Canada, Saint Peter Basseterre, Saint Kitts, S...</td>\n",
       "      <td>No Land Subsidence 2010 data available for Sai...</td>\n",
       "      <td>The Salt Ponds, Fleming Estate, Saint George B...</td>\n",
       "    </tr>\n",
       "    <tr>\n",
       "      <th>3</th>\n",
       "      <td>Netherlands</td>\n",
       "      <td>EEG Boulevard, Belnem, Kralendijk, Bonaire, Ne...</td>\n",
       "      <td>EEG Boulevard, Belnem, Kralendijk, Bonaire, Ne...</td>\n",
       "      <td>EEG Boulevard, Belnem, Kralendijk, Bonaire, Ne...</td>\n",
       "      <td>No Land Subsidence 2010 data available for Net...</td>\n",
       "      <td>EEG Boulevard, Windsurf Paradise, Bonaire, Ned...</td>\n",
       "    </tr>\n",
       "    <tr>\n",
       "      <th>4</th>\n",
       "      <td>France</td>\n",
       "      <td>FR*EZD*E45697,FR*EZD*E45709, Impasse Morne Cab...</td>\n",
       "      <td>Route de la Pointe-des-Châteaux, Saint-Françoi...</td>\n",
       "      <td>FR*EZD*E45697,FR*EZD*E45709, Impasse Morne Cab...</td>\n",
       "      <td>Centre d'élevage de lamantins - Parc national,...</td>\n",
       "      <td>Sentier de la Pointe à Cabrits, Saint-François...</td>\n",
       "    </tr>\n",
       "    <tr>\n",
       "      <th>5</th>\n",
       "      <td>Antigua and Barbuda</td>\n",
       "      <td>Coco Point Road, Barbuda, Antigua and Barbuda ...</td>\n",
       "      <td>Fort Road, St. John's, Saint John, Antigua, An...</td>\n",
       "      <td>Pelican Point, Barbuda, Antigua and Barbuda (1...</td>\n",
       "      <td>Marina Bay, Fort Road, Saint John, Antigua, An...</td>\n",
       "      <td>Galley Bay Road, Galley Bay Heights, Five Isla...</td>\n",
       "    </tr>\n",
       "    <tr>\n",
       "      <th>6</th>\n",
       "      <td>Venezuela</td>\n",
       "      <td>Asubure, Parroquia Adícora, Municipio Falcón, ...</td>\n",
       "      <td>Asubure, Parroquia Adícora, Municipio Falcón, ...</td>\n",
       "      <td>Asubure, Parroquia Adícora, Municipio Falcón, ...</td>\n",
       "      <td>Tiraya, Parroquia Adícora, Municipio Falcón, F...</td>\n",
       "      <td>La Macolla, Parroquia Jadacaquiva, Municipio F...</td>\n",
       "    </tr>\n",
       "    <tr>\n",
       "      <th>7</th>\n",
       "      <td>Montserrat</td>\n",
       "      <td>Fish N Fins, Little Bay Beach Road, Geralds, C...</td>\n",
       "      <td>Fish N Fins, Little Bay Beach Road, Geralds, C...</td>\n",
       "      <td>Fish N Fins, Little Bay Beach Road, Geralds, C...</td>\n",
       "      <td>Fogatry, Brades, Saint Peter, Montserrat (16.7...</td>\n",
       "      <td>Saint Anthony, Montserrat (16.70, -62.15)</td>\n",
       "    </tr>\n",
       "    <tr>\n",
       "      <th>8</th>\n",
       "      <td>Curacao</td>\n",
       "      <td>Nsutica, Pietermaaiweg, Pietermaai, Punda, Wil...</td>\n",
       "      <td>Nsutica, Pietermaaiweg, Pietermaai, Punda, Wil...</td>\n",
       "      <td>Nsutica, Pietermaaiweg, Pietermaai, Punda, Wil...</td>\n",
       "      <td>No Land Subsidence 2010 data available for Cur...</td>\n",
       "      <td>Avila Beach Hotel, 130, Penstraat, Nieuw Neder...</td>\n",
       "    </tr>\n",
       "    <tr>\n",
       "      <th>9</th>\n",
       "      <td>Saint Lucia</td>\n",
       "      <td>Coconut Bay Road, Bruceville / Shantytown, Vie...</td>\n",
       "      <td>Coconut Bay Road, Bruceville / Shantytown, Vie...</td>\n",
       "      <td>Coconut Bay Road, Bruceville / Shantytown, Vie...</td>\n",
       "      <td>No Land Subsidence 2010 data available for Sai...</td>\n",
       "      <td>Millennium Highway, Hospital Road, Monkey Town...</td>\n",
       "    </tr>\n",
       "    <tr>\n",
       "      <th>10</th>\n",
       "      <td>Aruba</td>\n",
       "      <td>J.E. Irausquin Boulevard, Bushiri, Oranjestad ...</td>\n",
       "      <td>L.G. Smith Boulevard, Taratata, Bushiri, Oranj...</td>\n",
       "      <td>L.G. Smith Boulevard, Taratata, Bushiri, Oranj...</td>\n",
       "      <td>No Land Subsidence 2010 data available for Aruba</td>\n",
       "      <td>L.G. Smith Boulevard, Taratata, Bushiri, Oranj...</td>\n",
       "    </tr>\n",
       "    <tr>\n",
       "      <th>11</th>\n",
       "      <td>Barbados</td>\n",
       "      <td>Barbados Port Inc. - Administration Building, ...</td>\n",
       "      <td>The Bridgetown Fisheries Complex, Princess Ali...</td>\n",
       "      <td>The Bridgetown Fisheries Complex, Princess Ali...</td>\n",
       "      <td>No Land Subsidence 2010 data available for Bar...</td>\n",
       "      <td>The Bridgetown Fisheries Complex, Princess Ali...</td>\n",
       "    </tr>\n",
       "    <tr>\n",
       "      <th>12</th>\n",
       "      <td>Dominican Republic</td>\n",
       "      <td>Punta Salinas, Las Salinas, Baní, Peravia, Rep...</td>\n",
       "      <td>Excellence Punta Cana Hotel, Carretera Uvero A...</td>\n",
       "      <td>Nagua - Samaná, Los Surburios, San José de Mat...</td>\n",
       "      <td>playa la poza de bojolo, Nagua - Samaná, Nuevo...</td>\n",
       "      <td>Marina Cap Cana, Vía del Puerto, Cap Cana, Pun...</td>\n",
       "    </tr>\n",
       "    <tr>\n",
       "      <th>13</th>\n",
       "      <td>Saint Vincent and the Grenadines</td>\n",
       "      <td>Sunset Shores Hotel, Windward Highway, Calliqu...</td>\n",
       "      <td>Georgetown, Charlotte, VC0220, Saint Vincent a...</td>\n",
       "      <td>Sunset Shores Hotel, Windward Highway, Calliqu...</td>\n",
       "      <td>No Land Subsidence 2010 data available for Sai...</td>\n",
       "      <td>Canouan Main Road, Barbruce, Charlestown, Gren...</td>\n",
       "    </tr>\n",
       "    <tr>\n",
       "      <th>14</th>\n",
       "      <td>Grenada</td>\n",
       "      <td>Airport Road, Hillsborough, Carriacou and Peti...</td>\n",
       "      <td>Maurice Bishop Memorial Highway, Calliste, Sai...</td>\n",
       "      <td>Maurice Bishop Memorial Highway, Calliste, Sai...</td>\n",
       "      <td>No Land Subsidence 2010 data available for Gre...</td>\n",
       "      <td>Cassada Bay Road, Belmont, Carriacou and Petit...</td>\n",
       "    </tr>\n",
       "    <tr>\n",
       "      <th>15</th>\n",
       "      <td>Dominica</td>\n",
       "      <td>Canefield Industrial Estate, Morne Daniel, Can...</td>\n",
       "      <td>Edward Olivier Leblanc Highway, Layou, Saint J...</td>\n",
       "      <td>La Plaine Road, Plaisance, La Plaine, Saint Pa...</td>\n",
       "      <td>Melville Hall - Portsmouth Road, Woodford Hill...</td>\n",
       "      <td>Saint John Parish, Dominica (15.55, -61.47)</td>\n",
       "    </tr>\n",
       "    <tr>\n",
       "      <th>16</th>\n",
       "      <td>Haiti</td>\n",
       "      <td>Rue 3 Frères Rigaud, Fò lilèt - Site lejò, 1re...</td>\n",
       "      <td>RD 501, 1e Baudin, Beraca, Commune de Port-de-...</td>\n",
       "      <td>Rue 3 Frères Rigaud, Fò lilèt - Site lejò, 1re...</td>\n",
       "      <td>1re Poteneau, Grande-Saline, Commune Grand Sal...</td>\n",
       "      <td>Sent terèz, 1re Bourdet, Commune Les Cayes, Ar...</td>\n",
       "    </tr>\n",
       "    <tr>\n",
       "      <th>17</th>\n",
       "      <td>Cuba</td>\n",
       "      <td>Arroyos de Mantua, Mantua, Pinar del Río, 7082...</td>\n",
       "      <td>Casa Kiki, Calle Caletón, Caletón, Playa Larga...</td>\n",
       "      <td>Carretera a Cayo Romano, Playa de Jigüey, Esme...</td>\n",
       "      <td>310, Santa Fé, Playa, La Habana, 19101, Cuba (...</td>\n",
       "      <td>Pedraplén Coco - Romano, Morón, Cuba (22.28, -...</td>\n",
       "    </tr>\n",
       "    <tr>\n",
       "      <th>18</th>\n",
       "      <td>Jamaica</td>\n",
       "      <td>Sports Bar, Allan Avenue, Port Antonio, Portla...</td>\n",
       "      <td>Seashore Bay Resort, Norman Manley Boulevard, ...</td>\n",
       "      <td>Sir Florizel Glaspole Boulevard, Harbour View,...</td>\n",
       "      <td>Beaches Negril, Norman Manley Boulevard, Westm...</td>\n",
       "      <td>Port Royal Road, Port Royal, Saint Andrew, Sur...</td>\n",
       "    </tr>\n",
       "    <tr>\n",
       "      <th>19</th>\n",
       "      <td>The Bahamas</td>\n",
       "      <td>Cat Island, The Bahamas (24.30, -75.44)</td>\n",
       "      <td>Cat Island, The Bahamas (24.30, -75.44)</td>\n",
       "      <td>Cat Island, The Bahamas (24.30, -75.44)</td>\n",
       "      <td>Mangrove Cay, The Bahamas (24.28, -77.67)</td>\n",
       "      <td>Grantanna Estates 2, Nassau, New Providence, T...</td>\n",
       "    </tr>\n",
       "    <tr>\n",
       "      <th>20</th>\n",
       "      <td>Turks and Caicos Islands</td>\n",
       "      <td>Turtle Tail Drive, Providenciales, TKCA 1ZZ, T...</td>\n",
       "      <td>North Caicos, Turks and Caicos Islands (21.87,...</td>\n",
       "      <td>North Caicos, Turks and Caicos Islands (21.87,...</td>\n",
       "      <td>No Land Subsidence 2010 data available for Tur...</td>\n",
       "      <td>Middle Caicos, Turks and Caicos Islands (21.83...</td>\n",
       "    </tr>\n",
       "    <tr>\n",
       "      <th>21</th>\n",
       "      <td>United States of America</td>\n",
       "      <td>Boca Chica Road, Monroe County, Florida, Unite...</td>\n",
       "      <td>Saddle Bunch No. 2 Bridge, Overseas Highway, B...</td>\n",
       "      <td>Overseas Highway, El Chico, Monroe County, Flo...</td>\n",
       "      <td>No Land Subsidence 2010 data available for Uni...</td>\n",
       "      <td>WWFT-FM (Key West), Overseas Highway, Monroe C...</td>\n",
       "    </tr>\n",
       "    <tr>\n",
       "      <th>22</th>\n",
       "      <td>Cayman Islands</td>\n",
       "      <td>Poinsettia, 101, West Bay Road, The Swamp, Whi...</td>\n",
       "      <td>Grand Cayman Marriott Beach Resort, West Bay R...</td>\n",
       "      <td>Grand Cayman Marriott Beach Resort, West Bay R...</td>\n",
       "      <td>No Land Subsidence 2010 data available for Cay...</td>\n",
       "      <td>Dream Lane, Scott Development, West End, Siste...</td>\n",
       "    </tr>\n",
       "    <tr>\n",
       "      <th>23</th>\n",
       "      <td>British Virgin Islands</td>\n",
       "      <td>Anegada Road, Anegada, British Virgin Islands ...</td>\n",
       "      <td>Anegada Road, Anegada, British Virgin Islands ...</td>\n",
       "      <td>Anegada Road, Anegada, British Virgin Islands ...</td>\n",
       "      <td>No Land Subsidence 2010 data available for Bri...</td>\n",
       "      <td>Anegada, British Virgin Islands (18.74, -64.41)</td>\n",
       "    </tr>\n",
       "    <tr>\n",
       "      <th>24</th>\n",
       "      <td>Puerto Rico</td>\n",
       "      <td>Aeropuerto de Mona, Camino Uvero, Uvero, Isla ...</td>\n",
       "      <td>Playa, Ponce, Puerto Rico, 00734, United State...</td>\n",
       "      <td>3099, Calle 10, Stella, Barrio Pueblo, Rincón,...</td>\n",
       "      <td>Hangar 21 Guadia Nacional, Calle Guamaní, Isla...</td>\n",
       "      <td>Carnival CruisePort Muelle 4, Paseo Dr. Gilber...</td>\n",
       "    </tr>\n",
       "    <tr>\n",
       "      <th>25</th>\n",
       "      <td>United States Virgin Islands</td>\n",
       "      <td>9, Strand Street, Frederiksted, Saint Croix Di...</td>\n",
       "      <td>Cyril E King Airport, Grambokola Hill Road, Ch...</td>\n",
       "      <td>King Street, Frederiksted, Saint Croix Distric...</td>\n",
       "      <td>No Land Subsidence 2010 data available for Uni...</td>\n",
       "      <td>Charlotte Amalie, Saint Thomas - Saint John Di...</td>\n",
       "    </tr>\n",
       "    <tr>\n",
       "      <th>26</th>\n",
       "      <td>Saint Barthelemy</td>\n",
       "      <td>Route de la Plage de Public, Corossol, Gustavi...</td>\n",
       "      <td>Route de la Plage de Public, Corossol, Gustavi...</td>\n",
       "      <td>Route de la Plage de Public, Corossol, Gustavi...</td>\n",
       "      <td>No Land Subsidence 2010 data available for Sai...</td>\n",
       "      <td>95, Rue de la Caraïbe, Pointe Milou, Saint-Bar...</td>\n",
       "    </tr>\n",
       "    <tr>\n",
       "      <th>27</th>\n",
       "      <td>Anguilla</td>\n",
       "      <td>John Hodge Drive, Long Bay Village, Anguilla (...</td>\n",
       "      <td>Corito Road, The Valley, AI-2640, Anguilla (18...</td>\n",
       "      <td>John Hodge Drive, Long Bay Village, Anguilla (...</td>\n",
       "      <td>No Land Subsidence 2010 data available for Ang...</td>\n",
       "      <td>Gratten's Point, Anguilla (18.29, -62.93)</td>\n",
       "    </tr>\n",
       "    <tr>\n",
       "      <th>28</th>\n",
       "      <td>Saint Martin</td>\n",
       "      <td>The Morgan Resort, 2, Beacon Hill Road, Maho, ...</td>\n",
       "      <td>The Morgan Resort, 2, Beacon Hill Road, Maho, ...</td>\n",
       "      <td>The Morgan Resort, 2, Beacon Hill Road, Maho, ...</td>\n",
       "      <td>No Land Subsidence 2010 data available for Sai...</td>\n",
       "      <td>Sandy Ground, Marigot, Saint-Martin (France), ...</td>\n",
       "    </tr>\n",
       "  </tbody>\n",
       "</table>\n",
       "</div>"
      ],
      "text/plain": [
       "                        Country Name  \\\n",
       "0                   Entire Caribbean   \n",
       "1                           Colombia   \n",
       "2              Saint Kitts and Nevis   \n",
       "3                        Netherlands   \n",
       "4                             France   \n",
       "5                Antigua and Barbuda   \n",
       "6                          Venezuela   \n",
       "7                         Montserrat   \n",
       "8                            Curacao   \n",
       "9                        Saint Lucia   \n",
       "10                             Aruba   \n",
       "11                          Barbados   \n",
       "12                Dominican Republic   \n",
       "13  Saint Vincent and the Grenadines   \n",
       "14                           Grenada   \n",
       "15                          Dominica   \n",
       "16                             Haiti   \n",
       "17                              Cuba   \n",
       "18                           Jamaica   \n",
       "19                       The Bahamas   \n",
       "20          Turks and Caicos Islands   \n",
       "21          United States of America   \n",
       "22                    Cayman Islands   \n",
       "23            British Virgin Islands   \n",
       "24                       Puerto Rico   \n",
       "25      United States Virgin Islands   \n",
       "26                  Saint Barthelemy   \n",
       "27                          Anguilla   \n",
       "28                      Saint Martin   \n",
       "\n",
       "      Cat3_Hurricane_Return_Period_PC_PC___Risk_Level  \\\n",
       "0   North Caicos, Turks and Caicos Islands (21.87,...   \n",
       "1   Oroshio, Uribia, La Guajira, RAP Caribe, Colom...   \n",
       "2   Upper Conaree, Saint Peter Basseterre, Saint K...   \n",
       "3   EEG Boulevard, Belnem, Kralendijk, Bonaire, Ne...   \n",
       "4   FR*EZD*E45697,FR*EZD*E45709, Impasse Morne Cab...   \n",
       "5   Coco Point Road, Barbuda, Antigua and Barbuda ...   \n",
       "6   Asubure, Parroquia Adícora, Municipio Falcón, ...   \n",
       "7   Fish N Fins, Little Bay Beach Road, Geralds, C...   \n",
       "8   Nsutica, Pietermaaiweg, Pietermaai, Punda, Wil...   \n",
       "9   Coconut Bay Road, Bruceville / Shantytown, Vie...   \n",
       "10  J.E. Irausquin Boulevard, Bushiri, Oranjestad ...   \n",
       "11  Barbados Port Inc. - Administration Building, ...   \n",
       "12  Punta Salinas, Las Salinas, Baní, Peravia, Rep...   \n",
       "13  Sunset Shores Hotel, Windward Highway, Calliqu...   \n",
       "14  Airport Road, Hillsborough, Carriacou and Peti...   \n",
       "15  Canefield Industrial Estate, Morne Daniel, Can...   \n",
       "16  Rue 3 Frères Rigaud, Fò lilèt - Site lejò, 1re...   \n",
       "17  Arroyos de Mantua, Mantua, Pinar del Río, 7082...   \n",
       "18  Sports Bar, Allan Avenue, Port Antonio, Portla...   \n",
       "19            Cat Island, The Bahamas (24.30, -75.44)   \n",
       "20  Turtle Tail Drive, Providenciales, TKCA 1ZZ, T...   \n",
       "21  Boca Chica Road, Monroe County, Florida, Unite...   \n",
       "22  Poinsettia, 101, West Bay Road, The Swamp, Whi...   \n",
       "23  Anegada Road, Anegada, British Virgin Islands ...   \n",
       "24  Aeropuerto de Mona, Camino Uvero, Uvero, Isla ...   \n",
       "25  9, Strand Street, Frederiksted, Saint Croix Di...   \n",
       "26  Route de la Plage de Public, Corossol, Gustavi...   \n",
       "27  John Hodge Drive, Long Bay Village, Anguilla (...   \n",
       "28  The Morgan Resort, 2, Beacon Hill Road, Maho, ...   \n",
       "\n",
       "                          ESL_100yrRP_PC___Risk_Level  \\\n",
       "0             Cat Island, The Bahamas (24.30, -75.44)   \n",
       "1   Oroshio, Uribia, La Guajira, RAP Caribe, Colom...   \n",
       "2   Upper Conaree, Saint Peter Basseterre, Saint K...   \n",
       "3   EEG Boulevard, Belnem, Kralendijk, Bonaire, Ne...   \n",
       "4   Route de la Pointe-des-Châteaux, Saint-Françoi...   \n",
       "5   Fort Road, St. John's, Saint John, Antigua, An...   \n",
       "6   Asubure, Parroquia Adícora, Municipio Falcón, ...   \n",
       "7   Fish N Fins, Little Bay Beach Road, Geralds, C...   \n",
       "8   Nsutica, Pietermaaiweg, Pietermaai, Punda, Wil...   \n",
       "9   Coconut Bay Road, Bruceville / Shantytown, Vie...   \n",
       "10  L.G. Smith Boulevard, Taratata, Bushiri, Oranj...   \n",
       "11  The Bridgetown Fisheries Complex, Princess Ali...   \n",
       "12  Excellence Punta Cana Hotel, Carretera Uvero A...   \n",
       "13  Georgetown, Charlotte, VC0220, Saint Vincent a...   \n",
       "14  Maurice Bishop Memorial Highway, Calliste, Sai...   \n",
       "15  Edward Olivier Leblanc Highway, Layou, Saint J...   \n",
       "16  RD 501, 1e Baudin, Beraca, Commune de Port-de-...   \n",
       "17  Casa Kiki, Calle Caletón, Caletón, Playa Larga...   \n",
       "18  Seashore Bay Resort, Norman Manley Boulevard, ...   \n",
       "19            Cat Island, The Bahamas (24.30, -75.44)   \n",
       "20  North Caicos, Turks and Caicos Islands (21.87,...   \n",
       "21  Saddle Bunch No. 2 Bridge, Overseas Highway, B...   \n",
       "22  Grand Cayman Marriott Beach Resort, West Bay R...   \n",
       "23  Anegada Road, Anegada, British Virgin Islands ...   \n",
       "24  Playa, Ponce, Puerto Rico, 00734, United State...   \n",
       "25  Cyril E King Airport, Grambokola Hill Road, Ch...   \n",
       "26  Route de la Plage de Public, Corossol, Gustavi...   \n",
       "27  Corito Road, The Valley, AI-2640, Anguilla (18...   \n",
       "28  The Morgan Resort, 2, Beacon Hill Road, Maho, ...   \n",
       "\n",
       "                          EWH_100yrRP_PC___Risk_Level  \\\n",
       "0   Rue 3 Frères Rigaud, Fò lilèt - Site lejò, 1re...   \n",
       "1   Oroshio, Uribia, La Guajira, RAP Caribe, Colom...   \n",
       "2   Canada, Saint Peter Basseterre, Saint Kitts, S...   \n",
       "3   EEG Boulevard, Belnem, Kralendijk, Bonaire, Ne...   \n",
       "4   FR*EZD*E45697,FR*EZD*E45709, Impasse Morne Cab...   \n",
       "5   Pelican Point, Barbuda, Antigua and Barbuda (1...   \n",
       "6   Asubure, Parroquia Adícora, Municipio Falcón, ...   \n",
       "7   Fish N Fins, Little Bay Beach Road, Geralds, C...   \n",
       "8   Nsutica, Pietermaaiweg, Pietermaai, Punda, Wil...   \n",
       "9   Coconut Bay Road, Bruceville / Shantytown, Vie...   \n",
       "10  L.G. Smith Boulevard, Taratata, Bushiri, Oranj...   \n",
       "11  The Bridgetown Fisheries Complex, Princess Ali...   \n",
       "12  Nagua - Samaná, Los Surburios, San José de Mat...   \n",
       "13  Sunset Shores Hotel, Windward Highway, Calliqu...   \n",
       "14  Maurice Bishop Memorial Highway, Calliste, Sai...   \n",
       "15  La Plaine Road, Plaisance, La Plaine, Saint Pa...   \n",
       "16  Rue 3 Frères Rigaud, Fò lilèt - Site lejò, 1re...   \n",
       "17  Carretera a Cayo Romano, Playa de Jigüey, Esme...   \n",
       "18  Sir Florizel Glaspole Boulevard, Harbour View,...   \n",
       "19            Cat Island, The Bahamas (24.30, -75.44)   \n",
       "20  North Caicos, Turks and Caicos Islands (21.87,...   \n",
       "21  Overseas Highway, El Chico, Monroe County, Flo...   \n",
       "22  Grand Cayman Marriott Beach Resort, West Bay R...   \n",
       "23  Anegada Road, Anegada, British Virgin Islands ...   \n",
       "24  3099, Calle 10, Stella, Barrio Pueblo, Rincón,...   \n",
       "25  King Street, Frederiksted, Saint Croix Distric...   \n",
       "26  Route de la Plage de Public, Corossol, Gustavi...   \n",
       "27  John Hodge Drive, Long Bay Village, Anguilla (...   \n",
       "28  The Morgan Resort, 2, Beacon Hill Road, Maho, ...   \n",
       "\n",
       "                 Land_Subsidence_2010_PC___Risk_Level  \\\n",
       "0   Hangar 21 Guadia Nacional, Calle Guamaní, Isla...   \n",
       "1   Oroshio, Uribia, La Guajira, RAP Caribe, Colom...   \n",
       "2   No Land Subsidence 2010 data available for Sai...   \n",
       "3   No Land Subsidence 2010 data available for Net...   \n",
       "4   Centre d'élevage de lamantins - Parc national,...   \n",
       "5   Marina Bay, Fort Road, Saint John, Antigua, An...   \n",
       "6   Tiraya, Parroquia Adícora, Municipio Falcón, F...   \n",
       "7   Fogatry, Brades, Saint Peter, Montserrat (16.7...   \n",
       "8   No Land Subsidence 2010 data available for Cur...   \n",
       "9   No Land Subsidence 2010 data available for Sai...   \n",
       "10   No Land Subsidence 2010 data available for Aruba   \n",
       "11  No Land Subsidence 2010 data available for Bar...   \n",
       "12  playa la poza de bojolo, Nagua - Samaná, Nuevo...   \n",
       "13  No Land Subsidence 2010 data available for Sai...   \n",
       "14  No Land Subsidence 2010 data available for Gre...   \n",
       "15  Melville Hall - Portsmouth Road, Woodford Hill...   \n",
       "16  1re Poteneau, Grande-Saline, Commune Grand Sal...   \n",
       "17  310, Santa Fé, Playa, La Habana, 19101, Cuba (...   \n",
       "18  Beaches Negril, Norman Manley Boulevard, Westm...   \n",
       "19          Mangrove Cay, The Bahamas (24.28, -77.67)   \n",
       "20  No Land Subsidence 2010 data available for Tur...   \n",
       "21  No Land Subsidence 2010 data available for Uni...   \n",
       "22  No Land Subsidence 2010 data available for Cay...   \n",
       "23  No Land Subsidence 2010 data available for Bri...   \n",
       "24  Hangar 21 Guadia Nacional, Calle Guamaní, Isla...   \n",
       "25  No Land Subsidence 2010 data available for Uni...   \n",
       "26  No Land Subsidence 2010 data available for Sai...   \n",
       "27  No Land Subsidence 2010 data available for Ang...   \n",
       "28  No Land Subsidence 2010 data available for Sai...   \n",
       "\n",
       "                Shoreline_Change_Rate_PC___Risk_Level  \n",
       "0   Sent terèz, 1re Bourdet, Commune Les Cayes, Ar...  \n",
       "1                            Colombia (12.25, -71.88)  \n",
       "2   The Salt Ponds, Fleming Estate, Saint George B...  \n",
       "3   EEG Boulevard, Windsurf Paradise, Bonaire, Ned...  \n",
       "4   Sentier de la Pointe à Cabrits, Saint-François...  \n",
       "5   Galley Bay Road, Galley Bay Heights, Five Isla...  \n",
       "6   La Macolla, Parroquia Jadacaquiva, Municipio F...  \n",
       "7           Saint Anthony, Montserrat (16.70, -62.15)  \n",
       "8   Avila Beach Hotel, 130, Penstraat, Nieuw Neder...  \n",
       "9   Millennium Highway, Hospital Road, Monkey Town...  \n",
       "10  L.G. Smith Boulevard, Taratata, Bushiri, Oranj...  \n",
       "11  The Bridgetown Fisheries Complex, Princess Ali...  \n",
       "12  Marina Cap Cana, Vía del Puerto, Cap Cana, Pun...  \n",
       "13  Canouan Main Road, Barbruce, Charlestown, Gren...  \n",
       "14  Cassada Bay Road, Belmont, Carriacou and Petit...  \n",
       "15        Saint John Parish, Dominica (15.55, -61.47)  \n",
       "16  Sent terèz, 1re Bourdet, Commune Les Cayes, Ar...  \n",
       "17  Pedraplén Coco - Romano, Morón, Cuba (22.28, -...  \n",
       "18  Port Royal Road, Port Royal, Saint Andrew, Sur...  \n",
       "19  Grantanna Estates 2, Nassau, New Providence, T...  \n",
       "20  Middle Caicos, Turks and Caicos Islands (21.83...  \n",
       "21  WWFT-FM (Key West), Overseas Highway, Monroe C...  \n",
       "22  Dream Lane, Scott Development, West End, Siste...  \n",
       "23    Anegada, British Virgin Islands (18.74, -64.41)  \n",
       "24  Carnival CruisePort Muelle 4, Paseo Dr. Gilber...  \n",
       "25  Charlotte Amalie, Saint Thomas - Saint John Di...  \n",
       "26  95, Rue de la Caraïbe, Pointe Milou, Saint-Bar...  \n",
       "27          Gratten's Point, Anguilla (18.29, -62.93)  \n",
       "28  Sandy Ground, Marigot, Saint-Martin (France), ...  "
      ]
     },
     "execution_count": 33,
     "metadata": {},
     "output_type": "execute_result"
    }
   ],
   "source": [
    "for risk_type_hotspot_points in risk_type_hotspot_points_all:\n",
    "\n",
    "    #Identify risk type\n",
    "    risk_type=risk_type_hotspot_points.columns[0]\n",
    " #Set country name\n",
    "    hotspot_per_country_df.loc[0,\"Country Name\"]=\"Entire Caribbean\"\n",
    "\n",
    "#find max location in the caribbean\n",
    "    hotspot_country=risk_type_hotspot_points.copy()\n",
    "    hotspot_country_ranked=hotspot_country.sort_values(by=risk_type,ascending=False).copy()\n",
    "    hotspot_country_ranked.index=range(0,len(hotspot_country_ranked.index))\n",
    "\n",
    "    # hotspot_per_country_df.loc[idx,risk_type]=hotspot_country_ranked.loc[0,\"address\"] + \" \"+ str(hotspot_country_ranked.loc[0,\"geometry\"]).replace(\"POINT \",\"\")\n",
    "    hotspot_per_country_df.loc[0, risk_type] = hotspot_country_ranked.loc[0, \"address\"] + f\" ({hotspot_country_ranked.loc[0, 'lat']:.2f}, {hotspot_country_ranked.loc[0, 'lon']:.2f})\"\n",
    "\n",
    "\n",
    "\n",
    "    \n",
    "    for idx_main,country in enumerate(unique_countries):\n",
    "\n",
    "        idx=idx_main+1\n",
    "        #Set country name\n",
    "        hotspot_per_country_df.loc[idx,\"Country Name\"]=country\n",
    "\n",
    "\n",
    "\n",
    "        hotspot_country=risk_type_hotspot_points.loc[risk_type_hotspot_points[\"country\"]==country,:].copy()\n",
    "        hotspot_country_ranked=hotspot_country.sort_values(by=risk_type,ascending=False).copy()\n",
    "        hotspot_country_ranked.index=range(0,len(hotspot_country_ranked.index))\n",
    "\n",
    "        # hotspot_per_country_df.loc[idx,risk_type]=hotspot_country_ranked.loc[0,\"address\"] + \" \"+ str(hotspot_country_ranked.loc[0,\"geometry\"]).replace(\"POINT \",\"\")\n",
    "        hotspot_per_country_df.loc[idx, risk_type] = hotspot_country_ranked.loc[0, \"address\"] + f\" ({hotspot_country_ranked.loc[0, 'lat']:.2f}, {hotspot_country_ranked.loc[0, 'lon']:.2f})\"\n",
    "\n",
    "        #if the maximum in the country in a nan, the print that there is no land subsidence data availiable for that country\n",
    "        if pd.isna(hotspot_country_ranked.loc[0, risk_type]):\n",
    "              hotspot_per_country_df.loc[idx, risk_type] = f\"No {risk_type.replace('_PC_PC___Risk_Level', '').replace('_PC___Risk_Level', '').replace('_', ' ')} data available for {country}\"\n",
    "\n",
    "hotspot_per_country_df"
   ]
  },
  {
   "cell_type": "code",
   "execution_count": 34,
   "metadata": {},
   "outputs": [],
   "source": [
    "hotspot_per_country_df.to_excel(os.path.join(directory_path,f\"Locations Hotspot points per country for all hazards.xlsx\"),index=False)"
   ]
  },
  {
   "cell_type": "code",
   "execution_count": 35,
   "metadata": {},
   "outputs": [
    {
     "data": {
      "text/html": [
       "<div>\n",
       "<style scoped>\n",
       "    .dataframe tbody tr th:only-of-type {\n",
       "        vertical-align: middle;\n",
       "    }\n",
       "\n",
       "    .dataframe tbody tr th {\n",
       "        vertical-align: top;\n",
       "    }\n",
       "\n",
       "    .dataframe thead th {\n",
       "        text-align: right;\n",
       "    }\n",
       "</style>\n",
       "<table border=\"1\" class=\"dataframe\">\n",
       "  <thead>\n",
       "    <tr style=\"text-align: right;\">\n",
       "      <th></th>\n",
       "      <th>Shoreline_Change_Rate_PC___Risk_Level</th>\n",
       "      <th>continent</th>\n",
       "      <th>country</th>\n",
       "      <th>country_id</th>\n",
       "      <th>lat</th>\n",
       "      <th>lon</th>\n",
       "      <th>transect_id</th>\n",
       "      <th>geometry</th>\n",
       "      <th>distance (m)</th>\n",
       "      <th>address</th>\n",
       "    </tr>\n",
       "    <tr>\n",
       "      <th>nstations</th>\n",
       "      <th></th>\n",
       "      <th></th>\n",
       "      <th></th>\n",
       "      <th></th>\n",
       "      <th></th>\n",
       "      <th></th>\n",
       "      <th></th>\n",
       "      <th></th>\n",
       "      <th></th>\n",
       "      <th></th>\n",
       "    </tr>\n",
       "  </thead>\n",
       "  <tbody>\n",
       "    <tr>\n",
       "      <th>0</th>\n",
       "      <td>4.3</td>\n",
       "      <td>South America</td>\n",
       "      <td>Colombia</td>\n",
       "      <td>COL</td>\n",
       "      <td>12.250684</td>\n",
       "      <td>-71.879805</td>\n",
       "      <td>BOX_116_353_2</td>\n",
       "      <td>POINT (-71.87980 12.25068)</td>\n",
       "      <td>NaN</td>\n",
       "      <td>Colombia</td>\n",
       "    </tr>\n",
       "    <tr>\n",
       "      <th>877</th>\n",
       "      <td>4.0</td>\n",
       "      <td>South America</td>\n",
       "      <td>Colombia</td>\n",
       "      <td>COL</td>\n",
       "      <td>12.404594</td>\n",
       "      <td>-71.666764</td>\n",
       "      <td>BOX_117_100_131</td>\n",
       "      <td>POINT (-71.66676 12.40459)</td>\n",
       "      <td>28775.862767</td>\n",
       "      <td>Colombia</td>\n",
       "    </tr>\n",
       "    <tr>\n",
       "      <th>120</th>\n",
       "      <td>4.0</td>\n",
       "      <td>South America</td>\n",
       "      <td>Colombia</td>\n",
       "      <td>COL</td>\n",
       "      <td>12.099701</td>\n",
       "      <td>-72.141222</td>\n",
       "      <td>BOX_116_353_127</td>\n",
       "      <td>POINT (-72.14122 12.09970)</td>\n",
       "      <td>61714.916419</td>\n",
       "      <td>Cabo Playa, Uribia, La Guajira, RAP Caribe, Co...</td>\n",
       "    </tr>\n",
       "    <tr>\n",
       "      <th>3596</th>\n",
       "      <td>3.9</td>\n",
       "      <td>North America</td>\n",
       "      <td>Saint Kitts and Nevis</td>\n",
       "      <td>KNA</td>\n",
       "      <td>17.254919</td>\n",
       "      <td>-62.641212</td>\n",
       "      <td>BOX_117_253_90</td>\n",
       "      <td>POINT (-62.64121 17.25492)</td>\n",
       "      <td>NaN</td>\n",
       "      <td>The Salt Ponds, Fleming Estate, Saint George B...</td>\n",
       "    </tr>\n",
       "    <tr>\n",
       "      <th>3517</th>\n",
       "      <td>3.1</td>\n",
       "      <td>North America</td>\n",
       "      <td>Saint Kitts and Nevis</td>\n",
       "      <td>KNA</td>\n",
       "      <td>17.374018</td>\n",
       "      <td>-62.862536</td>\n",
       "      <td>BOX_117_253_11</td>\n",
       "      <td>POINT (-62.86254 17.37402)</td>\n",
       "      <td>26958.267171</td>\n",
       "      <td>Belle Tete, Saint Anne Sandy Point, Saint Kitt...</td>\n",
       "    </tr>\n",
       "    <tr>\n",
       "      <th>...</th>\n",
       "      <td>...</td>\n",
       "      <td>...</td>\n",
       "      <td>...</td>\n",
       "      <td>...</td>\n",
       "      <td>...</td>\n",
       "      <td>...</td>\n",
       "      <td>...</td>\n",
       "      <td>...</td>\n",
       "      <td>...</td>\n",
       "      <td>...</td>\n",
       "    </tr>\n",
       "    <tr>\n",
       "      <th>33596</th>\n",
       "      <td>4.4</td>\n",
       "      <td>North America</td>\n",
       "      <td>Anguilla</td>\n",
       "      <td>AIA</td>\n",
       "      <td>18.293097</td>\n",
       "      <td>-62.930087</td>\n",
       "      <td>BOX_139_092_13</td>\n",
       "      <td>POINT (-62.93009 18.29310)</td>\n",
       "      <td>NaN</td>\n",
       "      <td>Gratten's Point, Anguilla</td>\n",
       "    </tr>\n",
       "    <tr>\n",
       "      <th>35097</th>\n",
       "      <td>4.3</td>\n",
       "      <td>North America</td>\n",
       "      <td>Anguilla</td>\n",
       "      <td>AIA</td>\n",
       "      <td>18.161910</td>\n",
       "      <td>-63.157614</td>\n",
       "      <td>BOX_139_090_22</td>\n",
       "      <td>POINT (-63.15761 18.16191)</td>\n",
       "      <td>28095.156703</td>\n",
       "      <td>Rupert Carty Drive, West End Village, Anguilla</td>\n",
       "    </tr>\n",
       "    <tr>\n",
       "      <th>35123</th>\n",
       "      <td>2.5</td>\n",
       "      <td>North America</td>\n",
       "      <td>Anguilla</td>\n",
       "      <td>AIA</td>\n",
       "      <td>18.193957</td>\n",
       "      <td>-63.050106</td>\n",
       "      <td>BOX_139_090_48</td>\n",
       "      <td>POINT (-63.05011 18.19396)</td>\n",
       "      <td>11909.716945</td>\n",
       "      <td>Corito Road, The Valley, AI-2640, Anguilla</td>\n",
       "    </tr>\n",
       "    <tr>\n",
       "      <th>35187</th>\n",
       "      <td>3.6</td>\n",
       "      <td>North America</td>\n",
       "      <td>Saint Martin</td>\n",
       "      <td>MAF</td>\n",
       "      <td>18.055695</td>\n",
       "      <td>-63.099039</td>\n",
       "      <td>BOX_139_090_112</td>\n",
       "      <td>POINT (-63.09904 18.05570)</td>\n",
       "      <td>NaN</td>\n",
       "      <td>Sandy Ground, Marigot, Saint-Martin (France), ...</td>\n",
       "    </tr>\n",
       "    <tr>\n",
       "      <th>35140</th>\n",
       "      <td>2.2</td>\n",
       "      <td>North America</td>\n",
       "      <td>Saint Martin</td>\n",
       "      <td>MAF</td>\n",
       "      <td>18.121903</td>\n",
       "      <td>-62.971461</td>\n",
       "      <td>BOX_139_090_65</td>\n",
       "      <td>POINT (-62.97146 18.12190)</td>\n",
       "      <td>15358.306953</td>\n",
       "      <td>Saint-Martin (France), France</td>\n",
       "    </tr>\n",
       "  </tbody>\n",
       "</table>\n",
       "<p>80 rows × 10 columns</p>\n",
       "</div>"
      ],
      "text/plain": [
       "           Shoreline_Change_Rate_PC___Risk_Level      continent  \\\n",
       "nstations                                                         \n",
       "0                                            4.3  South America   \n",
       "877                                          4.0  South America   \n",
       "120                                          4.0  South America   \n",
       "3596                                         3.9  North America   \n",
       "3517                                         3.1  North America   \n",
       "...                                          ...            ...   \n",
       "33596                                        4.4  North America   \n",
       "35097                                        4.3  North America   \n",
       "35123                                        2.5  North America   \n",
       "35187                                        3.6  North America   \n",
       "35140                                        2.2  North America   \n",
       "\n",
       "                         country country_id        lat        lon  \\\n",
       "nstations                                                           \n",
       "0                       Colombia        COL  12.250684 -71.879805   \n",
       "877                     Colombia        COL  12.404594 -71.666764   \n",
       "120                     Colombia        COL  12.099701 -72.141222   \n",
       "3596       Saint Kitts and Nevis        KNA  17.254919 -62.641212   \n",
       "3517       Saint Kitts and Nevis        KNA  17.374018 -62.862536   \n",
       "...                          ...        ...        ...        ...   \n",
       "33596                   Anguilla        AIA  18.293097 -62.930087   \n",
       "35097                   Anguilla        AIA  18.161910 -63.157614   \n",
       "35123                   Anguilla        AIA  18.193957 -63.050106   \n",
       "35187               Saint Martin        MAF  18.055695 -63.099039   \n",
       "35140               Saint Martin        MAF  18.121903 -62.971461   \n",
       "\n",
       "               transect_id                    geometry  distance (m)  \\\n",
       "nstations                                                              \n",
       "0            BOX_116_353_2  POINT (-71.87980 12.25068)           NaN   \n",
       "877        BOX_117_100_131  POINT (-71.66676 12.40459)  28775.862767   \n",
       "120        BOX_116_353_127  POINT (-72.14122 12.09970)  61714.916419   \n",
       "3596        BOX_117_253_90  POINT (-62.64121 17.25492)           NaN   \n",
       "3517        BOX_117_253_11  POINT (-62.86254 17.37402)  26958.267171   \n",
       "...                    ...                         ...           ...   \n",
       "33596       BOX_139_092_13  POINT (-62.93009 18.29310)           NaN   \n",
       "35097       BOX_139_090_22  POINT (-63.15761 18.16191)  28095.156703   \n",
       "35123       BOX_139_090_48  POINT (-63.05011 18.19396)  11909.716945   \n",
       "35187      BOX_139_090_112  POINT (-63.09904 18.05570)           NaN   \n",
       "35140       BOX_139_090_65  POINT (-62.97146 18.12190)  15358.306953   \n",
       "\n",
       "                                                     address  \n",
       "nstations                                                     \n",
       "0                                                   Colombia  \n",
       "877                                                 Colombia  \n",
       "120        Cabo Playa, Uribia, La Guajira, RAP Caribe, Co...  \n",
       "3596       The Salt Ponds, Fleming Estate, Saint George B...  \n",
       "3517       Belle Tete, Saint Anne Sandy Point, Saint Kitt...  \n",
       "...                                                      ...  \n",
       "33596                              Gratten's Point, Anguilla  \n",
       "35097         Rupert Carty Drive, West End Village, Anguilla  \n",
       "35123             Corito Road, The Valley, AI-2640, Anguilla  \n",
       "35187      Sandy Ground, Marigot, Saint-Martin (France), ...  \n",
       "35140                          Saint-Martin (France), France  \n",
       "\n",
       "[80 rows x 10 columns]"
      ]
     },
     "execution_count": 35,
     "metadata": {},
     "output_type": "execute_result"
    }
   ],
   "source": [
    "risk_type_hotspot_points_all[4]"
   ]
  },
  {
   "cell_type": "code",
   "execution_count": 37,
   "metadata": {},
   "outputs": [
    {
     "data": {
      "application/vnd.plotly.v1+json": {
       "config": {
        "plotlyServerURL": "https://plot.ly"
       },
       "data": [
        {
         "hovertemplate": "<b>%{hovertext}</b><br><br>lat=%{lat}<br>lon=%{lon}<extra></extra>",
         "hovertext": [
          "Oroshio, Uribia, La Guajira, RAP Caribe, Colombia",
          "Vía Uribia - Puerto Bolívar, Terminal de Carbones del Cerrejón, Junain, Uribia, La Guajira, RAP Caribe, Colombia",
          "Uribia, La Guajira, RAP Caribe, 440029, Colombia",
          "Upper Conaree, Saint Peter Basseterre, Saint Kitts, Saint Kitts and Nevis",
          "Turtle Time Beach Bar & Grill, Uhral Saint Clair Swanston Highway, Craddocks, Cotton Ground, Saint Thomas Lowland, Nevis, Saint Kitts and Nevis",
          "Sandy Point, Saint Anne Sandy Point, Saint Kitts, Saint Kitts and Nevis",
          "EEG Boulevard, Belnem, Kralendijk, Bonaire, Nederland, 1234 AB, Nederland",
          "Karpata, Bonaire, Nederland",
          "EEG Boulevard, Bonaire, Nederland",
          "FR*EZD*E45697,FR*EZD*E45709, Impasse Morne Cabri, ZI Lézarde, Le Lamentin, Fort-de-France, Martinique, 97232, France",
          "Boulevard Allègre, Anse Madame, L'Enclos, Schœlcher, Fort-de-France, Martinique, 97233, France",
          "Impasse des Acacias, Grand Anse Nord, Le Carbet, Saint-Pierre, Martinique, 97221, France",
          "Coco Point Road, Barbuda, Antigua and Barbuda",
          "Cedar Tree Point, Barbuda, Antigua and Barbuda",
          "Crabbs Road, Crabbs, Saint Peter, Antigua, Antigua and Barbuda",
          "Asubure, Parroquia Adícora, Municipio Falcón, Falcón, Venezuela",
          "Punta de Barco, Parroquia El Vínculo, Municipio Falcón, Falcón, Venezuela",
          "Parroquia Jadacaquiva, Municipio Falcón, Falcón, Venezuela",
          "Fish N Fins, Little Bay Beach Road, Geralds, Carr's Bay, Little Bay, Saint Peter, Montserrat",
          "Plymouth Port, Cork Hill Road, Richmond Hill, Saint Anthony, Montserrat",
          "Nsutica, Pietermaaiweg, Pietermaai, Punda, Willemstad, Curaçao, 0000 NA, Nederland",
          "Westpunt, Curaçao, Nederland",
          "Curaçao International Airport, F.D. Rooseveltweg, Kunuku Hatoen, Hato, Curaçao, 0000 CW, Nederland",
          "Coconut Bay Road, Bruceville / Shantytown, Vieux Fort, LC12 201, Saint Lucia",
          "Sandals Grande St. Lucian, Robert J. Devaux Drive, Becune Point, Gros Islet, LC01 601, Saint Lucia",
          "Laffing Fish, High Street, Rocky Lane, Athens, Dennery, LC16 101, Saint Lucia",
          "J.E. Irausquin Boulevard, Bushiri, Oranjestad West, Punta Brabo, Oranjestad (city), Nederland",
          "Natural Pool Trail, Nederland",
          "Zeewijk, San Nicolaas, Nederland",
          "Barbados Port Inc. - Administration Building, University Row, Bridgetown, Saint Michael, BB11028, Barbados",
          "Green Garden, Goodland, Silver Sands, Christ Church, BB17121, Barbados",
          "Colony Club Beach Resort, Highway 1, Trents, Saint James, BB24026, Barbados",
          "Punta Salinas, Las Salinas, Baní, Peravia, República Dominicana",
          "Calle Dr. Guillermo Herrera, San Gregorio de Nigua, San Cristóbal, República Dominicana",
          "Autovía del Este, Los Barcos de Arena, Mar del Sol, Los Conucos, Guayacanes, San Pedro de Macorís, República Dominicana",
          "Sunset Shores Hotel, Windward Highway, Calliqua, Villa, Calliaqua, Saint George, VC0100, Saint Vincent and the Grenadines",
          "Layou Government School, Leeward Highway, Layou, Saint Andrew, Saint Vincent and the Grenadines",
          "Canouan Airport, Canouan Main Road, Charlestown, Grenadines, VC0450, Saint Vincent and the Grenadines",
          "Airport Road, Hillsborough, Carriacou and Petite Martinique, Grenada",
          "Farm Road, Petite Esperance, Westerhall, Saint David, Grenada",
          "Maurice Bishop Memorial Highway, Calliste, Saint George, Grenada",
          "Canefield Industrial Estate, Morne Daniel, Canefield, Saint Paul Parish, Dominica",
          "Berekua Road, Berekua, Saint Patrick Parish, Dominica",
          "La Plaine Road, Plaisance, La Plaine, Saint Patrick Parish, Dominica",
          "Rue 3 Frères Rigaud, Fò lilèt - Site lejò, 1re Bourdet, Commune Les Cayes, Arrondissement des Cayes, Département du Sud, Ayiti",
          "1re Île-à-Vache, Commune Île-à-Vache, Arrondissement des Cayes, Département du Sud, 8160, Ayiti",
          "RD 205, 3e Cosse, Les Anglais, Commune Les Anglais, Arrondissement des Chardonnières, Département du Sud, Ayiti",
          "Arroyos de Mantua, Mantua, Pinar del Río, 70820, Cuba",
          "Carretera Panamericana, San Juan y Martínez, Pinar del Río, Cuba",
          "Camino Parque Nacional Marino Punta Francés, Cocodrilo, Isla de la Juventud, Cuba",
          "Sports Bar, Allan Avenue, Port Antonio, Portland, Surrey County, Jamaica",
          "Pearl Avenue, Port Morant, East Prospect, Saint Thomas, Surrey County, Jamaica",
          "Dalvey, Saint Thomas, Surrey County, Jamaica",
          "Cat Island, The Bahamas",
          "Cat Island, The Bahamas",
          "San Salvador Bahamas Airport, Queen's Highway, Sugar Loaf Settlement, Cockburn Town, San Salvador, The Bahamas",
          "Turtle Tail Drive, Providenciales, TKCA 1ZZ, Turks and Caicos Islands",
          "North Caicos, Turks and Caicos Islands",
          "Cockburn Harbour, East Caicos, Turks and Caicos Islands",
          "Boca Chica Road, Monroe County, Florida, United States",
          "WWFT-FM (Key West), Overseas Highway, Monroe County, Florida, United States",
          "Florida Keys Overseas Heritage Trail, Beachside, Key West, Monroe County, Florida, 33040, United States",
          "Poinsettia, 101, West Bay Road, The Swamp, Whitehall Estate, West Bay, KY1-1202, Cayman Islands",
          "Rum Point Drive, Drift Wood Village, North Side, Cayman Islands",
          "Sea View Road, Sea Cliff Teal & Pink Resort Homes, Old Isaacs, East End, KY1-1702, Cayman Islands",
          "Anegada Road, Anegada, British Virgin Islands",
          "The Settlement, Anegada, British Virgin Islands",
          "H. Lavity Stoutt Community College, Highland Grove Drive, East End, Tortola, VG1110, British Virgin Islands",
          "Aeropuerto de Mona, Camino Uvero, Uvero, Isla de Mona e Islote Monito, Mayagüez, Puerto Rico, United States",
          "3099, Calle 10, Stella, Barrio Pueblo, Rincón, Puerto Rico, 00677, United States",
          "Calle Pescadores, Punta Palmas, Palmas Altas, Barceloneta, Puerto Rico, 00617, United States",
          "9, Strand Street, Frederiksted, Saint Croix District, United States Virgin Islands, 00840, United States",
          "Peninsula Trail, Saint Croix District, United States Virgin Islands, 00851, United States",
          "Muller Bay Drive, Charlotte Amalie, Saint Thomas - Saint John District, United States Virgin Islands, United States",
          "Route de la Plage de Public, Corossol, Gustavia, Saint-Barthélemy, 97133, France",
          "John Hodge Drive, Long Bay Village, Anguilla",
          "Pond Ground Road, East End, Anguilla",
          "Rue Terrasse de Cul de Sac, Cul de Sac, Saint-Martin (France), 97150, France",
          "The Morgan Resort, 2, Beacon Hill Road, Maho, Simpson Bay, Sint Maarten, Nederland",
          "89, Avenue du Lagon, Oyster Pond, Saint-Martin (France), 97150, France"
         ],
         "lat": [
          12.1580299071,
          12.2532702794,
          12.0328420256,
          17.323178921300002,
          17.152829118299998,
          17.3530727401,
          12.1112849259,
          12.2197662554,
          12.027054382,
          14.6036038271,
          14.6144562179,
          14.7130346917,
          17.5879979225,
          17.6926464499,
          17.1218074111,
          12.0639944217,
          12.1590631774,
          12.032341491,
          16.8012715278,
          16.703973463900002,
          12.1025004032,
          12.3736969624,
          12.1927222173,
          13.7414027743,
          14.08686195,
          13.9107712298,
          12.5350275325,
          12.5231684828,
          12.4326489073,
          13.1042377498,
          13.0478072245,
          13.1946800774,
          18.2065531342,
          18.3711543592,
          18.4039901828,
          13.1336568661,
          13.2014512177,
          12.6984023759,
          12.4807512471,
          12.0140398808,
          12.0085336417,
          15.3313971756,
          15.2391345434,
          15.3372978171,
          18.1990980056,
          18.085506558,
          18.3003425014,
          22.3499240105,
          22.173288535,
          21.5031652994,
          18.1805536622,
          17.8646914569,
          17.907019337,
          24.2997540423,
          24.2060280543,
          24.0638049487,
          21.7613213501,
          21.8685272867,
          21.5089769991,
          24.5823431022,
          24.6515770468,
          24.5521379879,
          19.3097221881,
          19.3589535334,
          19.296180656,
          18.744991519000003,
          18.7146634392,
          18.4193072808,
          18.076569827,
          18.3194448325,
          18.4848218626,
          17.7121389306,
          17.7777802036,
          18.32473299,
          17.9053428576,
          18.1849402668,
          18.232755781,
          18.1057099887,
          18.0370549952,
          18.0576165498
         ],
         "legendgroup": "",
         "lon": [
          -71.9809878541,
          -71.9718532682,
          -72.1708608028,
          -62.6997981294,
          -62.6289256088,
          -62.8471559031,
          -68.29045268029999,
          -68.3679145207,
          -68.2447926147,
          -61.0088545886,
          -61.1016334599,
          -61.1820929475,
          -61.8579017321,
          -61.8804553997,
          -61.7595350619,
          -69.8572021892,
          -69.9174393599,
          -70.2276252138,
          -62.20777090399999,
          -62.22087839050001,
          -68.9326100119,
          -69.15715222600001,
          -68.96263801810001,
          -60.937419183900005,
          -60.9620682097,
          -60.8879627469,
          -70.0569874702,
          -69.9322854551,
          -69.9167182149,
          -59.6269421875,
          -59.52342444399999,
          -59.6405232011,
          -70.5576168867,
          -70.0504578763,
          -69.5208813974,
          -61.2021031217,
          -61.272735208,
          -61.3493984168,
          -61.4679904574,
          -61.6980185744,
          -61.789768601800006,
          -61.3933447692,
          -61.3097177225,
          -61.2462999009,
          -73.7317130321,
          -73.5854831888,
          -74.2132159298,
          -84.3835182183,
          -83.8937887879,
          -83.1023438065,
          -76.4447810196,
          -76.3471460836,
          -76.1933385559,
          -75.4408916527,
          -75.3974820474,
          -74.5364585209,
          -72.1891052652,
          -72.0888726655,
          -71.543719005,
          -81.6635825732,
          -81.5347003717,
          -81.7591487164,
          -81.3844110786,
          -81.2539409635,
          -81.15364553229999,
          -64.3718986946,
          -64.2810188139,
          -64.5757328838,
          -67.934512845,
          -67.2463285365,
          -66.5546577205,
          -64.884049413,
          -64.7532647691,
          -64.8478669498,
          -62.8551020162,
          -63.1367373636,
          -62.9865240158,
          -63.0218939638,
          -63.119858716,
          -63.0162701998
         ],
         "marker": {
          "color": "red",
          "size": 10
         },
         "mode": "markers",
         "name": "",
         "showlegend": false,
         "subplot": "mapbox",
         "type": "scattermapbox"
        },
        {
         "hovertemplate": "<b>%{hovertext}</b><br><br>lat=%{lat}<br>lon=%{lon}<extra></extra>",
         "hovertext": [
          "North Caicos, Turks and Caicos Islands",
          "Turtle Tail Drive, Providenciales, TKCA 1ZZ, Turks and Caicos Islands",
          "Cat Island, The Bahamas"
         ],
         "lat": [
          21.8685272867,
          21.7613213501,
          24.2997540423
         ],
         "legendgroup": "",
         "lon": [
          -72.0888726655,
          -72.1891052652,
          -75.4408916527
         ],
         "marker": {
          "color": "magenta",
          "size": 10
         },
         "mode": "markers",
         "name": "",
         "showlegend": false,
         "subplot": "mapbox",
         "type": "scattermapbox"
        }
       ],
       "layout": {
        "height": 1200,
        "legend": {
         "tracegroupgap": 0
        },
        "mapbox": {
         "center": {
          "lat": 19.1,
          "lon": -72.3
         },
         "domain": {
          "x": [
           0,
           1
          ],
          "y": [
           0,
           1
          ]
         },
         "layers": [
          {
           "below": "traces",
           "source": [
            "https://services.arcgisonline.com/arcgis/rest/services/World_Imagery/MapServer/tile/{z}/{y}/{x}"
           ],
           "sourceattribution": "ESRI World Imagery",
           "sourcetype": "raster"
          }
         ],
         "style": "carto-positron",
         "zoom": 5.6
        },
        "margin": {
         "t": 60
        },
        "template": {
         "data": {
          "bar": [
           {
            "error_x": {
             "color": "#2a3f5f"
            },
            "error_y": {
             "color": "#2a3f5f"
            },
            "marker": {
             "line": {
              "color": "#E5ECF6",
              "width": 0.5
             },
             "pattern": {
              "fillmode": "overlay",
              "size": 10,
              "solidity": 0.2
             }
            },
            "type": "bar"
           }
          ],
          "barpolar": [
           {
            "marker": {
             "line": {
              "color": "#E5ECF6",
              "width": 0.5
             },
             "pattern": {
              "fillmode": "overlay",
              "size": 10,
              "solidity": 0.2
             }
            },
            "type": "barpolar"
           }
          ],
          "carpet": [
           {
            "aaxis": {
             "endlinecolor": "#2a3f5f",
             "gridcolor": "white",
             "linecolor": "white",
             "minorgridcolor": "white",
             "startlinecolor": "#2a3f5f"
            },
            "baxis": {
             "endlinecolor": "#2a3f5f",
             "gridcolor": "white",
             "linecolor": "white",
             "minorgridcolor": "white",
             "startlinecolor": "#2a3f5f"
            },
            "type": "carpet"
           }
          ],
          "choropleth": [
           {
            "colorbar": {
             "outlinewidth": 0,
             "ticks": ""
            },
            "type": "choropleth"
           }
          ],
          "contour": [
           {
            "colorbar": {
             "outlinewidth": 0,
             "ticks": ""
            },
            "colorscale": [
             [
              0,
              "#0d0887"
             ],
             [
              0.1111111111111111,
              "#46039f"
             ],
             [
              0.2222222222222222,
              "#7201a8"
             ],
             [
              0.3333333333333333,
              "#9c179e"
             ],
             [
              0.4444444444444444,
              "#bd3786"
             ],
             [
              0.5555555555555556,
              "#d8576b"
             ],
             [
              0.6666666666666666,
              "#ed7953"
             ],
             [
              0.7777777777777778,
              "#fb9f3a"
             ],
             [
              0.8888888888888888,
              "#fdca26"
             ],
             [
              1,
              "#f0f921"
             ]
            ],
            "type": "contour"
           }
          ],
          "contourcarpet": [
           {
            "colorbar": {
             "outlinewidth": 0,
             "ticks": ""
            },
            "type": "contourcarpet"
           }
          ],
          "heatmap": [
           {
            "colorbar": {
             "outlinewidth": 0,
             "ticks": ""
            },
            "colorscale": [
             [
              0,
              "#0d0887"
             ],
             [
              0.1111111111111111,
              "#46039f"
             ],
             [
              0.2222222222222222,
              "#7201a8"
             ],
             [
              0.3333333333333333,
              "#9c179e"
             ],
             [
              0.4444444444444444,
              "#bd3786"
             ],
             [
              0.5555555555555556,
              "#d8576b"
             ],
             [
              0.6666666666666666,
              "#ed7953"
             ],
             [
              0.7777777777777778,
              "#fb9f3a"
             ],
             [
              0.8888888888888888,
              "#fdca26"
             ],
             [
              1,
              "#f0f921"
             ]
            ],
            "type": "heatmap"
           }
          ],
          "heatmapgl": [
           {
            "colorbar": {
             "outlinewidth": 0,
             "ticks": ""
            },
            "colorscale": [
             [
              0,
              "#0d0887"
             ],
             [
              0.1111111111111111,
              "#46039f"
             ],
             [
              0.2222222222222222,
              "#7201a8"
             ],
             [
              0.3333333333333333,
              "#9c179e"
             ],
             [
              0.4444444444444444,
              "#bd3786"
             ],
             [
              0.5555555555555556,
              "#d8576b"
             ],
             [
              0.6666666666666666,
              "#ed7953"
             ],
             [
              0.7777777777777778,
              "#fb9f3a"
             ],
             [
              0.8888888888888888,
              "#fdca26"
             ],
             [
              1,
              "#f0f921"
             ]
            ],
            "type": "heatmapgl"
           }
          ],
          "histogram": [
           {
            "marker": {
             "pattern": {
              "fillmode": "overlay",
              "size": 10,
              "solidity": 0.2
             }
            },
            "type": "histogram"
           }
          ],
          "histogram2d": [
           {
            "colorbar": {
             "outlinewidth": 0,
             "ticks": ""
            },
            "colorscale": [
             [
              0,
              "#0d0887"
             ],
             [
              0.1111111111111111,
              "#46039f"
             ],
             [
              0.2222222222222222,
              "#7201a8"
             ],
             [
              0.3333333333333333,
              "#9c179e"
             ],
             [
              0.4444444444444444,
              "#bd3786"
             ],
             [
              0.5555555555555556,
              "#d8576b"
             ],
             [
              0.6666666666666666,
              "#ed7953"
             ],
             [
              0.7777777777777778,
              "#fb9f3a"
             ],
             [
              0.8888888888888888,
              "#fdca26"
             ],
             [
              1,
              "#f0f921"
             ]
            ],
            "type": "histogram2d"
           }
          ],
          "histogram2dcontour": [
           {
            "colorbar": {
             "outlinewidth": 0,
             "ticks": ""
            },
            "colorscale": [
             [
              0,
              "#0d0887"
             ],
             [
              0.1111111111111111,
              "#46039f"
             ],
             [
              0.2222222222222222,
              "#7201a8"
             ],
             [
              0.3333333333333333,
              "#9c179e"
             ],
             [
              0.4444444444444444,
              "#bd3786"
             ],
             [
              0.5555555555555556,
              "#d8576b"
             ],
             [
              0.6666666666666666,
              "#ed7953"
             ],
             [
              0.7777777777777778,
              "#fb9f3a"
             ],
             [
              0.8888888888888888,
              "#fdca26"
             ],
             [
              1,
              "#f0f921"
             ]
            ],
            "type": "histogram2dcontour"
           }
          ],
          "mesh3d": [
           {
            "colorbar": {
             "outlinewidth": 0,
             "ticks": ""
            },
            "type": "mesh3d"
           }
          ],
          "parcoords": [
           {
            "line": {
             "colorbar": {
              "outlinewidth": 0,
              "ticks": ""
             }
            },
            "type": "parcoords"
           }
          ],
          "pie": [
           {
            "automargin": true,
            "type": "pie"
           }
          ],
          "scatter": [
           {
            "fillpattern": {
             "fillmode": "overlay",
             "size": 10,
             "solidity": 0.2
            },
            "type": "scatter"
           }
          ],
          "scatter3d": [
           {
            "line": {
             "colorbar": {
              "outlinewidth": 0,
              "ticks": ""
             }
            },
            "marker": {
             "colorbar": {
              "outlinewidth": 0,
              "ticks": ""
             }
            },
            "type": "scatter3d"
           }
          ],
          "scattercarpet": [
           {
            "marker": {
             "colorbar": {
              "outlinewidth": 0,
              "ticks": ""
             }
            },
            "type": "scattercarpet"
           }
          ],
          "scattergeo": [
           {
            "marker": {
             "colorbar": {
              "outlinewidth": 0,
              "ticks": ""
             }
            },
            "type": "scattergeo"
           }
          ],
          "scattergl": [
           {
            "marker": {
             "colorbar": {
              "outlinewidth": 0,
              "ticks": ""
             }
            },
            "type": "scattergl"
           }
          ],
          "scattermapbox": [
           {
            "marker": {
             "colorbar": {
              "outlinewidth": 0,
              "ticks": ""
             }
            },
            "type": "scattermapbox"
           }
          ],
          "scatterpolar": [
           {
            "marker": {
             "colorbar": {
              "outlinewidth": 0,
              "ticks": ""
             }
            },
            "type": "scatterpolar"
           }
          ],
          "scatterpolargl": [
           {
            "marker": {
             "colorbar": {
              "outlinewidth": 0,
              "ticks": ""
             }
            },
            "type": "scatterpolargl"
           }
          ],
          "scatterternary": [
           {
            "marker": {
             "colorbar": {
              "outlinewidth": 0,
              "ticks": ""
             }
            },
            "type": "scatterternary"
           }
          ],
          "surface": [
           {
            "colorbar": {
             "outlinewidth": 0,
             "ticks": ""
            },
            "colorscale": [
             [
              0,
              "#0d0887"
             ],
             [
              0.1111111111111111,
              "#46039f"
             ],
             [
              0.2222222222222222,
              "#7201a8"
             ],
             [
              0.3333333333333333,
              "#9c179e"
             ],
             [
              0.4444444444444444,
              "#bd3786"
             ],
             [
              0.5555555555555556,
              "#d8576b"
             ],
             [
              0.6666666666666666,
              "#ed7953"
             ],
             [
              0.7777777777777778,
              "#fb9f3a"
             ],
             [
              0.8888888888888888,
              "#fdca26"
             ],
             [
              1,
              "#f0f921"
             ]
            ],
            "type": "surface"
           }
          ],
          "table": [
           {
            "cells": {
             "fill": {
              "color": "#EBF0F8"
             },
             "line": {
              "color": "white"
             }
            },
            "header": {
             "fill": {
              "color": "#C8D4E3"
             },
             "line": {
              "color": "white"
             }
            },
            "type": "table"
           }
          ]
         },
         "layout": {
          "annotationdefaults": {
           "arrowcolor": "#2a3f5f",
           "arrowhead": 0,
           "arrowwidth": 1
          },
          "autotypenumbers": "strict",
          "coloraxis": {
           "colorbar": {
            "outlinewidth": 0,
            "ticks": ""
           }
          },
          "colorscale": {
           "diverging": [
            [
             0,
             "#8e0152"
            ],
            [
             0.1,
             "#c51b7d"
            ],
            [
             0.2,
             "#de77ae"
            ],
            [
             0.3,
             "#f1b6da"
            ],
            [
             0.4,
             "#fde0ef"
            ],
            [
             0.5,
             "#f7f7f7"
            ],
            [
             0.6,
             "#e6f5d0"
            ],
            [
             0.7,
             "#b8e186"
            ],
            [
             0.8,
             "#7fbc41"
            ],
            [
             0.9,
             "#4d9221"
            ],
            [
             1,
             "#276419"
            ]
           ],
           "sequential": [
            [
             0,
             "#0d0887"
            ],
            [
             0.1111111111111111,
             "#46039f"
            ],
            [
             0.2222222222222222,
             "#7201a8"
            ],
            [
             0.3333333333333333,
             "#9c179e"
            ],
            [
             0.4444444444444444,
             "#bd3786"
            ],
            [
             0.5555555555555556,
             "#d8576b"
            ],
            [
             0.6666666666666666,
             "#ed7953"
            ],
            [
             0.7777777777777778,
             "#fb9f3a"
            ],
            [
             0.8888888888888888,
             "#fdca26"
            ],
            [
             1,
             "#f0f921"
            ]
           ],
           "sequentialminus": [
            [
             0,
             "#0d0887"
            ],
            [
             0.1111111111111111,
             "#46039f"
            ],
            [
             0.2222222222222222,
             "#7201a8"
            ],
            [
             0.3333333333333333,
             "#9c179e"
            ],
            [
             0.4444444444444444,
             "#bd3786"
            ],
            [
             0.5555555555555556,
             "#d8576b"
            ],
            [
             0.6666666666666666,
             "#ed7953"
            ],
            [
             0.7777777777777778,
             "#fb9f3a"
            ],
            [
             0.8888888888888888,
             "#fdca26"
            ],
            [
             1,
             "#f0f921"
            ]
           ]
          },
          "colorway": [
           "#636efa",
           "#EF553B",
           "#00cc96",
           "#ab63fa",
           "#FFA15A",
           "#19d3f3",
           "#FF6692",
           "#B6E880",
           "#FF97FF",
           "#FECB52"
          ],
          "font": {
           "color": "#2a3f5f"
          },
          "geo": {
           "bgcolor": "white",
           "lakecolor": "white",
           "landcolor": "#E5ECF6",
           "showlakes": true,
           "showland": true,
           "subunitcolor": "white"
          },
          "hoverlabel": {
           "align": "left"
          },
          "hovermode": "closest",
          "mapbox": {
           "style": "light"
          },
          "paper_bgcolor": "white",
          "plot_bgcolor": "#E5ECF6",
          "polar": {
           "angularaxis": {
            "gridcolor": "white",
            "linecolor": "white",
            "ticks": ""
           },
           "bgcolor": "#E5ECF6",
           "radialaxis": {
            "gridcolor": "white",
            "linecolor": "white",
            "ticks": ""
           }
          },
          "scene": {
           "xaxis": {
            "backgroundcolor": "#E5ECF6",
            "gridcolor": "white",
            "gridwidth": 2,
            "linecolor": "white",
            "showbackground": true,
            "ticks": "",
            "zerolinecolor": "white"
           },
           "yaxis": {
            "backgroundcolor": "#E5ECF6",
            "gridcolor": "white",
            "gridwidth": 2,
            "linecolor": "white",
            "showbackground": true,
            "ticks": "",
            "zerolinecolor": "white"
           },
           "zaxis": {
            "backgroundcolor": "#E5ECF6",
            "gridcolor": "white",
            "gridwidth": 2,
            "linecolor": "white",
            "showbackground": true,
            "ticks": "",
            "zerolinecolor": "white"
           }
          },
          "shapedefaults": {
           "line": {
            "color": "#2a3f5f"
           }
          },
          "ternary": {
           "aaxis": {
            "gridcolor": "white",
            "linecolor": "white",
            "ticks": ""
           },
           "baxis": {
            "gridcolor": "white",
            "linecolor": "white",
            "ticks": ""
           },
           "bgcolor": "#E5ECF6",
           "caxis": {
            "gridcolor": "white",
            "linecolor": "white",
            "ticks": ""
           }
          },
          "title": {
           "x": 0.05
          },
          "xaxis": {
           "automargin": true,
           "gridcolor": "white",
           "linecolor": "white",
           "ticks": "",
           "title": {
            "standoff": 15
           },
           "zerolinecolor": "white",
           "zerolinewidth": 2
          },
          "yaxis": {
           "automargin": true,
           "gridcolor": "white",
           "linecolor": "white",
           "ticks": "",
           "title": {
            "standoff": 15
           },
           "zerolinecolor": "white",
           "zerolinewidth": 2
          }
         }
        },
        "title": {
         "font": {
          "size": 20
         },
         "text": "Cat3 Hurricane Return Period PC PC   Risk Level Hotspot Distribution along Caribbean's shoreline",
         "x": 0.5,
         "xanchor": "center"
        },
        "width": 2000
       }
      }
     },
     "metadata": {},
     "output_type": "display_data"
    },
    {
     "data": {
      "application/vnd.plotly.v1+json": {
       "config": {
        "plotlyServerURL": "https://plot.ly"
       },
       "data": [
        {
         "hovertemplate": "<b>%{hovertext}</b><br><br>lat=%{lat}<br>lon=%{lon}<extra></extra>",
         "hovertext": [
          "Oroshio, Uribia, La Guajira, RAP Caribe, Colombia",
          "Vía Uribia - Puerto Bolívar, Terminal de Carbones del Cerrejón, Junain, Uribia, La Guajira, RAP Caribe, Colombia",
          "Puerto Estrella, Magdalena, Uribia, La Guajira, RAP Caribe, 440029, Colombia",
          "Upper Conaree, Saint Peter Basseterre, Saint Kitts, Saint Kitts and Nevis",
          "Turtle Time Beach Bar & Grill, Uhral Saint Clair Swanston Highway, Craddocks, Cotton Ground, Saint Thomas Lowland, Nevis, Saint Kitts and Nevis",
          "Sandy Point, Saint Anne Sandy Point, Saint Kitts, Saint Kitts and Nevis",
          "EEG Boulevard, Belnem, Kralendijk, Bonaire, Nederland, 1234 AB, Nederland",
          "Karpata, Bonaire, Nederland",
          "EEG Boulevard, Bonaire, Nederland",
          "Route de la Pointe-des-Châteaux, Saint-François, Pointe-à-Pitre, Guadeloupe, 97118, France",
          "N 5, Damencourt, Le Moule, Pointe-à-Pitre, Guadeloupe, 97160, France",
          "Rue de l'Anse à la Barque, Sainte-Anne, Pointe-à-Pitre, Guadeloupe, 97180, France",
          "Fort Road, St. John's, Saint John, Antigua, Antigua and Barbuda",
          "Crabbs Road, Crabbs, Saint Peter, Antigua, Antigua and Barbuda",
          "Sandy Lane, Johnsons Point, Saint Mary, Antigua, Antigua and Barbuda",
          "Asubure, Parroquia Adícora, Municipio Falcón, Falcón, Venezuela",
          "Parroquia Jadacaquiva, Municipio Falcón, Falcón, Venezuela",
          "Medanos de Cabo San Roman, Punta Baroa, Cabo San Román, Parroquia El Vínculo, Municipio Falcón, Falcón, Venezuela",
          "Fish N Fins, Little Bay Beach Road, Geralds, Carr's Bay, Little Bay, Saint Peter, Montserrat",
          "Plymouth Port, Cork Hill Road, Richmond Hill, Saint Anthony, Montserrat",
          "Nsutica, Pietermaaiweg, Pietermaai, Punda, Willemstad, Curaçao, 0000 NA, Nederland",
          "Westpunt, Curaçao, Nederland",
          "Curaçao International Airport, F.D. Rooseveltweg, Kunuku Hatoen, Hato, Curaçao, 0000 CW, Nederland",
          "Coconut Bay Road, Bruceville / Shantytown, Vieux Fort, LC12 201, Saint Lucia",
          "Sandals Grande St. Lucian, Robert J. Devaux Drive, Becune Point, Gros Islet, LC01 601, Saint Lucia",
          "Laffing Fish, High Street, Rocky Lane, Athens, Dennery, LC16 101, Saint Lucia",
          "L.G. Smith Boulevard, Taratata, Bushiri, Oranjestad West, Oranjestad, Oranjestad (city), Nederland",
          "Cura Cabai, Nederland",
          "Sabanilla Abao, Catashi, Nederland",
          "The Bridgetown Fisheries Complex, Princess Alice Highway, Bridgetown, Saint Michael, BB11007, Barbados",
          "Silver Sands, St. Christopher, Goodland, Silver Sands, Christ Church, BB17121, Barbados",
          "Colony Club Beach Resort, Highway 1, Trents, Saint James, BB24026, Barbados",
          "Excellence Punta Cana Hotel, Carretera Uvero Alto, Uvero Alto, Higüey, La Altagracia, 23002, República Dominicana",
          "Calle La Bahía, Bayahíbe, San Rafael del Yuma, La Altagracia, 23200, República Dominicana",
          "Punta de Coco, Punta Cana, Higüey, La Altagracia, República Dominicana",
          "Georgetown, Charlotte, VC0220, Saint Vincent and the Grenadines",
          "Argyle International Airport, Windward Highway, Stubbs, Saint George, Saint Vincent and the Grenadines",
          "Keartons, Barrouallie, Saint Patrick, Saint Vincent and the Grenadines",
          "Maurice Bishop Memorial Highway, Calliste, Saint George, Grenada",
          "Farm Road, Petite Esperance, Westerhall, Saint David, Grenada",
          "Estuary Lane, Simon, Saint Andrew, Grenada",
          "Edward Olivier Leblanc Highway, Layou, Saint Joseph Parish, Dominica",
          "River Bank, Potters Ville, Roseau, Saint George Parish, Dominica",
          "Portsmouth Fisheries Complex, Pembroke Street, Portsmouth Central, Portsmouth, Saint John Parish, Dominica",
          "RD 501, 1e Baudin, Beraca, Commune de Port-de-Paix, Arrondissement Port-de-Paix, Département du Nord-Ouest, Ayiti",
          "RD 501, 4e Rivière des Barres, Saint-Louis-du-Nord, Commune Saint-Louis-du-Nord, Arrondissement Saint-Louis-du-Nord, Département du Nord-Ouest, Ayiti",
          "3e Petite Anse, Village Notre-Dame, Commune Cap-Haïtien, Arrondissement de Cap-Haïtien, Département du Nord, 1110, Ayiti",
          "Casa Kiki, Calle Caletón, Caletón, Playa Larga, Ciénaga de Zapata, Matanzas, 44300, Cuba",
          "Júcaro, Venezuela, Cuba",
          "Carretera a Embarcadero Palo Alto, Embarcadero de Palo Alto, Embarcadero Palo Alto, Venezuela, Cuba",
          "Seashore Bay Resort, Norman Manley Boulevard, Hanover, Cornwall County, Jamaica",
          "Rocky Point, Clarendon, Middlesex County, Jamaica",
          "Port Royal Road, Port Royal, Saint Andrew, Surrey County, Jamaica",
          "Cat Island, The Bahamas",
          "Club Med, Queen's Highway, Sugar Loaf Settlement, Cockburn Town, San Salvador, The Bahamas",
          "Coral Harbour Canal, Coral Boulevard, Coral Harbour, New Providence, The Bahamas",
          "North Caicos, Turks and Caicos Islands",
          "Turtle Tail Drive, Providenciales, TKCA 1ZZ, Turks and Caicos Islands",
          "Cockburn Harbour, East Caicos, Turks and Caicos Islands",
          "Saddle Bunch No. 2 Bridge, Overseas Highway, Bay Point, Monroe County, Florida, United States",
          "Raffy Road, Cudjoe Key, Monroe County, Florida, 33042, United States",
          "Coral Road, Big Pine Key, Monroe County, Florida, 33043, United States",
          "Grand Cayman Marriott Beach Resort, West Bay Road, The Swamp, Whitehall Estate, George Town, KY1-1202, Cayman Islands",
          "Rum Point Drive, Drift Wood Village, North Side, Cayman Islands",
          "Guy Banks Road, Sister Islands, KY3-2501, Cayman Islands",
          "Anegada Road, Anegada, British Virgin Islands",
          "H. Lavity Stoutt Community College, Highland Grove Drive, East End, Tortola, VG1110, British Virgin Islands",
          "The Settlement, Anegada, British Virgin Islands",
          "Playa, Ponce, Puerto Rico, 00734, United States",
          "Calle Los Tulipanes, Jardines del Caribe, Sabanetas, Mayagüez, Puerto Rico, 00610, United States",
          "Calle La Marina, Complejo Deportivo del Oeste, Villa Tortuga, Miradero, Cabo Rojo, Puerto Rico, 00623, United States",
          "Cyril E King Airport, Grambokola Hill Road, Charlotte Amalie West, Saint Thomas - Saint John District, United States Virgin Islands, 00803, United States",
          "Muller Bay Drive, Charlotte Amalie, Saint Thomas - Saint John District, United States Virgin Islands, United States",
          "Saint Thomas - Saint John District, United States Virgin Islands, United States",
          "Route de la Plage de Public, Corossol, Gustavia, Saint-Barthélemy, 97133, France",
          "Corito Road, The Valley, AI-2640, Anguilla",
          "Rue de la Falaise, Les Terres Basses, Saint-Martin (France), 97150, France",
          "Gratten's Point, Anguilla",
          "The Morgan Resort, 2, Beacon Hill Road, Maho, Simpson Bay, Sint Maarten, Nederland",
          "89, Avenue du Lagon, Oyster Pond, Saint-Martin (France), 97150, France"
         ],
         "lat": [
          12.1580299071,
          12.2532702794,
          12.3523925333,
          17.323178921300002,
          17.152829118299998,
          17.3530727401,
          12.1112849259,
          12.2197662554,
          12.027054382,
          16.2514802103,
          16.3355415529,
          16.2406215516,
          17.1424153155,
          17.1218074111,
          17.026011273399998,
          12.0639944217,
          12.1038212948,
          12.1870346473,
          16.8012715278,
          16.703973463900002,
          12.1025004032,
          12.3736969624,
          12.1927222173,
          13.7414027743,
          14.08686195,
          13.9107712298,
          12.5247817215,
          12.4381281776,
          12.5349733768,
          13.0974190755,
          13.0485790788,
          13.1946800774,
          18.8273894831,
          18.3658220224,
          18.5931871497,
          13.2882258928,
          13.157221578900002,
          13.24466743,
          12.0085336417,
          12.0140398808,
          12.1396010553,
          15.3970109154,
          15.3016704604,
          15.5760225949,
          19.9499213142,
          19.9272260952,
          19.7435697978,
          22.2798221591,
          21.6204457711,
          21.5972511425,
          18.3296996328,
          17.761933589,
          17.9291011385,
          24.2997540423,
          24.0678078924,
          24.9809778211,
          21.8685272867,
          21.7613213501,
          21.5127411852,
          24.6281972821,
          24.6615524122,
          24.663689908,
          19.3181922463,
          19.3589535334,
          19.6595203951,
          18.744991519000003,
          18.4193072808,
          18.7146634392,
          17.967647362,
          18.2649090357,
          18.0987726613,
          18.3299787623,
          18.32473299,
          18.4072829158,
          17.9053428576,
          18.1939568697,
          18.0711724371,
          18.289171576300003,
          18.0370549952,
          18.0576165498
         ],
         "legendgroup": "",
         "lon": [
          -71.9809878541,
          -71.9718532682,
          -71.30467373229999,
          -62.6997981294,
          -62.6289256088,
          -62.8471559031,
          -68.29045268029999,
          -68.3679145207,
          -68.2447926147,
          -61.217251121,
          -61.3544650481,
          -61.32781984060001,
          -61.8581352087,
          -61.7595350619,
          -61.884442781,
          -69.8572021892,
          -70.1755097391,
          -70.03632856029999,
          -62.20777090399999,
          -62.22087839050001,
          -68.9326100119,
          -69.15715222600001,
          -68.96263801810001,
          -60.937419183900005,
          -60.9620682097,
          -60.8879627469,
          -70.0469288721,
          -69.928969177,
          -69.9453589347,
          -59.6215816906,
          -59.5190183196,
          -59.6405232011,
          -68.5980836488,
          -68.8414023874,
          -68.32573469260001,
          -61.1171861149,
          -61.14677957479999,
          -61.272853131000005,
          -61.789768601800006,
          -61.6980185744,
          -61.6087121732,
          -61.4239091164,
          -61.3875819882,
          -61.4586687037,
          -72.8086411978,
          -72.7003001501,
          -72.1721444905,
          -81.21191784199999,
          -78.8509425484,
          -78.97097937550001,
          -78.3380001683,
          -77.2596966625,
          -76.7804832066,
          -75.4408916527,
          -74.5356546583,
          -77.4504208826,
          -72.0888726655,
          -72.1891052652,
          -71.5456694313,
          -81.5979192166,
          -81.4909367753,
          -81.3723824004,
          -81.3840326289,
          -81.2539409635,
          -80.0844288217,
          -64.3718986946,
          -64.5757328838,
          -64.2810188139,
          -66.6107740714,
          -67.1856652028,
          -67.1910201421,
          -64.97192802939999,
          -64.8478669498,
          -64.91138159229999,
          -62.8551020162,
          -63.0501057689,
          -63.1448915422,
          -62.9299424515,
          -63.119858716,
          -63.0162701998
         ],
         "marker": {
          "color": "red",
          "size": 10
         },
         "mode": "markers",
         "name": "",
         "showlegend": false,
         "subplot": "mapbox",
         "type": "scattermapbox"
        },
        {
         "hovertemplate": "<b>%{hovertext}</b><br><br>lat=%{lat}<br>lon=%{lon}<extra></extra>",
         "hovertext": [
          "Cat Island, The Bahamas",
          "Excellence Punta Cana Hotel, Carretera Uvero Alto, Uvero Alto, Higüey, La Altagracia, 23002, República Dominicana",
          "Júcaro, Venezuela, Cuba"
         ],
         "lat": [
          24.2997540423,
          18.8273894831,
          21.6204457711
         ],
         "legendgroup": "",
         "lon": [
          -75.4408916527,
          -68.5980836488,
          -78.8509425484
         ],
         "marker": {
          "color": "magenta",
          "size": 10
         },
         "mode": "markers",
         "name": "",
         "showlegend": false,
         "subplot": "mapbox",
         "type": "scattermapbox"
        }
       ],
       "layout": {
        "height": 1200,
        "legend": {
         "tracegroupgap": 0
        },
        "mapbox": {
         "center": {
          "lat": 19.1,
          "lon": -72.3
         },
         "domain": {
          "x": [
           0,
           1
          ],
          "y": [
           0,
           1
          ]
         },
         "layers": [
          {
           "below": "traces",
           "source": [
            "https://services.arcgisonline.com/arcgis/rest/services/World_Imagery/MapServer/tile/{z}/{y}/{x}"
           ],
           "sourceattribution": "ESRI World Imagery",
           "sourcetype": "raster"
          }
         ],
         "style": "carto-positron",
         "zoom": 5.6
        },
        "margin": {
         "t": 60
        },
        "template": {
         "data": {
          "bar": [
           {
            "error_x": {
             "color": "#2a3f5f"
            },
            "error_y": {
             "color": "#2a3f5f"
            },
            "marker": {
             "line": {
              "color": "#E5ECF6",
              "width": 0.5
             },
             "pattern": {
              "fillmode": "overlay",
              "size": 10,
              "solidity": 0.2
             }
            },
            "type": "bar"
           }
          ],
          "barpolar": [
           {
            "marker": {
             "line": {
              "color": "#E5ECF6",
              "width": 0.5
             },
             "pattern": {
              "fillmode": "overlay",
              "size": 10,
              "solidity": 0.2
             }
            },
            "type": "barpolar"
           }
          ],
          "carpet": [
           {
            "aaxis": {
             "endlinecolor": "#2a3f5f",
             "gridcolor": "white",
             "linecolor": "white",
             "minorgridcolor": "white",
             "startlinecolor": "#2a3f5f"
            },
            "baxis": {
             "endlinecolor": "#2a3f5f",
             "gridcolor": "white",
             "linecolor": "white",
             "minorgridcolor": "white",
             "startlinecolor": "#2a3f5f"
            },
            "type": "carpet"
           }
          ],
          "choropleth": [
           {
            "colorbar": {
             "outlinewidth": 0,
             "ticks": ""
            },
            "type": "choropleth"
           }
          ],
          "contour": [
           {
            "colorbar": {
             "outlinewidth": 0,
             "ticks": ""
            },
            "colorscale": [
             [
              0,
              "#0d0887"
             ],
             [
              0.1111111111111111,
              "#46039f"
             ],
             [
              0.2222222222222222,
              "#7201a8"
             ],
             [
              0.3333333333333333,
              "#9c179e"
             ],
             [
              0.4444444444444444,
              "#bd3786"
             ],
             [
              0.5555555555555556,
              "#d8576b"
             ],
             [
              0.6666666666666666,
              "#ed7953"
             ],
             [
              0.7777777777777778,
              "#fb9f3a"
             ],
             [
              0.8888888888888888,
              "#fdca26"
             ],
             [
              1,
              "#f0f921"
             ]
            ],
            "type": "contour"
           }
          ],
          "contourcarpet": [
           {
            "colorbar": {
             "outlinewidth": 0,
             "ticks": ""
            },
            "type": "contourcarpet"
           }
          ],
          "heatmap": [
           {
            "colorbar": {
             "outlinewidth": 0,
             "ticks": ""
            },
            "colorscale": [
             [
              0,
              "#0d0887"
             ],
             [
              0.1111111111111111,
              "#46039f"
             ],
             [
              0.2222222222222222,
              "#7201a8"
             ],
             [
              0.3333333333333333,
              "#9c179e"
             ],
             [
              0.4444444444444444,
              "#bd3786"
             ],
             [
              0.5555555555555556,
              "#d8576b"
             ],
             [
              0.6666666666666666,
              "#ed7953"
             ],
             [
              0.7777777777777778,
              "#fb9f3a"
             ],
             [
              0.8888888888888888,
              "#fdca26"
             ],
             [
              1,
              "#f0f921"
             ]
            ],
            "type": "heatmap"
           }
          ],
          "heatmapgl": [
           {
            "colorbar": {
             "outlinewidth": 0,
             "ticks": ""
            },
            "colorscale": [
             [
              0,
              "#0d0887"
             ],
             [
              0.1111111111111111,
              "#46039f"
             ],
             [
              0.2222222222222222,
              "#7201a8"
             ],
             [
              0.3333333333333333,
              "#9c179e"
             ],
             [
              0.4444444444444444,
              "#bd3786"
             ],
             [
              0.5555555555555556,
              "#d8576b"
             ],
             [
              0.6666666666666666,
              "#ed7953"
             ],
             [
              0.7777777777777778,
              "#fb9f3a"
             ],
             [
              0.8888888888888888,
              "#fdca26"
             ],
             [
              1,
              "#f0f921"
             ]
            ],
            "type": "heatmapgl"
           }
          ],
          "histogram": [
           {
            "marker": {
             "pattern": {
              "fillmode": "overlay",
              "size": 10,
              "solidity": 0.2
             }
            },
            "type": "histogram"
           }
          ],
          "histogram2d": [
           {
            "colorbar": {
             "outlinewidth": 0,
             "ticks": ""
            },
            "colorscale": [
             [
              0,
              "#0d0887"
             ],
             [
              0.1111111111111111,
              "#46039f"
             ],
             [
              0.2222222222222222,
              "#7201a8"
             ],
             [
              0.3333333333333333,
              "#9c179e"
             ],
             [
              0.4444444444444444,
              "#bd3786"
             ],
             [
              0.5555555555555556,
              "#d8576b"
             ],
             [
              0.6666666666666666,
              "#ed7953"
             ],
             [
              0.7777777777777778,
              "#fb9f3a"
             ],
             [
              0.8888888888888888,
              "#fdca26"
             ],
             [
              1,
              "#f0f921"
             ]
            ],
            "type": "histogram2d"
           }
          ],
          "histogram2dcontour": [
           {
            "colorbar": {
             "outlinewidth": 0,
             "ticks": ""
            },
            "colorscale": [
             [
              0,
              "#0d0887"
             ],
             [
              0.1111111111111111,
              "#46039f"
             ],
             [
              0.2222222222222222,
              "#7201a8"
             ],
             [
              0.3333333333333333,
              "#9c179e"
             ],
             [
              0.4444444444444444,
              "#bd3786"
             ],
             [
              0.5555555555555556,
              "#d8576b"
             ],
             [
              0.6666666666666666,
              "#ed7953"
             ],
             [
              0.7777777777777778,
              "#fb9f3a"
             ],
             [
              0.8888888888888888,
              "#fdca26"
             ],
             [
              1,
              "#f0f921"
             ]
            ],
            "type": "histogram2dcontour"
           }
          ],
          "mesh3d": [
           {
            "colorbar": {
             "outlinewidth": 0,
             "ticks": ""
            },
            "type": "mesh3d"
           }
          ],
          "parcoords": [
           {
            "line": {
             "colorbar": {
              "outlinewidth": 0,
              "ticks": ""
             }
            },
            "type": "parcoords"
           }
          ],
          "pie": [
           {
            "automargin": true,
            "type": "pie"
           }
          ],
          "scatter": [
           {
            "fillpattern": {
             "fillmode": "overlay",
             "size": 10,
             "solidity": 0.2
            },
            "type": "scatter"
           }
          ],
          "scatter3d": [
           {
            "line": {
             "colorbar": {
              "outlinewidth": 0,
              "ticks": ""
             }
            },
            "marker": {
             "colorbar": {
              "outlinewidth": 0,
              "ticks": ""
             }
            },
            "type": "scatter3d"
           }
          ],
          "scattercarpet": [
           {
            "marker": {
             "colorbar": {
              "outlinewidth": 0,
              "ticks": ""
             }
            },
            "type": "scattercarpet"
           }
          ],
          "scattergeo": [
           {
            "marker": {
             "colorbar": {
              "outlinewidth": 0,
              "ticks": ""
             }
            },
            "type": "scattergeo"
           }
          ],
          "scattergl": [
           {
            "marker": {
             "colorbar": {
              "outlinewidth": 0,
              "ticks": ""
             }
            },
            "type": "scattergl"
           }
          ],
          "scattermapbox": [
           {
            "marker": {
             "colorbar": {
              "outlinewidth": 0,
              "ticks": ""
             }
            },
            "type": "scattermapbox"
           }
          ],
          "scatterpolar": [
           {
            "marker": {
             "colorbar": {
              "outlinewidth": 0,
              "ticks": ""
             }
            },
            "type": "scatterpolar"
           }
          ],
          "scatterpolargl": [
           {
            "marker": {
             "colorbar": {
              "outlinewidth": 0,
              "ticks": ""
             }
            },
            "type": "scatterpolargl"
           }
          ],
          "scatterternary": [
           {
            "marker": {
             "colorbar": {
              "outlinewidth": 0,
              "ticks": ""
             }
            },
            "type": "scatterternary"
           }
          ],
          "surface": [
           {
            "colorbar": {
             "outlinewidth": 0,
             "ticks": ""
            },
            "colorscale": [
             [
              0,
              "#0d0887"
             ],
             [
              0.1111111111111111,
              "#46039f"
             ],
             [
              0.2222222222222222,
              "#7201a8"
             ],
             [
              0.3333333333333333,
              "#9c179e"
             ],
             [
              0.4444444444444444,
              "#bd3786"
             ],
             [
              0.5555555555555556,
              "#d8576b"
             ],
             [
              0.6666666666666666,
              "#ed7953"
             ],
             [
              0.7777777777777778,
              "#fb9f3a"
             ],
             [
              0.8888888888888888,
              "#fdca26"
             ],
             [
              1,
              "#f0f921"
             ]
            ],
            "type": "surface"
           }
          ],
          "table": [
           {
            "cells": {
             "fill": {
              "color": "#EBF0F8"
             },
             "line": {
              "color": "white"
             }
            },
            "header": {
             "fill": {
              "color": "#C8D4E3"
             },
             "line": {
              "color": "white"
             }
            },
            "type": "table"
           }
          ]
         },
         "layout": {
          "annotationdefaults": {
           "arrowcolor": "#2a3f5f",
           "arrowhead": 0,
           "arrowwidth": 1
          },
          "autotypenumbers": "strict",
          "coloraxis": {
           "colorbar": {
            "outlinewidth": 0,
            "ticks": ""
           }
          },
          "colorscale": {
           "diverging": [
            [
             0,
             "#8e0152"
            ],
            [
             0.1,
             "#c51b7d"
            ],
            [
             0.2,
             "#de77ae"
            ],
            [
             0.3,
             "#f1b6da"
            ],
            [
             0.4,
             "#fde0ef"
            ],
            [
             0.5,
             "#f7f7f7"
            ],
            [
             0.6,
             "#e6f5d0"
            ],
            [
             0.7,
             "#b8e186"
            ],
            [
             0.8,
             "#7fbc41"
            ],
            [
             0.9,
             "#4d9221"
            ],
            [
             1,
             "#276419"
            ]
           ],
           "sequential": [
            [
             0,
             "#0d0887"
            ],
            [
             0.1111111111111111,
             "#46039f"
            ],
            [
             0.2222222222222222,
             "#7201a8"
            ],
            [
             0.3333333333333333,
             "#9c179e"
            ],
            [
             0.4444444444444444,
             "#bd3786"
            ],
            [
             0.5555555555555556,
             "#d8576b"
            ],
            [
             0.6666666666666666,
             "#ed7953"
            ],
            [
             0.7777777777777778,
             "#fb9f3a"
            ],
            [
             0.8888888888888888,
             "#fdca26"
            ],
            [
             1,
             "#f0f921"
            ]
           ],
           "sequentialminus": [
            [
             0,
             "#0d0887"
            ],
            [
             0.1111111111111111,
             "#46039f"
            ],
            [
             0.2222222222222222,
             "#7201a8"
            ],
            [
             0.3333333333333333,
             "#9c179e"
            ],
            [
             0.4444444444444444,
             "#bd3786"
            ],
            [
             0.5555555555555556,
             "#d8576b"
            ],
            [
             0.6666666666666666,
             "#ed7953"
            ],
            [
             0.7777777777777778,
             "#fb9f3a"
            ],
            [
             0.8888888888888888,
             "#fdca26"
            ],
            [
             1,
             "#f0f921"
            ]
           ]
          },
          "colorway": [
           "#636efa",
           "#EF553B",
           "#00cc96",
           "#ab63fa",
           "#FFA15A",
           "#19d3f3",
           "#FF6692",
           "#B6E880",
           "#FF97FF",
           "#FECB52"
          ],
          "font": {
           "color": "#2a3f5f"
          },
          "geo": {
           "bgcolor": "white",
           "lakecolor": "white",
           "landcolor": "#E5ECF6",
           "showlakes": true,
           "showland": true,
           "subunitcolor": "white"
          },
          "hoverlabel": {
           "align": "left"
          },
          "hovermode": "closest",
          "mapbox": {
           "style": "light"
          },
          "paper_bgcolor": "white",
          "plot_bgcolor": "#E5ECF6",
          "polar": {
           "angularaxis": {
            "gridcolor": "white",
            "linecolor": "white",
            "ticks": ""
           },
           "bgcolor": "#E5ECF6",
           "radialaxis": {
            "gridcolor": "white",
            "linecolor": "white",
            "ticks": ""
           }
          },
          "scene": {
           "xaxis": {
            "backgroundcolor": "#E5ECF6",
            "gridcolor": "white",
            "gridwidth": 2,
            "linecolor": "white",
            "showbackground": true,
            "ticks": "",
            "zerolinecolor": "white"
           },
           "yaxis": {
            "backgroundcolor": "#E5ECF6",
            "gridcolor": "white",
            "gridwidth": 2,
            "linecolor": "white",
            "showbackground": true,
            "ticks": "",
            "zerolinecolor": "white"
           },
           "zaxis": {
            "backgroundcolor": "#E5ECF6",
            "gridcolor": "white",
            "gridwidth": 2,
            "linecolor": "white",
            "showbackground": true,
            "ticks": "",
            "zerolinecolor": "white"
           }
          },
          "shapedefaults": {
           "line": {
            "color": "#2a3f5f"
           }
          },
          "ternary": {
           "aaxis": {
            "gridcolor": "white",
            "linecolor": "white",
            "ticks": ""
           },
           "baxis": {
            "gridcolor": "white",
            "linecolor": "white",
            "ticks": ""
           },
           "bgcolor": "#E5ECF6",
           "caxis": {
            "gridcolor": "white",
            "linecolor": "white",
            "ticks": ""
           }
          },
          "title": {
           "x": 0.05
          },
          "xaxis": {
           "automargin": true,
           "gridcolor": "white",
           "linecolor": "white",
           "ticks": "",
           "title": {
            "standoff": 15
           },
           "zerolinecolor": "white",
           "zerolinewidth": 2
          },
          "yaxis": {
           "automargin": true,
           "gridcolor": "white",
           "linecolor": "white",
           "ticks": "",
           "title": {
            "standoff": 15
           },
           "zerolinecolor": "white",
           "zerolinewidth": 2
          }
         }
        },
        "title": {
         "font": {
          "size": 20
         },
         "text": "ESL 100yrRP PC   Risk Level Hotspot Distribution along Caribbean's shoreline",
         "x": 0.5,
         "xanchor": "center"
        },
        "width": 2000
       }
      }
     },
     "metadata": {},
     "output_type": "display_data"
    },
    {
     "data": {
      "application/vnd.plotly.v1+json": {
       "config": {
        "plotlyServerURL": "https://plot.ly"
       },
       "data": [
        {
         "hovertemplate": "<b>%{hovertext}</b><br><br>lat=%{lat}<br>lon=%{lon}<extra></extra>",
         "hovertext": [
          "Oroshio, Uribia, La Guajira, RAP Caribe, Colombia",
          "Vía Uribia - Puerto Bolívar, Terminal de Carbones del Cerrejón, Junain, Uribia, La Guajira, RAP Caribe, Colombia",
          "Puerto Estrella, Magdalena, Uribia, La Guajira, RAP Caribe, 440029, Colombia",
          "Canada, Saint Peter Basseterre, Saint Kitts, Saint Kitts and Nevis",
          "Sandy Point, Saint Anne Sandy Point, Saint Kitts, Saint Kitts and Nevis",
          "The Salt Ponds, Fleming Estate, Saint George Basseterre, Saint Kitts, Saint Kitts and Nevis",
          "EEG Boulevard, Belnem, Kralendijk, Bonaire, Nederland, 1234 AB, Nederland",
          "Karpata, Bonaire, Nederland",
          "EEG Boulevard, Bonaire, Nederland",
          "FR*EZD*E45697,FR*EZD*E45709, Impasse Morne Cabri, ZI Lézarde, Le Lamentin, Fort-de-France, Martinique, 97232, France",
          "Rue de la Case aux Lamantins, Vieux Bourg, Vieux-Bourg, Vieux Bourg, Morne-à-l'Eau, Pointe-à-Pitre, Guadeloupe, 97111, France",
          "Esso, Rue Saint-Jean, Le Moule, L'Autre Bord, Le Moule, Pointe-à-Pitre, Guadeloupe, 97160, France",
          "Pelican Point, Barbuda, Antigua and Barbuda",
          "Coco Point Road, Barbuda, Antigua and Barbuda",
          "Cedar Tree Point, Barbuda, Antigua and Barbuda",
          "Asubure, Parroquia Adícora, Municipio Falcón, Falcón, Venezuela",
          "Punta de Barco, Parroquia El Vínculo, Municipio Falcón, Falcón, Venezuela",
          "Parroquia Jadacaquiva, Municipio Falcón, Falcón, Venezuela",
          "Fish N Fins, Little Bay Beach Road, Geralds, Carr's Bay, Little Bay, Saint Peter, Montserrat",
          "Plymouth Port, Cork Hill Road, Richmond Hill, Saint Anthony, Montserrat",
          "Nsutica, Pietermaaiweg, Pietermaai, Punda, Willemstad, Curaçao, 0000 NA, Nederland",
          "Westpunt, Curaçao, Nederland",
          "Curaçao International Airport, F.D. Rooseveltweg, Kunuku Hatoen, Hato, Curaçao, 0000 CW, Nederland",
          "Coconut Bay Road, Bruceville / Shantytown, Vieux Fort, LC12 201, Saint Lucia",
          "Sandals Grande St. Lucian, Robert J. Devaux Drive, Becune Point, Gros Islet, LC01 601, Saint Lucia",
          "Laffing Fish, High Street, Rocky Lane, Athens, Dennery, LC16 101, Saint Lucia",
          "L.G. Smith Boulevard, Taratata, Bushiri, Oranjestad West, Oranjestad, Oranjestad (city), Nederland",
          "Cura Cabai, Nederland",
          "Sabanilla Abao, Catashi, Nederland",
          "The Bridgetown Fisheries Complex, Princess Alice Highway, Bridgetown, Saint Michael, BB11007, Barbados",
          "Silver Sands, St. Christopher, Goodland, Silver Sands, Christ Church, BB17121, Barbados",
          "Colony Club Beach Resort, Highway 1, Trents, Saint James, BB24026, Barbados",
          "Nagua - Samaná, Los Surburios, San José de Matanzas (Matancitas), Nagua, María Trinidad Sánchez, República Dominicana",
          "Boba, Nagua, María Trinidad Sánchez, República Dominicana",
          "El Catey, Sánchez, Samaná, República Dominicana",
          "Sunset Shores Hotel, Windward Highway, Calliqua, Villa, Calliaqua, Saint George, VC0100, Saint Vincent and the Grenadines",
          "Layou Government School, Leeward Highway, Layou, Saint Andrew, Saint Vincent and the Grenadines",
          "Canouan Airport, Canouan Main Road, Charlestown, Grenadines, VC0450, Saint Vincent and the Grenadines",
          "Maurice Bishop Memorial Highway, Calliste, Saint George, Grenada",
          "Farm Road, Petite Esperance, Westerhall, Saint David, Grenada",
          "Estuary Lane, Simon, Saint Andrew, Grenada",
          "La Plaine Road, Plaisance, La Plaine, Saint Patrick Parish, Dominica",
          "Goodwill Secondary School, Rawles Lane, Tarish Pit, Roseau, Saint George Parish, Dominica",
          "Edward Olivier Leblanc Highway, Layou, Saint Joseph Parish, Dominica",
          "Rue 3 Frères Rigaud, Fò lilèt - Site lejò, 1re Bourdet, Commune Les Cayes, Arrondissement des Cayes, Département du Sud, Ayiti",
          "Rue Jean-Jacques Dessalines, 3e Brodequin, Aquin, Commune d’Aquin, Arrondissement d’Aquin, Département du Sud, Ayiti",
          "1re Île-à-Vache, Commune Île-à-Vache, Arrondissement des Cayes, Département du Sud, 8160, Ayiti",
          "Carretera a Cayo Romano, Playa de Jigüey, Esmeralda, Camagüey, Cuba",
          "Memories Cayo Largo, Isla de la Juventud, Cuba",
          "Esmeralda, Camagüey, 72200, Cuba",
          "Sir Florizel Glaspole Boulevard, Harbour View, Kingston, Saint Andrew, Surrey County, Jamaica",
          "Northern Coastal Highway, Folly, Port Antonio, Portland, Surrey County, Jamaica",
          "Dover, Saint Mary, Middlesex County, Jamaica",
          "Cat Island, The Bahamas",
          "Grantanna Estates 2, Nassau, New Providence, The Bahamas",
          "Rock Sound International Airport, Queen's Highway, Tarpum Head, South Eleuthera, The Bahamas",
          "North Caicos, Turks and Caicos Islands",
          "Turtle Tail Drive, Providenciales, TKCA 1ZZ, Turks and Caicos Islands",
          "Cockburn Harbour, East Caicos, Turks and Caicos Islands",
          "Overseas Highway, El Chico, Monroe County, Florida, United States",
          "WWFT-FM (Key West), Overseas Highway, Monroe County, Florida, United States",
          "Ocean Street West, Marathon, Monroe County, Florida, 33050, United States",
          "Grand Cayman Marriott Beach Resort, West Bay Road, The Swamp, Whitehall Estate, George Town, KY1-1202, Cayman Islands",
          "Rum Point Drive, Drift Wood Village, North Side, Cayman Islands",
          "Sandy Ground Drive, Savannah, George Town, KY1-1105, Cayman Islands",
          "Anegada Road, Anegada, British Virgin Islands",
          "The Settlement, Anegada, British Virgin Islands",
          "East End, Tortola, VG1110, British Virgin Islands",
          "3099, Calle 10, Stella, Barrio Pueblo, Rincón, Puerto Rico, 00677, United States",
          "Calle Guilligan, Villa Lupe, Borinquen, Aguadilla, Puerto Rico, 00603, United States",
          "Carretera Municipal, Villa Pesquera, Guayabos, Isabela, Puerto Rico, 00665, United States",
          "King Street, Frederiksted, Saint Croix District, United States Virgin Islands, 00870, United States",
          "Bacuba Road, Judith's Fancy, Saint Croix District, United States Virgin Islands, 00820, United States",
          "Grambokola Hill Road, Charlotte Amalie West, Saint Thomas - Saint John District, United States Virgin Islands, 00803, United States",
          "Route de la Plage de Public, Corossol, Gustavia, Saint-Barthélemy, 97133, France",
          "John Hodge Drive, Long Bay Village, Anguilla",
          "Pond Ground Road, East End, Anguilla",
          "Rue Terrasse de Cul de Sac, Cul de Sac, Saint-Martin (France), 97150, France",
          "The Morgan Resort, 2, Beacon Hill Road, Maho, Simpson Bay, Sint Maarten, Nederland",
          "89, Avenue du Lagon, Oyster Pond, Saint-Martin (France), 97150, France"
         ],
         "lat": [
          12.1580299071,
          12.2532702794,
          12.3523925333,
          17.3268791427,
          17.3530727401,
          17.2526544044,
          12.1112849259,
          12.2197662554,
          12.027054382,
          14.6036038271,
          16.3436485725,
          16.3349348423,
          17.5595743979,
          17.5879979225,
          17.6964466846,
          12.0639944217,
          12.1590631774,
          12.032341491,
          16.8012715278,
          16.703973463900002,
          12.1025004032,
          12.3736969624,
          12.1927222173,
          13.7414027743,
          14.08686195,
          13.9107712298,
          12.5247817215,
          12.4381281776,
          12.5349733768,
          13.0974190755,
          13.0485790788,
          13.1946800774,
          19.3568559245,
          19.4674212326,
          19.278614411,
          13.1336568661,
          13.2014512177,
          12.6984023759,
          12.0085336417,
          12.0140398808,
          12.1396010553,
          15.3372978171,
          15.3057399397,
          15.3970109154,
          18.1990980056,
          18.270514266,
          18.085506558,
          21.9078295951,
          21.5963819941,
          22.0184876292,
          17.950590799,
          18.1796564805,
          18.2672245185,
          24.2997540423,
          24.9932072065,
          24.884627013200003,
          21.8685272867,
          21.7613213501,
          21.5127411852,
          24.590138475,
          24.6515770468,
          24.7082476945,
          19.3181922463,
          19.3589535334,
          19.2678159697,
          18.744991519000003,
          18.7146634392,
          18.4166838273,
          18.3194448325,
          18.478675055,
          18.5086398152,
          17.7163968506,
          17.776763281199997,
          18.3283551158,
          17.9053428576,
          18.1849402668,
          18.232755781,
          18.1057099887,
          18.0370549952,
          18.0576165498
         ],
         "legendgroup": "",
         "lon": [
          -71.9809878541,
          -71.9718532682,
          -71.30467373229999,
          -62.7020675555,
          -62.8471559031,
          -62.6374068242,
          -68.29045268029999,
          -68.3679145207,
          -68.2447926147,
          -61.0088545886,
          -61.508602796800005,
          -61.3500181906,
          -61.7367895635,
          -61.8579017321,
          -61.8822915907,
          -69.8572021892,
          -69.9174393599,
          -70.2276252138,
          -62.20777090399999,
          -62.22087839050001,
          -68.9326100119,
          -69.15715222600001,
          -68.96263801810001,
          -60.937419183900005,
          -60.9620682097,
          -60.8879627469,
          -70.0469288721,
          -69.928969177,
          -69.9453589347,
          -59.6215816906,
          -59.5190183196,
          -59.6405232011,
          -69.8254369775,
          -69.8736331326,
          -69.72936478310001,
          -61.2021031217,
          -61.272735208,
          -61.3493984168,
          -61.789768601800006,
          -61.6980185744,
          -61.6087121732,
          -61.2462999009,
          -61.3891226266,
          -61.4239091164,
          -73.7317130321,
          -73.3926952231,
          -73.5854831888,
          -77.9209947584,
          -81.52795426979999,
          -77.9100008564,
          -76.7211122786,
          -76.4202000752,
          -76.7081206893,
          -75.4408916527,
          -77.4033101862,
          -76.1687520383,
          -72.0888726655,
          -72.1891052652,
          -71.5456694313,
          -81.6661462144,
          -81.5347003717,
          -81.0708660446,
          -81.3840326289,
          -81.2539409635,
          -81.3003688774,
          -64.3718986946,
          -64.2810188139,
          -64.5792598287,
          -67.2463285365,
          -67.1665026836,
          -67.020796597,
          -64.8844906122,
          -64.7489055849,
          -64.967774873,
          -62.8551020162,
          -63.1367373636,
          -62.9865240158,
          -63.0218939638,
          -63.119858716,
          -63.0162701998
         ],
         "marker": {
          "color": "red",
          "size": 10
         },
         "mode": "markers",
         "name": "",
         "showlegend": false,
         "subplot": "mapbox",
         "type": "scattermapbox"
        },
        {
         "hovertemplate": "<b>%{hovertext}</b><br><br>lat=%{lat}<br>lon=%{lon}<extra></extra>",
         "hovertext": [
          "Rue 3 Frères Rigaud, Fò lilèt - Site lejò, 1re Bourdet, Commune Les Cayes, Arrondissement des Cayes, Département du Sud, Ayiti",
          "Overseas Highway, El Chico, Monroe County, Florida, United States",
          "Cat Island, The Bahamas"
         ],
         "lat": [
          18.1990980056,
          24.590138475,
          24.2997540423
         ],
         "legendgroup": "",
         "lon": [
          -73.7317130321,
          -81.6661462144,
          -75.4408916527
         ],
         "marker": {
          "color": "magenta",
          "size": 10
         },
         "mode": "markers",
         "name": "",
         "showlegend": false,
         "subplot": "mapbox",
         "type": "scattermapbox"
        }
       ],
       "layout": {
        "height": 1200,
        "legend": {
         "tracegroupgap": 0
        },
        "mapbox": {
         "center": {
          "lat": 19.1,
          "lon": -72.3
         },
         "domain": {
          "x": [
           0,
           1
          ],
          "y": [
           0,
           1
          ]
         },
         "layers": [
          {
           "below": "traces",
           "source": [
            "https://services.arcgisonline.com/arcgis/rest/services/World_Imagery/MapServer/tile/{z}/{y}/{x}"
           ],
           "sourceattribution": "ESRI World Imagery",
           "sourcetype": "raster"
          }
         ],
         "style": "carto-positron",
         "zoom": 5.6
        },
        "margin": {
         "t": 60
        },
        "template": {
         "data": {
          "bar": [
           {
            "error_x": {
             "color": "#2a3f5f"
            },
            "error_y": {
             "color": "#2a3f5f"
            },
            "marker": {
             "line": {
              "color": "#E5ECF6",
              "width": 0.5
             },
             "pattern": {
              "fillmode": "overlay",
              "size": 10,
              "solidity": 0.2
             }
            },
            "type": "bar"
           }
          ],
          "barpolar": [
           {
            "marker": {
             "line": {
              "color": "#E5ECF6",
              "width": 0.5
             },
             "pattern": {
              "fillmode": "overlay",
              "size": 10,
              "solidity": 0.2
             }
            },
            "type": "barpolar"
           }
          ],
          "carpet": [
           {
            "aaxis": {
             "endlinecolor": "#2a3f5f",
             "gridcolor": "white",
             "linecolor": "white",
             "minorgridcolor": "white",
             "startlinecolor": "#2a3f5f"
            },
            "baxis": {
             "endlinecolor": "#2a3f5f",
             "gridcolor": "white",
             "linecolor": "white",
             "minorgridcolor": "white",
             "startlinecolor": "#2a3f5f"
            },
            "type": "carpet"
           }
          ],
          "choropleth": [
           {
            "colorbar": {
             "outlinewidth": 0,
             "ticks": ""
            },
            "type": "choropleth"
           }
          ],
          "contour": [
           {
            "colorbar": {
             "outlinewidth": 0,
             "ticks": ""
            },
            "colorscale": [
             [
              0,
              "#0d0887"
             ],
             [
              0.1111111111111111,
              "#46039f"
             ],
             [
              0.2222222222222222,
              "#7201a8"
             ],
             [
              0.3333333333333333,
              "#9c179e"
             ],
             [
              0.4444444444444444,
              "#bd3786"
             ],
             [
              0.5555555555555556,
              "#d8576b"
             ],
             [
              0.6666666666666666,
              "#ed7953"
             ],
             [
              0.7777777777777778,
              "#fb9f3a"
             ],
             [
              0.8888888888888888,
              "#fdca26"
             ],
             [
              1,
              "#f0f921"
             ]
            ],
            "type": "contour"
           }
          ],
          "contourcarpet": [
           {
            "colorbar": {
             "outlinewidth": 0,
             "ticks": ""
            },
            "type": "contourcarpet"
           }
          ],
          "heatmap": [
           {
            "colorbar": {
             "outlinewidth": 0,
             "ticks": ""
            },
            "colorscale": [
             [
              0,
              "#0d0887"
             ],
             [
              0.1111111111111111,
              "#46039f"
             ],
             [
              0.2222222222222222,
              "#7201a8"
             ],
             [
              0.3333333333333333,
              "#9c179e"
             ],
             [
              0.4444444444444444,
              "#bd3786"
             ],
             [
              0.5555555555555556,
              "#d8576b"
             ],
             [
              0.6666666666666666,
              "#ed7953"
             ],
             [
              0.7777777777777778,
              "#fb9f3a"
             ],
             [
              0.8888888888888888,
              "#fdca26"
             ],
             [
              1,
              "#f0f921"
             ]
            ],
            "type": "heatmap"
           }
          ],
          "heatmapgl": [
           {
            "colorbar": {
             "outlinewidth": 0,
             "ticks": ""
            },
            "colorscale": [
             [
              0,
              "#0d0887"
             ],
             [
              0.1111111111111111,
              "#46039f"
             ],
             [
              0.2222222222222222,
              "#7201a8"
             ],
             [
              0.3333333333333333,
              "#9c179e"
             ],
             [
              0.4444444444444444,
              "#bd3786"
             ],
             [
              0.5555555555555556,
              "#d8576b"
             ],
             [
              0.6666666666666666,
              "#ed7953"
             ],
             [
              0.7777777777777778,
              "#fb9f3a"
             ],
             [
              0.8888888888888888,
              "#fdca26"
             ],
             [
              1,
              "#f0f921"
             ]
            ],
            "type": "heatmapgl"
           }
          ],
          "histogram": [
           {
            "marker": {
             "pattern": {
              "fillmode": "overlay",
              "size": 10,
              "solidity": 0.2
             }
            },
            "type": "histogram"
           }
          ],
          "histogram2d": [
           {
            "colorbar": {
             "outlinewidth": 0,
             "ticks": ""
            },
            "colorscale": [
             [
              0,
              "#0d0887"
             ],
             [
              0.1111111111111111,
              "#46039f"
             ],
             [
              0.2222222222222222,
              "#7201a8"
             ],
             [
              0.3333333333333333,
              "#9c179e"
             ],
             [
              0.4444444444444444,
              "#bd3786"
             ],
             [
              0.5555555555555556,
              "#d8576b"
             ],
             [
              0.6666666666666666,
              "#ed7953"
             ],
             [
              0.7777777777777778,
              "#fb9f3a"
             ],
             [
              0.8888888888888888,
              "#fdca26"
             ],
             [
              1,
              "#f0f921"
             ]
            ],
            "type": "histogram2d"
           }
          ],
          "histogram2dcontour": [
           {
            "colorbar": {
             "outlinewidth": 0,
             "ticks": ""
            },
            "colorscale": [
             [
              0,
              "#0d0887"
             ],
             [
              0.1111111111111111,
              "#46039f"
             ],
             [
              0.2222222222222222,
              "#7201a8"
             ],
             [
              0.3333333333333333,
              "#9c179e"
             ],
             [
              0.4444444444444444,
              "#bd3786"
             ],
             [
              0.5555555555555556,
              "#d8576b"
             ],
             [
              0.6666666666666666,
              "#ed7953"
             ],
             [
              0.7777777777777778,
              "#fb9f3a"
             ],
             [
              0.8888888888888888,
              "#fdca26"
             ],
             [
              1,
              "#f0f921"
             ]
            ],
            "type": "histogram2dcontour"
           }
          ],
          "mesh3d": [
           {
            "colorbar": {
             "outlinewidth": 0,
             "ticks": ""
            },
            "type": "mesh3d"
           }
          ],
          "parcoords": [
           {
            "line": {
             "colorbar": {
              "outlinewidth": 0,
              "ticks": ""
             }
            },
            "type": "parcoords"
           }
          ],
          "pie": [
           {
            "automargin": true,
            "type": "pie"
           }
          ],
          "scatter": [
           {
            "fillpattern": {
             "fillmode": "overlay",
             "size": 10,
             "solidity": 0.2
            },
            "type": "scatter"
           }
          ],
          "scatter3d": [
           {
            "line": {
             "colorbar": {
              "outlinewidth": 0,
              "ticks": ""
             }
            },
            "marker": {
             "colorbar": {
              "outlinewidth": 0,
              "ticks": ""
             }
            },
            "type": "scatter3d"
           }
          ],
          "scattercarpet": [
           {
            "marker": {
             "colorbar": {
              "outlinewidth": 0,
              "ticks": ""
             }
            },
            "type": "scattercarpet"
           }
          ],
          "scattergeo": [
           {
            "marker": {
             "colorbar": {
              "outlinewidth": 0,
              "ticks": ""
             }
            },
            "type": "scattergeo"
           }
          ],
          "scattergl": [
           {
            "marker": {
             "colorbar": {
              "outlinewidth": 0,
              "ticks": ""
             }
            },
            "type": "scattergl"
           }
          ],
          "scattermapbox": [
           {
            "marker": {
             "colorbar": {
              "outlinewidth": 0,
              "ticks": ""
             }
            },
            "type": "scattermapbox"
           }
          ],
          "scatterpolar": [
           {
            "marker": {
             "colorbar": {
              "outlinewidth": 0,
              "ticks": ""
             }
            },
            "type": "scatterpolar"
           }
          ],
          "scatterpolargl": [
           {
            "marker": {
             "colorbar": {
              "outlinewidth": 0,
              "ticks": ""
             }
            },
            "type": "scatterpolargl"
           }
          ],
          "scatterternary": [
           {
            "marker": {
             "colorbar": {
              "outlinewidth": 0,
              "ticks": ""
             }
            },
            "type": "scatterternary"
           }
          ],
          "surface": [
           {
            "colorbar": {
             "outlinewidth": 0,
             "ticks": ""
            },
            "colorscale": [
             [
              0,
              "#0d0887"
             ],
             [
              0.1111111111111111,
              "#46039f"
             ],
             [
              0.2222222222222222,
              "#7201a8"
             ],
             [
              0.3333333333333333,
              "#9c179e"
             ],
             [
              0.4444444444444444,
              "#bd3786"
             ],
             [
              0.5555555555555556,
              "#d8576b"
             ],
             [
              0.6666666666666666,
              "#ed7953"
             ],
             [
              0.7777777777777778,
              "#fb9f3a"
             ],
             [
              0.8888888888888888,
              "#fdca26"
             ],
             [
              1,
              "#f0f921"
             ]
            ],
            "type": "surface"
           }
          ],
          "table": [
           {
            "cells": {
             "fill": {
              "color": "#EBF0F8"
             },
             "line": {
              "color": "white"
             }
            },
            "header": {
             "fill": {
              "color": "#C8D4E3"
             },
             "line": {
              "color": "white"
             }
            },
            "type": "table"
           }
          ]
         },
         "layout": {
          "annotationdefaults": {
           "arrowcolor": "#2a3f5f",
           "arrowhead": 0,
           "arrowwidth": 1
          },
          "autotypenumbers": "strict",
          "coloraxis": {
           "colorbar": {
            "outlinewidth": 0,
            "ticks": ""
           }
          },
          "colorscale": {
           "diverging": [
            [
             0,
             "#8e0152"
            ],
            [
             0.1,
             "#c51b7d"
            ],
            [
             0.2,
             "#de77ae"
            ],
            [
             0.3,
             "#f1b6da"
            ],
            [
             0.4,
             "#fde0ef"
            ],
            [
             0.5,
             "#f7f7f7"
            ],
            [
             0.6,
             "#e6f5d0"
            ],
            [
             0.7,
             "#b8e186"
            ],
            [
             0.8,
             "#7fbc41"
            ],
            [
             0.9,
             "#4d9221"
            ],
            [
             1,
             "#276419"
            ]
           ],
           "sequential": [
            [
             0,
             "#0d0887"
            ],
            [
             0.1111111111111111,
             "#46039f"
            ],
            [
             0.2222222222222222,
             "#7201a8"
            ],
            [
             0.3333333333333333,
             "#9c179e"
            ],
            [
             0.4444444444444444,
             "#bd3786"
            ],
            [
             0.5555555555555556,
             "#d8576b"
            ],
            [
             0.6666666666666666,
             "#ed7953"
            ],
            [
             0.7777777777777778,
             "#fb9f3a"
            ],
            [
             0.8888888888888888,
             "#fdca26"
            ],
            [
             1,
             "#f0f921"
            ]
           ],
           "sequentialminus": [
            [
             0,
             "#0d0887"
            ],
            [
             0.1111111111111111,
             "#46039f"
            ],
            [
             0.2222222222222222,
             "#7201a8"
            ],
            [
             0.3333333333333333,
             "#9c179e"
            ],
            [
             0.4444444444444444,
             "#bd3786"
            ],
            [
             0.5555555555555556,
             "#d8576b"
            ],
            [
             0.6666666666666666,
             "#ed7953"
            ],
            [
             0.7777777777777778,
             "#fb9f3a"
            ],
            [
             0.8888888888888888,
             "#fdca26"
            ],
            [
             1,
             "#f0f921"
            ]
           ]
          },
          "colorway": [
           "#636efa",
           "#EF553B",
           "#00cc96",
           "#ab63fa",
           "#FFA15A",
           "#19d3f3",
           "#FF6692",
           "#B6E880",
           "#FF97FF",
           "#FECB52"
          ],
          "font": {
           "color": "#2a3f5f"
          },
          "geo": {
           "bgcolor": "white",
           "lakecolor": "white",
           "landcolor": "#E5ECF6",
           "showlakes": true,
           "showland": true,
           "subunitcolor": "white"
          },
          "hoverlabel": {
           "align": "left"
          },
          "hovermode": "closest",
          "mapbox": {
           "style": "light"
          },
          "paper_bgcolor": "white",
          "plot_bgcolor": "#E5ECF6",
          "polar": {
           "angularaxis": {
            "gridcolor": "white",
            "linecolor": "white",
            "ticks": ""
           },
           "bgcolor": "#E5ECF6",
           "radialaxis": {
            "gridcolor": "white",
            "linecolor": "white",
            "ticks": ""
           }
          },
          "scene": {
           "xaxis": {
            "backgroundcolor": "#E5ECF6",
            "gridcolor": "white",
            "gridwidth": 2,
            "linecolor": "white",
            "showbackground": true,
            "ticks": "",
            "zerolinecolor": "white"
           },
           "yaxis": {
            "backgroundcolor": "#E5ECF6",
            "gridcolor": "white",
            "gridwidth": 2,
            "linecolor": "white",
            "showbackground": true,
            "ticks": "",
            "zerolinecolor": "white"
           },
           "zaxis": {
            "backgroundcolor": "#E5ECF6",
            "gridcolor": "white",
            "gridwidth": 2,
            "linecolor": "white",
            "showbackground": true,
            "ticks": "",
            "zerolinecolor": "white"
           }
          },
          "shapedefaults": {
           "line": {
            "color": "#2a3f5f"
           }
          },
          "ternary": {
           "aaxis": {
            "gridcolor": "white",
            "linecolor": "white",
            "ticks": ""
           },
           "baxis": {
            "gridcolor": "white",
            "linecolor": "white",
            "ticks": ""
           },
           "bgcolor": "#E5ECF6",
           "caxis": {
            "gridcolor": "white",
            "linecolor": "white",
            "ticks": ""
           }
          },
          "title": {
           "x": 0.05
          },
          "xaxis": {
           "automargin": true,
           "gridcolor": "white",
           "linecolor": "white",
           "ticks": "",
           "title": {
            "standoff": 15
           },
           "zerolinecolor": "white",
           "zerolinewidth": 2
          },
          "yaxis": {
           "automargin": true,
           "gridcolor": "white",
           "linecolor": "white",
           "ticks": "",
           "title": {
            "standoff": 15
           },
           "zerolinecolor": "white",
           "zerolinewidth": 2
          }
         }
        },
        "title": {
         "font": {
          "size": 20
         },
         "text": "EWH 100yrRP PC   Risk Level Hotspot Distribution along Caribbean's shoreline",
         "x": 0.5,
         "xanchor": "center"
        },
        "width": 2000
       }
      }
     },
     "metadata": {},
     "output_type": "display_data"
    },
    {
     "data": {
      "application/vnd.plotly.v1+json": {
       "config": {
        "plotlyServerURL": "https://plot.ly"
       },
       "data": [
        {
         "hovertemplate": "<b>%{hovertext}</b><br><br>lat=%{lat}<br>lon=%{lon}<extra></extra>",
         "hovertext": [
          "Oroshio, Uribia, La Guajira, RAP Caribe, Colombia",
          "Escuela carrizal playa, Vía Uribia - Puerto Bolívar, Uribia, La Guajira, RAP Caribe, Colombia",
          "Colombia",
          "Centre d'élevage de lamantins - Parc national, Rue du Port, Blachon, Lamentin, Basse-Terre, Guadeloupe, 97129, France",
          "Rue de la Case aux Lamantins, Vieux Bourg, Vieux-Bourg, Vieux Bourg, Morne-à-l'Eau, Pointe-à-Pitre, Guadeloupe, 97111, France",
          "Goyave, Basse-Terre, Guadeloupe, 97128, France",
          "Marina Bay, Fort Road, Saint John, Antigua, Antigua and Barbuda",
          "Pigeon Beach Road, English Harbour, Saint Paul, Antigua, Antigua and Barbuda",
          "Jolly Harbour Road, Jolly Harbour, Saint Mary, Antigua, Antigua and Barbuda",
          "Tiraya, Parroquia Adícora, Municipio Falcón, Falcón, Venezuela",
          "Punta de Barco, Parroquia El Vínculo, Municipio Falcón, Falcón, Venezuela",
          "Parroquia Jadacaquiva, Municipio Falcón, Falcón, Venezuela",
          "Fogatry, Brades, Saint Peter, Montserrat",
          "Saint Anthony, Montserrat",
          "playa la poza de bojolo, Nagua - Samaná, Nuevo, San José de Matanzas (Matancitas), Nagua, María Trinidad Sánchez, República Dominicana",
          "Pepillo Salcedo, Monte Cristi, República Dominicana",
          "El Batey Central, Barahona, 81000, República Dominicana",
          "Melville Hall - Portsmouth Road, Woodford Hill, Wesley, Saint Andrew Parish, Dominica",
          "River Bank, Potters Ville, Roseau, Saint George Parish, Dominica",
          "Edward Olivier Leblanc Highway, Layou, Saint Joseph Parish, Dominica",
          "1re Poteneau, Grande-Saline, Commune Grand Saline, Arrondissement de Dessalines, Département de l'Artibonite, Ayiti",
          "Rue 3 Frères Rigaud, Fò lilèt - Site lejò, 1re Bourdet, Commune Les Cayes, Arrondissement des Cayes, Département du Sud, Ayiti",
          "1re des Varreux, Croix-des-Bouquets, Commune Croix-des-Bouquets, Arrondissement de Croix-des-Bouquets, Département de l'Ouest, Ayiti",
          "310, Santa Fé, Playa, La Habana, 19101, Cuba",
          "Via Blanca, Cárdenas, Matanzas, 44190, Cuba",
          "FINAUTO International LTD, 2606, 1ra Avenida, Miramar, Playa, La Habana, 11300, Cuba",
          "Beaches Negril, Norman Manley Boulevard, Westmoreland, Cornwall County, Jamaica",
          "Saint Elizabeth, Cornwall County, Jamaica",
          "Rocky Point, Clarendon, Middlesex County, Jamaica",
          "Mangrove Cay, The Bahamas",
          "Gregory Street, Matthew Town, Inagua, The Bahamas",
          "Central Andros, The Bahamas",
          "Hangar 21 Guadia Nacional, Calle Guamaní, Isla Grande, Santurce, San Juan, Puerto Rico, 00908, United States",
          "Calle Pescadores, Punta Palmas, Palmas Altas, Barceloneta, Puerto Rico, 00617, United States",
          "Calle 13, Villa Plata, Higuillar, Dorado, Puerto Rico, 00646, United States"
         ],
         "lat": [
          12.1580299071,
          12.0044570436,
          12.2262279739,
          16.2799842398,
          16.3436485725,
          16.1347547519,
          17.1524567631,
          17.0090178251,
          17.0647277585,
          12.0386769274,
          12.1590631774,
          12.0361128356,
          16.78160611,
          16.6781538048,
          19.3659319101,
          19.7031610212,
          18.2559120017,
          15.5888274825,
          15.3016704604,
          15.3970109154,
          19.2421309729,
          18.1990980056,
          18.642544148800003,
          23.0706592921,
          23.1318193437,
          23.1228501198,
          18.3169178901,
          18.0288216401,
          17.761933589,
          24.2846319919,
          20.9496125591,
          24.3103388126,
          18.4501728005,
          18.4848218626,
          18.4745008344
         ],
         "legendgroup": "",
         "lon": [
          -71.9809878541,
          -72.1829274193,
          -71.8716609458,
          -61.6227232057,
          -61.508602796800005,
          -61.567850522,
          -61.8528290954,
          -61.7710228586,
          -61.88832260270001,
          -69.8507404749,
          -69.9174393599,
          -70.2253219907,
          -62.21683382770001,
          -62.1913223367,
          -69.83487219140001,
          -71.73720651020001,
          -71.1074949774,
          -61.3276662746,
          -61.3875819882,
          -61.4239091164,
          -72.7773001891,
          -73.7317130321,
          -72.3384122584,
          -82.5257170871,
          -81.3082505407,
          -82.4271220829,
          -78.3382671759,
          -77.8687644538,
          -77.2596966625,
          -77.669337062,
          -73.6775588079,
          -78.0183328605,
          -66.0961650837,
          -66.5546577205,
          -66.2558596909
         ],
         "marker": {
          "color": "red",
          "size": 10
         },
         "mode": "markers",
         "name": "",
         "showlegend": false,
         "subplot": "mapbox",
         "type": "scattermapbox"
        },
        {
         "hovertemplate": "<b>%{hovertext}</b><br><br>lat=%{lat}<br>lon=%{lon}<extra></extra>",
         "hovertext": [
          "Hangar 21 Guadia Nacional, Calle Guamaní, Isla Grande, Santurce, San Juan, Puerto Rico, 00908, United States",
          "Calle Pescadores, Punta Palmas, Palmas Altas, Barceloneta, Puerto Rico, 00617, United States",
          "310, Santa Fé, Playa, La Habana, 19101, Cuba"
         ],
         "lat": [
          18.4501728005,
          18.4848218626,
          23.0706592921
         ],
         "legendgroup": "",
         "lon": [
          -66.0961650837,
          -66.5546577205,
          -82.5257170871
         ],
         "marker": {
          "color": "magenta",
          "size": 10
         },
         "mode": "markers",
         "name": "",
         "showlegend": false,
         "subplot": "mapbox",
         "type": "scattermapbox"
        }
       ],
       "layout": {
        "height": 1200,
        "legend": {
         "tracegroupgap": 0
        },
        "mapbox": {
         "center": {
          "lat": 19.1,
          "lon": -72.3
         },
         "domain": {
          "x": [
           0,
           1
          ],
          "y": [
           0,
           1
          ]
         },
         "layers": [
          {
           "below": "traces",
           "source": [
            "https://services.arcgisonline.com/arcgis/rest/services/World_Imagery/MapServer/tile/{z}/{y}/{x}"
           ],
           "sourceattribution": "ESRI World Imagery",
           "sourcetype": "raster"
          }
         ],
         "style": "carto-positron",
         "zoom": 5.6
        },
        "margin": {
         "t": 60
        },
        "template": {
         "data": {
          "bar": [
           {
            "error_x": {
             "color": "#2a3f5f"
            },
            "error_y": {
             "color": "#2a3f5f"
            },
            "marker": {
             "line": {
              "color": "#E5ECF6",
              "width": 0.5
             },
             "pattern": {
              "fillmode": "overlay",
              "size": 10,
              "solidity": 0.2
             }
            },
            "type": "bar"
           }
          ],
          "barpolar": [
           {
            "marker": {
             "line": {
              "color": "#E5ECF6",
              "width": 0.5
             },
             "pattern": {
              "fillmode": "overlay",
              "size": 10,
              "solidity": 0.2
             }
            },
            "type": "barpolar"
           }
          ],
          "carpet": [
           {
            "aaxis": {
             "endlinecolor": "#2a3f5f",
             "gridcolor": "white",
             "linecolor": "white",
             "minorgridcolor": "white",
             "startlinecolor": "#2a3f5f"
            },
            "baxis": {
             "endlinecolor": "#2a3f5f",
             "gridcolor": "white",
             "linecolor": "white",
             "minorgridcolor": "white",
             "startlinecolor": "#2a3f5f"
            },
            "type": "carpet"
           }
          ],
          "choropleth": [
           {
            "colorbar": {
             "outlinewidth": 0,
             "ticks": ""
            },
            "type": "choropleth"
           }
          ],
          "contour": [
           {
            "colorbar": {
             "outlinewidth": 0,
             "ticks": ""
            },
            "colorscale": [
             [
              0,
              "#0d0887"
             ],
             [
              0.1111111111111111,
              "#46039f"
             ],
             [
              0.2222222222222222,
              "#7201a8"
             ],
             [
              0.3333333333333333,
              "#9c179e"
             ],
             [
              0.4444444444444444,
              "#bd3786"
             ],
             [
              0.5555555555555556,
              "#d8576b"
             ],
             [
              0.6666666666666666,
              "#ed7953"
             ],
             [
              0.7777777777777778,
              "#fb9f3a"
             ],
             [
              0.8888888888888888,
              "#fdca26"
             ],
             [
              1,
              "#f0f921"
             ]
            ],
            "type": "contour"
           }
          ],
          "contourcarpet": [
           {
            "colorbar": {
             "outlinewidth": 0,
             "ticks": ""
            },
            "type": "contourcarpet"
           }
          ],
          "heatmap": [
           {
            "colorbar": {
             "outlinewidth": 0,
             "ticks": ""
            },
            "colorscale": [
             [
              0,
              "#0d0887"
             ],
             [
              0.1111111111111111,
              "#46039f"
             ],
             [
              0.2222222222222222,
              "#7201a8"
             ],
             [
              0.3333333333333333,
              "#9c179e"
             ],
             [
              0.4444444444444444,
              "#bd3786"
             ],
             [
              0.5555555555555556,
              "#d8576b"
             ],
             [
              0.6666666666666666,
              "#ed7953"
             ],
             [
              0.7777777777777778,
              "#fb9f3a"
             ],
             [
              0.8888888888888888,
              "#fdca26"
             ],
             [
              1,
              "#f0f921"
             ]
            ],
            "type": "heatmap"
           }
          ],
          "heatmapgl": [
           {
            "colorbar": {
             "outlinewidth": 0,
             "ticks": ""
            },
            "colorscale": [
             [
              0,
              "#0d0887"
             ],
             [
              0.1111111111111111,
              "#46039f"
             ],
             [
              0.2222222222222222,
              "#7201a8"
             ],
             [
              0.3333333333333333,
              "#9c179e"
             ],
             [
              0.4444444444444444,
              "#bd3786"
             ],
             [
              0.5555555555555556,
              "#d8576b"
             ],
             [
              0.6666666666666666,
              "#ed7953"
             ],
             [
              0.7777777777777778,
              "#fb9f3a"
             ],
             [
              0.8888888888888888,
              "#fdca26"
             ],
             [
              1,
              "#f0f921"
             ]
            ],
            "type": "heatmapgl"
           }
          ],
          "histogram": [
           {
            "marker": {
             "pattern": {
              "fillmode": "overlay",
              "size": 10,
              "solidity": 0.2
             }
            },
            "type": "histogram"
           }
          ],
          "histogram2d": [
           {
            "colorbar": {
             "outlinewidth": 0,
             "ticks": ""
            },
            "colorscale": [
             [
              0,
              "#0d0887"
             ],
             [
              0.1111111111111111,
              "#46039f"
             ],
             [
              0.2222222222222222,
              "#7201a8"
             ],
             [
              0.3333333333333333,
              "#9c179e"
             ],
             [
              0.4444444444444444,
              "#bd3786"
             ],
             [
              0.5555555555555556,
              "#d8576b"
             ],
             [
              0.6666666666666666,
              "#ed7953"
             ],
             [
              0.7777777777777778,
              "#fb9f3a"
             ],
             [
              0.8888888888888888,
              "#fdca26"
             ],
             [
              1,
              "#f0f921"
             ]
            ],
            "type": "histogram2d"
           }
          ],
          "histogram2dcontour": [
           {
            "colorbar": {
             "outlinewidth": 0,
             "ticks": ""
            },
            "colorscale": [
             [
              0,
              "#0d0887"
             ],
             [
              0.1111111111111111,
              "#46039f"
             ],
             [
              0.2222222222222222,
              "#7201a8"
             ],
             [
              0.3333333333333333,
              "#9c179e"
             ],
             [
              0.4444444444444444,
              "#bd3786"
             ],
             [
              0.5555555555555556,
              "#d8576b"
             ],
             [
              0.6666666666666666,
              "#ed7953"
             ],
             [
              0.7777777777777778,
              "#fb9f3a"
             ],
             [
              0.8888888888888888,
              "#fdca26"
             ],
             [
              1,
              "#f0f921"
             ]
            ],
            "type": "histogram2dcontour"
           }
          ],
          "mesh3d": [
           {
            "colorbar": {
             "outlinewidth": 0,
             "ticks": ""
            },
            "type": "mesh3d"
           }
          ],
          "parcoords": [
           {
            "line": {
             "colorbar": {
              "outlinewidth": 0,
              "ticks": ""
             }
            },
            "type": "parcoords"
           }
          ],
          "pie": [
           {
            "automargin": true,
            "type": "pie"
           }
          ],
          "scatter": [
           {
            "fillpattern": {
             "fillmode": "overlay",
             "size": 10,
             "solidity": 0.2
            },
            "type": "scatter"
           }
          ],
          "scatter3d": [
           {
            "line": {
             "colorbar": {
              "outlinewidth": 0,
              "ticks": ""
             }
            },
            "marker": {
             "colorbar": {
              "outlinewidth": 0,
              "ticks": ""
             }
            },
            "type": "scatter3d"
           }
          ],
          "scattercarpet": [
           {
            "marker": {
             "colorbar": {
              "outlinewidth": 0,
              "ticks": ""
             }
            },
            "type": "scattercarpet"
           }
          ],
          "scattergeo": [
           {
            "marker": {
             "colorbar": {
              "outlinewidth": 0,
              "ticks": ""
             }
            },
            "type": "scattergeo"
           }
          ],
          "scattergl": [
           {
            "marker": {
             "colorbar": {
              "outlinewidth": 0,
              "ticks": ""
             }
            },
            "type": "scattergl"
           }
          ],
          "scattermapbox": [
           {
            "marker": {
             "colorbar": {
              "outlinewidth": 0,
              "ticks": ""
             }
            },
            "type": "scattermapbox"
           }
          ],
          "scatterpolar": [
           {
            "marker": {
             "colorbar": {
              "outlinewidth": 0,
              "ticks": ""
             }
            },
            "type": "scatterpolar"
           }
          ],
          "scatterpolargl": [
           {
            "marker": {
             "colorbar": {
              "outlinewidth": 0,
              "ticks": ""
             }
            },
            "type": "scatterpolargl"
           }
          ],
          "scatterternary": [
           {
            "marker": {
             "colorbar": {
              "outlinewidth": 0,
              "ticks": ""
             }
            },
            "type": "scatterternary"
           }
          ],
          "surface": [
           {
            "colorbar": {
             "outlinewidth": 0,
             "ticks": ""
            },
            "colorscale": [
             [
              0,
              "#0d0887"
             ],
             [
              0.1111111111111111,
              "#46039f"
             ],
             [
              0.2222222222222222,
              "#7201a8"
             ],
             [
              0.3333333333333333,
              "#9c179e"
             ],
             [
              0.4444444444444444,
              "#bd3786"
             ],
             [
              0.5555555555555556,
              "#d8576b"
             ],
             [
              0.6666666666666666,
              "#ed7953"
             ],
             [
              0.7777777777777778,
              "#fb9f3a"
             ],
             [
              0.8888888888888888,
              "#fdca26"
             ],
             [
              1,
              "#f0f921"
             ]
            ],
            "type": "surface"
           }
          ],
          "table": [
           {
            "cells": {
             "fill": {
              "color": "#EBF0F8"
             },
             "line": {
              "color": "white"
             }
            },
            "header": {
             "fill": {
              "color": "#C8D4E3"
             },
             "line": {
              "color": "white"
             }
            },
            "type": "table"
           }
          ]
         },
         "layout": {
          "annotationdefaults": {
           "arrowcolor": "#2a3f5f",
           "arrowhead": 0,
           "arrowwidth": 1
          },
          "autotypenumbers": "strict",
          "coloraxis": {
           "colorbar": {
            "outlinewidth": 0,
            "ticks": ""
           }
          },
          "colorscale": {
           "diverging": [
            [
             0,
             "#8e0152"
            ],
            [
             0.1,
             "#c51b7d"
            ],
            [
             0.2,
             "#de77ae"
            ],
            [
             0.3,
             "#f1b6da"
            ],
            [
             0.4,
             "#fde0ef"
            ],
            [
             0.5,
             "#f7f7f7"
            ],
            [
             0.6,
             "#e6f5d0"
            ],
            [
             0.7,
             "#b8e186"
            ],
            [
             0.8,
             "#7fbc41"
            ],
            [
             0.9,
             "#4d9221"
            ],
            [
             1,
             "#276419"
            ]
           ],
           "sequential": [
            [
             0,
             "#0d0887"
            ],
            [
             0.1111111111111111,
             "#46039f"
            ],
            [
             0.2222222222222222,
             "#7201a8"
            ],
            [
             0.3333333333333333,
             "#9c179e"
            ],
            [
             0.4444444444444444,
             "#bd3786"
            ],
            [
             0.5555555555555556,
             "#d8576b"
            ],
            [
             0.6666666666666666,
             "#ed7953"
            ],
            [
             0.7777777777777778,
             "#fb9f3a"
            ],
            [
             0.8888888888888888,
             "#fdca26"
            ],
            [
             1,
             "#f0f921"
            ]
           ],
           "sequentialminus": [
            [
             0,
             "#0d0887"
            ],
            [
             0.1111111111111111,
             "#46039f"
            ],
            [
             0.2222222222222222,
             "#7201a8"
            ],
            [
             0.3333333333333333,
             "#9c179e"
            ],
            [
             0.4444444444444444,
             "#bd3786"
            ],
            [
             0.5555555555555556,
             "#d8576b"
            ],
            [
             0.6666666666666666,
             "#ed7953"
            ],
            [
             0.7777777777777778,
             "#fb9f3a"
            ],
            [
             0.8888888888888888,
             "#fdca26"
            ],
            [
             1,
             "#f0f921"
            ]
           ]
          },
          "colorway": [
           "#636efa",
           "#EF553B",
           "#00cc96",
           "#ab63fa",
           "#FFA15A",
           "#19d3f3",
           "#FF6692",
           "#B6E880",
           "#FF97FF",
           "#FECB52"
          ],
          "font": {
           "color": "#2a3f5f"
          },
          "geo": {
           "bgcolor": "white",
           "lakecolor": "white",
           "landcolor": "#E5ECF6",
           "showlakes": true,
           "showland": true,
           "subunitcolor": "white"
          },
          "hoverlabel": {
           "align": "left"
          },
          "hovermode": "closest",
          "mapbox": {
           "style": "light"
          },
          "paper_bgcolor": "white",
          "plot_bgcolor": "#E5ECF6",
          "polar": {
           "angularaxis": {
            "gridcolor": "white",
            "linecolor": "white",
            "ticks": ""
           },
           "bgcolor": "#E5ECF6",
           "radialaxis": {
            "gridcolor": "white",
            "linecolor": "white",
            "ticks": ""
           }
          },
          "scene": {
           "xaxis": {
            "backgroundcolor": "#E5ECF6",
            "gridcolor": "white",
            "gridwidth": 2,
            "linecolor": "white",
            "showbackground": true,
            "ticks": "",
            "zerolinecolor": "white"
           },
           "yaxis": {
            "backgroundcolor": "#E5ECF6",
            "gridcolor": "white",
            "gridwidth": 2,
            "linecolor": "white",
            "showbackground": true,
            "ticks": "",
            "zerolinecolor": "white"
           },
           "zaxis": {
            "backgroundcolor": "#E5ECF6",
            "gridcolor": "white",
            "gridwidth": 2,
            "linecolor": "white",
            "showbackground": true,
            "ticks": "",
            "zerolinecolor": "white"
           }
          },
          "shapedefaults": {
           "line": {
            "color": "#2a3f5f"
           }
          },
          "ternary": {
           "aaxis": {
            "gridcolor": "white",
            "linecolor": "white",
            "ticks": ""
           },
           "baxis": {
            "gridcolor": "white",
            "linecolor": "white",
            "ticks": ""
           },
           "bgcolor": "#E5ECF6",
           "caxis": {
            "gridcolor": "white",
            "linecolor": "white",
            "ticks": ""
           }
          },
          "title": {
           "x": 0.05
          },
          "xaxis": {
           "automargin": true,
           "gridcolor": "white",
           "linecolor": "white",
           "ticks": "",
           "title": {
            "standoff": 15
           },
           "zerolinecolor": "white",
           "zerolinewidth": 2
          },
          "yaxis": {
           "automargin": true,
           "gridcolor": "white",
           "linecolor": "white",
           "ticks": "",
           "title": {
            "standoff": 15
           },
           "zerolinecolor": "white",
           "zerolinewidth": 2
          }
         }
        },
        "title": {
         "font": {
          "size": 20
         },
         "text": "Land Subsidence 2010 PC   Risk Level Hotspot Distribution along Caribbean's shoreline",
         "x": 0.5,
         "xanchor": "center"
        },
        "width": 2000
       }
      }
     },
     "metadata": {},
     "output_type": "display_data"
    },
    {
     "data": {
      "application/vnd.plotly.v1+json": {
       "config": {
        "plotlyServerURL": "https://plot.ly"
       },
       "data": [
        {
         "hovertemplate": "<b>%{hovertext}</b><br><br>lat=%{lat}<br>lon=%{lon}<extra></extra>",
         "hovertext": [
          "Colombia",
          "Colombia",
          "Cabo Playa, Uribia, La Guajira, RAP Caribe, Colombia",
          "The Salt Ponds, Fleming Estate, Saint George Basseterre, Saint Kitts, Saint Kitts and Nevis",
          "Belle Tete, Saint Anne Sandy Point, Saint Kitts, Saint Kitts and Nevis",
          "Playfield Road, Zion’s Housing Project, Zion, Saint George Gingerland, Nevis, Saint Kitts and Nevis",
          "EEG Boulevard, Windsurf Paradise, Bonaire, Nederland",
          "Karpata, Bonaire, Nederland",
          "Kaya Tilburg, Hato, Bonaire, Nederland, 1234 AB, Nederland",
          "Sentier de la Pointe à Cabrits, Saint-François, Pointe-à-Pitre, Guadeloupe, 97118, France",
          "Avenue Victor Lamon, Tourterelles-Nord, Fort-de-France, Martinique, 97200, France",
          "Sentier Baie du Trésor, La Trinité, Martinique, 97220, France",
          "Galley Bay Road, Galley Bay Heights, Five Islands, Saint John, Antigua, Antigua and Barbuda",
          "Pelican Point, Barbuda, Antigua and Barbuda",
          "Codrington, Barbuda, Antigua and Barbuda",
          "La Macolla, Parroquia Jadacaquiva, Municipio Falcón, Falcón, Venezuela",
          "El Supí, Parroquia Adícora, Municipio Falcón, Falcón, Venezuela",
          "Punta Baroa, Cabo San Román, Parroquia El Vínculo, Municipio Falcón, Falcón, Venezuela",
          "Saint Anthony, Montserrat",
          "Fish N Fins, Little Bay Beach Road, Geralds, Carr's Bay, Little Bay, Saint Peter, Montserrat",
          "Avila Beach Hotel, 130, Penstraat, Nieuw Nederland, Berg Altena, Curaçao, 0000 NA, Nederland",
          "Fuik, Santa Barbara, Nieuwpoort, Curaçao, Nederland",
          "Coral Estate, Curaçao, Nederland",
          "Millennium Highway, Hospital Road, Monkey Town, Castries, LC06 101, Saint Lucia",
          "Castries - Vieux Fort Highway, Westall Group / The Mangue, Vieux Fort, LC12 201, Saint Lucia",
          "Belle Coco, Stonefield Road, Calvaire, Stonefield, Soufrière, LC00 124, Saint Lucia",
          "L.G. Smith Boulevard, Taratata, Bushiri, Oranjestad West, Oranjestad, Oranjestad (city), Nederland",
          "Savaneta, Nederland",
          "Hudishibana, Noord overig, Nederland",
          "The Bridgetown Fisheries Complex, Princess Alice Highway, Bridgetown, Saint Michael, BB11007, Barbados",
          "Porters, Mount Standfast, Saint James, BB24026, Barbados",
          "Maycocks Terrace, Maycock, Husbands, Saint Lucy, BB27149, Barbados",
          "Marina Cap Cana, Vía del Puerto, Cap Cana, Punta Cana, Higüey, La Altagracia, 23300, República Dominicana",
          "Don Gregorio, Sabana Grande de Palenque, San Cristóbal, República Dominicana",
          "Las Salinas, Baní, Peravia, República Dominicana",
          "Canouan Main Road, Barbruce, Charlestown, Grenadines, VC0450, Saint Vincent and the Grenadines",
          "Sion Hill, New Sandy Bay Village, Charlotte, Saint Vincent and the Grenadines",
          "Kingstown, Saint George, VC0100, Saint Vincent and the Grenadines",
          "Cassada Bay Road, Belmont, Carriacou and Petite Martinique, Grenada",
          "Conference, Saint Andrew, Grenada",
          "La Sagesse, Saint David, Grenada",
          "Saint John Parish, Dominica",
          "Dix Pas Road, Castle Bruce, Saint David Parish, Dominica",
          "Melville Hall - Portsmouth Road, Anse du Mé, Saint Andrew Parish, Dominica",
          "Sent terèz, 1re Bourdet, Commune Les Cayes, Arrondissement des Cayes, Département du Sud, Ayiti",
          "Ayiti",
          "2e Sources Chaudes, Commune Anse Rouge, Arrondissement Gros Morne, Département de l'Artibonite, Ayiti",
          "Pedraplén Coco - Romano, Morón, Cuba",
          "Villa Clara, Cuba",
          "Carretera al Cajío, Playa del Cajío, Güira de Melena, Artemisa, Cuba",
          "Port Royal Road, Port Royal, Saint Andrew, Surrey County, Jamaica",
          "Freetown, Portland Cottage, Clarendon, Middlesex County, Jamaica",
          "Sandy Bay, Clarendon, Middlesex County, Jamaica",
          "Grantanna Estates 2, Nassau, New Providence, The Bahamas",
          "New Bight, Cat Island, The Bahamas",
          "Central Andros, The Bahamas",
          "Middle Caicos, Turks and Caicos Islands",
          "Cockburn Town, Grand Turk, Turks and Caicos Islands",
          "North Caicos, Turks and Caicos Islands",
          "WWFT-FM (Key West), Overseas Highway, Monroe County, Florida, United States",
          "East 105th Street Ocean, Marathon, Monroe County, Florida, 33050, United States",
          "Monroe County Detention Center, Sunset Marina Road, Key West, Monroe County, Florida, 33040, United States",
          "Dream Lane, Scott Development, West End, Sister Islands, Cayman Islands",
          "Guy Banks Road, Sister Islands, Cayman Islands",
          "Beach Walk to First Cay, Sister Islands, Cayman Islands",
          "Anegada, British Virgin Islands",
          "Road Town, Tortola, VG1110, British Virgin Islands",
          "The Settlement, Anegada, British Virgin Islands",
          "Carnival CruisePort Muelle 4, Paseo Dr. Gilberto Concepción de Gracia, La Perla, Viejo San Juan, San Juan, Puerto Rico, 00901, United States",
          "Carretera Mario Maldonado Torres, El Vigía, Reparto Costa de Oro, Islote, Arecibo, Puerto Rico, 00614, United States",
          "Calle A, Playita, Urb. Marbella, Aguirre, Salinas, Puerto Rico, 00787, United States",
          "Charlotte Amalie, Saint Thomas - Saint John District, United States Virgin Islands, 00802, United States",
          "Limetree Bay refinery, Saint Croix District, United States Virgin Islands, 00823, United States",
          "King Street, Frederiksted, Saint Croix District, United States Virgin Islands, 00870, United States",
          "95, Rue de la Caraïbe, Pointe Milou, Saint-Barthélemy, 97133, France",
          "Gratten's Point, Anguilla",
          "Rupert Carty Drive, West End Village, Anguilla",
          "Corito Road, The Valley, AI-2640, Anguilla",
          "Sandy Ground, Marigot, Saint-Martin (France), 97150, France",
          "Saint-Martin (France), France"
         ],
         "lat": [
          12.250683718,
          12.4045939288,
          12.0997012756,
          17.254918511099998,
          17.374017981199998,
          17.144051894300002,
          12.087676856400002,
          12.2201920154,
          12.1754031967,
          16.2607199847,
          14.5973999184,
          14.7644760364,
          17.1178352035,
          17.5595743979,
          17.6669266296,
          12.0772790769,
          12.0313410709,
          12.1923908078,
          16.704554276099998,
          16.8012715278,
          12.099275595,
          12.055323744,
          12.1952036833,
          13.9797316568,
          13.7291210664,
          13.8465818523,
          12.5247817215,
          12.4538658502,
          12.61865836,
          13.0974190755,
          13.1990429061,
          13.2948122172,
          18.5013923611,
          18.2330099434,
          18.2055127023,
          12.7050558236,
          13.3530270002,
          13.1532293051,
          12.446820724,
          12.1526409809,
          12.0191098448,
          15.5457956277,
          15.4315662496,
          15.5966650101,
          18.1833098442,
          19.5895205861,
          19.5458863804,
          22.2840125535,
          22.6155473857,
          22.684772415500003,
          17.9319319748,
          17.7521712349,
          17.8177672934,
          24.9932072065,
          24.303507747,
          24.2576176761,
          21.8289324165,
          21.440435436,
          21.920281825,
          24.6515770468,
          24.7231091186,
          24.5751813599,
          19.6973762946,
          19.6966480366,
          19.7443282455,
          18.7355570055,
          18.423599235,
          18.7111710496,
          18.4606377833,
          18.4883667596,
          17.9508846759,
          18.3762752193,
          17.695940041,
          17.7163968506,
          17.9156802103,
          18.2930967057,
          18.1619101398,
          18.1939568697,
          18.0556952514,
          18.121903173
         ],
         "legendgroup": "",
         "lon": [
          -71.8798045985,
          -71.6667641916,
          -72.1412220489,
          -62.64121185760001,
          -62.862535816800005,
          -62.5417116199,
          -68.2326884131,
          -68.3723849216,
          -68.2912215298,
          -61.2157419421,
          -61.0578886664,
          -60.8827417917,
          -61.8961513841,
          -61.7367895635,
          -61.8627614202,
          -70.2130748012,
          -69.8434734283,
          -70.0240352838,
          -62.1479374226,
          -62.20777090399999,
          -68.92425665,
          -68.8358297811,
          -69.0741454313,
          -61.0254741639,
          -60.94202166220001,
          -61.0632114657,
          -70.0469288721,
          -69.9559007292,
          -70.0528773284,
          -59.6215816906,
          -59.6408287729,
          -59.64975284720001,
          -68.3807631796,
          -70.187214927,
          -70.53056255359999,
          -61.3310017119,
          -61.1293991589,
          -61.2306146555,
          -61.4775850233,
          -61.60691152850001,
          -61.6722789462,
          -61.4723880776,
          -61.2521433965,
          -61.3805514343,
          -73.7583778953,
          -72.9812418277,
          -72.8899767903,
          -78.0843537499,
          -79.1246660239,
          -82.4698534036,
          -76.7721113755,
          -77.2509626826,
          -77.1656528361,
          -77.4033101862,
          -75.44885473869998,
          -77.9570328939,
          -71.84709229479999,
          -71.1287695192,
          -71.91586221,
          -81.5347003717,
          -81.0402725303,
          -81.75292561100001,
          -79.8734168425,
          -79.992623836,
          -79.7286116742,
          -64.4092924314,
          -64.6146789264,
          -64.2784540495,
          -66.1094974948,
          -66.5993971461,
          -66.2891322092,
          -64.9258068659,
          -64.7563026999,
          -64.8844906122,
          -62.8141198228,
          -62.9300868516,
          -63.1576144624,
          -63.0501057689,
          -63.0990391081,
          -62.9714614697
         ],
         "marker": {
          "color": "red",
          "size": 10
         },
         "mode": "markers",
         "name": "",
         "showlegend": false,
         "subplot": "mapbox",
         "type": "scattermapbox"
        },
        {
         "hovertemplate": "<b>%{hovertext}</b><br><br>lat=%{lat}<br>lon=%{lon}<extra></extra>",
         "hovertext": [
          "Sent terèz, 1re Bourdet, Commune Les Cayes, Arrondissement des Cayes, Département du Sud, Ayiti",
          "Pedraplén Coco - Romano, Morón, Cuba",
          "Carnival CruisePort Muelle 4, Paseo Dr. Gilberto Concepción de Gracia, La Perla, Viejo San Juan, San Juan, Puerto Rico, 00901, United States"
         ],
         "lat": [
          18.1833098442,
          22.2840125535,
          18.4606377833
         ],
         "legendgroup": "",
         "lon": [
          -73.7583778953,
          -78.0843537499,
          -66.1094974948
         ],
         "marker": {
          "color": "magenta",
          "size": 10
         },
         "mode": "markers",
         "name": "",
         "showlegend": false,
         "subplot": "mapbox",
         "type": "scattermapbox"
        }
       ],
       "layout": {
        "height": 1200,
        "legend": {
         "tracegroupgap": 0
        },
        "mapbox": {
         "center": {
          "lat": 19.1,
          "lon": -72.3
         },
         "domain": {
          "x": [
           0,
           1
          ],
          "y": [
           0,
           1
          ]
         },
         "layers": [
          {
           "below": "traces",
           "source": [
            "https://services.arcgisonline.com/arcgis/rest/services/World_Imagery/MapServer/tile/{z}/{y}/{x}"
           ],
           "sourceattribution": "ESRI World Imagery",
           "sourcetype": "raster"
          }
         ],
         "style": "carto-positron",
         "zoom": 5.6
        },
        "margin": {
         "t": 60
        },
        "template": {
         "data": {
          "bar": [
           {
            "error_x": {
             "color": "#2a3f5f"
            },
            "error_y": {
             "color": "#2a3f5f"
            },
            "marker": {
             "line": {
              "color": "#E5ECF6",
              "width": 0.5
             },
             "pattern": {
              "fillmode": "overlay",
              "size": 10,
              "solidity": 0.2
             }
            },
            "type": "bar"
           }
          ],
          "barpolar": [
           {
            "marker": {
             "line": {
              "color": "#E5ECF6",
              "width": 0.5
             },
             "pattern": {
              "fillmode": "overlay",
              "size": 10,
              "solidity": 0.2
             }
            },
            "type": "barpolar"
           }
          ],
          "carpet": [
           {
            "aaxis": {
             "endlinecolor": "#2a3f5f",
             "gridcolor": "white",
             "linecolor": "white",
             "minorgridcolor": "white",
             "startlinecolor": "#2a3f5f"
            },
            "baxis": {
             "endlinecolor": "#2a3f5f",
             "gridcolor": "white",
             "linecolor": "white",
             "minorgridcolor": "white",
             "startlinecolor": "#2a3f5f"
            },
            "type": "carpet"
           }
          ],
          "choropleth": [
           {
            "colorbar": {
             "outlinewidth": 0,
             "ticks": ""
            },
            "type": "choropleth"
           }
          ],
          "contour": [
           {
            "colorbar": {
             "outlinewidth": 0,
             "ticks": ""
            },
            "colorscale": [
             [
              0,
              "#0d0887"
             ],
             [
              0.1111111111111111,
              "#46039f"
             ],
             [
              0.2222222222222222,
              "#7201a8"
             ],
             [
              0.3333333333333333,
              "#9c179e"
             ],
             [
              0.4444444444444444,
              "#bd3786"
             ],
             [
              0.5555555555555556,
              "#d8576b"
             ],
             [
              0.6666666666666666,
              "#ed7953"
             ],
             [
              0.7777777777777778,
              "#fb9f3a"
             ],
             [
              0.8888888888888888,
              "#fdca26"
             ],
             [
              1,
              "#f0f921"
             ]
            ],
            "type": "contour"
           }
          ],
          "contourcarpet": [
           {
            "colorbar": {
             "outlinewidth": 0,
             "ticks": ""
            },
            "type": "contourcarpet"
           }
          ],
          "heatmap": [
           {
            "colorbar": {
             "outlinewidth": 0,
             "ticks": ""
            },
            "colorscale": [
             [
              0,
              "#0d0887"
             ],
             [
              0.1111111111111111,
              "#46039f"
             ],
             [
              0.2222222222222222,
              "#7201a8"
             ],
             [
              0.3333333333333333,
              "#9c179e"
             ],
             [
              0.4444444444444444,
              "#bd3786"
             ],
             [
              0.5555555555555556,
              "#d8576b"
             ],
             [
              0.6666666666666666,
              "#ed7953"
             ],
             [
              0.7777777777777778,
              "#fb9f3a"
             ],
             [
              0.8888888888888888,
              "#fdca26"
             ],
             [
              1,
              "#f0f921"
             ]
            ],
            "type": "heatmap"
           }
          ],
          "heatmapgl": [
           {
            "colorbar": {
             "outlinewidth": 0,
             "ticks": ""
            },
            "colorscale": [
             [
              0,
              "#0d0887"
             ],
             [
              0.1111111111111111,
              "#46039f"
             ],
             [
              0.2222222222222222,
              "#7201a8"
             ],
             [
              0.3333333333333333,
              "#9c179e"
             ],
             [
              0.4444444444444444,
              "#bd3786"
             ],
             [
              0.5555555555555556,
              "#d8576b"
             ],
             [
              0.6666666666666666,
              "#ed7953"
             ],
             [
              0.7777777777777778,
              "#fb9f3a"
             ],
             [
              0.8888888888888888,
              "#fdca26"
             ],
             [
              1,
              "#f0f921"
             ]
            ],
            "type": "heatmapgl"
           }
          ],
          "histogram": [
           {
            "marker": {
             "pattern": {
              "fillmode": "overlay",
              "size": 10,
              "solidity": 0.2
             }
            },
            "type": "histogram"
           }
          ],
          "histogram2d": [
           {
            "colorbar": {
             "outlinewidth": 0,
             "ticks": ""
            },
            "colorscale": [
             [
              0,
              "#0d0887"
             ],
             [
              0.1111111111111111,
              "#46039f"
             ],
             [
              0.2222222222222222,
              "#7201a8"
             ],
             [
              0.3333333333333333,
              "#9c179e"
             ],
             [
              0.4444444444444444,
              "#bd3786"
             ],
             [
              0.5555555555555556,
              "#d8576b"
             ],
             [
              0.6666666666666666,
              "#ed7953"
             ],
             [
              0.7777777777777778,
              "#fb9f3a"
             ],
             [
              0.8888888888888888,
              "#fdca26"
             ],
             [
              1,
              "#f0f921"
             ]
            ],
            "type": "histogram2d"
           }
          ],
          "histogram2dcontour": [
           {
            "colorbar": {
             "outlinewidth": 0,
             "ticks": ""
            },
            "colorscale": [
             [
              0,
              "#0d0887"
             ],
             [
              0.1111111111111111,
              "#46039f"
             ],
             [
              0.2222222222222222,
              "#7201a8"
             ],
             [
              0.3333333333333333,
              "#9c179e"
             ],
             [
              0.4444444444444444,
              "#bd3786"
             ],
             [
              0.5555555555555556,
              "#d8576b"
             ],
             [
              0.6666666666666666,
              "#ed7953"
             ],
             [
              0.7777777777777778,
              "#fb9f3a"
             ],
             [
              0.8888888888888888,
              "#fdca26"
             ],
             [
              1,
              "#f0f921"
             ]
            ],
            "type": "histogram2dcontour"
           }
          ],
          "mesh3d": [
           {
            "colorbar": {
             "outlinewidth": 0,
             "ticks": ""
            },
            "type": "mesh3d"
           }
          ],
          "parcoords": [
           {
            "line": {
             "colorbar": {
              "outlinewidth": 0,
              "ticks": ""
             }
            },
            "type": "parcoords"
           }
          ],
          "pie": [
           {
            "automargin": true,
            "type": "pie"
           }
          ],
          "scatter": [
           {
            "fillpattern": {
             "fillmode": "overlay",
             "size": 10,
             "solidity": 0.2
            },
            "type": "scatter"
           }
          ],
          "scatter3d": [
           {
            "line": {
             "colorbar": {
              "outlinewidth": 0,
              "ticks": ""
             }
            },
            "marker": {
             "colorbar": {
              "outlinewidth": 0,
              "ticks": ""
             }
            },
            "type": "scatter3d"
           }
          ],
          "scattercarpet": [
           {
            "marker": {
             "colorbar": {
              "outlinewidth": 0,
              "ticks": ""
             }
            },
            "type": "scattercarpet"
           }
          ],
          "scattergeo": [
           {
            "marker": {
             "colorbar": {
              "outlinewidth": 0,
              "ticks": ""
             }
            },
            "type": "scattergeo"
           }
          ],
          "scattergl": [
           {
            "marker": {
             "colorbar": {
              "outlinewidth": 0,
              "ticks": ""
             }
            },
            "type": "scattergl"
           }
          ],
          "scattermapbox": [
           {
            "marker": {
             "colorbar": {
              "outlinewidth": 0,
              "ticks": ""
             }
            },
            "type": "scattermapbox"
           }
          ],
          "scatterpolar": [
           {
            "marker": {
             "colorbar": {
              "outlinewidth": 0,
              "ticks": ""
             }
            },
            "type": "scatterpolar"
           }
          ],
          "scatterpolargl": [
           {
            "marker": {
             "colorbar": {
              "outlinewidth": 0,
              "ticks": ""
             }
            },
            "type": "scatterpolargl"
           }
          ],
          "scatterternary": [
           {
            "marker": {
             "colorbar": {
              "outlinewidth": 0,
              "ticks": ""
             }
            },
            "type": "scatterternary"
           }
          ],
          "surface": [
           {
            "colorbar": {
             "outlinewidth": 0,
             "ticks": ""
            },
            "colorscale": [
             [
              0,
              "#0d0887"
             ],
             [
              0.1111111111111111,
              "#46039f"
             ],
             [
              0.2222222222222222,
              "#7201a8"
             ],
             [
              0.3333333333333333,
              "#9c179e"
             ],
             [
              0.4444444444444444,
              "#bd3786"
             ],
             [
              0.5555555555555556,
              "#d8576b"
             ],
             [
              0.6666666666666666,
              "#ed7953"
             ],
             [
              0.7777777777777778,
              "#fb9f3a"
             ],
             [
              0.8888888888888888,
              "#fdca26"
             ],
             [
              1,
              "#f0f921"
             ]
            ],
            "type": "surface"
           }
          ],
          "table": [
           {
            "cells": {
             "fill": {
              "color": "#EBF0F8"
             },
             "line": {
              "color": "white"
             }
            },
            "header": {
             "fill": {
              "color": "#C8D4E3"
             },
             "line": {
              "color": "white"
             }
            },
            "type": "table"
           }
          ]
         },
         "layout": {
          "annotationdefaults": {
           "arrowcolor": "#2a3f5f",
           "arrowhead": 0,
           "arrowwidth": 1
          },
          "autotypenumbers": "strict",
          "coloraxis": {
           "colorbar": {
            "outlinewidth": 0,
            "ticks": ""
           }
          },
          "colorscale": {
           "diverging": [
            [
             0,
             "#8e0152"
            ],
            [
             0.1,
             "#c51b7d"
            ],
            [
             0.2,
             "#de77ae"
            ],
            [
             0.3,
             "#f1b6da"
            ],
            [
             0.4,
             "#fde0ef"
            ],
            [
             0.5,
             "#f7f7f7"
            ],
            [
             0.6,
             "#e6f5d0"
            ],
            [
             0.7,
             "#b8e186"
            ],
            [
             0.8,
             "#7fbc41"
            ],
            [
             0.9,
             "#4d9221"
            ],
            [
             1,
             "#276419"
            ]
           ],
           "sequential": [
            [
             0,
             "#0d0887"
            ],
            [
             0.1111111111111111,
             "#46039f"
            ],
            [
             0.2222222222222222,
             "#7201a8"
            ],
            [
             0.3333333333333333,
             "#9c179e"
            ],
            [
             0.4444444444444444,
             "#bd3786"
            ],
            [
             0.5555555555555556,
             "#d8576b"
            ],
            [
             0.6666666666666666,
             "#ed7953"
            ],
            [
             0.7777777777777778,
             "#fb9f3a"
            ],
            [
             0.8888888888888888,
             "#fdca26"
            ],
            [
             1,
             "#f0f921"
            ]
           ],
           "sequentialminus": [
            [
             0,
             "#0d0887"
            ],
            [
             0.1111111111111111,
             "#46039f"
            ],
            [
             0.2222222222222222,
             "#7201a8"
            ],
            [
             0.3333333333333333,
             "#9c179e"
            ],
            [
             0.4444444444444444,
             "#bd3786"
            ],
            [
             0.5555555555555556,
             "#d8576b"
            ],
            [
             0.6666666666666666,
             "#ed7953"
            ],
            [
             0.7777777777777778,
             "#fb9f3a"
            ],
            [
             0.8888888888888888,
             "#fdca26"
            ],
            [
             1,
             "#f0f921"
            ]
           ]
          },
          "colorway": [
           "#636efa",
           "#EF553B",
           "#00cc96",
           "#ab63fa",
           "#FFA15A",
           "#19d3f3",
           "#FF6692",
           "#B6E880",
           "#FF97FF",
           "#FECB52"
          ],
          "font": {
           "color": "#2a3f5f"
          },
          "geo": {
           "bgcolor": "white",
           "lakecolor": "white",
           "landcolor": "#E5ECF6",
           "showlakes": true,
           "showland": true,
           "subunitcolor": "white"
          },
          "hoverlabel": {
           "align": "left"
          },
          "hovermode": "closest",
          "mapbox": {
           "style": "light"
          },
          "paper_bgcolor": "white",
          "plot_bgcolor": "#E5ECF6",
          "polar": {
           "angularaxis": {
            "gridcolor": "white",
            "linecolor": "white",
            "ticks": ""
           },
           "bgcolor": "#E5ECF6",
           "radialaxis": {
            "gridcolor": "white",
            "linecolor": "white",
            "ticks": ""
           }
          },
          "scene": {
           "xaxis": {
            "backgroundcolor": "#E5ECF6",
            "gridcolor": "white",
            "gridwidth": 2,
            "linecolor": "white",
            "showbackground": true,
            "ticks": "",
            "zerolinecolor": "white"
           },
           "yaxis": {
            "backgroundcolor": "#E5ECF6",
            "gridcolor": "white",
            "gridwidth": 2,
            "linecolor": "white",
            "showbackground": true,
            "ticks": "",
            "zerolinecolor": "white"
           },
           "zaxis": {
            "backgroundcolor": "#E5ECF6",
            "gridcolor": "white",
            "gridwidth": 2,
            "linecolor": "white",
            "showbackground": true,
            "ticks": "",
            "zerolinecolor": "white"
           }
          },
          "shapedefaults": {
           "line": {
            "color": "#2a3f5f"
           }
          },
          "ternary": {
           "aaxis": {
            "gridcolor": "white",
            "linecolor": "white",
            "ticks": ""
           },
           "baxis": {
            "gridcolor": "white",
            "linecolor": "white",
            "ticks": ""
           },
           "bgcolor": "#E5ECF6",
           "caxis": {
            "gridcolor": "white",
            "linecolor": "white",
            "ticks": ""
           }
          },
          "title": {
           "x": 0.05
          },
          "xaxis": {
           "automargin": true,
           "gridcolor": "white",
           "linecolor": "white",
           "ticks": "",
           "title": {
            "standoff": 15
           },
           "zerolinecolor": "white",
           "zerolinewidth": 2
          },
          "yaxis": {
           "automargin": true,
           "gridcolor": "white",
           "linecolor": "white",
           "ticks": "",
           "title": {
            "standoff": 15
           },
           "zerolinecolor": "white",
           "zerolinewidth": 2
          }
         }
        },
        "title": {
         "font": {
          "size": 20
         },
         "text": "Shoreline Change Rate PC   Risk Level Hotspot Distribution along Caribbean's shoreline",
         "x": 0.5,
         "xanchor": "center"
        },
        "width": 2000
       }
      }
     },
     "metadata": {},
     "output_type": "display_data"
    }
   ],
   "source": [
    "\n",
    "\n",
    "\n",
    "for idx,hotspot_points in enumerate(risk_type_hotspot_points_all):\n",
    "\n",
    "    \n",
    "\n",
    "    import plotly.express as px\n",
    "    import plotly.io as pio\n",
    "    import numpy as np\n",
    "    import os\n",
    "\n",
    "    gornitz_ESL_filled_gdf=hotspot_points\n",
    "\n",
    "    long_name = gornitz_ESL_filled_gdf.columns[0]\n",
    "    print_val=long_name.replace(\"_\",\" \")\n",
    "#Save CSVs\n",
    "    hotspot_points.to_csv(os.path.join(directory_path,f\"{print_val} Hotspot points.csv\"),index=False)\n",
    "\n",
    "\n",
    "    lat = 18.1\n",
    "    lon = -76.3\n",
    "    view_width = 10\n",
    "\n",
    "\n",
    "\n",
    "    gornitz_ESL_filled_gdf=hotspot_points\n",
    "   \n",
    "       # show only positive hotspots (increases) which filters out nans as well\n",
    "    filtered_gdf = gornitz_ESL_filled_gdf[gornitz_ESL_filled_gdf[long_name] > 0]\n",
    "\n",
    "    # Create scatter map plot\n",
    "    fig2 = px.scatter_mapbox(filtered_gdf.sort_values(by=long_name,ascending=False).iloc[0:3,:] ,\n",
    "                                    lat=\"lat\",\n",
    "                                    lon=\"lon\",\n",
    "                                    hover_name=\"address\",\n",
    "                                    color_discrete_sequence=[\"magenta\"],\n",
    "                                    width=2000,\n",
    "                                    height=1200)\n",
    "\n",
    "    fig = px.scatter_mapbox(filtered_gdf,\n",
    "                                    lat=\"lat\",\n",
    "                                    lon=\"lon\",\n",
    "                                    hover_name=\"address\",\n",
    "                                    color_discrete_sequence=[\"red\"],\n",
    "                                    width=2000,\n",
    "                                    height=1200)\n",
    "\n",
    "        # Add traces from fig2 to fig\n",
    "    for trace in fig2.data:\n",
    "        fig.add_trace(trace)\n",
    "\n",
    "    fig.update_layout(\n",
    "        mapbox=dict(center=dict(lat=lat + 1, lon=lon + 4), zoom=5.6),\n",
    "        title=dict(\n",
    "            text=f\"{print_val} Hotspot Distribution along Caribbean's shoreline\",\n",
    "            font=dict(size=20),\n",
    "            x=0.5,  # Centers the title\n",
    "            xanchor='center'  # Aligns the title in the center\n",
    "        )\n",
    "    )\n",
    "\n",
    "    \n",
    "    fig.update_traces(marker=dict(size=10))\n",
    "\n",
    "\n",
    "    fig.update_layout(\n",
    "        mapbox_style=\"carto-positron\",\n",
    "        mapbox_layers=[\n",
    "            {\n",
    "                \"below\": 'traces',\n",
    "                \"sourcetype\": \"raster\",\n",
    "                \"sourceattribution\": \"ESRI World Imagery\",\n",
    "                \"source\": [\n",
    "                    \"https://services.arcgisonline.com/arcgis/rest/services/World_Imagery/MapServer/tile/{z}/{y}/{x}\"\n",
    "                ]\n",
    "            },\n",
    "            # {\n",
    "            #     \"below\": 'traces',\n",
    "            #     \"sourcetype\": \"raster\",\n",
    "            #     \"sourceattribution\": \"Google Maps\",\n",
    "            #     \"source\": [\n",
    "            #         \"http://mt0.google.com/vt/lyrs=s&hl=en&x={x}&y={y}&z={z}\"\n",
    "            #     ]\n",
    "            # },\n",
    "            # {\n",
    "            #     \"below\": 'traces',\n",
    "            #     \"sourcetype\": \"raster\",\n",
    "            #     \"sourceattribution\": \"United States Geological Survey\",\n",
    "            #     \"source\": [\n",
    "            #         \"https://basemap.nationalmap.gov/arcgis/rest/services/USGSImageryOnly/MapServer/tile/{z}/{y}/{x}\"\n",
    "            #     ]\n",
    "            # },\n",
    "            # {\n",
    "            #     \"below\": 'traces',\n",
    "            #     \"sourcetype\": \"raster\",\n",
    "            #     \"sourceattribution\": \"Bing Maps Satellite Imagery\",\n",
    "            #     \"source\": [\n",
    "            #         \"https://t0.tiles.virtualearth.net/tiles/a{q}.jpeg?g=685&mkt=en-us&n=z\"\n",
    "            #     ]\n",
    "            # },\n",
    "        \n",
    "\n",
    "        ]\n",
    "        )\n",
    "\n",
    "\n",
    "\n",
    "\n",
    "    # # Save the figure\n",
    "    fig_name_shoreline = f\"{print_val} Hotspot points.png\"\n",
    "    pio.write_image(fig, os.path.join(img_directory_path, fig_name_shoreline))\n",
    "\n",
    "    # Show the figure\n",
    "    fig.show()"
   ]
  }
 ],
 "metadata": {
  "kernelspec": {
   "display_name": "Python 3",
   "language": "python",
   "name": "python3"
  },
  "language_info": {
   "codemirror_mode": {
    "name": "ipython",
    "version": 3
   },
   "file_extension": ".py",
   "mimetype": "text/x-python",
   "name": "python",
   "nbconvert_exporter": "python",
   "pygments_lexer": "ipython3",
   "version": "3.11.7"
  }
 },
 "nbformat": 4,
 "nbformat_minor": 2
}
